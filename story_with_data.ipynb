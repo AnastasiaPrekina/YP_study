{
 "cells": [
  {
   "cell_type": "markdown",
   "metadata": {},
   "source": [
    "# Анализ рынка заведений общественного питания Москвы"
   ]
  },
  {
   "cell_type": "markdown",
   "metadata": {},
   "source": [
    "В данном проекте проводится исследование рынка общепита в Москве с целью получить инвестиции под небольше кафе, в котором гостей будут обслуживать роботы. Проект многообещающий, но дорогой. Вместе с партнёрами мы решились обратиться к инвесторам. Их интересует текущее положение дел на рынке — сможем ли мы снискать популярность на долгое время, когда все зеваки насмотрятся на роботов-официантов?\n",
    "В нашем распоряжении есть открытые данные о заведениях общественного питания в Москве и на их основе будет составлена презентация по итогам анализа."
   ]
  },
  {
   "cell_type": "markdown",
   "metadata": {},
   "source": [
    "## Изучение данных и предобработка"
   ]
  },
  {
   "cell_type": "code",
   "execution_count": 1,
   "metadata": {},
   "outputs": [],
   "source": [
    "import numpy as np \n",
    "import pandas as pd\n",
    "import warnings\n",
    "import matplotlib.pyplot as plt\n",
    "import seaborn as sns\n",
    "from pymystem3 import Mystem\n",
    "import re"
   ]
  },
  {
   "cell_type": "code",
   "execution_count": 2,
   "metadata": {},
   "outputs": [],
   "source": [
    "data = pd.read_csv('C:/Users/Анастасия/Documents/Jupiter_project/projects/story_with_data/rest_data.csv')"
   ]
  },
  {
   "cell_type": "markdown",
   "metadata": {},
   "source": [
    "Ознакомимся с представленными данными:"
   ]
  },
  {
   "cell_type": "code",
   "execution_count": 3,
   "metadata": {},
   "outputs": [
    {
     "name": "stdout",
     "output_type": "stream",
     "text": [
      "<class 'pandas.core.frame.DataFrame'>\n",
      "RangeIndex: 15366 entries, 0 to 15365\n",
      "Data columns (total 6 columns):\n",
      " #   Column       Non-Null Count  Dtype \n",
      "---  ------       --------------  ----- \n",
      " 0   id           15366 non-null  int64 \n",
      " 1   object_name  15366 non-null  object\n",
      " 2   chain        15366 non-null  object\n",
      " 3   object_type  15366 non-null  object\n",
      " 4   address      15366 non-null  object\n",
      " 5   number       15366 non-null  int64 \n",
      "dtypes: int64(2), object(4)\n",
      "memory usage: 720.4+ KB\n"
     ]
    },
    {
     "data": {
      "text/html": [
       "<div>\n",
       "<style scoped>\n",
       "    .dataframe tbody tr th:only-of-type {\n",
       "        vertical-align: middle;\n",
       "    }\n",
       "\n",
       "    .dataframe tbody tr th {\n",
       "        vertical-align: top;\n",
       "    }\n",
       "\n",
       "    .dataframe thead th {\n",
       "        text-align: right;\n",
       "    }\n",
       "</style>\n",
       "<table border=\"1\" class=\"dataframe\">\n",
       "  <thead>\n",
       "    <tr style=\"text-align: right;\">\n",
       "      <th></th>\n",
       "      <th>id</th>\n",
       "      <th>object_name</th>\n",
       "      <th>chain</th>\n",
       "      <th>object_type</th>\n",
       "      <th>address</th>\n",
       "      <th>number</th>\n",
       "    </tr>\n",
       "  </thead>\n",
       "  <tbody>\n",
       "    <tr>\n",
       "      <th>0</th>\n",
       "      <td>151635</td>\n",
       "      <td>СМЕТАНА</td>\n",
       "      <td>нет</td>\n",
       "      <td>кафе</td>\n",
       "      <td>город Москва, улица Егора Абакумова, дом 9</td>\n",
       "      <td>48</td>\n",
       "    </tr>\n",
       "    <tr>\n",
       "      <th>1</th>\n",
       "      <td>77874</td>\n",
       "      <td>Родник</td>\n",
       "      <td>нет</td>\n",
       "      <td>кафе</td>\n",
       "      <td>город Москва, улица Талалихина, дом 2/1, корпус 1</td>\n",
       "      <td>35</td>\n",
       "    </tr>\n",
       "    <tr>\n",
       "      <th>2</th>\n",
       "      <td>24309</td>\n",
       "      <td>Кафе «Академия»</td>\n",
       "      <td>нет</td>\n",
       "      <td>кафе</td>\n",
       "      <td>город Москва, Абельмановская улица, дом 6</td>\n",
       "      <td>95</td>\n",
       "    </tr>\n",
       "    <tr>\n",
       "      <th>3</th>\n",
       "      <td>21894</td>\n",
       "      <td>ПИЦЦЕТОРИЯ</td>\n",
       "      <td>да</td>\n",
       "      <td>кафе</td>\n",
       "      <td>город Москва, Абрамцевская улица, дом 1</td>\n",
       "      <td>40</td>\n",
       "    </tr>\n",
       "    <tr>\n",
       "      <th>4</th>\n",
       "      <td>119365</td>\n",
       "      <td>Кафе «Вишневая метель»</td>\n",
       "      <td>нет</td>\n",
       "      <td>кафе</td>\n",
       "      <td>город Москва, Абрамцевская улица, дом 9, корпус 1</td>\n",
       "      <td>50</td>\n",
       "    </tr>\n",
       "  </tbody>\n",
       "</table>\n",
       "</div>"
      ],
      "text/plain": [
       "       id             object_name chain object_type  \\\n",
       "0  151635                 СМЕТАНА   нет        кафе   \n",
       "1   77874                  Родник   нет        кафе   \n",
       "2   24309         Кафе «Академия»   нет        кафе   \n",
       "3   21894              ПИЦЦЕТОРИЯ    да        кафе   \n",
       "4  119365  Кафе «Вишневая метель»   нет        кафе   \n",
       "\n",
       "                                             address  number  \n",
       "0         город Москва, улица Егора Абакумова, дом 9      48  \n",
       "1  город Москва, улица Талалихина, дом 2/1, корпус 1      35  \n",
       "2          город Москва, Абельмановская улица, дом 6      95  \n",
       "3            город Москва, Абрамцевская улица, дом 1      40  \n",
       "4  город Москва, Абрамцевская улица, дом 9, корпус 1      50  "
      ]
     },
     "metadata": {},
     "output_type": "display_data"
    },
    {
     "name": "stdout",
     "output_type": "stream",
     "text": [
      "Index(['id', 'object_name', 'chain', 'object_type', 'address', 'number'], dtype='object')\n"
     ]
    },
    {
     "data": {
      "text/html": [
       "<style type=\"text/css\">\n",
       "</style>\n",
       "<table id=\"T_71b82\">\n",
       "  <thead>\n",
       "    <tr>\n",
       "      <th class=\"blank level0\" >&nbsp;</th>\n",
       "      <th id=\"T_71b82_level0_col0\" class=\"col_heading level0 col0\" >NaNs,%</th>\n",
       "    </tr>\n",
       "  </thead>\n",
       "  <tbody>\n",
       "    <tr>\n",
       "      <th id=\"T_71b82_level0_row0\" class=\"row_heading level0 row0\" >id</th>\n",
       "      <td id=\"T_71b82_row0_col0\" class=\"data row0 col0\" >0.00</td>\n",
       "    </tr>\n",
       "    <tr>\n",
       "      <th id=\"T_71b82_level0_row1\" class=\"row_heading level0 row1\" >object_name</th>\n",
       "      <td id=\"T_71b82_row1_col0\" class=\"data row1 col0\" >0.00</td>\n",
       "    </tr>\n",
       "    <tr>\n",
       "      <th id=\"T_71b82_level0_row2\" class=\"row_heading level0 row2\" >chain</th>\n",
       "      <td id=\"T_71b82_row2_col0\" class=\"data row2 col0\" >0.00</td>\n",
       "    </tr>\n",
       "    <tr>\n",
       "      <th id=\"T_71b82_level0_row3\" class=\"row_heading level0 row3\" >object_type</th>\n",
       "      <td id=\"T_71b82_row3_col0\" class=\"data row3 col0\" >0.00</td>\n",
       "    </tr>\n",
       "    <tr>\n",
       "      <th id=\"T_71b82_level0_row4\" class=\"row_heading level0 row4\" >address</th>\n",
       "      <td id=\"T_71b82_row4_col0\" class=\"data row4 col0\" >0.00</td>\n",
       "    </tr>\n",
       "    <tr>\n",
       "      <th id=\"T_71b82_level0_row5\" class=\"row_heading level0 row5\" >number</th>\n",
       "      <td id=\"T_71b82_row5_col0\" class=\"data row5 col0\" >0.00</td>\n",
       "    </tr>\n",
       "  </tbody>\n",
       "</table>\n"
      ],
      "text/plain": [
       "<pandas.io.formats.style.Styler at 0x26ccf8ae670>"
      ]
     },
     "execution_count": 3,
     "metadata": {},
     "output_type": "execute_result"
    }
   ],
   "source": [
    "data.info()\n",
    "display(data.head())\n",
    "print(data.columns)\n",
    "pd.DataFrame(round((data.isna().mean() * 100), 2), columns=['NaNs,%']).style.format('{:.2f}')"
   ]
  },
  {
   "cell_type": "markdown",
   "metadata": {},
   "source": [
    "Таблица `rest_data`:\n",
    "  \n",
    "`id` — идентификатор объекта;  \n",
    "`object_name` — название объекта общественного питания;  \n",
    "`chain` — сетевой ресторан;  \n",
    "`object_type` — тип объекта общественного питания;  \n",
    "`address` — адрес;  \n",
    "`number` — количество посадочных мест.  "
   ]
  },
  {
   "cell_type": "markdown",
   "metadata": {},
   "source": [
    "Типы данных по столбцам ок, названия самих столбцов тоже, пропусков в данных нет. Для дальнейшего удобства и исключения дубликатов приведем информацию в таблице полностью к нижнему регистру:"
   ]
  },
  {
   "cell_type": "code",
   "execution_count": 4,
   "metadata": {},
   "outputs": [
    {
     "data": {
      "text/html": [
       "<div>\n",
       "<style scoped>\n",
       "    .dataframe tbody tr th:only-of-type {\n",
       "        vertical-align: middle;\n",
       "    }\n",
       "\n",
       "    .dataframe tbody tr th {\n",
       "        vertical-align: top;\n",
       "    }\n",
       "\n",
       "    .dataframe thead th {\n",
       "        text-align: right;\n",
       "    }\n",
       "</style>\n",
       "<table border=\"1\" class=\"dataframe\">\n",
       "  <thead>\n",
       "    <tr style=\"text-align: right;\">\n",
       "      <th></th>\n",
       "      <th>id</th>\n",
       "      <th>object_name</th>\n",
       "      <th>chain</th>\n",
       "      <th>object_type</th>\n",
       "      <th>address</th>\n",
       "      <th>number</th>\n",
       "    </tr>\n",
       "  </thead>\n",
       "  <tbody>\n",
       "    <tr>\n",
       "      <th>0</th>\n",
       "      <td>151635</td>\n",
       "      <td>сметана</td>\n",
       "      <td>нет</td>\n",
       "      <td>кафе</td>\n",
       "      <td>город москва, улица егора абакумова, дом 9</td>\n",
       "      <td>48</td>\n",
       "    </tr>\n",
       "    <tr>\n",
       "      <th>1</th>\n",
       "      <td>77874</td>\n",
       "      <td>родник</td>\n",
       "      <td>нет</td>\n",
       "      <td>кафе</td>\n",
       "      <td>город москва, улица талалихина, дом 2/1, корпус 1</td>\n",
       "      <td>35</td>\n",
       "    </tr>\n",
       "    <tr>\n",
       "      <th>2</th>\n",
       "      <td>24309</td>\n",
       "      <td>кафе «академия»</td>\n",
       "      <td>нет</td>\n",
       "      <td>кафе</td>\n",
       "      <td>город москва, абельмановская улица, дом 6</td>\n",
       "      <td>95</td>\n",
       "    </tr>\n",
       "    <tr>\n",
       "      <th>3</th>\n",
       "      <td>21894</td>\n",
       "      <td>пиццетория</td>\n",
       "      <td>да</td>\n",
       "      <td>кафе</td>\n",
       "      <td>город москва, абрамцевская улица, дом 1</td>\n",
       "      <td>40</td>\n",
       "    </tr>\n",
       "    <tr>\n",
       "      <th>4</th>\n",
       "      <td>119365</td>\n",
       "      <td>кафе «вишневая метель»</td>\n",
       "      <td>нет</td>\n",
       "      <td>кафе</td>\n",
       "      <td>город москва, абрамцевская улица, дом 9, корпус 1</td>\n",
       "      <td>50</td>\n",
       "    </tr>\n",
       "  </tbody>\n",
       "</table>\n",
       "</div>"
      ],
      "text/plain": [
       "       id             object_name chain object_type  \\\n",
       "0  151635                 сметана   нет        кафе   \n",
       "1   77874                  родник   нет        кафе   \n",
       "2   24309         кафе «академия»   нет        кафе   \n",
       "3   21894              пиццетория    да        кафе   \n",
       "4  119365  кафе «вишневая метель»   нет        кафе   \n",
       "\n",
       "                                             address  number  \n",
       "0         город москва, улица егора абакумова, дом 9      48  \n",
       "1  город москва, улица талалихина, дом 2/1, корпус 1      35  \n",
       "2          город москва, абельмановская улица, дом 6      95  \n",
       "3            город москва, абрамцевская улица, дом 1      40  \n",
       "4  город москва, абрамцевская улица, дом 9, корпус 1      50  "
      ]
     },
     "execution_count": 4,
     "metadata": {},
     "output_type": "execute_result"
    }
   ],
   "source": [
    "for column in data.columns:\n",
    "    try:\n",
    "        data[column] = data[column].str.lower()\n",
    "    except:\n",
    "        continue\n",
    "data.head()"
   ]
  },
  {
   "cell_type": "markdown",
   "metadata": {},
   "source": [
    "Проверим данные на наличие дубликатов:"
   ]
  },
  {
   "cell_type": "code",
   "execution_count": 5,
   "metadata": {},
   "outputs": [
    {
     "name": "stdout",
     "output_type": "stream",
     "text": [
      "Полных дубликатов строк 0\n"
     ]
    }
   ],
   "source": [
    "print('Полных дубликатов строк', data.duplicated().sum())"
   ]
  },
  {
   "cell_type": "markdown",
   "metadata": {},
   "source": [
    "Полных дубликатов нет, но посмотрим внимательнее по значениям в ключевых столбцах:"
   ]
  },
  {
   "cell_type": "code",
   "execution_count": 6,
   "metadata": {},
   "outputs": [
    {
     "name": "stdout",
     "output_type": "stream",
     "text": [
      "Дубликатов строк 85\n"
     ]
    },
    {
     "data": {
      "text/html": [
       "<div>\n",
       "<style scoped>\n",
       "    .dataframe tbody tr th:only-of-type {\n",
       "        vertical-align: middle;\n",
       "    }\n",
       "\n",
       "    .dataframe tbody tr th {\n",
       "        vertical-align: top;\n",
       "    }\n",
       "\n",
       "    .dataframe thead th {\n",
       "        text-align: right;\n",
       "    }\n",
       "</style>\n",
       "<table border=\"1\" class=\"dataframe\">\n",
       "  <thead>\n",
       "    <tr style=\"text-align: right;\">\n",
       "      <th></th>\n",
       "      <th>id</th>\n",
       "      <th>object_name</th>\n",
       "      <th>chain</th>\n",
       "      <th>object_type</th>\n",
       "      <th>address</th>\n",
       "      <th>number</th>\n",
       "    </tr>\n",
       "  </thead>\n",
       "  <tbody>\n",
       "    <tr>\n",
       "      <th>2381</th>\n",
       "      <td>28611</td>\n",
       "      <td>комбинат питания мгту им.н.э.баумана</td>\n",
       "      <td>нет</td>\n",
       "      <td>столовая</td>\n",
       "      <td>город москва, 2-я бауманская улица, дом 5, стр...</td>\n",
       "      <td>100</td>\n",
       "    </tr>\n",
       "    <tr>\n",
       "      <th>3397</th>\n",
       "      <td>71896</td>\n",
       "      <td>буфет «коникс-школьник»</td>\n",
       "      <td>нет</td>\n",
       "      <td>буфет</td>\n",
       "      <td>город москва, улица удальцова, дом 21</td>\n",
       "      <td>100</td>\n",
       "    </tr>\n",
       "    <tr>\n",
       "      <th>3481</th>\n",
       "      <td>20914</td>\n",
       "      <td>буфет мади</td>\n",
       "      <td>нет</td>\n",
       "      <td>буфет</td>\n",
       "      <td>город москва, ленинградский проспект, дом 64</td>\n",
       "      <td>40</td>\n",
       "    </tr>\n",
       "    <tr>\n",
       "      <th>4431</th>\n",
       "      <td>23759</td>\n",
       "      <td>столовая гбоу города москвы № 384</td>\n",
       "      <td>нет</td>\n",
       "      <td>буфет</td>\n",
       "      <td>город москва, беловежская улица, дом 67</td>\n",
       "      <td>100</td>\n",
       "    </tr>\n",
       "    <tr>\n",
       "      <th>4537</th>\n",
       "      <td>23391</td>\n",
       "      <td>столовая «комбинат питания космос»</td>\n",
       "      <td>нет</td>\n",
       "      <td>столовая</td>\n",
       "      <td>город москва, новозаводская улица, дом 12/11</td>\n",
       "      <td>15</td>\n",
       "    </tr>\n",
       "    <tr>\n",
       "      <th>5059</th>\n",
       "      <td>20021</td>\n",
       "      <td>lift</td>\n",
       "      <td>нет</td>\n",
       "      <td>кафе</td>\n",
       "      <td>город москва, багратионовский проезд, дом 7, к...</td>\n",
       "      <td>20</td>\n",
       "    </tr>\n",
       "    <tr>\n",
       "      <th>5069</th>\n",
       "      <td>20025</td>\n",
       "      <td>lift</td>\n",
       "      <td>нет</td>\n",
       "      <td>кафе</td>\n",
       "      <td>город москва, багратионовский проезд, дом 7, к...</td>\n",
       "      <td>10</td>\n",
       "    </tr>\n",
       "    <tr>\n",
       "      <th>5147</th>\n",
       "      <td>145227</td>\n",
       "      <td>кафе при азс</td>\n",
       "      <td>нет</td>\n",
       "      <td>кафе</td>\n",
       "      <td>город москва, огородный проезд, дом 7, строение 1</td>\n",
       "      <td>0</td>\n",
       "    </tr>\n",
       "    <tr>\n",
       "      <th>5185</th>\n",
       "      <td>107442</td>\n",
       "      <td>кафе</td>\n",
       "      <td>нет</td>\n",
       "      <td>кафе</td>\n",
       "      <td>город москва, 1-я останкинская улица, дом 55</td>\n",
       "      <td>20</td>\n",
       "    </tr>\n",
       "    <tr>\n",
       "      <th>5186</th>\n",
       "      <td>107574</td>\n",
       "      <td>кафе</td>\n",
       "      <td>нет</td>\n",
       "      <td>кафе</td>\n",
       "      <td>город москва, 1-я останкинская улица, дом 55</td>\n",
       "      <td>10</td>\n",
       "    </tr>\n",
       "    <tr>\n",
       "      <th>5188</th>\n",
       "      <td>107466</td>\n",
       "      <td>кафе</td>\n",
       "      <td>нет</td>\n",
       "      <td>кафе</td>\n",
       "      <td>город москва, 1-я останкинская улица, дом 55</td>\n",
       "      <td>5</td>\n",
       "    </tr>\n",
       "    <tr>\n",
       "      <th>5190</th>\n",
       "      <td>107480</td>\n",
       "      <td>кафе</td>\n",
       "      <td>нет</td>\n",
       "      <td>кафе</td>\n",
       "      <td>город москва, 1-я останкинская улица, дом 55</td>\n",
       "      <td>5</td>\n",
       "    </tr>\n",
       "    <tr>\n",
       "      <th>5690</th>\n",
       "      <td>102011</td>\n",
       "      <td>кафе</td>\n",
       "      <td>нет</td>\n",
       "      <td>предприятие быстрого обслуживания</td>\n",
       "      <td>город москва, большая семёновская улица, дом 16</td>\n",
       "      <td>5</td>\n",
       "    </tr>\n",
       "    <tr>\n",
       "      <th>5762</th>\n",
       "      <td>134324</td>\n",
       "      <td>алекс</td>\n",
       "      <td>нет</td>\n",
       "      <td>кафе</td>\n",
       "      <td>город москва, тихорецкий бульвар, владение 1, ...</td>\n",
       "      <td>45</td>\n",
       "    </tr>\n",
       "    <tr>\n",
       "      <th>5914</th>\n",
       "      <td>109930</td>\n",
       "      <td>павильон «кукуруза»</td>\n",
       "      <td>нет</td>\n",
       "      <td>закусочная</td>\n",
       "      <td>город москва, люблинская улица, дом 153</td>\n",
       "      <td>2</td>\n",
       "    </tr>\n",
       "  </tbody>\n",
       "</table>\n",
       "</div>"
      ],
      "text/plain": [
       "          id                           object_name chain  \\\n",
       "2381   28611  комбинат питания мгту им.н.э.баумана   нет   \n",
       "3397   71896               буфет «коникс-школьник»   нет   \n",
       "3481   20914                            буфет мади   нет   \n",
       "4431   23759     столовая гбоу города москвы № 384   нет   \n",
       "4537   23391    столовая «комбинат питания космос»   нет   \n",
       "5059   20021                                  lift   нет   \n",
       "5069   20025                                  lift   нет   \n",
       "5147  145227                          кафе при азс   нет   \n",
       "5185  107442                                  кафе   нет   \n",
       "5186  107574                                  кафе   нет   \n",
       "5188  107466                                  кафе   нет   \n",
       "5190  107480                                  кафе   нет   \n",
       "5690  102011                                  кафе   нет   \n",
       "5762  134324                                 алекс   нет   \n",
       "5914  109930                   павильон «кукуруза»   нет   \n",
       "\n",
       "                            object_type  \\\n",
       "2381                           столовая   \n",
       "3397                              буфет   \n",
       "3481                              буфет   \n",
       "4431                              буфет   \n",
       "4537                           столовая   \n",
       "5059                               кафе   \n",
       "5069                               кафе   \n",
       "5147                               кафе   \n",
       "5185                               кафе   \n",
       "5186                               кафе   \n",
       "5188                               кафе   \n",
       "5190                               кафе   \n",
       "5690  предприятие быстрого обслуживания   \n",
       "5762                               кафе   \n",
       "5914                         закусочная   \n",
       "\n",
       "                                                address  number  \n",
       "2381  город москва, 2-я бауманская улица, дом 5, стр...     100  \n",
       "3397              город москва, улица удальцова, дом 21     100  \n",
       "3481       город москва, ленинградский проспект, дом 64      40  \n",
       "4431            город москва, беловежская улица, дом 67     100  \n",
       "4537       город москва, новозаводская улица, дом 12/11      15  \n",
       "5059  город москва, багратионовский проезд, дом 7, к...      20  \n",
       "5069  город москва, багратионовский проезд, дом 7, к...      10  \n",
       "5147  город москва, огородный проезд, дом 7, строение 1       0  \n",
       "5185       город москва, 1-я останкинская улица, дом 55      20  \n",
       "5186       город москва, 1-я останкинская улица, дом 55      10  \n",
       "5188       город москва, 1-я останкинская улица, дом 55       5  \n",
       "5190       город москва, 1-я останкинская улица, дом 55       5  \n",
       "5690    город москва, большая семёновская улица, дом 16       5  \n",
       "5762  город москва, тихорецкий бульвар, владение 1, ...      45  \n",
       "5914            город москва, люблинская улица, дом 153       2  "
      ]
     },
     "execution_count": 6,
     "metadata": {},
     "output_type": "execute_result"
    }
   ],
   "source": [
    "print('Дубликатов строк', data[data.duplicated(['object_name', 'chain', 'object_type', 'address', 'number'])]['id'].count())\n",
    "data[data.duplicated(['object_name', 'chain', 'object_type', 'address', 'number'])].head(15)"
   ]
  },
  {
   "cell_type": "markdown",
   "metadata": {},
   "source": [
    "Как видим, есть дубликаты по данным столбцам, при этом название \"кафе\" плохо идентифицирует заведение, не факт, что это дубликат, а не разные заведения по одному адресу, но таких строк 85, лучше от них избавиться:"
   ]
  },
  {
   "cell_type": "code",
   "execution_count": 7,
   "metadata": {},
   "outputs": [],
   "source": [
    "data = data.drop_duplicates(subset=['object_name', 'chain', 'object_type', 'address', 'number'], keep=\"last\")"
   ]
  },
  {
   "cell_type": "markdown",
   "metadata": {},
   "source": [
    "Проверим значения по отдельным столбцам на \"адекватность\":"
   ]
  },
  {
   "cell_type": "code",
   "execution_count": 8,
   "metadata": {},
   "outputs": [
    {
     "data": {
      "text/plain": [
       "нет    12317\n",
       "да      2964\n",
       "Name: chain, dtype: int64"
      ]
     },
     "execution_count": 8,
     "metadata": {},
     "output_type": "execute_result"
    }
   ],
   "source": [
    "data['chain'].value_counts()"
   ]
  },
  {
   "cell_type": "code",
   "execution_count": 9,
   "metadata": {},
   "outputs": [
    {
     "data": {
      "text/plain": [
       "кафе                                 6071\n",
       "столовая                             2584\n",
       "ресторан                             2282\n",
       "предприятие быстрого обслуживания    1897\n",
       "бар                                   855\n",
       "буфет                                 576\n",
       "кафетерий                             395\n",
       "закусочная                            348\n",
       "магазин (отдел кулинарии)             273\n",
       "Name: object_type, dtype: int64"
      ]
     },
     "execution_count": 9,
     "metadata": {},
     "output_type": "execute_result"
    }
   ],
   "source": [
    "data['object_type'].value_counts()"
   ]
  },
  {
   "cell_type": "markdown",
   "metadata": {},
   "source": [
    "Заменим некоторые значеняи на аналогичные по смыслу, но более компактные и простые для восприятия."
   ]
  },
  {
   "cell_type": "code",
   "execution_count": 10,
   "metadata": {},
   "outputs": [
    {
     "data": {
      "text/plain": [
       "кафе          6071\n",
       "столовая      2584\n",
       "ресторан      2282\n",
       "fast food     1897\n",
       "бар            855\n",
       "буфет          576\n",
       "кафетерий      395\n",
       "закусочная     348\n",
       "кулинария      273\n",
       "Name: object_type, dtype: int64"
      ]
     },
     "execution_count": 10,
     "metadata": {},
     "output_type": "execute_result"
    }
   ],
   "source": [
    "data['object_type'] = np.where(data['object_type'] == 'магазин (отдел кулинарии)', 'кулинария', data['object_type'])\n",
    "data['object_type'] = np.where(data['object_type'] == 'предприятие быстрого обслуживания', 'fast food', data['object_type'])\n",
    "data['object_type'].value_counts()"
   ]
  },
  {
   "cell_type": "code",
   "execution_count": 11,
   "metadata": {},
   "outputs": [
    {
     "data": {
      "text/plain": [
       "count    15281.000000\n",
       "mean        59.788234\n",
       "std         74.843042\n",
       "min          0.000000\n",
       "25%         14.000000\n",
       "50%         40.000000\n",
       "75%         80.000000\n",
       "max       1700.000000\n",
       "Name: number, dtype: float64"
      ]
     },
     "execution_count": 11,
     "metadata": {},
     "output_type": "execute_result"
    }
   ],
   "source": [
    "data['number'].describe()"
   ]
  },
  {
   "cell_type": "markdown",
   "metadata": {},
   "source": [
    "В целом информация выглядит правдиво, без каких-либо выбросов и ошибок."
   ]
  },
  {
   "cell_type": "code",
   "execution_count": 12,
   "metadata": {
    "scrolled": true
   },
   "outputs": [
    {
     "name": "stdout",
     "output_type": "stream",
     "text": [
      "<class 'pandas.core.frame.DataFrame'>\n",
      "Int64Index: 15281 entries, 0 to 15365\n",
      "Data columns (total 6 columns):\n",
      " #   Column       Non-Null Count  Dtype \n",
      "---  ------       --------------  ----- \n",
      " 0   id           15281 non-null  int64 \n",
      " 1   object_name  15281 non-null  object\n",
      " 2   chain        15281 non-null  object\n",
      " 3   object_type  15281 non-null  object\n",
      " 4   address      15281 non-null  object\n",
      " 5   number       15281 non-null  int64 \n",
      "dtypes: int64(2), object(4)\n",
      "memory usage: 835.7+ KB\n"
     ]
    }
   ],
   "source": [
    "data.info()"
   ]
  },
  {
   "cell_type": "markdown",
   "metadata": {},
   "source": [
    "<div style=\"border:solid SandyBrown 2px; padding: 20px\">  \n",
    "    Вывод: в результате предобработки не было обнаружено полных дубликатов, пропусков или каких-либо очевидных ошибок в данных. Все типы данных приведены к максимально удобным. Названия столбцов соотвествуют общепринятому стилю. Информация в стобцах также была приведена в нижнему регистру для удобства. Удалены неполные дубликаты(85 строк). Итоговый датасет содержит 15281 строку."
   ]
  },
  {
   "cell_type": "markdown",
   "metadata": {},
   "source": [
    "## Анализ данных"
   ]
  },
  {
   "cell_type": "markdown",
   "metadata": {},
   "source": [
    "### Cоотношение видов объектов общественного питания по количеству"
   ]
  },
  {
   "cell_type": "code",
   "execution_count": 13,
   "metadata": {},
   "outputs": [
    {
     "data": {
      "text/html": [
       "<div>\n",
       "<style scoped>\n",
       "    .dataframe tbody tr th:only-of-type {\n",
       "        vertical-align: middle;\n",
       "    }\n",
       "\n",
       "    .dataframe tbody tr th {\n",
       "        vertical-align: top;\n",
       "    }\n",
       "\n",
       "    .dataframe thead th {\n",
       "        text-align: right;\n",
       "    }\n",
       "</style>\n",
       "<table border=\"1\" class=\"dataframe\">\n",
       "  <thead>\n",
       "    <tr style=\"text-align: right;\">\n",
       "      <th></th>\n",
       "      <th>object_type</th>\n",
       "      <th>id</th>\n",
       "    </tr>\n",
       "  </thead>\n",
       "  <tbody>\n",
       "    <tr>\n",
       "      <th>4</th>\n",
       "      <td>кафе</td>\n",
       "      <td>6071</td>\n",
       "    </tr>\n",
       "    <tr>\n",
       "      <th>8</th>\n",
       "      <td>столовая</td>\n",
       "      <td>2584</td>\n",
       "    </tr>\n",
       "    <tr>\n",
       "      <th>7</th>\n",
       "      <td>ресторан</td>\n",
       "      <td>2282</td>\n",
       "    </tr>\n",
       "    <tr>\n",
       "      <th>0</th>\n",
       "      <td>fast food</td>\n",
       "      <td>1897</td>\n",
       "    </tr>\n",
       "    <tr>\n",
       "      <th>1</th>\n",
       "      <td>бар</td>\n",
       "      <td>855</td>\n",
       "    </tr>\n",
       "    <tr>\n",
       "      <th>2</th>\n",
       "      <td>буфет</td>\n",
       "      <td>576</td>\n",
       "    </tr>\n",
       "    <tr>\n",
       "      <th>5</th>\n",
       "      <td>кафетерий</td>\n",
       "      <td>395</td>\n",
       "    </tr>\n",
       "    <tr>\n",
       "      <th>3</th>\n",
       "      <td>закусочная</td>\n",
       "      <td>348</td>\n",
       "    </tr>\n",
       "    <tr>\n",
       "      <th>6</th>\n",
       "      <td>кулинария</td>\n",
       "      <td>273</td>\n",
       "    </tr>\n",
       "  </tbody>\n",
       "</table>\n",
       "</div>"
      ],
      "text/plain": [
       "  object_type    id\n",
       "4        кафе  6071\n",
       "8    столовая  2584\n",
       "7    ресторан  2282\n",
       "0   fast food  1897\n",
       "1         бар   855\n",
       "2       буфет   576\n",
       "5   кафетерий   395\n",
       "3  закусочная   348\n",
       "6   кулинария   273"
      ]
     },
     "execution_count": 13,
     "metadata": {},
     "output_type": "execute_result"
    }
   ],
   "source": [
    "types = data.pivot_table(index='object_type', \n",
    "                               values = 'id', \n",
    "                               aggfunc = 'count').reset_index().sort_values(by='id', ascending=False)\n",
    "types"
   ]
  },
  {
   "cell_type": "code",
   "execution_count": 14,
   "metadata": {
    "scrolled": false
   },
   "outputs": [
    {
     "data": {
      "image/png": "[encoded data removed]",
      "text/plain": [
       "<Figure size 1008x576 with 1 Axes>"
      ]
     },
     "metadata": {},
     "output_type": "display_data"
    }
   ],
   "source": [
    "sns.set_theme(style=\"whitegrid\")\n",
    "plt.figure(figsize=(14, 8))\n",
    "ax = sns.barplot(x = 'id', y = 'object_type', data = types, palette=\"Paired\")\n",
    "\n",
    "\n",
    "for p in ax.patches:\n",
    "    height = p.get_height() \n",
    "    width = p.get_width() \n",
    "    ax.text(x = width+3, \n",
    "    y = p.get_y()+(height/2), \n",
    "    s = '{:.0f}'.format(width),\n",
    "    va = 'center')\n",
    "    \n",
    "plt.xlabel('Количество объектов')\n",
    "plt.ylabel('Вид объекта')\n",
    "plt.title('Количество объектов общественного питания по их видам', fontsize = 18);\n",
    "#plt.savefig('1.png');"
   ]
  },
  {
   "cell_type": "code",
   "execution_count": 15,
   "metadata": {},
   "outputs": [
    {
     "data": {
      "image/png": "[encoded data removed]",
      "text/plain": [
       "<Figure size 720x576 with 1 Axes>"
      ]
     },
     "metadata": {},
     "output_type": "display_data"
    }
   ],
   "source": [
    "plt.figure(figsize=(10, 8))\n",
    "explode = [0.3,0.02,0.02,0.02,0.02,0.02,0.02,0.02,0.02]\n",
    "colors = sns.color_palette('Paired')\n",
    "plt.pie(types['id'], labels=types['object_type'], colors = colors, autopct = '%0.0f%%', explode = explode);\n",
    "#plt.savefig('2.png');"
   ]
  },
  {
   "cell_type": "markdown",
   "metadata": {},
   "source": [
    "40% объектов составляют кафе, в абсолютных величинах это 6071 объект. На втором месте по популярности столовые - 17%, 2584 объекста. Меньше всего кулинарий, закусочных и кафетериев, суммарно их менее 10% от общего числа."
   ]
  },
  {
   "cell_type": "markdown",
   "metadata": {},
   "source": [
    "### Cоотношение сетевых и несетевых заведений по количеству"
   ]
  },
  {
   "cell_type": "code",
   "execution_count": 16,
   "metadata": {},
   "outputs": [
    {
     "data": {
      "text/html": [
       "<div>\n",
       "<style scoped>\n",
       "    .dataframe tbody tr th:only-of-type {\n",
       "        vertical-align: middle;\n",
       "    }\n",
       "\n",
       "    .dataframe tbody tr th {\n",
       "        vertical-align: top;\n",
       "    }\n",
       "\n",
       "    .dataframe thead th {\n",
       "        text-align: right;\n",
       "    }\n",
       "</style>\n",
       "<table border=\"1\" class=\"dataframe\">\n",
       "  <thead>\n",
       "    <tr style=\"text-align: right;\">\n",
       "      <th></th>\n",
       "      <th>chain</th>\n",
       "      <th>id</th>\n",
       "    </tr>\n",
       "  </thead>\n",
       "  <tbody>\n",
       "    <tr>\n",
       "      <th>1</th>\n",
       "      <td>нет</td>\n",
       "      <td>12317</td>\n",
       "    </tr>\n",
       "    <tr>\n",
       "      <th>0</th>\n",
       "      <td>да</td>\n",
       "      <td>2964</td>\n",
       "    </tr>\n",
       "  </tbody>\n",
       "</table>\n",
       "</div>"
      ],
      "text/plain": [
       "  chain     id\n",
       "1   нет  12317\n",
       "0    да   2964"
      ]
     },
     "execution_count": 16,
     "metadata": {},
     "output_type": "execute_result"
    }
   ],
   "source": [
    "chain = data.pivot_table(index='chain', \n",
    "                               values = 'id', \n",
    "                               aggfunc = 'count').reset_index().sort_values(by='id', ascending=False)\n",
    "chain"
   ]
  },
  {
   "cell_type": "code",
   "execution_count": 17,
   "metadata": {
    "scrolled": true
   },
   "outputs": [
    {
     "data": {
      "image/png": "[encoded data removed]",
      "text/plain": [
       "<Figure size 1008x360 with 1 Axes>"
      ]
     },
     "metadata": {},
     "output_type": "display_data"
    }
   ],
   "source": [
    "sns.set_theme(style=\"whitegrid\")\n",
    "plt.figure(figsize=(14, 5))\n",
    "ax = sns.barplot(x = 'id', y = 'chain', data = chain, palette=\"Paired\")\n",
    "\n",
    "\n",
    "for p in ax.patches:\n",
    "    height = p.get_height() \n",
    "    width = p.get_width() \n",
    "    ax.text(x = width+3, \n",
    "    y = p.get_y()+(height/2), \n",
    "    s = '{:.0f}'.format(width),\n",
    "    va = 'center')\n",
    "    \n",
    "plt.xlabel('Количество объектов')\n",
    "plt.ylabel('Сетевой да/нет')\n",
    "plt.title('Количество объектов общественного питания по их видам', fontsize = 18);\n",
    "#plt.savefig('3.png');"
   ]
  },
  {
   "cell_type": "code",
   "execution_count": 18,
   "metadata": {
    "scrolled": true
   },
   "outputs": [
    {
     "data": {
      "image/png": "[encoded data removed]",
      "text/plain": [
       "<Figure size 720x360 with 1 Axes>"
      ]
     },
     "metadata": {},
     "output_type": "display_data"
    }
   ],
   "source": [
    "plt.figure(figsize=(10, 5))\n",
    "explode = [0.3,0.02]\n",
    "colors = sns.color_palette('Paired')\n",
    "plt.pie(chain['id'], labels=chain['chain'], colors = colors, autopct = '%1.1f%%', explode = explode);\n",
    "#plt.savefig('4.png');"
   ]
  },
  {
   "cell_type": "markdown",
   "metadata": {},
   "source": [
    "Несетевых объектов абслоютное большинство - 80,6% против сетевых 19,4%. В абсолютных величинах это 12317 против 2964."
   ]
  },
  {
   "cell_type": "markdown",
   "metadata": {},
   "source": [
    "### Для какого вида объекта общественного питания характерно сетевое распространение?"
   ]
  },
  {
   "cell_type": "code",
   "execution_count": 19,
   "metadata": {},
   "outputs": [
    {
     "data": {
      "text/html": [
       "<div>\n",
       "<style scoped>\n",
       "    .dataframe tbody tr th:only-of-type {\n",
       "        vertical-align: middle;\n",
       "    }\n",
       "\n",
       "    .dataframe tbody tr th {\n",
       "        vertical-align: top;\n",
       "    }\n",
       "\n",
       "    .dataframe thead th {\n",
       "        text-align: right;\n",
       "    }\n",
       "</style>\n",
       "<table border=\"1\" class=\"dataframe\">\n",
       "  <thead>\n",
       "    <tr style=\"text-align: right;\">\n",
       "      <th></th>\n",
       "      <th>object_type</th>\n",
       "      <th>chain</th>\n",
       "      <th>id</th>\n",
       "    </tr>\n",
       "  </thead>\n",
       "  <tbody>\n",
       "    <tr>\n",
       "      <th>0</th>\n",
       "      <td>fast food</td>\n",
       "      <td>да</td>\n",
       "      <td>788</td>\n",
       "    </tr>\n",
       "    <tr>\n",
       "      <th>1</th>\n",
       "      <td>fast food</td>\n",
       "      <td>нет</td>\n",
       "      <td>1109</td>\n",
       "    </tr>\n",
       "    <tr>\n",
       "      <th>2</th>\n",
       "      <td>бар</td>\n",
       "      <td>да</td>\n",
       "      <td>37</td>\n",
       "    </tr>\n",
       "    <tr>\n",
       "      <th>3</th>\n",
       "      <td>бар</td>\n",
       "      <td>нет</td>\n",
       "      <td>818</td>\n",
       "    </tr>\n",
       "    <tr>\n",
       "      <th>4</th>\n",
       "      <td>буфет</td>\n",
       "      <td>да</td>\n",
       "      <td>11</td>\n",
       "    </tr>\n",
       "    <tr>\n",
       "      <th>5</th>\n",
       "      <td>буфет</td>\n",
       "      <td>нет</td>\n",
       "      <td>565</td>\n",
       "    </tr>\n",
       "    <tr>\n",
       "      <th>6</th>\n",
       "      <td>закусочная</td>\n",
       "      <td>да</td>\n",
       "      <td>56</td>\n",
       "    </tr>\n",
       "    <tr>\n",
       "      <th>7</th>\n",
       "      <td>закусочная</td>\n",
       "      <td>нет</td>\n",
       "      <td>292</td>\n",
       "    </tr>\n",
       "    <tr>\n",
       "      <th>8</th>\n",
       "      <td>кафе</td>\n",
       "      <td>да</td>\n",
       "      <td>1396</td>\n",
       "    </tr>\n",
       "    <tr>\n",
       "      <th>9</th>\n",
       "      <td>кафе</td>\n",
       "      <td>нет</td>\n",
       "      <td>4675</td>\n",
       "    </tr>\n",
       "    <tr>\n",
       "      <th>10</th>\n",
       "      <td>кафетерий</td>\n",
       "      <td>да</td>\n",
       "      <td>52</td>\n",
       "    </tr>\n",
       "    <tr>\n",
       "      <th>11</th>\n",
       "      <td>кафетерий</td>\n",
       "      <td>нет</td>\n",
       "      <td>343</td>\n",
       "    </tr>\n",
       "    <tr>\n",
       "      <th>12</th>\n",
       "      <td>кулинария</td>\n",
       "      <td>да</td>\n",
       "      <td>78</td>\n",
       "    </tr>\n",
       "    <tr>\n",
       "      <th>13</th>\n",
       "      <td>кулинария</td>\n",
       "      <td>нет</td>\n",
       "      <td>195</td>\n",
       "    </tr>\n",
       "    <tr>\n",
       "      <th>14</th>\n",
       "      <td>ресторан</td>\n",
       "      <td>да</td>\n",
       "      <td>543</td>\n",
       "    </tr>\n",
       "    <tr>\n",
       "      <th>15</th>\n",
       "      <td>ресторан</td>\n",
       "      <td>нет</td>\n",
       "      <td>1739</td>\n",
       "    </tr>\n",
       "    <tr>\n",
       "      <th>16</th>\n",
       "      <td>столовая</td>\n",
       "      <td>да</td>\n",
       "      <td>3</td>\n",
       "    </tr>\n",
       "    <tr>\n",
       "      <th>17</th>\n",
       "      <td>столовая</td>\n",
       "      <td>нет</td>\n",
       "      <td>2581</td>\n",
       "    </tr>\n",
       "  </tbody>\n",
       "</table>\n",
       "</div>"
      ],
      "text/plain": [
       "   object_type chain    id\n",
       "0    fast food    да   788\n",
       "1    fast food   нет  1109\n",
       "2          бар    да    37\n",
       "3          бар   нет   818\n",
       "4        буфет    да    11\n",
       "5        буфет   нет   565\n",
       "6   закусочная    да    56\n",
       "7   закусочная   нет   292\n",
       "8         кафе    да  1396\n",
       "9         кафе   нет  4675\n",
       "10   кафетерий    да    52\n",
       "11   кафетерий   нет   343\n",
       "12   кулинария    да    78\n",
       "13   кулинария   нет   195\n",
       "14    ресторан    да   543\n",
       "15    ресторан   нет  1739\n",
       "16    столовая    да     3\n",
       "17    столовая   нет  2581"
      ]
     },
     "execution_count": 19,
     "metadata": {},
     "output_type": "execute_result"
    }
   ],
   "source": [
    "types_chain = data.pivot_table(index=['object_type','chain'], values = 'id', aggfunc='count').reset_index()\n",
    "types_chain"
   ]
  },
  {
   "cell_type": "code",
   "execution_count": 20,
   "metadata": {},
   "outputs": [
    {
     "data": {
      "image/png": "[encoded data removed]",
      "text/plain": [
       "<Figure size 1008x504 with 1 Axes>"
      ]
     },
     "metadata": {},
     "output_type": "display_data"
    }
   ],
   "source": [
    "sns.set_theme(style=\"whitegrid\")\n",
    "plt.figure(figsize=(14, 7))\n",
    "sns.barplot(x='id', hue='chain', y='object_type', data=types_chain.sort_values(by='id', ascending=False), palette=\"Paired\")\n",
    "plt.legend(title='Сетевые')\n",
    "plt.xlabel('Количество объектов')\n",
    "plt.ylabel('Вид объекта')\n",
    "plt.title('Количество объектов общественного питания по их видам', fontsize = 18);\n",
    "#plt.savefig('5.png');"
   ]
  },
  {
   "cell_type": "code",
   "execution_count": 21,
   "metadata": {},
   "outputs": [],
   "source": [
    "ratio_chain = data.pivot_table(index='object_type', values = 'object_name', columns=['chain'], aggfunc='count').reset_index()\n",
    "ratio_chain['all'] = ratio_chain['да'] + ratio_chain['нет']\n",
    "ratio_chain['ratio'] = round(100*ratio_chain['да']/ratio_chain['all'],1)"
   ]
  },
  {
   "cell_type": "code",
   "execution_count": 22,
   "metadata": {
    "scrolled": true
   },
   "outputs": [
    {
     "data": {
      "image/png": "[encoded data removed]",
      "text/plain": [
       "<Figure size 1080x504 with 1 Axes>"
      ]
     },
     "metadata": {},
     "output_type": "display_data"
    }
   ],
   "source": [
    "sns.set_theme(style=\"whitegrid\")\n",
    "plt.figure(figsize=(15, 7))\n",
    "ax = sns.barplot(x = 'ratio', y = 'object_type', data = ratio_chain.sort_values(by='ratio', ascending=False), palette=\"Paired\")\n",
    "\n",
    "\n",
    "for p in ax.patches:\n",
    "    height = p.get_height() \n",
    "    width = p.get_width() \n",
    "    ax.text(x = width+3, \n",
    "    y = p.get_y()+(height/2), \n",
    "    s = '{:.1f}'.format(width),\n",
    "    va = 'center')\n",
    "    \n",
    "plt.xlabel('Процент сетевых заведений')\n",
    "plt.ylabel('Вид объекта')\n",
    "plt.title('Процент сетевых объектов по их видам', fontsize = 18);\n",
    "#plt.savefig('6.png');"
   ]
  },
  {
   "cell_type": "markdown",
   "metadata": {},
   "source": [
    "Наиболее характерно сетевое распространение для fast foodов - 41,5% и кулинарий - 28,6% из них именно сетевые, наименее распротранены сетевые столовые и буфеты. При этом в абсолютном количестве сетевых кафе больше fast foodов."
   ]
  },
  {
   "cell_type": "markdown",
   "metadata": {},
   "source": [
    "### Что характерно для сетевых заведений: много заведений с небольшим числом посадочных мест в каждом или мало заведений с большим количеством посадочных мест?"
   ]
  },
  {
   "cell_type": "code",
   "execution_count": 23,
   "metadata": {},
   "outputs": [
    {
     "data": {
      "text/html": [
       "<div>\n",
       "<style scoped>\n",
       "    .dataframe tbody tr th:only-of-type {\n",
       "        vertical-align: middle;\n",
       "    }\n",
       "\n",
       "    .dataframe tbody tr th {\n",
       "        vertical-align: top;\n",
       "    }\n",
       "\n",
       "    .dataframe thead th {\n",
       "        text-align: right;\n",
       "    }\n",
       "</style>\n",
       "<table border=\"1\" class=\"dataframe\">\n",
       "  <thead>\n",
       "    <tr style=\"text-align: right;\">\n",
       "      <th></th>\n",
       "      <th>chain_name</th>\n",
       "      <th>count</th>\n",
       "      <th>mean_number</th>\n",
       "    </tr>\n",
       "  </thead>\n",
       "  <tbody>\n",
       "    <tr>\n",
       "      <th>563</th>\n",
       "      <td>шоколадница</td>\n",
       "      <td>157</td>\n",
       "      <td>57.2</td>\n",
       "    </tr>\n",
       "    <tr>\n",
       "      <th>25</th>\n",
       "      <td>kfc</td>\n",
       "      <td>155</td>\n",
       "      <td>55.3</td>\n",
       "    </tr>\n",
       "    <tr>\n",
       "      <th>330</th>\n",
       "      <td>макдоналдс</td>\n",
       "      <td>150</td>\n",
       "      <td>87.7</td>\n",
       "    </tr>\n",
       "    <tr>\n",
       "      <th>109</th>\n",
       "      <td>бургер кинг</td>\n",
       "      <td>137</td>\n",
       "      <td>46.6</td>\n",
       "    </tr>\n",
       "    <tr>\n",
       "      <th>521</th>\n",
       "      <td>теремок</td>\n",
       "      <td>94</td>\n",
       "      <td>25.6</td>\n",
       "    </tr>\n",
       "    <tr>\n",
       "      <th>311</th>\n",
       "      <td>крошка картошка</td>\n",
       "      <td>90</td>\n",
       "      <td>21.9</td>\n",
       "    </tr>\n",
       "    <tr>\n",
       "      <th>159</th>\n",
       "      <td>домино'с пицца</td>\n",
       "      <td>90</td>\n",
       "      <td>18.3</td>\n",
       "    </tr>\n",
       "    <tr>\n",
       "      <th>339</th>\n",
       "      <td>милти</td>\n",
       "      <td>72</td>\n",
       "      <td>1.3</td>\n",
       "    </tr>\n",
       "    <tr>\n",
       "      <th>505</th>\n",
       "      <td>суши wok</td>\n",
       "      <td>72</td>\n",
       "      <td>6.7</td>\n",
       "    </tr>\n",
       "    <tr>\n",
       "      <th>367</th>\n",
       "      <td>папа джонс</td>\n",
       "      <td>51</td>\n",
       "      <td>22.0</td>\n",
       "    </tr>\n",
       "  </tbody>\n",
       "</table>\n",
       "</div>"
      ],
      "text/plain": [
       "          chain_name  count  mean_number\n",
       "563      шоколадница    157         57.2\n",
       "25               kfc    155         55.3\n",
       "330       макдоналдс    150         87.7\n",
       "109      бургер кинг    137         46.6\n",
       "521          теремок     94         25.6\n",
       "311  крошка картошка     90         21.9\n",
       "159   домино'с пицца     90         18.3\n",
       "339            милти     72          1.3\n",
       "505         суши wok     72          6.7\n",
       "367       папа джонс     51         22.0"
      ]
     },
     "execution_count": 23,
     "metadata": {},
     "output_type": "execute_result"
    }
   ],
   "source": [
    "chain_yes = data.query('chain==\"да\"')\n",
    "chain_pivot = chain_yes.pivot_table(index='object_name', \n",
    "                                    values='number', \n",
    "                                    aggfunc=['count','mean']).round(1).reset_index()\n",
    "chain_pivot.columns = ['chain_name', 'count', 'mean_number']\n",
    "chain_pivot.sort_values(by='count', ascending=False).head(10)"
   ]
  },
  {
   "cell_type": "code",
   "execution_count": 24,
   "metadata": {
    "scrolled": true
   },
   "outputs": [
    {
     "data": {
      "image/png": "[encoded data removed]",
      "text/plain": [
       "<Figure size 720x720 with 3 Axes>"
      ]
     },
     "metadata": {},
     "output_type": "display_data"
    }
   ],
   "source": [
    "ax = sns.jointplot(x='count', y='mean_number', data=chain_pivot, kind='reg')\n",
    "ax.fig.set_figwidth(10)\n",
    "ax.fig.set_figheight(10)\n",
    "ax.fig.suptitle('Распределение сетевых заведений по количеству объектов и посадочных мест', fontsize = 18)\n",
    "ax.set_axis_labels('Количество объектов', 'Количество посадочных мест');\n",
    "#plt.savefig('7.png');"
   ]
  },
  {
   "cell_type": "markdown",
   "metadata": {},
   "source": [
    "Исходя из графика видно, что основная масса сетевых заведений имеет малое количество объектов, в большинстве случаев до 10 и не большое количество посадочных мест - до 50."
   ]
  },
  {
   "cell_type": "markdown",
   "metadata": {},
   "source": [
    "### Cреднее количество посадочных мест по видам объектов"
   ]
  },
  {
   "cell_type": "code",
   "execution_count": 25,
   "metadata": {
    "scrolled": false
   },
   "outputs": [
    {
     "data": {
      "image/png": "[encoded data removed]",
      "text/plain": [
       "<Figure size 1080x720 with 1 Axes>"
      ]
     },
     "metadata": {},
     "output_type": "display_data"
    }
   ],
   "source": [
    "plt.figure(figsize=(15, 10))\n",
    "ax = sns.boxplot(x='object_type', y='number', data=data, palette=\"Paired\", hue='chain')\n",
    "ax.set_ylim(0,250)\n",
    "plt.xlabel('Вид объекта')\n",
    "plt.ylabel('Посадочных мест')\n",
    "plt.title('Среднее число посадочных мест по видам объектов', fontsize = 18);\n",
    "#plt.savefig('8.png');"
   ]
  },
  {
   "cell_type": "markdown",
   "metadata": {},
   "source": [
    "По графикам распределений видно, что наибольшее число посадочных мест в среднем пердлагают столовые, далее следуют рестораны. Наименьшее число посадочных мест в закусочных, кулинариях, и кафетериях, как мы видели в начале анализа данных, их может не быть в принципе. У fast foodа при этом самый большой разброс значений."
   ]
  },
  {
   "cell_type": "code",
   "execution_count": 26,
   "metadata": {},
   "outputs": [],
   "source": [
    "mean_number_chain = data.pivot_table(index=['object_type','chain'], values='number', aggfunc='mean').round(1)\n",
    "mean_number_chain= mean_number_chain.sort_values(by='number', ascending=False).reset_index()\n",
    "mean_number = data.pivot_table(index='object_type', values='number', aggfunc='mean').round(1)\n",
    "mean_number = mean_number.sort_values(by='number', ascending=False).reset_index()"
   ]
  },
  {
   "cell_type": "code",
   "execution_count": 27,
   "metadata": {
    "scrolled": false
   },
   "outputs": [
    {
     "data": {
      "image/png": "[encoded data removed]",
      "text/plain": [
       "<Figure size 1080x504 with 1 Axes>"
      ]
     },
     "metadata": {},
     "output_type": "display_data"
    }
   ],
   "source": [
    "plt.figure(figsize=(15, 7))\n",
    "ax = sns.barplot(x = 'number', y = 'object_type', data = mean_number[['object_type','number']], palette='Paired')\n",
    "\n",
    "\n",
    "for p in ax.patches:\n",
    "    height = p.get_height() \n",
    "    width = p.get_width() \n",
    "    ax.text(x = width+1, \n",
    "    y = p.get_y()+(height/2), \n",
    "    s = '{:.1f}'.format(width),\n",
    "    va = 'center')\n",
    "    \n",
    "plt.xlabel('Среднее число посадочных мест')\n",
    "plt.ylabel('Вид объекта')\n",
    "plt.title('Среднее число посадочных мест по видам объектов', fontsize = 18);\n",
    "#plt.savefig('9.png');"
   ]
  },
  {
   "cell_type": "markdown",
   "metadata": {},
   "source": [
    "Рассмотрим также количество посадочных мест по видам объектов в разрезе их форматов:"
   ]
  },
  {
   "cell_type": "code",
   "execution_count": 28,
   "metadata": {},
   "outputs": [
    {
     "data": {
      "image/png": "[encoded data removed]",
      "text/plain": [
       "<Figure size 1080x504 with 1 Axes>"
      ]
     },
     "metadata": {},
     "output_type": "display_data"
    }
   ],
   "source": [
    "plt.figure(figsize=(15, 7))\n",
    "ax = sns.barplot(x = 'number', y = 'object_type', hue='chain', data = mean_number_chain, palette=\"Paired\")\n",
    "\n",
    "\n",
    "for p in ax.patches:\n",
    "    height = p.get_height() \n",
    "    width = p.get_width() \n",
    "    ax.text(x = width+1, \n",
    "    y = p.get_y()+(height/2), \n",
    "    s = '{:.1f}'.format(width),\n",
    "    va = 'center')\n",
    "    \n",
    "plt.xlabel('Среднее число посадочных мест')\n",
    "plt.ylabel('Вид объекта')\n",
    "plt.legend(title='Сетевые')\n",
    "plt.title('Среднее число посадочных мест по видам объектов', fontsize = 18);\n",
    "#plt.savefig('13.png');"
   ]
  },
  {
   "cell_type": "markdown",
   "metadata": {},
   "source": [
    "Как видим из графика формат заведения сетевое или нет вносит определенные отличия в количество средних мест в разных видах объектов. И в основном для сетевых заведений количество посадочных мест выше, чем для несетвых аналогичного вида. В сетевых fast foodах данный показатель отличается наибольшим образом - на 30 мест. А вот в буфетах и столовых, наоборот, посадочных мест у несетевых объектов больше."
   ]
  },
  {
   "cell_type": "markdown",
   "metadata": {},
   "source": [
    "### Анализ географии объектов"
   ]
  },
  {
   "cell_type": "markdown",
   "metadata": {},
   "source": [
    "С помощью регулярных выражений \"вытащим\" название улиц в отдельный столбец:"
   ]
  },
  {
   "cell_type": "code",
   "execution_count": 29,
   "metadata": {},
   "outputs": [],
   "source": [
    "words = ['проезд','пр.','прзд.','шоссе','шос.','ш.','улица','ул.','переулок','пер.','микрорайон','мкр.','мкрн.', \\\n",
    "         'мкад','Московской Кольцевой Автодороги','деревня','проспект','пр.','площадь','пл','село','аллея','бульвар', \\\n",
    "         'набережная','наб.','тупик','линия','посёлок','территория','квартал','просек','вблизи', 'парк','мост']\n",
    "str_pat = r\".*,\\s*\\b([^,]*?(?:{})\\b[^,]*)[,$]+\".format(\"|\".join(words))\n",
    "data['street'] = data['address'].str.extract(str_pat, flags=re.I)"
   ]
  },
  {
   "cell_type": "code",
   "execution_count": 30,
   "metadata": {},
   "outputs": [
    {
     "data": {
      "text/html": [
       "<div>\n",
       "<style scoped>\n",
       "    .dataframe tbody tr th:only-of-type {\n",
       "        vertical-align: middle;\n",
       "    }\n",
       "\n",
       "    .dataframe tbody tr th {\n",
       "        vertical-align: top;\n",
       "    }\n",
       "\n",
       "    .dataframe thead th {\n",
       "        text-align: right;\n",
       "    }\n",
       "</style>\n",
       "<table border=\"1\" class=\"dataframe\">\n",
       "  <thead>\n",
       "    <tr style=\"text-align: right;\">\n",
       "      <th></th>\n",
       "      <th>id</th>\n",
       "      <th>object_name</th>\n",
       "      <th>chain</th>\n",
       "      <th>object_type</th>\n",
       "      <th>address</th>\n",
       "      <th>number</th>\n",
       "      <th>street</th>\n",
       "    </tr>\n",
       "  </thead>\n",
       "  <tbody>\n",
       "    <tr>\n",
       "      <th>859</th>\n",
       "      <td>23601</td>\n",
       "      <td>буфет - гбоу сош № 64</td>\n",
       "      <td>нет</td>\n",
       "      <td>буфет</td>\n",
       "      <td>партизанская улица, дом 30</td>\n",
       "      <td>100</td>\n",
       "      <td>NaN</td>\n",
       "    </tr>\n",
       "    <tr>\n",
       "      <th>860</th>\n",
       "      <td>23604</td>\n",
       "      <td>буфет - гбоу 60</td>\n",
       "      <td>нет</td>\n",
       "      <td>буфет</td>\n",
       "      <td>партизанская улица, дом 30</td>\n",
       "      <td>100</td>\n",
       "      <td>NaN</td>\n",
       "    </tr>\n",
       "    <tr>\n",
       "      <th>1405</th>\n",
       "      <td>20199</td>\n",
       "      <td>это</td>\n",
       "      <td>нет</td>\n",
       "      <td>кафе</td>\n",
       "      <td>город москва, город зеленоград, корпус 401</td>\n",
       "      <td>35</td>\n",
       "      <td>NaN</td>\n",
       "    </tr>\n",
       "    <tr>\n",
       "      <th>1406</th>\n",
       "      <td>68113</td>\n",
       "      <td>френдс</td>\n",
       "      <td>нет</td>\n",
       "      <td>кафе</td>\n",
       "      <td>город москва, город зеленоград, корпус 435</td>\n",
       "      <td>34</td>\n",
       "      <td>NaN</td>\n",
       "    </tr>\n",
       "    <tr>\n",
       "      <th>1407</th>\n",
       "      <td>20105</td>\n",
       "      <td>кафе «граф монте-кристо»</td>\n",
       "      <td>нет</td>\n",
       "      <td>кафе</td>\n",
       "      <td>город москва, город зеленоград, корпус 436</td>\n",
       "      <td>40</td>\n",
       "      <td>NaN</td>\n",
       "    </tr>\n",
       "    <tr>\n",
       "      <th>...</th>\n",
       "      <td>...</td>\n",
       "      <td>...</td>\n",
       "      <td>...</td>\n",
       "      <td>...</td>\n",
       "      <td>...</td>\n",
       "      <td>...</td>\n",
       "      <td>...</td>\n",
       "    </tr>\n",
       "    <tr>\n",
       "      <th>14468</th>\n",
       "      <td>205933</td>\n",
       "      <td>кафе «империя бургеров»</td>\n",
       "      <td>нет</td>\n",
       "      <td>кафе</td>\n",
       "      <td>город москва, город зеленоград, корпус 1106е</td>\n",
       "      <td>24</td>\n",
       "      <td>NaN</td>\n",
       "    </tr>\n",
       "    <tr>\n",
       "      <th>14470</th>\n",
       "      <td>220595</td>\n",
       "      <td>пекарня № 1</td>\n",
       "      <td>нет</td>\n",
       "      <td>кафетерий</td>\n",
       "      <td>город москва, город зеленоград, корпус 1627</td>\n",
       "      <td>6</td>\n",
       "      <td>NaN</td>\n",
       "    </tr>\n",
       "    <tr>\n",
       "      <th>14473</th>\n",
       "      <td>220978</td>\n",
       "      <td>бар суши takai</td>\n",
       "      <td>нет</td>\n",
       "      <td>кафе</td>\n",
       "      <td>город москва, город зеленоград, корпус 1602а</td>\n",
       "      <td>28</td>\n",
       "      <td>NaN</td>\n",
       "    </tr>\n",
       "    <tr>\n",
       "      <th>14478</th>\n",
       "      <td>211676</td>\n",
       "      <td>никольский</td>\n",
       "      <td>нет</td>\n",
       "      <td>ресторан</td>\n",
       "      <td>город москва, город зеленоград, корпус 532</td>\n",
       "      <td>120</td>\n",
       "      <td>NaN</td>\n",
       "    </tr>\n",
       "    <tr>\n",
       "      <th>15184</th>\n",
       "      <td>220587</td>\n",
       "      <td>пицца паоло</td>\n",
       "      <td>да</td>\n",
       "      <td>кафетерий</td>\n",
       "      <td>город москва, город зеленоград, корпус 1627</td>\n",
       "      <td>0</td>\n",
       "      <td>NaN</td>\n",
       "    </tr>\n",
       "  </tbody>\n",
       "</table>\n",
       "<p>192 rows × 7 columns</p>\n",
       "</div>"
      ],
      "text/plain": [
       "           id               object_name chain object_type  \\\n",
       "859     23601     буфет - гбоу сош № 64   нет       буфет   \n",
       "860     23604           буфет - гбоу 60   нет       буфет   \n",
       "1405    20199                       это   нет        кафе   \n",
       "1406    68113                    френдс   нет        кафе   \n",
       "1407    20105  кафе «граф монте-кристо»   нет        кафе   \n",
       "...       ...                       ...   ...         ...   \n",
       "14468  205933   кафе «империя бургеров»   нет        кафе   \n",
       "14470  220595               пекарня № 1   нет   кафетерий   \n",
       "14473  220978            бар суши takai   нет        кафе   \n",
       "14478  211676                никольский   нет    ресторан   \n",
       "15184  220587               пицца паоло    да   кафетерий   \n",
       "\n",
       "                                            address  number street  \n",
       "859                      партизанская улица, дом 30     100    NaN  \n",
       "860                      партизанская улица, дом 30     100    NaN  \n",
       "1405     город москва, город зеленоград, корпус 401      35    NaN  \n",
       "1406     город москва, город зеленоград, корпус 435      34    NaN  \n",
       "1407     город москва, город зеленоград, корпус 436      40    NaN  \n",
       "...                                             ...     ...    ...  \n",
       "14468  город москва, город зеленоград, корпус 1106е      24    NaN  \n",
       "14470   город москва, город зеленоград, корпус 1627       6    NaN  \n",
       "14473  город москва, город зеленоград, корпус 1602а      28    NaN  \n",
       "14478    город москва, город зеленоград, корпус 532     120    NaN  \n",
       "15184   город москва, город зеленоград, корпус 1627       0    NaN  \n",
       "\n",
       "[192 rows x 7 columns]"
      ]
     },
     "execution_count": 30,
     "metadata": {},
     "output_type": "execute_result"
    }
   ],
   "source": [
    "data[data['street'].isna()]"
   ]
  },
  {
   "cell_type": "markdown",
   "metadata": {},
   "source": [
    "Видим, что осталось 192 строки без улицы, также видим, что бОльшая часть это адреса, у которых и нет улиц, в Зеленограде такие адреса. Оставим так, на анализ они сильно не повлияют в любом случае."
   ]
  },
  {
   "cell_type": "markdown",
   "metadata": {},
   "source": [
    "Построим график топ-10 улиц по количеству объектов общественного питания."
   ]
  },
  {
   "cell_type": "code",
   "execution_count": 31,
   "metadata": {},
   "outputs": [
    {
     "data": {
      "text/html": [
       "<div>\n",
       "<style scoped>\n",
       "    .dataframe tbody tr th:only-of-type {\n",
       "        vertical-align: middle;\n",
       "    }\n",
       "\n",
       "    .dataframe tbody tr th {\n",
       "        vertical-align: top;\n",
       "    }\n",
       "\n",
       "    .dataframe thead th {\n",
       "        text-align: right;\n",
       "    }\n",
       "</style>\n",
       "<table border=\"1\" class=\"dataframe\">\n",
       "  <thead>\n",
       "    <tr style=\"text-align: right;\">\n",
       "      <th></th>\n",
       "      <th>street</th>\n",
       "      <th>id</th>\n",
       "    </tr>\n",
       "  </thead>\n",
       "  <tbody>\n",
       "    <tr>\n",
       "      <th>1148</th>\n",
       "      <td>проспект мира</td>\n",
       "      <td>203</td>\n",
       "    </tr>\n",
       "    <tr>\n",
       "      <th>1152</th>\n",
       "      <td>профсоюзная улица</td>\n",
       "      <td>181</td>\n",
       "    </tr>\n",
       "    <tr>\n",
       "      <th>754</th>\n",
       "      <td>ленинградский проспект</td>\n",
       "      <td>170</td>\n",
       "    </tr>\n",
       "    <tr>\n",
       "      <th>1104</th>\n",
       "      <td>пресненская набережная</td>\n",
       "      <td>167</td>\n",
       "    </tr>\n",
       "    <tr>\n",
       "      <th>436</th>\n",
       "      <td>варшавское шоссе</td>\n",
       "      <td>164</td>\n",
       "    </tr>\n",
       "    <tr>\n",
       "      <th>757</th>\n",
       "      <td>ленинский проспект</td>\n",
       "      <td>147</td>\n",
       "    </tr>\n",
       "    <tr>\n",
       "      <th>1144</th>\n",
       "      <td>проспект вернадского</td>\n",
       "      <td>128</td>\n",
       "    </tr>\n",
       "    <tr>\n",
       "      <th>744</th>\n",
       "      <td>кутузовский проспект</td>\n",
       "      <td>114</td>\n",
       "    </tr>\n",
       "    <tr>\n",
       "      <th>664</th>\n",
       "      <td>каширское шоссе</td>\n",
       "      <td>111</td>\n",
       "    </tr>\n",
       "    <tr>\n",
       "      <th>674</th>\n",
       "      <td>кировоградская улица</td>\n",
       "      <td>108</td>\n",
       "    </tr>\n",
       "  </tbody>\n",
       "</table>\n",
       "</div>"
      ],
      "text/plain": [
       "                      street   id\n",
       "1148           проспект мира  203\n",
       "1152       профсоюзная улица  181\n",
       "754   ленинградский проспект  170\n",
       "1104  пресненская набережная  167\n",
       "436         варшавское шоссе  164\n",
       "757       ленинский проспект  147\n",
       "1144    проспект вернадского  128\n",
       "744     кутузовский проспект  114\n",
       "664          каширское шоссе  111\n",
       "674     кировоградская улица  108"
      ]
     },
     "execution_count": 31,
     "metadata": {},
     "output_type": "execute_result"
    }
   ],
   "source": [
    "top_10 = data.pivot_table(index='street', \n",
    "                          values='id', \n",
    "                          aggfunc='count').reset_index().sort_values(by='id', ascending=False).head(10)\n",
    "top_10"
   ]
  },
  {
   "cell_type": "code",
   "execution_count": 32,
   "metadata": {
    "scrolled": true
   },
   "outputs": [
    {
     "data": {
      "image/png": "[encoded data removed]",
      "text/plain": [
       "<Figure size 1080x504 with 1 Axes>"
      ]
     },
     "metadata": {},
     "output_type": "display_data"
    }
   ],
   "source": [
    "top_10['street'] = top_10['street'].str.capitalize()\n",
    "plt.figure(figsize=(15, 7))\n",
    "ax = sns.barplot(x = 'id', y = 'street', data = top_10, palette=\"Paired\")\n",
    "\n",
    "\n",
    "for p in ax.patches:\n",
    "    height = p.get_height() \n",
    "    width = p.get_width() \n",
    "    ax.text(x = width+1, \n",
    "    y = p.get_y()+(height/2), \n",
    "    s = '{:.0f}'.format(width),\n",
    "    va = 'center')\n",
    "    \n",
    "plt.xlabel('Количество заведений')\n",
    "plt.ylabel('Улица')\n",
    "plt.title('ТОП-10 улиц по числу объектов питания', fontsize = 18);\n",
    "#plt.savefig('10.png');"
   ]
  },
  {
   "cell_type": "markdown",
   "metadata": {},
   "source": [
    "По графику видим, что лидер по количеству заведений - Проспект Мира - 203, далее следуют Профсоюзная улица и Ленинградский проспект. Наименьшее количество объектов из топ-10 находятся на улице Кировоградской - 108шт."
   ]
  },
  {
   "cell_type": "markdown",
   "metadata": {},
   "source": [
    "Определим в каких районах Москвы находтся объекты с топ-10 улиц:"
   ]
  },
  {
   "cell_type": "code",
   "execution_count": 33,
   "metadata": {},
   "outputs": [
    {
     "data": {
      "text/html": [
       "<div>\n",
       "<style scoped>\n",
       "    .dataframe tbody tr th:only-of-type {\n",
       "        vertical-align: middle;\n",
       "    }\n",
       "\n",
       "    .dataframe tbody tr th {\n",
       "        vertical-align: top;\n",
       "    }\n",
       "\n",
       "    .dataframe thead th {\n",
       "        text-align: right;\n",
       "    }\n",
       "</style>\n",
       "<table border=\"1\" class=\"dataframe\">\n",
       "  <thead>\n",
       "    <tr style=\"text-align: right;\">\n",
       "      <th></th>\n",
       "      <th>id</th>\n",
       "      <th>object_name</th>\n",
       "      <th>chain</th>\n",
       "      <th>object_type</th>\n",
       "      <th>address</th>\n",
       "      <th>number</th>\n",
       "      <th>street</th>\n",
       "    </tr>\n",
       "  </thead>\n",
       "  <tbody>\n",
       "  </tbody>\n",
       "</table>\n",
       "</div>"
      ],
      "text/plain": [
       "Empty DataFrame\n",
       "Columns: [id, object_name, chain, object_type, address, number, street]\n",
       "Index: []"
      ]
     },
     "execution_count": 33,
     "metadata": {},
     "output_type": "execute_result"
    }
   ],
   "source": [
    "top_10_list = top_10['street'].unique()\n",
    "district = data.query('street in @top_10_list')\n",
    "district.head()"
   ]
  },
  {
   "cell_type": "markdown",
   "metadata": {},
   "source": [
    "Воспользуюмся готовым файлом с полученными данными по геокоординатам."
   ]
  },
  {
   "cell_type": "code",
   "execution_count": 34,
   "metadata": {
    "scrolled": true
   },
   "outputs": [
    {
     "data": {
      "text/html": [
       "<div>\n",
       "<style scoped>\n",
       "    .dataframe tbody tr th:only-of-type {\n",
       "        vertical-align: middle;\n",
       "    }\n",
       "\n",
       "    .dataframe tbody tr th {\n",
       "        vertical-align: top;\n",
       "    }\n",
       "\n",
       "    .dataframe thead th {\n",
       "        text-align: right;\n",
       "    }\n",
       "</style>\n",
       "<table border=\"1\" class=\"dataframe\">\n",
       "  <thead>\n",
       "    <tr style=\"text-align: right;\">\n",
       "      <th></th>\n",
       "      <th>id</th>\n",
       "      <th>object_name</th>\n",
       "      <th>chain</th>\n",
       "      <th>object_type</th>\n",
       "      <th>address</th>\n",
       "      <th>number</th>\n",
       "      <th>street</th>\n",
       "      <th>district</th>\n",
       "    </tr>\n",
       "  </thead>\n",
       "  <tbody>\n",
       "    <tr>\n",
       "      <th>0</th>\n",
       "      <td>155973</td>\n",
       "      <td>кафе «андерсон»</td>\n",
       "      <td>Сетевое</td>\n",
       "      <td>кафе</td>\n",
       "      <td>город москва, варшавское шоссе, дом 2</td>\n",
       "      <td>150</td>\n",
       "      <td>варшавское шоссе</td>\n",
       "      <td>Donskoy</td>\n",
       "    </tr>\n",
       "    <tr>\n",
       "      <th>1</th>\n",
       "      <td>23618</td>\n",
       "      <td>кафе «subway»</td>\n",
       "      <td>Сетевое</td>\n",
       "      <td>кафе</td>\n",
       "      <td>город москва, варшавское шоссе, дом 7, корпус 1</td>\n",
       "      <td>36</td>\n",
       "      <td>варшавское шоссе</td>\n",
       "      <td>Donskoy</td>\n",
       "    </tr>\n",
       "    <tr>\n",
       "      <th>2</th>\n",
       "      <td>155852</td>\n",
       "      <td>кафе «ламаджо»</td>\n",
       "      <td>Несетевое</td>\n",
       "      <td>кафе</td>\n",
       "      <td>город москва, варшавское шоссе, дом 29</td>\n",
       "      <td>30</td>\n",
       "      <td>варшавское шоссе</td>\n",
       "      <td>Donskoy</td>\n",
       "    </tr>\n",
       "    <tr>\n",
       "      <th>3</th>\n",
       "      <td>152556</td>\n",
       "      <td>шаурма в пите</td>\n",
       "      <td>Несетевое</td>\n",
       "      <td>предприятие быстрого обслуживания</td>\n",
       "      <td>город москва, варшавское шоссе, дом 72, корпус 2</td>\n",
       "      <td>0</td>\n",
       "      <td>варшавское шоссе</td>\n",
       "      <td>Nagornyy</td>\n",
       "    </tr>\n",
       "    <tr>\n",
       "      <th>4</th>\n",
       "      <td>120658</td>\n",
       "      <td>выпечка</td>\n",
       "      <td>Несетевое</td>\n",
       "      <td>кафетерий</td>\n",
       "      <td>город москва, варшавское шоссе, дом 100</td>\n",
       "      <td>2</td>\n",
       "      <td>варшавское шоссе</td>\n",
       "      <td>Nagornyy</td>\n",
       "    </tr>\n",
       "    <tr>\n",
       "      <th>...</th>\n",
       "      <td>...</td>\n",
       "      <td>...</td>\n",
       "      <td>...</td>\n",
       "      <td>...</td>\n",
       "      <td>...</td>\n",
       "      <td>...</td>\n",
       "      <td>...</td>\n",
       "      <td>...</td>\n",
       "    </tr>\n",
       "    <tr>\n",
       "      <th>1488</th>\n",
       "      <td>213629</td>\n",
       "      <td>додо пицца</td>\n",
       "      <td>Сетевое</td>\n",
       "      <td>кафе</td>\n",
       "      <td>город москва, пресненская набережная, дом 12</td>\n",
       "      <td>25</td>\n",
       "      <td>пресненская набережная</td>\n",
       "      <td>Presnenskiy</td>\n",
       "    </tr>\n",
       "    <tr>\n",
       "      <th>1489</th>\n",
       "      <td>198436</td>\n",
       "      <td>милти</td>\n",
       "      <td>Сетевое</td>\n",
       "      <td>предприятие быстрого обслуживания</td>\n",
       "      <td>город москва, ленинградский проспект, дом 80, ...</td>\n",
       "      <td>0</td>\n",
       "      <td>ленинградский проспект</td>\n",
       "      <td>Sokol</td>\n",
       "    </tr>\n",
       "    <tr>\n",
       "      <th>1490</th>\n",
       "      <td>222491</td>\n",
       "      <td>кальянная «мята lounge»</td>\n",
       "      <td>Сетевое</td>\n",
       "      <td>кафе</td>\n",
       "      <td>город москва, профсоюзная улица, дом 142, корп...</td>\n",
       "      <td>40</td>\n",
       "      <td>профсоюзная улица</td>\n",
       "      <td>Teplyy Stan</td>\n",
       "    </tr>\n",
       "    <tr>\n",
       "      <th>1491</th>\n",
       "      <td>213061</td>\n",
       "      <td>мята</td>\n",
       "      <td>Сетевое</td>\n",
       "      <td>кафетерий</td>\n",
       "      <td>город москва, каширское шоссе, дом 96, корпус 1</td>\n",
       "      <td>35</td>\n",
       "      <td>каширское шоссе</td>\n",
       "      <td>Orekhovo-Borisovo Severnoye</td>\n",
       "    </tr>\n",
       "    <tr>\n",
       "      <th>1492</th>\n",
       "      <td>213724</td>\n",
       "      <td>шоколадница</td>\n",
       "      <td>Сетевое</td>\n",
       "      <td>кафе</td>\n",
       "      <td>город москва, варшавское шоссе, дом 87б</td>\n",
       "      <td>54</td>\n",
       "      <td>варшавское шоссе</td>\n",
       "      <td>Nagornyy</td>\n",
       "    </tr>\n",
       "  </tbody>\n",
       "</table>\n",
       "<p>1493 rows × 8 columns</p>\n",
       "</div>"
      ],
      "text/plain": [
       "          id              object_name      chain  \\\n",
       "0     155973          кафе «андерсон»    Сетевое   \n",
       "1      23618            кафе «subway»    Сетевое   \n",
       "2     155852           кафе «ламаджо»  Несетевое   \n",
       "3     152556            шаурма в пите  Несетевое   \n",
       "4     120658                  выпечка  Несетевое   \n",
       "...      ...                      ...        ...   \n",
       "1488  213629               додо пицца    Сетевое   \n",
       "1489  198436                    милти    Сетевое   \n",
       "1490  222491  кальянная «мята lounge»    Сетевое   \n",
       "1491  213061                     мята    Сетевое   \n",
       "1492  213724              шоколадница    Сетевое   \n",
       "\n",
       "                            object_type  \\\n",
       "0                                  кафе   \n",
       "1                                  кафе   \n",
       "2                                  кафе   \n",
       "3     предприятие быстрого обслуживания   \n",
       "4                             кафетерий   \n",
       "...                                 ...   \n",
       "1488                               кафе   \n",
       "1489  предприятие быстрого обслуживания   \n",
       "1490                               кафе   \n",
       "1491                          кафетерий   \n",
       "1492                               кафе   \n",
       "\n",
       "                                                address  number  \\\n",
       "0                 город москва, варшавское шоссе, дом 2     150   \n",
       "1       город москва, варшавское шоссе, дом 7, корпус 1      36   \n",
       "2                город москва, варшавское шоссе, дом 29      30   \n",
       "3      город москва, варшавское шоссе, дом 72, корпус 2       0   \n",
       "4               город москва, варшавское шоссе, дом 100       2   \n",
       "...                                                 ...     ...   \n",
       "1488       город москва, пресненская набережная, дом 12      25   \n",
       "1489  город москва, ленинградский проспект, дом 80, ...       0   \n",
       "1490  город москва, профсоюзная улица, дом 142, корп...      40   \n",
       "1491    город москва, каширское шоссе, дом 96, корпус 1      35   \n",
       "1492            город москва, варшавское шоссе, дом 87б      54   \n",
       "\n",
       "                      street                     district  \n",
       "0           варшавское шоссе                      Donskoy  \n",
       "1           варшавское шоссе                      Donskoy  \n",
       "2           варшавское шоссе                      Donskoy  \n",
       "3           варшавское шоссе                     Nagornyy  \n",
       "4           варшавское шоссе                     Nagornyy  \n",
       "...                      ...                          ...  \n",
       "1488  пресненская набережная                  Presnenskiy  \n",
       "1489  ленинградский проспект                        Sokol  \n",
       "1490       профсоюзная улица                  Teplyy Stan  \n",
       "1491         каширское шоссе  Orekhovo-Borisovo Severnoye  \n",
       "1492        варшавское шоссе                     Nagornyy  \n",
       "\n",
       "[1493 rows x 8 columns]"
      ]
     },
     "execution_count": 34,
     "metadata": {},
     "output_type": "execute_result"
    }
   ],
   "source": [
    "url = 'https://docs.google.com/spreadsheets/d/1pC7miwkIyhUl_N_hwvy1rUNoryklAo0IyxtkIGK9Sy4/edit?usp=sharing'\n",
    "url.split('/')\n",
    "id = url.split('/')[5]\n",
    "district_top = pd.read_csv(f'https://docs.google.com/spreadsheets/d/{id}/export?format=csv')\n",
    "district_top"
   ]
  },
  {
   "cell_type": "code",
   "execution_count": 35,
   "metadata": {},
   "outputs": [
    {
     "name": "stdout",
     "output_type": "stream",
     "text": [
      "Топ-10 улиц расположены в 37 районах Москвы\n"
     ]
    },
    {
     "data": {
      "text/html": [
       "<div>\n",
       "<style scoped>\n",
       "    .dataframe tbody tr th:only-of-type {\n",
       "        vertical-align: middle;\n",
       "    }\n",
       "\n",
       "    .dataframe tbody tr th {\n",
       "        vertical-align: top;\n",
       "    }\n",
       "\n",
       "    .dataframe thead th {\n",
       "        text-align: right;\n",
       "    }\n",
       "</style>\n",
       "<table border=\"1\" class=\"dataframe\">\n",
       "  <thead>\n",
       "    <tr style=\"text-align: right;\">\n",
       "      <th></th>\n",
       "      <th>district</th>\n",
       "      <th>id</th>\n",
       "    </tr>\n",
       "  </thead>\n",
       "  <tbody>\n",
       "    <tr>\n",
       "      <th>24</th>\n",
       "      <td>Presnenskiy</td>\n",
       "      <td>167</td>\n",
       "    </tr>\n",
       "    <tr>\n",
       "      <th>7</th>\n",
       "      <td>Chertanovo Tsentral'noye</td>\n",
       "      <td>90</td>\n",
       "    </tr>\n",
       "    <tr>\n",
       "      <th>32</th>\n",
       "      <td>Troparevo-Nikulino</td>\n",
       "      <td>84</td>\n",
       "    </tr>\n",
       "    <tr>\n",
       "      <th>20</th>\n",
       "      <td>Obruchevskiy</td>\n",
       "      <td>64</td>\n",
       "    </tr>\n",
       "    <tr>\n",
       "      <th>16</th>\n",
       "      <td>Meshchanskiy</td>\n",
       "      <td>64</td>\n",
       "    </tr>\n",
       "    <tr>\n",
       "      <th>30</th>\n",
       "      <td>Sviblovo</td>\n",
       "      <td>62</td>\n",
       "    </tr>\n",
       "    <tr>\n",
       "      <th>10</th>\n",
       "      <td>Dorogomilovo</td>\n",
       "      <td>61</td>\n",
       "    </tr>\n",
       "    <tr>\n",
       "      <th>3</th>\n",
       "      <td>Begovoy</td>\n",
       "      <td>59</td>\n",
       "    </tr>\n",
       "    <tr>\n",
       "      <th>0</th>\n",
       "      <td>Aeroport</td>\n",
       "      <td>57</td>\n",
       "    </tr>\n",
       "    <tr>\n",
       "      <th>18</th>\n",
       "      <td>Nagatino-Sadovniki</td>\n",
       "      <td>57</td>\n",
       "    </tr>\n",
       "    <tr>\n",
       "      <th>11</th>\n",
       "      <td>Fili-Davydkovo</td>\n",
       "      <td>53</td>\n",
       "    </tr>\n",
       "    <tr>\n",
       "      <th>2</th>\n",
       "      <td>Alekseyevskiy</td>\n",
       "      <td>49</td>\n",
       "    </tr>\n",
       "    <tr>\n",
       "      <th>9</th>\n",
       "      <td>Donskoy</td>\n",
       "      <td>48</td>\n",
       "    </tr>\n",
       "    <tr>\n",
       "      <th>8</th>\n",
       "      <td>Chertanovo Yuzhnoye</td>\n",
       "      <td>47</td>\n",
       "    </tr>\n",
       "    <tr>\n",
       "      <th>17</th>\n",
       "      <td>Moskvorech'ye-Saburovo</td>\n",
       "      <td>47</td>\n",
       "    </tr>\n",
       "    <tr>\n",
       "      <th>6</th>\n",
       "      <td>Chertanovo Severnoye</td>\n",
       "      <td>44</td>\n",
       "    </tr>\n",
       "    <tr>\n",
       "      <th>19</th>\n",
       "      <td>Nagornyy</td>\n",
       "      <td>44</td>\n",
       "    </tr>\n",
       "    <tr>\n",
       "      <th>31</th>\n",
       "      <td>Teplyy Stan</td>\n",
       "      <td>43</td>\n",
       "    </tr>\n",
       "    <tr>\n",
       "      <th>12</th>\n",
       "      <td>Gagarinskiy</td>\n",
       "      <td>41</td>\n",
       "    </tr>\n",
       "    <tr>\n",
       "      <th>5</th>\n",
       "      <td>Cheremushki</td>\n",
       "      <td>36</td>\n",
       "    </tr>\n",
       "    <tr>\n",
       "      <th>26</th>\n",
       "      <td>Ramenki</td>\n",
       "      <td>34</td>\n",
       "    </tr>\n",
       "    <tr>\n",
       "      <th>14</th>\n",
       "      <td>Kon'kovo</td>\n",
       "      <td>34</td>\n",
       "    </tr>\n",
       "    <tr>\n",
       "      <th>13</th>\n",
       "      <td>Khoroshevskiy</td>\n",
       "      <td>30</td>\n",
       "    </tr>\n",
       "    <tr>\n",
       "      <th>33</th>\n",
       "      <td>Yakimanka</td>\n",
       "      <td>25</td>\n",
       "    </tr>\n",
       "    <tr>\n",
       "      <th>15</th>\n",
       "      <td>Lomonosovskiy</td>\n",
       "      <td>25</td>\n",
       "    </tr>\n",
       "    <tr>\n",
       "      <th>1</th>\n",
       "      <td>Akademicheskiy</td>\n",
       "      <td>25</td>\n",
       "    </tr>\n",
       "    <tr>\n",
       "      <th>29</th>\n",
       "      <td>Sokol</td>\n",
       "      <td>24</td>\n",
       "    </tr>\n",
       "    <tr>\n",
       "      <th>23</th>\n",
       "      <td>Ostankinskiy</td>\n",
       "      <td>20</td>\n",
       "    </tr>\n",
       "    <tr>\n",
       "      <th>25</th>\n",
       "      <td>Prospekt Vernadskogo</td>\n",
       "      <td>17</td>\n",
       "    </tr>\n",
       "    <tr>\n",
       "      <th>35</th>\n",
       "      <td>Yasenevo</td>\n",
       "      <td>14</td>\n",
       "    </tr>\n",
       "    <tr>\n",
       "      <th>22</th>\n",
       "      <td>Orekhovo-Borisovo Yuzhnoye</td>\n",
       "      <td>12</td>\n",
       "    </tr>\n",
       "    <tr>\n",
       "      <th>27</th>\n",
       "      <td>Rostokino</td>\n",
       "      <td>7</td>\n",
       "    </tr>\n",
       "    <tr>\n",
       "      <th>21</th>\n",
       "      <td>Orekhovo-Borisovo Severnoye</td>\n",
       "      <td>4</td>\n",
       "    </tr>\n",
       "    <tr>\n",
       "      <th>36</th>\n",
       "      <td>Yuzhnoye Butovo</td>\n",
       "      <td>2</td>\n",
       "    </tr>\n",
       "    <tr>\n",
       "      <th>28</th>\n",
       "      <td>Shcherbinka</td>\n",
       "      <td>1</td>\n",
       "    </tr>\n",
       "    <tr>\n",
       "      <th>4</th>\n",
       "      <td>Biryulevo Zapadnoye</td>\n",
       "      <td>1</td>\n",
       "    </tr>\n",
       "    <tr>\n",
       "      <th>34</th>\n",
       "      <td>Yaroslavskiy</td>\n",
       "      <td>1</td>\n",
       "    </tr>\n",
       "  </tbody>\n",
       "</table>\n",
       "</div>"
      ],
      "text/plain": [
       "                       district   id\n",
       "24                  Presnenskiy  167\n",
       "7      Chertanovo Tsentral'noye   90\n",
       "32           Troparevo-Nikulino   84\n",
       "20                 Obruchevskiy   64\n",
       "16                 Meshchanskiy   64\n",
       "30                     Sviblovo   62\n",
       "10                 Dorogomilovo   61\n",
       "3                       Begovoy   59\n",
       "0                      Aeroport   57\n",
       "18           Nagatino-Sadovniki   57\n",
       "11               Fili-Davydkovo   53\n",
       "2                 Alekseyevskiy   49\n",
       "9                       Donskoy   48\n",
       "8           Chertanovo Yuzhnoye   47\n",
       "17       Moskvorech'ye-Saburovo   47\n",
       "6          Chertanovo Severnoye   44\n",
       "19                     Nagornyy   44\n",
       "31                  Teplyy Stan   43\n",
       "12                  Gagarinskiy   41\n",
       "5                   Cheremushki   36\n",
       "26                      Ramenki   34\n",
       "14                     Kon'kovo   34\n",
       "13                Khoroshevskiy   30\n",
       "33                    Yakimanka   25\n",
       "15                Lomonosovskiy   25\n",
       "1                Akademicheskiy   25\n",
       "29                        Sokol   24\n",
       "23                 Ostankinskiy   20\n",
       "25         Prospekt Vernadskogo   17\n",
       "35                     Yasenevo   14\n",
       "22   Orekhovo-Borisovo Yuzhnoye   12\n",
       "27                    Rostokino    7\n",
       "21  Orekhovo-Borisovo Severnoye    4\n",
       "36              Yuzhnoye Butovo    2\n",
       "28                  Shcherbinka    1\n",
       "4           Biryulevo Zapadnoye    1\n",
       "34                 Yaroslavskiy    1"
      ]
     },
     "execution_count": 35,
     "metadata": {},
     "output_type": "execute_result"
    }
   ],
   "source": [
    "all_district = district_top.pivot_table(index='district', \n",
    "                          values='id', \n",
    "                          aggfunc='count').reset_index().sort_values(by='id', ascending=False)\n",
    "print('Топ-10 улиц расположены в', all_district['district'].count(), 'районах Москвы')\n",
    "all_district"
   ]
  },
  {
   "cell_type": "code",
   "execution_count": 36,
   "metadata": {},
   "outputs": [
    {
     "data": {
      "image/png": "[encoded data removed]",
      "text/plain": [
       "<Figure size 1080x504 with 1 Axes>"
      ]
     },
     "metadata": {},
     "output_type": "display_data"
    }
   ],
   "source": [
    "plt.figure(figsize=(15, 7))\n",
    "ax = sns.barplot(x = 'id', y = 'district', data = all_district.head(), palette=\"Paired\")\n",
    "\n",
    "\n",
    "for p in ax.patches:\n",
    "    height = p.get_height() \n",
    "    width = p.get_width() \n",
    "    ax.text(x = width+1, \n",
    "    y = p.get_y()+(height/2), \n",
    "    s = '{:.0f}'.format(width),\n",
    "    va = 'center')\n",
    "    \n",
    "plt.xlabel('Количество заведений')\n",
    "plt.ylabel('Район')\n",
    "plt.title('Районы, в которых расположены улицы из топ-10 по числу заведений', fontsize = 18);\n",
    "#plt.savefig('11.png');"
   ]
  },
  {
   "cell_type": "markdown",
   "metadata": {},
   "source": [
    "Итого самые популряные улицы с точки зрения расположения заведений питания расположены в 37 районах Москвы, чаще всего в Пресненском районе, Чертаново-Центральное и Тропарево-Никулино."
   ]
  },
  {
   "cell_type": "markdown",
   "metadata": {},
   "source": [
    "Найдем число улиц с одним объектом общественного питания:"
   ]
  },
  {
   "cell_type": "code",
   "execution_count": 37,
   "metadata": {},
   "outputs": [],
   "source": [
    "outsider = data.pivot_table(index='street', values='id', aggfunc='count').reset_index()\n",
    "outsider = outsider.query('id==1')"
   ]
  },
  {
   "cell_type": "code",
   "execution_count": 38,
   "metadata": {},
   "outputs": [
    {
     "data": {
      "text/html": [
       "<div>\n",
       "<style scoped>\n",
       "    .dataframe tbody tr th:only-of-type {\n",
       "        vertical-align: middle;\n",
       "    }\n",
       "\n",
       "    .dataframe tbody tr th {\n",
       "        vertical-align: top;\n",
       "    }\n",
       "\n",
       "    .dataframe thead th {\n",
       "        text-align: right;\n",
       "    }\n",
       "</style>\n",
       "<table border=\"1\" class=\"dataframe\">\n",
       "  <thead>\n",
       "    <tr style=\"text-align: right;\">\n",
       "      <th></th>\n",
       "      <th>id</th>\n",
       "      <th>object_name</th>\n",
       "      <th>chain</th>\n",
       "      <th>object_type</th>\n",
       "      <th>address</th>\n",
       "      <th>number</th>\n",
       "      <th>street</th>\n",
       "    </tr>\n",
       "  </thead>\n",
       "  <tbody>\n",
       "    <tr>\n",
       "      <th>19</th>\n",
       "      <td>153644</td>\n",
       "      <td>американская лаборатория десертов</td>\n",
       "      <td>нет</td>\n",
       "      <td>кафе</td>\n",
       "      <td>город москва, филипповский переулок, дом 15/5</td>\n",
       "      <td>20</td>\n",
       "      <td>филипповский переулок</td>\n",
       "    </tr>\n",
       "    <tr>\n",
       "      <th>61</th>\n",
       "      <td>21214</td>\n",
       "      <td>столовая</td>\n",
       "      <td>нет</td>\n",
       "      <td>столовая</td>\n",
       "      <td>город москва, бабаевская улица, дом 3</td>\n",
       "      <td>90</td>\n",
       "      <td>бабаевская улица</td>\n",
       "    </tr>\n",
       "    <tr>\n",
       "      <th>69</th>\n",
       "      <td>22139</td>\n",
       "      <td>хуанхэ</td>\n",
       "      <td>нет</td>\n",
       "      <td>ресторан</td>\n",
       "      <td>город москва, 1-й балтийский переулок, дом 3/25</td>\n",
       "      <td>60</td>\n",
       "      <td>1-й балтийский переулок</td>\n",
       "    </tr>\n",
       "    <tr>\n",
       "      <th>81</th>\n",
       "      <td>25833</td>\n",
       "      <td>азербайджан</td>\n",
       "      <td>нет</td>\n",
       "      <td>ресторан</td>\n",
       "      <td>город москва, улица демьяна бедного, дом 4</td>\n",
       "      <td>180</td>\n",
       "      <td>улица демьяна бедного</td>\n",
       "    </tr>\n",
       "    <tr>\n",
       "      <th>131</th>\n",
       "      <td>150881</td>\n",
       "      <td>вгик</td>\n",
       "      <td>нет</td>\n",
       "      <td>столовая</td>\n",
       "      <td>город москва, будайская улица, дом 3</td>\n",
       "      <td>45</td>\n",
       "      <td>будайская улица</td>\n",
       "    </tr>\n",
       "    <tr>\n",
       "      <th>...</th>\n",
       "      <td>...</td>\n",
       "      <td>...</td>\n",
       "      <td>...</td>\n",
       "      <td>...</td>\n",
       "      <td>...</td>\n",
       "      <td>...</td>\n",
       "      <td>...</td>\n",
       "    </tr>\n",
       "    <tr>\n",
       "      <th>14794</th>\n",
       "      <td>207728</td>\n",
       "      <td>столовая№ 1 пицца</td>\n",
       "      <td>нет</td>\n",
       "      <td>столовая</td>\n",
       "      <td>город москва, поселение сосенское, посёлок газ...</td>\n",
       "      <td>35</td>\n",
       "      <td>посёлок газопровод</td>\n",
       "    </tr>\n",
       "    <tr>\n",
       "      <th>14798</th>\n",
       "      <td>223171</td>\n",
       "      <td>кондитерская «пряник.рогалик»</td>\n",
       "      <td>нет</td>\n",
       "      <td>кафе</td>\n",
       "      <td>город москва, город троицк, пионерская улица, ...</td>\n",
       "      <td>20</td>\n",
       "      <td>пионерская улица</td>\n",
       "    </tr>\n",
       "    <tr>\n",
       "      <th>14807</th>\n",
       "      <td>214436</td>\n",
       "      <td>кафе</td>\n",
       "      <td>нет</td>\n",
       "      <td>буфет</td>\n",
       "      <td>город москва, поселение \"мосрентген\", мкад, 44...</td>\n",
       "      <td>36</td>\n",
       "      <td>мкад</td>\n",
       "    </tr>\n",
       "    <tr>\n",
       "      <th>14974</th>\n",
       "      <td>213930</td>\n",
       "      <td>горячий хлеб</td>\n",
       "      <td>нет</td>\n",
       "      <td>fast food</td>\n",
       "      <td>город москва, поселение десеновское, улица дми...</td>\n",
       "      <td>0</td>\n",
       "      <td>улица дмитрия рябинкина</td>\n",
       "    </tr>\n",
       "    <tr>\n",
       "      <th>15017</th>\n",
       "      <td>205588</td>\n",
       "      <td>кофейня</td>\n",
       "      <td>нет</td>\n",
       "      <td>кафетерий</td>\n",
       "      <td>город москва, поселение щаповское, улица евген...</td>\n",
       "      <td>16</td>\n",
       "      <td>улица евгения родионова</td>\n",
       "    </tr>\n",
       "  </tbody>\n",
       "</table>\n",
       "<p>595 rows × 7 columns</p>\n",
       "</div>"
      ],
      "text/plain": [
       "           id                        object_name chain object_type  \\\n",
       "19     153644  американская лаборатория десертов   нет        кафе   \n",
       "61      21214                           столовая   нет    столовая   \n",
       "69      22139                             хуанхэ   нет    ресторан   \n",
       "81      25833                        азербайджан   нет    ресторан   \n",
       "131    150881                               вгик   нет    столовая   \n",
       "...       ...                                ...   ...         ...   \n",
       "14794  207728                  столовая№ 1 пицца   нет    столовая   \n",
       "14798  223171      кондитерская «пряник.рогалик»   нет        кафе   \n",
       "14807  214436                               кафе   нет       буфет   \n",
       "14974  213930                       горячий хлеб   нет   fast food   \n",
       "15017  205588                            кофейня   нет   кафетерий   \n",
       "\n",
       "                                                 address  number  \\\n",
       "19         город москва, филипповский переулок, дом 15/5      20   \n",
       "61                 город москва, бабаевская улица, дом 3      90   \n",
       "69       город москва, 1-й балтийский переулок, дом 3/25      60   \n",
       "81            город москва, улица демьяна бедного, дом 4     180   \n",
       "131                 город москва, будайская улица, дом 3      45   \n",
       "...                                                  ...     ...   \n",
       "14794  город москва, поселение сосенское, посёлок газ...      35   \n",
       "14798  город москва, город троицк, пионерская улица, ...      20   \n",
       "14807  город москва, поселение \"мосрентген\", мкад, 44...      36   \n",
       "14974  город москва, поселение десеновское, улица дми...       0   \n",
       "15017  город москва, поселение щаповское, улица евген...      16   \n",
       "\n",
       "                        street  \n",
       "19       филипповский переулок  \n",
       "61            бабаевская улица  \n",
       "69     1-й балтийский переулок  \n",
       "81       улица демьяна бедного  \n",
       "131            будайская улица  \n",
       "...                        ...  \n",
       "14794       посёлок газопровод  \n",
       "14798         пионерская улица  \n",
       "14807                     мкад  \n",
       "14974  улица дмитрия рябинкина  \n",
       "15017  улица евгения родионова  \n",
       "\n",
       "[595 rows x 7 columns]"
      ]
     },
     "execution_count": 38,
     "metadata": {},
     "output_type": "execute_result"
    }
   ],
   "source": [
    "outsider_list = outsider['street'].unique()\n",
    "data.query('street in @outsider_list')"
   ]
  },
  {
   "cell_type": "markdown",
   "metadata": {},
   "source": [
    "Получили 595 улиц, на которых всего по 1 объекту питания. Проверим, в каких они находятся районах, воспользуюмся готовым файлом с полученными данными по геокоординатам."
   ]
  },
  {
   "cell_type": "code",
   "execution_count": 39,
   "metadata": {},
   "outputs": [
    {
     "data": {
      "text/html": [
       "<div>\n",
       "<style scoped>\n",
       "    .dataframe tbody tr th:only-of-type {\n",
       "        vertical-align: middle;\n",
       "    }\n",
       "\n",
       "    .dataframe tbody tr th {\n",
       "        vertical-align: top;\n",
       "    }\n",
       "\n",
       "    .dataframe thead th {\n",
       "        text-align: right;\n",
       "    }\n",
       "</style>\n",
       "<table border=\"1\" class=\"dataframe\">\n",
       "  <thead>\n",
       "    <tr style=\"text-align: right;\">\n",
       "      <th></th>\n",
       "      <th>id</th>\n",
       "      <th>object_name</th>\n",
       "      <th>chain</th>\n",
       "      <th>object_type</th>\n",
       "      <th>address</th>\n",
       "      <th>number</th>\n",
       "      <th>street</th>\n",
       "      <th>district</th>\n",
       "    </tr>\n",
       "  </thead>\n",
       "  <tbody>\n",
       "    <tr>\n",
       "      <th>0</th>\n",
       "      <td>153644</td>\n",
       "      <td>американская лаборатория десертов</td>\n",
       "      <td>Несетевое</td>\n",
       "      <td>кафе</td>\n",
       "      <td>город москва, филипповский переулок, дом 15/5</td>\n",
       "      <td>20</td>\n",
       "      <td>филипповский переулок</td>\n",
       "      <td>Arbat</td>\n",
       "    </tr>\n",
       "    <tr>\n",
       "      <th>1</th>\n",
       "      <td>21214</td>\n",
       "      <td>столовая</td>\n",
       "      <td>Несетевое</td>\n",
       "      <td>столовая</td>\n",
       "      <td>город москва, бабаевская улица, дом 3</td>\n",
       "      <td>90</td>\n",
       "      <td>бабаевская улица</td>\n",
       "      <td>Sokol'niki</td>\n",
       "    </tr>\n",
       "    <tr>\n",
       "      <th>2</th>\n",
       "      <td>22139</td>\n",
       "      <td>хуанхэ</td>\n",
       "      <td>Несетевое</td>\n",
       "      <td>ресторан</td>\n",
       "      <td>город москва, 1-й балтийский переулок, дом 3/25</td>\n",
       "      <td>60</td>\n",
       "      <td>1-й балтийский переулок</td>\n",
       "      <td>Aeroport</td>\n",
       "    </tr>\n",
       "    <tr>\n",
       "      <th>3</th>\n",
       "      <td>25833</td>\n",
       "      <td>азербайджан</td>\n",
       "      <td>Несетевое</td>\n",
       "      <td>ресторан</td>\n",
       "      <td>город москва, улица демьяна бедного, дом 4</td>\n",
       "      <td>180</td>\n",
       "      <td>улица демьяна бедного</td>\n",
       "      <td>Khoroshevo-Mnevniki</td>\n",
       "    </tr>\n",
       "    <tr>\n",
       "      <th>4</th>\n",
       "      <td>150881</td>\n",
       "      <td>вгик</td>\n",
       "      <td>Несетевое</td>\n",
       "      <td>столовая</td>\n",
       "      <td>город москва, будайская улица, дом 3</td>\n",
       "      <td>45</td>\n",
       "      <td>будайская улица</td>\n",
       "      <td>Rostokino</td>\n",
       "    </tr>\n",
       "    <tr>\n",
       "      <th>...</th>\n",
       "      <td>...</td>\n",
       "      <td>...</td>\n",
       "      <td>...</td>\n",
       "      <td>...</td>\n",
       "      <td>...</td>\n",
       "      <td>...</td>\n",
       "      <td>...</td>\n",
       "      <td>...</td>\n",
       "    </tr>\n",
       "    <tr>\n",
       "      <th>590</th>\n",
       "      <td>197170</td>\n",
       "      <td>пицца суши</td>\n",
       "      <td>нет</td>\n",
       "      <td>кафе</td>\n",
       "      <td>город москва, поселение сосенское, посёлок ком...</td>\n",
       "      <td>8</td>\n",
       "      <td>микрорайон \"эдальго\"</td>\n",
       "      <td>Sosenskoye, Poseleniye</td>\n",
       "    </tr>\n",
       "    <tr>\n",
       "      <th>591</th>\n",
       "      <td>194926</td>\n",
       "      <td>кулинарный рай</td>\n",
       "      <td>нет</td>\n",
       "      <td>кафе</td>\n",
       "      <td>город москва, поселение внуковское, квартал № ...</td>\n",
       "      <td>70</td>\n",
       "      <td>квартал № 30</td>\n",
       "      <td>Vnukovskoye, Poseleniye</td>\n",
       "    </tr>\n",
       "    <tr>\n",
       "      <th>592</th>\n",
       "      <td>216767</td>\n",
       "      <td>кафе</td>\n",
       "      <td>нет</td>\n",
       "      <td>кафе</td>\n",
       "      <td>город москва, 80-й километр московской кольцев...</td>\n",
       "      <td>20</td>\n",
       "      <td>80-й километр московской кольцевой автодороги</td>\n",
       "      <td>Dmitrovskiy</td>\n",
       "    </tr>\n",
       "    <tr>\n",
       "      <th>593</th>\n",
       "      <td>207728</td>\n",
       "      <td>столовая№ 1 пицца</td>\n",
       "      <td>нет</td>\n",
       "      <td>столовая</td>\n",
       "      <td>город москва, поселение сосенское, посёлок газ...</td>\n",
       "      <td>35</td>\n",
       "      <td>посёлок газопровод</td>\n",
       "      <td>Sosenskoye, Poseleniye</td>\n",
       "    </tr>\n",
       "    <tr>\n",
       "      <th>594</th>\n",
       "      <td>214436</td>\n",
       "      <td>кафе</td>\n",
       "      <td>нет</td>\n",
       "      <td>буфет</td>\n",
       "      <td>город москва, поселение \"мосрентген\", мкад, 44...</td>\n",
       "      <td>36</td>\n",
       "      <td>мкад</td>\n",
       "      <td>Mosrentgen, Poseleniye</td>\n",
       "    </tr>\n",
       "  </tbody>\n",
       "</table>\n",
       "<p>595 rows × 8 columns</p>\n",
       "</div>"
      ],
      "text/plain": [
       "         id                        object_name      chain object_type  \\\n",
       "0    153644  американская лаборатория десертов  Несетевое        кафе   \n",
       "1     21214                           столовая  Несетевое    столовая   \n",
       "2     22139                             хуанхэ  Несетевое    ресторан   \n",
       "3     25833                        азербайджан  Несетевое    ресторан   \n",
       "4    150881                               вгик  Несетевое    столовая   \n",
       "..      ...                                ...        ...         ...   \n",
       "590  197170                         пицца суши        нет        кафе   \n",
       "591  194926                     кулинарный рай        нет        кафе   \n",
       "592  216767                               кафе        нет        кафе   \n",
       "593  207728                  столовая№ 1 пицца        нет    столовая   \n",
       "594  214436                               кафе        нет       буфет   \n",
       "\n",
       "                                               address  number  \\\n",
       "0        город москва, филипповский переулок, дом 15/5      20   \n",
       "1                город москва, бабаевская улица, дом 3      90   \n",
       "2      город москва, 1-й балтийский переулок, дом 3/25      60   \n",
       "3           город москва, улица демьяна бедного, дом 4     180   \n",
       "4                 город москва, будайская улица, дом 3      45   \n",
       "..                                                 ...     ...   \n",
       "590  город москва, поселение сосенское, посёлок ком...       8   \n",
       "591  город москва, поселение внуковское, квартал № ...      70   \n",
       "592  город москва, 80-й километр московской кольцев...      20   \n",
       "593  город москва, поселение сосенское, посёлок газ...      35   \n",
       "594  город москва, поселение \"мосрентген\", мкад, 44...      36   \n",
       "\n",
       "                                            street                 district  \n",
       "0                            филипповский переулок                    Arbat  \n",
       "1                                 бабаевская улица               Sokol'niki  \n",
       "2                          1-й балтийский переулок                 Aeroport  \n",
       "3                            улица демьяна бедного      Khoroshevo-Mnevniki  \n",
       "4                                  будайская улица                Rostokino  \n",
       "..                                             ...                      ...  \n",
       "590                           микрорайон \"эдальго\"   Sosenskoye, Poseleniye  \n",
       "591                                   квартал № 30  Vnukovskoye, Poseleniye  \n",
       "592  80-й километр московской кольцевой автодороги              Dmitrovskiy  \n",
       "593                             посёлок газопровод   Sosenskoye, Poseleniye  \n",
       "594                                           мкад   Mosrentgen, Poseleniye  \n",
       "\n",
       "[595 rows x 8 columns]"
      ]
     },
     "execution_count": 39,
     "metadata": {},
     "output_type": "execute_result"
    }
   ],
   "source": [
    "url = 'https://docs.google.com/spreadsheets/d/1YN5xKFSkgcdkCPeBLXSpT_TdBgcV-2Wg-4CzdtEeao8/edit?usp=sharing'\n",
    "url.split('/')\n",
    "id = url.split('/')[5]\n",
    "district_out = pd.read_csv(f'https://docs.google.com/spreadsheets/d/{id}/export?format=csv')\n",
    "district_out"
   ]
  },
  {
   "cell_type": "code",
   "execution_count": 40,
   "metadata": {},
   "outputs": [
    {
     "name": "stdout",
     "output_type": "stream",
     "text": [
      "Улицы с 1 заведением расположены в 121 районах Москвы\n"
     ]
    },
    {
     "data": {
      "text/html": [
       "<div>\n",
       "<style scoped>\n",
       "    .dataframe tbody tr th:only-of-type {\n",
       "        vertical-align: middle;\n",
       "    }\n",
       "\n",
       "    .dataframe tbody tr th {\n",
       "        vertical-align: top;\n",
       "    }\n",
       "\n",
       "    .dataframe thead th {\n",
       "        text-align: right;\n",
       "    }\n",
       "</style>\n",
       "<table border=\"1\" class=\"dataframe\">\n",
       "  <thead>\n",
       "    <tr style=\"text-align: right;\">\n",
       "      <th></th>\n",
       "      <th>district</th>\n",
       "      <th>id</th>\n",
       "    </tr>\n",
       "  </thead>\n",
       "  <tbody>\n",
       "    <tr>\n",
       "      <th>98</th>\n",
       "      <td>Taganskiy</td>\n",
       "      <td>28</td>\n",
       "    </tr>\n",
       "    <tr>\n",
       "      <th>29</th>\n",
       "      <td>Khamovniki</td>\n",
       "      <td>26</td>\n",
       "    </tr>\n",
       "    <tr>\n",
       "      <th>5</th>\n",
       "      <td>Basmannyy</td>\n",
       "      <td>22</td>\n",
       "    </tr>\n",
       "    <tr>\n",
       "      <th>104</th>\n",
       "      <td>Tverskoy</td>\n",
       "      <td>21</td>\n",
       "    </tr>\n",
       "    <tr>\n",
       "      <th>75</th>\n",
       "      <td>Presnenskiy</td>\n",
       "      <td>19</td>\n",
       "    </tr>\n",
       "    <tr>\n",
       "      <th>...</th>\n",
       "      <td>...</td>\n",
       "      <td>...</td>\n",
       "    </tr>\n",
       "    <tr>\n",
       "      <th>13</th>\n",
       "      <td>Chertanovo Severnoye</td>\n",
       "      <td>1</td>\n",
       "    </tr>\n",
       "    <tr>\n",
       "      <th>72</th>\n",
       "      <td>Perovo</td>\n",
       "      <td>1</td>\n",
       "    </tr>\n",
       "    <tr>\n",
       "      <th>28</th>\n",
       "      <td>Kapotnya</td>\n",
       "      <td>1</td>\n",
       "    </tr>\n",
       "    <tr>\n",
       "      <th>95</th>\n",
       "      <td>Staroye Kryukovo</td>\n",
       "      <td>1</td>\n",
       "    </tr>\n",
       "    <tr>\n",
       "      <th>54</th>\n",
       "      <td>Mihailovo_yarcevskoe, Poseleniye</td>\n",
       "      <td>1</td>\n",
       "    </tr>\n",
       "  </tbody>\n",
       "</table>\n",
       "<p>121 rows × 2 columns</p>\n",
       "</div>"
      ],
      "text/plain": [
       "                             district  id\n",
       "98                          Taganskiy  28\n",
       "29                         Khamovniki  26\n",
       "5                           Basmannyy  22\n",
       "104                          Tverskoy  21\n",
       "75                        Presnenskiy  19\n",
       "..                                ...  ..\n",
       "13               Chertanovo Severnoye   1\n",
       "72                             Perovo   1\n",
       "28                           Kapotnya   1\n",
       "95                   Staroye Kryukovo   1\n",
       "54   Mihailovo_yarcevskoe, Poseleniye   1\n",
       "\n",
       "[121 rows x 2 columns]"
      ]
     },
     "execution_count": 40,
     "metadata": {},
     "output_type": "execute_result"
    }
   ],
   "source": [
    "all_district = district_out.pivot_table(index='district', \n",
    "                          values='id', \n",
    "                          aggfunc='count').reset_index().sort_values(by='id', ascending=False)\n",
    "print('Улицы с 1 заведением расположены в', all_district['district'].count(), 'районах Москвы')\n",
    "all_district"
   ]
  },
  {
   "cell_type": "code",
   "execution_count": 41,
   "metadata": {
    "scrolled": true
   },
   "outputs": [
    {
     "data": {
      "image/png": "[encoded data removed]",
      "text/plain": [
       "<Figure size 1080x504 with 1 Axes>"
      ]
     },
     "metadata": {},
     "output_type": "display_data"
    }
   ],
   "source": [
    "plt.figure(figsize=(15, 7))\n",
    "ax = sns.barplot(x = 'id', y = 'district', data = all_district.head(), palette=\"Paired\")\n",
    "\n",
    "\n",
    "for p in ax.patches:\n",
    "    height = p.get_height() \n",
    "    width = p.get_width() \n",
    "    ax.text(x = width+1, \n",
    "    y = p.get_y()+(height/2), \n",
    "    s = '{:.0f}'.format(width),\n",
    "    va = 'center')\n",
    "    \n",
    "plt.xlabel('Количество улиц')\n",
    "plt.ylabel('Район')\n",
    "plt.title('Районы, в которых расположены улицы всего с 1 объектом', fontsize = 18);\n",
    "#plt.savefig('12.png');"
   ]
  },
  {
   "cell_type": "markdown",
   "metadata": {},
   "source": [
    "Итого лидирует по количеству улиц с всего 1 объектом питания Таганский - 28, а также Хамовники, Басманный и Тверской. Судя по-всему, это районы Москвы с достаточно небольшими улицами. "
   ]
  },
  {
   "cell_type": "markdown",
   "metadata": {},
   "source": [
    "## Выводы"
   ]
  },
  {
   "cell_type": "markdown",
   "metadata": {},
   "source": [
    "В результате проекта были рассмотрены данные рынка общепита в Москве. В ходе предобработки данных не было обнаружено полных дубликатов, пропусков или каких-либо очевидных ошибок в данных. Все типы данных приведены к максимально удобным. Удалены неполные дубликаты(85 строк). Итоговый датасет содержал 15281 строку.\n",
    "\n",
    "В ходе анализа было рассчитано соотношение объектов по их видам и построены необходимые диаграммы:  \n",
    "* 40% объектов составляют кафе, в абсолютных величинах это 6071 объект  \n",
    "* на втором месте по популярности столовые - 17%, 2584 объекста  \n",
    "* Меньше всего кулинарий, закусочных и кафетериев, суммарно их менее 10% от общего числа.\n",
    "\n",
    "Также было рассмотрено соотношение сетевых и несетевых заведений:\n",
    "* сетевые заведения асболютно лидируют по количеству заведений 80,6% против сетевых 19,4%\n",
    "* в абсолютных величинах это 12317 против 2964.\n",
    "\n",
    "При этом:\n",
    "* наиболее характерно сетевое распространение для fast foodов - 41,5% и кулинарий - 28,6% из них именно сетевые\n",
    "* наименее распротранены сетевые столовые и буфеты\n",
    "* абсолютное количество сетевых кафе больше fast foodов практически в два раза - 1396 против 788.\n",
    "\n",
    "Анализ количества посадочных мест показал, что:\n",
    "* наибольшее число посадочных мест в среднем пердлагают столовые - 130  \n",
    "* далее следуют рестораны - 97  \n",
    "* наименьшее число посадочных мест в закусочных, кулинариях, и кафетериях, в них посадочных мест вообще может и не быть\n",
    "* у fast foodа при этом самый большой разброс значений среди заведений одного вида\n",
    "* в зависимости от формата объекта (сетевой или нет) количество посадочных мест может отличаться, в среднем у сетевых заведений их больше.\n",
    "\n",
    "Были проанализированы самые популярные улицы с точки зрения расположения на них объектов питания:\n",
    "* лидер по количеству заведений - Проспект Мира - 203, \n",
    "* далее следуют Профсоюзная улица и Ленинградский проспект\n",
    "* наименьшее количество объектов из топ-10 находятся на улице Кировоградской - 108шт\n",
    "* данные улицы вышли в топ в основном благодаря своей бОльшей протяженности\n",
    "* топ-10 улиц расположены в 37 районах Москвы: чаще всего в Пресненском районе, Чертаново-Центральное и Тропарево-Никулино.\n",
    "\n",
    "Также были рассмотрены отдельно улицы, на которых находится всего по 1 объекту питания:\n",
    "* таких улиц 595\n",
    "* по количеству таких улиц лидирует Таганский район- 28, а \n",
    "* далее идут Хамовники, Басманный и Тверской\n",
    "* данный районы находятся в центре города и удицы, попавшие в выборку скорее всего имеют малую протяженность.\n",
    "\n",
    "Рекомендации по открытию заведения:\n",
    "* лучше всего сосредоточить свое внимание на формате кафе, это наиболее частый и \"простой\" с точки зрения посетителя формат, тем более учитывая задумку с роботами-официантами\n",
    "* в зависимости от экономических показателей после октрытия стоит задуматься о возможности откртыия небольшой сети данных кафе\n",
    "* количество посадочных мест будет зависеть от помещения и геолокации, но лучше планировать 30-40, это средний показатель для кафе\n",
    "* выбор локации всегда очень сложный вопрос для бизнеса, это всегда совокупность многих факторов, начиная от потока людей, заканчивая соседством с другими заведениями. В рамках данной имеющейся информации имеет смысл начать с районов и улиц, которые были определены нами с 1 заведением - Таганский, Хамовники, Басманный, Тверской. Это центральные районы города, где скорее всего будет хороший поток посетителей, а конкуренция пока не сильная. С другой стороны при более дательном изучении может оказаться, что там не просто так нет других заведений.\n",
    "\n",
    "По результатам исследования была выполнена презентация:"
   ]
  },
  {
   "cell_type": "markdown",
   "metadata": {},
   "source": [
    "Презентация: <https://drive.google.com/file/d/1mx--frSZoMQNWI0k2p-vT7_RMtPlVE27/view?usp=sharing>"
   ]
  }
 ],
 "metadata": {
  "ExecuteTimeLog": [
   {
    "duration": 1316,
    "start_time": "2022-07-26T09:39:21.214Z"
   },
   {
    "duration": 142,
    "start_time": "2022-07-26T09:40:26.097Z"
   },
   {
    "duration": 287,
    "start_time": "2022-07-26T09:40:35.496Z"
   },
   {
    "duration": 71,
    "start_time": "2022-07-26T09:41:11.842Z"
   },
   {
    "duration": 46,
    "start_time": "2022-07-26T09:43:14.509Z"
   },
   {
    "duration": 24,
    "start_time": "2022-07-26T09:45:12.602Z"
   },
   {
    "duration": 25,
    "start_time": "2022-07-26T09:45:47.324Z"
   },
   {
    "duration": 29,
    "start_time": "2022-07-26T09:46:48.617Z"
   },
   {
    "duration": 14,
    "start_time": "2022-07-26T09:47:13.843Z"
   },
   {
    "duration": 29,
    "start_time": "2022-07-26T09:47:18.817Z"
   },
   {
    "duration": 25,
    "start_time": "2022-07-26T09:51:47.290Z"
   },
   {
    "duration": 50,
    "start_time": "2022-07-26T09:52:25.246Z"
   },
   {
    "duration": 31,
    "start_time": "2022-07-26T10:01:27.232Z"
   },
   {
    "duration": 24,
    "start_time": "2022-07-26T10:01:49.738Z"
   },
   {
    "duration": 20,
    "start_time": "2022-07-26T10:03:39.764Z"
   },
   {
    "duration": 23,
    "start_time": "2022-07-26T10:03:49.544Z"
   },
   {
    "duration": 32,
    "start_time": "2022-07-26T10:04:05.836Z"
   },
   {
    "duration": 31,
    "start_time": "2022-07-26T10:04:14.942Z"
   },
   {
    "duration": 4,
    "start_time": "2022-07-26T10:04:19.905Z"
   },
   {
    "duration": 31,
    "start_time": "2022-07-26T10:04:23.174Z"
   },
   {
    "duration": 35,
    "start_time": "2022-07-26T10:04:36.703Z"
   },
   {
    "duration": 43,
    "start_time": "2022-07-26T10:05:03.815Z"
   },
   {
    "duration": 37,
    "start_time": "2022-07-26T10:05:26.573Z"
   },
   {
    "duration": 37,
    "start_time": "2022-07-26T10:05:40.503Z"
   },
   {
    "duration": 42,
    "start_time": "2022-07-26T10:05:53.695Z"
   },
   {
    "duration": 17,
    "start_time": "2022-07-26T10:06:07.136Z"
   },
   {
    "duration": 44,
    "start_time": "2022-07-26T10:06:09.816Z"
   },
   {
    "duration": 17,
    "start_time": "2022-07-26T10:07:02.876Z"
   },
   {
    "duration": 14,
    "start_time": "2022-07-26T10:20:00.035Z"
   },
   {
    "duration": 7,
    "start_time": "2022-07-26T10:20:28.063Z"
   },
   {
    "duration": 6,
    "start_time": "2022-07-26T10:20:41.023Z"
   },
   {
    "duration": 6,
    "start_time": "2022-07-26T10:20:49.400Z"
   },
   {
    "duration": 11,
    "start_time": "2022-07-26T10:21:13.886Z"
   },
   {
    "duration": 12,
    "start_time": "2022-07-26T10:22:09.193Z"
   },
   {
    "duration": 16,
    "start_time": "2022-07-26T10:27:18.073Z"
   },
   {
    "duration": 15,
    "start_time": "2022-07-26T10:36:41.595Z"
   },
   {
    "duration": 15,
    "start_time": "2022-07-26T10:38:35.290Z"
   },
   {
    "duration": 14,
    "start_time": "2022-07-26T10:39:32.891Z"
   },
   {
    "duration": 21,
    "start_time": "2022-07-26T10:39:39.019Z"
   },
   {
    "duration": 14,
    "start_time": "2022-07-26T10:42:27.781Z"
   },
   {
    "duration": 15,
    "start_time": "2022-07-26T10:42:33.208Z"
   },
   {
    "duration": 66,
    "start_time": "2022-07-26T10:42:56.447Z"
   },
   {
    "duration": 24,
    "start_time": "2022-07-26T10:42:59.754Z"
   },
   {
    "duration": 1172,
    "start_time": "2022-07-26T10:43:40.243Z"
   },
   {
    "duration": 78,
    "start_time": "2022-07-26T10:43:41.417Z"
   },
   {
    "duration": 73,
    "start_time": "2022-07-26T10:43:41.497Z"
   },
   {
    "duration": 58,
    "start_time": "2022-07-26T10:43:41.572Z"
   },
   {
    "duration": 29,
    "start_time": "2022-07-26T10:43:41.633Z"
   },
   {
    "duration": 34,
    "start_time": "2022-07-26T10:43:41.664Z"
   },
   {
    "duration": 40,
    "start_time": "2022-07-26T10:43:41.699Z"
   },
   {
    "duration": 8,
    "start_time": "2022-07-26T10:43:41.741Z"
   },
   {
    "duration": 10,
    "start_time": "2022-07-26T10:43:41.751Z"
   },
   {
    "duration": 13,
    "start_time": "2022-07-26T10:43:41.763Z"
   },
   {
    "duration": 14,
    "start_time": "2022-07-26T10:43:41.778Z"
   },
   {
    "duration": 45,
    "start_time": "2022-07-26T10:43:41.794Z"
   },
   {
    "duration": 122,
    "start_time": "2022-07-26T10:43:41.841Z"
   },
   {
    "duration": 20,
    "start_time": "2022-07-26T10:44:32.391Z"
   },
   {
    "duration": 16,
    "start_time": "2022-07-26T10:45:02.548Z"
   },
   {
    "duration": 20,
    "start_time": "2022-07-26T10:45:15.442Z"
   },
   {
    "duration": 13,
    "start_time": "2022-07-26T10:46:39.308Z"
   },
   {
    "duration": 15,
    "start_time": "2022-07-26T10:46:55.951Z"
   },
   {
    "duration": 14,
    "start_time": "2022-07-26T10:49:05.715Z"
   },
   {
    "duration": 13,
    "start_time": "2022-07-26T10:59:48.314Z"
   },
   {
    "duration": 13,
    "start_time": "2022-07-26T11:00:33.758Z"
   },
   {
    "duration": 11,
    "start_time": "2022-07-26T11:01:17.236Z"
   },
   {
    "duration": 13,
    "start_time": "2022-07-26T11:01:20.948Z"
   },
   {
    "duration": 13,
    "start_time": "2022-07-26T11:01:28.278Z"
   },
   {
    "duration": 14,
    "start_time": "2022-07-26T11:01:52.672Z"
   },
   {
    "duration": 15,
    "start_time": "2022-07-26T11:02:00.053Z"
   },
   {
    "duration": 15,
    "start_time": "2022-07-26T11:02:52.956Z"
   },
   {
    "duration": 3,
    "start_time": "2022-07-26T11:03:13.585Z"
   },
   {
    "duration": 13,
    "start_time": "2022-07-26T11:03:16.703Z"
   },
   {
    "duration": 15,
    "start_time": "2022-07-26T11:03:35.448Z"
   },
   {
    "duration": 15,
    "start_time": "2022-07-26T11:03:42.298Z"
   },
   {
    "duration": 13,
    "start_time": "2022-07-26T11:03:50.360Z"
   },
   {
    "duration": 173,
    "start_time": "2022-07-26T11:04:34.802Z"
   },
   {
    "duration": 171,
    "start_time": "2022-07-26T11:05:15.722Z"
   },
   {
    "duration": 169,
    "start_time": "2022-07-26T11:06:09.961Z"
   },
   {
    "duration": 191,
    "start_time": "2022-07-26T11:07:11.395Z"
   },
   {
    "duration": 246,
    "start_time": "2022-07-26T11:08:47.582Z"
   },
   {
    "duration": 207,
    "start_time": "2022-07-26T11:09:02.620Z"
   },
   {
    "duration": 230,
    "start_time": "2022-07-26T11:09:59.026Z"
   },
   {
    "duration": 193,
    "start_time": "2022-07-26T11:10:08.230Z"
   },
   {
    "duration": 1142,
    "start_time": "2022-07-26T11:10:14.892Z"
   },
   {
    "duration": 71,
    "start_time": "2022-07-26T11:10:16.036Z"
   },
   {
    "duration": 66,
    "start_time": "2022-07-26T11:10:16.109Z"
   },
   {
    "duration": 51,
    "start_time": "2022-07-26T11:10:16.177Z"
   },
   {
    "duration": 23,
    "start_time": "2022-07-26T11:10:16.230Z"
   },
   {
    "duration": 33,
    "start_time": "2022-07-26T11:10:16.254Z"
   },
   {
    "duration": 42,
    "start_time": "2022-07-26T11:10:16.289Z"
   },
   {
    "duration": 9,
    "start_time": "2022-07-26T11:10:16.332Z"
   },
   {
    "duration": 12,
    "start_time": "2022-07-26T11:10:16.342Z"
   },
   {
    "duration": 11,
    "start_time": "2022-07-26T11:10:16.357Z"
   },
   {
    "duration": 16,
    "start_time": "2022-07-26T11:10:16.369Z"
   },
   {
    "duration": 43,
    "start_time": "2022-07-26T11:10:16.386Z"
   },
   {
    "duration": 197,
    "start_time": "2022-07-26T11:10:16.430Z"
   },
   {
    "duration": 1181,
    "start_time": "2022-07-26T11:10:25.445Z"
   },
   {
    "duration": 71,
    "start_time": "2022-07-26T11:10:26.628Z"
   },
   {
    "duration": 72,
    "start_time": "2022-07-26T11:10:26.700Z"
   },
   {
    "duration": 59,
    "start_time": "2022-07-26T11:10:26.774Z"
   },
   {
    "duration": 21,
    "start_time": "2022-07-26T11:10:26.835Z"
   },
   {
    "duration": 34,
    "start_time": "2022-07-26T11:10:26.858Z"
   },
   {
    "duration": 38,
    "start_time": "2022-07-26T11:10:26.893Z"
   },
   {
    "duration": 8,
    "start_time": "2022-07-26T11:10:26.934Z"
   },
   {
    "duration": 11,
    "start_time": "2022-07-26T11:10:26.943Z"
   },
   {
    "duration": 26,
    "start_time": "2022-07-26T11:10:26.956Z"
   },
   {
    "duration": 22,
    "start_time": "2022-07-26T11:10:26.984Z"
   },
   {
    "duration": 29,
    "start_time": "2022-07-26T11:10:27.008Z"
   },
   {
    "duration": 212,
    "start_time": "2022-07-26T11:10:27.039Z"
   },
   {
    "duration": 209,
    "start_time": "2022-07-26T11:11:01.217Z"
   },
   {
    "duration": 219,
    "start_time": "2022-07-26T11:11:22.088Z"
   },
   {
    "duration": 51,
    "start_time": "2022-07-26T11:11:39.452Z"
   },
   {
    "duration": 120,
    "start_time": "2022-07-26T11:11:43.384Z"
   },
   {
    "duration": 322,
    "start_time": "2022-07-26T11:11:57.282Z"
   },
   {
    "duration": 213,
    "start_time": "2022-07-26T11:12:04.361Z"
   },
   {
    "duration": 231,
    "start_time": "2022-07-26T11:12:16.179Z"
   },
   {
    "duration": 223,
    "start_time": "2022-07-26T11:12:54.036Z"
   },
   {
    "duration": 11,
    "start_time": "2022-07-26T11:15:58.094Z"
   },
   {
    "duration": 11,
    "start_time": "2022-07-26T11:16:10.750Z"
   },
   {
    "duration": 14,
    "start_time": "2022-07-26T11:16:20.257Z"
   },
   {
    "duration": 16,
    "start_time": "2022-07-26T11:16:39.500Z"
   },
   {
    "duration": 292,
    "start_time": "2022-07-26T11:16:48.077Z"
   },
   {
    "duration": 208,
    "start_time": "2022-07-26T11:17:13.858Z"
   },
   {
    "duration": 209,
    "start_time": "2022-07-26T11:19:32.240Z"
   },
   {
    "duration": 13,
    "start_time": "2022-07-26T11:24:07.905Z"
   },
   {
    "duration": 223,
    "start_time": "2022-07-26T11:24:16.864Z"
   },
   {
    "duration": 196,
    "start_time": "2022-07-26T11:25:00.746Z"
   },
   {
    "duration": 11,
    "start_time": "2022-07-26T11:25:13.350Z"
   },
   {
    "duration": 235,
    "start_time": "2022-07-26T11:25:18.290Z"
   },
   {
    "duration": 243,
    "start_time": "2022-07-26T11:25:57.186Z"
   },
   {
    "duration": 253,
    "start_time": "2022-07-26T11:28:48.627Z"
   },
   {
    "duration": 241,
    "start_time": "2022-07-26T11:33:09.986Z"
   },
   {
    "duration": 233,
    "start_time": "2022-07-26T11:34:56.058Z"
   },
   {
    "duration": 256,
    "start_time": "2022-07-26T11:35:29.091Z"
   },
   {
    "duration": 26,
    "start_time": "2022-07-26T11:35:34.765Z"
   },
   {
    "duration": 332,
    "start_time": "2022-07-26T11:35:41.515Z"
   },
   {
    "duration": 248,
    "start_time": "2022-07-26T11:37:29.755Z"
   },
   {
    "duration": 266,
    "start_time": "2022-07-26T11:37:43.563Z"
   },
   {
    "duration": 245,
    "start_time": "2022-07-26T11:38:53.757Z"
   },
   {
    "duration": 251,
    "start_time": "2022-07-26T11:42:34.312Z"
   },
   {
    "duration": 270,
    "start_time": "2022-07-26T11:42:46.717Z"
   },
   {
    "duration": 244,
    "start_time": "2022-07-26T11:43:12.073Z"
   },
   {
    "duration": 1204,
    "start_time": "2022-07-26T11:43:18.244Z"
   },
   {
    "duration": 69,
    "start_time": "2022-07-26T11:43:19.450Z"
   },
   {
    "duration": 74,
    "start_time": "2022-07-26T11:43:19.520Z"
   },
   {
    "duration": 79,
    "start_time": "2022-07-26T11:43:19.596Z"
   },
   {
    "duration": 23,
    "start_time": "2022-07-26T11:43:19.677Z"
   },
   {
    "duration": 52,
    "start_time": "2022-07-26T11:43:19.702Z"
   },
   {
    "duration": 25,
    "start_time": "2022-07-26T11:43:19.756Z"
   },
   {
    "duration": 9,
    "start_time": "2022-07-26T11:43:19.784Z"
   },
   {
    "duration": 45,
    "start_time": "2022-07-26T11:43:19.795Z"
   },
   {
    "duration": 15,
    "start_time": "2022-07-26T11:43:19.843Z"
   },
   {
    "duration": 19,
    "start_time": "2022-07-26T11:43:19.860Z"
   },
   {
    "duration": 16,
    "start_time": "2022-07-26T11:43:19.881Z"
   },
   {
    "duration": 373,
    "start_time": "2022-07-26T11:43:19.899Z"
   },
   {
    "duration": 1123,
    "start_time": "2022-07-26T11:44:37.235Z"
   },
   {
    "duration": 1277,
    "start_time": "2022-07-26T11:47:08.577Z"
   },
   {
    "duration": 87,
    "start_time": "2022-07-26T11:47:09.855Z"
   },
   {
    "duration": 123,
    "start_time": "2022-07-26T11:47:09.943Z"
   },
   {
    "duration": 95,
    "start_time": "2022-07-26T11:47:10.068Z"
   },
   {
    "duration": 74,
    "start_time": "2022-07-26T11:47:10.165Z"
   },
   {
    "duration": 95,
    "start_time": "2022-07-26T11:47:10.240Z"
   },
   {
    "duration": 15,
    "start_time": "2022-07-26T11:47:10.337Z"
   },
   {
    "duration": 8,
    "start_time": "2022-07-26T11:47:10.354Z"
   },
   {
    "duration": 66,
    "start_time": "2022-07-26T11:47:10.363Z"
   },
   {
    "duration": 16,
    "start_time": "2022-07-26T11:47:10.431Z"
   },
   {
    "duration": 15,
    "start_time": "2022-07-26T11:47:10.449Z"
   },
   {
    "duration": 71,
    "start_time": "2022-07-26T11:47:10.466Z"
   },
   {
    "duration": 728,
    "start_time": "2022-07-26T11:47:10.538Z"
   },
   {
    "duration": 259,
    "start_time": "2022-07-26T11:48:03.052Z"
   },
   {
    "duration": 253,
    "start_time": "2022-07-26T11:49:07.872Z"
   },
   {
    "duration": 250,
    "start_time": "2022-07-26T11:50:51.555Z"
   },
   {
    "duration": 312,
    "start_time": "2022-07-26T11:51:08.679Z"
   },
   {
    "duration": 243,
    "start_time": "2022-07-26T11:51:23.247Z"
   },
   {
    "duration": 272,
    "start_time": "2022-07-26T11:51:41.212Z"
   },
   {
    "duration": 250,
    "start_time": "2022-07-26T11:52:13.755Z"
   },
   {
    "duration": 326,
    "start_time": "2022-07-26T11:52:46.936Z"
   },
   {
    "duration": 234,
    "start_time": "2022-07-26T11:53:01.472Z"
   },
   {
    "duration": 252,
    "start_time": "2022-07-26T11:54:22.694Z"
   },
   {
    "duration": 62,
    "start_time": "2022-07-26T11:58:39.546Z"
   },
   {
    "duration": 296,
    "start_time": "2022-07-26T11:58:45.827Z"
   },
   {
    "duration": 2058,
    "start_time": "2022-07-26T12:01:39.373Z"
   },
   {
    "duration": 1194,
    "start_time": "2022-07-26T12:01:51.484Z"
   },
   {
    "duration": 2051,
    "start_time": "2022-07-26T12:01:52.680Z"
   },
   {
    "duration": 71,
    "start_time": "2022-07-26T12:01:54.733Z"
   },
   {
    "duration": 77,
    "start_time": "2022-07-26T12:01:54.806Z"
   },
   {
    "duration": 66,
    "start_time": "2022-07-26T12:01:54.885Z"
   },
   {
    "duration": 24,
    "start_time": "2022-07-26T12:01:54.955Z"
   },
   {
    "duration": 53,
    "start_time": "2022-07-26T12:01:54.982Z"
   },
   {
    "duration": 17,
    "start_time": "2022-07-26T12:01:55.038Z"
   },
   {
    "duration": 11,
    "start_time": "2022-07-26T12:01:55.057Z"
   },
   {
    "duration": 19,
    "start_time": "2022-07-26T12:01:55.071Z"
   },
   {
    "duration": 40,
    "start_time": "2022-07-26T12:01:55.092Z"
   },
   {
    "duration": 14,
    "start_time": "2022-07-26T12:01:55.134Z"
   },
   {
    "duration": 73,
    "start_time": "2022-07-26T12:01:55.150Z"
   },
   {
    "duration": 534,
    "start_time": "2022-07-26T12:01:55.225Z"
   },
   {
    "duration": 480,
    "start_time": "2022-07-26T12:01:55.761Z"
   },
   {
    "duration": 372,
    "start_time": "2022-07-26T12:02:21.660Z"
   },
   {
    "duration": 740,
    "start_time": "2022-07-26T12:03:02.365Z"
   },
   {
    "duration": 866,
    "start_time": "2022-07-26T12:03:15.918Z"
   },
   {
    "duration": 51,
    "start_time": "2022-07-26T12:04:44.483Z"
   },
   {
    "duration": 49,
    "start_time": "2022-07-26T12:05:41.414Z"
   },
   {
    "duration": 1296,
    "start_time": "2022-07-26T12:05:48.223Z"
   },
   {
    "duration": 112,
    "start_time": "2022-07-26T12:05:49.523Z"
   },
   {
    "duration": 206,
    "start_time": "2022-07-26T12:05:49.637Z"
   },
   {
    "duration": 102,
    "start_time": "2022-07-26T12:05:49.846Z"
   },
   {
    "duration": 73,
    "start_time": "2022-07-26T12:05:49.950Z"
   },
   {
    "duration": 43,
    "start_time": "2022-07-26T12:05:50.025Z"
   },
   {
    "duration": 66,
    "start_time": "2022-07-26T12:05:50.069Z"
   },
   {
    "duration": 8,
    "start_time": "2022-07-26T12:05:50.137Z"
   },
   {
    "duration": 21,
    "start_time": "2022-07-26T12:05:50.147Z"
   },
   {
    "duration": 55,
    "start_time": "2022-07-26T12:05:50.170Z"
   },
   {
    "duration": 21,
    "start_time": "2022-07-26T12:05:50.227Z"
   },
   {
    "duration": 77,
    "start_time": "2022-07-26T12:05:50.250Z"
   },
   {
    "duration": 532,
    "start_time": "2022-07-26T12:05:50.329Z"
   },
   {
    "duration": 481,
    "start_time": "2022-07-26T12:05:50.863Z"
   },
   {
    "duration": 119,
    "start_time": "2022-07-26T12:07:25.875Z"
   },
   {
    "duration": 12,
    "start_time": "2022-07-26T12:08:20.398Z"
   },
   {
    "duration": 157,
    "start_time": "2022-07-26T12:08:28.176Z"
   },
   {
    "duration": 150,
    "start_time": "2022-07-26T12:09:22.059Z"
   },
   {
    "duration": 12,
    "start_time": "2022-07-26T12:09:43.493Z"
   },
   {
    "duration": 1289,
    "start_time": "2022-07-26T12:09:52.154Z"
   },
   {
    "duration": 158,
    "start_time": "2022-07-26T12:10:08.789Z"
   },
   {
    "duration": 159,
    "start_time": "2022-07-26T12:10:19.563Z"
   },
   {
    "duration": 162,
    "start_time": "2022-07-26T12:11:06.277Z"
   },
   {
    "duration": 161,
    "start_time": "2022-07-26T12:11:58.032Z"
   },
   {
    "duration": 252,
    "start_time": "2022-07-26T12:17:18.659Z"
   },
   {
    "duration": 242,
    "start_time": "2022-07-26T12:17:30.306Z"
   },
   {
    "duration": 247,
    "start_time": "2022-07-26T12:20:05.143Z"
   },
   {
    "duration": 272,
    "start_time": "2022-07-26T12:20:14.874Z"
   },
   {
    "duration": 257,
    "start_time": "2022-07-26T12:20:33.734Z"
   },
   {
    "duration": 261,
    "start_time": "2022-07-26T12:20:59.652Z"
   },
   {
    "duration": 274,
    "start_time": "2022-07-26T12:21:11.220Z"
   },
   {
    "duration": 6,
    "start_time": "2022-07-26T12:22:20.378Z"
   },
   {
    "duration": 264,
    "start_time": "2022-07-26T12:23:04.400Z"
   },
   {
    "duration": 286,
    "start_time": "2022-07-26T12:24:04.920Z"
   },
   {
    "duration": 19,
    "start_time": "2022-07-26T12:25:31.139Z"
   },
   {
    "duration": 20,
    "start_time": "2022-07-26T12:26:17.143Z"
   },
   {
    "duration": 184,
    "start_time": "2022-07-26T12:27:00.334Z"
   },
   {
    "duration": 261,
    "start_time": "2022-07-26T12:27:10.078Z"
   },
   {
    "duration": 171,
    "start_time": "2022-07-26T12:29:11.841Z"
   },
   {
    "duration": 181,
    "start_time": "2022-07-26T12:29:54.022Z"
   },
   {
    "duration": 93,
    "start_time": "2022-07-26T12:30:01.708Z"
   },
   {
    "duration": 77,
    "start_time": "2022-07-26T12:30:13.640Z"
   },
   {
    "duration": 79,
    "start_time": "2022-07-26T12:30:43.139Z"
   },
   {
    "duration": 190,
    "start_time": "2022-07-26T12:34:00.613Z"
   },
   {
    "duration": 186,
    "start_time": "2022-07-26T12:34:05.299Z"
   },
   {
    "duration": 185,
    "start_time": "2022-07-26T12:34:11.146Z"
   },
   {
    "duration": 24,
    "start_time": "2022-07-26T12:47:42.329Z"
   },
   {
    "duration": 26,
    "start_time": "2022-07-26T12:47:58.928Z"
   },
   {
    "duration": 24,
    "start_time": "2022-07-26T12:48:06.397Z"
   },
   {
    "duration": 21,
    "start_time": "2022-07-26T12:48:28.335Z"
   },
   {
    "duration": 917,
    "start_time": "2022-07-26T12:48:55.035Z"
   },
   {
    "duration": 27,
    "start_time": "2022-07-26T12:49:10.170Z"
   },
   {
    "duration": 16,
    "start_time": "2022-07-26T12:50:00.335Z"
   },
   {
    "duration": 36,
    "start_time": "2022-07-26T12:50:06.924Z"
   },
   {
    "duration": 105,
    "start_time": "2022-07-26T12:52:07.235Z"
   },
   {
    "duration": 4,
    "start_time": "2022-07-26T12:52:30.182Z"
   },
   {
    "duration": 13,
    "start_time": "2022-07-26T12:52:37.345Z"
   },
   {
    "duration": 10,
    "start_time": "2022-07-26T12:55:58.181Z"
   },
   {
    "duration": 11,
    "start_time": "2022-07-26T12:56:20.186Z"
   },
   {
    "duration": 12,
    "start_time": "2022-07-26T12:56:34.482Z"
   },
   {
    "duration": 2061,
    "start_time": "2022-07-26T12:56:41.406Z"
   },
   {
    "duration": 73,
    "start_time": "2022-07-26T12:56:43.470Z"
   },
   {
    "duration": 109,
    "start_time": "2022-07-26T12:56:43.545Z"
   },
   {
    "duration": 42,
    "start_time": "2022-07-26T12:56:43.656Z"
   },
   {
    "duration": 36,
    "start_time": "2022-07-26T12:56:43.700Z"
   },
   {
    "duration": 38,
    "start_time": "2022-07-26T12:56:43.738Z"
   },
   {
    "duration": 16,
    "start_time": "2022-07-26T12:56:43.777Z"
   },
   {
    "duration": 7,
    "start_time": "2022-07-26T12:56:43.795Z"
   },
   {
    "duration": 17,
    "start_time": "2022-07-26T12:56:43.828Z"
   },
   {
    "duration": 14,
    "start_time": "2022-07-26T12:56:43.847Z"
   },
   {
    "duration": 14,
    "start_time": "2022-07-26T12:56:43.863Z"
   },
   {
    "duration": 15,
    "start_time": "2022-07-26T12:56:43.879Z"
   },
   {
    "duration": 349,
    "start_time": "2022-07-26T12:56:43.896Z"
   },
   {
    "duration": 189,
    "start_time": "2022-07-26T12:56:44.248Z"
   },
   {
    "duration": 16,
    "start_time": "2022-07-26T12:56:44.439Z"
   },
   {
    "duration": 194,
    "start_time": "2022-07-26T12:56:44.457Z"
   },
   {
    "duration": 3,
    "start_time": "2022-07-26T12:56:44.652Z"
   },
   {
    "duration": 90,
    "start_time": "2022-07-26T12:56:44.657Z"
   },
   {
    "duration": 22,
    "start_time": "2022-07-26T12:56:44.749Z"
   },
   {
    "duration": 11,
    "start_time": "2022-07-26T12:56:44.772Z"
   },
   {
    "duration": 259,
    "start_time": "2022-07-26T12:59:20.054Z"
   },
   {
    "duration": 260,
    "start_time": "2022-07-26T12:59:44.656Z"
   },
   {
    "duration": 749,
    "start_time": "2022-07-26T13:02:42.642Z"
   },
   {
    "duration": 22,
    "start_time": "2022-07-26T13:04:57.839Z"
   },
   {
    "duration": 120,
    "start_time": "2022-07-26T13:05:54.620Z"
   },
   {
    "duration": 16,
    "start_time": "2022-07-26T13:06:04.922Z"
   },
   {
    "duration": 23,
    "start_time": "2022-07-26T13:06:24.319Z"
   },
   {
    "duration": 12,
    "start_time": "2022-07-26T13:06:30.444Z"
   },
   {
    "duration": 336,
    "start_time": "2022-07-26T13:06:43.819Z"
   },
   {
    "duration": 296,
    "start_time": "2022-07-26T13:07:12.846Z"
   },
   {
    "duration": 291,
    "start_time": "2022-07-26T13:07:49.161Z"
   },
   {
    "duration": 1107,
    "start_time": "2022-07-26T13:08:14.767Z"
   },
   {
    "duration": 344,
    "start_time": "2022-07-26T13:13:15.234Z"
   },
   {
    "duration": 298,
    "start_time": "2022-07-26T13:14:25.015Z"
   },
   {
    "duration": 290,
    "start_time": "2022-07-26T13:15:23.966Z"
   },
   {
    "duration": 304,
    "start_time": "2022-07-26T13:15:32.872Z"
   },
   {
    "duration": 1201,
    "start_time": "2022-07-26T13:16:56.112Z"
   },
   {
    "duration": 25,
    "start_time": "2022-07-26T13:17:25.067Z"
   },
   {
    "duration": 25,
    "start_time": "2022-07-26T13:17:44.272Z"
   },
   {
    "duration": 17,
    "start_time": "2022-07-26T13:18:44.883Z"
   },
   {
    "duration": 25,
    "start_time": "2022-07-26T13:19:39.788Z"
   },
   {
    "duration": 19,
    "start_time": "2022-07-26T13:19:45.171Z"
   },
   {
    "duration": 290,
    "start_time": "2022-07-26T13:19:47.039Z"
   },
   {
    "duration": 316,
    "start_time": "2022-07-26T13:20:08.067Z"
   },
   {
    "duration": 339,
    "start_time": "2022-07-26T13:20:52.896Z"
   },
   {
    "duration": 428,
    "start_time": "2022-07-26T13:21:11.575Z"
   },
   {
    "duration": 328,
    "start_time": "2022-07-26T13:21:20.314Z"
   },
   {
    "duration": 25,
    "start_time": "2022-07-26T13:21:55.252Z"
   },
   {
    "duration": 26,
    "start_time": "2022-07-26T13:24:08.593Z"
   },
   {
    "duration": 398,
    "start_time": "2022-07-26T13:24:28.935Z"
   },
   {
    "duration": 263,
    "start_time": "2022-07-26T13:25:20.001Z"
   },
   {
    "duration": 261,
    "start_time": "2022-07-26T13:25:37.384Z"
   },
   {
    "duration": 280,
    "start_time": "2022-07-26T13:25:48.048Z"
   },
   {
    "duration": 277,
    "start_time": "2022-07-26T13:27:14.998Z"
   },
   {
    "duration": 288,
    "start_time": "2022-07-26T13:27:39.591Z"
   },
   {
    "duration": 287,
    "start_time": "2022-07-26T13:27:46.838Z"
   },
   {
    "duration": 29,
    "start_time": "2022-07-26T13:27:57.727Z"
   },
   {
    "duration": 312,
    "start_time": "2022-07-26T13:27:59.721Z"
   },
   {
    "duration": 319,
    "start_time": "2022-07-26T13:28:29.714Z"
   },
   {
    "duration": 20,
    "start_time": "2022-07-26T13:28:35.706Z"
   },
   {
    "duration": 11,
    "start_time": "2022-07-26T13:34:34.926Z"
   },
   {
    "duration": 56,
    "start_time": "2022-07-26T13:35:26.806Z"
   },
   {
    "duration": 6,
    "start_time": "2022-07-26T13:35:37.280Z"
   },
   {
    "duration": 10,
    "start_time": "2022-07-26T13:35:45.500Z"
   },
   {
    "duration": 65,
    "start_time": "2022-07-26T13:37:57.908Z"
   },
   {
    "duration": 12,
    "start_time": "2022-07-26T13:38:12.942Z"
   },
   {
    "duration": 9,
    "start_time": "2022-07-26T13:38:26.862Z"
   },
   {
    "duration": 1267,
    "start_time": "2022-07-26T13:38:32.301Z"
   },
   {
    "duration": 263,
    "start_time": "2022-07-26T13:38:33.570Z"
   },
   {
    "duration": 83,
    "start_time": "2022-07-26T13:38:33.834Z"
   },
   {
    "duration": 42,
    "start_time": "2022-07-26T13:38:33.919Z"
   },
   {
    "duration": 73,
    "start_time": "2022-07-26T13:38:33.963Z"
   },
   {
    "duration": 87,
    "start_time": "2022-07-26T13:38:34.038Z"
   },
   {
    "duration": 17,
    "start_time": "2022-07-26T13:38:34.127Z"
   },
   {
    "duration": 8,
    "start_time": "2022-07-26T13:38:34.146Z"
   },
   {
    "duration": 70,
    "start_time": "2022-07-26T13:38:34.155Z"
   },
   {
    "duration": 16,
    "start_time": "2022-07-26T13:38:34.228Z"
   },
   {
    "duration": 14,
    "start_time": "2022-07-26T13:38:34.246Z"
   },
   {
    "duration": 63,
    "start_time": "2022-07-26T13:38:34.261Z"
   },
   {
    "duration": 16,
    "start_time": "2022-07-26T13:38:34.325Z"
   },
   {
    "duration": 595,
    "start_time": "2022-07-26T13:38:34.343Z"
   },
   {
    "duration": 325,
    "start_time": "2022-07-26T13:38:34.940Z"
   },
   {
    "duration": 66,
    "start_time": "2022-07-26T13:38:35.267Z"
   },
   {
    "duration": 398,
    "start_time": "2022-07-26T13:38:35.335Z"
   },
   {
    "duration": 3,
    "start_time": "2022-07-26T13:38:35.734Z"
   },
   {
    "duration": 148,
    "start_time": "2022-07-26T13:38:35.738Z"
   },
   {
    "duration": 46,
    "start_time": "2022-07-26T13:38:35.888Z"
   },
   {
    "duration": 332,
    "start_time": "2022-07-26T13:38:35.936Z"
   },
   {
    "duration": 20,
    "start_time": "2022-07-26T13:38:36.270Z"
   },
   {
    "duration": 311,
    "start_time": "2022-07-26T13:38:36.292Z"
   },
   {
    "duration": 12,
    "start_time": "2022-07-26T13:40:10.891Z"
   },
   {
    "duration": 114,
    "start_time": "2022-07-26T13:40:43.868Z"
   },
   {
    "duration": 12,
    "start_time": "2022-07-26T13:40:49.873Z"
   },
   {
    "duration": 1176,
    "start_time": "2022-07-26T13:40:54.454Z"
   },
   {
    "duration": 70,
    "start_time": "2022-07-26T13:40:55.632Z"
   },
   {
    "duration": 70,
    "start_time": "2022-07-26T13:40:55.704Z"
   },
   {
    "duration": 57,
    "start_time": "2022-07-26T13:40:55.776Z"
   },
   {
    "duration": 23,
    "start_time": "2022-07-26T13:40:55.836Z"
   },
   {
    "duration": 37,
    "start_time": "2022-07-26T13:40:55.861Z"
   },
   {
    "duration": 38,
    "start_time": "2022-07-26T13:40:55.899Z"
   },
   {
    "duration": 9,
    "start_time": "2022-07-26T13:40:55.939Z"
   },
   {
    "duration": 13,
    "start_time": "2022-07-26T13:40:55.950Z"
   },
   {
    "duration": 17,
    "start_time": "2022-07-26T13:40:55.966Z"
   },
   {
    "duration": 42,
    "start_time": "2022-07-26T13:40:55.985Z"
   },
   {
    "duration": 15,
    "start_time": "2022-07-26T13:40:56.029Z"
   },
   {
    "duration": 23,
    "start_time": "2022-07-26T13:40:56.046Z"
   },
   {
    "duration": 496,
    "start_time": "2022-07-26T13:40:56.072Z"
   },
   {
    "duration": 363,
    "start_time": "2022-07-26T13:40:56.569Z"
   },
   {
    "duration": 16,
    "start_time": "2022-07-26T13:40:56.933Z"
   },
   {
    "duration": 380,
    "start_time": "2022-07-26T13:40:56.951Z"
   },
   {
    "duration": 2,
    "start_time": "2022-07-26T13:40:57.333Z"
   },
   {
    "duration": 128,
    "start_time": "2022-07-26T13:40:57.337Z"
   },
   {
    "duration": 70,
    "start_time": "2022-07-26T13:40:57.467Z"
   },
   {
    "duration": 545,
    "start_time": "2022-07-26T13:40:57.539Z"
   },
   {
    "duration": 19,
    "start_time": "2022-07-26T13:40:58.085Z"
   },
   {
    "duration": 288,
    "start_time": "2022-07-26T13:40:58.106Z"
   },
   {
    "duration": 13,
    "start_time": "2022-07-26T13:41:19.673Z"
   },
   {
    "duration": 1266,
    "start_time": "2022-07-26T13:41:23.809Z"
   },
   {
    "duration": 76,
    "start_time": "2022-07-26T13:41:25.078Z"
   },
   {
    "duration": 83,
    "start_time": "2022-07-26T13:41:25.156Z"
   },
   {
    "duration": 47,
    "start_time": "2022-07-26T13:41:25.241Z"
   },
   {
    "duration": 43,
    "start_time": "2022-07-26T13:41:25.290Z"
   },
   {
    "duration": 36,
    "start_time": "2022-07-26T13:41:25.334Z"
   },
   {
    "duration": 16,
    "start_time": "2022-07-26T13:41:25.372Z"
   },
   {
    "duration": 8,
    "start_time": "2022-07-26T13:41:25.389Z"
   },
   {
    "duration": 31,
    "start_time": "2022-07-26T13:41:25.399Z"
   },
   {
    "duration": 21,
    "start_time": "2022-07-26T13:41:25.432Z"
   },
   {
    "duration": 10,
    "start_time": "2022-07-26T13:41:25.454Z"
   },
   {
    "duration": 17,
    "start_time": "2022-07-26T13:41:25.466Z"
   },
   {
    "duration": 35,
    "start_time": "2022-07-26T13:41:25.485Z"
   },
   {
    "duration": 282,
    "start_time": "2022-07-26T13:41:25.522Z"
   },
   {
    "duration": 167,
    "start_time": "2022-07-26T13:41:25.805Z"
   },
   {
    "duration": 16,
    "start_time": "2022-07-26T13:41:25.974Z"
   },
   {
    "duration": 215,
    "start_time": "2022-07-26T13:41:25.992Z"
   },
   {
    "duration": 2,
    "start_time": "2022-07-26T13:41:26.210Z"
   },
   {
    "duration": 96,
    "start_time": "2022-07-26T13:41:26.214Z"
   },
   {
    "duration": 27,
    "start_time": "2022-07-26T13:41:26.311Z"
   },
   {
    "duration": 305,
    "start_time": "2022-07-26T13:41:26.340Z"
   },
   {
    "duration": 18,
    "start_time": "2022-07-26T13:41:26.647Z"
   },
   {
    "duration": 289,
    "start_time": "2022-07-26T13:41:26.667Z"
   },
   {
    "duration": 86,
    "start_time": "2022-07-26T13:44:29.938Z"
   },
   {
    "duration": 7,
    "start_time": "2022-07-26T13:53:37.458Z"
   },
   {
    "duration": 17,
    "start_time": "2022-07-26T13:57:53.094Z"
   },
   {
    "duration": 24,
    "start_time": "2022-07-26T13:57:58.281Z"
   },
   {
    "duration": 26,
    "start_time": "2022-07-26T13:59:03.444Z"
   },
   {
    "duration": 94,
    "start_time": "2022-07-26T13:59:45.347Z"
   },
   {
    "duration": 100,
    "start_time": "2022-07-26T13:59:57.850Z"
   },
   {
    "duration": 24,
    "start_time": "2022-07-26T14:01:02.846Z"
   },
   {
    "duration": 104,
    "start_time": "2022-07-26T14:01:11.472Z"
   },
   {
    "duration": 24,
    "start_time": "2022-07-26T14:01:17.875Z"
   },
   {
    "duration": 28,
    "start_time": "2022-07-26T14:01:23.298Z"
   },
   {
    "duration": 23,
    "start_time": "2022-07-26T14:05:20.537Z"
   },
   {
    "duration": 1199,
    "start_time": "2022-07-26T14:07:29.395Z"
   },
   {
    "duration": 52,
    "start_time": "2022-07-26T14:09:32.911Z"
   },
   {
    "duration": 103,
    "start_time": "2022-07-26T14:09:36.594Z"
   },
   {
    "duration": 57,
    "start_time": "2022-07-26T14:09:39.438Z"
   },
   {
    "duration": 25,
    "start_time": "2022-07-26T14:09:52.970Z"
   },
   {
    "duration": 24,
    "start_time": "2022-07-26T14:11:59.539Z"
   },
   {
    "duration": 52,
    "start_time": "2022-07-26T14:12:19.926Z"
   },
   {
    "duration": 44,
    "start_time": "2022-07-26T14:12:42.955Z"
   },
   {
    "duration": 25,
    "start_time": "2022-07-26T14:13:00.606Z"
   },
   {
    "duration": 74,
    "start_time": "2022-07-26T14:13:42.624Z"
   },
   {
    "duration": 13,
    "start_time": "2022-07-26T14:17:54.899Z"
   },
   {
    "duration": 15,
    "start_time": "2022-07-26T14:18:01.999Z"
   },
   {
    "duration": 24,
    "start_time": "2022-07-26T14:18:09.643Z"
   },
   {
    "duration": 225,
    "start_time": "2022-07-26T14:18:51.809Z"
   },
   {
    "duration": 28,
    "start_time": "2022-07-26T14:19:27.596Z"
   },
   {
    "duration": 1318,
    "start_time": "2022-07-26T14:19:51.845Z"
   },
   {
    "duration": 170,
    "start_time": "2022-07-26T14:19:53.165Z"
   },
   {
    "duration": 130,
    "start_time": "2022-07-26T14:19:53.337Z"
   },
   {
    "duration": 98,
    "start_time": "2022-07-26T14:19:53.469Z"
   },
   {
    "duration": 78,
    "start_time": "2022-07-26T14:19:53.568Z"
   },
   {
    "duration": 95,
    "start_time": "2022-07-26T14:19:53.647Z"
   },
   {
    "duration": 20,
    "start_time": "2022-07-26T14:19:53.743Z"
   },
   {
    "duration": 61,
    "start_time": "2022-07-26T14:19:53.766Z"
   },
   {
    "duration": 12,
    "start_time": "2022-07-26T14:19:53.829Z"
   },
   {
    "duration": 17,
    "start_time": "2022-07-26T14:19:53.845Z"
   },
   {
    "duration": 65,
    "start_time": "2022-07-26T14:19:53.864Z"
   },
   {
    "duration": 19,
    "start_time": "2022-07-26T14:19:53.932Z"
   },
   {
    "duration": 71,
    "start_time": "2022-07-26T14:19:53.953Z"
   },
   {
    "duration": 704,
    "start_time": "2022-07-26T14:19:54.026Z"
   },
   {
    "duration": 331,
    "start_time": "2022-07-26T14:19:54.732Z"
   },
   {
    "duration": 70,
    "start_time": "2022-07-26T14:19:55.065Z"
   },
   {
    "duration": 226,
    "start_time": "2022-07-26T14:19:55.138Z"
   },
   {
    "duration": 3,
    "start_time": "2022-07-26T14:19:55.366Z"
   },
   {
    "duration": 91,
    "start_time": "2022-07-26T14:19:55.371Z"
   },
   {
    "duration": 20,
    "start_time": "2022-07-26T14:19:55.464Z"
   },
   {
    "duration": 348,
    "start_time": "2022-07-26T14:19:55.486Z"
   },
   {
    "duration": 21,
    "start_time": "2022-07-26T14:19:55.837Z"
   },
   {
    "duration": 563,
    "start_time": "2022-07-26T14:19:55.860Z"
   },
   {
    "duration": 231,
    "start_time": "2022-07-26T14:19:56.425Z"
   },
   {
    "duration": 0,
    "start_time": "2022-07-26T14:19:56.658Z"
   },
   {
    "duration": 30,
    "start_time": "2022-07-26T14:20:45.413Z"
   },
   {
    "duration": 33,
    "start_time": "2022-07-26T14:20:55.265Z"
   },
   {
    "duration": 31,
    "start_time": "2022-07-26T14:21:10.253Z"
   },
   {
    "duration": 1120,
    "start_time": "2022-07-26T14:21:25.227Z"
   },
   {
    "duration": 72,
    "start_time": "2022-07-26T14:21:26.349Z"
   },
   {
    "duration": 67,
    "start_time": "2022-07-26T14:21:26.423Z"
   },
   {
    "duration": 56,
    "start_time": "2022-07-26T14:21:26.491Z"
   },
   {
    "duration": 22,
    "start_time": "2022-07-26T14:21:26.549Z"
   },
   {
    "duration": 56,
    "start_time": "2022-07-26T14:21:26.573Z"
   },
   {
    "duration": 17,
    "start_time": "2022-07-26T14:21:26.631Z"
   },
   {
    "duration": 7,
    "start_time": "2022-07-26T14:21:26.650Z"
   },
   {
    "duration": 27,
    "start_time": "2022-07-26T14:21:26.658Z"
   },
   {
    "duration": 32,
    "start_time": "2022-07-26T14:21:26.687Z"
   },
   {
    "duration": 30,
    "start_time": "2022-07-26T14:21:26.721Z"
   },
   {
    "duration": 29,
    "start_time": "2022-07-26T14:21:26.753Z"
   },
   {
    "duration": 41,
    "start_time": "2022-07-26T14:21:26.784Z"
   },
   {
    "duration": 283,
    "start_time": "2022-07-26T14:21:26.827Z"
   },
   {
    "duration": 162,
    "start_time": "2022-07-26T14:21:27.112Z"
   },
   {
    "duration": 16,
    "start_time": "2022-07-26T14:21:27.275Z"
   },
   {
    "duration": 188,
    "start_time": "2022-07-26T14:21:27.292Z"
   },
   {
    "duration": 3,
    "start_time": "2022-07-26T14:21:27.481Z"
   },
   {
    "duration": 88,
    "start_time": "2022-07-26T14:21:27.486Z"
   },
   {
    "duration": 19,
    "start_time": "2022-07-26T14:21:27.575Z"
   },
   {
    "duration": 309,
    "start_time": "2022-07-26T14:21:27.595Z"
   },
   {
    "duration": 21,
    "start_time": "2022-07-26T14:21:27.905Z"
   },
   {
    "duration": 523,
    "start_time": "2022-07-26T14:21:27.928Z"
   },
   {
    "duration": 280,
    "start_time": "2022-07-26T14:21:28.452Z"
   },
   {
    "duration": 0,
    "start_time": "2022-07-26T14:21:28.733Z"
   },
   {
    "duration": 30,
    "start_time": "2022-07-26T14:21:42.442Z"
   },
   {
    "duration": 13,
    "start_time": "2022-07-26T14:22:18.131Z"
   },
   {
    "duration": 13,
    "start_time": "2022-07-26T14:22:29.224Z"
   },
   {
    "duration": 54,
    "start_time": "2022-07-26T14:22:43.829Z"
   },
   {
    "duration": 33,
    "start_time": "2022-07-26T14:23:13.853Z"
   },
   {
    "duration": 1384,
    "start_time": "2022-07-26T14:24:46.443Z"
   },
   {
    "duration": 265,
    "start_time": "2022-07-26T14:32:28.100Z"
   },
   {
    "duration": 1147,
    "start_time": "2022-07-26T14:32:31.314Z"
   },
   {
    "duration": 1156,
    "start_time": "2022-07-26T14:32:36.863Z"
   },
   {
    "duration": 1286,
    "start_time": "2022-07-26T14:32:53.939Z"
   },
   {
    "duration": 1239,
    "start_time": "2022-07-26T14:33:09.755Z"
   },
   {
    "duration": 1076,
    "start_time": "2022-07-26T14:33:16.364Z"
   },
   {
    "duration": 1235,
    "start_time": "2022-07-26T14:34:50.907Z"
   },
   {
    "duration": 1074,
    "start_time": "2022-07-26T14:35:18.958Z"
   },
   {
    "duration": 1570,
    "start_time": "2022-07-26T14:36:08.065Z"
   },
   {
    "duration": 1179,
    "start_time": "2022-07-26T14:36:38.279Z"
   },
   {
    "duration": 1276,
    "start_time": "2022-07-26T14:37:21.858Z"
   },
   {
    "duration": 1078,
    "start_time": "2022-07-26T14:37:34.177Z"
   },
   {
    "duration": 1276,
    "start_time": "2022-07-26T14:37:40.210Z"
   },
   {
    "duration": 278,
    "start_time": "2022-07-26T14:38:17.305Z"
   },
   {
    "duration": 273,
    "start_time": "2022-07-26T14:38:22.524Z"
   },
   {
    "duration": 377,
    "start_time": "2022-07-26T14:38:38.752Z"
   },
   {
    "duration": 171,
    "start_time": "2022-07-26T14:38:54.568Z"
   },
   {
    "duration": 268,
    "start_time": "2022-07-26T14:39:02.135Z"
   },
   {
    "duration": 163,
    "start_time": "2022-07-26T14:39:13.740Z"
   },
   {
    "duration": 165,
    "start_time": "2022-07-26T14:39:20.535Z"
   },
   {
    "duration": 157,
    "start_time": "2022-07-26T14:39:24.297Z"
   },
   {
    "duration": 157,
    "start_time": "2022-07-26T14:39:36.778Z"
   },
   {
    "duration": 165,
    "start_time": "2022-07-26T14:39:44.569Z"
   },
   {
    "duration": 169,
    "start_time": "2022-07-26T14:39:56.657Z"
   },
   {
    "duration": 175,
    "start_time": "2022-07-26T14:40:01.944Z"
   },
   {
    "duration": 163,
    "start_time": "2022-07-26T14:40:07.547Z"
   },
   {
    "duration": 1383,
    "start_time": "2022-07-26T14:40:43.872Z"
   },
   {
    "duration": 1164,
    "start_time": "2022-07-26T14:40:49.462Z"
   },
   {
    "duration": 1303,
    "start_time": "2022-07-26T14:41:13.257Z"
   },
   {
    "duration": 982,
    "start_time": "2022-07-26T14:43:23.088Z"
   },
   {
    "duration": 836,
    "start_time": "2022-07-26T14:44:13.873Z"
   },
   {
    "duration": 434,
    "start_time": "2022-07-26T14:45:36.798Z"
   },
   {
    "duration": 1368,
    "start_time": "2022-07-26T14:45:55.464Z"
   },
   {
    "duration": 449,
    "start_time": "2022-07-26T14:46:10.649Z"
   },
   {
    "duration": 1132,
    "start_time": "2022-07-26T14:48:53.036Z"
   },
   {
    "duration": 1338,
    "start_time": "2022-07-26T14:48:59.357Z"
   },
   {
    "duration": 1092,
    "start_time": "2022-07-26T14:49:04.665Z"
   },
   {
    "duration": 426,
    "start_time": "2022-07-26T14:49:50.566Z"
   },
   {
    "duration": 1241,
    "start_time": "2022-07-26T14:49:55.561Z"
   },
   {
    "duration": 843,
    "start_time": "2022-07-26T14:50:46.665Z"
   },
   {
    "duration": 846,
    "start_time": "2022-07-26T14:51:51.552Z"
   },
   {
    "duration": 854,
    "start_time": "2022-07-26T14:51:56.869Z"
   },
   {
    "duration": 877,
    "start_time": "2022-07-26T14:52:04.512Z"
   },
   {
    "duration": 1143,
    "start_time": "2022-07-26T14:52:55.734Z"
   },
   {
    "duration": 1399,
    "start_time": "2022-07-26T14:54:41.554Z"
   },
   {
    "duration": 1077,
    "start_time": "2022-07-26T14:55:37.883Z"
   },
   {
    "duration": 1220,
    "start_time": "2022-07-26T14:55:45.298Z"
   },
   {
    "duration": 1107,
    "start_time": "2022-07-26T14:56:07.562Z"
   },
   {
    "duration": 32,
    "start_time": "2022-07-26T14:56:39.163Z"
   },
   {
    "duration": 14,
    "start_time": "2022-07-26T15:00:24.444Z"
   },
   {
    "duration": 280,
    "start_time": "2022-07-26T15:00:43.926Z"
   },
   {
    "duration": 471,
    "start_time": "2022-07-26T15:01:26.988Z"
   },
   {
    "duration": 252,
    "start_time": "2022-07-26T15:01:36.331Z"
   },
   {
    "duration": 279,
    "start_time": "2022-07-26T15:02:03.359Z"
   },
   {
    "duration": 272,
    "start_time": "2022-07-26T15:02:21.051Z"
   },
   {
    "duration": 283,
    "start_time": "2022-07-26T15:02:30.007Z"
   },
   {
    "duration": 287,
    "start_time": "2022-07-26T15:02:48.193Z"
   },
   {
    "duration": 290,
    "start_time": "2022-07-26T15:03:07.270Z"
   },
   {
    "duration": 311,
    "start_time": "2022-07-26T15:04:36.535Z"
   },
   {
    "duration": 331,
    "start_time": "2022-07-26T15:06:00.140Z"
   },
   {
    "duration": 302,
    "start_time": "2022-07-26T15:06:17.042Z"
   },
   {
    "duration": 80,
    "start_time": "2022-07-26T15:08:43.834Z"
   },
   {
    "duration": 17,
    "start_time": "2022-07-26T15:13:17.558Z"
   },
   {
    "duration": 60,
    "start_time": "2022-07-26T15:13:28.274Z"
   },
   {
    "duration": 17,
    "start_time": "2022-07-26T15:13:32.355Z"
   },
   {
    "duration": 23,
    "start_time": "2022-07-26T15:14:06.823Z"
   },
   {
    "duration": 20,
    "start_time": "2022-07-26T15:14:43.634Z"
   },
   {
    "duration": 19,
    "start_time": "2022-07-26T15:14:54.851Z"
   },
   {
    "duration": 548,
    "start_time": "2022-07-26T15:15:18.737Z"
   },
   {
    "duration": 234,
    "start_time": "2022-07-26T15:15:27.039Z"
   },
   {
    "duration": 235,
    "start_time": "2022-07-26T15:15:36.981Z"
   },
   {
    "duration": 289,
    "start_time": "2022-07-26T15:15:46.423Z"
   },
   {
    "duration": 256,
    "start_time": "2022-07-26T15:16:41.488Z"
   },
   {
    "duration": 301,
    "start_time": "2022-07-26T15:16:45.210Z"
   },
   {
    "duration": 273,
    "start_time": "2022-07-26T15:17:33.121Z"
   },
   {
    "duration": 275,
    "start_time": "2022-07-26T15:17:40.199Z"
   },
   {
    "duration": 53,
    "start_time": "2022-07-26T16:48:31.280Z"
   },
   {
    "duration": 1409,
    "start_time": "2022-07-26T16:49:15.155Z"
   },
   {
    "duration": 81,
    "start_time": "2022-07-26T16:49:18.720Z"
   },
   {
    "duration": 1173,
    "start_time": "2022-07-26T16:49:33.281Z"
   },
   {
    "duration": 621,
    "start_time": "2022-07-26T16:49:34.456Z"
   },
   {
    "duration": 91,
    "start_time": "2022-07-26T16:49:35.080Z"
   },
   {
    "duration": 72,
    "start_time": "2022-07-26T16:49:35.174Z"
   },
   {
    "duration": 26,
    "start_time": "2022-07-26T16:49:35.248Z"
   },
   {
    "duration": 69,
    "start_time": "2022-07-26T16:49:35.277Z"
   },
   {
    "duration": 25,
    "start_time": "2022-07-26T16:49:35.348Z"
   },
   {
    "duration": 28,
    "start_time": "2022-07-26T16:49:35.376Z"
   },
   {
    "duration": 21,
    "start_time": "2022-07-26T16:49:35.406Z"
   },
   {
    "duration": 35,
    "start_time": "2022-07-26T16:49:35.431Z"
   },
   {
    "duration": 30,
    "start_time": "2022-07-26T16:49:35.468Z"
   },
   {
    "duration": 16,
    "start_time": "2022-07-26T16:49:35.500Z"
   },
   {
    "duration": 42,
    "start_time": "2022-07-26T16:49:35.518Z"
   },
   {
    "duration": 314,
    "start_time": "2022-07-26T16:49:35.562Z"
   },
   {
    "duration": 252,
    "start_time": "2022-07-26T16:49:35.881Z"
   },
   {
    "duration": 26,
    "start_time": "2022-07-26T16:49:36.135Z"
   },
   {
    "duration": 212,
    "start_time": "2022-07-26T16:49:36.163Z"
   },
   {
    "duration": 3,
    "start_time": "2022-07-26T16:49:36.377Z"
   },
   {
    "duration": 101,
    "start_time": "2022-07-26T16:49:36.381Z"
   },
   {
    "duration": 20,
    "start_time": "2022-07-26T16:49:36.484Z"
   },
   {
    "duration": 359,
    "start_time": "2022-07-26T16:49:36.505Z"
   },
   {
    "duration": 19,
    "start_time": "2022-07-26T16:49:36.865Z"
   },
   {
    "duration": 303,
    "start_time": "2022-07-26T16:49:36.886Z"
   },
   {
    "duration": 39,
    "start_time": "2022-07-26T16:49:37.191Z"
   },
   {
    "duration": 1350,
    "start_time": "2022-07-26T16:49:37.233Z"
   },
   {
    "duration": 394,
    "start_time": "2022-07-26T16:49:38.586Z"
   },
   {
    "duration": 24,
    "start_time": "2022-07-26T16:49:38.983Z"
   },
   {
    "duration": 343,
    "start_time": "2022-07-26T16:49:39.012Z"
   },
   {
    "duration": 2959,
    "start_time": "2022-07-26T16:49:39.357Z"
   },
   {
    "duration": 2760,
    "start_time": "2022-07-26T16:50:16.851Z"
   },
   {
    "duration": 3,
    "start_time": "2022-07-26T16:52:04.986Z"
   },
   {
    "duration": 2371,
    "start_time": "2022-07-26T16:52:08.972Z"
   },
   {
    "duration": 2512,
    "start_time": "2022-07-26T16:52:53.698Z"
   },
   {
    "duration": 2424,
    "start_time": "2022-07-26T16:52:57.707Z"
   },
   {
    "duration": 21,
    "start_time": "2022-07-26T16:53:33.867Z"
   },
   {
    "duration": 25,
    "start_time": "2022-07-26T16:55:50.199Z"
   },
   {
    "duration": 23,
    "start_time": "2022-07-26T16:55:53.327Z"
   },
   {
    "duration": 2785,
    "start_time": "2022-07-26T16:56:47.733Z"
   },
   {
    "duration": 24,
    "start_time": "2022-07-26T16:56:55.202Z"
   },
   {
    "duration": 20,
    "start_time": "2022-07-26T16:57:01.325Z"
   },
   {
    "duration": 12,
    "start_time": "2022-07-26T17:02:46.675Z"
   },
   {
    "duration": 23,
    "start_time": "2022-07-26T17:02:53.727Z"
   },
   {
    "duration": 23,
    "start_time": "2022-07-26T17:05:01.687Z"
   },
   {
    "duration": 14,
    "start_time": "2022-07-26T17:07:41.069Z"
   },
   {
    "duration": 49,
    "start_time": "2022-07-26T17:11:48.521Z"
   },
   {
    "duration": 68,
    "start_time": "2022-07-26T17:12:00.696Z"
   },
   {
    "duration": 15,
    "start_time": "2022-07-26T17:17:58.752Z"
   },
   {
    "duration": 10,
    "start_time": "2022-07-26T17:18:11.888Z"
   },
   {
    "duration": 10,
    "start_time": "2022-07-26T17:18:39.342Z"
   },
   {
    "duration": 21,
    "start_time": "2022-07-26T17:18:47.989Z"
   },
   {
    "duration": 17,
    "start_time": "2022-07-26T17:20:44.434Z"
   },
   {
    "duration": 128,
    "start_time": "2022-07-26T17:21:23.310Z"
   },
   {
    "duration": 110,
    "start_time": "2022-07-26T17:21:46.576Z"
   },
   {
    "duration": 103,
    "start_time": "2022-07-26T17:21:57.823Z"
   },
   {
    "duration": 98,
    "start_time": "2022-07-26T17:22:01.913Z"
   },
   {
    "duration": 110,
    "start_time": "2022-07-26T17:22:42.041Z"
   },
   {
    "duration": 2626,
    "start_time": "2022-07-26T17:23:41.723Z"
   },
   {
    "duration": 18,
    "start_time": "2022-07-26T17:23:44.351Z"
   },
   {
    "duration": 95,
    "start_time": "2022-07-26T17:24:05.276Z"
   },
   {
    "duration": 108,
    "start_time": "2022-07-26T17:24:12.485Z"
   },
   {
    "duration": 106,
    "start_time": "2022-07-26T17:24:23.368Z"
   },
   {
    "duration": 52,
    "start_time": "2022-07-26T17:25:20.583Z"
   },
   {
    "duration": 160,
    "start_time": "2022-07-26T17:26:03.837Z"
   },
   {
    "duration": 44,
    "start_time": "2022-07-26T17:26:18.124Z"
   },
   {
    "duration": 2491,
    "start_time": "2022-07-26T17:27:15.998Z"
   },
   {
    "duration": 15,
    "start_time": "2022-07-26T17:27:18.491Z"
   },
   {
    "duration": 45,
    "start_time": "2022-07-26T17:27:23.366Z"
   },
   {
    "duration": 105,
    "start_time": "2022-07-26T17:28:30.205Z"
   },
   {
    "duration": 13,
    "start_time": "2022-07-26T17:28:47.037Z"
   },
   {
    "duration": 2456,
    "start_time": "2022-07-26T17:31:18.750Z"
   },
   {
    "duration": 18,
    "start_time": "2022-07-26T17:31:24.425Z"
   },
   {
    "duration": 1074,
    "start_time": "2022-07-26T17:31:49.861Z"
   },
   {
    "duration": 67,
    "start_time": "2022-07-26T17:31:50.938Z"
   },
   {
    "duration": 68,
    "start_time": "2022-07-26T17:31:51.007Z"
   },
   {
    "duration": 53,
    "start_time": "2022-07-26T17:31:51.077Z"
   },
   {
    "duration": 21,
    "start_time": "2022-07-26T17:31:51.132Z"
   },
   {
    "duration": 34,
    "start_time": "2022-07-26T17:31:51.155Z"
   },
   {
    "duration": 39,
    "start_time": "2022-07-26T17:31:51.192Z"
   },
   {
    "duration": 8,
    "start_time": "2022-07-26T17:31:51.232Z"
   },
   {
    "duration": 25,
    "start_time": "2022-07-26T17:31:51.241Z"
   },
   {
    "duration": 32,
    "start_time": "2022-07-26T17:31:51.270Z"
   },
   {
    "duration": 26,
    "start_time": "2022-07-26T17:31:51.303Z"
   },
   {
    "duration": 18,
    "start_time": "2022-07-26T17:31:51.331Z"
   },
   {
    "duration": 30,
    "start_time": "2022-07-26T17:31:51.351Z"
   },
   {
    "duration": 274,
    "start_time": "2022-07-26T17:31:51.383Z"
   },
   {
    "duration": 156,
    "start_time": "2022-07-26T17:31:51.659Z"
   },
   {
    "duration": 15,
    "start_time": "2022-07-26T17:31:51.823Z"
   },
   {
    "duration": 185,
    "start_time": "2022-07-26T17:31:51.840Z"
   },
   {
    "duration": 3,
    "start_time": "2022-07-26T17:31:52.027Z"
   },
   {
    "duration": 94,
    "start_time": "2022-07-26T17:31:52.031Z"
   },
   {
    "duration": 19,
    "start_time": "2022-07-26T17:31:52.126Z"
   },
   {
    "duration": 309,
    "start_time": "2022-07-26T17:31:52.147Z"
   },
   {
    "duration": 18,
    "start_time": "2022-07-26T17:31:52.457Z"
   },
   {
    "duration": 278,
    "start_time": "2022-07-26T17:31:52.477Z"
   },
   {
    "duration": 31,
    "start_time": "2022-07-26T17:31:52.757Z"
   },
   {
    "duration": 1261,
    "start_time": "2022-07-26T17:31:52.790Z"
   },
   {
    "duration": 305,
    "start_time": "2022-07-26T17:31:54.053Z"
   },
   {
    "duration": 18,
    "start_time": "2022-07-26T17:31:54.360Z"
   },
   {
    "duration": 261,
    "start_time": "2022-07-26T17:31:54.381Z"
   },
   {
    "duration": 2237,
    "start_time": "2022-07-26T17:31:54.643Z"
   },
   {
    "duration": 17,
    "start_time": "2022-07-26T17:31:56.883Z"
   },
   {
    "duration": 17,
    "start_time": "2022-07-26T17:32:23.906Z"
   },
   {
    "duration": 2493,
    "start_time": "2022-07-26T17:36:07.717Z"
   },
   {
    "duration": 2513,
    "start_time": "2022-07-26T17:38:13.567Z"
   },
   {
    "duration": 6758,
    "start_time": "2022-07-26T17:40:05.234Z"
   },
   {
    "duration": 35,
    "start_time": "2022-07-26T17:40:23.784Z"
   },
   {
    "duration": 32,
    "start_time": "2022-07-26T17:40:37.296Z"
   },
   {
    "duration": 451,
    "start_time": "2022-07-26T17:42:28.372Z"
   },
   {
    "duration": 486,
    "start_time": "2022-07-26T17:42:43.141Z"
   },
   {
    "duration": 444,
    "start_time": "2022-07-26T17:42:48.353Z"
   },
   {
    "duration": 1122,
    "start_time": "2022-07-26T17:42:56.704Z"
   },
   {
    "duration": 68,
    "start_time": "2022-07-26T17:42:57.828Z"
   },
   {
    "duration": 72,
    "start_time": "2022-07-26T17:42:57.897Z"
   },
   {
    "duration": 52,
    "start_time": "2022-07-26T17:42:57.972Z"
   },
   {
    "duration": 22,
    "start_time": "2022-07-26T17:42:58.026Z"
   },
   {
    "duration": 35,
    "start_time": "2022-07-26T17:42:58.049Z"
   },
   {
    "duration": 39,
    "start_time": "2022-07-26T17:42:58.086Z"
   },
   {
    "duration": 8,
    "start_time": "2022-07-26T17:42:58.126Z"
   },
   {
    "duration": 24,
    "start_time": "2022-07-26T17:42:58.135Z"
   },
   {
    "duration": 18,
    "start_time": "2022-07-26T17:42:58.161Z"
   },
   {
    "duration": 27,
    "start_time": "2022-07-26T17:42:58.181Z"
   },
   {
    "duration": 20,
    "start_time": "2022-07-26T17:42:58.210Z"
   },
   {
    "duration": 22,
    "start_time": "2022-07-26T17:42:58.232Z"
   },
   {
    "duration": 275,
    "start_time": "2022-07-26T17:42:58.257Z"
   },
   {
    "duration": 179,
    "start_time": "2022-07-26T17:42:58.534Z"
   },
   {
    "duration": 21,
    "start_time": "2022-07-26T17:42:58.715Z"
   },
   {
    "duration": 238,
    "start_time": "2022-07-26T17:42:58.737Z"
   },
   {
    "duration": 3,
    "start_time": "2022-07-26T17:42:58.978Z"
   },
   {
    "duration": 117,
    "start_time": "2022-07-26T17:42:58.983Z"
   },
   {
    "duration": 30,
    "start_time": "2022-07-26T17:42:59.102Z"
   },
   {
    "duration": 329,
    "start_time": "2022-07-26T17:42:59.134Z"
   },
   {
    "duration": 20,
    "start_time": "2022-07-26T17:42:59.465Z"
   },
   {
    "duration": 324,
    "start_time": "2022-07-26T17:42:59.486Z"
   },
   {
    "duration": 40,
    "start_time": "2022-07-26T17:42:59.811Z"
   },
   {
    "duration": 1253,
    "start_time": "2022-07-26T17:42:59.853Z"
   },
   {
    "duration": 371,
    "start_time": "2022-07-26T17:43:01.107Z"
   },
   {
    "duration": 20,
    "start_time": "2022-07-26T17:43:01.481Z"
   },
   {
    "duration": 287,
    "start_time": "2022-07-26T17:43:01.503Z"
   },
   {
    "duration": 2166,
    "start_time": "2022-07-26T17:43:01.791Z"
   },
   {
    "duration": 6561,
    "start_time": "2022-07-26T17:43:03.959Z"
   },
   {
    "duration": 14,
    "start_time": "2022-07-26T17:43:10.522Z"
   },
   {
    "duration": 2386,
    "start_time": "2022-07-26T17:43:19.870Z"
   },
   {
    "duration": 46,
    "start_time": "2022-07-26T17:43:44.318Z"
   },
   {
    "duration": 4222,
    "start_time": "2022-07-26T17:44:02.687Z"
   },
   {
    "duration": 115,
    "start_time": "2022-07-26T17:46:09.394Z"
   },
   {
    "duration": 2137,
    "start_time": "2022-07-26T17:48:00.738Z"
   },
   {
    "duration": 4118,
    "start_time": "2022-07-26T17:48:32.845Z"
   },
   {
    "duration": 21,
    "start_time": "2022-07-26T17:50:26.999Z"
   },
   {
    "duration": 21,
    "start_time": "2022-07-26T17:50:51.727Z"
   },
   {
    "duration": 21,
    "start_time": "2022-07-26T17:50:53.529Z"
   },
   {
    "duration": 36,
    "start_time": "2022-07-26T18:08:59.154Z"
   },
   {
    "duration": 23,
    "start_time": "2022-07-26T18:11:21.498Z"
   },
   {
    "duration": 1205,
    "start_time": "2022-07-26T18:13:17.030Z"
   },
   {
    "duration": 71,
    "start_time": "2022-07-26T18:13:18.237Z"
   },
   {
    "duration": 69,
    "start_time": "2022-07-26T18:13:18.310Z"
   },
   {
    "duration": 53,
    "start_time": "2022-07-26T18:13:18.382Z"
   },
   {
    "duration": 27,
    "start_time": "2022-07-26T18:13:18.437Z"
   },
   {
    "duration": 35,
    "start_time": "2022-07-26T18:13:18.466Z"
   },
   {
    "duration": 31,
    "start_time": "2022-07-26T18:13:18.502Z"
   },
   {
    "duration": 8,
    "start_time": "2022-07-26T18:13:18.534Z"
   },
   {
    "duration": 36,
    "start_time": "2022-07-26T18:13:18.544Z"
   },
   {
    "duration": 21,
    "start_time": "2022-07-26T18:13:18.583Z"
   },
   {
    "duration": 22,
    "start_time": "2022-07-26T18:13:18.606Z"
   },
   {
    "duration": 19,
    "start_time": "2022-07-26T18:13:18.630Z"
   },
   {
    "duration": 35,
    "start_time": "2022-07-26T18:13:18.651Z"
   },
   {
    "duration": 305,
    "start_time": "2022-07-26T18:13:18.688Z"
   },
   {
    "duration": 196,
    "start_time": "2022-07-26T18:13:18.995Z"
   },
   {
    "duration": 31,
    "start_time": "2022-07-26T18:13:19.193Z"
   },
   {
    "duration": 187,
    "start_time": "2022-07-26T18:13:19.226Z"
   },
   {
    "duration": 8,
    "start_time": "2022-07-26T18:13:19.415Z"
   },
   {
    "duration": 76,
    "start_time": "2022-07-26T18:13:19.425Z"
   },
   {
    "duration": 39,
    "start_time": "2022-07-26T18:13:19.502Z"
   },
   {
    "duration": 347,
    "start_time": "2022-07-26T18:13:19.543Z"
   },
   {
    "duration": 20,
    "start_time": "2022-07-26T18:13:19.891Z"
   },
   {
    "duration": 282,
    "start_time": "2022-07-26T18:13:19.922Z"
   },
   {
    "duration": 43,
    "start_time": "2022-07-26T18:13:20.205Z"
   },
   {
    "duration": 1212,
    "start_time": "2022-07-26T18:13:20.250Z"
   },
   {
    "duration": 318,
    "start_time": "2022-07-26T18:13:21.464Z"
   },
   {
    "duration": 19,
    "start_time": "2022-07-26T18:13:21.784Z"
   },
   {
    "duration": 279,
    "start_time": "2022-07-26T18:13:21.806Z"
   },
   {
    "duration": 267819,
    "start_time": "2022-07-26T18:13:22.087Z"
   },
   {
    "duration": 0,
    "start_time": "2022-07-26T18:17:49.908Z"
   },
   {
    "duration": 0,
    "start_time": "2022-07-26T18:17:49.909Z"
   },
   {
    "duration": 224,
    "start_time": "2022-07-26T18:18:25.086Z"
   },
   {
    "duration": 63,
    "start_time": "2022-07-26T18:19:30.920Z"
   },
   {
    "duration": 116,
    "start_time": "2022-07-26T18:19:40.935Z"
   },
   {
    "duration": 6974,
    "start_time": "2022-07-26T18:19:47.137Z"
   },
   {
    "duration": 18,
    "start_time": "2022-07-26T18:20:28.359Z"
   },
   {
    "duration": 254,
    "start_time": "2022-07-26T18:20:40.346Z"
   },
   {
    "duration": 16,
    "start_time": "2022-07-26T18:20:45.287Z"
   },
   {
    "duration": 14,
    "start_time": "2022-07-26T18:21:04.312Z"
   },
   {
    "duration": 17,
    "start_time": "2022-07-26T18:21:06.607Z"
   },
   {
    "duration": 1326,
    "start_time": "2022-07-26T18:21:41.667Z"
   },
   {
    "duration": 82,
    "start_time": "2022-07-26T18:21:42.995Z"
   },
   {
    "duration": 91,
    "start_time": "2022-07-26T18:21:43.079Z"
   },
   {
    "duration": 62,
    "start_time": "2022-07-26T18:21:43.173Z"
   },
   {
    "duration": 23,
    "start_time": "2022-07-26T18:21:43.239Z"
   },
   {
    "duration": 34,
    "start_time": "2022-07-26T18:21:43.264Z"
   },
   {
    "duration": 45,
    "start_time": "2022-07-26T18:21:43.300Z"
   },
   {
    "duration": 7,
    "start_time": "2022-07-26T18:21:43.348Z"
   },
   {
    "duration": 14,
    "start_time": "2022-07-26T18:21:43.357Z"
   },
   {
    "duration": 17,
    "start_time": "2022-07-26T18:21:43.373Z"
   },
   {
    "duration": 35,
    "start_time": "2022-07-26T18:21:43.392Z"
   },
   {
    "duration": 22,
    "start_time": "2022-07-26T18:21:43.430Z"
   },
   {
    "duration": 16,
    "start_time": "2022-07-26T18:21:43.454Z"
   },
   {
    "duration": 322,
    "start_time": "2022-07-26T18:21:43.474Z"
   },
   {
    "duration": 203,
    "start_time": "2022-07-26T18:21:43.798Z"
   },
   {
    "duration": 31,
    "start_time": "2022-07-26T18:21:44.004Z"
   },
   {
    "duration": 233,
    "start_time": "2022-07-26T18:21:44.037Z"
   },
   {
    "duration": 3,
    "start_time": "2022-07-26T18:21:44.272Z"
   },
   {
    "duration": 114,
    "start_time": "2022-07-26T18:21:44.276Z"
   },
   {
    "duration": 21,
    "start_time": "2022-07-26T18:21:44.392Z"
   },
   {
    "duration": 359,
    "start_time": "2022-07-26T18:21:44.415Z"
   },
   {
    "duration": 21,
    "start_time": "2022-07-26T18:21:44.775Z"
   },
   {
    "duration": 347,
    "start_time": "2022-07-26T18:21:44.798Z"
   },
   {
    "duration": 32,
    "start_time": "2022-07-26T18:21:45.147Z"
   },
   {
    "duration": 1422,
    "start_time": "2022-07-26T18:21:45.181Z"
   },
   {
    "duration": 351,
    "start_time": "2022-07-26T18:21:46.605Z"
   },
   {
    "duration": 23,
    "start_time": "2022-07-26T18:21:46.959Z"
   },
   {
    "duration": 318,
    "start_time": "2022-07-26T18:21:46.985Z"
   },
   {
    "duration": 262,
    "start_time": "2022-07-26T18:21:47.304Z"
   },
   {
    "duration": 7339,
    "start_time": "2022-07-26T18:21:47.568Z"
   },
   {
    "duration": 32,
    "start_time": "2022-07-26T18:21:54.909Z"
   },
   {
    "duration": 32,
    "start_time": "2022-07-26T18:21:54.944Z"
   },
   {
    "duration": 1315,
    "start_time": "2022-07-26T18:24:14.470Z"
   },
   {
    "duration": 73,
    "start_time": "2022-07-26T18:24:15.787Z"
   },
   {
    "duration": 84,
    "start_time": "2022-07-26T18:24:15.862Z"
   },
   {
    "duration": 52,
    "start_time": "2022-07-26T18:24:15.949Z"
   },
   {
    "duration": 46,
    "start_time": "2022-07-26T18:24:16.003Z"
   },
   {
    "duration": 44,
    "start_time": "2022-07-26T18:24:16.051Z"
   },
   {
    "duration": 34,
    "start_time": "2022-07-26T18:24:16.097Z"
   },
   {
    "duration": 8,
    "start_time": "2022-07-26T18:24:16.133Z"
   },
   {
    "duration": 20,
    "start_time": "2022-07-26T18:24:16.143Z"
   },
   {
    "duration": 14,
    "start_time": "2022-07-26T18:24:16.166Z"
   },
   {
    "duration": 9,
    "start_time": "2022-07-26T18:24:16.182Z"
   },
   {
    "duration": 41,
    "start_time": "2022-07-26T18:24:16.193Z"
   },
   {
    "duration": 31,
    "start_time": "2022-07-26T18:24:16.236Z"
   },
   {
    "duration": 305,
    "start_time": "2022-07-26T18:24:16.269Z"
   },
   {
    "duration": 174,
    "start_time": "2022-07-26T18:24:16.576Z"
   },
   {
    "duration": 15,
    "start_time": "2022-07-26T18:24:16.752Z"
   },
   {
    "duration": 222,
    "start_time": "2022-07-26T18:24:16.769Z"
   },
   {
    "duration": 3,
    "start_time": "2022-07-26T18:24:16.993Z"
   },
   {
    "duration": 95,
    "start_time": "2022-07-26T18:24:16.998Z"
   },
   {
    "duration": 32,
    "start_time": "2022-07-26T18:24:17.095Z"
   },
   {
    "duration": 355,
    "start_time": "2022-07-26T18:24:17.129Z"
   },
   {
    "duration": 21,
    "start_time": "2022-07-26T18:24:17.485Z"
   },
   {
    "duration": 315,
    "start_time": "2022-07-26T18:24:17.508Z"
   },
   {
    "duration": 30,
    "start_time": "2022-07-26T18:24:17.825Z"
   },
   {
    "duration": 1340,
    "start_time": "2022-07-26T18:24:17.857Z"
   },
   {
    "duration": 340,
    "start_time": "2022-07-26T18:24:19.199Z"
   },
   {
    "duration": 21,
    "start_time": "2022-07-26T18:24:19.540Z"
   },
   {
    "duration": 309,
    "start_time": "2022-07-26T18:24:19.565Z"
   },
   {
    "duration": 373443,
    "start_time": "2022-07-26T18:24:19.876Z"
   },
   {
    "duration": 0,
    "start_time": "2022-07-26T18:30:33.324Z"
   },
   {
    "duration": 0,
    "start_time": "2022-07-26T18:30:33.325Z"
   },
   {
    "duration": 4,
    "start_time": "2022-07-26T18:30:55.348Z"
   },
   {
    "duration": 220,
    "start_time": "2022-07-26T18:31:25.404Z"
   },
   {
    "duration": 127,
    "start_time": "2022-07-26T18:32:19.738Z"
   },
   {
    "duration": 32,
    "start_time": "2022-07-26T18:32:26.221Z"
   },
   {
    "duration": 1153,
    "start_time": "2022-07-26T18:32:45.785Z"
   },
   {
    "duration": 68,
    "start_time": "2022-07-26T18:32:46.940Z"
   },
   {
    "duration": 68,
    "start_time": "2022-07-26T18:32:47.010Z"
   },
   {
    "duration": 53,
    "start_time": "2022-07-26T18:32:47.080Z"
   },
   {
    "duration": 22,
    "start_time": "2022-07-26T18:32:47.135Z"
   },
   {
    "duration": 34,
    "start_time": "2022-07-26T18:32:47.159Z"
   },
   {
    "duration": 39,
    "start_time": "2022-07-26T18:32:47.194Z"
   },
   {
    "duration": 8,
    "start_time": "2022-07-26T18:32:47.234Z"
   },
   {
    "duration": 9,
    "start_time": "2022-07-26T18:32:47.243Z"
   },
   {
    "duration": 13,
    "start_time": "2022-07-26T18:32:47.253Z"
   },
   {
    "duration": 10,
    "start_time": "2022-07-26T18:32:47.267Z"
   },
   {
    "duration": 44,
    "start_time": "2022-07-26T18:32:47.279Z"
   },
   {
    "duration": 15,
    "start_time": "2022-07-26T18:32:47.325Z"
   },
   {
    "duration": 390,
    "start_time": "2022-07-26T18:32:47.343Z"
   },
   {
    "duration": 307,
    "start_time": "2022-07-26T18:32:47.735Z"
   },
   {
    "duration": 14,
    "start_time": "2022-07-26T18:32:48.043Z"
   },
   {
    "duration": 379,
    "start_time": "2022-07-26T18:32:48.059Z"
   },
   {
    "duration": 2,
    "start_time": "2022-07-26T18:32:48.440Z"
   },
   {
    "duration": 126,
    "start_time": "2022-07-26T18:32:48.444Z"
   },
   {
    "duration": 19,
    "start_time": "2022-07-26T18:32:48.624Z"
   },
   {
    "duration": 701,
    "start_time": "2022-07-26T18:32:48.645Z"
   },
   {
    "duration": 19,
    "start_time": "2022-07-26T18:32:49.348Z"
   },
   {
    "duration": 370,
    "start_time": "2022-07-26T18:32:49.369Z"
   },
   {
    "duration": 36,
    "start_time": "2022-07-26T18:32:49.741Z"
   },
   {
    "duration": 1235,
    "start_time": "2022-07-26T18:32:49.779Z"
   },
   {
    "duration": 325,
    "start_time": "2022-07-26T18:32:51.016Z"
   },
   {
    "duration": 18,
    "start_time": "2022-07-26T18:32:51.343Z"
   },
   {
    "duration": 264,
    "start_time": "2022-07-26T18:32:51.363Z"
   },
   {
    "duration": 198,
    "start_time": "2022-07-26T18:32:51.628Z"
   },
   {
    "duration": 112,
    "start_time": "2022-07-26T18:32:51.828Z"
   },
   {
    "duration": 24,
    "start_time": "2022-07-26T18:32:51.942Z"
   },
   {
    "duration": 107,
    "start_time": "2022-07-26T18:36:46.719Z"
   },
   {
    "duration": 110,
    "start_time": "2022-07-26T18:36:51.537Z"
   },
   {
    "duration": 13,
    "start_time": "2022-07-26T18:40:03.265Z"
   },
   {
    "duration": 154,
    "start_time": "2022-07-26T18:40:07.557Z"
   },
   {
    "duration": 15,
    "start_time": "2022-07-26T18:40:08.674Z"
   },
   {
    "duration": 1207,
    "start_time": "2022-07-26T18:40:15.537Z"
   },
   {
    "duration": 71,
    "start_time": "2022-07-26T18:40:16.746Z"
   },
   {
    "duration": 71,
    "start_time": "2022-07-26T18:40:16.819Z"
   },
   {
    "duration": 70,
    "start_time": "2022-07-26T18:40:16.892Z"
   },
   {
    "duration": 23,
    "start_time": "2022-07-26T18:40:16.965Z"
   },
   {
    "duration": 52,
    "start_time": "2022-07-26T18:40:16.990Z"
   },
   {
    "duration": 16,
    "start_time": "2022-07-26T18:40:17.044Z"
   },
   {
    "duration": 8,
    "start_time": "2022-07-26T18:40:17.062Z"
   },
   {
    "duration": 20,
    "start_time": "2022-07-26T18:40:17.072Z"
   },
   {
    "duration": 30,
    "start_time": "2022-07-26T18:40:17.094Z"
   },
   {
    "duration": 30,
    "start_time": "2022-07-26T18:40:17.126Z"
   },
   {
    "duration": 21,
    "start_time": "2022-07-26T18:40:17.158Z"
   },
   {
    "duration": 33,
    "start_time": "2022-07-26T18:40:17.180Z"
   },
   {
    "duration": 280,
    "start_time": "2022-07-26T18:40:17.216Z"
   },
   {
    "duration": 165,
    "start_time": "2022-07-26T18:40:17.497Z"
   },
   {
    "duration": 15,
    "start_time": "2022-07-26T18:40:17.664Z"
   },
   {
    "duration": 190,
    "start_time": "2022-07-26T18:40:17.681Z"
   },
   {
    "duration": 2,
    "start_time": "2022-07-26T18:40:17.873Z"
   },
   {
    "duration": 94,
    "start_time": "2022-07-26T18:40:17.877Z"
   },
   {
    "duration": 19,
    "start_time": "2022-07-26T18:40:17.973Z"
   },
   {
    "duration": 323,
    "start_time": "2022-07-26T18:40:17.993Z"
   },
   {
    "duration": 23,
    "start_time": "2022-07-26T18:40:18.318Z"
   },
   {
    "duration": 295,
    "start_time": "2022-07-26T18:40:18.343Z"
   },
   {
    "duration": 38,
    "start_time": "2022-07-26T18:40:18.640Z"
   },
   {
    "duration": 2311,
    "start_time": "2022-07-26T18:40:18.680Z"
   },
   {
    "duration": 316,
    "start_time": "2022-07-26T18:40:20.993Z"
   },
   {
    "duration": 26,
    "start_time": "2022-07-26T18:40:21.311Z"
   },
   {
    "duration": 271,
    "start_time": "2022-07-26T18:40:21.338Z"
   },
   {
    "duration": 208,
    "start_time": "2022-07-26T18:40:21.611Z"
   },
   {
    "duration": 14,
    "start_time": "2022-07-26T18:40:21.821Z"
   },
   {
    "duration": 16,
    "start_time": "2022-07-26T18:40:21.837Z"
   },
   {
    "duration": 18,
    "start_time": "2022-07-26T18:40:38.136Z"
   },
   {
    "duration": 17,
    "start_time": "2022-07-26T18:41:43.181Z"
   },
   {
    "duration": 14,
    "start_time": "2022-07-26T18:45:25.231Z"
   },
   {
    "duration": 18,
    "start_time": "2022-07-26T18:45:30.888Z"
   },
   {
    "duration": 17,
    "start_time": "2022-07-26T18:45:58.187Z"
   },
   {
    "duration": 102,
    "start_time": "2022-07-26T18:46:46.190Z"
   },
   {
    "duration": 107,
    "start_time": "2022-07-26T18:47:52.089Z"
   },
   {
    "duration": 23,
    "start_time": "2022-07-26T18:48:08.903Z"
   },
   {
    "duration": 279,
    "start_time": "2022-07-26T18:48:17.413Z"
   },
   {
    "duration": 335,
    "start_time": "2022-07-26T18:48:38.594Z"
   },
   {
    "duration": 420,
    "start_time": "2022-07-26T18:50:00.635Z"
   },
   {
    "duration": 303,
    "start_time": "2022-07-26T18:50:14.318Z"
   },
   {
    "duration": 290,
    "start_time": "2022-07-26T18:51:22.381Z"
   },
   {
    "duration": 287,
    "start_time": "2022-07-26T18:51:35.245Z"
   },
   {
    "duration": 314,
    "start_time": "2022-07-26T18:52:06.021Z"
   },
   {
    "duration": 290,
    "start_time": "2022-07-26T18:52:29.659Z"
   },
   {
    "duration": 8,
    "start_time": "2022-07-26T18:57:41.058Z"
   },
   {
    "duration": 25,
    "start_time": "2022-07-26T18:57:48.824Z"
   },
   {
    "duration": 16,
    "start_time": "2022-07-26T18:58:05.943Z"
   },
   {
    "duration": 77,
    "start_time": "2022-07-26T19:05:30.513Z"
   },
   {
    "duration": 60,
    "start_time": "2022-07-26T19:06:16.096Z"
   },
   {
    "duration": 1260,
    "start_time": "2022-07-26T19:06:21.334Z"
   },
   {
    "duration": 11,
    "start_time": "2022-07-26T19:12:33.039Z"
   },
   {
    "duration": 348,
    "start_time": "2022-07-26T19:36:59.243Z"
   },
   {
    "duration": 797,
    "start_time": "2022-07-26T19:40:51.117Z"
   },
   {
    "duration": 739,
    "start_time": "2022-07-26T19:41:03.823Z"
   },
   {
    "duration": 848,
    "start_time": "2022-07-26T19:41:09.002Z"
   },
   {
    "duration": 755,
    "start_time": "2022-07-26T19:42:11.706Z"
   },
   {
    "duration": 523,
    "start_time": "2022-07-26T19:43:02.997Z"
   },
   {
    "duration": 19,
    "start_time": "2022-07-26T19:44:12.320Z"
   },
   {
    "duration": 324,
    "start_time": "2022-07-26T19:45:09.105Z"
   },
   {
    "duration": 328,
    "start_time": "2022-07-26T19:49:37.514Z"
   },
   {
    "duration": 348,
    "start_time": "2022-07-26T19:50:15.651Z"
   },
   {
    "duration": 1199,
    "start_time": "2022-07-26T19:50:32.330Z"
   },
   {
    "duration": 504,
    "start_time": "2022-07-26T19:52:08.674Z"
   },
   {
    "duration": 392,
    "start_time": "2022-07-26T19:54:41.703Z"
   },
   {
    "duration": 315,
    "start_time": "2022-07-26T19:55:05.591Z"
   },
   {
    "duration": 748,
    "start_time": "2022-07-26T19:56:41.542Z"
   },
   {
    "duration": 667,
    "start_time": "2022-07-26T19:58:35.510Z"
   },
   {
    "duration": 23,
    "start_time": "2022-07-26T20:01:59.633Z"
   },
   {
    "duration": 325,
    "start_time": "2022-07-26T20:02:22.819Z"
   },
   {
    "duration": 25,
    "start_time": "2022-07-26T20:03:12.167Z"
   },
   {
    "duration": 17,
    "start_time": "2022-07-26T20:03:30.193Z"
   },
   {
    "duration": 11,
    "start_time": "2022-07-26T20:04:07.330Z"
   },
   {
    "duration": 16,
    "start_time": "2022-07-26T20:04:13.315Z"
   },
   {
    "duration": 30,
    "start_time": "2022-07-26T20:04:30.947Z"
   },
   {
    "duration": 32,
    "start_time": "2022-07-26T20:04:38.438Z"
   },
   {
    "duration": 18,
    "start_time": "2022-07-26T20:04:52.574Z"
   },
   {
    "duration": 22,
    "start_time": "2022-07-26T20:05:18.282Z"
   },
   {
    "duration": 26,
    "start_time": "2022-07-26T20:05:31.321Z"
   },
   {
    "duration": 18,
    "start_time": "2022-07-26T20:05:42.161Z"
   },
   {
    "duration": 20,
    "start_time": "2022-07-26T20:06:30.333Z"
   },
   {
    "duration": 306,
    "start_time": "2022-07-26T20:06:34.982Z"
   },
   {
    "duration": 320,
    "start_time": "2022-07-26T20:07:09.793Z"
   },
   {
    "duration": 17,
    "start_time": "2022-07-26T20:10:38.322Z"
   },
   {
    "duration": 343,
    "start_time": "2022-07-26T20:10:49.967Z"
   },
   {
    "duration": 263,
    "start_time": "2022-07-26T20:11:32.702Z"
   },
   {
    "duration": 259,
    "start_time": "2022-07-26T20:13:18.216Z"
   },
   {
    "duration": 21,
    "start_time": "2022-07-26T20:23:55.625Z"
   },
   {
    "duration": 4,
    "start_time": "2022-07-26T20:25:52.305Z"
   },
   {
    "duration": 3,
    "start_time": "2022-07-26T20:26:39.724Z"
   },
   {
    "duration": 9,
    "start_time": "2022-07-26T20:27:46.108Z"
   },
   {
    "duration": 941,
    "start_time": "2022-07-26T20:27:49.071Z"
   },
   {
    "duration": 17,
    "start_time": "2022-07-26T20:27:52.274Z"
   },
   {
    "duration": 233,
    "start_time": "2022-07-26T20:27:54.842Z"
   },
   {
    "duration": 992,
    "start_time": "2022-07-26T20:39:12.239Z"
   },
   {
    "duration": 390,
    "start_time": "2022-07-26T20:42:09.565Z"
   },
   {
    "duration": 19,
    "start_time": "2022-07-26T20:42:12.982Z"
   },
   {
    "duration": 220,
    "start_time": "2022-07-26T20:42:26.143Z"
   },
   {
    "duration": 19,
    "start_time": "2022-07-26T20:42:27.442Z"
   },
   {
    "duration": 31,
    "start_time": "2022-07-26T20:44:24.765Z"
   },
   {
    "duration": 7,
    "start_time": "2022-07-26T20:44:32.530Z"
   },
   {
    "duration": 17,
    "start_time": "2022-07-26T20:44:36.326Z"
   },
   {
    "duration": 1194,
    "start_time": "2022-07-26T20:45:19.756Z"
   },
   {
    "duration": 69,
    "start_time": "2022-07-26T20:45:20.952Z"
   },
   {
    "duration": 67,
    "start_time": "2022-07-26T20:45:21.023Z"
   },
   {
    "duration": 54,
    "start_time": "2022-07-26T20:45:21.092Z"
   },
   {
    "duration": 21,
    "start_time": "2022-07-26T20:45:21.148Z"
   },
   {
    "duration": 53,
    "start_time": "2022-07-26T20:45:21.171Z"
   },
   {
    "duration": 16,
    "start_time": "2022-07-26T20:45:21.227Z"
   },
   {
    "duration": 9,
    "start_time": "2022-07-26T20:45:21.245Z"
   },
   {
    "duration": 13,
    "start_time": "2022-07-26T20:45:21.256Z"
   },
   {
    "duration": 11,
    "start_time": "2022-07-26T20:45:21.272Z"
   },
   {
    "duration": 42,
    "start_time": "2022-07-26T20:45:21.284Z"
   },
   {
    "duration": 14,
    "start_time": "2022-07-26T20:45:21.328Z"
   },
   {
    "duration": 16,
    "start_time": "2022-07-26T20:45:21.344Z"
   },
   {
    "duration": 298,
    "start_time": "2022-07-26T20:45:21.362Z"
   },
   {
    "duration": 161,
    "start_time": "2022-07-26T20:45:21.662Z"
   },
   {
    "duration": 14,
    "start_time": "2022-07-26T20:45:21.825Z"
   },
   {
    "duration": 191,
    "start_time": "2022-07-26T20:45:21.841Z"
   },
   {
    "duration": 2,
    "start_time": "2022-07-26T20:45:22.034Z"
   },
   {
    "duration": 92,
    "start_time": "2022-07-26T20:45:22.038Z"
   },
   {
    "duration": 22,
    "start_time": "2022-07-26T20:45:22.132Z"
   },
   {
    "duration": 512,
    "start_time": "2022-07-26T20:45:22.156Z"
   },
   {
    "duration": 27,
    "start_time": "2022-07-26T20:45:22.722Z"
   },
   {
    "duration": 596,
    "start_time": "2022-07-26T20:45:22.751Z"
   },
   {
    "duration": 93,
    "start_time": "2022-07-26T20:45:23.349Z"
   },
   {
    "duration": 1512,
    "start_time": "2022-07-26T20:45:23.444Z"
   },
   {
    "duration": 314,
    "start_time": "2022-07-26T20:45:24.959Z"
   },
   {
    "duration": 19,
    "start_time": "2022-07-26T20:45:25.274Z"
   },
   {
    "duration": 276,
    "start_time": "2022-07-26T20:45:25.297Z"
   },
   {
    "duration": 207,
    "start_time": "2022-07-26T20:45:25.575Z"
   },
   {
    "duration": 20,
    "start_time": "2022-07-26T20:45:25.784Z"
   },
   {
    "duration": 31,
    "start_time": "2022-07-26T20:45:25.806Z"
   },
   {
    "duration": 311,
    "start_time": "2022-07-26T20:45:25.839Z"
   },
   {
    "duration": 11,
    "start_time": "2022-07-26T20:45:26.152Z"
   },
   {
    "duration": 1378,
    "start_time": "2022-07-26T20:45:26.165Z"
   },
   {
    "duration": 18,
    "start_time": "2022-07-26T20:45:27.545Z"
   },
   {
    "duration": 253,
    "start_time": "2022-07-26T20:45:27.565Z"
   },
   {
    "duration": 18,
    "start_time": "2022-07-26T20:45:27.819Z"
   },
   {
    "duration": 17,
    "start_time": "2022-07-26T20:45:27.838Z"
   },
   {
    "duration": 1090,
    "start_time": "2022-07-26T20:45:27.856Z"
   },
   {
    "duration": 2087,
    "start_time": "2022-07-27T07:48:08.613Z"
   },
   {
    "duration": 135,
    "start_time": "2022-07-27T07:48:10.702Z"
   },
   {
    "duration": 94,
    "start_time": "2022-07-27T07:48:10.839Z"
   },
   {
    "duration": 47,
    "start_time": "2022-07-27T07:48:10.935Z"
   },
   {
    "duration": 50,
    "start_time": "2022-07-27T07:48:10.984Z"
   },
   {
    "duration": 40,
    "start_time": "2022-07-27T07:48:11.036Z"
   },
   {
    "duration": 42,
    "start_time": "2022-07-27T07:48:11.079Z"
   },
   {
    "duration": 10,
    "start_time": "2022-07-27T07:48:11.123Z"
   },
   {
    "duration": 19,
    "start_time": "2022-07-27T07:48:11.135Z"
   },
   {
    "duration": 19,
    "start_time": "2022-07-27T07:48:11.159Z"
   },
   {
    "duration": 39,
    "start_time": "2022-07-27T07:48:11.181Z"
   },
   {
    "duration": 22,
    "start_time": "2022-07-27T07:48:11.223Z"
   },
   {
    "duration": 26,
    "start_time": "2022-07-27T07:48:11.247Z"
   },
   {
    "duration": 340,
    "start_time": "2022-07-27T07:48:11.276Z"
   },
   {
    "duration": 257,
    "start_time": "2022-07-27T07:48:11.619Z"
   },
   {
    "duration": 38,
    "start_time": "2022-07-27T07:48:11.879Z"
   },
   {
    "duration": 313,
    "start_time": "2022-07-27T07:48:11.919Z"
   },
   {
    "duration": 3,
    "start_time": "2022-07-27T07:48:12.235Z"
   },
   {
    "duration": 107,
    "start_time": "2022-07-27T07:48:12.240Z"
   },
   {
    "duration": 34,
    "start_time": "2022-07-27T07:48:12.350Z"
   },
   {
    "duration": 390,
    "start_time": "2022-07-27T07:48:12.387Z"
   },
   {
    "duration": 32,
    "start_time": "2022-07-27T07:48:12.779Z"
   },
   {
    "duration": 323,
    "start_time": "2022-07-27T07:48:12.813Z"
   },
   {
    "duration": 45,
    "start_time": "2022-07-27T07:48:13.138Z"
   },
   {
    "duration": 1426,
    "start_time": "2022-07-27T07:48:13.185Z"
   },
   {
    "duration": 339,
    "start_time": "2022-07-27T07:48:14.612Z"
   },
   {
    "duration": 20,
    "start_time": "2022-07-27T07:48:14.952Z"
   },
   {
    "duration": 299,
    "start_time": "2022-07-27T07:48:14.976Z"
   },
   {
    "duration": 253,
    "start_time": "2022-07-27T07:48:15.277Z"
   },
   {
    "duration": 21,
    "start_time": "2022-07-27T07:48:15.532Z"
   },
   {
    "duration": 31,
    "start_time": "2022-07-27T07:48:15.555Z"
   },
   {
    "duration": 312,
    "start_time": "2022-07-27T07:48:15.609Z"
   },
   {
    "duration": 27,
    "start_time": "2022-07-27T07:48:15.923Z"
   },
   {
    "duration": 1321,
    "start_time": "2022-07-27T07:48:15.952Z"
   },
   {
    "duration": 18,
    "start_time": "2022-07-27T07:48:17.275Z"
   },
   {
    "duration": 253,
    "start_time": "2022-07-27T07:48:17.294Z"
   },
   {
    "duration": 16,
    "start_time": "2022-07-27T07:48:17.548Z"
   },
   {
    "duration": 19,
    "start_time": "2022-07-27T07:48:17.566Z"
   },
   {
    "duration": 1008,
    "start_time": "2022-07-27T07:48:17.587Z"
   },
   {
    "duration": 1011,
    "start_time": "2022-07-27T09:00:06.959Z"
   },
   {
    "duration": 1273,
    "start_time": "2022-07-27T09:00:25.508Z"
   },
   {
    "duration": 18,
    "start_time": "2022-07-27T09:01:39.927Z"
   },
   {
    "duration": 337,
    "start_time": "2022-07-27T09:03:08.922Z"
   },
   {
    "duration": 219,
    "start_time": "2022-07-27T09:03:24.044Z"
   },
   {
    "duration": 246,
    "start_time": "2022-07-27T09:03:35.007Z"
   },
   {
    "duration": 86,
    "start_time": "2022-07-27T09:07:45.285Z"
   },
   {
    "duration": 117,
    "start_time": "2022-07-27T12:42:10.448Z"
   },
   {
    "duration": 1235,
    "start_time": "2022-07-27T12:43:19.225Z"
   },
   {
    "duration": 166,
    "start_time": "2022-07-27T12:43:20.462Z"
   },
   {
    "duration": 101,
    "start_time": "2022-07-27T12:43:20.630Z"
   },
   {
    "duration": 78,
    "start_time": "2022-07-27T12:43:20.733Z"
   },
   {
    "duration": 30,
    "start_time": "2022-07-27T12:43:20.818Z"
   },
   {
    "duration": 36,
    "start_time": "2022-07-27T12:43:20.850Z"
   },
   {
    "duration": 42,
    "start_time": "2022-07-27T12:43:20.888Z"
   },
   {
    "duration": 15,
    "start_time": "2022-07-27T12:43:20.932Z"
   },
   {
    "duration": 9,
    "start_time": "2022-07-27T12:43:20.949Z"
   },
   {
    "duration": 18,
    "start_time": "2022-07-27T12:43:20.960Z"
   },
   {
    "duration": 13,
    "start_time": "2022-07-27T12:43:20.980Z"
   },
   {
    "duration": 22,
    "start_time": "2022-07-27T12:43:21.010Z"
   },
   {
    "duration": 33,
    "start_time": "2022-07-27T12:43:21.034Z"
   },
   {
    "duration": 305,
    "start_time": "2022-07-27T12:43:21.070Z"
   },
   {
    "duration": 181,
    "start_time": "2022-07-27T12:43:21.377Z"
   },
   {
    "duration": 17,
    "start_time": "2022-07-27T12:43:21.559Z"
   },
   {
    "duration": 223,
    "start_time": "2022-07-27T12:43:21.578Z"
   },
   {
    "duration": 128,
    "start_time": "2022-07-27T12:43:21.803Z"
   },
   {
    "duration": 24,
    "start_time": "2022-07-27T12:43:21.933Z"
   },
   {
    "duration": 397,
    "start_time": "2022-07-27T12:43:21.959Z"
   },
   {
    "duration": 19,
    "start_time": "2022-07-27T12:43:22.358Z"
   },
   {
    "duration": 315,
    "start_time": "2022-07-27T12:43:22.379Z"
   },
   {
    "duration": 58,
    "start_time": "2022-07-27T12:43:22.697Z"
   },
   {
    "duration": 1329,
    "start_time": "2022-07-27T12:43:22.758Z"
   },
   {
    "duration": 352,
    "start_time": "2022-07-27T12:43:24.089Z"
   },
   {
    "duration": 19,
    "start_time": "2022-07-27T12:43:24.443Z"
   },
   {
    "duration": 297,
    "start_time": "2022-07-27T12:43:24.463Z"
   },
   {
    "duration": 274,
    "start_time": "2022-07-27T12:43:24.762Z"
   },
   {
    "duration": 20,
    "start_time": "2022-07-27T12:43:25.038Z"
   },
   {
    "duration": 21,
    "start_time": "2022-07-27T12:43:25.060Z"
   },
   {
    "duration": 377,
    "start_time": "2022-07-27T12:43:25.083Z"
   },
   {
    "duration": 12,
    "start_time": "2022-07-27T12:43:25.462Z"
   },
   {
    "duration": 2326,
    "start_time": "2022-07-27T12:43:25.476Z"
   },
   {
    "duration": 22,
    "start_time": "2022-07-27T12:43:27.804Z"
   },
   {
    "duration": 303,
    "start_time": "2022-07-27T12:43:27.828Z"
   },
   {
    "duration": 18,
    "start_time": "2022-07-27T12:43:28.132Z"
   },
   {
    "duration": 59,
    "start_time": "2022-07-27T12:43:28.152Z"
   },
   {
    "duration": 1028,
    "start_time": "2022-07-27T12:43:28.219Z"
   },
   {
    "duration": 20,
    "start_time": "2022-07-27T12:43:29.249Z"
   },
   {
    "duration": 330,
    "start_time": "2022-07-27T12:43:29.271Z"
   },
   {
    "duration": 21,
    "start_time": "2022-07-27T12:45:12.704Z"
   },
   {
    "duration": 1207,
    "start_time": "2022-07-27T12:45:43.353Z"
   },
   {
    "duration": 79,
    "start_time": "2022-07-27T12:45:44.562Z"
   },
   {
    "duration": 89,
    "start_time": "2022-07-27T12:45:44.643Z"
   },
   {
    "duration": 46,
    "start_time": "2022-07-27T12:45:44.734Z"
   },
   {
    "duration": 52,
    "start_time": "2022-07-27T12:45:44.782Z"
   },
   {
    "duration": 37,
    "start_time": "2022-07-27T12:45:44.836Z"
   },
   {
    "duration": 41,
    "start_time": "2022-07-27T12:45:44.875Z"
   },
   {
    "duration": 9,
    "start_time": "2022-07-27T12:45:44.930Z"
   },
   {
    "duration": 12,
    "start_time": "2022-07-27T12:45:44.941Z"
   },
   {
    "duration": 22,
    "start_time": "2022-07-27T12:45:44.957Z"
   },
   {
    "duration": 14,
    "start_time": "2022-07-27T12:45:44.981Z"
   },
   {
    "duration": 33,
    "start_time": "2022-07-27T12:45:44.997Z"
   },
   {
    "duration": 20,
    "start_time": "2022-07-27T12:45:45.032Z"
   },
   {
    "duration": 315,
    "start_time": "2022-07-27T12:45:45.054Z"
   },
   {
    "duration": 185,
    "start_time": "2022-07-27T12:45:45.371Z"
   },
   {
    "duration": 21,
    "start_time": "2022-07-27T12:45:45.557Z"
   },
   {
    "duration": 208,
    "start_time": "2022-07-27T12:45:45.580Z"
   },
   {
    "duration": 89,
    "start_time": "2022-07-27T12:45:45.790Z"
   },
   {
    "duration": 41,
    "start_time": "2022-07-27T12:45:45.881Z"
   },
   {
    "duration": 340,
    "start_time": "2022-07-27T12:45:45.924Z"
   },
   {
    "duration": 21,
    "start_time": "2022-07-27T12:45:46.266Z"
   },
   {
    "duration": 353,
    "start_time": "2022-07-27T12:45:46.288Z"
   },
   {
    "duration": 42,
    "start_time": "2022-07-27T12:45:46.644Z"
   },
   {
    "duration": 2451,
    "start_time": "2022-07-27T12:45:46.688Z"
   },
   {
    "duration": 343,
    "start_time": "2022-07-27T12:45:49.141Z"
   },
   {
    "duration": 34,
    "start_time": "2022-07-27T12:45:49.486Z"
   },
   {
    "duration": 310,
    "start_time": "2022-07-27T12:45:49.526Z"
   },
   {
    "duration": 255,
    "start_time": "2022-07-27T12:45:49.840Z"
   },
   {
    "duration": 25,
    "start_time": "2022-07-27T12:45:50.097Z"
   },
   {
    "duration": 40,
    "start_time": "2022-07-27T12:45:50.131Z"
   },
   {
    "duration": 331,
    "start_time": "2022-07-27T12:45:50.172Z"
   },
   {
    "duration": 25,
    "start_time": "2022-07-27T12:45:50.505Z"
   },
   {
    "duration": 1143,
    "start_time": "2022-07-27T12:45:50.532Z"
   },
   {
    "duration": 20,
    "start_time": "2022-07-27T12:45:51.677Z"
   },
   {
    "duration": 282,
    "start_time": "2022-07-27T12:45:51.699Z"
   },
   {
    "duration": 19,
    "start_time": "2022-07-27T12:45:51.984Z"
   },
   {
    "duration": 30,
    "start_time": "2022-07-27T12:45:52.010Z"
   },
   {
    "duration": 1194,
    "start_time": "2022-07-27T12:45:52.042Z"
   },
   {
    "duration": 24,
    "start_time": "2022-07-27T12:45:53.238Z"
   },
   {
    "duration": 339,
    "start_time": "2022-07-27T12:45:53.263Z"
   },
   {
    "duration": 1290,
    "start_time": "2022-07-27T17:28:04.625Z"
   },
   {
    "duration": 246,
    "start_time": "2022-07-27T17:28:05.917Z"
   },
   {
    "duration": 64,
    "start_time": "2022-07-27T17:28:06.165Z"
   },
   {
    "duration": 39,
    "start_time": "2022-07-27T17:28:06.231Z"
   },
   {
    "duration": 20,
    "start_time": "2022-07-27T17:28:06.272Z"
   },
   {
    "duration": 56,
    "start_time": "2022-07-27T17:28:06.293Z"
   },
   {
    "duration": 14,
    "start_time": "2022-07-27T17:28:06.351Z"
   },
   {
    "duration": 7,
    "start_time": "2022-07-27T17:28:06.367Z"
   },
   {
    "duration": 9,
    "start_time": "2022-07-27T17:28:06.375Z"
   },
   {
    "duration": 40,
    "start_time": "2022-07-27T17:28:06.387Z"
   },
   {
    "duration": 9,
    "start_time": "2022-07-27T17:28:06.428Z"
   },
   {
    "duration": 12,
    "start_time": "2022-07-27T17:28:06.438Z"
   },
   {
    "duration": 13,
    "start_time": "2022-07-27T17:28:06.452Z"
   },
   {
    "duration": 268,
    "start_time": "2022-07-27T17:28:06.466Z"
   },
   {
    "duration": 165,
    "start_time": "2022-07-27T17:28:06.736Z"
   },
   {
    "duration": 23,
    "start_time": "2022-07-27T17:28:06.902Z"
   },
   {
    "duration": 180,
    "start_time": "2022-07-27T17:28:06.927Z"
   },
   {
    "duration": 105,
    "start_time": "2022-07-27T17:28:07.109Z"
   },
   {
    "duration": 26,
    "start_time": "2022-07-27T17:28:07.217Z"
   },
   {
    "duration": 329,
    "start_time": "2022-07-27T17:28:07.248Z"
   },
   {
    "duration": 20,
    "start_time": "2022-07-27T17:28:07.579Z"
   },
   {
    "duration": 263,
    "start_time": "2022-07-27T17:28:07.601Z"
   },
   {
    "duration": 29,
    "start_time": "2022-07-27T17:28:07.866Z"
   },
   {
    "duration": 1204,
    "start_time": "2022-07-27T17:28:07.897Z"
   },
   {
    "duration": 294,
    "start_time": "2022-07-27T17:28:09.103Z"
   },
   {
    "duration": 26,
    "start_time": "2022-07-27T17:28:09.398Z"
   },
   {
    "duration": 248,
    "start_time": "2022-07-27T17:28:09.426Z"
   },
   {
    "duration": 213,
    "start_time": "2022-07-27T17:28:09.677Z"
   },
   {
    "duration": 18,
    "start_time": "2022-07-27T17:28:09.892Z"
   },
   {
    "duration": 29,
    "start_time": "2022-07-27T17:28:09.912Z"
   },
   {
    "duration": 284,
    "start_time": "2022-07-27T17:28:09.943Z"
   },
   {
    "duration": 11,
    "start_time": "2022-07-27T17:28:10.229Z"
   },
   {
    "duration": 1164,
    "start_time": "2022-07-27T17:28:10.241Z"
   },
   {
    "duration": 18,
    "start_time": "2022-07-27T17:28:11.407Z"
   },
   {
    "duration": 233,
    "start_time": "2022-07-27T17:28:11.426Z"
   },
   {
    "duration": 14,
    "start_time": "2022-07-27T17:28:11.662Z"
   },
   {
    "duration": 18,
    "start_time": "2022-07-27T17:28:11.678Z"
   },
   {
    "duration": 933,
    "start_time": "2022-07-27T17:28:11.698Z"
   },
   {
    "duration": 18,
    "start_time": "2022-07-27T17:28:12.632Z"
   },
   {
    "duration": 599,
    "start_time": "2022-07-27T17:28:12.651Z"
   },
   {
    "duration": 55,
    "start_time": "2022-07-27T17:36:21.709Z"
   },
   {
    "duration": 65,
    "start_time": "2022-07-27T17:42:32.216Z"
   },
   {
    "duration": 41,
    "start_time": "2022-07-27T17:45:34.558Z"
   },
   {
    "duration": 1240,
    "start_time": "2022-07-27T17:45:40.831Z"
   },
   {
    "duration": 237,
    "start_time": "2022-07-27T17:45:42.073Z"
   },
   {
    "duration": 58,
    "start_time": "2022-07-27T17:45:42.311Z"
   },
   {
    "duration": 35,
    "start_time": "2022-07-27T17:45:42.371Z"
   },
   {
    "duration": 19,
    "start_time": "2022-07-27T17:45:42.408Z"
   },
   {
    "duration": 45,
    "start_time": "2022-07-27T17:45:42.429Z"
   },
   {
    "duration": 13,
    "start_time": "2022-07-27T17:45:42.476Z"
   },
   {
    "duration": 6,
    "start_time": "2022-07-27T17:45:42.491Z"
   },
   {
    "duration": 10,
    "start_time": "2022-07-27T17:45:42.499Z"
   },
   {
    "duration": 16,
    "start_time": "2022-07-27T17:45:42.510Z"
   },
   {
    "duration": 11,
    "start_time": "2022-07-27T17:45:42.527Z"
   },
   {
    "duration": 11,
    "start_time": "2022-07-27T17:45:42.540Z"
   },
   {
    "duration": 15,
    "start_time": "2022-07-27T17:45:42.572Z"
   },
   {
    "duration": 237,
    "start_time": "2022-07-27T17:45:42.590Z"
   },
   {
    "duration": 132,
    "start_time": "2022-07-27T17:45:42.828Z"
   },
   {
    "duration": 16,
    "start_time": "2022-07-27T17:45:42.961Z"
   },
   {
    "duration": 152,
    "start_time": "2022-07-27T17:45:42.979Z"
   },
   {
    "duration": 73,
    "start_time": "2022-07-27T17:45:43.132Z"
   },
   {
    "duration": 18,
    "start_time": "2022-07-27T17:45:43.206Z"
   },
   {
    "duration": 260,
    "start_time": "2022-07-27T17:45:43.225Z"
   },
   {
    "duration": 16,
    "start_time": "2022-07-27T17:45:43.487Z"
   },
   {
    "duration": 230,
    "start_time": "2022-07-27T17:45:43.505Z"
   },
   {
    "duration": 27,
    "start_time": "2022-07-27T17:45:43.736Z"
   },
   {
    "duration": 1073,
    "start_time": "2022-07-27T17:45:43.773Z"
   },
   {
    "duration": 262,
    "start_time": "2022-07-27T17:45:44.847Z"
   },
   {
    "duration": 16,
    "start_time": "2022-07-27T17:45:45.111Z"
   },
   {
    "duration": 215,
    "start_time": "2022-07-27T17:45:45.129Z"
   },
   {
    "duration": 100,
    "start_time": "2022-07-27T17:45:45.346Z"
   },
   {
    "duration": 0,
    "start_time": "2022-07-27T17:45:45.448Z"
   },
   {
    "duration": 0,
    "start_time": "2022-07-27T17:45:45.449Z"
   },
   {
    "duration": 0,
    "start_time": "2022-07-27T17:45:45.449Z"
   },
   {
    "duration": 0,
    "start_time": "2022-07-27T17:45:45.450Z"
   },
   {
    "duration": 0,
    "start_time": "2022-07-27T17:45:45.451Z"
   },
   {
    "duration": 0,
    "start_time": "2022-07-27T17:45:45.452Z"
   },
   {
    "duration": 0,
    "start_time": "2022-07-27T17:45:45.453Z"
   },
   {
    "duration": 0,
    "start_time": "2022-07-27T17:45:45.454Z"
   },
   {
    "duration": 0,
    "start_time": "2022-07-27T17:45:45.455Z"
   },
   {
    "duration": 0,
    "start_time": "2022-07-27T17:45:45.456Z"
   },
   {
    "duration": 0,
    "start_time": "2022-07-27T17:45:45.473Z"
   },
   {
    "duration": 0,
    "start_time": "2022-07-27T17:45:45.474Z"
   },
   {
    "duration": 0,
    "start_time": "2022-07-27T17:45:45.475Z"
   },
   {
    "duration": 386,
    "start_time": "2022-07-27T17:46:39.744Z"
   },
   {
    "duration": 49,
    "start_time": "2022-07-27T17:48:53.268Z"
   },
   {
    "duration": 18,
    "start_time": "2022-07-27T17:48:59.145Z"
   },
   {
    "duration": 309,
    "start_time": "2022-07-27T17:49:11.528Z"
   },
   {
    "duration": 439,
    "start_time": "2022-07-27T17:49:40.916Z"
   },
   {
    "duration": 15,
    "start_time": "2022-07-27T17:49:59.294Z"
   },
   {
    "duration": 210,
    "start_time": "2022-07-27T17:50:03.654Z"
   },
   {
    "duration": 21,
    "start_time": "2022-07-27T17:50:35.944Z"
   },
   {
    "duration": 312,
    "start_time": "2022-07-27T17:50:51.785Z"
   },
   {
    "duration": 297,
    "start_time": "2022-07-27T17:51:42.862Z"
   },
   {
    "duration": 368,
    "start_time": "2022-07-27T17:51:51.220Z"
   },
   {
    "duration": 337,
    "start_time": "2022-07-27T17:53:30.218Z"
   },
   {
    "duration": 23,
    "start_time": "2022-07-27T17:54:56.447Z"
   },
   {
    "duration": 218,
    "start_time": "2022-07-27T17:55:00.761Z"
   },
   {
    "duration": 299,
    "start_time": "2022-07-27T17:55:16.444Z"
   },
   {
    "duration": 51,
    "start_time": "2022-07-27T18:06:47.508Z"
   },
   {
    "duration": 53,
    "start_time": "2022-07-27T18:08:14.177Z"
   },
   {
    "duration": 64,
    "start_time": "2022-07-27T18:12:13.062Z"
   },
   {
    "duration": 429,
    "start_time": "2022-07-27T18:32:01.469Z"
   },
   {
    "duration": 1042,
    "start_time": "2022-07-27T18:37:48.790Z"
   },
   {
    "duration": 61,
    "start_time": "2022-07-27T18:37:49.834Z"
   },
   {
    "duration": 57,
    "start_time": "2022-07-27T18:37:49.896Z"
   },
   {
    "duration": 46,
    "start_time": "2022-07-27T18:37:49.954Z"
   },
   {
    "duration": 18,
    "start_time": "2022-07-27T18:37:50.001Z"
   },
   {
    "duration": 30,
    "start_time": "2022-07-27T18:37:50.021Z"
   },
   {
    "duration": 32,
    "start_time": "2022-07-27T18:37:50.053Z"
   },
   {
    "duration": 8,
    "start_time": "2022-07-27T18:37:50.087Z"
   },
   {
    "duration": 22,
    "start_time": "2022-07-27T18:37:50.097Z"
   },
   {
    "duration": 17,
    "start_time": "2022-07-27T18:37:50.122Z"
   },
   {
    "duration": 22,
    "start_time": "2022-07-27T18:37:50.140Z"
   },
   {
    "duration": 24,
    "start_time": "2022-07-27T18:37:50.163Z"
   },
   {
    "duration": 17,
    "start_time": "2022-07-27T18:37:50.188Z"
   },
   {
    "duration": 238,
    "start_time": "2022-07-27T18:37:50.207Z"
   },
   {
    "duration": 132,
    "start_time": "2022-07-27T18:37:50.446Z"
   },
   {
    "duration": 13,
    "start_time": "2022-07-27T18:37:50.580Z"
   },
   {
    "duration": 156,
    "start_time": "2022-07-27T18:37:50.595Z"
   },
   {
    "duration": 85,
    "start_time": "2022-07-27T18:37:50.753Z"
   },
   {
    "duration": 21,
    "start_time": "2022-07-27T18:37:50.839Z"
   },
   {
    "duration": 280,
    "start_time": "2022-07-27T18:37:50.861Z"
   },
   {
    "duration": 17,
    "start_time": "2022-07-27T18:37:51.143Z"
   },
   {
    "duration": 238,
    "start_time": "2022-07-27T18:37:51.162Z"
   },
   {
    "duration": 31,
    "start_time": "2022-07-27T18:37:51.401Z"
   },
   {
    "duration": 1040,
    "start_time": "2022-07-27T18:37:51.434Z"
   },
   {
    "duration": 397,
    "start_time": "2022-07-27T18:37:52.476Z"
   },
   {
    "duration": 23,
    "start_time": "2022-07-27T18:37:52.875Z"
   },
   {
    "duration": 226,
    "start_time": "2022-07-27T18:37:52.899Z"
   },
   {
    "duration": 298,
    "start_time": "2022-07-27T18:37:53.128Z"
   },
   {
    "duration": 168,
    "start_time": "2022-07-27T18:37:53.428Z"
   },
   {
    "duration": 16,
    "start_time": "2022-07-27T18:37:53.598Z"
   },
   {
    "duration": 17,
    "start_time": "2022-07-27T18:37:53.615Z"
   },
   {
    "duration": 260,
    "start_time": "2022-07-27T18:37:53.634Z"
   },
   {
    "duration": 10,
    "start_time": "2022-07-27T18:37:53.895Z"
   },
   {
    "duration": 1180,
    "start_time": "2022-07-27T18:37:53.906Z"
   },
   {
    "duration": 134,
    "start_time": "2022-07-27T18:37:55.088Z"
   },
   {
    "duration": 199,
    "start_time": "2022-07-27T18:37:55.224Z"
   },
   {
    "duration": 14,
    "start_time": "2022-07-27T18:37:55.424Z"
   },
   {
    "duration": 15,
    "start_time": "2022-07-27T18:37:55.439Z"
   },
   {
    "duration": 907,
    "start_time": "2022-07-27T18:37:55.473Z"
   },
   {
    "duration": 15,
    "start_time": "2022-07-27T18:37:56.381Z"
   },
   {
    "duration": 188,
    "start_time": "2022-07-27T18:37:56.398Z"
   }
  ],
  "kernelspec": {
   "display_name": "Python 3 (ipykernel)",
   "language": "python",
   "name": "python3"
  },
  "language_info": {
   "codemirror_mode": {
    "name": "ipython",
    "version": 3
   },
   "file_extension": ".py",
   "mimetype": "text/x-python",
   "name": "python",
   "nbconvert_exporter": "python",
   "pygments_lexer": "ipython3",
   "version": "3.9.12"
  },
  "toc": {
   "base_numbering": 1,
   "nav_menu": {},
   "number_sections": true,
   "sideBar": true,
   "skip_h1_title": true,
   "title_cell": "Table of Contents",
   "title_sidebar": "Contents",
   "toc_cell": false,
   "toc_position": {
    "height": "calc(100% - 180px)",
    "left": "10px",
    "top": "150px",
    "width": "307.391px"
   },
   "toc_section_display": true,
   "toc_window_display": true
  }
 },
 "nbformat": 4,
 "nbformat_minor": 2
}
