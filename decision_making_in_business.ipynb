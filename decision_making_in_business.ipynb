{
 "cells": [
  {
   "cell_type": "markdown",
   "metadata": {},
   "source": [
    "# Проверка гипотез и анализ A/B-тестирования"
   ]
  },
  {
   "cell_type": "markdown",
   "metadata": {},
   "source": [
    "В нашем распоряжении данные крупного интернет-магазина, цель проекта - приоретизировать гипотезы 2 фреймворками RICE и ICE, а также проанализировать результаты, полученные в ходе проведения A/B теста."
   ]
  },
  {
   "cell_type": "markdown",
   "metadata": {},
   "source": [
    "## Изучение данных и предобработка"
   ]
  },
  {
   "cell_type": "code",
   "execution_count": 1,
   "metadata": {},
   "outputs": [],
   "source": [
    "import numpy as np \n",
    "import pandas as pd\n",
    "import warnings\n",
    "import matplotlib.pyplot as plt\n",
    "from scipy import stats as st"
   ]
  },
  {
   "cell_type": "code",
   "execution_count": 2,
   "metadata": {},
   "outputs": [],
   "source": [
    "pd.set_option('display.max_columns', None)\n",
    "pd.options.display.max_colwidth = 110  \n",
    "pd.options.display.float_format = '{:,.2f}'.format"
   ]
  },
  {
   "cell_type": "code",
   "execution_count": 3,
   "metadata": {},
   "outputs": [],
   "source": [
    "part_1 = pd.read_csv('C:/Users/Анастасия/Documents/Jupiter_project/projects/decision_making_in_business/hypothesis.csv')\n",
    "orders = pd.read_csv('C:/Users/Анастасия/Documents/Jupiter_project/projects/decision_making_in_business/orders.csv')\n",
    "visitors = pd.read_csv('C:/Users/Анастасия/Documents/Jupiter_project/projects/decision_making_in_business/visitors.csv')"
   ]
  },
  {
   "cell_type": "markdown",
   "metadata": {},
   "source": [
    "### part_1"
   ]
  },
  {
   "cell_type": "code",
   "execution_count": 4,
   "metadata": {},
   "outputs": [],
   "source": [
    "def info (data): #функция для просмотра иформации об имеющихсся данных\n",
    "    data.info()\n",
    "    display(data.head(9))\n",
    "    print(data.columns)\n",
    "    display(pd.DataFrame(round((data.isna().mean() * 100), 2), columns=['NaNs,%']).style.format('{:.2f}'))"
   ]
  },
  {
   "cell_type": "code",
   "execution_count": 5,
   "metadata": {},
   "outputs": [
    {
     "name": "stdout",
     "output_type": "stream",
     "text": [
      "<class 'pandas.core.frame.DataFrame'>\n",
      "RangeIndex: 9 entries, 0 to 8\n",
      "Data columns (total 5 columns):\n",
      " #   Column      Non-Null Count  Dtype \n",
      "---  ------      --------------  ----- \n",
      " 0   Hypothesis  9 non-null      object\n",
      " 1   Reach       9 non-null      int64 \n",
      " 2   Impact      9 non-null      int64 \n",
      " 3   Confidence  9 non-null      int64 \n",
      " 4   Efforts     9 non-null      int64 \n",
      "dtypes: int64(4), object(1)\n",
      "memory usage: 488.0+ bytes\n"
     ]
    },
    {
     "data": {
      "text/html": [
       "<div>\n",
       "<style scoped>\n",
       "    .dataframe tbody tr th:only-of-type {\n",
       "        vertical-align: middle;\n",
       "    }\n",
       "\n",
       "    .dataframe tbody tr th {\n",
       "        vertical-align: top;\n",
       "    }\n",
       "\n",
       "    .dataframe thead th {\n",
       "        text-align: right;\n",
       "    }\n",
       "</style>\n",
       "<table border=\"1\" class=\"dataframe\">\n",
       "  <thead>\n",
       "    <tr style=\"text-align: right;\">\n",
       "      <th></th>\n",
       "      <th>Hypothesis</th>\n",
       "      <th>Reach</th>\n",
       "      <th>Impact</th>\n",
       "      <th>Confidence</th>\n",
       "      <th>Efforts</th>\n",
       "    </tr>\n",
       "  </thead>\n",
       "  <tbody>\n",
       "    <tr>\n",
       "      <th>0</th>\n",
       "      <td>Добавить два новых канала привлечения трафика, что позволит привлекать на 30% больше пользователей</td>\n",
       "      <td>3</td>\n",
       "      <td>10</td>\n",
       "      <td>8</td>\n",
       "      <td>6</td>\n",
       "    </tr>\n",
       "    <tr>\n",
       "      <th>1</th>\n",
       "      <td>Запустить собственную службу доставки, что сократит срок доставки заказов</td>\n",
       "      <td>2</td>\n",
       "      <td>5</td>\n",
       "      <td>4</td>\n",
       "      <td>10</td>\n",
       "    </tr>\n",
       "    <tr>\n",
       "      <th>2</th>\n",
       "      <td>Добавить блоки рекомендаций товаров на сайт интернет магазина, чтобы повысить конверсию и средний чек заказа</td>\n",
       "      <td>8</td>\n",
       "      <td>3</td>\n",
       "      <td>7</td>\n",
       "      <td>3</td>\n",
       "    </tr>\n",
       "    <tr>\n",
       "      <th>3</th>\n",
       "      <td>Изменить структура категорий, что увеличит конверсию, т.к. пользователи быстрее найдут нужный товар</td>\n",
       "      <td>8</td>\n",
       "      <td>3</td>\n",
       "      <td>3</td>\n",
       "      <td>8</td>\n",
       "    </tr>\n",
       "    <tr>\n",
       "      <th>4</th>\n",
       "      <td>Изменить цвет фона главной страницы, чтобы увеличить вовлеченность пользователей</td>\n",
       "      <td>3</td>\n",
       "      <td>1</td>\n",
       "      <td>1</td>\n",
       "      <td>1</td>\n",
       "    </tr>\n",
       "    <tr>\n",
       "      <th>5</th>\n",
       "      <td>Добавить страницу отзывов клиентов о магазине, что позволит увеличить количество заказов</td>\n",
       "      <td>3</td>\n",
       "      <td>2</td>\n",
       "      <td>2</td>\n",
       "      <td>3</td>\n",
       "    </tr>\n",
       "    <tr>\n",
       "      <th>6</th>\n",
       "      <td>Показать на главной странице баннеры с актуальными акциями и распродажами, чтобы увеличить конверсию</td>\n",
       "      <td>5</td>\n",
       "      <td>3</td>\n",
       "      <td>8</td>\n",
       "      <td>3</td>\n",
       "    </tr>\n",
       "    <tr>\n",
       "      <th>7</th>\n",
       "      <td>Добавить форму подписки на все основные страницы, чтобы собрать базу клиентов для email-рассылок</td>\n",
       "      <td>10</td>\n",
       "      <td>7</td>\n",
       "      <td>8</td>\n",
       "      <td>5</td>\n",
       "    </tr>\n",
       "    <tr>\n",
       "      <th>8</th>\n",
       "      <td>Запустить акцию, дающую скидку на товар в день рождения</td>\n",
       "      <td>1</td>\n",
       "      <td>9</td>\n",
       "      <td>9</td>\n",
       "      <td>5</td>\n",
       "    </tr>\n",
       "  </tbody>\n",
       "</table>\n",
       "</div>"
      ],
      "text/plain": [
       "                                                                                                     Hypothesis  \\\n",
       "0            Добавить два новых канала привлечения трафика, что позволит привлекать на 30% больше пользователей   \n",
       "1                                     Запустить собственную службу доставки, что сократит срок доставки заказов   \n",
       "2  Добавить блоки рекомендаций товаров на сайт интернет магазина, чтобы повысить конверсию и средний чек заказа   \n",
       "3           Изменить структура категорий, что увеличит конверсию, т.к. пользователи быстрее найдут нужный товар   \n",
       "4                              Изменить цвет фона главной страницы, чтобы увеличить вовлеченность пользователей   \n",
       "5                      Добавить страницу отзывов клиентов о магазине, что позволит увеличить количество заказов   \n",
       "6          Показать на главной странице баннеры с актуальными акциями и распродажами, чтобы увеличить конверсию   \n",
       "7              Добавить форму подписки на все основные страницы, чтобы собрать базу клиентов для email-рассылок   \n",
       "8                                                       Запустить акцию, дающую скидку на товар в день рождения   \n",
       "\n",
       "   Reach  Impact  Confidence  Efforts  \n",
       "0      3      10           8        6  \n",
       "1      2       5           4       10  \n",
       "2      8       3           7        3  \n",
       "3      8       3           3        8  \n",
       "4      3       1           1        1  \n",
       "5      3       2           2        3  \n",
       "6      5       3           8        3  \n",
       "7     10       7           8        5  \n",
       "8      1       9           9        5  "
      ]
     },
     "metadata": {},
     "output_type": "display_data"
    },
    {
     "name": "stdout",
     "output_type": "stream",
     "text": [
      "Index(['Hypothesis', 'Reach', 'Impact', 'Confidence', 'Efforts'], dtype='object')\n"
     ]
    },
    {
     "data": {
      "text/html": [
       "<style type=\"text/css\">\n",
       "</style>\n",
       "<table id=\"T_ce53f\">\n",
       "  <thead>\n",
       "    <tr>\n",
       "      <th class=\"blank level0\" >&nbsp;</th>\n",
       "      <th id=\"T_ce53f_level0_col0\" class=\"col_heading level0 col0\" >NaNs,%</th>\n",
       "    </tr>\n",
       "  </thead>\n",
       "  <tbody>\n",
       "    <tr>\n",
       "      <th id=\"T_ce53f_level0_row0\" class=\"row_heading level0 row0\" >Hypothesis</th>\n",
       "      <td id=\"T_ce53f_row0_col0\" class=\"data row0 col0\" >0.00</td>\n",
       "    </tr>\n",
       "    <tr>\n",
       "      <th id=\"T_ce53f_level0_row1\" class=\"row_heading level0 row1\" >Reach</th>\n",
       "      <td id=\"T_ce53f_row1_col0\" class=\"data row1 col0\" >0.00</td>\n",
       "    </tr>\n",
       "    <tr>\n",
       "      <th id=\"T_ce53f_level0_row2\" class=\"row_heading level0 row2\" >Impact</th>\n",
       "      <td id=\"T_ce53f_row2_col0\" class=\"data row2 col0\" >0.00</td>\n",
       "    </tr>\n",
       "    <tr>\n",
       "      <th id=\"T_ce53f_level0_row3\" class=\"row_heading level0 row3\" >Confidence</th>\n",
       "      <td id=\"T_ce53f_row3_col0\" class=\"data row3 col0\" >0.00</td>\n",
       "    </tr>\n",
       "    <tr>\n",
       "      <th id=\"T_ce53f_level0_row4\" class=\"row_heading level0 row4\" >Efforts</th>\n",
       "      <td id=\"T_ce53f_row4_col0\" class=\"data row4 col0\" >0.00</td>\n",
       "    </tr>\n",
       "  </tbody>\n",
       "</table>\n"
      ],
      "text/plain": [
       "<pandas.io.formats.style.Styler at 0x25461275cd0>"
      ]
     },
     "metadata": {},
     "output_type": "display_data"
    }
   ],
   "source": [
    "info(part_1)"
   ]
  },
  {
   "cell_type": "markdown",
   "metadata": {},
   "source": [
    "Таблица `part_1` содержит 9 гипотез по увеличению выручки интернет-магазина с указанными параметрами Reach, Impact, Confidence, Effort.\n",
    "\n",
    "`Hypothesis` — краткое описание гипотезы;  \n",
    "`Reach` — охват пользователей по 10-балльной шкале;  \n",
    "`Impact` — влияние на пользователей по 10-балльной шкале;  \n",
    "`Confidence` — уверенность в гипотезе по 10-балльной шкале;  \n",
    "`Efforts` — затраты ресурсов на проверку гипотезы по 10-балльной шкале. Чем больше значение Efforts, тем дороже проверка гипотезы."
   ]
  },
  {
   "cell_type": "markdown",
   "metadata": {},
   "source": [
    "Данные выглядят корректно, типы данных ок, пропусков нет, необходимо лишь привести названия столбцов в соответствие с правилами стиля."
   ]
  },
  {
   "cell_type": "code",
   "execution_count": 6,
   "metadata": {},
   "outputs": [
    {
     "data": {
      "text/plain": [
       "Index(['hypothesis', 'reach', 'impact', 'confidence', 'efforts'], dtype='object')"
      ]
     },
     "execution_count": 6,
     "metadata": {},
     "output_type": "execute_result"
    }
   ],
   "source": [
    "part_1.columns = [x.lower() for x in part_1.columns.values]\n",
    "part_1.columns"
   ]
  },
  {
   "cell_type": "markdown",
   "metadata": {},
   "source": [
    "### orders"
   ]
  },
  {
   "cell_type": "code",
   "execution_count": 7,
   "metadata": {},
   "outputs": [
    {
     "name": "stdout",
     "output_type": "stream",
     "text": [
      "<class 'pandas.core.frame.DataFrame'>\n",
      "RangeIndex: 1197 entries, 0 to 1196\n",
      "Data columns (total 5 columns):\n",
      " #   Column         Non-Null Count  Dtype \n",
      "---  ------         --------------  ----- \n",
      " 0   transactionId  1197 non-null   int64 \n",
      " 1   visitorId      1197 non-null   int64 \n",
      " 2   date           1197 non-null   object\n",
      " 3   revenue        1197 non-null   int64 \n",
      " 4   group          1197 non-null   object\n",
      "dtypes: int64(3), object(2)\n",
      "memory usage: 46.9+ KB\n"
     ]
    },
    {
     "data": {
      "text/html": [
       "<div>\n",
       "<style scoped>\n",
       "    .dataframe tbody tr th:only-of-type {\n",
       "        vertical-align: middle;\n",
       "    }\n",
       "\n",
       "    .dataframe tbody tr th {\n",
       "        vertical-align: top;\n",
       "    }\n",
       "\n",
       "    .dataframe thead th {\n",
       "        text-align: right;\n",
       "    }\n",
       "</style>\n",
       "<table border=\"1\" class=\"dataframe\">\n",
       "  <thead>\n",
       "    <tr style=\"text-align: right;\">\n",
       "      <th></th>\n",
       "      <th>transactionId</th>\n",
       "      <th>visitorId</th>\n",
       "      <th>date</th>\n",
       "      <th>revenue</th>\n",
       "      <th>group</th>\n",
       "    </tr>\n",
       "  </thead>\n",
       "  <tbody>\n",
       "    <tr>\n",
       "      <th>0</th>\n",
       "      <td>3667963787</td>\n",
       "      <td>3312258926</td>\n",
       "      <td>2019-08-15</td>\n",
       "      <td>1650</td>\n",
       "      <td>B</td>\n",
       "    </tr>\n",
       "    <tr>\n",
       "      <th>1</th>\n",
       "      <td>2804400009</td>\n",
       "      <td>3642806036</td>\n",
       "      <td>2019-08-15</td>\n",
       "      <td>730</td>\n",
       "      <td>B</td>\n",
       "    </tr>\n",
       "    <tr>\n",
       "      <th>2</th>\n",
       "      <td>2961555356</td>\n",
       "      <td>4069496402</td>\n",
       "      <td>2019-08-15</td>\n",
       "      <td>400</td>\n",
       "      <td>A</td>\n",
       "    </tr>\n",
       "    <tr>\n",
       "      <th>3</th>\n",
       "      <td>3797467345</td>\n",
       "      <td>1196621759</td>\n",
       "      <td>2019-08-15</td>\n",
       "      <td>9759</td>\n",
       "      <td>B</td>\n",
       "    </tr>\n",
       "    <tr>\n",
       "      <th>4</th>\n",
       "      <td>2282983706</td>\n",
       "      <td>2322279887</td>\n",
       "      <td>2019-08-15</td>\n",
       "      <td>2308</td>\n",
       "      <td>B</td>\n",
       "    </tr>\n",
       "    <tr>\n",
       "      <th>5</th>\n",
       "      <td>182168103</td>\n",
       "      <td>935554773</td>\n",
       "      <td>2019-08-15</td>\n",
       "      <td>2210</td>\n",
       "      <td>B</td>\n",
       "    </tr>\n",
       "    <tr>\n",
       "      <th>6</th>\n",
       "      <td>398296753</td>\n",
       "      <td>2900797465</td>\n",
       "      <td>2019-08-15</td>\n",
       "      <td>1860</td>\n",
       "      <td>B</td>\n",
       "    </tr>\n",
       "    <tr>\n",
       "      <th>7</th>\n",
       "      <td>2626614568</td>\n",
       "      <td>78758296</td>\n",
       "      <td>2019-08-15</td>\n",
       "      <td>1044</td>\n",
       "      <td>A</td>\n",
       "    </tr>\n",
       "    <tr>\n",
       "      <th>8</th>\n",
       "      <td>1576988021</td>\n",
       "      <td>295230930</td>\n",
       "      <td>2019-08-15</td>\n",
       "      <td>13710</td>\n",
       "      <td>A</td>\n",
       "    </tr>\n",
       "  </tbody>\n",
       "</table>\n",
       "</div>"
      ],
      "text/plain": [
       "   transactionId   visitorId        date  revenue group\n",
       "0     3667963787  3312258926  2019-08-15     1650     B\n",
       "1     2804400009  3642806036  2019-08-15      730     B\n",
       "2     2961555356  4069496402  2019-08-15      400     A\n",
       "3     3797467345  1196621759  2019-08-15     9759     B\n",
       "4     2282983706  2322279887  2019-08-15     2308     B\n",
       "5      182168103   935554773  2019-08-15     2210     B\n",
       "6      398296753  2900797465  2019-08-15     1860     B\n",
       "7     2626614568    78758296  2019-08-15     1044     A\n",
       "8     1576988021   295230930  2019-08-15    13710     A"
      ]
     },
     "metadata": {},
     "output_type": "display_data"
    },
    {
     "name": "stdout",
     "output_type": "stream",
     "text": [
      "Index(['transactionId', 'visitorId', 'date', 'revenue', 'group'], dtype='object')\n"
     ]
    },
    {
     "data": {
      "text/html": [
       "<style type=\"text/css\">\n",
       "</style>\n",
       "<table id=\"T_95910\">\n",
       "  <thead>\n",
       "    <tr>\n",
       "      <th class=\"blank level0\" >&nbsp;</th>\n",
       "      <th id=\"T_95910_level0_col0\" class=\"col_heading level0 col0\" >NaNs,%</th>\n",
       "    </tr>\n",
       "  </thead>\n",
       "  <tbody>\n",
       "    <tr>\n",
       "      <th id=\"T_95910_level0_row0\" class=\"row_heading level0 row0\" >transactionId</th>\n",
       "      <td id=\"T_95910_row0_col0\" class=\"data row0 col0\" >0.00</td>\n",
       "    </tr>\n",
       "    <tr>\n",
       "      <th id=\"T_95910_level0_row1\" class=\"row_heading level0 row1\" >visitorId</th>\n",
       "      <td id=\"T_95910_row1_col0\" class=\"data row1 col0\" >0.00</td>\n",
       "    </tr>\n",
       "    <tr>\n",
       "      <th id=\"T_95910_level0_row2\" class=\"row_heading level0 row2\" >date</th>\n",
       "      <td id=\"T_95910_row2_col0\" class=\"data row2 col0\" >0.00</td>\n",
       "    </tr>\n",
       "    <tr>\n",
       "      <th id=\"T_95910_level0_row3\" class=\"row_heading level0 row3\" >revenue</th>\n",
       "      <td id=\"T_95910_row3_col0\" class=\"data row3 col0\" >0.00</td>\n",
       "    </tr>\n",
       "    <tr>\n",
       "      <th id=\"T_95910_level0_row4\" class=\"row_heading level0 row4\" >group</th>\n",
       "      <td id=\"T_95910_row4_col0\" class=\"data row4 col0\" >0.00</td>\n",
       "    </tr>\n",
       "  </tbody>\n",
       "</table>\n"
      ],
      "text/plain": [
       "<pandas.io.formats.style.Styler at 0x254662c8970>"
      ]
     },
     "metadata": {},
     "output_type": "display_data"
    }
   ],
   "source": [
    "info(orders)"
   ]
  },
  {
   "cell_type": "markdown",
   "metadata": {},
   "source": [
    "Таблица `orders` содержит результаты проведения A/B теста:\n",
    "\n",
    "`transactionId` — идентификатор заказа;  \n",
    "`visitorId` — идентификатор пользователя, совершившего заказ;  \n",
    "`date` — дата, когда был совершён заказ;  \n",
    "`revenue` — выручка заказа;  \n",
    "`group` — группа A/B-теста, в которую попал заказ."
   ]
  },
  {
   "cell_type": "code",
   "execution_count": 8,
   "metadata": {},
   "outputs": [
    {
     "data": {
      "text/plain": [
       "0"
      ]
     },
     "execution_count": 8,
     "metadata": {},
     "output_type": "execute_result"
    }
   ],
   "source": [
    "orders.duplicated().sum() #дубликатов нет"
   ]
  },
  {
   "cell_type": "code",
   "execution_count": 9,
   "metadata": {},
   "outputs": [
    {
     "data": {
      "text/plain": [
       "B    640\n",
       "A    557\n",
       "Name: group, dtype: int64"
      ]
     },
     "execution_count": 9,
     "metadata": {},
     "output_type": "execute_result"
    }
   ],
   "source": [
    "orders['group'].value_counts() # значения с группами теста ок"
   ]
  },
  {
   "cell_type": "markdown",
   "metadata": {},
   "source": [
    "Данные выглядят корректно, пропусков нет, необходимо лишь привести названия столбцов в соответствие с правилами стиля и перевести столбец даты к необходимому типу."
   ]
  },
  {
   "cell_type": "code",
   "execution_count": 10,
   "metadata": {},
   "outputs": [],
   "source": [
    "orders = orders.rename(columns={\"transactionId\": \"transaction_id\", \"visitorId\": \"visitor_id\"})"
   ]
  },
  {
   "cell_type": "code",
   "execution_count": 11,
   "metadata": {},
   "outputs": [
    {
     "data": {
      "text/html": [
       "<div>\n",
       "<style scoped>\n",
       "    .dataframe tbody tr th:only-of-type {\n",
       "        vertical-align: middle;\n",
       "    }\n",
       "\n",
       "    .dataframe tbody tr th {\n",
       "        vertical-align: top;\n",
       "    }\n",
       "\n",
       "    .dataframe thead th {\n",
       "        text-align: right;\n",
       "    }\n",
       "</style>\n",
       "<table border=\"1\" class=\"dataframe\">\n",
       "  <thead>\n",
       "    <tr style=\"text-align: right;\">\n",
       "      <th></th>\n",
       "      <th>transaction_id</th>\n",
       "      <th>visitor_id</th>\n",
       "      <th>date</th>\n",
       "      <th>revenue</th>\n",
       "      <th>group</th>\n",
       "    </tr>\n",
       "  </thead>\n",
       "  <tbody>\n",
       "    <tr>\n",
       "      <th>0</th>\n",
       "      <td>3667963787</td>\n",
       "      <td>3312258926</td>\n",
       "      <td>2019-08-15</td>\n",
       "      <td>1650</td>\n",
       "      <td>B</td>\n",
       "    </tr>\n",
       "    <tr>\n",
       "      <th>1</th>\n",
       "      <td>2804400009</td>\n",
       "      <td>3642806036</td>\n",
       "      <td>2019-08-15</td>\n",
       "      <td>730</td>\n",
       "      <td>B</td>\n",
       "    </tr>\n",
       "    <tr>\n",
       "      <th>2</th>\n",
       "      <td>2961555356</td>\n",
       "      <td>4069496402</td>\n",
       "      <td>2019-08-15</td>\n",
       "      <td>400</td>\n",
       "      <td>A</td>\n",
       "    </tr>\n",
       "    <tr>\n",
       "      <th>3</th>\n",
       "      <td>3797467345</td>\n",
       "      <td>1196621759</td>\n",
       "      <td>2019-08-15</td>\n",
       "      <td>9759</td>\n",
       "      <td>B</td>\n",
       "    </tr>\n",
       "    <tr>\n",
       "      <th>4</th>\n",
       "      <td>2282983706</td>\n",
       "      <td>2322279887</td>\n",
       "      <td>2019-08-15</td>\n",
       "      <td>2308</td>\n",
       "      <td>B</td>\n",
       "    </tr>\n",
       "  </tbody>\n",
       "</table>\n",
       "</div>"
      ],
      "text/plain": [
       "   transaction_id  visitor_id       date  revenue group\n",
       "0      3667963787  3312258926 2019-08-15     1650     B\n",
       "1      2804400009  3642806036 2019-08-15      730     B\n",
       "2      2961555356  4069496402 2019-08-15      400     A\n",
       "3      3797467345  1196621759 2019-08-15     9759     B\n",
       "4      2282983706  2322279887 2019-08-15     2308     B"
      ]
     },
     "execution_count": 11,
     "metadata": {},
     "output_type": "execute_result"
    }
   ],
   "source": [
    "orders['date'] = pd.to_datetime(orders['date'])\n",
    "orders.head()"
   ]
  },
  {
   "cell_type": "markdown",
   "metadata": {},
   "source": [
    "### visitors"
   ]
  },
  {
   "cell_type": "code",
   "execution_count": 12,
   "metadata": {},
   "outputs": [
    {
     "name": "stdout",
     "output_type": "stream",
     "text": [
      "<class 'pandas.core.frame.DataFrame'>\n",
      "RangeIndex: 62 entries, 0 to 61\n",
      "Data columns (total 3 columns):\n",
      " #   Column    Non-Null Count  Dtype \n",
      "---  ------    --------------  ----- \n",
      " 0   date      62 non-null     object\n",
      " 1   group     62 non-null     object\n",
      " 2   visitors  62 non-null     int64 \n",
      "dtypes: int64(1), object(2)\n",
      "memory usage: 1.6+ KB\n"
     ]
    },
    {
     "data": {
      "text/html": [
       "<div>\n",
       "<style scoped>\n",
       "    .dataframe tbody tr th:only-of-type {\n",
       "        vertical-align: middle;\n",
       "    }\n",
       "\n",
       "    .dataframe tbody tr th {\n",
       "        vertical-align: top;\n",
       "    }\n",
       "\n",
       "    .dataframe thead th {\n",
       "        text-align: right;\n",
       "    }\n",
       "</style>\n",
       "<table border=\"1\" class=\"dataframe\">\n",
       "  <thead>\n",
       "    <tr style=\"text-align: right;\">\n",
       "      <th></th>\n",
       "      <th>date</th>\n",
       "      <th>group</th>\n",
       "      <th>visitors</th>\n",
       "    </tr>\n",
       "  </thead>\n",
       "  <tbody>\n",
       "    <tr>\n",
       "      <th>0</th>\n",
       "      <td>2019-08-01</td>\n",
       "      <td>A</td>\n",
       "      <td>719</td>\n",
       "    </tr>\n",
       "    <tr>\n",
       "      <th>1</th>\n",
       "      <td>2019-08-02</td>\n",
       "      <td>A</td>\n",
       "      <td>619</td>\n",
       "    </tr>\n",
       "    <tr>\n",
       "      <th>2</th>\n",
       "      <td>2019-08-03</td>\n",
       "      <td>A</td>\n",
       "      <td>507</td>\n",
       "    </tr>\n",
       "    <tr>\n",
       "      <th>3</th>\n",
       "      <td>2019-08-04</td>\n",
       "      <td>A</td>\n",
       "      <td>717</td>\n",
       "    </tr>\n",
       "    <tr>\n",
       "      <th>4</th>\n",
       "      <td>2019-08-05</td>\n",
       "      <td>A</td>\n",
       "      <td>756</td>\n",
       "    </tr>\n",
       "    <tr>\n",
       "      <th>5</th>\n",
       "      <td>2019-08-06</td>\n",
       "      <td>A</td>\n",
       "      <td>667</td>\n",
       "    </tr>\n",
       "    <tr>\n",
       "      <th>6</th>\n",
       "      <td>2019-08-07</td>\n",
       "      <td>A</td>\n",
       "      <td>644</td>\n",
       "    </tr>\n",
       "    <tr>\n",
       "      <th>7</th>\n",
       "      <td>2019-08-08</td>\n",
       "      <td>A</td>\n",
       "      <td>610</td>\n",
       "    </tr>\n",
       "    <tr>\n",
       "      <th>8</th>\n",
       "      <td>2019-08-09</td>\n",
       "      <td>A</td>\n",
       "      <td>617</td>\n",
       "    </tr>\n",
       "  </tbody>\n",
       "</table>\n",
       "</div>"
      ],
      "text/plain": [
       "         date group  visitors\n",
       "0  2019-08-01     A       719\n",
       "1  2019-08-02     A       619\n",
       "2  2019-08-03     A       507\n",
       "3  2019-08-04     A       717\n",
       "4  2019-08-05     A       756\n",
       "5  2019-08-06     A       667\n",
       "6  2019-08-07     A       644\n",
       "7  2019-08-08     A       610\n",
       "8  2019-08-09     A       617"
      ]
     },
     "metadata": {},
     "output_type": "display_data"
    },
    {
     "name": "stdout",
     "output_type": "stream",
     "text": [
      "Index(['date', 'group', 'visitors'], dtype='object')\n"
     ]
    },
    {
     "data": {
      "text/html": [
       "<style type=\"text/css\">\n",
       "</style>\n",
       "<table id=\"T_10430\">\n",
       "  <thead>\n",
       "    <tr>\n",
       "      <th class=\"blank level0\" >&nbsp;</th>\n",
       "      <th id=\"T_10430_level0_col0\" class=\"col_heading level0 col0\" >NaNs,%</th>\n",
       "    </tr>\n",
       "  </thead>\n",
       "  <tbody>\n",
       "    <tr>\n",
       "      <th id=\"T_10430_level0_row0\" class=\"row_heading level0 row0\" >date</th>\n",
       "      <td id=\"T_10430_row0_col0\" class=\"data row0 col0\" >0.00</td>\n",
       "    </tr>\n",
       "    <tr>\n",
       "      <th id=\"T_10430_level0_row1\" class=\"row_heading level0 row1\" >group</th>\n",
       "      <td id=\"T_10430_row1_col0\" class=\"data row1 col0\" >0.00</td>\n",
       "    </tr>\n",
       "    <tr>\n",
       "      <th id=\"T_10430_level0_row2\" class=\"row_heading level0 row2\" >visitors</th>\n",
       "      <td id=\"T_10430_row2_col0\" class=\"data row2 col0\" >0.00</td>\n",
       "    </tr>\n",
       "  </tbody>\n",
       "</table>\n"
      ],
      "text/plain": [
       "<pandas.io.formats.style.Styler at 0x254662eb5b0>"
      ]
     },
     "metadata": {},
     "output_type": "display_data"
    }
   ],
   "source": [
    "info(visitors)"
   ]
  },
  {
   "cell_type": "markdown",
   "metadata": {},
   "source": [
    "Таблица `visitors` содержит результаты проведения A/B теста:  \n",
    "`date` — дата;  \n",
    "`group` — группа A/B-теста;  \n",
    "`visitors` — количество пользователей в указанную дату в указанной группе A/B-теста"
   ]
  },
  {
   "cell_type": "code",
   "execution_count": 13,
   "metadata": {},
   "outputs": [
    {
     "data": {
      "text/plain": [
       "0"
      ]
     },
     "execution_count": 13,
     "metadata": {},
     "output_type": "execute_result"
    }
   ],
   "source": [
    "visitors.duplicated().sum() #дубликатов нет"
   ]
  },
  {
   "cell_type": "code",
   "execution_count": 14,
   "metadata": {},
   "outputs": [
    {
     "data": {
      "text/plain": [
       "A    31\n",
       "B    31\n",
       "Name: group, dtype: int64"
      ]
     },
     "execution_count": 14,
     "metadata": {},
     "output_type": "execute_result"
    }
   ],
   "source": [
    "visitors['group'].value_counts() #названия групп теста ок"
   ]
  },
  {
   "cell_type": "code",
   "execution_count": 15,
   "metadata": {},
   "outputs": [
    {
     "data": {
      "text/html": [
       "<div>\n",
       "<style scoped>\n",
       "    .dataframe tbody tr th:only-of-type {\n",
       "        vertical-align: middle;\n",
       "    }\n",
       "\n",
       "    .dataframe tbody tr th {\n",
       "        vertical-align: top;\n",
       "    }\n",
       "\n",
       "    .dataframe thead th {\n",
       "        text-align: right;\n",
       "    }\n",
       "</style>\n",
       "<table border=\"1\" class=\"dataframe\">\n",
       "  <thead>\n",
       "    <tr style=\"text-align: right;\">\n",
       "      <th></th>\n",
       "      <th>transaction_id</th>\n",
       "      <th>visitor_id</th>\n",
       "      <th>date</th>\n",
       "      <th>revenue</th>\n",
       "      <th>group</th>\n",
       "    </tr>\n",
       "  </thead>\n",
       "  <tbody>\n",
       "    <tr>\n",
       "      <th>0</th>\n",
       "      <td>3667963787</td>\n",
       "      <td>3312258926</td>\n",
       "      <td>2019-08-15</td>\n",
       "      <td>1650</td>\n",
       "      <td>B</td>\n",
       "    </tr>\n",
       "    <tr>\n",
       "      <th>1</th>\n",
       "      <td>2804400009</td>\n",
       "      <td>3642806036</td>\n",
       "      <td>2019-08-15</td>\n",
       "      <td>730</td>\n",
       "      <td>B</td>\n",
       "    </tr>\n",
       "    <tr>\n",
       "      <th>2</th>\n",
       "      <td>2961555356</td>\n",
       "      <td>4069496402</td>\n",
       "      <td>2019-08-15</td>\n",
       "      <td>400</td>\n",
       "      <td>A</td>\n",
       "    </tr>\n",
       "    <tr>\n",
       "      <th>3</th>\n",
       "      <td>3797467345</td>\n",
       "      <td>1196621759</td>\n",
       "      <td>2019-08-15</td>\n",
       "      <td>9759</td>\n",
       "      <td>B</td>\n",
       "    </tr>\n",
       "    <tr>\n",
       "      <th>4</th>\n",
       "      <td>2282983706</td>\n",
       "      <td>2322279887</td>\n",
       "      <td>2019-08-15</td>\n",
       "      <td>2308</td>\n",
       "      <td>B</td>\n",
       "    </tr>\n",
       "  </tbody>\n",
       "</table>\n",
       "</div>"
      ],
      "text/plain": [
       "   transaction_id  visitor_id       date  revenue group\n",
       "0      3667963787  3312258926 2019-08-15     1650     B\n",
       "1      2804400009  3642806036 2019-08-15      730     B\n",
       "2      2961555356  4069496402 2019-08-15      400     A\n",
       "3      3797467345  1196621759 2019-08-15     9759     B\n",
       "4      2282983706  2322279887 2019-08-15     2308     B"
      ]
     },
     "execution_count": 15,
     "metadata": {},
     "output_type": "execute_result"
    }
   ],
   "source": [
    "visitors['date'] = pd.to_datetime(visitors['date']) #приводим к типу дата\n",
    "orders.head()"
   ]
  },
  {
   "cell_type": "markdown",
   "metadata": {},
   "source": [
    "В данной таблице все ок."
   ]
  },
  {
   "cell_type": "markdown",
   "metadata": {},
   "source": [
    "### Вывод"
   ]
  },
  {
   "cell_type": "markdown",
   "metadata": {},
   "source": [
    "В результате предобработки не было обнаружено дубликатов или каких-либо очевидных ошибок в данных. Все типы данных приведены к максимально удобным. Названия столбцов соотвествуют общепринятому стилю."
   ]
  },
  {
   "cell_type": "markdown",
   "metadata": {},
   "source": [
    "## Приоритизация гипотез"
   ]
  },
  {
   "cell_type": "markdown",
   "metadata": {},
   "source": [
    "### Фреймворк ICE"
   ]
  },
  {
   "cell_type": "code",
   "execution_count": 16,
   "metadata": {
    "scrolled": false
   },
   "outputs": [
    {
     "data": {
      "text/html": [
       "<div>\n",
       "<style scoped>\n",
       "    .dataframe tbody tr th:only-of-type {\n",
       "        vertical-align: middle;\n",
       "    }\n",
       "\n",
       "    .dataframe tbody tr th {\n",
       "        vertical-align: top;\n",
       "    }\n",
       "\n",
       "    .dataframe thead th {\n",
       "        text-align: right;\n",
       "    }\n",
       "</style>\n",
       "<table border=\"1\" class=\"dataframe\">\n",
       "  <thead>\n",
       "    <tr style=\"text-align: right;\">\n",
       "      <th></th>\n",
       "      <th>hypothesis</th>\n",
       "      <th>ICE</th>\n",
       "    </tr>\n",
       "  </thead>\n",
       "  <tbody>\n",
       "    <tr>\n",
       "      <th>8</th>\n",
       "      <td>Запустить акцию, дающую скидку на товар в день рождения</td>\n",
       "      <td>16.20</td>\n",
       "    </tr>\n",
       "    <tr>\n",
       "      <th>0</th>\n",
       "      <td>Добавить два новых канала привлечения трафика, что позволит привлекать на 30% больше пользователей</td>\n",
       "      <td>13.33</td>\n",
       "    </tr>\n",
       "    <tr>\n",
       "      <th>7</th>\n",
       "      <td>Добавить форму подписки на все основные страницы, чтобы собрать базу клиентов для email-рассылок</td>\n",
       "      <td>11.20</td>\n",
       "    </tr>\n",
       "    <tr>\n",
       "      <th>6</th>\n",
       "      <td>Показать на главной странице баннеры с актуальными акциями и распродажами, чтобы увеличить конверсию</td>\n",
       "      <td>8.00</td>\n",
       "    </tr>\n",
       "    <tr>\n",
       "      <th>2</th>\n",
       "      <td>Добавить блоки рекомендаций товаров на сайт интернет магазина, чтобы повысить конверсию и средний чек заказа</td>\n",
       "      <td>7.00</td>\n",
       "    </tr>\n",
       "    <tr>\n",
       "      <th>1</th>\n",
       "      <td>Запустить собственную службу доставки, что сократит срок доставки заказов</td>\n",
       "      <td>2.00</td>\n",
       "    </tr>\n",
       "    <tr>\n",
       "      <th>5</th>\n",
       "      <td>Добавить страницу отзывов клиентов о магазине, что позволит увеличить количество заказов</td>\n",
       "      <td>1.33</td>\n",
       "    </tr>\n",
       "    <tr>\n",
       "      <th>3</th>\n",
       "      <td>Изменить структура категорий, что увеличит конверсию, т.к. пользователи быстрее найдут нужный товар</td>\n",
       "      <td>1.12</td>\n",
       "    </tr>\n",
       "    <tr>\n",
       "      <th>4</th>\n",
       "      <td>Изменить цвет фона главной страницы, чтобы увеличить вовлеченность пользователей</td>\n",
       "      <td>1.00</td>\n",
       "    </tr>\n",
       "  </tbody>\n",
       "</table>\n",
       "</div>"
      ],
      "text/plain": [
       "                                                                                                     hypothesis  \\\n",
       "8                                                       Запустить акцию, дающую скидку на товар в день рождения   \n",
       "0            Добавить два новых канала привлечения трафика, что позволит привлекать на 30% больше пользователей   \n",
       "7              Добавить форму подписки на все основные страницы, чтобы собрать базу клиентов для email-рассылок   \n",
       "6          Показать на главной странице баннеры с актуальными акциями и распродажами, чтобы увеличить конверсию   \n",
       "2  Добавить блоки рекомендаций товаров на сайт интернет магазина, чтобы повысить конверсию и средний чек заказа   \n",
       "1                                     Запустить собственную службу доставки, что сократит срок доставки заказов   \n",
       "5                      Добавить страницу отзывов клиентов о магазине, что позволит увеличить количество заказов   \n",
       "3           Изменить структура категорий, что увеличит конверсию, т.к. пользователи быстрее найдут нужный товар   \n",
       "4                              Изменить цвет фона главной страницы, чтобы увеличить вовлеченность пользователей   \n",
       "\n",
       "    ICE  \n",
       "8 16.20  \n",
       "0 13.33  \n",
       "7 11.20  \n",
       "6  8.00  \n",
       "2  7.00  \n",
       "1  2.00  \n",
       "5  1.33  \n",
       "3  1.12  \n",
       "4  1.00  "
      ]
     },
     "execution_count": 16,
     "metadata": {},
     "output_type": "execute_result"
    }
   ],
   "source": [
    "part_1['ICE'] = part_1['impact']*part_1['confidence']/part_1['efforts']\n",
    "part_1[['hypothesis','ICE']].sort_values(by='ICE', ascending=False)"
   ]
  },
  {
   "cell_type": "markdown",
   "metadata": {},
   "source": [
    "Самые приоритетные гипотезы по методу ICE это:  \n",
    "    1. Запустить акцию, дающую скидку на товар в день рождения  \n",
    "    2. Добавить два новых канала привлечения трафика, что позволит привлекать на 30% больше пользователей  \n",
    "    3. Добавить форму подписки на все основные страницы, чтобы собрать базу клиентов для email-рассылок  \n",
    "Наименее приоретная - изменить цвет фона главной страницы, чтобы увеличить вовлеченность пользователей. "
   ]
  },
  {
   "cell_type": "markdown",
   "metadata": {},
   "source": [
    "### Фреймворк RICE"
   ]
  },
  {
   "cell_type": "code",
   "execution_count": 17,
   "metadata": {},
   "outputs": [
    {
     "data": {
      "text/html": [
       "<div>\n",
       "<style scoped>\n",
       "    .dataframe tbody tr th:only-of-type {\n",
       "        vertical-align: middle;\n",
       "    }\n",
       "\n",
       "    .dataframe tbody tr th {\n",
       "        vertical-align: top;\n",
       "    }\n",
       "\n",
       "    .dataframe thead th {\n",
       "        text-align: right;\n",
       "    }\n",
       "</style>\n",
       "<table border=\"1\" class=\"dataframe\">\n",
       "  <thead>\n",
       "    <tr style=\"text-align: right;\">\n",
       "      <th></th>\n",
       "      <th>hypothesis</th>\n",
       "      <th>RICE</th>\n",
       "    </tr>\n",
       "  </thead>\n",
       "  <tbody>\n",
       "    <tr>\n",
       "      <th>7</th>\n",
       "      <td>Добавить форму подписки на все основные страницы, чтобы собрать базу клиентов для email-рассылок</td>\n",
       "      <td>112.00</td>\n",
       "    </tr>\n",
       "    <tr>\n",
       "      <th>2</th>\n",
       "      <td>Добавить блоки рекомендаций товаров на сайт интернет магазина, чтобы повысить конверсию и средний чек заказа</td>\n",
       "      <td>56.00</td>\n",
       "    </tr>\n",
       "    <tr>\n",
       "      <th>0</th>\n",
       "      <td>Добавить два новых канала привлечения трафика, что позволит привлекать на 30% больше пользователей</td>\n",
       "      <td>40.00</td>\n",
       "    </tr>\n",
       "    <tr>\n",
       "      <th>6</th>\n",
       "      <td>Показать на главной странице баннеры с актуальными акциями и распродажами, чтобы увеличить конверсию</td>\n",
       "      <td>40.00</td>\n",
       "    </tr>\n",
       "    <tr>\n",
       "      <th>8</th>\n",
       "      <td>Запустить акцию, дающую скидку на товар в день рождения</td>\n",
       "      <td>16.20</td>\n",
       "    </tr>\n",
       "    <tr>\n",
       "      <th>3</th>\n",
       "      <td>Изменить структура категорий, что увеличит конверсию, т.к. пользователи быстрее найдут нужный товар</td>\n",
       "      <td>9.00</td>\n",
       "    </tr>\n",
       "    <tr>\n",
       "      <th>1</th>\n",
       "      <td>Запустить собственную службу доставки, что сократит срок доставки заказов</td>\n",
       "      <td>4.00</td>\n",
       "    </tr>\n",
       "    <tr>\n",
       "      <th>5</th>\n",
       "      <td>Добавить страницу отзывов клиентов о магазине, что позволит увеличить количество заказов</td>\n",
       "      <td>4.00</td>\n",
       "    </tr>\n",
       "    <tr>\n",
       "      <th>4</th>\n",
       "      <td>Изменить цвет фона главной страницы, чтобы увеличить вовлеченность пользователей</td>\n",
       "      <td>3.00</td>\n",
       "    </tr>\n",
       "  </tbody>\n",
       "</table>\n",
       "</div>"
      ],
      "text/plain": [
       "                                                                                                     hypothesis  \\\n",
       "7              Добавить форму подписки на все основные страницы, чтобы собрать базу клиентов для email-рассылок   \n",
       "2  Добавить блоки рекомендаций товаров на сайт интернет магазина, чтобы повысить конверсию и средний чек заказа   \n",
       "0            Добавить два новых канала привлечения трафика, что позволит привлекать на 30% больше пользователей   \n",
       "6          Показать на главной странице баннеры с актуальными акциями и распродажами, чтобы увеличить конверсию   \n",
       "8                                                       Запустить акцию, дающую скидку на товар в день рождения   \n",
       "3           Изменить структура категорий, что увеличит конверсию, т.к. пользователи быстрее найдут нужный товар   \n",
       "1                                     Запустить собственную службу доставки, что сократит срок доставки заказов   \n",
       "5                      Добавить страницу отзывов клиентов о магазине, что позволит увеличить количество заказов   \n",
       "4                              Изменить цвет фона главной страницы, чтобы увеличить вовлеченность пользователей   \n",
       "\n",
       "    RICE  \n",
       "7 112.00  \n",
       "2  56.00  \n",
       "0  40.00  \n",
       "6  40.00  \n",
       "8  16.20  \n",
       "3   9.00  \n",
       "1   4.00  \n",
       "5   4.00  \n",
       "4   3.00  "
      ]
     },
     "execution_count": 17,
     "metadata": {},
     "output_type": "execute_result"
    }
   ],
   "source": [
    "part_1['RICE'] = part_1['reach'] *part_1['confidence'] *part_1['impact']/ part_1['efforts']\n",
    "part_1[['hypothesis','RICE']].sort_values(by='RICE', ascending=False)"
   ]
  },
  {
   "cell_type": "markdown",
   "metadata": {},
   "source": [
    "Самые приоритетные гипотезы по мтеоду RICE это:\n",
    "1. Добавить форму подписки на все основные страницы, чтобы собрать базу клиентов для email-рассылок\n",
    "2. Добавить блоки рекомендаций товаров на сайт интернет магазина, чтобы повысить конверсию и средний чек заказа\t\n",
    "3. Добавить два новых канала привлечения трафика, что позволит привлекать на 30% больше пользователей\t\n",
    "Наименее приоритетная - изменить цвет фона главной страницы, чтобы увеличить вовлеченность пользователей."
   ]
  },
  {
   "cell_type": "markdown",
   "metadata": {},
   "source": [
    "Сделаем расстановку гипотез по их приоритетам по разным методам:"
   ]
  },
  {
   "cell_type": "code",
   "execution_count": 18,
   "metadata": {},
   "outputs": [
    {
     "name": "stderr",
     "output_type": "stream",
     "text": [
      "C:\\Users\\Анастасия\\AppData\\Local\\Temp\\ipykernel_10352\\3816734952.py:3: FutureWarning: this method is deprecated in favour of `Styler.hide(axis='index')`\n",
      "  part_1[['hypothesis','RICE_rank','ICE_rank']].sort_values(by='RICE_rank', ascending=True).style.hide_index()\n"
     ]
    },
    {
     "data": {
      "text/html": [
       "<style type=\"text/css\">\n",
       "</style>\n",
       "<table id=\"T_0215e\">\n",
       "  <thead>\n",
       "    <tr>\n",
       "      <th id=\"T_0215e_level0_col0\" class=\"col_heading level0 col0\" >hypothesis</th>\n",
       "      <th id=\"T_0215e_level0_col1\" class=\"col_heading level0 col1\" >RICE_rank</th>\n",
       "      <th id=\"T_0215e_level0_col2\" class=\"col_heading level0 col2\" >ICE_rank</th>\n",
       "    </tr>\n",
       "  </thead>\n",
       "  <tbody>\n",
       "    <tr>\n",
       "      <td id=\"T_0215e_row0_col0\" class=\"data row0 col0\" >Добавить форму подписки на все основные страницы, чтобы собрать базу клиентов для email-рассылок</td>\n",
       "      <td id=\"T_0215e_row0_col1\" class=\"data row0 col1\" >1</td>\n",
       "      <td id=\"T_0215e_row0_col2\" class=\"data row0 col2\" >3</td>\n",
       "    </tr>\n",
       "    <tr>\n",
       "      <td id=\"T_0215e_row1_col0\" class=\"data row1 col0\" >Добавить блоки рекомендаций товаров на сайт интернет магазина, чтобы повысить конверсию и средний чек заказа</td>\n",
       "      <td id=\"T_0215e_row1_col1\" class=\"data row1 col1\" >2</td>\n",
       "      <td id=\"T_0215e_row1_col2\" class=\"data row1 col2\" >5</td>\n",
       "    </tr>\n",
       "    <tr>\n",
       "      <td id=\"T_0215e_row2_col0\" class=\"data row2 col0\" >Добавить два новых канала привлечения трафика, что позволит привлекать на 30% больше пользователей</td>\n",
       "      <td id=\"T_0215e_row2_col1\" class=\"data row2 col1\" >3</td>\n",
       "      <td id=\"T_0215e_row2_col2\" class=\"data row2 col2\" >2</td>\n",
       "    </tr>\n",
       "    <tr>\n",
       "      <td id=\"T_0215e_row3_col0\" class=\"data row3 col0\" >Показать на главной странице баннеры с актуальными акциями и распродажами, чтобы увеличить конверсию</td>\n",
       "      <td id=\"T_0215e_row3_col1\" class=\"data row3 col1\" >3</td>\n",
       "      <td id=\"T_0215e_row3_col2\" class=\"data row3 col2\" >4</td>\n",
       "    </tr>\n",
       "    <tr>\n",
       "      <td id=\"T_0215e_row4_col0\" class=\"data row4 col0\" >Запустить акцию, дающую скидку на товар в день рождения</td>\n",
       "      <td id=\"T_0215e_row4_col1\" class=\"data row4 col1\" >5</td>\n",
       "      <td id=\"T_0215e_row4_col2\" class=\"data row4 col2\" >1</td>\n",
       "    </tr>\n",
       "    <tr>\n",
       "      <td id=\"T_0215e_row5_col0\" class=\"data row5 col0\" >Изменить структура категорий, что увеличит конверсию, т.к. пользователи быстрее найдут нужный товар</td>\n",
       "      <td id=\"T_0215e_row5_col1\" class=\"data row5 col1\" >6</td>\n",
       "      <td id=\"T_0215e_row5_col2\" class=\"data row5 col2\" >8</td>\n",
       "    </tr>\n",
       "    <tr>\n",
       "      <td id=\"T_0215e_row6_col0\" class=\"data row6 col0\" >Запустить собственную службу доставки, что сократит срок доставки заказов</td>\n",
       "      <td id=\"T_0215e_row6_col1\" class=\"data row6 col1\" >7</td>\n",
       "      <td id=\"T_0215e_row6_col2\" class=\"data row6 col2\" >6</td>\n",
       "    </tr>\n",
       "    <tr>\n",
       "      <td id=\"T_0215e_row7_col0\" class=\"data row7 col0\" >Добавить страницу отзывов клиентов о магазине, что позволит увеличить количество заказов</td>\n",
       "      <td id=\"T_0215e_row7_col1\" class=\"data row7 col1\" >7</td>\n",
       "      <td id=\"T_0215e_row7_col2\" class=\"data row7 col2\" >7</td>\n",
       "    </tr>\n",
       "    <tr>\n",
       "      <td id=\"T_0215e_row8_col0\" class=\"data row8 col0\" >Изменить цвет фона главной страницы, чтобы увеличить вовлеченность пользователей</td>\n",
       "      <td id=\"T_0215e_row8_col1\" class=\"data row8 col1\" >9</td>\n",
       "      <td id=\"T_0215e_row8_col2\" class=\"data row8 col2\" >9</td>\n",
       "    </tr>\n",
       "  </tbody>\n",
       "</table>\n"
      ],
      "text/plain": [
       "<pandas.io.formats.style.Styler at 0x25466310e50>"
      ]
     },
     "execution_count": 18,
     "metadata": {},
     "output_type": "execute_result"
    }
   ],
   "source": [
    "part_1['ICE_rank'] = part_1['ICE'].rank(ascending=False).astype(int)\n",
    "part_1['RICE_rank'] = part_1['RICE'].rank(ascending=False).astype(int)\n",
    "part_1[['hypothesis','RICE_rank','ICE_rank']].sort_values(by='RICE_rank', ascending=True).style.hide_index()"
   ]
  },
  {
   "cell_type": "markdown",
   "metadata": {},
   "source": [
    "### Вывод"
   ]
  },
  {
   "cell_type": "markdown",
   "metadata": {},
   "source": [
    "Приоретизация по методам ICE и RICE имела отличия в связи с тем, что во втором методе гипотезы рассмтариваются в том числе с точки зрения количества пользоватаелей, которых затронет изменение, которое мы хотим внести. И в случае с изменениями, которые затронут максимальное количество пользователей, гипотеза получает значительно больше баллов. В данном случае \"Добавить форму подписки на все основные страницы, чтобы собрать базу клиентов для email-рассылок\" охватывает всех пользоватаелей и поэтому сразу выходит на первое место. В то время как скидка на день рождения наоборот имеет минимальный охват. В то же время изменение фона главной страницы одинаково на последних местах в обоих случаях. По большинству гипотез перестановка мест незначительная."
   ]
  },
  {
   "cell_type": "markdown",
   "metadata": {},
   "source": [
    "## Анализ A/B-теста"
   ]
  },
  {
   "cell_type": "markdown",
   "metadata": {},
   "source": [
    "Т.к. A/A-тест мы провести не сможем, проверим наши данные на предмет того, что попавший в одну из групп посетитель остаётся в этой группе до конца теста. Если пользователь видит разные версии исследуемой страницы в ходе одного исследования, неизвестно, какая именно повлияла на его решения. Значит, и результаты такого теста нельзя интерпретировать однозначно."
   ]
  },
  {
   "cell_type": "markdown",
   "metadata": {},
   "source": [
    "Проверим и посчитаем пользователей, которые вошли в обе группы:"
   ]
  },
  {
   "cell_type": "code",
   "execution_count": 19,
   "metadata": {
    "scrolled": false
   },
   "outputs": [
    {
     "name": "stdout",
     "output_type": "stream",
     "text": [
      "visitor_id    58\n",
      "group         58\n",
      "dtype: int64\n"
     ]
    },
    {
     "data": {
      "text/html": [
       "<div>\n",
       "<style scoped>\n",
       "    .dataframe tbody tr th:only-of-type {\n",
       "        vertical-align: middle;\n",
       "    }\n",
       "\n",
       "    .dataframe tbody tr th {\n",
       "        vertical-align: top;\n",
       "    }\n",
       "\n",
       "    .dataframe thead th {\n",
       "        text-align: right;\n",
       "    }\n",
       "</style>\n",
       "<table border=\"1\" class=\"dataframe\">\n",
       "  <thead>\n",
       "    <tr style=\"text-align: right;\">\n",
       "      <th></th>\n",
       "      <th>visitor_id</th>\n",
       "      <th>group</th>\n",
       "    </tr>\n",
       "  </thead>\n",
       "  <tbody>\n",
       "    <tr>\n",
       "      <th>2</th>\n",
       "      <td>8300375</td>\n",
       "      <td>2</td>\n",
       "    </tr>\n",
       "    <tr>\n",
       "      <th>44</th>\n",
       "      <td>199603092</td>\n",
       "      <td>2</td>\n",
       "    </tr>\n",
       "    <tr>\n",
       "      <th>51</th>\n",
       "      <td>232979603</td>\n",
       "      <td>2</td>\n",
       "    </tr>\n",
       "    <tr>\n",
       "      <th>55</th>\n",
       "      <td>237748145</td>\n",
       "      <td>2</td>\n",
       "    </tr>\n",
       "    <tr>\n",
       "      <th>66</th>\n",
       "      <td>276558944</td>\n",
       "      <td>2</td>\n",
       "    </tr>\n",
       "    <tr>\n",
       "      <th>84</th>\n",
       "      <td>351125977</td>\n",
       "      <td>2</td>\n",
       "    </tr>\n",
       "    <tr>\n",
       "      <th>97</th>\n",
       "      <td>393266494</td>\n",
       "      <td>2</td>\n",
       "    </tr>\n",
       "    <tr>\n",
       "      <th>114</th>\n",
       "      <td>457167155</td>\n",
       "      <td>2</td>\n",
       "    </tr>\n",
       "    <tr>\n",
       "      <th>119</th>\n",
       "      <td>471551937</td>\n",
       "      <td>2</td>\n",
       "    </tr>\n",
       "    <tr>\n",
       "      <th>122</th>\n",
       "      <td>477780734</td>\n",
       "      <td>2</td>\n",
       "    </tr>\n",
       "  </tbody>\n",
       "</table>\n",
       "</div>"
      ],
      "text/plain": [
       "     visitor_id  group\n",
       "2       8300375      2\n",
       "44    199603092      2\n",
       "51    232979603      2\n",
       "55    237748145      2\n",
       "66    276558944      2\n",
       "84    351125977      2\n",
       "97    393266494      2\n",
       "114   457167155      2\n",
       "119   471551937      2\n",
       "122   477780734      2"
      ]
     },
     "metadata": {},
     "output_type": "display_data"
    },
    {
     "data": {
      "text/plain": [
       "array([   8300375,  199603092,  232979603,  237748145,  276558944,\n",
       "        351125977,  393266494,  457167155,  471551937,  477780734,\n",
       "        818047933,  963407295, 1230306981, 1294878855, 1316129916,\n",
       "       1333886533, 1404934699, 1602967004, 1614305549, 1648269707,\n",
       "       1668030113, 1738359350, 1801183820, 1959144690, 2038680547,\n",
       "       2044997962, 2378935119, 2458001652, 2579882178, 2587333274,\n",
       "       2600415354, 2654030115, 2686716486, 2712142231, 2716752286,\n",
       "       2780786433, 2927087541, 2949041841, 2954449915, 3062433592,\n",
       "       3202540741, 3234906277, 3656415546, 3717692402, 3766097110,\n",
       "       3803269165, 3891541246, 3941795274, 3951559397, 3957174400,\n",
       "       3963646447, 3972127743, 3984495233, 4069496402, 4120364173,\n",
       "       4186807279, 4256040402, 4266935830], dtype=int64)"
      ]
     },
     "execution_count": 19,
     "metadata": {},
     "output_type": "execute_result"
    }
   ],
   "source": [
    "bug = orders.pivot_table(index='visitor_id', values='group', aggfunc='nunique').reset_index()\n",
    "print(bug.query('group > 1').count())\n",
    "display(bug.query('group > 1').head(10))\n",
    "bug_list = bug.query('group > 1')['visitor_id'].unique()\n",
    "bug_list"
   ]
  },
  {
   "cell_type": "markdown",
   "metadata": {},
   "source": [
    "Имеем пользователей, которых надо исключить из результатов, для корректной оценки тестирования:"
   ]
  },
  {
   "cell_type": "code",
   "execution_count": 20,
   "metadata": {},
   "outputs": [
    {
     "name": "stdout",
     "output_type": "stream",
     "text": [
      "<class 'pandas.core.frame.DataFrame'>\n",
      "Int64Index: 1016 entries, 0 to 1196\n",
      "Data columns (total 5 columns):\n",
      " #   Column          Non-Null Count  Dtype         \n",
      "---  ------          --------------  -----         \n",
      " 0   transaction_id  1016 non-null   int64         \n",
      " 1   visitor_id      1016 non-null   int64         \n",
      " 2   date            1016 non-null   datetime64[ns]\n",
      " 3   revenue         1016 non-null   int64         \n",
      " 4   group           1016 non-null   object        \n",
      "dtypes: datetime64[ns](1), int64(3), object(1)\n",
      "memory usage: 47.6+ KB\n"
     ]
    }
   ],
   "source": [
    "orders_clean = orders.query('visitor_id not in @bug_list')\n",
    "orders_clean.info()"
   ]
  },
  {
   "cell_type": "markdown",
   "metadata": {},
   "source": [
    "Получим табицу для очистки visitors от клиентов, которые попали в обе группы. Для этого сгруппируем их по дате-группе и посчитаем количество пользователей в указанную дату в указанной группе A/B-теста."
   ]
  },
  {
   "cell_type": "code",
   "execution_count": 21,
   "metadata": {},
   "outputs": [
    {
     "data": {
      "text/html": [
       "<div>\n",
       "<style scoped>\n",
       "    .dataframe tbody tr th:only-of-type {\n",
       "        vertical-align: middle;\n",
       "    }\n",
       "\n",
       "    .dataframe tbody tr th {\n",
       "        vertical-align: top;\n",
       "    }\n",
       "\n",
       "    .dataframe thead th {\n",
       "        text-align: right;\n",
       "    }\n",
       "</style>\n",
       "<table border=\"1\" class=\"dataframe\">\n",
       "  <thead>\n",
       "    <tr style=\"text-align: right;\">\n",
       "      <th></th>\n",
       "      <th>date</th>\n",
       "      <th>group</th>\n",
       "      <th>visitor_id</th>\n",
       "    </tr>\n",
       "  </thead>\n",
       "  <tbody>\n",
       "    <tr>\n",
       "      <th>0</th>\n",
       "      <td>2019-08-01</td>\n",
       "      <td>A</td>\n",
       "      <td>1</td>\n",
       "    </tr>\n",
       "    <tr>\n",
       "      <th>1</th>\n",
       "      <td>2019-08-01</td>\n",
       "      <td>B</td>\n",
       "      <td>4</td>\n",
       "    </tr>\n",
       "    <tr>\n",
       "      <th>2</th>\n",
       "      <td>2019-08-02</td>\n",
       "      <td>A</td>\n",
       "      <td>1</td>\n",
       "    </tr>\n",
       "    <tr>\n",
       "      <th>3</th>\n",
       "      <td>2019-08-02</td>\n",
       "      <td>B</td>\n",
       "      <td>1</td>\n",
       "    </tr>\n",
       "    <tr>\n",
       "      <th>4</th>\n",
       "      <td>2019-08-03</td>\n",
       "      <td>B</td>\n",
       "      <td>2</td>\n",
       "    </tr>\n",
       "    <tr>\n",
       "      <th>5</th>\n",
       "      <td>2019-08-04</td>\n",
       "      <td>A</td>\n",
       "      <td>5</td>\n",
       "    </tr>\n",
       "    <tr>\n",
       "      <th>6</th>\n",
       "      <td>2019-08-04</td>\n",
       "      <td>B</td>\n",
       "      <td>3</td>\n",
       "    </tr>\n",
       "    <tr>\n",
       "      <th>7</th>\n",
       "      <td>2019-08-05</td>\n",
       "      <td>A</td>\n",
       "      <td>3</td>\n",
       "    </tr>\n",
       "    <tr>\n",
       "      <th>8</th>\n",
       "      <td>2019-08-05</td>\n",
       "      <td>B</td>\n",
       "      <td>2</td>\n",
       "    </tr>\n",
       "    <tr>\n",
       "      <th>9</th>\n",
       "      <td>2019-08-06</td>\n",
       "      <td>A</td>\n",
       "      <td>3</td>\n",
       "    </tr>\n",
       "  </tbody>\n",
       "</table>\n",
       "</div>"
      ],
      "text/plain": [
       "        date group  visitor_id\n",
       "0 2019-08-01     A           1\n",
       "1 2019-08-01     B           4\n",
       "2 2019-08-02     A           1\n",
       "3 2019-08-02     B           1\n",
       "4 2019-08-03     B           2\n",
       "5 2019-08-04     A           5\n",
       "6 2019-08-04     B           3\n",
       "7 2019-08-05     A           3\n",
       "8 2019-08-05     B           2\n",
       "9 2019-08-06     A           3"
      ]
     },
     "execution_count": 21,
     "metadata": {},
     "output_type": "execute_result"
    }
   ],
   "source": [
    "orders_bug = orders.query('visitor_id in @bug_list')\n",
    "visitors_bug = orders_bug.pivot_table(index=['date','group'], values='visitor_id', aggfunc='count').reset_index()\n",
    "visitors_bug.head(10)"
   ]
  },
  {
   "cell_type": "markdown",
   "metadata": {},
   "source": [
    "Соединим таблицы visitors и visitors_bug, чтобы вычесть визиты \"задвоенных\" пользователей."
   ]
  },
  {
   "cell_type": "code",
   "execution_count": 22,
   "metadata": {},
   "outputs": [
    {
     "data": {
      "text/html": [
       "<div>\n",
       "<style scoped>\n",
       "    .dataframe tbody tr th:only-of-type {\n",
       "        vertical-align: middle;\n",
       "    }\n",
       "\n",
       "    .dataframe tbody tr th {\n",
       "        vertical-align: top;\n",
       "    }\n",
       "\n",
       "    .dataframe thead th {\n",
       "        text-align: right;\n",
       "    }\n",
       "</style>\n",
       "<table border=\"1\" class=\"dataframe\">\n",
       "  <thead>\n",
       "    <tr style=\"text-align: right;\">\n",
       "      <th></th>\n",
       "      <th>date</th>\n",
       "      <th>group</th>\n",
       "      <th>visitors</th>\n",
       "      <th>visitor_id</th>\n",
       "    </tr>\n",
       "  </thead>\n",
       "  <tbody>\n",
       "    <tr>\n",
       "      <th>0</th>\n",
       "      <td>2019-08-01</td>\n",
       "      <td>A</td>\n",
       "      <td>719</td>\n",
       "      <td>1</td>\n",
       "    </tr>\n",
       "    <tr>\n",
       "      <th>1</th>\n",
       "      <td>2019-08-02</td>\n",
       "      <td>A</td>\n",
       "      <td>619</td>\n",
       "      <td>1</td>\n",
       "    </tr>\n",
       "    <tr>\n",
       "      <th>2</th>\n",
       "      <td>2019-08-03</td>\n",
       "      <td>A</td>\n",
       "      <td>507</td>\n",
       "      <td>0</td>\n",
       "    </tr>\n",
       "    <tr>\n",
       "      <th>3</th>\n",
       "      <td>2019-08-04</td>\n",
       "      <td>A</td>\n",
       "      <td>717</td>\n",
       "      <td>5</td>\n",
       "    </tr>\n",
       "    <tr>\n",
       "      <th>4</th>\n",
       "      <td>2019-08-05</td>\n",
       "      <td>A</td>\n",
       "      <td>756</td>\n",
       "      <td>3</td>\n",
       "    </tr>\n",
       "    <tr>\n",
       "      <th>...</th>\n",
       "      <td>...</td>\n",
       "      <td>...</td>\n",
       "      <td>...</td>\n",
       "      <td>...</td>\n",
       "    </tr>\n",
       "    <tr>\n",
       "      <th>57</th>\n",
       "      <td>2019-08-27</td>\n",
       "      <td>B</td>\n",
       "      <td>720</td>\n",
       "      <td>5</td>\n",
       "    </tr>\n",
       "    <tr>\n",
       "      <th>58</th>\n",
       "      <td>2019-08-28</td>\n",
       "      <td>B</td>\n",
       "      <td>654</td>\n",
       "      <td>6</td>\n",
       "    </tr>\n",
       "    <tr>\n",
       "      <th>59</th>\n",
       "      <td>2019-08-29</td>\n",
       "      <td>B</td>\n",
       "      <td>531</td>\n",
       "      <td>5</td>\n",
       "    </tr>\n",
       "    <tr>\n",
       "      <th>60</th>\n",
       "      <td>2019-08-30</td>\n",
       "      <td>B</td>\n",
       "      <td>490</td>\n",
       "      <td>3</td>\n",
       "    </tr>\n",
       "    <tr>\n",
       "      <th>61</th>\n",
       "      <td>2019-08-31</td>\n",
       "      <td>B</td>\n",
       "      <td>718</td>\n",
       "      <td>3</td>\n",
       "    </tr>\n",
       "  </tbody>\n",
       "</table>\n",
       "<p>62 rows × 4 columns</p>\n",
       "</div>"
      ],
      "text/plain": [
       "         date group  visitors  visitor_id\n",
       "0  2019-08-01     A       719           1\n",
       "1  2019-08-02     A       619           1\n",
       "2  2019-08-03     A       507           0\n",
       "3  2019-08-04     A       717           5\n",
       "4  2019-08-05     A       756           3\n",
       "..        ...   ...       ...         ...\n",
       "57 2019-08-27     B       720           5\n",
       "58 2019-08-28     B       654           6\n",
       "59 2019-08-29     B       531           5\n",
       "60 2019-08-30     B       490           3\n",
       "61 2019-08-31     B       718           3\n",
       "\n",
       "[62 rows x 4 columns]"
      ]
     },
     "execution_count": 22,
     "metadata": {},
     "output_type": "execute_result"
    }
   ],
   "source": [
    "visitors_clean = visitors.merge(visitors_bug, on=['date', 'group'], how='left').fillna(0)\n",
    "visitors_clean['visitor_id'] = visitors_clean['visitor_id'].astype(int)\n",
    "visitors_clean"
   ]
  },
  {
   "cell_type": "markdown",
   "metadata": {},
   "source": [
    "Уменьшаем количество пользователей в соответствующие даты:"
   ]
  },
  {
   "cell_type": "code",
   "execution_count": 23,
   "metadata": {},
   "outputs": [
    {
     "data": {
      "text/html": [
       "<div>\n",
       "<style scoped>\n",
       "    .dataframe tbody tr th:only-of-type {\n",
       "        vertical-align: middle;\n",
       "    }\n",
       "\n",
       "    .dataframe tbody tr th {\n",
       "        vertical-align: top;\n",
       "    }\n",
       "\n",
       "    .dataframe thead th {\n",
       "        text-align: right;\n",
       "    }\n",
       "</style>\n",
       "<table border=\"1\" class=\"dataframe\">\n",
       "  <thead>\n",
       "    <tr style=\"text-align: right;\">\n",
       "      <th></th>\n",
       "      <th>date</th>\n",
       "      <th>group</th>\n",
       "      <th>visitors</th>\n",
       "    </tr>\n",
       "  </thead>\n",
       "  <tbody>\n",
       "    <tr>\n",
       "      <th>0</th>\n",
       "      <td>2019-08-01</td>\n",
       "      <td>A</td>\n",
       "      <td>718</td>\n",
       "    </tr>\n",
       "    <tr>\n",
       "      <th>1</th>\n",
       "      <td>2019-08-02</td>\n",
       "      <td>A</td>\n",
       "      <td>618</td>\n",
       "    </tr>\n",
       "    <tr>\n",
       "      <th>2</th>\n",
       "      <td>2019-08-03</td>\n",
       "      <td>A</td>\n",
       "      <td>507</td>\n",
       "    </tr>\n",
       "    <tr>\n",
       "      <th>3</th>\n",
       "      <td>2019-08-04</td>\n",
       "      <td>A</td>\n",
       "      <td>712</td>\n",
       "    </tr>\n",
       "    <tr>\n",
       "      <th>4</th>\n",
       "      <td>2019-08-05</td>\n",
       "      <td>A</td>\n",
       "      <td>753</td>\n",
       "    </tr>\n",
       "    <tr>\n",
       "      <th>...</th>\n",
       "      <td>...</td>\n",
       "      <td>...</td>\n",
       "      <td>...</td>\n",
       "    </tr>\n",
       "    <tr>\n",
       "      <th>57</th>\n",
       "      <td>2019-08-27</td>\n",
       "      <td>B</td>\n",
       "      <td>715</td>\n",
       "    </tr>\n",
       "    <tr>\n",
       "      <th>58</th>\n",
       "      <td>2019-08-28</td>\n",
       "      <td>B</td>\n",
       "      <td>648</td>\n",
       "    </tr>\n",
       "    <tr>\n",
       "      <th>59</th>\n",
       "      <td>2019-08-29</td>\n",
       "      <td>B</td>\n",
       "      <td>526</td>\n",
       "    </tr>\n",
       "    <tr>\n",
       "      <th>60</th>\n",
       "      <td>2019-08-30</td>\n",
       "      <td>B</td>\n",
       "      <td>487</td>\n",
       "    </tr>\n",
       "    <tr>\n",
       "      <th>61</th>\n",
       "      <td>2019-08-31</td>\n",
       "      <td>B</td>\n",
       "      <td>715</td>\n",
       "    </tr>\n",
       "  </tbody>\n",
       "</table>\n",
       "<p>62 rows × 3 columns</p>\n",
       "</div>"
      ],
      "text/plain": [
       "         date group  visitors\n",
       "0  2019-08-01     A       718\n",
       "1  2019-08-02     A       618\n",
       "2  2019-08-03     A       507\n",
       "3  2019-08-04     A       712\n",
       "4  2019-08-05     A       753\n",
       "..        ...   ...       ...\n",
       "57 2019-08-27     B       715\n",
       "58 2019-08-28     B       648\n",
       "59 2019-08-29     B       526\n",
       "60 2019-08-30     B       487\n",
       "61 2019-08-31     B       715\n",
       "\n",
       "[62 rows x 3 columns]"
      ]
     },
     "execution_count": 23,
     "metadata": {},
     "output_type": "execute_result"
    }
   ],
   "source": [
    "visitors_clean['visitors'] = visitors_clean['visitors'] - visitors_clean['visitor_id']\n",
    "visitors_clean = visitors_clean.drop('visitor_id', axis=1)\n",
    "visitors_clean"
   ]
  },
  {
   "cell_type": "markdown",
   "metadata": {},
   "source": [
    "Теперь все готово к анализу теста."
   ]
  },
  {
   "cell_type": "markdown",
   "metadata": {},
   "source": [
    "### Стабильность кумулятивных метрик"
   ]
  },
  {
   "cell_type": "markdown",
   "metadata": {},
   "source": [
    "#### График кумулятивной выручки по группам"
   ]
  },
  {
   "cell_type": "markdown",
   "metadata": {},
   "source": [
    "Создадим массив уникальных пар значений дат и групп теста:"
   ]
  },
  {
   "cell_type": "code",
   "execution_count": 24,
   "metadata": {},
   "outputs": [],
   "source": [
    "datesGroups = orders_clean[['date','group']].drop_duplicates() "
   ]
  },
  {
   "cell_type": "markdown",
   "metadata": {},
   "source": [
    "Получаем агрегированные кумулятивные по дням данные о заказах:"
   ]
  },
  {
   "cell_type": "code",
   "execution_count": 25,
   "metadata": {},
   "outputs": [
    {
     "data": {
      "text/html": [
       "<div>\n",
       "<style scoped>\n",
       "    .dataframe tbody tr th:only-of-type {\n",
       "        vertical-align: middle;\n",
       "    }\n",
       "\n",
       "    .dataframe tbody tr th {\n",
       "        vertical-align: top;\n",
       "    }\n",
       "\n",
       "    .dataframe thead th {\n",
       "        text-align: right;\n",
       "    }\n",
       "</style>\n",
       "<table border=\"1\" class=\"dataframe\">\n",
       "  <thead>\n",
       "    <tr style=\"text-align: right;\">\n",
       "      <th></th>\n",
       "      <th>date</th>\n",
       "      <th>group</th>\n",
       "      <th>transaction_id</th>\n",
       "      <th>visitor_id</th>\n",
       "      <th>revenue</th>\n",
       "    </tr>\n",
       "  </thead>\n",
       "  <tbody>\n",
       "    <tr>\n",
       "      <th>55</th>\n",
       "      <td>2019-08-01</td>\n",
       "      <td>A</td>\n",
       "      <td>23</td>\n",
       "      <td>19</td>\n",
       "      <td>142779</td>\n",
       "    </tr>\n",
       "    <tr>\n",
       "      <th>66</th>\n",
       "      <td>2019-08-01</td>\n",
       "      <td>B</td>\n",
       "      <td>17</td>\n",
       "      <td>17</td>\n",
       "      <td>59758</td>\n",
       "    </tr>\n",
       "    <tr>\n",
       "      <th>175</th>\n",
       "      <td>2019-08-02</td>\n",
       "      <td>A</td>\n",
       "      <td>42</td>\n",
       "      <td>36</td>\n",
       "      <td>234381</td>\n",
       "    </tr>\n",
       "    <tr>\n",
       "      <th>173</th>\n",
       "      <td>2019-08-02</td>\n",
       "      <td>B</td>\n",
       "      <td>40</td>\n",
       "      <td>39</td>\n",
       "      <td>221801</td>\n",
       "    </tr>\n",
       "    <tr>\n",
       "      <th>291</th>\n",
       "      <td>2019-08-03</td>\n",
       "      <td>A</td>\n",
       "      <td>66</td>\n",
       "      <td>60</td>\n",
       "      <td>346854</td>\n",
       "    </tr>\n",
       "  </tbody>\n",
       "</table>\n",
       "</div>"
      ],
      "text/plain": [
       "          date group  transaction_id  visitor_id  revenue\n",
       "55  2019-08-01     A              23          19   142779\n",
       "66  2019-08-01     B              17          17    59758\n",
       "175 2019-08-02     A              42          36   234381\n",
       "173 2019-08-02     B              40          39   221801\n",
       "291 2019-08-03     A              66          60   346854"
      ]
     },
     "execution_count": 25,
     "metadata": {},
     "output_type": "execute_result"
    }
   ],
   "source": [
    "ordersAggregated = datesGroups.apply(\n",
    "    lambda x: orders_clean[\n",
    "        np.logical_and(\n",
    "            orders_clean['date'] <= x['date'], orders_clean['group'] == x['group']\n",
    "        )\n",
    "    ].agg(\n",
    "        {\n",
    "            'date': 'max',\n",
    "            'group': 'max',\n",
    "            'transaction_id': 'nunique',\n",
    "            'visitor_id': 'nunique',\n",
    "            'revenue': 'sum',\n",
    "        }\n",
    "    ),\n",
    "    axis=1,\n",
    ").sort_values(by=['date', 'group'])\n",
    "ordersAggregated.head()"
   ]
  },
  {
   "cell_type": "markdown",
   "metadata": {},
   "source": [
    "Получаем агрегированные кумулятивные по дням данные о посетителях интернет-магазина:"
   ]
  },
  {
   "cell_type": "code",
   "execution_count": 26,
   "metadata": {},
   "outputs": [
    {
     "data": {
      "text/html": [
       "<div>\n",
       "<style scoped>\n",
       "    .dataframe tbody tr th:only-of-type {\n",
       "        vertical-align: middle;\n",
       "    }\n",
       "\n",
       "    .dataframe tbody tr th {\n",
       "        vertical-align: top;\n",
       "    }\n",
       "\n",
       "    .dataframe thead th {\n",
       "        text-align: right;\n",
       "    }\n",
       "</style>\n",
       "<table border=\"1\" class=\"dataframe\">\n",
       "  <thead>\n",
       "    <tr style=\"text-align: right;\">\n",
       "      <th></th>\n",
       "      <th>date</th>\n",
       "      <th>group</th>\n",
       "      <th>visitors</th>\n",
       "    </tr>\n",
       "  </thead>\n",
       "  <tbody>\n",
       "    <tr>\n",
       "      <th>55</th>\n",
       "      <td>2019-08-01</td>\n",
       "      <td>A</td>\n",
       "      <td>718</td>\n",
       "    </tr>\n",
       "    <tr>\n",
       "      <th>66</th>\n",
       "      <td>2019-08-01</td>\n",
       "      <td>B</td>\n",
       "      <td>709</td>\n",
       "    </tr>\n",
       "    <tr>\n",
       "      <th>175</th>\n",
       "      <td>2019-08-02</td>\n",
       "      <td>A</td>\n",
       "      <td>1336</td>\n",
       "    </tr>\n",
       "    <tr>\n",
       "      <th>173</th>\n",
       "      <td>2019-08-02</td>\n",
       "      <td>B</td>\n",
       "      <td>1289</td>\n",
       "    </tr>\n",
       "    <tr>\n",
       "      <th>291</th>\n",
       "      <td>2019-08-03</td>\n",
       "      <td>A</td>\n",
       "      <td>1843</td>\n",
       "    </tr>\n",
       "  </tbody>\n",
       "</table>\n",
       "</div>"
      ],
      "text/plain": [
       "          date group  visitors\n",
       "55  2019-08-01     A       718\n",
       "66  2019-08-01     B       709\n",
       "175 2019-08-02     A      1336\n",
       "173 2019-08-02     B      1289\n",
       "291 2019-08-03     A      1843"
      ]
     },
     "execution_count": 26,
     "metadata": {},
     "output_type": "execute_result"
    }
   ],
   "source": [
    "visitorsAggregated = datesGroups.apply(\n",
    "    lambda x: visitors_clean[\n",
    "        np.logical_and(\n",
    "            visitors_clean['date'] <= x['date'], visitors_clean['group'] == x['group']\n",
    "        )\n",
    "    ].agg({'date': 'max', 'group': 'max', 'visitors': 'sum'}),\n",
    "    axis=1,\n",
    ").sort_values(by=['date', 'group'])\n",
    "visitorsAggregated.head()"
   ]
  },
  {
   "cell_type": "markdown",
   "metadata": {},
   "source": [
    "Объединяем кумулятивные данные в одной таблице и присваиваем ее столбцам понятные названия:"
   ]
  },
  {
   "cell_type": "code",
   "execution_count": 27,
   "metadata": {},
   "outputs": [
    {
     "data": {
      "text/html": [
       "<div>\n",
       "<style scoped>\n",
       "    .dataframe tbody tr th:only-of-type {\n",
       "        vertical-align: middle;\n",
       "    }\n",
       "\n",
       "    .dataframe tbody tr th {\n",
       "        vertical-align: top;\n",
       "    }\n",
       "\n",
       "    .dataframe thead th {\n",
       "        text-align: right;\n",
       "    }\n",
       "</style>\n",
       "<table border=\"1\" class=\"dataframe\">\n",
       "  <thead>\n",
       "    <tr style=\"text-align: right;\">\n",
       "      <th></th>\n",
       "      <th>date</th>\n",
       "      <th>group</th>\n",
       "      <th>orders</th>\n",
       "      <th>buyers</th>\n",
       "      <th>revenue</th>\n",
       "      <th>visitors</th>\n",
       "    </tr>\n",
       "  </thead>\n",
       "  <tbody>\n",
       "    <tr>\n",
       "      <th>0</th>\n",
       "      <td>2019-08-01</td>\n",
       "      <td>A</td>\n",
       "      <td>23</td>\n",
       "      <td>19</td>\n",
       "      <td>142779</td>\n",
       "      <td>718</td>\n",
       "    </tr>\n",
       "    <tr>\n",
       "      <th>1</th>\n",
       "      <td>2019-08-01</td>\n",
       "      <td>B</td>\n",
       "      <td>17</td>\n",
       "      <td>17</td>\n",
       "      <td>59758</td>\n",
       "      <td>709</td>\n",
       "    </tr>\n",
       "    <tr>\n",
       "      <th>2</th>\n",
       "      <td>2019-08-02</td>\n",
       "      <td>A</td>\n",
       "      <td>42</td>\n",
       "      <td>36</td>\n",
       "      <td>234381</td>\n",
       "      <td>1336</td>\n",
       "    </tr>\n",
       "    <tr>\n",
       "      <th>3</th>\n",
       "      <td>2019-08-02</td>\n",
       "      <td>B</td>\n",
       "      <td>40</td>\n",
       "      <td>39</td>\n",
       "      <td>221801</td>\n",
       "      <td>1289</td>\n",
       "    </tr>\n",
       "    <tr>\n",
       "      <th>4</th>\n",
       "      <td>2019-08-03</td>\n",
       "      <td>A</td>\n",
       "      <td>66</td>\n",
       "      <td>60</td>\n",
       "      <td>346854</td>\n",
       "      <td>1843</td>\n",
       "    </tr>\n",
       "  </tbody>\n",
       "</table>\n",
       "</div>"
      ],
      "text/plain": [
       "        date group  orders  buyers  revenue  visitors\n",
       "0 2019-08-01     A      23      19   142779       718\n",
       "1 2019-08-01     B      17      17    59758       709\n",
       "2 2019-08-02     A      42      36   234381      1336\n",
       "3 2019-08-02     B      40      39   221801      1289\n",
       "4 2019-08-03     A      66      60   346854      1843"
      ]
     },
     "execution_count": 27,
     "metadata": {},
     "output_type": "execute_result"
    }
   ],
   "source": [
    "cumulativeData = ordersAggregated.merge(\n",
    "    visitorsAggregated, left_on=['date', 'group'], right_on=['date', 'group']\n",
    ")\n",
    "cumulativeData.columns = [\n",
    "    'date',\n",
    "    'group',\n",
    "    'orders',\n",
    "    'buyers',\n",
    "    'revenue',\n",
    "    'visitors',\n",
    "]\n",
    "cumulativeData.head()"
   ]
  },
  {
   "cell_type": "markdown",
   "metadata": {},
   "source": [
    "Построим графики кумулятивной выручки по дням и группам A/B-тестирования:"
   ]
  },
  {
   "cell_type": "code",
   "execution_count": 28,
   "metadata": {},
   "outputs": [
    {
     "data": {
      "image/png": "[encoded data removed]",
      "text/plain": [
       "<Figure size 864x504 with 1 Axes>"
      ]
     },
     "metadata": {
      "needs_background": "light"
     },
     "output_type": "display_data"
    }
   ],
   "source": [
    "# датафрейм с кумулятивным количеством заказов и кумулятивной выручкой по дням в группе А\n",
    "cumulativeRevenueA = cumulativeData[cumulativeData['group']=='A'][['date','revenue', 'orders']]\n",
    "\n",
    "# датафрейм с кумулятивным количеством заказов и кумулятивной выручкой по дням в группе B\n",
    "cumulativeRevenueB = cumulativeData[cumulativeData['group']=='B'][['date','revenue', 'orders']]\n",
    "\n",
    "plt.figure(figsize=(12, 7))\n",
    "# Строим график выручки группы А\n",
    "plt.plot(cumulativeRevenueA['date'], cumulativeRevenueA['revenue'], label='A', linewidth = 2, marker='o', color = 'r')\n",
    "\n",
    "# Строим график выручки группы B\n",
    "plt.plot(cumulativeRevenueB['date'], cumulativeRevenueB['revenue'], label='B', linewidth = 2, marker='o', color='c')\n",
    "\n",
    "plt.title('Кумулятивная выручка по группам')\n",
    "plt.xlabel('Дата')\n",
    "plt.ylabel('Выручка')\n",
    "plt.grid()\n",
    "plt.legend();"
   ]
  },
  {
   "cell_type": "markdown",
   "metadata": {},
   "source": [
    "Выручка почти равномерно увеличивается в течение всего теста. На графике видим, что в группе А выручка растет линейно, а в группе B были \"всплеск\" с районе 18.08.2019. Это может сигнализировать о всплесках числа заказов, либо о появлении очень дорогих заказов в выборке. При этом с 05.08.2019 выручка по группе B растет интенсивнее."
   ]
  },
  {
   "cell_type": "markdown",
   "metadata": {},
   "source": [
    "#### График кумулятивного среднего чека по группам"
   ]
  },
  {
   "cell_type": "markdown",
   "metadata": {},
   "source": [
    "Построим графики среднего чека по группам — разделим кумулятивную выручку на кумулятивное число заказов:"
   ]
  },
  {
   "cell_type": "code",
   "execution_count": 29,
   "metadata": {},
   "outputs": [
    {
     "data": {
      "image/png": "[encoded data removed]",
      "text/plain": [
       "<Figure size 864x504 with 1 Axes>"
      ]
     },
     "metadata": {
      "needs_background": "light"
     },
     "output_type": "display_data"
    }
   ],
   "source": [
    "plt.figure(figsize=(12, 7))\n",
    "plt.plot(cumulativeRevenueA['date'], cumulativeRevenueA['revenue']/cumulativeRevenueA['orders'], \n",
    "         label='A', linewidth = 2, marker='o', color = 'r')\n",
    "plt.plot(cumulativeRevenueB['date'], cumulativeRevenueB['revenue']/cumulativeRevenueB['orders'], \n",
    "         label='B', linewidth = 2, marker='o', color = 'c')\n",
    "\n",
    "plt.title('Кумулятивный средний чек по группам')\n",
    "plt.xlabel('Дата')\n",
    "plt.ylabel('Средний чек')\n",
    "plt.grid()\n",
    "plt.legend();"
   ]
  },
  {
   "cell_type": "markdown",
   "metadata": {},
   "source": [
    "Видим аналогичную картину, с 18 августа средний чек группы B пошел в резкий отрыв от значений по группе A. В целом, средний чек  становится равномерным ближе к концу теста. Возможно, в группу B во второй половине теста попали крупные заказы (резкий всплеск на графике). Тогда ей нужно больше данных, чтобы прийти к реальному среднему чеку и установиться на его уровне."
   ]
  },
  {
   "cell_type": "markdown",
   "metadata": {},
   "source": [
    "#### График относительного изменения кумулятивного среднего чека группы B к группе A"
   ]
  },
  {
   "cell_type": "markdown",
   "metadata": {},
   "source": [
    "Построим график относительного различия для среднего чека:"
   ]
  },
  {
   "cell_type": "code",
   "execution_count": 30,
   "metadata": {},
   "outputs": [
    {
     "data": {
      "image/png": "[encoded data removed]",
      "text/plain": [
       "<Figure size 864x504 with 1 Axes>"
      ]
     },
     "metadata": {
      "needs_background": "light"
     },
     "output_type": "display_data"
    }
   ],
   "source": [
    "plt.figure(figsize=(12, 7))\n",
    "# собираем данные в одном датафрейме\n",
    "mergedCumulativeRevenue = cumulativeRevenueA.merge(cumulativeRevenueB, \n",
    "                                                   left_on='date', right_on='date', how='left', suffixes=['A', 'B'])\n",
    "\n",
    "# cтроим отношение средних чеков\n",
    "plt.plot(mergedCumulativeRevenue['date'], \n",
    "         (mergedCumulativeRevenue['revenueB']/mergedCumulativeRevenue['ordersB'])/\n",
    "         (mergedCumulativeRevenue['revenueA']/mergedCumulativeRevenue['ordersA'])-1, linewidth = 2, marker='o', color = 'g' )\n",
    "\n",
    "# добавляем ось X\n",
    "plt.axhline(y=0, color='black', linestyle='--')\n",
    "plt.title('Относительное изменение кумулятивного среднего чека группы B к группе A')\n",
    "plt.xlabel('Дата')\n",
    "plt.ylabel('Изменение чека')\n",
    "plt.grid();"
   ]
  },
  {
   "cell_type": "markdown",
   "metadata": {},
   "source": [
    "В нескольких точках график различия между сегментами резко «скачет». График подтверждает предыдущие догадки о существовании выбросов в покупках."
   ]
  },
  {
   "cell_type": "markdown",
   "metadata": {},
   "source": [
    "#### График кумулятивной конверсии по группам"
   ]
  },
  {
   "cell_type": "markdown",
   "metadata": {},
   "source": [
    "Аналогично проанализируем график кумулятивной конверсии:"
   ]
  },
  {
   "cell_type": "code",
   "execution_count": 31,
   "metadata": {},
   "outputs": [
    {
     "data": {
      "image/png": "[encoded data removed]",
      "text/plain": [
       "<Figure size 864x504 with 1 Axes>"
      ]
     },
     "metadata": {
      "needs_background": "light"
     },
     "output_type": "display_data"
    }
   ],
   "source": [
    "# считаем кумулятивную конверсию\n",
    "cumulativeData['conversion'] = cumulativeData['orders']/cumulativeData['visitors']\n",
    "\n",
    "# отделяем данные по группе A\n",
    "cumulativeDataA = cumulativeData[cumulativeData['group']=='A']\n",
    "\n",
    "# отделяем данные по группе B\n",
    "cumulativeDataB = cumulativeData[cumulativeData['group']=='B']\n",
    "\n",
    "# строим графики\n",
    "plt.figure(figsize=(12, 7))\n",
    "plt.plot(cumulativeDataA['date'], cumulativeDataA['conversion'], label='A', linewidth = 2, marker='o', color = 'r')\n",
    "plt.plot(cumulativeDataB['date'], cumulativeDataB['conversion'], label='B', linewidth = 2, marker='o', color = 'c')\n",
    "plt.legend()\n",
    "\n",
    "plt.title('Кумулятивная конверсия по группам')\n",
    "plt.xlabel('Дата')\n",
    "plt.ylabel('Конверсия')\n",
    "plt.grid();"
   ]
  },
  {
   "cell_type": "markdown",
   "metadata": {},
   "source": [
    "Группы колебались около одного значения, но затем 06.08.2019 конверсия группы B вырвалась вперёд  и зафиксировалась, а конверсия группы A просела и также зафиксировалась."
   ]
  },
  {
   "cell_type": "markdown",
   "metadata": {},
   "source": [
    "#### График относительного изменения кумулятивной конверсии группы B к группе A"
   ]
  },
  {
   "cell_type": "markdown",
   "metadata": {},
   "source": [
    "Построим график относительного различия кумулятивных конверсий:"
   ]
  },
  {
   "cell_type": "code",
   "execution_count": 32,
   "metadata": {},
   "outputs": [
    {
     "data": {
      "image/png": "[encoded data removed]",
      "text/plain": [
       "<Figure size 864x504 with 1 Axes>"
      ]
     },
     "metadata": {
      "needs_background": "light"
     },
     "output_type": "display_data"
    }
   ],
   "source": [
    "mergedCumulativeConversions = cumulativeDataA[['date','conversion']].merge(\n",
    "    cumulativeDataB[['date','conversion']], \n",
    "    left_on='date', right_on='date', how='left', suffixes=['A', 'B'])\n",
    "\n",
    "plt.figure(figsize=(12, 7))\n",
    "plt.plot(mergedCumulativeConversions['date'], \n",
    "         mergedCumulativeConversions['conversionB']/mergedCumulativeConversions['conversionA']-1, \n",
    "         linewidth = 2, marker='o', color = 'g')\n",
    "\n",
    "plt.axhline(y=0, color='black', linestyle='--')\n",
    "plt.axhline(y=0.2, color='grey', linestyle='--')\n",
    "plt.title('Относительное изменение кумулятивной конверсии группы B к группе A')\n",
    "plt.xlabel('Дата')\n",
    "plt.ylabel('Изменение конверсии')\n",
    "plt.grid();"
   ]
  },
  {
   "cell_type": "markdown",
   "metadata": {},
   "source": [
    "В начале теста группа B проигрывала группе A, затем резко скакнула 2 августа, но откатилась назад. Затем она начала постепенно расти и обошла конверсию группы А после 6 авгута, после чего стала немного падать, но все равно выигрывает по сравнению с группой А. В целом отношение конверсии ещё не установилось, и сейчас делать какие-либо выводы по тесту нельзя. Впрочем, сперва стоит проанализировать аномалии, возможно, они изменят картину."
   ]
  },
  {
   "cell_type": "markdown",
   "metadata": {},
   "source": [
    "#### Промежуточные выводы"
   ]
  },
  {
   "cell_type": "markdown",
   "metadata": {},
   "source": [
    "* Выручка почти равномерно увеличивается в течение всего теста. На графике видим, что в группе А выручка растет линейно, а в группе B был \"всплеск\" с районе 18.08.2019. Это может сигнализировать о всплесках числа заказов, либо о появлении очень дорогих заказов в выборке. При этом с 05.08.2019 выручка по группе B растет инетнсивнее  \n",
    "* с 18 августа средний чек группы B пошел в резкий отрыв от значений по группе A. В целом, средний чек становится равномерным ближе к концу теста. Возможно, в группу B во второй половине теста попали крупные заказы (резкий всплеск на графике)   \n",
    "* конверсии групп колебались около одного значения, но затем 06.08.2019 конверсия группы B вырвалась вперёд и зафиксировалась, а конверсия группы A просела и также зафиксировалась  \n",
    "* отношение конверсии ещё не установилось, и сейчас делать какие-либо выводы по тесту нельзя. Необходимо детально проанализировать аномалии."
   ]
  },
  {
   "cell_type": "markdown",
   "metadata": {},
   "source": [
    "### Анализ выбросов и всплесков"
   ]
  },
  {
   "cell_type": "markdown",
   "metadata": {},
   "source": [
    "#### Точечный график количества заказов по пользователям"
   ]
  },
  {
   "cell_type": "markdown",
   "metadata": {},
   "source": [
    "Подсчитаем количество заказов по пользователям и посмотрим на результат:"
   ]
  },
  {
   "cell_type": "code",
   "execution_count": 33,
   "metadata": {},
   "outputs": [
    {
     "data": {
      "text/html": [
       "<div>\n",
       "<style scoped>\n",
       "    .dataframe tbody tr th:only-of-type {\n",
       "        vertical-align: middle;\n",
       "    }\n",
       "\n",
       "    .dataframe tbody tr th {\n",
       "        vertical-align: top;\n",
       "    }\n",
       "\n",
       "    .dataframe thead th {\n",
       "        text-align: right;\n",
       "    }\n",
       "</style>\n",
       "<table border=\"1\" class=\"dataframe\">\n",
       "  <thead>\n",
       "    <tr style=\"text-align: right;\">\n",
       "      <th></th>\n",
       "      <th>userId</th>\n",
       "      <th>orders</th>\n",
       "    </tr>\n",
       "  </thead>\n",
       "  <tbody>\n",
       "    <tr>\n",
       "      <th>908</th>\n",
       "      <td>3967698036</td>\n",
       "      <td>3</td>\n",
       "    </tr>\n",
       "    <tr>\n",
       "      <th>55</th>\n",
       "      <td>249864742</td>\n",
       "      <td>3</td>\n",
       "    </tr>\n",
       "    <tr>\n",
       "      <th>478</th>\n",
       "      <td>2108163459</td>\n",
       "      <td>3</td>\n",
       "    </tr>\n",
       "    <tr>\n",
       "      <th>687</th>\n",
       "      <td>2988190573</td>\n",
       "      <td>3</td>\n",
       "    </tr>\n",
       "    <tr>\n",
       "      <th>890</th>\n",
       "      <td>3908431265</td>\n",
       "      <td>3</td>\n",
       "    </tr>\n",
       "    <tr>\n",
       "      <th>138</th>\n",
       "      <td>611059232</td>\n",
       "      <td>3</td>\n",
       "    </tr>\n",
       "    <tr>\n",
       "      <th>632</th>\n",
       "      <td>2742574263</td>\n",
       "      <td>3</td>\n",
       "    </tr>\n",
       "    <tr>\n",
       "      <th>157</th>\n",
       "      <td>678354126</td>\n",
       "      <td>2</td>\n",
       "    </tr>\n",
       "    <tr>\n",
       "      <th>323</th>\n",
       "      <td>1404560065</td>\n",
       "      <td>2</td>\n",
       "    </tr>\n",
       "    <tr>\n",
       "      <th>452</th>\n",
       "      <td>1985475298</td>\n",
       "      <td>2</td>\n",
       "    </tr>\n",
       "  </tbody>\n",
       "</table>\n",
       "</div>"
      ],
      "text/plain": [
       "         userId  orders\n",
       "908  3967698036       3\n",
       "55    249864742       3\n",
       "478  2108163459       3\n",
       "687  2988190573       3\n",
       "890  3908431265       3\n",
       "138   611059232       3\n",
       "632  2742574263       3\n",
       "157   678354126       2\n",
       "323  1404560065       2\n",
       "452  1985475298       2"
      ]
     },
     "execution_count": 33,
     "metadata": {},
     "output_type": "execute_result"
    }
   ],
   "source": [
    "ordersByUsers = (\n",
    "    orders_clean.groupby('visitor_id', as_index=False)\n",
    "    .agg({'transaction_id': 'nunique'})\n",
    ")\n",
    "\n",
    "ordersByUsers.columns = ['userId', 'orders']\n",
    "\n",
    "ordersByUsers.sort_values(by='orders', ascending=False).head(10)"
   ]
  },
  {
   "cell_type": "code",
   "execution_count": 34,
   "metadata": {},
   "outputs": [
    {
     "data": {
      "image/png": "[encoded data removed]",
      "text/plain": [
       "<Figure size 432x288 with 1 Axes>"
      ]
     },
     "metadata": {
      "needs_background": "light"
     },
     "output_type": "display_data"
    }
   ],
   "source": [
    "x_values = pd.Series(range(0,len(ordersByUsers)))\n",
    "plt.scatter(x_values, ordersByUsers['orders'])\n",
    "plt.title('Распределение количества заказов по пользователям')\n",
    "plt.xlabel('Число пользователей')\n",
    "plt.ylabel('Число заказов')\n",
    "plt.grid();"
   ]
  },
  {
   "cell_type": "markdown",
   "metadata": {},
   "source": [
    "Из графика видно,что подавляющее большинство пользователей оформляли всего 1 заказ, а максимальное количество заказов составило 3."
   ]
  },
  {
   "cell_type": "markdown",
   "metadata": {},
   "source": [
    "<div style=\"border:solid SandyBrown 2px; padding: 20px\">\n",
    "На данном этапе мне показалось странным, что распределение такое \"красивое\", поэтому я решила проверить аналогичные расчеты по сырым данным, до удаления пользователей, которые попали в обе группы, и вот, что обнаружилось:"
   ]
  },
  {
   "cell_type": "code",
   "execution_count": 35,
   "metadata": {},
   "outputs": [
    {
     "data": {
      "text/html": [
       "<div>\n",
       "<style scoped>\n",
       "    .dataframe tbody tr th:only-of-type {\n",
       "        vertical-align: middle;\n",
       "    }\n",
       "\n",
       "    .dataframe tbody tr th {\n",
       "        vertical-align: top;\n",
       "    }\n",
       "\n",
       "    .dataframe thead th {\n",
       "        text-align: right;\n",
       "    }\n",
       "</style>\n",
       "<table border=\"1\" class=\"dataframe\">\n",
       "  <thead>\n",
       "    <tr style=\"text-align: right;\">\n",
       "      <th></th>\n",
       "      <th>userId</th>\n",
       "      <th>orders</th>\n",
       "    </tr>\n",
       "  </thead>\n",
       "  <tbody>\n",
       "    <tr>\n",
       "      <th>1023</th>\n",
       "      <td>4256040402</td>\n",
       "      <td>11</td>\n",
       "    </tr>\n",
       "    <tr>\n",
       "      <th>591</th>\n",
       "      <td>2458001652</td>\n",
       "      <td>11</td>\n",
       "    </tr>\n",
       "    <tr>\n",
       "      <th>569</th>\n",
       "      <td>2378935119</td>\n",
       "      <td>9</td>\n",
       "    </tr>\n",
       "    <tr>\n",
       "      <th>487</th>\n",
       "      <td>2038680547</td>\n",
       "      <td>8</td>\n",
       "    </tr>\n",
       "    <tr>\n",
       "      <th>44</th>\n",
       "      <td>199603092</td>\n",
       "      <td>5</td>\n",
       "    </tr>\n",
       "    <tr>\n",
       "      <th>744</th>\n",
       "      <td>3062433592</td>\n",
       "      <td>5</td>\n",
       "    </tr>\n",
       "    <tr>\n",
       "      <th>55</th>\n",
       "      <td>237748145</td>\n",
       "      <td>5</td>\n",
       "    </tr>\n",
       "    <tr>\n",
       "      <th>917</th>\n",
       "      <td>3803269165</td>\n",
       "      <td>5</td>\n",
       "    </tr>\n",
       "    <tr>\n",
       "      <th>299</th>\n",
       "      <td>1230306981</td>\n",
       "      <td>5</td>\n",
       "    </tr>\n",
       "    <tr>\n",
       "      <th>897</th>\n",
       "      <td>3717692402</td>\n",
       "      <td>5</td>\n",
       "    </tr>\n",
       "  </tbody>\n",
       "</table>\n",
       "</div>"
      ],
      "text/plain": [
       "          userId  orders\n",
       "1023  4256040402      11\n",
       "591   2458001652      11\n",
       "569   2378935119       9\n",
       "487   2038680547       8\n",
       "44     199603092       5\n",
       "744   3062433592       5\n",
       "55     237748145       5\n",
       "917   3803269165       5\n",
       "299   1230306981       5\n",
       "897   3717692402       5"
      ]
     },
     "execution_count": 35,
     "metadata": {},
     "output_type": "execute_result"
    }
   ],
   "source": [
    "ordersByUsers_1 = (\n",
    "    orders.groupby('visitor_id', as_index=False)\n",
    "    .agg({'transaction_id': 'nunique'})\n",
    ")\n",
    "\n",
    "ordersByUsers_1.columns = ['userId', 'orders']\n",
    "\n",
    "ordersByUsers_1.sort_values(by='orders', ascending=False).head(10)"
   ]
  },
  {
   "cell_type": "code",
   "execution_count": 36,
   "metadata": {},
   "outputs": [
    {
     "data": {
      "image/png": "[encoded data removed]",
      "text/plain": [
       "<Figure size 432x288 with 1 Axes>"
      ]
     },
     "metadata": {
      "needs_background": "light"
     },
     "output_type": "display_data"
    }
   ],
   "source": [
    "x_values = pd.Series(range(0,len(ordersByUsers_1)))\n",
    "plt.scatter(x_values, ordersByUsers_1['orders'])\n",
    "plt.title('Распределение количества заказов по пользователям')\n",
    "plt.xlabel('Число пользователей')\n",
    "plt.ylabel('Число заказов')\n",
    "plt.grid();"
   ]
  },
  {
   "cell_type": "markdown",
   "metadata": {},
   "source": [
    "Здесь мы видим, что количество заказов именно у этих пользователей и вносило аномалии в первоначальные данные."
   ]
  },
  {
   "cell_type": "markdown",
   "metadata": {},
   "source": [
    "#### 95-й и 99-й перцентили количества заказов на пользователя"
   ]
  },
  {
   "cell_type": "code",
   "execution_count": 37,
   "metadata": {},
   "outputs": [
    {
     "data": {
      "text/plain": [
       "array([1., 2.])"
      ]
     },
     "execution_count": 37,
     "metadata": {},
     "output_type": "execute_result"
    }
   ],
   "source": [
    "np.percentile(ordersByUsers['orders'], [95, 99])"
   ]
  },
  {
   "cell_type": "markdown",
   "metadata": {},
   "source": [
    "Будем считать, что количество заказов более 2х уже аномально, тк это не более 1% пользователей."
   ]
  },
  {
   "cell_type": "markdown",
   "metadata": {},
   "source": [
    "#### Точечный график стоимостей заказов"
   ]
  },
  {
   "cell_type": "code",
   "execution_count": 38,
   "metadata": {},
   "outputs": [
    {
     "data": {
      "image/png": "[encoded data removed]",
      "text/plain": [
       "<Figure size 432x288 with 1 Axes>"
      ]
     },
     "metadata": {
      "needs_background": "light"
     },
     "output_type": "display_data"
    }
   ],
   "source": [
    "x_values = pd.Series(range(0, len(orders['revenue'])))\n",
    "plt.scatter(x_values, orders['revenue'])\n",
    "plt.axis([0, 1200, 0, 130000])\n",
    "plt.title('Распределение стоимости заказов по пользователям')\n",
    "plt.xlabel('Число пользователей')\n",
    "plt.ylabel('Стоимость заказа')\n",
    "plt.grid();"
   ]
  },
  {
   "cell_type": "markdown",
   "metadata": {},
   "source": [
    "По графику видно, что подавляющее большинство заказов на сумму до 40 000. Посмотрим на процентили."
   ]
  },
  {
   "cell_type": "markdown",
   "metadata": {},
   "source": [
    "#### 95-й и 99-й перцентили стоимости заказов"
   ]
  },
  {
   "cell_type": "code",
   "execution_count": 39,
   "metadata": {},
   "outputs": [
    {
     "data": {
      "text/plain": [
       "array([26785., 53904.])"
      ]
     },
     "execution_count": 39,
     "metadata": {},
     "output_type": "execute_result"
    }
   ],
   "source": [
    "np.percentile(orders_clean['revenue'], [95, 99])"
   ]
  },
  {
   "cell_type": "markdown",
   "metadata": {},
   "source": [
    "Не более 5% заказов на сумму больше 26785 руб. И не более 1% пользователей - более 53904. Будем считать, что сумма заказа  свыше 50000 - аномалия."
   ]
  },
  {
   "cell_type": "markdown",
   "metadata": {},
   "source": [
    "#### Промежуточные выводы"
   ]
  },
  {
   "cell_type": "markdown",
   "metadata": {},
   "source": [
    "Были построены графики распределения количества заказов и стоимости заказов, а также посчитаны 95-й и 99-й процентили. За аномалии будем принимать количество заказов свыше 2х и со стоимостью свыше 50 000. Пользователи, попавшие в обе исследуемые грыппу вносили самые значимые выбросы в количество заказов на пользователя."
   ]
  },
  {
   "cell_type": "markdown",
   "metadata": {},
   "source": [
    "### Анализ A/B-теста"
   ]
  },
  {
   "cell_type": "markdown",
   "metadata": {},
   "source": [
    "#### Статистическая значимость различий в конверсии между группами по «сырым» данным"
   ]
  },
  {
   "cell_type": "markdown",
   "metadata": {},
   "source": [
    "Подготовка данных к тесту:"
   ]
  },
  {
   "cell_type": "code",
   "execution_count": 40,
   "metadata": {},
   "outputs": [
    {
     "data": {
      "text/html": [
       "<div>\n",
       "<style scoped>\n",
       "    .dataframe tbody tr th:only-of-type {\n",
       "        vertical-align: middle;\n",
       "    }\n",
       "\n",
       "    .dataframe tbody tr th {\n",
       "        vertical-align: top;\n",
       "    }\n",
       "\n",
       "    .dataframe thead th {\n",
       "        text-align: right;\n",
       "    }\n",
       "</style>\n",
       "<table border=\"1\" class=\"dataframe\">\n",
       "  <thead>\n",
       "    <tr style=\"text-align: right;\">\n",
       "      <th></th>\n",
       "      <th>date</th>\n",
       "      <th>ordersPerDateA</th>\n",
       "      <th>revenuePerDateA</th>\n",
       "      <th>ordersPerDateB</th>\n",
       "      <th>revenuePerDateB</th>\n",
       "      <th>ordersCummulativeA</th>\n",
       "      <th>revenueCummulativeA</th>\n",
       "      <th>ordersCummulativeB</th>\n",
       "      <th>revenueCummulativeB</th>\n",
       "      <th>visitorsPerDateA</th>\n",
       "      <th>visitorsPerDateB</th>\n",
       "      <th>visitorsCummulativeA</th>\n",
       "      <th>visitorsCummulativeB</th>\n",
       "    </tr>\n",
       "  </thead>\n",
       "  <tbody>\n",
       "    <tr>\n",
       "      <th>0</th>\n",
       "      <td>2019-08-01</td>\n",
       "      <td>23</td>\n",
       "      <td>142779</td>\n",
       "      <td>17</td>\n",
       "      <td>59758</td>\n",
       "      <td>23</td>\n",
       "      <td>142779</td>\n",
       "      <td>17</td>\n",
       "      <td>59758</td>\n",
       "      <td>718</td>\n",
       "      <td>709</td>\n",
       "      <td>718</td>\n",
       "      <td>709</td>\n",
       "    </tr>\n",
       "    <tr>\n",
       "      <th>1</th>\n",
       "      <td>2019-08-02</td>\n",
       "      <td>19</td>\n",
       "      <td>91602</td>\n",
       "      <td>23</td>\n",
       "      <td>162043</td>\n",
       "      <td>42</td>\n",
       "      <td>234381</td>\n",
       "      <td>40</td>\n",
       "      <td>221801</td>\n",
       "      <td>618</td>\n",
       "      <td>580</td>\n",
       "      <td>1336</td>\n",
       "      <td>1289</td>\n",
       "    </tr>\n",
       "    <tr>\n",
       "      <th>2</th>\n",
       "      <td>2019-08-03</td>\n",
       "      <td>24</td>\n",
       "      <td>112473</td>\n",
       "      <td>14</td>\n",
       "      <td>67049</td>\n",
       "      <td>66</td>\n",
       "      <td>346854</td>\n",
       "      <td>54</td>\n",
       "      <td>288850</td>\n",
       "      <td>507</td>\n",
       "      <td>507</td>\n",
       "      <td>1843</td>\n",
       "      <td>1796</td>\n",
       "    </tr>\n",
       "    <tr>\n",
       "      <th>3</th>\n",
       "      <td>2019-08-04</td>\n",
       "      <td>11</td>\n",
       "      <td>41176</td>\n",
       "      <td>14</td>\n",
       "      <td>96890</td>\n",
       "      <td>77</td>\n",
       "      <td>388030</td>\n",
       "      <td>68</td>\n",
       "      <td>385740</td>\n",
       "      <td>712</td>\n",
       "      <td>767</td>\n",
       "      <td>2555</td>\n",
       "      <td>2563</td>\n",
       "    </tr>\n",
       "    <tr>\n",
       "      <th>4</th>\n",
       "      <td>2019-08-05</td>\n",
       "      <td>22</td>\n",
       "      <td>86383</td>\n",
       "      <td>21</td>\n",
       "      <td>89908</td>\n",
       "      <td>99</td>\n",
       "      <td>474413</td>\n",
       "      <td>89</td>\n",
       "      <td>475648</td>\n",
       "      <td>753</td>\n",
       "      <td>705</td>\n",
       "      <td>3308</td>\n",
       "      <td>3268</td>\n",
       "    </tr>\n",
       "  </tbody>\n",
       "</table>\n",
       "</div>"
      ],
      "text/plain": [
       "        date  ordersPerDateA  revenuePerDateA  ordersPerDateB  \\\n",
       "0 2019-08-01              23           142779              17   \n",
       "1 2019-08-02              19            91602              23   \n",
       "2 2019-08-03              24           112473              14   \n",
       "3 2019-08-04              11            41176              14   \n",
       "4 2019-08-05              22            86383              21   \n",
       "\n",
       "   revenuePerDateB  ordersCummulativeA  revenueCummulativeA  \\\n",
       "0            59758                  23               142779   \n",
       "1           162043                  42               234381   \n",
       "2            67049                  66               346854   \n",
       "3            96890                  77               388030   \n",
       "4            89908                  99               474413   \n",
       "\n",
       "   ordersCummulativeB  revenueCummulativeB  visitorsPerDateA  \\\n",
       "0                  17                59758               718   \n",
       "1                  40               221801               618   \n",
       "2                  54               288850               507   \n",
       "3                  68               385740               712   \n",
       "4                  89               475648               753   \n",
       "\n",
       "   visitorsPerDateB  visitorsCummulativeA  visitorsCummulativeB  \n",
       "0               709                   718                   709  \n",
       "1               580                  1336                  1289  \n",
       "2               507                  1843                  1796  \n",
       "3               767                  2555                  2563  \n",
       "4               705                  3308                  3268  "
      ]
     },
     "execution_count": 40,
     "metadata": {},
     "output_type": "execute_result"
    }
   ],
   "source": [
    "visitorsADaily = visitors_clean[visitors_clean['group'] == 'A'][['date', 'visitors']]\n",
    "visitorsADaily.columns = ['date', 'visitorsPerDateA']\n",
    "\n",
    "visitorsACummulative = visitorsADaily.apply(\n",
    "    lambda x: visitorsADaily[visitorsADaily['date'] <= x['date']].agg(\n",
    "        {'date': 'max', 'visitorsPerDateA': 'sum'}\n",
    "    ),\n",
    "    axis=1,\n",
    ")\n",
    "visitorsACummulative.columns = ['date', 'visitorsCummulativeA']\n",
    "\n",
    "visitorsBDaily = visitors_clean[visitors_clean['group'] == 'B'][['date', 'visitors']]\n",
    "visitorsBDaily.columns = ['date', 'visitorsPerDateB']\n",
    "\n",
    "visitorsBCummulative = visitorsBDaily.apply(\n",
    "    lambda x: visitorsBDaily[visitorsBDaily['date'] <= x['date']].agg(\n",
    "        {'date': 'max', 'visitorsPerDateB': 'sum'}\n",
    "    ),\n",
    "    axis=1,\n",
    ")\n",
    "visitorsBCummulative.columns = ['date', 'visitorsCummulativeB']\n",
    "\n",
    "ordersADaily = (\n",
    "    orders_clean[orders_clean['group'] == 'A'][['date', 'transaction_id', 'visitor_id', 'revenue']]\n",
    "    .groupby('date', as_index=False)\n",
    "    .agg({'transaction_id': pd.Series.nunique, 'revenue': 'sum'})\n",
    ")\n",
    "ordersADaily.columns = ['date', 'ordersPerDateA', 'revenuePerDateA']\n",
    "\n",
    "ordersACummulative = ordersADaily.apply(\n",
    "    lambda x: ordersADaily[ordersADaily['date'] <= x['date']].agg(\n",
    "        {'date': 'max', 'ordersPerDateA': 'sum', 'revenuePerDateA': 'sum'}\n",
    "    ),\n",
    "    axis=1,\n",
    ").sort_values(by=['date'])\n",
    "ordersACummulative.columns = [\n",
    "    'date',\n",
    "    'ordersCummulativeA',\n",
    "    'revenueCummulativeA',\n",
    "]\n",
    "\n",
    "ordersBDaily = (\n",
    "    orders_clean[orders_clean['group'] == 'B'][['date', 'transaction_id', 'visitor_id', 'revenue']]\n",
    "    .groupby('date', as_index=False)\n",
    "    .agg({'transaction_id': pd.Series.nunique, 'revenue': 'sum'})\n",
    ")\n",
    "ordersBDaily.columns = ['date', 'ordersPerDateB', 'revenuePerDateB']\n",
    "\n",
    "ordersBCummulative = ordersBDaily.apply(\n",
    "    lambda x: ordersBDaily[ordersBDaily['date'] <= x['date']].agg(\n",
    "        {'date': 'max', 'ordersPerDateB': 'sum', 'revenuePerDateB': 'sum'}\n",
    "    ),\n",
    "    axis=1,\n",
    ").sort_values(by=['date'])\n",
    "ordersBCummulative.columns = [\n",
    "    'date',\n",
    "    'ordersCummulativeB',\n",
    "    'revenueCummulativeB',\n",
    "]\n",
    "\n",
    "data = (\n",
    "    ordersADaily.merge(\n",
    "        ordersBDaily, left_on='date', right_on='date', how='left'\n",
    "    )\n",
    "    .merge(ordersACummulative, left_on='date', right_on='date', how='left')\n",
    "    .merge(ordersBCummulative, left_on='date', right_on='date', how='left')\n",
    "    .merge(visitorsADaily, left_on='date', right_on='date', how='left')\n",
    "    .merge(visitorsBDaily, left_on='date', right_on='date', how='left')\n",
    "    .merge(visitorsACummulative, left_on='date', right_on='date', how='left')\n",
    "    .merge(visitorsBCummulative, left_on='date', right_on='date', how='left')\n",
    ")\n",
    "\n",
    "data.head(5)"
   ]
  },
  {
   "cell_type": "markdown",
   "metadata": {},
   "source": [
    "`date` — дата;  \n",
    "`ordersPerDateA` — количество заказов в выбранную дату в группе A;  \n",
    "`revenuePerDateA` — суммарная выручка в выбранную дату в группе A;  \n",
    "`ordersPerDateB` — количество заказов в выбранную дату в группе B;  \n",
    "`revenuePerDateB` — суммарная выручка в выбранную дату в группе B;  \n",
    "`ordersCummulativeA` — суммарное число заказов до выбранной даты включительно в группе A;  \n",
    "`revenueCummulativeA` — суммарная выручка до выбранной даты включительно в группе A;  \n",
    "`ordersCummulativeB` — суммарное количество заказов до выбранной даты включительно в группе B;  \n",
    "`revenueCummulativeB` — суммарная выручка до выбранной даты включительно в группе B;  \n",
    "`visitorsPerDateA` — количество пользователей в выбранную дату в группе A;  \n",
    "`visitorsPerDateB` — количество пользователей в выбранную дату в группе B;  \n",
    "`visitorsCummulativeA` — количество пользователей до выбранной даты включительно в группе A;  \n",
    "`visitorsCummulativeB` — количество пользователей до выбранной даты включительно в группе B."
   ]
  },
  {
   "cell_type": "markdown",
   "metadata": {},
   "source": [
    "Создадим переменные ordersByUsersA и ordersByUsersB со столбцами `['userId', 'orders']`. В них для пользователей, которые заказывали хотя бы 1 раз, укажем число совершённых заказов."
   ]
  },
  {
   "cell_type": "code",
   "execution_count": 41,
   "metadata": {},
   "outputs": [
    {
     "data": {
      "text/html": [
       "<div>\n",
       "<style scoped>\n",
       "    .dataframe tbody tr th:only-of-type {\n",
       "        vertical-align: middle;\n",
       "    }\n",
       "\n",
       "    .dataframe tbody tr th {\n",
       "        vertical-align: top;\n",
       "    }\n",
       "\n",
       "    .dataframe thead th {\n",
       "        text-align: right;\n",
       "    }\n",
       "</style>\n",
       "<table border=\"1\" class=\"dataframe\">\n",
       "  <thead>\n",
       "    <tr style=\"text-align: right;\">\n",
       "      <th></th>\n",
       "      <th>visitor_id</th>\n",
       "      <th>orders</th>\n",
       "    </tr>\n",
       "  </thead>\n",
       "  <tbody>\n",
       "    <tr>\n",
       "      <th>0</th>\n",
       "      <td>11685486</td>\n",
       "      <td>1</td>\n",
       "    </tr>\n",
       "    <tr>\n",
       "      <th>1</th>\n",
       "      <td>54447517</td>\n",
       "      <td>1</td>\n",
       "    </tr>\n",
       "    <tr>\n",
       "      <th>2</th>\n",
       "      <td>66685450</td>\n",
       "      <td>1</td>\n",
       "    </tr>\n",
       "    <tr>\n",
       "      <th>3</th>\n",
       "      <td>78758296</td>\n",
       "      <td>1</td>\n",
       "    </tr>\n",
       "    <tr>\n",
       "      <th>4</th>\n",
       "      <td>85103373</td>\n",
       "      <td>1</td>\n",
       "    </tr>\n",
       "  </tbody>\n",
       "</table>\n",
       "</div>"
      ],
      "text/plain": [
       "   visitor_id  orders\n",
       "0    11685486       1\n",
       "1    54447517       1\n",
       "2    66685450       1\n",
       "3    78758296       1\n",
       "4    85103373       1"
      ]
     },
     "metadata": {},
     "output_type": "display_data"
    },
    {
     "data": {
      "text/html": [
       "<div>\n",
       "<style scoped>\n",
       "    .dataframe tbody tr th:only-of-type {\n",
       "        vertical-align: middle;\n",
       "    }\n",
       "\n",
       "    .dataframe tbody tr th {\n",
       "        vertical-align: top;\n",
       "    }\n",
       "\n",
       "    .dataframe thead th {\n",
       "        text-align: right;\n",
       "    }\n",
       "</style>\n",
       "<table border=\"1\" class=\"dataframe\">\n",
       "  <thead>\n",
       "    <tr style=\"text-align: right;\">\n",
       "      <th></th>\n",
       "      <th>visitor_id</th>\n",
       "      <th>orders</th>\n",
       "    </tr>\n",
       "  </thead>\n",
       "  <tbody>\n",
       "    <tr>\n",
       "      <th>0</th>\n",
       "      <td>5114589</td>\n",
       "      <td>1</td>\n",
       "    </tr>\n",
       "    <tr>\n",
       "      <th>1</th>\n",
       "      <td>6958315</td>\n",
       "      <td>1</td>\n",
       "    </tr>\n",
       "    <tr>\n",
       "      <th>2</th>\n",
       "      <td>39475350</td>\n",
       "      <td>1</td>\n",
       "    </tr>\n",
       "    <tr>\n",
       "      <th>3</th>\n",
       "      <td>47206413</td>\n",
       "      <td>1</td>\n",
       "    </tr>\n",
       "    <tr>\n",
       "      <th>4</th>\n",
       "      <td>48147722</td>\n",
       "      <td>1</td>\n",
       "    </tr>\n",
       "  </tbody>\n",
       "</table>\n",
       "</div>"
      ],
      "text/plain": [
       "   visitor_id  orders\n",
       "0     5114589       1\n",
       "1     6958315       1\n",
       "2    39475350       1\n",
       "3    47206413       1\n",
       "4    48147722       1"
      ]
     },
     "metadata": {},
     "output_type": "display_data"
    }
   ],
   "source": [
    "ordersByUsersA = (\n",
    "    orders_clean[orders_clean['group'] == 'A']\n",
    "    .groupby('visitor_id', as_index=False)\n",
    "    .agg({'transaction_id': pd.Series.nunique})\n",
    ")\n",
    "ordersByUsersA.columns = ['visitor_id', 'orders']\n",
    "\n",
    "display(ordersByUsersA.head())\n",
    "ordersByUsersB = (\n",
    "    orders_clean[orders_clean['group'] == 'B']\n",
    "    .groupby('visitor_id', as_index=False)\n",
    "    .agg({'transaction_id': pd.Series.nunique})\n",
    ")\n",
    "ordersByUsersB.columns = ['visitor_id', 'orders']\n",
    "display(ordersByUsersB.head())"
   ]
  },
  {
   "cell_type": "markdown",
   "metadata": {},
   "source": [
    "Объявим переменные sampleA и sampleB, в которых пользователям из разных групп будет соответствовать количество заказов. Тем, кто ничего не заказал, будут соответствовать нули. Это нужно, чтобы подготовить выборки к проверке критерием Манна-Уитни."
   ]
  },
  {
   "cell_type": "code",
   "execution_count": 42,
   "metadata": {},
   "outputs": [],
   "source": [
    "sampleA = pd.concat([ordersByUsersA['orders'],pd.Series(0, index=np.arange(data['visitorsPerDateA'].sum() \n",
    "                                                                           - len(ordersByUsersA['orders'])), name='orders')],axis=0)\n",
    "sampleB = pd.concat([ordersByUsersB['orders'],pd.Series(0, index=np.arange(data['visitorsPerDateB'].sum() \n",
    "                                                                           - len(ordersByUsersB['orders'])), name='orders')],axis=0)"
   ]
  },
  {
   "cell_type": "markdown",
   "metadata": {},
   "source": [
    "Сформулируем гипотезы  \n",
    "\n",
    "Н0 - различий в конверсиях между группами по «сырым» данным нет\n",
    "\n",
    "Н1 - различия в конверсиях между группами по «сырым» данным есть\n",
    "\n",
    "Пороговое значение alpha примем за 5%"
   ]
  },
  {
   "cell_type": "code",
   "execution_count": 43,
   "metadata": {},
   "outputs": [
    {
     "name": "stdout",
     "output_type": "stream",
     "text": [
      "P-value по конверсии до очистки данных: 0.011\n",
      "Относительный прирост конверсии группы B 0.160\n",
      "Отвергаем нулевую гипотезу\n"
     ]
    }
   ],
   "source": [
    "print('P-value по конверсии до очистки данных:', \"{0:.3f}\".format(st.mannwhitneyu(sampleA, sampleB)[1]))\n",
    "\n",
    "print('Относительный прирост конверсии группы B', \"{0:.3f}\".format(sampleB.mean() / sampleA.mean() - 1))\n",
    "\n",
    "alpha = .05\n",
    "\n",
    "if (st.mannwhitneyu(sampleA, sampleB)[1]) < alpha:\n",
    "    print(\"Отвергаем нулевую гипотезу\")\n",
    "else:\n",
    "    print(\"Не получилось отвергнуть нулевую гипотезу\")"
   ]
  },
  {
   "cell_type": "markdown",
   "metadata": {},
   "source": [
    "Анализ сырых данных показывает, что в конверсии между группами есть статистически значимые различия. Относительный прирост конверсии группы B к конверсии группы А равен 16%."
   ]
  },
  {
   "cell_type": "markdown",
   "metadata": {},
   "source": [
    "#### Cтатистическая значимость различий в среднем чеке заказа между группами по «сырым» данным"
   ]
  },
  {
   "cell_type": "markdown",
   "metadata": {},
   "source": [
    "Сформулируем гипотезы\n",
    "\n",
    "Н0 - различий в среднем чеке между группами по «сырым» данным нет\n",
    "\n",
    "Н1 - различия в среднем чеке между группами по «сырым» данным есть\n",
    "\n",
    "Пороговое значение alpha примем за 5%"
   ]
  },
  {
   "cell_type": "code",
   "execution_count": 44,
   "metadata": {},
   "outputs": [],
   "source": [
    "p_val = st.mannwhitneyu(orders_clean[orders_clean['group']=='A']['revenue'], \n",
    "                        orders_clean[orders_clean['group']=='B']['revenue'])[1]\n",
    "att = orders_clean[orders_clean['group']=='B']['revenue'].mean()/orders_clean[orders_clean['group']=='A']['revenue'].mean()-1"
   ]
  },
  {
   "cell_type": "code",
   "execution_count": 45,
   "metadata": {},
   "outputs": [
    {
     "name": "stdout",
     "output_type": "stream",
     "text": [
      "P-value по среднему чеку до очистки данных: 0.829\n",
      "Относительный прирост среднего чека группы B 0.287\n",
      "Не получилось отвергнуть нулевую гипотезу\n"
     ]
    }
   ],
   "source": [
    "print('P-value по среднему чеку до очистки данных:', \"{0:.3f}\".format(p_val))\n",
    "print('Относительный прирост среднего чека группы B', \"{0:.3f}\".format(att))\n",
    "\n",
    "alpha = .05\n",
    "\n",
    "if p_val < alpha:\n",
    "    print(\"Отвергаем нулевую гипотезу\")\n",
    "else:\n",
    "    print(\"Не получилось отвергнуть нулевую гипотезу\")"
   ]
  },
  {
   "cell_type": "markdown",
   "metadata": {},
   "source": [
    "Анализ сырых данных показывает, что в среднем чеке между группами нет статистически значимых различий."
   ]
  },
  {
   "cell_type": "markdown",
   "metadata": {},
   "source": [
    "#### Статистическая значимость различий в конверсии между группами по «очищенным» данным"
   ]
  },
  {
   "cell_type": "markdown",
   "metadata": {},
   "source": [
    "Сделаем срезы пользователей с числом заказов 3 и более — usersWithManyOrders и пользователей, совершивших заказы дороже 50 000 — usersWithExpensiveOrders. А также посмотрим количество аномальных пользователей."
   ]
  },
  {
   "cell_type": "code",
   "execution_count": 46,
   "metadata": {},
   "outputs": [
    {
     "name": "stdout",
     "output_type": "stream",
     "text": [
      "1099    148427295\n",
      "33      249864742\n",
      "58      611059232\n",
      "1137    759473111\n",
      "949     887908475\n",
      "Name: visitor_id, dtype: int64\n"
     ]
    },
    {
     "data": {
      "text/plain": [
       "22"
      ]
     },
     "execution_count": 46,
     "metadata": {},
     "output_type": "execute_result"
    }
   ],
   "source": [
    "usersWithManyOrders = pd.concat(\n",
    "    [\n",
    "        ordersByUsersA[ordersByUsersA['orders'] > 2]['visitor_id'],\n",
    "        ordersByUsersB[ordersByUsersB['orders'] > 2]['visitor_id'],\n",
    "    ],\n",
    "    axis=0,\n",
    ")\n",
    "usersWithExpensiveOrders = orders_clean[orders_clean['revenue'] > 50000]['visitor_id']\n",
    "abnormalUsers = (\n",
    "    pd.concat([usersWithManyOrders, usersWithExpensiveOrders], axis=0)\n",
    "    .drop_duplicates()\n",
    "    .sort_values()\n",
    ")\n",
    "print(abnormalUsers.head(5))\n",
    "abnormalUsers.shape[0]"
   ]
  },
  {
   "cell_type": "markdown",
   "metadata": {},
   "source": [
    "Узнаем, как их действия повлияли на результаты теста. Посчитаем статистическую значимость различий в среднем количестве заказов между группами теста по очищенным данным. Сначала подготовим выборки количества заказов по пользователям по группам теста:"
   ]
  },
  {
   "cell_type": "code",
   "execution_count": 47,
   "metadata": {},
   "outputs": [],
   "source": [
    "sampleAFiltered = pd.concat(\n",
    "    [\n",
    "        ordersByUsersA[\n",
    "            np.logical_not(ordersByUsersA['visitor_id'].isin(abnormalUsers))\n",
    "        ]['orders'],\n",
    "        pd.Series(\n",
    "            0,\n",
    "            index=np.arange(\n",
    "                data['visitorsPerDateA'].sum() - len(ordersByUsersA['orders'])\n",
    "            ),\n",
    "            name='orders',\n",
    "        ),\n",
    "    ],\n",
    "    axis=0,\n",
    ")\n",
    "\n",
    "sampleBFiltered = pd.concat(\n",
    "    [\n",
    "        ordersByUsersB[\n",
    "            np.logical_not(ordersByUsersB['visitor_id'].isin(abnormalUsers))\n",
    "        ]['orders'],\n",
    "        pd.Series(\n",
    "            0,\n",
    "            index=np.arange(\n",
    "                data['visitorsPerDateB'].sum() - len(ordersByUsersB['orders'])\n",
    "            ),\n",
    "            name='orders',\n",
    "        ),\n",
    "    ],\n",
    "    axis=0,\n",
    ") "
   ]
  },
  {
   "cell_type": "markdown",
   "metadata": {},
   "source": [
    "Сформулируем гипотезы\n",
    "\n",
    "Н0 - различий в конверсиях между группами по «очищенным» данным нет\n",
    "\n",
    "Н1 - различия в конверсиях между группами по «очищенным» данным есть\n",
    "\n",
    "Пороговое значение alpha примем за 5%"
   ]
  },
  {
   "cell_type": "code",
   "execution_count": 48,
   "metadata": {},
   "outputs": [
    {
     "name": "stdout",
     "output_type": "stream",
     "text": [
      "P-value по конверсии после очистки данных: 0.006\n",
      "Относительный прирост конверсии группы B 0.198\n",
      "Отвергаем нулевую гипотезу\n"
     ]
    }
   ],
   "source": [
    "print('P-value по конверсии после очистки данных:', \"{0:.3f}\".format(st.mannwhitneyu(sampleAFiltered, sampleBFiltered)[1]))\n",
    "\n",
    "print('Относительный прирост конверсии группы B', \"{0:.3f}\".format(sampleBFiltered.mean()/sampleAFiltered.mean()-1))\n",
    "\n",
    "alpha = .05\n",
    "\n",
    "if (st.mannwhitneyu(sampleAFiltered, sampleBFiltered)[1]) < alpha:\n",
    "    print(\"Отвергаем нулевую гипотезу\")\n",
    "else:\n",
    "    print(\"Не получилось отвергнуть нулевую гипотезу\")"
   ]
  },
  {
   "cell_type": "markdown",
   "metadata": {},
   "source": [
    "Анализ очищенных данных также показывает, что в конверсии между группами есть статистически значимые различия. Относительный прирост конверсии группы B к конверсии группы А равен 19,8%."
   ]
  },
  {
   "cell_type": "markdown",
   "metadata": {},
   "source": [
    "#### Статистическая значимость различий в среднем чеке заказа между группами по «очищенным» данным"
   ]
  },
  {
   "cell_type": "code",
   "execution_count": 49,
   "metadata": {},
   "outputs": [],
   "source": [
    "sampleAFiltered_rev = orders_clean[\n",
    "                np.logical_and(\n",
    "                    orders_clean['group'] == 'A',\n",
    "                    np.logical_not(orders_clean['visitor_id'].isin(abnormalUsers)),\n",
    "                )\n",
    "            ]['revenue']\n",
    "sampleBFiltered_rev = orders_clean[\n",
    "                np.logical_and(\n",
    "                    orders_clean['group'] == 'B',\n",
    "                    np.logical_not(orders_clean['visitor_id'].isin(abnormalUsers)),\n",
    "                )\n",
    "            ]['revenue']"
   ]
  },
  {
   "cell_type": "code",
   "execution_count": 50,
   "metadata": {},
   "outputs": [],
   "source": [
    "p_val_filtered = st.mannwhitneyu(sampleAFiltered_rev, sampleBFiltered_rev)[1]\n",
    "att_filtered = sampleBFiltered_rev.mean()/sampleAFiltered_rev.mean()-1"
   ]
  },
  {
   "cell_type": "code",
   "execution_count": 51,
   "metadata": {},
   "outputs": [
    {
     "name": "stdout",
     "output_type": "stream",
     "text": [
      "P-value по среднему чеку после очистки данных: 0.939\n",
      "Относительный прирост среднего чека группы B 0.011\n",
      "Не получилось отвергнуть нулевую гипотезу\n"
     ]
    }
   ],
   "source": [
    "print('P-value по среднему чеку после очистки данных:', \"{0:.3f}\".format(p_val_filtered))\n",
    "print('Относительный прирост среднего чека группы B', \"{0:.3f}\".format(att_filtered))\n",
    "\n",
    "alpha = .05\n",
    "\n",
    "if p_val < alpha:\n",
    "    print(\"Отвергаем нулевую гипотезу\")\n",
    "else:\n",
    "    print(\"Не получилось отвергнуть нулевую гипотезу\")"
   ]
  },
  {
   "cell_type": "markdown",
   "metadata": {},
   "source": [
    "Анализ очищенных данных также показывает, что в среднем чеке между группами нет статистически значимых различий."
   ]
  },
  {
   "cell_type": "markdown",
   "metadata": {},
   "source": [
    "#### Промежуточные выводы"
   ]
  },
  {
   "cell_type": "markdown",
   "metadata": {},
   "source": [
    "Как по сырым данным, так и по очищенным тест дал одинаковые результаты - в конверсии между группами есть статистически значимые различия, по очищенным данным ее прирост составил 1,1%. Значительно снизился по сравнению с неочищенными данными. По среднему чеку статистически значимых различий между группами нет.\n"
   ]
  },
  {
   "cell_type": "markdown",
   "metadata": {},
   "source": [
    "### Вывод"
   ]
  },
  {
   "cell_type": "markdown",
   "metadata": {},
   "source": [
    "Есть статистически значимое различие по конверсии между группами как по сырым данным, так и после фильтрации аномалий.\n",
    "По среднему чеку статистически значимых различий между группами нет.\n",
    "График различия конверсии между группами сообщает, что результаты группы B лучше группы A: имеют тенденцию к росту, либо зафиксировались около среднего значения. По графику различия среднего чека группа В опережает группу А, но различия среднего чека колеблется и, исходя из результатов теста, делаем вывод, что это влияние выбросов и отличия не имеют значимости.\n",
    "Тем не менее, тест можно остановить и признать успешным, перейти к проверке следующей гипотезы. Не смотря на отсутствие различий в группах по среднему чеку, в группе B конверсия выше, а значит выручка тоже будет выше."
   ]
  },
  {
   "cell_type": "markdown",
   "metadata": {},
   "source": [
    "## Общий вывод"
   ]
  },
  {
   "cell_type": "markdown",
   "metadata": {},
   "source": [
    "В результате проекта были рассмотрены 9 гипотез интернет-магазина и выполнена их приоритизация двумя разными методами: RICE и ICE. По методу ICE наиболее приоритетная гипотеза - Запустить акцию, дающую скидку на товар в день рождения. По методу RICE - Добавить форму подписки на все основные страницы, чтобы собрать базу клиентов для email-рассылок. Осовное отличие данных методов в том, что RICE также берет в расчет количество пользоватаелей, которых затронет изменение, которое мы хотим внести. И в случае с изменениями, которые затронут максимальное количество пользователей, гипотеза получает значительно больше баллов. Наименее приоритетная гипотеза по обоим фреймворкам - Изменить цвет фона главной страницы, чтобы увеличить вовлеченность пользователей."
   ]
  },
  {
   "cell_type": "markdown",
   "metadata": {},
   "source": [
    "Также во второй части проекта произведен анализ проведенного A/B-теста. Изучение данных показало, что было нарушено правило о непересечении участников групп между собой, 58 пользователей попало в обе группы, их заказы были удалены из анализа.\n",
    "\n",
    "Анализ кумулятивных метрик показал, что:  \n",
    "* выручка равномерно увеличивалась в течение всего теста. В группе А выручка росла линейно, а в группе B были \"всплеск\" с районе 18.08.2019. Это может сигнализировать о всплесках числа заказов, либо о появлении очень дорогих заказов в выборке. При этом с 05.08.2019 выручка по группе B росла интенсивнее\n",
    "* с 18 августа средний чек группы B пошел в резкий отрыв от значений по группе A. В целом, средний чек стал равномерным ближе к концу теста. Возможно, в группу B во второй половине теста попали крупные заказы (резкий всплеск на графике)  \n",
    "* конверсии групп колебались около одного значения, но затем 06.08.2019 конверсия группы B вырвалась вперёд и зафиксировалась, а конверсия группы A просела и также зафиксировалась."
   ]
  },
  {
   "cell_type": "markdown",
   "metadata": {},
   "source": [
    "Были проанализированы аномалии в данных:  \n",
    "* построены графики распределения количества заказов и стоимости заказов, а также посчитаны 95-й и 99-й процентили \n",
    "* за аномалии были приняты количество заказов свыше 2х и со стоимостью свыше 50 000. В категорию аномалий попали менее 1% клиентов и чуть более 1% заказов.\n",
    "* пользователи, попавшие в обе исследуемые группы вносили самые значимые выбросы в количество заказов на пользователя.    "
   ]
  },
  {
   "cell_type": "markdown",
   "metadata": {},
   "source": [
    "На основе A/B-теста по сырым и очищенным данным были сделаны следующие выводы:  \n",
    "* Есть статистически значимое различие по конверсии между группами как по сырым данным, так и после фильтрации аномалий   \n",
    "* Относительный прирост конверсии группы B к конверсии группы А по очищенным данным составил всего 1,1%  \n",
    "* По среднему чеку статистически значимых различий между группами нет\n",
    "* Тест можно остановить и признать успешным, не смотря на отсутствие различий в группах по среднему чеку, в группе B конверсия выше, а значит выручка тоже будет выше.  "
   ]
  }
 ],
 "metadata": {
  "ExecuteTimeLog": [
   {
    "duration": 8,
    "start_time": "2022-07-14T06:05:48.922Z"
   },
   {
    "duration": 1319,
    "start_time": "2022-07-14T06:09:16.254Z"
   },
   {
    "duration": 38,
    "start_time": "2022-07-14T06:11:36.627Z"
   },
   {
    "duration": 70,
    "start_time": "2022-07-14T06:12:16.281Z"
   },
   {
    "duration": 4,
    "start_time": "2022-07-14T06:12:26.215Z"
   },
   {
    "duration": 91,
    "start_time": "2022-07-14T06:12:35.308Z"
   },
   {
    "duration": 56,
    "start_time": "2022-07-14T06:12:40.062Z"
   },
   {
    "duration": 3,
    "start_time": "2022-07-14T06:17:04.505Z"
   },
   {
    "duration": 25,
    "start_time": "2022-07-14T06:17:07.257Z"
   },
   {
    "duration": 19,
    "start_time": "2022-07-14T06:17:36.541Z"
   },
   {
    "duration": 3,
    "start_time": "2022-07-14T06:19:48.966Z"
   },
   {
    "duration": 11,
    "start_time": "2022-07-14T06:20:02.372Z"
   },
   {
    "duration": 4,
    "start_time": "2022-07-14T06:20:05.864Z"
   },
   {
    "duration": 2,
    "start_time": "2022-07-14T06:20:53.919Z"
   },
   {
    "duration": 20,
    "start_time": "2022-07-14T06:22:06.569Z"
   },
   {
    "duration": 17,
    "start_time": "2022-07-14T06:22:20.386Z"
   },
   {
    "duration": 32,
    "start_time": "2022-07-14T06:22:58.793Z"
   },
   {
    "duration": 19,
    "start_time": "2022-07-14T06:23:45.747Z"
   },
   {
    "duration": 65,
    "start_time": "2022-07-14T06:27:25.335Z"
   },
   {
    "duration": 17,
    "start_time": "2022-07-14T06:28:39.815Z"
   },
   {
    "duration": 4,
    "start_time": "2022-07-14T06:32:15.420Z"
   },
   {
    "duration": 11,
    "start_time": "2022-07-14T06:32:30.322Z"
   },
   {
    "duration": 6,
    "start_time": "2022-07-14T06:33:38.103Z"
   },
   {
    "duration": 5,
    "start_time": "2022-07-14T06:33:59.412Z"
   },
   {
    "duration": 11,
    "start_time": "2022-07-14T06:34:19.045Z"
   },
   {
    "duration": 6,
    "start_time": "2022-07-14T06:34:31.416Z"
   },
   {
    "duration": 4,
    "start_time": "2022-07-14T06:36:11.790Z"
   },
   {
    "duration": 10,
    "start_time": "2022-07-14T06:36:19.739Z"
   },
   {
    "duration": 15,
    "start_time": "2022-07-14T06:36:25.259Z"
   },
   {
    "duration": 4,
    "start_time": "2022-07-14T06:36:44.314Z"
   },
   {
    "duration": 10,
    "start_time": "2022-07-14T06:36:45.697Z"
   },
   {
    "duration": 7,
    "start_time": "2022-07-14T06:37:31.061Z"
   },
   {
    "duration": 6,
    "start_time": "2022-07-14T06:37:42.218Z"
   },
   {
    "duration": 6,
    "start_time": "2022-07-14T06:38:19.084Z"
   },
   {
    "duration": 1229,
    "start_time": "2022-07-14T06:46:12.045Z"
   },
   {
    "duration": 1145,
    "start_time": "2022-07-14T06:47:06.644Z"
   },
   {
    "duration": 331,
    "start_time": "2022-07-14T06:47:07.791Z"
   },
   {
    "duration": 4,
    "start_time": "2022-07-14T06:47:08.125Z"
   },
   {
    "duration": 120,
    "start_time": "2022-07-14T06:47:08.131Z"
   },
   {
    "duration": 5,
    "start_time": "2022-07-14T06:47:08.252Z"
   },
   {
    "duration": 86,
    "start_time": "2022-07-14T06:47:08.259Z"
   },
   {
    "duration": 6,
    "start_time": "2022-07-14T06:47:08.347Z"
   },
   {
    "duration": 20,
    "start_time": "2022-07-14T06:47:08.354Z"
   },
   {
    "duration": 4,
    "start_time": "2022-07-14T06:47:08.424Z"
   },
   {
    "duration": 28,
    "start_time": "2022-07-14T06:47:08.431Z"
   },
   {
    "duration": 75,
    "start_time": "2022-07-14T06:47:08.461Z"
   },
   {
    "duration": 7,
    "start_time": "2022-07-14T06:47:08.539Z"
   },
   {
    "duration": 15,
    "start_time": "2022-07-14T06:47:08.548Z"
   },
   {
    "duration": 61,
    "start_time": "2022-07-14T06:47:08.564Z"
   },
   {
    "duration": 1118,
    "start_time": "2022-07-14T07:03:15.893Z"
   },
   {
    "duration": 3,
    "start_time": "2022-07-14T07:03:17.013Z"
   },
   {
    "duration": 106,
    "start_time": "2022-07-14T07:03:17.017Z"
   },
   {
    "duration": 4,
    "start_time": "2022-07-14T07:03:17.134Z"
   },
   {
    "duration": 65,
    "start_time": "2022-07-14T07:03:17.140Z"
   },
   {
    "duration": 4,
    "start_time": "2022-07-14T07:03:17.207Z"
   },
   {
    "duration": 58,
    "start_time": "2022-07-14T07:03:17.212Z"
   },
   {
    "duration": 10,
    "start_time": "2022-07-14T07:03:17.272Z"
   },
   {
    "duration": 16,
    "start_time": "2022-07-14T07:03:17.284Z"
   },
   {
    "duration": 34,
    "start_time": "2022-07-14T07:03:17.303Z"
   },
   {
    "duration": 32,
    "start_time": "2022-07-14T07:03:17.343Z"
   },
   {
    "duration": 26,
    "start_time": "2022-07-14T07:03:17.377Z"
   },
   {
    "duration": 8,
    "start_time": "2022-07-14T07:03:17.405Z"
   },
   {
    "duration": 27,
    "start_time": "2022-07-14T07:03:17.414Z"
   },
   {
    "duration": 15,
    "start_time": "2022-07-14T07:03:17.443Z"
   },
   {
    "duration": 4,
    "start_time": "2022-07-14T07:03:57.908Z"
   },
   {
    "duration": 20,
    "start_time": "2022-07-14T07:04:00.580Z"
   },
   {
    "duration": 3,
    "start_time": "2022-07-14T07:04:16.401Z"
   },
   {
    "duration": 19,
    "start_time": "2022-07-14T07:04:18.766Z"
   },
   {
    "duration": 10,
    "start_time": "2022-07-14T07:10:55.537Z"
   },
   {
    "duration": 11,
    "start_time": "2022-07-14T07:16:55.519Z"
   },
   {
    "duration": 11,
    "start_time": "2022-07-14T07:28:57.837Z"
   },
   {
    "duration": 12,
    "start_time": "2022-07-14T07:29:30.462Z"
   },
   {
    "duration": 73,
    "start_time": "2022-07-14T07:31:43.660Z"
   },
   {
    "duration": 1203,
    "start_time": "2022-07-14T07:31:46.105Z"
   },
   {
    "duration": 11,
    "start_time": "2022-07-14T07:31:56.030Z"
   },
   {
    "duration": 16,
    "start_time": "2022-07-14T07:32:14.104Z"
   },
   {
    "duration": 6,
    "start_time": "2022-07-14T07:33:18.327Z"
   },
   {
    "duration": 11,
    "start_time": "2022-07-14T07:33:55.283Z"
   },
   {
    "duration": 17,
    "start_time": "2022-07-14T07:34:03.036Z"
   },
   {
    "duration": 12,
    "start_time": "2022-07-14T07:34:12.570Z"
   },
   {
    "duration": 84,
    "start_time": "2022-07-14T07:34:48.216Z"
   },
   {
    "duration": 11,
    "start_time": "2022-07-14T07:34:51.385Z"
   },
   {
    "duration": 12,
    "start_time": "2022-07-14T07:35:09.293Z"
   },
   {
    "duration": 10,
    "start_time": "2022-07-14T07:40:46.685Z"
   },
   {
    "duration": 63,
    "start_time": "2022-07-14T08:14:44.087Z"
   },
   {
    "duration": 1335,
    "start_time": "2022-07-14T08:14:54.309Z"
   },
   {
    "duration": 6,
    "start_time": "2022-07-14T08:14:55.646Z"
   },
   {
    "duration": 0,
    "start_time": "2022-07-14T08:14:55.654Z"
   },
   {
    "duration": 0,
    "start_time": "2022-07-14T08:14:55.656Z"
   },
   {
    "duration": 0,
    "start_time": "2022-07-14T08:14:55.657Z"
   },
   {
    "duration": 0,
    "start_time": "2022-07-14T08:14:55.659Z"
   },
   {
    "duration": 0,
    "start_time": "2022-07-14T08:14:55.660Z"
   },
   {
    "duration": 0,
    "start_time": "2022-07-14T08:14:55.662Z"
   },
   {
    "duration": 0,
    "start_time": "2022-07-14T08:14:55.663Z"
   },
   {
    "duration": 0,
    "start_time": "2022-07-14T08:14:55.664Z"
   },
   {
    "duration": 0,
    "start_time": "2022-07-14T08:14:55.665Z"
   },
   {
    "duration": 0,
    "start_time": "2022-07-14T08:14:55.666Z"
   },
   {
    "duration": 0,
    "start_time": "2022-07-14T08:14:55.667Z"
   },
   {
    "duration": 0,
    "start_time": "2022-07-14T08:14:55.668Z"
   },
   {
    "duration": 0,
    "start_time": "2022-07-14T08:14:55.669Z"
   },
   {
    "duration": 0,
    "start_time": "2022-07-14T08:14:55.670Z"
   },
   {
    "duration": 0,
    "start_time": "2022-07-14T08:14:55.671Z"
   },
   {
    "duration": 0,
    "start_time": "2022-07-14T08:14:55.672Z"
   },
   {
    "duration": 113,
    "start_time": "2022-07-14T08:15:11.379Z"
   },
   {
    "duration": 9,
    "start_time": "2022-07-14T08:15:34.804Z"
   },
   {
    "duration": 1103,
    "start_time": "2022-07-14T08:15:42.307Z"
   },
   {
    "duration": 6,
    "start_time": "2022-07-14T08:15:43.412Z"
   },
   {
    "duration": 0,
    "start_time": "2022-07-14T08:15:43.421Z"
   },
   {
    "duration": 0,
    "start_time": "2022-07-14T08:15:43.422Z"
   },
   {
    "duration": 0,
    "start_time": "2022-07-14T08:15:43.424Z"
   },
   {
    "duration": 0,
    "start_time": "2022-07-14T08:15:43.426Z"
   },
   {
    "duration": 0,
    "start_time": "2022-07-14T08:15:43.427Z"
   },
   {
    "duration": 0,
    "start_time": "2022-07-14T08:15:43.428Z"
   },
   {
    "duration": 0,
    "start_time": "2022-07-14T08:15:43.430Z"
   },
   {
    "duration": 0,
    "start_time": "2022-07-14T08:15:43.431Z"
   },
   {
    "duration": 0,
    "start_time": "2022-07-14T08:15:43.433Z"
   },
   {
    "duration": 0,
    "start_time": "2022-07-14T08:15:43.434Z"
   },
   {
    "duration": 0,
    "start_time": "2022-07-14T08:15:43.435Z"
   },
   {
    "duration": 0,
    "start_time": "2022-07-14T08:15:43.436Z"
   },
   {
    "duration": 0,
    "start_time": "2022-07-14T08:15:43.436Z"
   },
   {
    "duration": 0,
    "start_time": "2022-07-14T08:15:43.438Z"
   },
   {
    "duration": 0,
    "start_time": "2022-07-14T08:15:43.438Z"
   },
   {
    "duration": 0,
    "start_time": "2022-07-14T08:15:43.439Z"
   },
   {
    "duration": 1114,
    "start_time": "2022-07-14T08:15:58.523Z"
   },
   {
    "duration": 3,
    "start_time": "2022-07-14T08:15:59.639Z"
   },
   {
    "duration": 242,
    "start_time": "2022-07-14T08:15:59.643Z"
   },
   {
    "duration": 3,
    "start_time": "2022-07-14T08:15:59.887Z"
   },
   {
    "duration": 68,
    "start_time": "2022-07-14T08:15:59.892Z"
   },
   {
    "duration": 5,
    "start_time": "2022-07-14T08:15:59.962Z"
   },
   {
    "duration": 51,
    "start_time": "2022-07-14T08:15:59.969Z"
   },
   {
    "duration": 8,
    "start_time": "2022-07-14T08:16:00.022Z"
   },
   {
    "duration": 16,
    "start_time": "2022-07-14T08:16:00.031Z"
   },
   {
    "duration": 12,
    "start_time": "2022-07-14T08:16:00.049Z"
   },
   {
    "duration": 20,
    "start_time": "2022-07-14T08:16:00.063Z"
   },
   {
    "duration": 43,
    "start_time": "2022-07-14T08:16:00.084Z"
   },
   {
    "duration": 13,
    "start_time": "2022-07-14T08:16:00.129Z"
   },
   {
    "duration": 20,
    "start_time": "2022-07-14T08:16:00.146Z"
   },
   {
    "duration": 22,
    "start_time": "2022-07-14T08:16:00.167Z"
   },
   {
    "duration": 13,
    "start_time": "2022-07-14T08:16:00.190Z"
   },
   {
    "duration": 32,
    "start_time": "2022-07-14T08:16:00.204Z"
   },
   {
    "duration": 21,
    "start_time": "2022-07-14T08:16:00.238Z"
   },
   {
    "duration": 128,
    "start_time": "2022-07-14T08:16:49.855Z"
   },
   {
    "duration": 14,
    "start_time": "2022-07-14T08:17:02.623Z"
   },
   {
    "duration": 65,
    "start_time": "2022-07-14T08:18:41.637Z"
   },
   {
    "duration": 16,
    "start_time": "2022-07-14T08:20:01.762Z"
   },
   {
    "duration": 17,
    "start_time": "2022-07-14T08:20:12.089Z"
   },
   {
    "duration": 30,
    "start_time": "2022-07-14T08:21:01.635Z"
   },
   {
    "duration": 17,
    "start_time": "2022-07-14T08:21:09.186Z"
   },
   {
    "duration": 29,
    "start_time": "2022-07-14T08:21:56.548Z"
   },
   {
    "duration": 14,
    "start_time": "2022-07-14T08:22:27.908Z"
   },
   {
    "duration": 18,
    "start_time": "2022-07-14T08:22:35.745Z"
   },
   {
    "duration": 15,
    "start_time": "2022-07-14T08:23:07.696Z"
   },
   {
    "duration": 24,
    "start_time": "2022-07-14T08:23:43.292Z"
   },
   {
    "duration": 21,
    "start_time": "2022-07-14T08:23:54.561Z"
   },
   {
    "duration": 4,
    "start_time": "2022-07-14T08:26:39.384Z"
   },
   {
    "duration": 12,
    "start_time": "2022-07-14T08:26:48.928Z"
   },
   {
    "duration": 13,
    "start_time": "2022-07-14T08:28:29.400Z"
   },
   {
    "duration": 1190,
    "start_time": "2022-07-14T08:30:47.092Z"
   },
   {
    "duration": 3,
    "start_time": "2022-07-14T08:30:48.286Z"
   },
   {
    "duration": 84,
    "start_time": "2022-07-14T08:30:48.290Z"
   },
   {
    "duration": 3,
    "start_time": "2022-07-14T08:30:48.376Z"
   },
   {
    "duration": 67,
    "start_time": "2022-07-14T08:30:48.381Z"
   },
   {
    "duration": 4,
    "start_time": "2022-07-14T08:30:48.450Z"
   },
   {
    "duration": 37,
    "start_time": "2022-07-14T08:30:48.456Z"
   },
   {
    "duration": 10,
    "start_time": "2022-07-14T08:30:48.495Z"
   },
   {
    "duration": 6,
    "start_time": "2022-07-14T08:30:48.510Z"
   },
   {
    "duration": 25,
    "start_time": "2022-07-14T08:30:48.519Z"
   },
   {
    "duration": 19,
    "start_time": "2022-07-14T08:30:48.545Z"
   },
   {
    "duration": 25,
    "start_time": "2022-07-14T08:30:48.566Z"
   },
   {
    "duration": 12,
    "start_time": "2022-07-14T08:30:48.593Z"
   },
   {
    "duration": 36,
    "start_time": "2022-07-14T08:30:48.606Z"
   },
   {
    "duration": 20,
    "start_time": "2022-07-14T08:30:48.644Z"
   },
   {
    "duration": 17,
    "start_time": "2022-07-14T08:30:48.667Z"
   },
   {
    "duration": 14,
    "start_time": "2022-07-14T08:30:48.686Z"
   },
   {
    "duration": 16,
    "start_time": "2022-07-14T08:30:48.702Z"
   },
   {
    "duration": 36,
    "start_time": "2022-07-14T08:30:48.720Z"
   },
   {
    "duration": 42,
    "start_time": "2022-07-14T08:30:48.758Z"
   },
   {
    "duration": 6,
    "start_time": "2022-07-14T08:34:04.272Z"
   },
   {
    "duration": 6,
    "start_time": "2022-07-14T08:34:09.196Z"
   },
   {
    "duration": 12,
    "start_time": "2022-07-14T08:34:42.722Z"
   },
   {
    "duration": 1134,
    "start_time": "2022-07-14T08:35:04.582Z"
   },
   {
    "duration": 3,
    "start_time": "2022-07-14T08:35:05.718Z"
   },
   {
    "duration": 93,
    "start_time": "2022-07-14T08:35:05.723Z"
   },
   {
    "duration": 3,
    "start_time": "2022-07-14T08:35:05.819Z"
   },
   {
    "duration": 77,
    "start_time": "2022-07-14T08:35:05.823Z"
   },
   {
    "duration": 5,
    "start_time": "2022-07-14T08:35:05.902Z"
   },
   {
    "duration": 27,
    "start_time": "2022-07-14T08:35:05.910Z"
   },
   {
    "duration": 11,
    "start_time": "2022-07-14T08:35:05.938Z"
   },
   {
    "duration": 12,
    "start_time": "2022-07-14T08:35:05.951Z"
   },
   {
    "duration": 4,
    "start_time": "2022-07-14T08:35:05.966Z"
   },
   {
    "duration": 39,
    "start_time": "2022-07-14T08:35:05.972Z"
   },
   {
    "duration": 24,
    "start_time": "2022-07-14T08:35:06.012Z"
   },
   {
    "duration": 7,
    "start_time": "2022-07-14T08:35:06.038Z"
   },
   {
    "duration": 18,
    "start_time": "2022-07-14T08:35:06.047Z"
   },
   {
    "duration": 15,
    "start_time": "2022-07-14T08:35:06.067Z"
   },
   {
    "duration": 33,
    "start_time": "2022-07-14T08:35:06.084Z"
   },
   {
    "duration": 18,
    "start_time": "2022-07-14T08:35:06.119Z"
   },
   {
    "duration": 15,
    "start_time": "2022-07-14T08:35:06.139Z"
   },
   {
    "duration": 13,
    "start_time": "2022-07-14T08:35:06.156Z"
   },
   {
    "duration": 50,
    "start_time": "2022-07-14T08:35:06.171Z"
   },
   {
    "duration": 15,
    "start_time": "2022-07-14T08:35:06.222Z"
   },
   {
    "duration": 11,
    "start_time": "2022-07-14T08:43:44.597Z"
   },
   {
    "duration": 1080,
    "start_time": "2022-07-14T08:43:50.410Z"
   },
   {
    "duration": 3,
    "start_time": "2022-07-14T08:43:51.492Z"
   },
   {
    "duration": 93,
    "start_time": "2022-07-14T08:43:51.497Z"
   },
   {
    "duration": 5,
    "start_time": "2022-07-14T08:43:51.592Z"
   },
   {
    "duration": 73,
    "start_time": "2022-07-14T08:43:51.599Z"
   },
   {
    "duration": 4,
    "start_time": "2022-07-14T08:43:51.674Z"
   },
   {
    "duration": 33,
    "start_time": "2022-07-14T08:43:51.680Z"
   },
   {
    "duration": 24,
    "start_time": "2022-07-14T08:43:51.715Z"
   },
   {
    "duration": 6,
    "start_time": "2022-07-14T08:43:51.740Z"
   },
   {
    "duration": 10,
    "start_time": "2022-07-14T08:43:51.748Z"
   },
   {
    "duration": 27,
    "start_time": "2022-07-14T08:43:51.760Z"
   },
   {
    "duration": 20,
    "start_time": "2022-07-14T08:43:51.789Z"
   },
   {
    "duration": 4,
    "start_time": "2022-07-14T08:43:51.811Z"
   },
   {
    "duration": 8,
    "start_time": "2022-07-14T08:43:51.817Z"
   },
   {
    "duration": 15,
    "start_time": "2022-07-14T08:43:51.826Z"
   },
   {
    "duration": 38,
    "start_time": "2022-07-14T08:43:51.843Z"
   },
   {
    "duration": 22,
    "start_time": "2022-07-14T08:43:51.883Z"
   },
   {
    "duration": 30,
    "start_time": "2022-07-14T08:43:51.907Z"
   },
   {
    "duration": 39,
    "start_time": "2022-07-14T08:43:51.939Z"
   },
   {
    "duration": 15,
    "start_time": "2022-07-14T08:43:51.980Z"
   },
   {
    "duration": 119,
    "start_time": "2022-07-14T08:44:13.567Z"
   },
   {
    "duration": 5,
    "start_time": "2022-07-14T08:44:25.192Z"
   },
   {
    "duration": 14,
    "start_time": "2022-07-14T08:44:30.694Z"
   },
   {
    "duration": 15,
    "start_time": "2022-07-14T08:45:13.467Z"
   },
   {
    "duration": 19,
    "start_time": "2022-07-14T08:45:31.455Z"
   },
   {
    "duration": 16,
    "start_time": "2022-07-14T08:45:35.339Z"
   },
   {
    "duration": 18,
    "start_time": "2022-07-14T08:46:04.350Z"
   },
   {
    "duration": 24,
    "start_time": "2022-07-14T08:46:23.057Z"
   },
   {
    "duration": 16,
    "start_time": "2022-07-14T08:46:33.677Z"
   },
   {
    "duration": 12,
    "start_time": "2022-07-14T08:46:55.580Z"
   },
   {
    "duration": 18,
    "start_time": "2022-07-14T08:50:05.653Z"
   },
   {
    "duration": 19,
    "start_time": "2022-07-14T08:50:14.412Z"
   },
   {
    "duration": 80,
    "start_time": "2022-07-14T08:50:33.045Z"
   },
   {
    "duration": 7,
    "start_time": "2022-07-14T08:52:13.019Z"
   },
   {
    "duration": 16,
    "start_time": "2022-07-14T08:52:20.505Z"
   },
   {
    "duration": 9,
    "start_time": "2022-07-14T08:54:52.623Z"
   },
   {
    "duration": 15,
    "start_time": "2022-07-14T08:54:59.856Z"
   },
   {
    "duration": 15,
    "start_time": "2022-07-14T08:56:15.114Z"
   },
   {
    "duration": 12,
    "start_time": "2022-07-14T08:56:17.893Z"
   },
   {
    "duration": 12,
    "start_time": "2022-07-14T08:57:28.997Z"
   },
   {
    "duration": 22,
    "start_time": "2022-07-14T08:57:38.432Z"
   },
   {
    "duration": 17,
    "start_time": "2022-07-14T08:57:40.339Z"
   },
   {
    "duration": 1081,
    "start_time": "2022-07-14T08:57:54.117Z"
   },
   {
    "duration": 2,
    "start_time": "2022-07-14T08:57:55.200Z"
   },
   {
    "duration": 100,
    "start_time": "2022-07-14T08:57:55.204Z"
   },
   {
    "duration": 4,
    "start_time": "2022-07-14T08:57:55.306Z"
   },
   {
    "duration": 62,
    "start_time": "2022-07-14T08:57:55.312Z"
   },
   {
    "duration": 5,
    "start_time": "2022-07-14T08:57:55.376Z"
   },
   {
    "duration": 44,
    "start_time": "2022-07-14T08:57:55.383Z"
   },
   {
    "duration": 6,
    "start_time": "2022-07-14T08:57:55.429Z"
   },
   {
    "duration": 14,
    "start_time": "2022-07-14T08:57:55.437Z"
   },
   {
    "duration": 5,
    "start_time": "2022-07-14T08:57:55.454Z"
   },
   {
    "duration": 15,
    "start_time": "2022-07-14T08:57:55.461Z"
   },
   {
    "duration": 41,
    "start_time": "2022-07-14T08:57:55.478Z"
   },
   {
    "duration": 5,
    "start_time": "2022-07-14T08:57:55.521Z"
   },
   {
    "duration": 9,
    "start_time": "2022-07-14T08:57:55.527Z"
   },
   {
    "duration": 12,
    "start_time": "2022-07-14T08:57:55.538Z"
   },
   {
    "duration": 13,
    "start_time": "2022-07-14T08:57:55.552Z"
   },
   {
    "duration": 16,
    "start_time": "2022-07-14T08:57:55.567Z"
   },
   {
    "duration": 40,
    "start_time": "2022-07-14T08:57:55.584Z"
   },
   {
    "duration": 30,
    "start_time": "2022-07-14T08:57:55.626Z"
   },
   {
    "duration": 16,
    "start_time": "2022-07-14T08:57:55.658Z"
   },
   {
    "duration": 50,
    "start_time": "2022-07-14T08:57:55.676Z"
   },
   {
    "duration": 15,
    "start_time": "2022-07-14T08:57:55.728Z"
   },
   {
    "duration": 18,
    "start_time": "2022-07-14T08:57:55.745Z"
   },
   {
    "duration": 1221,
    "start_time": "2022-07-14T08:58:49.080Z"
   },
   {
    "duration": 16,
    "start_time": "2022-07-14T08:58:57.696Z"
   },
   {
    "duration": 12,
    "start_time": "2022-07-14T08:58:59.529Z"
   },
   {
    "duration": 54,
    "start_time": "2022-07-14T09:07:27.023Z"
   },
   {
    "duration": 7,
    "start_time": "2022-07-14T09:07:49.317Z"
   },
   {
    "duration": 48,
    "start_time": "2022-07-14T09:09:30.648Z"
   },
   {
    "duration": 27,
    "start_time": "2022-07-14T09:10:48.145Z"
   },
   {
    "duration": 156,
    "start_time": "2022-07-14T09:11:35.852Z"
   },
   {
    "duration": 154,
    "start_time": "2022-07-14T09:11:53.692Z"
   },
   {
    "duration": 116,
    "start_time": "2022-07-14T09:12:58.802Z"
   },
   {
    "duration": 129,
    "start_time": "2022-07-14T09:13:08.597Z"
   },
   {
    "duration": 16,
    "start_time": "2022-07-14T09:15:22.421Z"
   },
   {
    "duration": 275,
    "start_time": "2022-07-14T09:16:45.660Z"
   },
   {
    "duration": 182,
    "start_time": "2022-07-14T09:17:38.118Z"
   },
   {
    "duration": 194,
    "start_time": "2022-07-14T09:17:57.045Z"
   },
   {
    "duration": 180,
    "start_time": "2022-07-14T09:18:23.369Z"
   },
   {
    "duration": 184,
    "start_time": "2022-07-14T09:18:33.288Z"
   },
   {
    "duration": 189,
    "start_time": "2022-07-14T09:18:42.289Z"
   },
   {
    "duration": 268,
    "start_time": "2022-07-14T09:22:28.702Z"
   },
   {
    "duration": 201,
    "start_time": "2022-07-14T09:24:57.934Z"
   },
   {
    "duration": 203,
    "start_time": "2022-07-14T09:25:19.621Z"
   },
   {
    "duration": 290,
    "start_time": "2022-07-14T09:25:37.664Z"
   },
   {
    "duration": 155,
    "start_time": "2022-07-14T09:26:06.823Z"
   },
   {
    "duration": 229,
    "start_time": "2022-07-14T09:26:25.366Z"
   },
   {
    "duration": 198,
    "start_time": "2022-07-14T09:26:36.253Z"
   },
   {
    "duration": 210,
    "start_time": "2022-07-14T09:26:43.404Z"
   },
   {
    "duration": 204,
    "start_time": "2022-07-14T09:27:03.713Z"
   },
   {
    "duration": 207,
    "start_time": "2022-07-14T09:27:09.938Z"
   },
   {
    "duration": 204,
    "start_time": "2022-07-14T09:28:16.413Z"
   },
   {
    "duration": 281,
    "start_time": "2022-07-14T09:28:27.584Z"
   },
   {
    "duration": 218,
    "start_time": "2022-07-14T09:30:32.130Z"
   },
   {
    "duration": 252,
    "start_time": "2022-07-14T09:30:54.507Z"
   },
   {
    "duration": 268,
    "start_time": "2022-07-14T09:31:05.976Z"
   },
   {
    "duration": 257,
    "start_time": "2022-07-14T09:31:10.237Z"
   },
   {
    "duration": 261,
    "start_time": "2022-07-14T09:31:23.766Z"
   },
   {
    "duration": 218,
    "start_time": "2022-07-14T09:31:37.327Z"
   },
   {
    "duration": 257,
    "start_time": "2022-07-14T09:31:46.191Z"
   },
   {
    "duration": 235,
    "start_time": "2022-07-14T09:31:53.034Z"
   },
   {
    "duration": 233,
    "start_time": "2022-07-14T09:33:24.700Z"
   },
   {
    "duration": 259,
    "start_time": "2022-07-14T09:33:36.583Z"
   },
   {
    "duration": 382,
    "start_time": "2022-07-14T09:33:50.463Z"
   },
   {
    "duration": 230,
    "start_time": "2022-07-14T09:34:00.552Z"
   },
   {
    "duration": 190,
    "start_time": "2022-07-14T09:42:13.070Z"
   },
   {
    "duration": 208,
    "start_time": "2022-07-14T09:42:39.131Z"
   },
   {
    "duration": 205,
    "start_time": "2022-07-14T09:42:46.236Z"
   },
   {
    "duration": 235,
    "start_time": "2022-07-14T09:42:56.902Z"
   },
   {
    "duration": 208,
    "start_time": "2022-07-14T09:43:16.466Z"
   },
   {
    "duration": 203,
    "start_time": "2022-07-14T09:43:24.358Z"
   },
   {
    "duration": 253,
    "start_time": "2022-07-14T09:43:41.392Z"
   },
   {
    "duration": 215,
    "start_time": "2022-07-14T09:43:52.165Z"
   },
   {
    "duration": 265,
    "start_time": "2022-07-14T10:00:30.221Z"
   },
   {
    "duration": 410,
    "start_time": "2022-07-14T10:00:42.721Z"
   },
   {
    "duration": 239,
    "start_time": "2022-07-14T10:01:55.353Z"
   },
   {
    "duration": 272,
    "start_time": "2022-07-14T10:02:07.517Z"
   },
   {
    "duration": 264,
    "start_time": "2022-07-14T10:02:13.953Z"
   },
   {
    "duration": 228,
    "start_time": "2022-07-14T10:02:28.158Z"
   },
   {
    "duration": 364,
    "start_time": "2022-07-14T10:02:40.787Z"
   },
   {
    "duration": 321,
    "start_time": "2022-07-14T10:02:49.980Z"
   },
   {
    "duration": 305,
    "start_time": "2022-07-14T10:02:53.422Z"
   },
   {
    "duration": 379,
    "start_time": "2022-07-14T10:03:48.069Z"
   },
   {
    "duration": 48,
    "start_time": "2022-07-14T10:05:09.558Z"
   },
   {
    "duration": 1194,
    "start_time": "2022-07-14T10:05:14.725Z"
   },
   {
    "duration": 47,
    "start_time": "2022-07-14T10:05:15.922Z"
   },
   {
    "duration": 3,
    "start_time": "2022-07-14T10:05:15.971Z"
   },
   {
    "duration": 95,
    "start_time": "2022-07-14T10:05:15.976Z"
   },
   {
    "duration": 3,
    "start_time": "2022-07-14T10:05:16.073Z"
   },
   {
    "duration": 71,
    "start_time": "2022-07-14T10:05:16.077Z"
   },
   {
    "duration": 4,
    "start_time": "2022-07-14T10:05:16.149Z"
   },
   {
    "duration": 27,
    "start_time": "2022-07-14T10:05:16.155Z"
   },
   {
    "duration": 5,
    "start_time": "2022-07-14T10:05:16.184Z"
   },
   {
    "duration": 11,
    "start_time": "2022-07-14T10:05:16.214Z"
   },
   {
    "duration": 6,
    "start_time": "2022-07-14T10:05:16.227Z"
   },
   {
    "duration": 15,
    "start_time": "2022-07-14T10:05:16.235Z"
   },
   {
    "duration": 21,
    "start_time": "2022-07-14T10:05:16.251Z"
   },
   {
    "duration": 4,
    "start_time": "2022-07-14T10:05:16.274Z"
   },
   {
    "duration": 8,
    "start_time": "2022-07-14T10:05:16.280Z"
   },
   {
    "duration": 40,
    "start_time": "2022-07-14T10:05:16.289Z"
   },
   {
    "duration": 17,
    "start_time": "2022-07-14T10:05:16.331Z"
   },
   {
    "duration": 22,
    "start_time": "2022-07-14T10:05:16.350Z"
   },
   {
    "duration": 48,
    "start_time": "2022-07-14T10:05:16.374Z"
   },
   {
    "duration": 24,
    "start_time": "2022-07-14T10:05:16.424Z"
   },
   {
    "duration": 73,
    "start_time": "2022-07-14T10:05:16.449Z"
   },
   {
    "duration": 34,
    "start_time": "2022-07-14T10:05:16.524Z"
   },
   {
    "duration": 71,
    "start_time": "2022-07-14T10:05:16.559Z"
   },
   {
    "duration": 21,
    "start_time": "2022-07-14T10:05:16.632Z"
   },
   {
    "duration": 8,
    "start_time": "2022-07-14T10:05:16.654Z"
   },
   {
    "duration": 382,
    "start_time": "2022-07-14T10:05:16.664Z"
   },
   {
    "duration": 307,
    "start_time": "2022-07-14T10:05:17.048Z"
   },
   {
    "duration": 66,
    "start_time": "2022-07-14T10:05:17.358Z"
   },
   {
    "duration": 694,
    "start_time": "2022-07-14T10:05:17.427Z"
   },
   {
    "duration": 377,
    "start_time": "2022-07-14T10:05:18.128Z"
   },
   {
    "duration": 340,
    "start_time": "2022-07-14T10:05:18.507Z"
   },
   {
    "duration": 1104,
    "start_time": "2022-07-14T10:10:11.458Z"
   },
   {
    "duration": 1152,
    "start_time": "2022-07-14T10:10:37.472Z"
   },
   {
    "duration": 4,
    "start_time": "2022-07-14T10:10:38.627Z"
   },
   {
    "duration": 91,
    "start_time": "2022-07-14T10:10:38.633Z"
   },
   {
    "duration": 3,
    "start_time": "2022-07-14T10:10:38.726Z"
   },
   {
    "duration": 71,
    "start_time": "2022-07-14T10:10:38.731Z"
   },
   {
    "duration": 14,
    "start_time": "2022-07-14T10:10:38.804Z"
   },
   {
    "duration": 33,
    "start_time": "2022-07-14T10:10:38.824Z"
   },
   {
    "duration": 12,
    "start_time": "2022-07-14T10:10:38.859Z"
   },
   {
    "duration": 17,
    "start_time": "2022-07-14T10:10:38.873Z"
   },
   {
    "duration": 13,
    "start_time": "2022-07-14T10:10:38.893Z"
   },
   {
    "duration": 35,
    "start_time": "2022-07-14T10:10:38.908Z"
   },
   {
    "duration": 44,
    "start_time": "2022-07-14T10:10:38.945Z"
   },
   {
    "duration": 5,
    "start_time": "2022-07-14T10:10:38.990Z"
   },
   {
    "duration": 11,
    "start_time": "2022-07-14T10:10:38.997Z"
   },
   {
    "duration": 27,
    "start_time": "2022-07-14T10:10:39.010Z"
   },
   {
    "duration": 13,
    "start_time": "2022-07-14T10:10:39.038Z"
   },
   {
    "duration": 12,
    "start_time": "2022-07-14T10:10:39.052Z"
   },
   {
    "duration": 13,
    "start_time": "2022-07-14T10:10:39.066Z"
   },
   {
    "duration": 29,
    "start_time": "2022-07-14T10:10:39.080Z"
   },
   {
    "duration": 17,
    "start_time": "2022-07-14T10:10:39.116Z"
   },
   {
    "duration": 18,
    "start_time": "2022-07-14T10:10:39.134Z"
   },
   {
    "duration": 16,
    "start_time": "2022-07-14T10:10:39.153Z"
   },
   {
    "duration": 13,
    "start_time": "2022-07-14T10:10:39.170Z"
   },
   {
    "duration": 14,
    "start_time": "2022-07-14T10:10:39.209Z"
   },
   {
    "duration": 183,
    "start_time": "2022-07-14T10:10:39.224Z"
   },
   {
    "duration": 139,
    "start_time": "2022-07-14T10:10:39.409Z"
   },
   {
    "duration": 12,
    "start_time": "2022-07-14T10:10:39.550Z"
   },
   {
    "duration": 322,
    "start_time": "2022-07-14T10:10:39.565Z"
   },
   {
    "duration": 257,
    "start_time": "2022-07-14T10:10:39.889Z"
   },
   {
    "duration": 309,
    "start_time": "2022-07-14T10:10:40.148Z"
   },
   {
    "duration": 1206,
    "start_time": "2022-07-14T10:10:40.459Z"
   },
   {
    "duration": 187,
    "start_time": "2022-07-14T10:11:07.705Z"
   },
   {
    "duration": 170,
    "start_time": "2022-07-14T10:14:03.825Z"
   },
   {
    "duration": 243,
    "start_time": "2022-07-14T10:14:31.922Z"
   },
   {
    "duration": 309,
    "start_time": "2022-07-14T10:15:41.581Z"
   },
   {
    "duration": 263,
    "start_time": "2022-07-14T10:16:19.098Z"
   },
   {
    "duration": 198,
    "start_time": "2022-07-14T10:18:56.960Z"
   },
   {
    "duration": 209,
    "start_time": "2022-07-14T10:19:04.216Z"
   },
   {
    "duration": 311,
    "start_time": "2022-07-14T10:31:10.508Z"
   },
   {
    "duration": 312,
    "start_time": "2022-07-14T10:31:16.787Z"
   },
   {
    "duration": 286,
    "start_time": "2022-07-14T10:31:48.525Z"
   },
   {
    "duration": 285,
    "start_time": "2022-07-14T10:32:36.072Z"
   },
   {
    "duration": 267,
    "start_time": "2022-07-14T10:33:02.454Z"
   },
   {
    "duration": 276,
    "start_time": "2022-07-14T10:33:34.371Z"
   },
   {
    "duration": 290,
    "start_time": "2022-07-14T10:33:43.303Z"
   },
   {
    "duration": 315,
    "start_time": "2022-07-14T10:33:55.097Z"
   },
   {
    "duration": 401,
    "start_time": "2022-07-14T10:35:43.069Z"
   },
   {
    "duration": 10,
    "start_time": "2022-07-14T11:38:38.162Z"
   },
   {
    "duration": 15,
    "start_time": "2022-07-14T11:38:46.339Z"
   },
   {
    "duration": 11,
    "start_time": "2022-07-14T11:40:10.258Z"
   },
   {
    "duration": 11,
    "start_time": "2022-07-14T11:50:56.648Z"
   },
   {
    "duration": 128,
    "start_time": "2022-07-14T11:51:48.988Z"
   },
   {
    "duration": 119,
    "start_time": "2022-07-14T11:51:57.673Z"
   },
   {
    "duration": 131,
    "start_time": "2022-07-14T11:52:00.986Z"
   },
   {
    "duration": 4,
    "start_time": "2022-07-14T11:53:00.893Z"
   },
   {
    "duration": 11,
    "start_time": "2022-07-14T11:56:46.136Z"
   },
   {
    "duration": 101,
    "start_time": "2022-07-14T11:56:53.769Z"
   },
   {
    "duration": 6,
    "start_time": "2022-07-14T12:02:01.474Z"
   },
   {
    "duration": 149,
    "start_time": "2022-07-14T12:12:18.010Z"
   },
   {
    "duration": 123,
    "start_time": "2022-07-14T12:13:25.949Z"
   },
   {
    "duration": 156,
    "start_time": "2022-07-14T12:13:51.620Z"
   },
   {
    "duration": 5,
    "start_time": "2022-07-14T12:16:01.048Z"
   },
   {
    "duration": 106,
    "start_time": "2022-07-14T12:19:30.370Z"
   },
   {
    "duration": 120,
    "start_time": "2022-07-14T12:19:36.849Z"
   },
   {
    "duration": 4,
    "start_time": "2022-07-14T12:19:50.021Z"
   },
   {
    "duration": 10,
    "start_time": "2022-07-14T12:23:03.539Z"
   },
   {
    "duration": 109,
    "start_time": "2022-07-14T12:23:06.464Z"
   },
   {
    "duration": 11,
    "start_time": "2022-07-14T12:23:11.229Z"
   },
   {
    "duration": 105,
    "start_time": "2022-07-14T12:23:13.350Z"
   },
   {
    "duration": 11,
    "start_time": "2022-07-14T12:23:18.474Z"
   },
   {
    "duration": 1197,
    "start_time": "2022-07-14T12:23:33.725Z"
   },
   {
    "duration": 3,
    "start_time": "2022-07-14T12:23:34.925Z"
   },
   {
    "duration": 124,
    "start_time": "2022-07-14T12:23:34.929Z"
   },
   {
    "duration": 4,
    "start_time": "2022-07-14T12:23:35.055Z"
   },
   {
    "duration": 74,
    "start_time": "2022-07-14T12:23:35.061Z"
   },
   {
    "duration": 5,
    "start_time": "2022-07-14T12:23:35.136Z"
   },
   {
    "duration": 37,
    "start_time": "2022-07-14T12:23:35.142Z"
   },
   {
    "duration": 23,
    "start_time": "2022-07-14T12:23:35.180Z"
   },
   {
    "duration": 33,
    "start_time": "2022-07-14T12:23:35.205Z"
   },
   {
    "duration": 14,
    "start_time": "2022-07-14T12:23:35.240Z"
   },
   {
    "duration": 47,
    "start_time": "2022-07-14T12:23:35.256Z"
   },
   {
    "duration": 58,
    "start_time": "2022-07-14T12:23:35.304Z"
   },
   {
    "duration": 18,
    "start_time": "2022-07-14T12:23:35.364Z"
   },
   {
    "duration": 20,
    "start_time": "2022-07-14T12:23:35.385Z"
   },
   {
    "duration": 40,
    "start_time": "2022-07-14T12:23:35.406Z"
   },
   {
    "duration": 24,
    "start_time": "2022-07-14T12:23:35.448Z"
   },
   {
    "duration": 41,
    "start_time": "2022-07-14T12:23:35.473Z"
   },
   {
    "duration": 27,
    "start_time": "2022-07-14T12:23:35.520Z"
   },
   {
    "duration": 49,
    "start_time": "2022-07-14T12:23:35.549Z"
   },
   {
    "duration": 18,
    "start_time": "2022-07-14T12:23:35.600Z"
   },
   {
    "duration": 27,
    "start_time": "2022-07-14T12:23:35.622Z"
   },
   {
    "duration": 37,
    "start_time": "2022-07-14T12:23:35.651Z"
   },
   {
    "duration": 45,
    "start_time": "2022-07-14T12:23:35.690Z"
   },
   {
    "duration": 27,
    "start_time": "2022-07-14T12:23:35.736Z"
   },
   {
    "duration": 198,
    "start_time": "2022-07-14T12:23:35.764Z"
   },
   {
    "duration": 126,
    "start_time": "2022-07-14T12:23:35.964Z"
   },
   {
    "duration": 30,
    "start_time": "2022-07-14T12:23:36.092Z"
   },
   {
    "duration": 331,
    "start_time": "2022-07-14T12:23:36.126Z"
   },
   {
    "duration": 231,
    "start_time": "2022-07-14T12:23:36.458Z"
   },
   {
    "duration": 338,
    "start_time": "2022-07-14T12:23:36.691Z"
   },
   {
    "duration": 242,
    "start_time": "2022-07-14T12:23:37.031Z"
   },
   {
    "duration": 349,
    "start_time": "2022-07-14T12:23:37.275Z"
   },
   {
    "duration": 114,
    "start_time": "2022-07-14T12:23:37.626Z"
   },
   {
    "duration": 0,
    "start_time": "2022-07-14T12:23:37.742Z"
   },
   {
    "duration": 0,
    "start_time": "2022-07-14T12:23:37.743Z"
   },
   {
    "duration": 0,
    "start_time": "2022-07-14T12:23:37.744Z"
   },
   {
    "duration": 0,
    "start_time": "2022-07-14T12:23:37.745Z"
   },
   {
    "duration": 0,
    "start_time": "2022-07-14T12:23:37.746Z"
   },
   {
    "duration": 0,
    "start_time": "2022-07-14T12:23:37.748Z"
   },
   {
    "duration": 12,
    "start_time": "2022-07-14T12:25:59.485Z"
   },
   {
    "duration": 10,
    "start_time": "2022-07-14T12:26:05.553Z"
   },
   {
    "duration": 124,
    "start_time": "2022-07-14T12:26:08.532Z"
   },
   {
    "duration": 12,
    "start_time": "2022-07-14T12:26:21.275Z"
   },
   {
    "duration": 176,
    "start_time": "2022-07-14T12:26:28.198Z"
   },
   {
    "duration": 102,
    "start_time": "2022-07-14T12:26:33.039Z"
   },
   {
    "duration": 4,
    "start_time": "2022-07-14T12:26:41.731Z"
   },
   {
    "duration": 121,
    "start_time": "2022-07-14T12:28:49.498Z"
   },
   {
    "duration": 4,
    "start_time": "2022-07-14T12:29:03.022Z"
   },
   {
    "duration": 5,
    "start_time": "2022-07-14T12:42:39.061Z"
   },
   {
    "duration": 5,
    "start_time": "2022-07-14T12:42:46.036Z"
   },
   {
    "duration": 113,
    "start_time": "2022-07-14T12:45:11.013Z"
   },
   {
    "duration": 148,
    "start_time": "2022-07-14T12:48:15.346Z"
   },
   {
    "duration": 221,
    "start_time": "2022-07-14T12:49:42.796Z"
   },
   {
    "duration": 128,
    "start_time": "2022-07-14T12:54:20.824Z"
   },
   {
    "duration": 164,
    "start_time": "2022-07-14T12:54:41.547Z"
   },
   {
    "duration": 180,
    "start_time": "2022-07-14T12:55:04.750Z"
   },
   {
    "duration": 126,
    "start_time": "2022-07-14T12:55:19.383Z"
   },
   {
    "duration": 26,
    "start_time": "2022-07-14T12:55:45.327Z"
   },
   {
    "duration": 121,
    "start_time": "2022-07-14T12:56:20.391Z"
   },
   {
    "duration": 118,
    "start_time": "2022-07-14T12:56:32.899Z"
   },
   {
    "duration": 6,
    "start_time": "2022-07-14T12:57:17.592Z"
   },
   {
    "duration": 22,
    "start_time": "2022-07-14T13:00:57.936Z"
   },
   {
    "duration": 23,
    "start_time": "2022-07-14T13:01:58.392Z"
   },
   {
    "duration": 29,
    "start_time": "2022-07-14T13:02:48.926Z"
   },
   {
    "duration": 29,
    "start_time": "2022-07-14T13:03:12.086Z"
   },
   {
    "duration": 41,
    "start_time": "2022-07-14T13:04:09.949Z"
   },
   {
    "duration": 10,
    "start_time": "2022-07-14T13:09:33.084Z"
   },
   {
    "duration": 10,
    "start_time": "2022-07-14T13:09:38.338Z"
   },
   {
    "duration": 10,
    "start_time": "2022-07-14T13:10:21.926Z"
   },
   {
    "duration": 9,
    "start_time": "2022-07-14T13:11:19.959Z"
   },
   {
    "duration": 58,
    "start_time": "2022-07-14T13:11:30.061Z"
   },
   {
    "duration": 8,
    "start_time": "2022-07-14T13:11:35.879Z"
   },
   {
    "duration": 3,
    "start_time": "2022-07-14T13:11:59.899Z"
   },
   {
    "duration": 4,
    "start_time": "2022-07-14T13:12:28.388Z"
   },
   {
    "duration": 5,
    "start_time": "2022-07-14T13:13:44.089Z"
   },
   {
    "duration": 950,
    "start_time": "2022-07-14T13:34:56.360Z"
   },
   {
    "duration": 1185,
    "start_time": "2022-07-14T13:35:27.125Z"
   },
   {
    "duration": 1144,
    "start_time": "2022-07-14T13:36:17.562Z"
   },
   {
    "duration": 127,
    "start_time": "2022-07-14T13:36:52.356Z"
   },
   {
    "duration": 6,
    "start_time": "2022-07-14T13:36:57.058Z"
   },
   {
    "duration": 38,
    "start_time": "2022-07-14T13:36:59.291Z"
   },
   {
    "duration": 9,
    "start_time": "2022-07-14T13:37:01.336Z"
   },
   {
    "duration": 5,
    "start_time": "2022-07-14T13:37:02.620Z"
   },
   {
    "duration": 940,
    "start_time": "2022-07-14T13:37:08.116Z"
   },
   {
    "duration": 997,
    "start_time": "2022-07-14T13:37:26.193Z"
   },
   {
    "duration": 1082,
    "start_time": "2022-07-14T13:37:48.155Z"
   },
   {
    "duration": 1162,
    "start_time": "2022-07-14T13:38:13.160Z"
   },
   {
    "duration": 3,
    "start_time": "2022-07-14T13:38:14.324Z"
   },
   {
    "duration": 102,
    "start_time": "2022-07-14T13:38:14.329Z"
   },
   {
    "duration": 4,
    "start_time": "2022-07-14T13:38:14.434Z"
   },
   {
    "duration": 100,
    "start_time": "2022-07-14T13:38:14.440Z"
   },
   {
    "duration": 6,
    "start_time": "2022-07-14T13:38:14.541Z"
   },
   {
    "duration": 32,
    "start_time": "2022-07-14T13:38:14.548Z"
   },
   {
    "duration": 24,
    "start_time": "2022-07-14T13:38:14.581Z"
   },
   {
    "duration": 15,
    "start_time": "2022-07-14T13:38:14.607Z"
   },
   {
    "duration": 17,
    "start_time": "2022-07-14T13:38:14.625Z"
   },
   {
    "duration": 41,
    "start_time": "2022-07-14T13:38:14.644Z"
   },
   {
    "duration": 33,
    "start_time": "2022-07-14T13:38:14.687Z"
   },
   {
    "duration": 20,
    "start_time": "2022-07-14T13:38:14.722Z"
   },
   {
    "duration": 39,
    "start_time": "2022-07-14T13:38:14.744Z"
   },
   {
    "duration": 23,
    "start_time": "2022-07-14T13:38:14.785Z"
   },
   {
    "duration": 30,
    "start_time": "2022-07-14T13:38:14.811Z"
   },
   {
    "duration": 34,
    "start_time": "2022-07-14T13:38:14.843Z"
   },
   {
    "duration": 28,
    "start_time": "2022-07-14T13:38:14.879Z"
   },
   {
    "duration": 69,
    "start_time": "2022-07-14T13:38:14.909Z"
   },
   {
    "duration": 27,
    "start_time": "2022-07-14T13:38:14.980Z"
   },
   {
    "duration": 52,
    "start_time": "2022-07-14T13:38:15.009Z"
   },
   {
    "duration": 33,
    "start_time": "2022-07-14T13:38:15.063Z"
   },
   {
    "duration": 30,
    "start_time": "2022-07-14T13:38:15.098Z"
   },
   {
    "duration": 34,
    "start_time": "2022-07-14T13:38:15.131Z"
   },
   {
    "duration": 220,
    "start_time": "2022-07-14T13:38:15.167Z"
   },
   {
    "duration": 144,
    "start_time": "2022-07-14T13:38:15.389Z"
   },
   {
    "duration": 13,
    "start_time": "2022-07-14T13:38:15.534Z"
   },
   {
    "duration": 331,
    "start_time": "2022-07-14T13:38:15.552Z"
   },
   {
    "duration": 228,
    "start_time": "2022-07-14T13:38:15.884Z"
   },
   {
    "duration": 330,
    "start_time": "2022-07-14T13:38:16.114Z"
   },
   {
    "duration": 234,
    "start_time": "2022-07-14T13:38:16.446Z"
   },
   {
    "duration": 356,
    "start_time": "2022-07-14T13:38:16.683Z"
   },
   {
    "duration": 12,
    "start_time": "2022-07-14T13:38:17.040Z"
   },
   {
    "duration": 155,
    "start_time": "2022-07-14T13:38:17.054Z"
   },
   {
    "duration": 14,
    "start_time": "2022-07-14T13:38:17.212Z"
   },
   {
    "duration": 191,
    "start_time": "2022-07-14T13:38:17.228Z"
   },
   {
    "duration": 6,
    "start_time": "2022-07-14T13:38:17.421Z"
   },
   {
    "duration": 161,
    "start_time": "2022-07-14T13:38:17.429Z"
   },
   {
    "duration": 5,
    "start_time": "2022-07-14T13:38:17.594Z"
   },
   {
    "duration": 240,
    "start_time": "2022-07-14T13:38:17.610Z"
   },
   {
    "duration": 162,
    "start_time": "2022-07-14T13:38:17.852Z"
   },
   {
    "duration": 8,
    "start_time": "2022-07-14T13:38:18.016Z"
   },
   {
    "duration": 55,
    "start_time": "2022-07-14T13:38:18.026Z"
   },
   {
    "duration": 10,
    "start_time": "2022-07-14T13:38:18.083Z"
   },
   {
    "duration": 33,
    "start_time": "2022-07-14T13:38:18.095Z"
   },
   {
    "duration": 984,
    "start_time": "2022-07-14T13:38:18.131Z"
   },
   {
    "duration": 941,
    "start_time": "2022-07-14T13:38:36.681Z"
   },
   {
    "duration": 753,
    "start_time": "2022-07-14T13:40:56.035Z"
   },
   {
    "duration": 141,
    "start_time": "2022-07-14T13:41:57.374Z"
   },
   {
    "duration": 7,
    "start_time": "2022-07-14T13:42:00.973Z"
   },
   {
    "duration": 39,
    "start_time": "2022-07-14T13:42:02.443Z"
   },
   {
    "duration": 12,
    "start_time": "2022-07-14T13:42:04.638Z"
   },
   {
    "duration": 5,
    "start_time": "2022-07-14T13:42:05.676Z"
   },
   {
    "duration": 784,
    "start_time": "2022-07-14T13:42:07.114Z"
   },
   {
    "duration": 10,
    "start_time": "2022-07-14T13:42:28.603Z"
   },
   {
    "duration": 11,
    "start_time": "2022-07-14T13:42:43.417Z"
   },
   {
    "duration": 56,
    "start_time": "2022-07-14T13:43:47.095Z"
   },
   {
    "duration": 106,
    "start_time": "2022-07-14T13:45:20.452Z"
   },
   {
    "duration": 7,
    "start_time": "2022-07-14T13:46:40.658Z"
   },
   {
    "duration": 9,
    "start_time": "2022-07-14T13:47:17.367Z"
   },
   {
    "duration": 27,
    "start_time": "2022-07-14T13:47:22.931Z"
   },
   {
    "duration": 41,
    "start_time": "2022-07-14T13:48:33.508Z"
   },
   {
    "duration": 5,
    "start_time": "2022-07-14T13:48:40.872Z"
   },
   {
    "duration": 40,
    "start_time": "2022-07-14T13:49:26.513Z"
   },
   {
    "duration": 39,
    "start_time": "2022-07-14T13:49:49.960Z"
   },
   {
    "duration": 57,
    "start_time": "2022-07-14T13:50:46.609Z"
   },
   {
    "duration": 10,
    "start_time": "2022-07-14T13:56:10.154Z"
   },
   {
    "duration": 14,
    "start_time": "2022-07-14T13:56:35.624Z"
   },
   {
    "duration": 4,
    "start_time": "2022-07-14T13:57:05.077Z"
   },
   {
    "duration": 17,
    "start_time": "2022-07-14T13:57:07.481Z"
   },
   {
    "duration": 5,
    "start_time": "2022-07-14T14:00:02.941Z"
   },
   {
    "duration": 8,
    "start_time": "2022-07-14T14:00:19.215Z"
   },
   {
    "duration": 6,
    "start_time": "2022-07-14T14:01:03.944Z"
   },
   {
    "duration": 11,
    "start_time": "2022-07-14T14:11:21.317Z"
   },
   {
    "duration": 7,
    "start_time": "2022-07-14T14:11:29.014Z"
   },
   {
    "duration": 14,
    "start_time": "2022-07-14T14:11:29.849Z"
   },
   {
    "duration": 7,
    "start_time": "2022-07-14T14:11:47.629Z"
   },
   {
    "duration": 45,
    "start_time": "2022-07-14T14:12:14.984Z"
   },
   {
    "duration": 9,
    "start_time": "2022-07-14T14:12:16.971Z"
   },
   {
    "duration": 6,
    "start_time": "2022-07-14T14:12:18.697Z"
   },
   {
    "duration": 6,
    "start_time": "2022-07-14T14:12:21.419Z"
   },
   {
    "duration": 51,
    "start_time": "2022-07-14T14:13:32.188Z"
   },
   {
    "duration": 3,
    "start_time": "2022-07-14T15:02:10.344Z"
   },
   {
    "duration": 1046,
    "start_time": "2022-07-14T15:02:16.407Z"
   },
   {
    "duration": 3,
    "start_time": "2022-07-14T15:02:17.455Z"
   },
   {
    "duration": 86,
    "start_time": "2022-07-14T15:02:17.459Z"
   },
   {
    "duration": 3,
    "start_time": "2022-07-14T15:02:17.547Z"
   },
   {
    "duration": 65,
    "start_time": "2022-07-14T15:02:17.551Z"
   },
   {
    "duration": 4,
    "start_time": "2022-07-14T15:02:17.618Z"
   },
   {
    "duration": 35,
    "start_time": "2022-07-14T15:02:17.623Z"
   },
   {
    "duration": 6,
    "start_time": "2022-07-14T15:02:17.660Z"
   },
   {
    "duration": 11,
    "start_time": "2022-07-14T15:02:17.668Z"
   },
   {
    "duration": 6,
    "start_time": "2022-07-14T15:02:17.682Z"
   },
   {
    "duration": 27,
    "start_time": "2022-07-14T15:02:17.689Z"
   },
   {
    "duration": 18,
    "start_time": "2022-07-14T15:02:17.717Z"
   },
   {
    "duration": 5,
    "start_time": "2022-07-14T15:02:17.737Z"
   },
   {
    "duration": 8,
    "start_time": "2022-07-14T15:02:17.743Z"
   },
   {
    "duration": 31,
    "start_time": "2022-07-14T15:02:17.752Z"
   },
   {
    "duration": 17,
    "start_time": "2022-07-14T15:02:17.785Z"
   },
   {
    "duration": 11,
    "start_time": "2022-07-14T15:02:17.809Z"
   },
   {
    "duration": 14,
    "start_time": "2022-07-14T15:02:17.822Z"
   },
   {
    "duration": 27,
    "start_time": "2022-07-14T15:02:17.838Z"
   },
   {
    "duration": 11,
    "start_time": "2022-07-14T15:02:17.866Z"
   },
   {
    "duration": 41,
    "start_time": "2022-07-14T15:02:17.878Z"
   },
   {
    "duration": 15,
    "start_time": "2022-07-14T15:02:17.920Z"
   },
   {
    "duration": 14,
    "start_time": "2022-07-14T15:02:17.936Z"
   },
   {
    "duration": 7,
    "start_time": "2022-07-14T15:02:17.952Z"
   },
   {
    "duration": 174,
    "start_time": "2022-07-14T15:02:17.961Z"
   },
   {
    "duration": 126,
    "start_time": "2022-07-14T15:02:18.136Z"
   },
   {
    "duration": 11,
    "start_time": "2022-07-14T15:02:18.263Z"
   },
   {
    "duration": 295,
    "start_time": "2022-07-14T15:02:18.277Z"
   },
   {
    "duration": 227,
    "start_time": "2022-07-14T15:02:18.574Z"
   },
   {
    "duration": 312,
    "start_time": "2022-07-14T15:02:18.809Z"
   },
   {
    "duration": 257,
    "start_time": "2022-07-14T15:02:19.123Z"
   },
   {
    "duration": 334,
    "start_time": "2022-07-14T15:02:19.381Z"
   },
   {
    "duration": 11,
    "start_time": "2022-07-14T15:02:19.717Z"
   },
   {
    "duration": 128,
    "start_time": "2022-07-14T15:02:19.730Z"
   },
   {
    "duration": 10,
    "start_time": "2022-07-14T15:02:19.860Z"
   },
   {
    "duration": 128,
    "start_time": "2022-07-14T15:02:19.871Z"
   },
   {
    "duration": 11,
    "start_time": "2022-07-14T15:02:20.000Z"
   },
   {
    "duration": 205,
    "start_time": "2022-07-14T15:02:20.013Z"
   },
   {
    "duration": 5,
    "start_time": "2022-07-14T15:02:20.219Z"
   },
   {
    "duration": 220,
    "start_time": "2022-07-14T15:02:20.225Z"
   },
   {
    "duration": 136,
    "start_time": "2022-07-14T15:02:20.446Z"
   },
   {
    "duration": 6,
    "start_time": "2022-07-14T15:02:20.583Z"
   },
   {
    "duration": 52,
    "start_time": "2022-07-14T15:02:20.590Z"
   },
   {
    "duration": 8,
    "start_time": "2022-07-14T15:02:20.643Z"
   },
   {
    "duration": 26,
    "start_time": "2022-07-14T15:02:20.653Z"
   },
   {
    "duration": 43,
    "start_time": "2022-07-14T15:02:20.681Z"
   },
   {
    "duration": 33,
    "start_time": "2022-07-14T15:02:20.725Z"
   },
   {
    "duration": 52,
    "start_time": "2022-07-14T15:02:20.760Z"
   },
   {
    "duration": 7,
    "start_time": "2022-07-14T15:02:20.814Z"
   },
   {
    "duration": 22,
    "start_time": "2022-07-14T15:02:20.822Z"
   },
   {
    "duration": 25,
    "start_time": "2022-07-14T15:02:20.846Z"
   },
   {
    "duration": 1101,
    "start_time": "2022-07-14T15:27:28.031Z"
   },
   {
    "duration": 3,
    "start_time": "2022-07-14T15:27:29.133Z"
   },
   {
    "duration": 85,
    "start_time": "2022-07-14T15:27:29.137Z"
   },
   {
    "duration": 3,
    "start_time": "2022-07-14T15:27:29.224Z"
   },
   {
    "duration": 63,
    "start_time": "2022-07-14T15:27:29.229Z"
   },
   {
    "duration": 5,
    "start_time": "2022-07-14T15:27:29.293Z"
   },
   {
    "duration": 24,
    "start_time": "2022-07-14T15:27:29.300Z"
   },
   {
    "duration": 5,
    "start_time": "2022-07-14T15:27:29.326Z"
   },
   {
    "duration": 6,
    "start_time": "2022-07-14T15:27:29.333Z"
   },
   {
    "duration": 8,
    "start_time": "2022-07-14T15:27:29.342Z"
   },
   {
    "duration": 13,
    "start_time": "2022-07-14T15:27:29.351Z"
   },
   {
    "duration": 46,
    "start_time": "2022-07-14T15:27:29.366Z"
   },
   {
    "duration": 4,
    "start_time": "2022-07-14T15:27:29.414Z"
   },
   {
    "duration": 8,
    "start_time": "2022-07-14T15:27:29.420Z"
   },
   {
    "duration": 14,
    "start_time": "2022-07-14T15:27:29.430Z"
   },
   {
    "duration": 17,
    "start_time": "2022-07-14T15:27:29.445Z"
   },
   {
    "duration": 11,
    "start_time": "2022-07-14T15:27:29.464Z"
   },
   {
    "duration": 38,
    "start_time": "2022-07-14T15:27:29.476Z"
   },
   {
    "duration": 28,
    "start_time": "2022-07-14T15:27:29.516Z"
   },
   {
    "duration": 14,
    "start_time": "2022-07-14T15:27:29.545Z"
   },
   {
    "duration": 22,
    "start_time": "2022-07-14T15:27:29.561Z"
   },
   {
    "duration": 38,
    "start_time": "2022-07-14T15:27:29.584Z"
   },
   {
    "duration": 19,
    "start_time": "2022-07-14T15:27:29.624Z"
   },
   {
    "duration": 14,
    "start_time": "2022-07-14T15:27:29.645Z"
   },
   {
    "duration": 174,
    "start_time": "2022-07-14T15:27:29.661Z"
   },
   {
    "duration": 132,
    "start_time": "2022-07-14T15:27:29.837Z"
   },
   {
    "duration": 14,
    "start_time": "2022-07-14T15:27:29.971Z"
   },
   {
    "duration": 325,
    "start_time": "2022-07-14T15:27:29.989Z"
   },
   {
    "duration": 213,
    "start_time": "2022-07-14T15:27:30.316Z"
   },
   {
    "duration": 296,
    "start_time": "2022-07-14T15:27:30.531Z"
   },
   {
    "duration": 244,
    "start_time": "2022-07-14T15:27:30.828Z"
   },
   {
    "duration": 338,
    "start_time": "2022-07-14T15:27:31.074Z"
   },
   {
    "duration": 13,
    "start_time": "2022-07-14T15:27:31.414Z"
   },
   {
    "duration": 169,
    "start_time": "2022-07-14T15:27:31.429Z"
   },
   {
    "duration": 22,
    "start_time": "2022-07-14T15:27:31.600Z"
   },
   {
    "duration": 132,
    "start_time": "2022-07-14T15:27:31.624Z"
   },
   {
    "duration": 5,
    "start_time": "2022-07-14T15:27:31.759Z"
   },
   {
    "duration": 222,
    "start_time": "2022-07-14T15:27:31.765Z"
   },
   {
    "duration": 5,
    "start_time": "2022-07-14T15:27:31.989Z"
   },
   {
    "duration": 283,
    "start_time": "2022-07-14T15:27:31.996Z"
   },
   {
    "duration": 151,
    "start_time": "2022-07-14T15:27:32.281Z"
   },
   {
    "duration": 6,
    "start_time": "2022-07-14T15:27:32.434Z"
   },
   {
    "duration": 43,
    "start_time": "2022-07-14T15:27:32.442Z"
   },
   {
    "duration": 23,
    "start_time": "2022-07-14T15:27:32.486Z"
   },
   {
    "duration": 20,
    "start_time": "2022-07-14T15:27:32.511Z"
   },
   {
    "duration": 18,
    "start_time": "2022-07-14T15:27:32.532Z"
   },
   {
    "duration": 10,
    "start_time": "2022-07-14T15:27:32.551Z"
   },
   {
    "duration": 45,
    "start_time": "2022-07-14T15:27:32.562Z"
   },
   {
    "duration": 6,
    "start_time": "2022-07-14T15:27:32.609Z"
   },
   {
    "duration": 12,
    "start_time": "2022-07-14T15:27:32.617Z"
   },
   {
    "duration": 8,
    "start_time": "2022-07-14T15:27:32.630Z"
   },
   {
    "duration": 1117,
    "start_time": "2022-07-14T17:23:51.810Z"
   },
   {
    "duration": 4,
    "start_time": "2022-07-14T17:23:52.929Z"
   },
   {
    "duration": 84,
    "start_time": "2022-07-14T17:23:52.935Z"
   },
   {
    "duration": 5,
    "start_time": "2022-07-14T17:23:53.021Z"
   },
   {
    "duration": 67,
    "start_time": "2022-07-14T17:23:53.028Z"
   },
   {
    "duration": 23,
    "start_time": "2022-07-14T17:23:53.097Z"
   },
   {
    "duration": 26,
    "start_time": "2022-07-14T17:23:53.124Z"
   },
   {
    "duration": 5,
    "start_time": "2022-07-14T17:23:53.152Z"
   },
   {
    "duration": 7,
    "start_time": "2022-07-14T17:23:53.158Z"
   },
   {
    "duration": 5,
    "start_time": "2022-07-14T17:23:53.167Z"
   },
   {
    "duration": 14,
    "start_time": "2022-07-14T17:23:53.173Z"
   },
   {
    "duration": 20,
    "start_time": "2022-07-14T17:23:53.214Z"
   },
   {
    "duration": 5,
    "start_time": "2022-07-14T17:23:53.236Z"
   },
   {
    "duration": 7,
    "start_time": "2022-07-14T17:23:53.244Z"
   },
   {
    "duration": 10,
    "start_time": "2022-07-14T17:23:53.253Z"
   },
   {
    "duration": 18,
    "start_time": "2022-07-14T17:23:53.265Z"
   },
   {
    "duration": 45,
    "start_time": "2022-07-14T17:23:53.285Z"
   },
   {
    "duration": 11,
    "start_time": "2022-07-14T17:23:53.331Z"
   },
   {
    "duration": 23,
    "start_time": "2022-07-14T17:23:53.344Z"
   },
   {
    "duration": 38,
    "start_time": "2022-07-14T17:23:53.369Z"
   },
   {
    "duration": 20,
    "start_time": "2022-07-14T17:23:53.413Z"
   },
   {
    "duration": 18,
    "start_time": "2022-07-14T17:23:53.435Z"
   },
   {
    "duration": 72,
    "start_time": "2022-07-14T17:23:53.455Z"
   },
   {
    "duration": 16,
    "start_time": "2022-07-14T17:23:53.529Z"
   },
   {
    "duration": 239,
    "start_time": "2022-07-14T17:23:53.547Z"
   },
   {
    "duration": 161,
    "start_time": "2022-07-14T17:23:53.788Z"
   },
   {
    "duration": 13,
    "start_time": "2022-07-14T17:23:53.951Z"
   },
   {
    "duration": 341,
    "start_time": "2022-07-14T17:23:53.965Z"
   },
   {
    "duration": 233,
    "start_time": "2022-07-14T17:23:54.319Z"
   },
   {
    "duration": 310,
    "start_time": "2022-07-14T17:23:54.553Z"
   },
   {
    "duration": 261,
    "start_time": "2022-07-14T17:23:54.864Z"
   },
   {
    "duration": 324,
    "start_time": "2022-07-14T17:23:55.127Z"
   },
   {
    "duration": 12,
    "start_time": "2022-07-14T17:23:55.452Z"
   },
   {
    "duration": 156,
    "start_time": "2022-07-14T17:23:55.465Z"
   },
   {
    "duration": 18,
    "start_time": "2022-07-14T17:23:55.625Z"
   },
   {
    "duration": 131,
    "start_time": "2022-07-14T17:23:55.646Z"
   },
   {
    "duration": 6,
    "start_time": "2022-07-14T17:23:55.779Z"
   },
   {
    "duration": 233,
    "start_time": "2022-07-14T17:23:55.787Z"
   },
   {
    "duration": 5,
    "start_time": "2022-07-14T17:23:56.021Z"
   },
   {
    "duration": 230,
    "start_time": "2022-07-14T17:23:56.028Z"
   },
   {
    "duration": 159,
    "start_time": "2022-07-14T17:23:56.261Z"
   },
   {
    "duration": 6,
    "start_time": "2022-07-14T17:23:56.422Z"
   },
   {
    "duration": 38,
    "start_time": "2022-07-14T17:23:56.430Z"
   },
   {
    "duration": 8,
    "start_time": "2022-07-14T17:23:56.470Z"
   },
   {
    "duration": 28,
    "start_time": "2022-07-14T17:23:56.480Z"
   },
   {
    "duration": 15,
    "start_time": "2022-07-14T17:23:56.509Z"
   },
   {
    "duration": 21,
    "start_time": "2022-07-14T17:23:56.526Z"
   },
   {
    "duration": 56,
    "start_time": "2022-07-14T17:23:56.549Z"
   },
   {
    "duration": 11,
    "start_time": "2022-07-14T17:23:56.607Z"
   },
   {
    "duration": 17,
    "start_time": "2022-07-14T17:23:56.625Z"
   },
   {
    "duration": 11,
    "start_time": "2022-07-14T17:23:56.644Z"
   },
   {
    "duration": 47,
    "start_time": "2022-07-14T17:57:20.732Z"
   },
   {
    "duration": 1182,
    "start_time": "2022-07-14T17:57:27.187Z"
   },
   {
    "duration": 3,
    "start_time": "2022-07-14T17:57:28.371Z"
   },
   {
    "duration": 183,
    "start_time": "2022-07-14T17:57:28.375Z"
   },
   {
    "duration": 4,
    "start_time": "2022-07-14T17:57:28.560Z"
   },
   {
    "duration": 63,
    "start_time": "2022-07-14T17:57:28.567Z"
   },
   {
    "duration": 5,
    "start_time": "2022-07-14T17:57:28.631Z"
   },
   {
    "duration": 22,
    "start_time": "2022-07-14T17:57:28.638Z"
   },
   {
    "duration": 6,
    "start_time": "2022-07-14T17:57:28.662Z"
   },
   {
    "duration": 8,
    "start_time": "2022-07-14T17:57:28.670Z"
   },
   {
    "duration": 6,
    "start_time": "2022-07-14T17:57:28.679Z"
   },
   {
    "duration": 38,
    "start_time": "2022-07-14T17:57:28.687Z"
   },
   {
    "duration": 18,
    "start_time": "2022-07-14T17:57:28.726Z"
   },
   {
    "duration": 4,
    "start_time": "2022-07-14T17:57:28.746Z"
   },
   {
    "duration": 5,
    "start_time": "2022-07-14T17:57:28.754Z"
   },
   {
    "duration": 11,
    "start_time": "2022-07-14T17:57:28.760Z"
   },
   {
    "duration": 13,
    "start_time": "2022-07-14T17:57:28.773Z"
   },
   {
    "duration": 43,
    "start_time": "2022-07-14T17:57:28.787Z"
   },
   {
    "duration": 22,
    "start_time": "2022-07-14T17:57:28.831Z"
   },
   {
    "duration": 24,
    "start_time": "2022-07-14T17:57:28.855Z"
   },
   {
    "duration": 12,
    "start_time": "2022-07-14T17:57:28.880Z"
   },
   {
    "duration": 41,
    "start_time": "2022-07-14T17:57:28.894Z"
   },
   {
    "duration": 16,
    "start_time": "2022-07-14T17:57:28.936Z"
   },
   {
    "duration": 11,
    "start_time": "2022-07-14T17:57:28.953Z"
   },
   {
    "duration": 5,
    "start_time": "2022-07-14T17:57:28.965Z"
   },
   {
    "duration": 184,
    "start_time": "2022-07-14T17:57:28.972Z"
   },
   {
    "duration": 123,
    "start_time": "2022-07-14T17:57:29.158Z"
   },
   {
    "duration": 11,
    "start_time": "2022-07-14T17:57:29.283Z"
   },
   {
    "duration": 291,
    "start_time": "2022-07-14T17:57:29.295Z"
   },
   {
    "duration": 213,
    "start_time": "2022-07-14T17:57:29.587Z"
   },
   {
    "duration": 374,
    "start_time": "2022-07-14T17:57:29.802Z"
   },
   {
    "duration": 223,
    "start_time": "2022-07-14T17:57:30.178Z"
   },
   {
    "duration": 339,
    "start_time": "2022-07-14T17:57:30.403Z"
   },
   {
    "duration": 11,
    "start_time": "2022-07-14T17:57:30.744Z"
   },
   {
    "duration": 156,
    "start_time": "2022-07-14T17:57:30.756Z"
   },
   {
    "duration": 15,
    "start_time": "2022-07-14T17:57:30.914Z"
   },
   {
    "duration": 119,
    "start_time": "2022-07-14T17:57:30.930Z"
   },
   {
    "duration": 5,
    "start_time": "2022-07-14T17:57:31.051Z"
   },
   {
    "duration": 234,
    "start_time": "2022-07-14T17:57:31.058Z"
   },
   {
    "duration": 5,
    "start_time": "2022-07-14T17:57:31.294Z"
   },
   {
    "duration": 269,
    "start_time": "2022-07-14T17:57:31.300Z"
   },
   {
    "duration": 158,
    "start_time": "2022-07-14T17:57:31.572Z"
   },
   {
    "duration": 6,
    "start_time": "2022-07-14T17:57:31.731Z"
   },
   {
    "duration": 56,
    "start_time": "2022-07-14T17:57:31.738Z"
   },
   {
    "duration": 9,
    "start_time": "2022-07-14T17:57:31.796Z"
   },
   {
    "duration": 4,
    "start_time": "2022-07-14T17:57:31.806Z"
   },
   {
    "duration": 16,
    "start_time": "2022-07-14T17:57:31.812Z"
   },
   {
    "duration": 7,
    "start_time": "2022-07-14T17:57:31.830Z"
   },
   {
    "duration": 39,
    "start_time": "2022-07-14T17:57:31.838Z"
   },
   {
    "duration": 6,
    "start_time": "2022-07-14T17:57:31.879Z"
   },
   {
    "duration": 15,
    "start_time": "2022-07-14T17:57:31.886Z"
   },
   {
    "duration": 23,
    "start_time": "2022-07-14T17:57:31.902Z"
   },
   {
    "duration": 48,
    "start_time": "2022-07-14T17:58:04.712Z"
   },
   {
    "duration": 136,
    "start_time": "2022-07-14T17:59:14.789Z"
   },
   {
    "duration": 140,
    "start_time": "2022-07-14T17:59:34.347Z"
   },
   {
    "duration": 140,
    "start_time": "2022-07-14T18:00:01.287Z"
   },
   {
    "duration": 132,
    "start_time": "2022-07-14T18:00:13.974Z"
   },
   {
    "duration": 129,
    "start_time": "2022-07-14T18:00:21.060Z"
   },
   {
    "duration": 96,
    "start_time": "2022-07-14T18:01:22.270Z"
   },
   {
    "duration": 4,
    "start_time": "2022-07-14T18:01:33.186Z"
   },
   {
    "duration": 1128,
    "start_time": "2022-07-15T10:55:47.172Z"
   },
   {
    "duration": 3,
    "start_time": "2022-07-15T10:55:48.302Z"
   },
   {
    "duration": 97,
    "start_time": "2022-07-15T10:55:48.307Z"
   },
   {
    "duration": 4,
    "start_time": "2022-07-15T10:55:48.406Z"
   },
   {
    "duration": 69,
    "start_time": "2022-07-15T10:55:48.411Z"
   },
   {
    "duration": 5,
    "start_time": "2022-07-15T10:55:48.481Z"
   },
   {
    "duration": 38,
    "start_time": "2022-07-15T10:55:48.488Z"
   },
   {
    "duration": 13,
    "start_time": "2022-07-15T10:55:48.529Z"
   },
   {
    "duration": 7,
    "start_time": "2022-07-15T10:55:48.544Z"
   },
   {
    "duration": 5,
    "start_time": "2022-07-15T10:55:48.554Z"
   },
   {
    "duration": 18,
    "start_time": "2022-07-15T10:55:48.561Z"
   },
   {
    "duration": 57,
    "start_time": "2022-07-15T10:55:48.580Z"
   },
   {
    "duration": 9,
    "start_time": "2022-07-15T10:55:48.639Z"
   },
   {
    "duration": 11,
    "start_time": "2022-07-15T10:55:48.651Z"
   },
   {
    "duration": 13,
    "start_time": "2022-07-15T10:55:48.664Z"
   },
   {
    "duration": 13,
    "start_time": "2022-07-15T10:55:48.678Z"
   },
   {
    "duration": 14,
    "start_time": "2022-07-15T10:55:48.693Z"
   },
   {
    "duration": 16,
    "start_time": "2022-07-15T10:55:48.733Z"
   },
   {
    "duration": 26,
    "start_time": "2022-07-15T10:55:48.751Z"
   },
   {
    "duration": 13,
    "start_time": "2022-07-15T10:55:48.778Z"
   },
   {
    "duration": 49,
    "start_time": "2022-07-15T10:55:48.793Z"
   },
   {
    "duration": 21,
    "start_time": "2022-07-15T10:55:48.844Z"
   },
   {
    "duration": 20,
    "start_time": "2022-07-15T10:55:48.868Z"
   },
   {
    "duration": 8,
    "start_time": "2022-07-15T10:55:48.890Z"
   },
   {
    "duration": 241,
    "start_time": "2022-07-15T10:55:48.900Z"
   },
   {
    "duration": 149,
    "start_time": "2022-07-15T10:55:49.146Z"
   },
   {
    "duration": 13,
    "start_time": "2022-07-15T10:55:49.296Z"
   },
   {
    "duration": 321,
    "start_time": "2022-07-15T10:55:49.328Z"
   },
   {
    "duration": 254,
    "start_time": "2022-07-15T10:55:49.651Z"
   },
   {
    "duration": 337,
    "start_time": "2022-07-15T10:55:49.906Z"
   },
   {
    "duration": 236,
    "start_time": "2022-07-15T10:55:50.244Z"
   },
   {
    "duration": 325,
    "start_time": "2022-07-15T10:55:50.481Z"
   },
   {
    "duration": 27,
    "start_time": "2022-07-15T10:55:50.809Z"
   },
   {
    "duration": 169,
    "start_time": "2022-07-15T10:55:50.837Z"
   },
   {
    "duration": 23,
    "start_time": "2022-07-15T10:55:51.008Z"
   },
   {
    "duration": 154,
    "start_time": "2022-07-15T10:55:51.039Z"
   },
   {
    "duration": 6,
    "start_time": "2022-07-15T10:55:51.195Z"
   },
   {
    "duration": 281,
    "start_time": "2022-07-15T10:55:51.202Z"
   },
   {
    "duration": 5,
    "start_time": "2022-07-15T10:55:51.485Z"
   },
   {
    "duration": 258,
    "start_time": "2022-07-15T10:55:51.492Z"
   },
   {
    "duration": 153,
    "start_time": "2022-07-15T10:55:51.752Z"
   },
   {
    "duration": 19,
    "start_time": "2022-07-15T10:55:51.907Z"
   },
   {
    "duration": 46,
    "start_time": "2022-07-15T10:55:51.934Z"
   },
   {
    "duration": 12,
    "start_time": "2022-07-15T10:55:51.982Z"
   },
   {
    "duration": 5,
    "start_time": "2022-07-15T10:55:51.996Z"
   },
   {
    "duration": 28,
    "start_time": "2022-07-15T10:55:52.002Z"
   },
   {
    "duration": 19,
    "start_time": "2022-07-15T10:55:52.032Z"
   },
   {
    "duration": 39,
    "start_time": "2022-07-15T10:55:52.053Z"
   },
   {
    "duration": 7,
    "start_time": "2022-07-15T10:55:52.094Z"
   },
   {
    "duration": 6,
    "start_time": "2022-07-15T10:55:52.103Z"
   },
   {
    "duration": 20,
    "start_time": "2022-07-15T10:55:52.111Z"
   }
  ],
  "kernelspec": {
   "display_name": "Python 3 (ipykernel)",
   "language": "python",
   "name": "python3"
  },
  "language_info": {
   "codemirror_mode": {
    "name": "ipython",
    "version": 3
   },
   "file_extension": ".py",
   "mimetype": "text/x-python",
   "name": "python",
   "nbconvert_exporter": "python",
   "pygments_lexer": "ipython3",
   "version": "3.9.12"
  },
  "toc": {
   "base_numbering": 1,
   "nav_menu": {},
   "number_sections": true,
   "sideBar": true,
   "skip_h1_title": true,
   "title_cell": "Table of Contents",
   "title_sidebar": "Contents",
   "toc_cell": false,
   "toc_position": {
    "height": "calc(100% - 180px)",
    "left": "10px",
    "top": "150px",
    "width": "366.391px"
   },
   "toc_section_display": true,
   "toc_window_display": true
  }
 },
 "nbformat": 4,
 "nbformat_minor": 2
}
