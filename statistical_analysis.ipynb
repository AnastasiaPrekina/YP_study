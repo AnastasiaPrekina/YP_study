{
 "cells": [
  {
   "cell_type": "markdown",
   "metadata": {},
   "source": [
    "# Определение тарифа для телеком компании"
   ]
  },
  {
   "cell_type": "markdown",
   "metadata": {},
   "source": [
    "«Мегалайн» — федеральный оператор сотовой связи. Клиентам предлагают два тарифных плана: «Смарт» и «Ультра». Чтобы скорректировать рекламный бюджет, коммерческий департамент хочет понять, какой тариф приносит больше денег.\n",
    "Нам предстоит сделать предварительный анализ тарифов на небольшой выборке клиентов. В нашем распоряжении данные 500 пользователей «Мегалайна»: кто они, откуда, каким тарифом пользуются, сколько звонков и сообщений каждый отправил за 2018 год. Нужно проанализировать поведение клиентов и сделать вывод — какой тариф лучше.\n",
    "\n",
    "**Описание тарифов**\n",
    "\n",
    "Тариф **«Смарт»**  \n",
    "1. Ежемесячная плата: 550 рублей  \n",
    "2. Включено 500 минут разговора, 50 сообщений и 15 Гб интернет-трафика  \n",
    "3. Стоимость услуг сверх тарифного пакета:\n",
    "* минута разговора: 3 рубля  \n",
    "* сообщение: 3 рубля  \n",
    "* 1 Гб интернет-трафика: 200 рублей  \n",
    "\n",
    "\n",
    "Тариф **«Ультра»**  \n",
    "1. Ежемесячная плата: 1950 рублей  \n",
    "2. Включено 3000 минут разговора, 1000 сообщений и 30 Гб интернет-трафика  \n",
    "3. Стоимость услуг сверх тарифного пакета:\n",
    "* минута разговора: 1 рубль  \n",
    "* сообщение: 1 рубль  \n",
    "* 1 Гб интернет-трафика: 150 рублей  \n",
    "\n",
    "**Примечание:**\n",
    "«Мегалайн» всегда округляет секунды до минут, а мегабайты — до гигабайт. Каждый звонок округляется отдельно: даже если он длился всего 1 секунду, будет засчитан как 1 минута.\n",
    "Для веб-трафика отдельные сессии не считаются. Вместо этого общая сумма за месяц округляется в бо́льшую сторону. Если абонент использует 1025 мегабайт в этом месяце, с него возьмут плату за 2 гигабайта."
   ]
  },
  {
   "cell_type": "markdown",
   "metadata": {},
   "source": [
    "## Изучение данных"
   ]
  },
  {
   "cell_type": "code",
   "execution_count": 1,
   "metadata": {},
   "outputs": [],
   "source": [
    "import numpy as np \n",
    "import pandas as pd\n",
    "import warnings\n",
    "import matplotlib.pyplot as plt\n",
    "from scipy import stats as st\n",
    "import seaborn as sns\n",
    "\n",
    "warnings.simplefilter(action='ignore', category=FutureWarning)"
   ]
  },
  {
   "cell_type": "code",
   "execution_count": 2,
   "metadata": {},
   "outputs": [],
   "source": [
    "calls = pd.read_csv('C:/Users/Анастасия/Documents/Jupiter_project/projects/statistical_analysis/calls.csv')\n",
    "internet = pd.read_csv('C:/Users/Анастасия/Documents/Jupiter_project/projects/statistical_analysis/internet.csv')\n",
    "messages = pd.read_csv('C:/Users/Анастасия/Documents/Jupiter_project/projects/statistical_analysis/messages.csv')\n",
    "users = pd.read_csv('C:/Users/Анастасия/Documents/Jupiter_project/projects/statistical_analysis/users.csv')\n",
    "tariffs = pd.read_csv('C:/Users/Анастасия/Documents/Jupiter_project/projects/statistical_analysis/tariffs.csv')"
   ]
  },
  {
   "cell_type": "code",
   "execution_count": 3,
   "metadata": {},
   "outputs": [],
   "source": [
    "def info (data): #функция для просмотра иформации об имеющихсся данных\n",
    "    data.info()\n",
    "    display(data.head())\n",
    "    print(data.columns)\n",
    "    display(pd.DataFrame(round((data.isna().mean() * 100), 2), columns=['NaNs,%']).style.format('{:.2f}'))"
   ]
  },
  {
   "cell_type": "markdown",
   "metadata": {},
   "source": [
    "### calls"
   ]
  },
  {
   "cell_type": "code",
   "execution_count": 4,
   "metadata": {},
   "outputs": [
    {
     "name": "stdout",
     "output_type": "stream",
     "text": [
      "<class 'pandas.core.frame.DataFrame'>\n",
      "RangeIndex: 202607 entries, 0 to 202606\n",
      "Data columns (total 4 columns):\n",
      " #   Column     Non-Null Count   Dtype  \n",
      "---  ------     --------------   -----  \n",
      " 0   id         202607 non-null  object \n",
      " 1   call_date  202607 non-null  object \n",
      " 2   duration   202607 non-null  float64\n",
      " 3   user_id    202607 non-null  int64  \n",
      "dtypes: float64(1), int64(1), object(2)\n",
      "memory usage: 6.2+ MB\n"
     ]
    },
    {
     "data": {
      "text/html": [
       "<div>\n",
       "<style scoped>\n",
       "    .dataframe tbody tr th:only-of-type {\n",
       "        vertical-align: middle;\n",
       "    }\n",
       "\n",
       "    .dataframe tbody tr th {\n",
       "        vertical-align: top;\n",
       "    }\n",
       "\n",
       "    .dataframe thead th {\n",
       "        text-align: right;\n",
       "    }\n",
       "</style>\n",
       "<table border=\"1\" class=\"dataframe\">\n",
       "  <thead>\n",
       "    <tr style=\"text-align: right;\">\n",
       "      <th></th>\n",
       "      <th>id</th>\n",
       "      <th>call_date</th>\n",
       "      <th>duration</th>\n",
       "      <th>user_id</th>\n",
       "    </tr>\n",
       "  </thead>\n",
       "  <tbody>\n",
       "    <tr>\n",
       "      <th>0</th>\n",
       "      <td>1000_0</td>\n",
       "      <td>2018-07-25</td>\n",
       "      <td>0.00</td>\n",
       "      <td>1000</td>\n",
       "    </tr>\n",
       "    <tr>\n",
       "      <th>1</th>\n",
       "      <td>1000_1</td>\n",
       "      <td>2018-08-17</td>\n",
       "      <td>0.00</td>\n",
       "      <td>1000</td>\n",
       "    </tr>\n",
       "    <tr>\n",
       "      <th>2</th>\n",
       "      <td>1000_2</td>\n",
       "      <td>2018-06-11</td>\n",
       "      <td>2.85</td>\n",
       "      <td>1000</td>\n",
       "    </tr>\n",
       "    <tr>\n",
       "      <th>3</th>\n",
       "      <td>1000_3</td>\n",
       "      <td>2018-09-21</td>\n",
       "      <td>13.80</td>\n",
       "      <td>1000</td>\n",
       "    </tr>\n",
       "    <tr>\n",
       "      <th>4</th>\n",
       "      <td>1000_4</td>\n",
       "      <td>2018-12-15</td>\n",
       "      <td>5.18</td>\n",
       "      <td>1000</td>\n",
       "    </tr>\n",
       "  </tbody>\n",
       "</table>\n",
       "</div>"
      ],
      "text/plain": [
       "       id   call_date  duration  user_id\n",
       "0  1000_0  2018-07-25      0.00     1000\n",
       "1  1000_1  2018-08-17      0.00     1000\n",
       "2  1000_2  2018-06-11      2.85     1000\n",
       "3  1000_3  2018-09-21     13.80     1000\n",
       "4  1000_4  2018-12-15      5.18     1000"
      ]
     },
     "metadata": {},
     "output_type": "display_data"
    },
    {
     "name": "stdout",
     "output_type": "stream",
     "text": [
      "Index(['id', 'call_date', 'duration', 'user_id'], dtype='object')\n"
     ]
    },
    {
     "data": {
      "text/html": [
       "<style type=\"text/css\">\n",
       "</style>\n",
       "<table id=\"T_7f6e8\">\n",
       "  <thead>\n",
       "    <tr>\n",
       "      <th class=\"blank level0\" >&nbsp;</th>\n",
       "      <th id=\"T_7f6e8_level0_col0\" class=\"col_heading level0 col0\" >NaNs,%</th>\n",
       "    </tr>\n",
       "  </thead>\n",
       "  <tbody>\n",
       "    <tr>\n",
       "      <th id=\"T_7f6e8_level0_row0\" class=\"row_heading level0 row0\" >id</th>\n",
       "      <td id=\"T_7f6e8_row0_col0\" class=\"data row0 col0\" >0.00</td>\n",
       "    </tr>\n",
       "    <tr>\n",
       "      <th id=\"T_7f6e8_level0_row1\" class=\"row_heading level0 row1\" >call_date</th>\n",
       "      <td id=\"T_7f6e8_row1_col0\" class=\"data row1 col0\" >0.00</td>\n",
       "    </tr>\n",
       "    <tr>\n",
       "      <th id=\"T_7f6e8_level0_row2\" class=\"row_heading level0 row2\" >duration</th>\n",
       "      <td id=\"T_7f6e8_row2_col0\" class=\"data row2 col0\" >0.00</td>\n",
       "    </tr>\n",
       "    <tr>\n",
       "      <th id=\"T_7f6e8_level0_row3\" class=\"row_heading level0 row3\" >user_id</th>\n",
       "      <td id=\"T_7f6e8_row3_col0\" class=\"data row3 col0\" >0.00</td>\n",
       "    </tr>\n",
       "  </tbody>\n",
       "</table>\n"
      ],
      "text/plain": [
       "<pandas.io.formats.style.Styler at 0x183dbbbaf40>"
      ]
     },
     "metadata": {},
     "output_type": "display_data"
    }
   ],
   "source": [
    "info(calls)"
   ]
  },
  {
   "cell_type": "markdown",
   "metadata": {},
   "source": [
    "Таблица **calls** (информация о звонках):  \n",
    "`id` — уникальный номер звонка  \n",
    "`call_date` — дата звонка  \n",
    "`duration` — длительность звонка в минутах  \n",
    "`user_id` — идентификатор пользователя, сделавшего звонок"
   ]
  },
  {
   "cell_type": "markdown",
   "metadata": {},
   "source": [
    "- [x]  названия столбцов в норме\n",
    "- [x]  пропусков нет\n",
    "- [ ]  типы данных не ок, позже приведем в норму столбец с датой"
   ]
  },
  {
   "cell_type": "markdown",
   "metadata": {},
   "source": [
    "### internet"
   ]
  },
  {
   "cell_type": "code",
   "execution_count": 5,
   "metadata": {},
   "outputs": [
    {
     "name": "stdout",
     "output_type": "stream",
     "text": [
      "<class 'pandas.core.frame.DataFrame'>\n",
      "RangeIndex: 149396 entries, 0 to 149395\n",
      "Data columns (total 5 columns):\n",
      " #   Column        Non-Null Count   Dtype  \n",
      "---  ------        --------------   -----  \n",
      " 0   Unnamed: 0    149396 non-null  int64  \n",
      " 1   id            149396 non-null  object \n",
      " 2   mb_used       149396 non-null  float64\n",
      " 3   session_date  149396 non-null  object \n",
      " 4   user_id       149396 non-null  int64  \n",
      "dtypes: float64(1), int64(2), object(2)\n",
      "memory usage: 5.7+ MB\n"
     ]
    },
    {
     "data": {
      "text/html": [
       "<div>\n",
       "<style scoped>\n",
       "    .dataframe tbody tr th:only-of-type {\n",
       "        vertical-align: middle;\n",
       "    }\n",
       "\n",
       "    .dataframe tbody tr th {\n",
       "        vertical-align: top;\n",
       "    }\n",
       "\n",
       "    .dataframe thead th {\n",
       "        text-align: right;\n",
       "    }\n",
       "</style>\n",
       "<table border=\"1\" class=\"dataframe\">\n",
       "  <thead>\n",
       "    <tr style=\"text-align: right;\">\n",
       "      <th></th>\n",
       "      <th>Unnamed: 0</th>\n",
       "      <th>id</th>\n",
       "      <th>mb_used</th>\n",
       "      <th>session_date</th>\n",
       "      <th>user_id</th>\n",
       "    </tr>\n",
       "  </thead>\n",
       "  <tbody>\n",
       "    <tr>\n",
       "      <th>0</th>\n",
       "      <td>0</td>\n",
       "      <td>1000_0</td>\n",
       "      <td>112.95</td>\n",
       "      <td>2018-11-25</td>\n",
       "      <td>1000</td>\n",
       "    </tr>\n",
       "    <tr>\n",
       "      <th>1</th>\n",
       "      <td>1</td>\n",
       "      <td>1000_1</td>\n",
       "      <td>1052.81</td>\n",
       "      <td>2018-09-07</td>\n",
       "      <td>1000</td>\n",
       "    </tr>\n",
       "    <tr>\n",
       "      <th>2</th>\n",
       "      <td>2</td>\n",
       "      <td>1000_2</td>\n",
       "      <td>1197.26</td>\n",
       "      <td>2018-06-25</td>\n",
       "      <td>1000</td>\n",
       "    </tr>\n",
       "    <tr>\n",
       "      <th>3</th>\n",
       "      <td>3</td>\n",
       "      <td>1000_3</td>\n",
       "      <td>550.27</td>\n",
       "      <td>2018-08-22</td>\n",
       "      <td>1000</td>\n",
       "    </tr>\n",
       "    <tr>\n",
       "      <th>4</th>\n",
       "      <td>4</td>\n",
       "      <td>1000_4</td>\n",
       "      <td>302.56</td>\n",
       "      <td>2018-09-24</td>\n",
       "      <td>1000</td>\n",
       "    </tr>\n",
       "  </tbody>\n",
       "</table>\n",
       "</div>"
      ],
      "text/plain": [
       "   Unnamed: 0      id  mb_used session_date  user_id\n",
       "0           0  1000_0   112.95   2018-11-25     1000\n",
       "1           1  1000_1  1052.81   2018-09-07     1000\n",
       "2           2  1000_2  1197.26   2018-06-25     1000\n",
       "3           3  1000_3   550.27   2018-08-22     1000\n",
       "4           4  1000_4   302.56   2018-09-24     1000"
      ]
     },
     "metadata": {},
     "output_type": "display_data"
    },
    {
     "name": "stdout",
     "output_type": "stream",
     "text": [
      "Index(['Unnamed: 0', 'id', 'mb_used', 'session_date', 'user_id'], dtype='object')\n"
     ]
    },
    {
     "data": {
      "text/html": [
       "<style type=\"text/css\">\n",
       "</style>\n",
       "<table id=\"T_07629\">\n",
       "  <thead>\n",
       "    <tr>\n",
       "      <th class=\"blank level0\" >&nbsp;</th>\n",
       "      <th id=\"T_07629_level0_col0\" class=\"col_heading level0 col0\" >NaNs,%</th>\n",
       "    </tr>\n",
       "  </thead>\n",
       "  <tbody>\n",
       "    <tr>\n",
       "      <th id=\"T_07629_level0_row0\" class=\"row_heading level0 row0\" >Unnamed: 0</th>\n",
       "      <td id=\"T_07629_row0_col0\" class=\"data row0 col0\" >0.00</td>\n",
       "    </tr>\n",
       "    <tr>\n",
       "      <th id=\"T_07629_level0_row1\" class=\"row_heading level0 row1\" >id</th>\n",
       "      <td id=\"T_07629_row1_col0\" class=\"data row1 col0\" >0.00</td>\n",
       "    </tr>\n",
       "    <tr>\n",
       "      <th id=\"T_07629_level0_row2\" class=\"row_heading level0 row2\" >mb_used</th>\n",
       "      <td id=\"T_07629_row2_col0\" class=\"data row2 col0\" >0.00</td>\n",
       "    </tr>\n",
       "    <tr>\n",
       "      <th id=\"T_07629_level0_row3\" class=\"row_heading level0 row3\" >session_date</th>\n",
       "      <td id=\"T_07629_row3_col0\" class=\"data row3 col0\" >0.00</td>\n",
       "    </tr>\n",
       "    <tr>\n",
       "      <th id=\"T_07629_level0_row4\" class=\"row_heading level0 row4\" >user_id</th>\n",
       "      <td id=\"T_07629_row4_col0\" class=\"data row4 col0\" >0.00</td>\n",
       "    </tr>\n",
       "  </tbody>\n",
       "</table>\n"
      ],
      "text/plain": [
       "<pandas.io.formats.style.Styler at 0x183da3ddf70>"
      ]
     },
     "metadata": {},
     "output_type": "display_data"
    }
   ],
   "source": [
    "info(internet)"
   ]
  },
  {
   "cell_type": "markdown",
   "metadata": {},
   "source": [
    "Таблица **internet** (информация об интернет-сессиях):  \n",
    "`id` — уникальный номер сессии  \n",
    "`mb_used` — объём потраченного за сессию интернет-трафика (в мегабайтах)  \n",
    "`session_date` — дата интернет-сессии  \n",
    "`user_id` — идентификатор пользователя"
   ]
  },
  {
   "cell_type": "markdown",
   "metadata": {},
   "source": [
    "- [x]  названия столбцов в норме\n",
    "- [x]  пропусков нет\n",
    "- [ ]  типы данных не ок, позже приведем в норму столбец с датой\n",
    "- [ ] есть лишний столбец, позже удалим"
   ]
  },
  {
   "cell_type": "markdown",
   "metadata": {},
   "source": [
    "### messages"
   ]
  },
  {
   "cell_type": "code",
   "execution_count": 6,
   "metadata": {},
   "outputs": [
    {
     "name": "stdout",
     "output_type": "stream",
     "text": [
      "<class 'pandas.core.frame.DataFrame'>\n",
      "RangeIndex: 123036 entries, 0 to 123035\n",
      "Data columns (total 3 columns):\n",
      " #   Column        Non-Null Count   Dtype \n",
      "---  ------        --------------   ----- \n",
      " 0   id            123036 non-null  object\n",
      " 1   message_date  123036 non-null  object\n",
      " 2   user_id       123036 non-null  int64 \n",
      "dtypes: int64(1), object(2)\n",
      "memory usage: 2.8+ MB\n"
     ]
    },
    {
     "data": {
      "text/html": [
       "<div>\n",
       "<style scoped>\n",
       "    .dataframe tbody tr th:only-of-type {\n",
       "        vertical-align: middle;\n",
       "    }\n",
       "\n",
       "    .dataframe tbody tr th {\n",
       "        vertical-align: top;\n",
       "    }\n",
       "\n",
       "    .dataframe thead th {\n",
       "        text-align: right;\n",
       "    }\n",
       "</style>\n",
       "<table border=\"1\" class=\"dataframe\">\n",
       "  <thead>\n",
       "    <tr style=\"text-align: right;\">\n",
       "      <th></th>\n",
       "      <th>id</th>\n",
       "      <th>message_date</th>\n",
       "      <th>user_id</th>\n",
       "    </tr>\n",
       "  </thead>\n",
       "  <tbody>\n",
       "    <tr>\n",
       "      <th>0</th>\n",
       "      <td>1000_0</td>\n",
       "      <td>2018-06-27</td>\n",
       "      <td>1000</td>\n",
       "    </tr>\n",
       "    <tr>\n",
       "      <th>1</th>\n",
       "      <td>1000_1</td>\n",
       "      <td>2018-10-08</td>\n",
       "      <td>1000</td>\n",
       "    </tr>\n",
       "    <tr>\n",
       "      <th>2</th>\n",
       "      <td>1000_2</td>\n",
       "      <td>2018-08-04</td>\n",
       "      <td>1000</td>\n",
       "    </tr>\n",
       "    <tr>\n",
       "      <th>3</th>\n",
       "      <td>1000_3</td>\n",
       "      <td>2018-06-16</td>\n",
       "      <td>1000</td>\n",
       "    </tr>\n",
       "    <tr>\n",
       "      <th>4</th>\n",
       "      <td>1000_4</td>\n",
       "      <td>2018-12-05</td>\n",
       "      <td>1000</td>\n",
       "    </tr>\n",
       "  </tbody>\n",
       "</table>\n",
       "</div>"
      ],
      "text/plain": [
       "       id message_date  user_id\n",
       "0  1000_0   2018-06-27     1000\n",
       "1  1000_1   2018-10-08     1000\n",
       "2  1000_2   2018-08-04     1000\n",
       "3  1000_3   2018-06-16     1000\n",
       "4  1000_4   2018-12-05     1000"
      ]
     },
     "metadata": {},
     "output_type": "display_data"
    },
    {
     "name": "stdout",
     "output_type": "stream",
     "text": [
      "Index(['id', 'message_date', 'user_id'], dtype='object')\n"
     ]
    },
    {
     "data": {
      "text/html": [
       "<style type=\"text/css\">\n",
       "</style>\n",
       "<table id=\"T_e6bec\">\n",
       "  <thead>\n",
       "    <tr>\n",
       "      <th class=\"blank level0\" >&nbsp;</th>\n",
       "      <th id=\"T_e6bec_level0_col0\" class=\"col_heading level0 col0\" >NaNs,%</th>\n",
       "    </tr>\n",
       "  </thead>\n",
       "  <tbody>\n",
       "    <tr>\n",
       "      <th id=\"T_e6bec_level0_row0\" class=\"row_heading level0 row0\" >id</th>\n",
       "      <td id=\"T_e6bec_row0_col0\" class=\"data row0 col0\" >0.00</td>\n",
       "    </tr>\n",
       "    <tr>\n",
       "      <th id=\"T_e6bec_level0_row1\" class=\"row_heading level0 row1\" >message_date</th>\n",
       "      <td id=\"T_e6bec_row1_col0\" class=\"data row1 col0\" >0.00</td>\n",
       "    </tr>\n",
       "    <tr>\n",
       "      <th id=\"T_e6bec_level0_row2\" class=\"row_heading level0 row2\" >user_id</th>\n",
       "      <td id=\"T_e6bec_row2_col0\" class=\"data row2 col0\" >0.00</td>\n",
       "    </tr>\n",
       "  </tbody>\n",
       "</table>\n"
      ],
      "text/plain": [
       "<pandas.io.formats.style.Styler at 0x183da3ffee0>"
      ]
     },
     "metadata": {},
     "output_type": "display_data"
    }
   ],
   "source": [
    "info(messages)"
   ]
  },
  {
   "cell_type": "markdown",
   "metadata": {},
   "source": [
    "Таблица **messages** (информация о сообщениях):  \n",
    "`id` — уникальный номер сообщения  \n",
    "`message_date` — дата сообщения  \n",
    "`user_id` — идентификатор пользователя, отправившего сообщение"
   ]
  },
  {
   "cell_type": "markdown",
   "metadata": {},
   "source": [
    "- [x]  названия столбцов в норме\n",
    "- [x]  пропусков нет\n",
    "- [ ]  типы данных не ок, позже приведем в норму столбец с датой"
   ]
  },
  {
   "cell_type": "markdown",
   "metadata": {},
   "source": [
    "### users"
   ]
  },
  {
   "cell_type": "code",
   "execution_count": 7,
   "metadata": {},
   "outputs": [
    {
     "name": "stdout",
     "output_type": "stream",
     "text": [
      "<class 'pandas.core.frame.DataFrame'>\n",
      "RangeIndex: 500 entries, 0 to 499\n",
      "Data columns (total 8 columns):\n",
      " #   Column      Non-Null Count  Dtype \n",
      "---  ------      --------------  ----- \n",
      " 0   user_id     500 non-null    int64 \n",
      " 1   age         500 non-null    int64 \n",
      " 2   churn_date  38 non-null     object\n",
      " 3   city        500 non-null    object\n",
      " 4   first_name  500 non-null    object\n",
      " 5   last_name   500 non-null    object\n",
      " 6   reg_date    500 non-null    object\n",
      " 7   tariff      500 non-null    object\n",
      "dtypes: int64(2), object(6)\n",
      "memory usage: 31.4+ KB\n"
     ]
    },
    {
     "data": {
      "text/html": [
       "<div>\n",
       "<style scoped>\n",
       "    .dataframe tbody tr th:only-of-type {\n",
       "        vertical-align: middle;\n",
       "    }\n",
       "\n",
       "    .dataframe tbody tr th {\n",
       "        vertical-align: top;\n",
       "    }\n",
       "\n",
       "    .dataframe thead th {\n",
       "        text-align: right;\n",
       "    }\n",
       "</style>\n",
       "<table border=\"1\" class=\"dataframe\">\n",
       "  <thead>\n",
       "    <tr style=\"text-align: right;\">\n",
       "      <th></th>\n",
       "      <th>user_id</th>\n",
       "      <th>age</th>\n",
       "      <th>churn_date</th>\n",
       "      <th>city</th>\n",
       "      <th>first_name</th>\n",
       "      <th>last_name</th>\n",
       "      <th>reg_date</th>\n",
       "      <th>tariff</th>\n",
       "    </tr>\n",
       "  </thead>\n",
       "  <tbody>\n",
       "    <tr>\n",
       "      <th>0</th>\n",
       "      <td>1000</td>\n",
       "      <td>52</td>\n",
       "      <td>NaN</td>\n",
       "      <td>Краснодар</td>\n",
       "      <td>Рафаил</td>\n",
       "      <td>Верещагин</td>\n",
       "      <td>2018-05-25</td>\n",
       "      <td>ultra</td>\n",
       "    </tr>\n",
       "    <tr>\n",
       "      <th>1</th>\n",
       "      <td>1001</td>\n",
       "      <td>41</td>\n",
       "      <td>NaN</td>\n",
       "      <td>Москва</td>\n",
       "      <td>Иван</td>\n",
       "      <td>Ежов</td>\n",
       "      <td>2018-11-01</td>\n",
       "      <td>smart</td>\n",
       "    </tr>\n",
       "    <tr>\n",
       "      <th>2</th>\n",
       "      <td>1002</td>\n",
       "      <td>59</td>\n",
       "      <td>NaN</td>\n",
       "      <td>Стерлитамак</td>\n",
       "      <td>Евгений</td>\n",
       "      <td>Абрамович</td>\n",
       "      <td>2018-06-17</td>\n",
       "      <td>smart</td>\n",
       "    </tr>\n",
       "    <tr>\n",
       "      <th>3</th>\n",
       "      <td>1003</td>\n",
       "      <td>23</td>\n",
       "      <td>NaN</td>\n",
       "      <td>Москва</td>\n",
       "      <td>Белла</td>\n",
       "      <td>Белякова</td>\n",
       "      <td>2018-08-17</td>\n",
       "      <td>ultra</td>\n",
       "    </tr>\n",
       "    <tr>\n",
       "      <th>4</th>\n",
       "      <td>1004</td>\n",
       "      <td>68</td>\n",
       "      <td>NaN</td>\n",
       "      <td>Новокузнецк</td>\n",
       "      <td>Татьяна</td>\n",
       "      <td>Авдеенко</td>\n",
       "      <td>2018-05-14</td>\n",
       "      <td>ultra</td>\n",
       "    </tr>\n",
       "  </tbody>\n",
       "</table>\n",
       "</div>"
      ],
      "text/plain": [
       "   user_id  age churn_date         city first_name  last_name    reg_date  \\\n",
       "0     1000   52        NaN    Краснодар     Рафаил  Верещагин  2018-05-25   \n",
       "1     1001   41        NaN       Москва       Иван       Ежов  2018-11-01   \n",
       "2     1002   59        NaN  Стерлитамак    Евгений  Абрамович  2018-06-17   \n",
       "3     1003   23        NaN       Москва      Белла   Белякова  2018-08-17   \n",
       "4     1004   68        NaN  Новокузнецк    Татьяна   Авдеенко  2018-05-14   \n",
       "\n",
       "  tariff  \n",
       "0  ultra  \n",
       "1  smart  \n",
       "2  smart  \n",
       "3  ultra  \n",
       "4  ultra  "
      ]
     },
     "metadata": {},
     "output_type": "display_data"
    },
    {
     "name": "stdout",
     "output_type": "stream",
     "text": [
      "Index(['user_id', 'age', 'churn_date', 'city', 'first_name', 'last_name',\n",
      "       'reg_date', 'tariff'],\n",
      "      dtype='object')\n"
     ]
    },
    {
     "data": {
      "text/html": [
       "<style type=\"text/css\">\n",
       "</style>\n",
       "<table id=\"T_8b965\">\n",
       "  <thead>\n",
       "    <tr>\n",
       "      <th class=\"blank level0\" >&nbsp;</th>\n",
       "      <th id=\"T_8b965_level0_col0\" class=\"col_heading level0 col0\" >NaNs,%</th>\n",
       "    </tr>\n",
       "  </thead>\n",
       "  <tbody>\n",
       "    <tr>\n",
       "      <th id=\"T_8b965_level0_row0\" class=\"row_heading level0 row0\" >user_id</th>\n",
       "      <td id=\"T_8b965_row0_col0\" class=\"data row0 col0\" >0.00</td>\n",
       "    </tr>\n",
       "    <tr>\n",
       "      <th id=\"T_8b965_level0_row1\" class=\"row_heading level0 row1\" >age</th>\n",
       "      <td id=\"T_8b965_row1_col0\" class=\"data row1 col0\" >0.00</td>\n",
       "    </tr>\n",
       "    <tr>\n",
       "      <th id=\"T_8b965_level0_row2\" class=\"row_heading level0 row2\" >churn_date</th>\n",
       "      <td id=\"T_8b965_row2_col0\" class=\"data row2 col0\" >92.40</td>\n",
       "    </tr>\n",
       "    <tr>\n",
       "      <th id=\"T_8b965_level0_row3\" class=\"row_heading level0 row3\" >city</th>\n",
       "      <td id=\"T_8b965_row3_col0\" class=\"data row3 col0\" >0.00</td>\n",
       "    </tr>\n",
       "    <tr>\n",
       "      <th id=\"T_8b965_level0_row4\" class=\"row_heading level0 row4\" >first_name</th>\n",
       "      <td id=\"T_8b965_row4_col0\" class=\"data row4 col0\" >0.00</td>\n",
       "    </tr>\n",
       "    <tr>\n",
       "      <th id=\"T_8b965_level0_row5\" class=\"row_heading level0 row5\" >last_name</th>\n",
       "      <td id=\"T_8b965_row5_col0\" class=\"data row5 col0\" >0.00</td>\n",
       "    </tr>\n",
       "    <tr>\n",
       "      <th id=\"T_8b965_level0_row6\" class=\"row_heading level0 row6\" >reg_date</th>\n",
       "      <td id=\"T_8b965_row6_col0\" class=\"data row6 col0\" >0.00</td>\n",
       "    </tr>\n",
       "    <tr>\n",
       "      <th id=\"T_8b965_level0_row7\" class=\"row_heading level0 row7\" >tariff</th>\n",
       "      <td id=\"T_8b965_row7_col0\" class=\"data row7 col0\" >0.00</td>\n",
       "    </tr>\n",
       "  </tbody>\n",
       "</table>\n"
      ],
      "text/plain": [
       "<pandas.io.formats.style.Styler at 0x183da3fff10>"
      ]
     },
     "metadata": {},
     "output_type": "display_data"
    }
   ],
   "source": [
    "info(users)"
   ]
  },
  {
   "cell_type": "markdown",
   "metadata": {},
   "source": [
    "Таблица **users** (информация о пользователях):  \n",
    "`user_id` — уникальный идентификатор пользователя  \n",
    "`first_name` — имя пользователя  \n",
    "`last_name` — фамилия пользователя  \n",
    "`age` — возраст пользователя (годы)  \n",
    "`reg_date` — дата подключения тарифа (день, месяц, год)  \n",
    "`churn_date` — дата прекращения пользования тарифом (если значение пропущено, то тариф ещё действовал на момент выгрузки данных)  \n",
    "`city` — город проживания пользователя  \n",
    "`tariff` — название тарифного плана"
   ]
  },
  {
   "cell_type": "markdown",
   "metadata": {},
   "source": [
    "- [x]  названия столбцов в норме\n",
    "- [x]  очень много пропусков в столбце churn_date, но это вполне объяснимо - тариф ещё действовал на момент выгрузки данных\n",
    "- [ ]  типы данных не ок, позже приведем в норму столбцы с датами"
   ]
  },
  {
   "cell_type": "markdown",
   "metadata": {},
   "source": [
    "### tariffs"
   ]
  },
  {
   "cell_type": "code",
   "execution_count": 8,
   "metadata": {},
   "outputs": [
    {
     "name": "stdout",
     "output_type": "stream",
     "text": [
      "<class 'pandas.core.frame.DataFrame'>\n",
      "RangeIndex: 2 entries, 0 to 1\n",
      "Data columns (total 8 columns):\n",
      " #   Column                 Non-Null Count  Dtype \n",
      "---  ------                 --------------  ----- \n",
      " 0   messages_included      2 non-null      int64 \n",
      " 1   mb_per_month_included  2 non-null      int64 \n",
      " 2   minutes_included       2 non-null      int64 \n",
      " 3   rub_monthly_fee        2 non-null      int64 \n",
      " 4   rub_per_gb             2 non-null      int64 \n",
      " 5   rub_per_message        2 non-null      int64 \n",
      " 6   rub_per_minute         2 non-null      int64 \n",
      " 7   tariff_name            2 non-null      object\n",
      "dtypes: int64(7), object(1)\n",
      "memory usage: 256.0+ bytes\n"
     ]
    },
    {
     "data": {
      "text/html": [
       "<div>\n",
       "<style scoped>\n",
       "    .dataframe tbody tr th:only-of-type {\n",
       "        vertical-align: middle;\n",
       "    }\n",
       "\n",
       "    .dataframe tbody tr th {\n",
       "        vertical-align: top;\n",
       "    }\n",
       "\n",
       "    .dataframe thead th {\n",
       "        text-align: right;\n",
       "    }\n",
       "</style>\n",
       "<table border=\"1\" class=\"dataframe\">\n",
       "  <thead>\n",
       "    <tr style=\"text-align: right;\">\n",
       "      <th></th>\n",
       "      <th>messages_included</th>\n",
       "      <th>mb_per_month_included</th>\n",
       "      <th>minutes_included</th>\n",
       "      <th>rub_monthly_fee</th>\n",
       "      <th>rub_per_gb</th>\n",
       "      <th>rub_per_message</th>\n",
       "      <th>rub_per_minute</th>\n",
       "      <th>tariff_name</th>\n",
       "    </tr>\n",
       "  </thead>\n",
       "  <tbody>\n",
       "    <tr>\n",
       "      <th>0</th>\n",
       "      <td>50</td>\n",
       "      <td>15360</td>\n",
       "      <td>500</td>\n",
       "      <td>550</td>\n",
       "      <td>200</td>\n",
       "      <td>3</td>\n",
       "      <td>3</td>\n",
       "      <td>smart</td>\n",
       "    </tr>\n",
       "    <tr>\n",
       "      <th>1</th>\n",
       "      <td>1000</td>\n",
       "      <td>30720</td>\n",
       "      <td>3000</td>\n",
       "      <td>1950</td>\n",
       "      <td>150</td>\n",
       "      <td>1</td>\n",
       "      <td>1</td>\n",
       "      <td>ultra</td>\n",
       "    </tr>\n",
       "  </tbody>\n",
       "</table>\n",
       "</div>"
      ],
      "text/plain": [
       "   messages_included  mb_per_month_included  minutes_included  \\\n",
       "0                 50                  15360               500   \n",
       "1               1000                  30720              3000   \n",
       "\n",
       "   rub_monthly_fee  rub_per_gb  rub_per_message  rub_per_minute tariff_name  \n",
       "0              550         200                3               3       smart  \n",
       "1             1950         150                1               1       ultra  "
      ]
     },
     "metadata": {},
     "output_type": "display_data"
    },
    {
     "name": "stdout",
     "output_type": "stream",
     "text": [
      "Index(['messages_included', 'mb_per_month_included', 'minutes_included',\n",
      "       'rub_monthly_fee', 'rub_per_gb', 'rub_per_message', 'rub_per_minute',\n",
      "       'tariff_name'],\n",
      "      dtype='object')\n"
     ]
    },
    {
     "data": {
      "text/html": [
       "<style type=\"text/css\">\n",
       "</style>\n",
       "<table id=\"T_bab0d\">\n",
       "  <thead>\n",
       "    <tr>\n",
       "      <th class=\"blank level0\" >&nbsp;</th>\n",
       "      <th id=\"T_bab0d_level0_col0\" class=\"col_heading level0 col0\" >NaNs,%</th>\n",
       "    </tr>\n",
       "  </thead>\n",
       "  <tbody>\n",
       "    <tr>\n",
       "      <th id=\"T_bab0d_level0_row0\" class=\"row_heading level0 row0\" >messages_included</th>\n",
       "      <td id=\"T_bab0d_row0_col0\" class=\"data row0 col0\" >0.00</td>\n",
       "    </tr>\n",
       "    <tr>\n",
       "      <th id=\"T_bab0d_level0_row1\" class=\"row_heading level0 row1\" >mb_per_month_included</th>\n",
       "      <td id=\"T_bab0d_row1_col0\" class=\"data row1 col0\" >0.00</td>\n",
       "    </tr>\n",
       "    <tr>\n",
       "      <th id=\"T_bab0d_level0_row2\" class=\"row_heading level0 row2\" >minutes_included</th>\n",
       "      <td id=\"T_bab0d_row2_col0\" class=\"data row2 col0\" >0.00</td>\n",
       "    </tr>\n",
       "    <tr>\n",
       "      <th id=\"T_bab0d_level0_row3\" class=\"row_heading level0 row3\" >rub_monthly_fee</th>\n",
       "      <td id=\"T_bab0d_row3_col0\" class=\"data row3 col0\" >0.00</td>\n",
       "    </tr>\n",
       "    <tr>\n",
       "      <th id=\"T_bab0d_level0_row4\" class=\"row_heading level0 row4\" >rub_per_gb</th>\n",
       "      <td id=\"T_bab0d_row4_col0\" class=\"data row4 col0\" >0.00</td>\n",
       "    </tr>\n",
       "    <tr>\n",
       "      <th id=\"T_bab0d_level0_row5\" class=\"row_heading level0 row5\" >rub_per_message</th>\n",
       "      <td id=\"T_bab0d_row5_col0\" class=\"data row5 col0\" >0.00</td>\n",
       "    </tr>\n",
       "    <tr>\n",
       "      <th id=\"T_bab0d_level0_row6\" class=\"row_heading level0 row6\" >rub_per_minute</th>\n",
       "      <td id=\"T_bab0d_row6_col0\" class=\"data row6 col0\" >0.00</td>\n",
       "    </tr>\n",
       "    <tr>\n",
       "      <th id=\"T_bab0d_level0_row7\" class=\"row_heading level0 row7\" >tariff_name</th>\n",
       "      <td id=\"T_bab0d_row7_col0\" class=\"data row7 col0\" >0.00</td>\n",
       "    </tr>\n",
       "  </tbody>\n",
       "</table>\n"
      ],
      "text/plain": [
       "<pandas.io.formats.style.Styler at 0x183da413fd0>"
      ]
     },
     "metadata": {},
     "output_type": "display_data"
    }
   ],
   "source": [
    "info(tariffs)"
   ]
  },
  {
   "cell_type": "markdown",
   "metadata": {},
   "source": [
    "Таблица **tariffs** (информация о тарифах):  \n",
    "`tariff_name` — название тарифа  \n",
    "`rub_monthly_fee` — ежемесячная абонентская плата в рублях  \n",
    "`minutes_included` — количество минут разговора в месяц, включённых в абонентскую плату  \n",
    "`messages_included` — количество сообщений в месяц, включённых в абонентскую плату  \n",
    "`mb_per_month_included` — объём интернет-трафика, включённого в абонентскую плату (в мегабайтах)  \n",
    "`rub_per_minute` — стоимость минуты разговора сверх тарифного пакета (например, если в тарифе 100 минут разговора в месяц, то со 101 минуты будет взиматься плата)  \n",
    "`rub_per_message` — стоимость отправки сообщения сверх тарифного пакета  \n",
    "`rub_per_gb` — стоимость дополнительного гигабайта интернет-трафика сверх тарифного пакета (1 гигабайт = 1024 мегабайта)"
   ]
  },
  {
   "cell_type": "markdown",
   "metadata": {},
   "source": [
    "- [x]  названия столбцов в норме\n",
    "- [x]  пропусков нет\n",
    "- [x]  типы данных ок"
   ]
  },
  {
   "cell_type": "markdown",
   "metadata": {},
   "source": [
    "### Вывод"
   ]
  },
  {
   "cell_type": "markdown",
   "metadata": {},
   "source": [
    "Выявленные проблемы:\n",
    "\n",
    "Необходимо сменить типы данных во всех столбцах с датами, в таблице internet удалить лишний столбец.  \n",
    "Необходимо устранить выявленные проблемы, а также подробнее посмотреть на значения в таблицах для устранения возможных дубликатов и аномалий в данных."
   ]
  },
  {
   "cell_type": "markdown",
   "metadata": {},
   "source": [
    "## Предобработка данных"
   ]
  },
  {
   "cell_type": "markdown",
   "metadata": {},
   "source": [
    "Пройдем по каждому столбцу каждой таблицы отдельно и приведем все в порядок."
   ]
  },
  {
   "cell_type": "markdown",
   "metadata": {},
   "source": [
    "### calls"
   ]
  },
  {
   "cell_type": "code",
   "execution_count": 9,
   "metadata": {},
   "outputs": [],
   "source": [
    "def datetime(data, column, position ): #функция для приведения к формату даты и созданию столбца месяц\n",
    "    data[column] = pd.to_datetime(data[column], format='%Y-%m-%d')\n",
    "    data.insert(position, 'month', pd.DatetimeIndex(data[column]).month)\n",
    "    display(data.head())"
   ]
  },
  {
   "cell_type": "code",
   "execution_count": 10,
   "metadata": {},
   "outputs": [
    {
     "data": {
      "text/html": [
       "<div>\n",
       "<style scoped>\n",
       "    .dataframe tbody tr th:only-of-type {\n",
       "        vertical-align: middle;\n",
       "    }\n",
       "\n",
       "    .dataframe tbody tr th {\n",
       "        vertical-align: top;\n",
       "    }\n",
       "\n",
       "    .dataframe thead th {\n",
       "        text-align: right;\n",
       "    }\n",
       "</style>\n",
       "<table border=\"1\" class=\"dataframe\">\n",
       "  <thead>\n",
       "    <tr style=\"text-align: right;\">\n",
       "      <th></th>\n",
       "      <th>id</th>\n",
       "      <th>call_date</th>\n",
       "      <th>month</th>\n",
       "      <th>duration</th>\n",
       "      <th>user_id</th>\n",
       "    </tr>\n",
       "  </thead>\n",
       "  <tbody>\n",
       "    <tr>\n",
       "      <th>0</th>\n",
       "      <td>1000_0</td>\n",
       "      <td>2018-07-25</td>\n",
       "      <td>7</td>\n",
       "      <td>0.00</td>\n",
       "      <td>1000</td>\n",
       "    </tr>\n",
       "    <tr>\n",
       "      <th>1</th>\n",
       "      <td>1000_1</td>\n",
       "      <td>2018-08-17</td>\n",
       "      <td>8</td>\n",
       "      <td>0.00</td>\n",
       "      <td>1000</td>\n",
       "    </tr>\n",
       "    <tr>\n",
       "      <th>2</th>\n",
       "      <td>1000_2</td>\n",
       "      <td>2018-06-11</td>\n",
       "      <td>6</td>\n",
       "      <td>2.85</td>\n",
       "      <td>1000</td>\n",
       "    </tr>\n",
       "    <tr>\n",
       "      <th>3</th>\n",
       "      <td>1000_3</td>\n",
       "      <td>2018-09-21</td>\n",
       "      <td>9</td>\n",
       "      <td>13.80</td>\n",
       "      <td>1000</td>\n",
       "    </tr>\n",
       "    <tr>\n",
       "      <th>4</th>\n",
       "      <td>1000_4</td>\n",
       "      <td>2018-12-15</td>\n",
       "      <td>12</td>\n",
       "      <td>5.18</td>\n",
       "      <td>1000</td>\n",
       "    </tr>\n",
       "  </tbody>\n",
       "</table>\n",
       "</div>"
      ],
      "text/plain": [
       "       id  call_date  month  duration  user_id\n",
       "0  1000_0 2018-07-25      7      0.00     1000\n",
       "1  1000_1 2018-08-17      8      0.00     1000\n",
       "2  1000_2 2018-06-11      6      2.85     1000\n",
       "3  1000_3 2018-09-21      9     13.80     1000\n",
       "4  1000_4 2018-12-15     12      5.18     1000"
      ]
     },
     "metadata": {},
     "output_type": "display_data"
    }
   ],
   "source": [
    "datetime(calls, 'call_date', 2)"
   ]
  },
  {
   "cell_type": "markdown",
   "metadata": {},
   "source": [
    "Создадим функцию, которая:\n",
    "* считает дубликаты строк\n",
    "* выводит инфо о колонках таблицы\n",
    "* показывает значения звонков-трафика-сообщений по месяцам\n",
    "* меняет тип данных user_id на int"
   ]
  },
  {
   "cell_type": "code",
   "execution_count": 11,
   "metadata": {},
   "outputs": [],
   "source": [
    "def check(data): \n",
    "    print('Дубликатов строк', data.duplicated().sum())\n",
    "    for column in data.columns:\n",
    "        print()\n",
    "        print(data[column].describe(), end='\\n\\n\\n')\n",
    "    try:\n",
    "        display(data.pivot_table(index='month', values='id', aggfunc='count'))\n",
    "    except:\n",
    "        pass\n",
    "    try:\n",
    "        data['user_id'] = data['user_id'].astype('int')\n",
    "    except:\n",
    "        pass      \n",
    "    display(data.head())"
   ]
  },
  {
   "cell_type": "code",
   "execution_count": 12,
   "metadata": {},
   "outputs": [
    {
     "name": "stdout",
     "output_type": "stream",
     "text": [
      "Дубликатов строк 0\n",
      "\n",
      "count     202607\n",
      "unique    202607\n",
      "top       1000_0\n",
      "freq           1\n",
      "Name: id, dtype: object\n",
      "\n",
      "\n",
      "\n",
      "count                  202607\n",
      "unique                    365\n",
      "top       2018-12-31 00:00:00\n",
      "freq                     1435\n",
      "first     2018-01-01 00:00:00\n",
      "last      2018-12-31 00:00:00\n",
      "Name: call_date, dtype: object\n",
      "\n",
      "\n",
      "\n",
      "count    202607.000000\n",
      "mean          8.574067\n",
      "std           2.787093\n",
      "min           1.000000\n",
      "25%           7.000000\n",
      "50%           9.000000\n",
      "75%          11.000000\n",
      "max          12.000000\n",
      "Name: month, dtype: float64\n",
      "\n",
      "\n",
      "\n",
      "count    202607.000000\n",
      "mean          6.755887\n",
      "std           5.843365\n",
      "min           0.000000\n",
      "25%           1.300000\n",
      "50%           6.000000\n",
      "75%          10.700000\n",
      "max          38.000000\n",
      "Name: duration, dtype: float64\n",
      "\n",
      "\n",
      "\n",
      "count    202607.000000\n",
      "mean       1253.940619\n",
      "std         144.722751\n",
      "min        1000.000000\n",
      "25%        1126.000000\n",
      "50%        1260.000000\n",
      "75%        1379.000000\n",
      "max        1499.000000\n",
      "Name: user_id, dtype: float64\n",
      "\n",
      "\n"
     ]
    },
    {
     "data": {
      "text/html": [
       "<div>\n",
       "<style scoped>\n",
       "    .dataframe tbody tr th:only-of-type {\n",
       "        vertical-align: middle;\n",
       "    }\n",
       "\n",
       "    .dataframe tbody tr th {\n",
       "        vertical-align: top;\n",
       "    }\n",
       "\n",
       "    .dataframe thead th {\n",
       "        text-align: right;\n",
       "    }\n",
       "</style>\n",
       "<table border=\"1\" class=\"dataframe\">\n",
       "  <thead>\n",
       "    <tr style=\"text-align: right;\">\n",
       "      <th></th>\n",
       "      <th>id</th>\n",
       "    </tr>\n",
       "    <tr>\n",
       "      <th>month</th>\n",
       "      <th></th>\n",
       "    </tr>\n",
       "  </thead>\n",
       "  <tbody>\n",
       "    <tr>\n",
       "      <th>1</th>\n",
       "      <td>1476</td>\n",
       "    </tr>\n",
       "    <tr>\n",
       "      <th>2</th>\n",
       "      <td>3328</td>\n",
       "    </tr>\n",
       "    <tr>\n",
       "      <th>3</th>\n",
       "      <td>6687</td>\n",
       "    </tr>\n",
       "    <tr>\n",
       "      <th>4</th>\n",
       "      <td>9272</td>\n",
       "    </tr>\n",
       "    <tr>\n",
       "      <th>5</th>\n",
       "      <td>12647</td>\n",
       "    </tr>\n",
       "    <tr>\n",
       "      <th>6</th>\n",
       "      <td>14716</td>\n",
       "    </tr>\n",
       "    <tr>\n",
       "      <th>7</th>\n",
       "      <td>18298</td>\n",
       "    </tr>\n",
       "    <tr>\n",
       "      <th>8</th>\n",
       "      <td>21488</td>\n",
       "    </tr>\n",
       "    <tr>\n",
       "      <th>9</th>\n",
       "      <td>24061</td>\n",
       "    </tr>\n",
       "    <tr>\n",
       "      <th>10</th>\n",
       "      <td>27146</td>\n",
       "    </tr>\n",
       "    <tr>\n",
       "      <th>11</th>\n",
       "      <td>29501</td>\n",
       "    </tr>\n",
       "    <tr>\n",
       "      <th>12</th>\n",
       "      <td>33987</td>\n",
       "    </tr>\n",
       "  </tbody>\n",
       "</table>\n",
       "</div>"
      ],
      "text/plain": [
       "          id\n",
       "month       \n",
       "1       1476\n",
       "2       3328\n",
       "3       6687\n",
       "4       9272\n",
       "5      12647\n",
       "6      14716\n",
       "7      18298\n",
       "8      21488\n",
       "9      24061\n",
       "10     27146\n",
       "11     29501\n",
       "12     33987"
      ]
     },
     "metadata": {},
     "output_type": "display_data"
    },
    {
     "data": {
      "text/html": [
       "<div>\n",
       "<style scoped>\n",
       "    .dataframe tbody tr th:only-of-type {\n",
       "        vertical-align: middle;\n",
       "    }\n",
       "\n",
       "    .dataframe tbody tr th {\n",
       "        vertical-align: top;\n",
       "    }\n",
       "\n",
       "    .dataframe thead th {\n",
       "        text-align: right;\n",
       "    }\n",
       "</style>\n",
       "<table border=\"1\" class=\"dataframe\">\n",
       "  <thead>\n",
       "    <tr style=\"text-align: right;\">\n",
       "      <th></th>\n",
       "      <th>id</th>\n",
       "      <th>call_date</th>\n",
       "      <th>month</th>\n",
       "      <th>duration</th>\n",
       "      <th>user_id</th>\n",
       "    </tr>\n",
       "  </thead>\n",
       "  <tbody>\n",
       "    <tr>\n",
       "      <th>0</th>\n",
       "      <td>1000_0</td>\n",
       "      <td>2018-07-25</td>\n",
       "      <td>7</td>\n",
       "      <td>0.00</td>\n",
       "      <td>1000</td>\n",
       "    </tr>\n",
       "    <tr>\n",
       "      <th>1</th>\n",
       "      <td>1000_1</td>\n",
       "      <td>2018-08-17</td>\n",
       "      <td>8</td>\n",
       "      <td>0.00</td>\n",
       "      <td>1000</td>\n",
       "    </tr>\n",
       "    <tr>\n",
       "      <th>2</th>\n",
       "      <td>1000_2</td>\n",
       "      <td>2018-06-11</td>\n",
       "      <td>6</td>\n",
       "      <td>2.85</td>\n",
       "      <td>1000</td>\n",
       "    </tr>\n",
       "    <tr>\n",
       "      <th>3</th>\n",
       "      <td>1000_3</td>\n",
       "      <td>2018-09-21</td>\n",
       "      <td>9</td>\n",
       "      <td>13.80</td>\n",
       "      <td>1000</td>\n",
       "    </tr>\n",
       "    <tr>\n",
       "      <th>4</th>\n",
       "      <td>1000_4</td>\n",
       "      <td>2018-12-15</td>\n",
       "      <td>12</td>\n",
       "      <td>5.18</td>\n",
       "      <td>1000</td>\n",
       "    </tr>\n",
       "  </tbody>\n",
       "</table>\n",
       "</div>"
      ],
      "text/plain": [
       "       id  call_date  month  duration  user_id\n",
       "0  1000_0 2018-07-25      7      0.00     1000\n",
       "1  1000_1 2018-08-17      8      0.00     1000\n",
       "2  1000_2 2018-06-11      6      2.85     1000\n",
       "3  1000_3 2018-09-21      9     13.80     1000\n",
       "4  1000_4 2018-12-15     12      5.18     1000"
      ]
     },
     "metadata": {},
     "output_type": "display_data"
    }
   ],
   "source": [
    "check(calls)"
   ]
  },
  {
   "cell_type": "markdown",
   "metadata": {},
   "source": [
    "В столбце id дубликатов нет, формат call_date и user_id поменяли, добавили столбец с месяцем для будущих расчетов, теперь посмотрим на длительность звонков. Также видим, что количество звонков росло с каждым месяцем, вряд ли это вызвано сезонностью. Возможно, тарифы были запущены прямо с начала года. Частично подтвердить эту догадку позволит осмотр смс и трафика."
   ]
  },
  {
   "cell_type": "code",
   "execution_count": 13,
   "metadata": {},
   "outputs": [
    {
     "data": {
      "text/plain": [
       "<AxesSubplot:>"
      ]
     },
     "execution_count": 13,
     "metadata": {},
     "output_type": "execute_result"
    },
    {
     "data": {
      "image/png": "[encoded data removed]",
      "text/plain": [
       "<Figure size 1152x360 with 1 Axes>"
      ]
     },
     "metadata": {
      "needs_background": "light"
     },
     "output_type": "display_data"
    }
   ],
   "source": [
    "calls['duration'].hist(bins=100, figsize=(16, 5))"
   ]
  },
  {
   "cell_type": "markdown",
   "metadata": {},
   "source": [
    "Видим, что очень много значений звонков по 0 минут, была информация, что это не ошибка: нулями обозначены пропущенные звонки, поэтому их не нужно удалять, оставляем.  По имеющимся данным также, мы знаем, что звонки округляются в большую сторону до минут, проделаем это и приведем тип данных к int."
   ]
  },
  {
   "cell_type": "code",
   "execution_count": 14,
   "metadata": {},
   "outputs": [
    {
     "data": {
      "text/html": [
       "<div>\n",
       "<style scoped>\n",
       "    .dataframe tbody tr th:only-of-type {\n",
       "        vertical-align: middle;\n",
       "    }\n",
       "\n",
       "    .dataframe tbody tr th {\n",
       "        vertical-align: top;\n",
       "    }\n",
       "\n",
       "    .dataframe thead th {\n",
       "        text-align: right;\n",
       "    }\n",
       "</style>\n",
       "<table border=\"1\" class=\"dataframe\">\n",
       "  <thead>\n",
       "    <tr style=\"text-align: right;\">\n",
       "      <th></th>\n",
       "      <th>id</th>\n",
       "      <th>call_date</th>\n",
       "      <th>month</th>\n",
       "      <th>duration</th>\n",
       "      <th>user_id</th>\n",
       "    </tr>\n",
       "  </thead>\n",
       "  <tbody>\n",
       "    <tr>\n",
       "      <th>0</th>\n",
       "      <td>1000_0</td>\n",
       "      <td>2018-07-25</td>\n",
       "      <td>7</td>\n",
       "      <td>0</td>\n",
       "      <td>1000</td>\n",
       "    </tr>\n",
       "    <tr>\n",
       "      <th>1</th>\n",
       "      <td>1000_1</td>\n",
       "      <td>2018-08-17</td>\n",
       "      <td>8</td>\n",
       "      <td>0</td>\n",
       "      <td>1000</td>\n",
       "    </tr>\n",
       "    <tr>\n",
       "      <th>2</th>\n",
       "      <td>1000_2</td>\n",
       "      <td>2018-06-11</td>\n",
       "      <td>6</td>\n",
       "      <td>3</td>\n",
       "      <td>1000</td>\n",
       "    </tr>\n",
       "    <tr>\n",
       "      <th>3</th>\n",
       "      <td>1000_3</td>\n",
       "      <td>2018-09-21</td>\n",
       "      <td>9</td>\n",
       "      <td>14</td>\n",
       "      <td>1000</td>\n",
       "    </tr>\n",
       "    <tr>\n",
       "      <th>4</th>\n",
       "      <td>1000_4</td>\n",
       "      <td>2018-12-15</td>\n",
       "      <td>12</td>\n",
       "      <td>6</td>\n",
       "      <td>1000</td>\n",
       "    </tr>\n",
       "    <tr>\n",
       "      <th>5</th>\n",
       "      <td>1000_5</td>\n",
       "      <td>2018-11-02</td>\n",
       "      <td>11</td>\n",
       "      <td>0</td>\n",
       "      <td>1000</td>\n",
       "    </tr>\n",
       "    <tr>\n",
       "      <th>6</th>\n",
       "      <td>1000_6</td>\n",
       "      <td>2018-10-18</td>\n",
       "      <td>10</td>\n",
       "      <td>0</td>\n",
       "      <td>1000</td>\n",
       "    </tr>\n",
       "    <tr>\n",
       "      <th>7</th>\n",
       "      <td>1000_7</td>\n",
       "      <td>2018-08-22</td>\n",
       "      <td>8</td>\n",
       "      <td>19</td>\n",
       "      <td>1000</td>\n",
       "    </tr>\n",
       "    <tr>\n",
       "      <th>8</th>\n",
       "      <td>1000_8</td>\n",
       "      <td>2018-09-15</td>\n",
       "      <td>9</td>\n",
       "      <td>19</td>\n",
       "      <td>1000</td>\n",
       "    </tr>\n",
       "    <tr>\n",
       "      <th>9</th>\n",
       "      <td>1000_9</td>\n",
       "      <td>2018-08-15</td>\n",
       "      <td>8</td>\n",
       "      <td>0</td>\n",
       "      <td>1000</td>\n",
       "    </tr>\n",
       "  </tbody>\n",
       "</table>\n",
       "</div>"
      ],
      "text/plain": [
       "       id  call_date  month  duration  user_id\n",
       "0  1000_0 2018-07-25      7         0     1000\n",
       "1  1000_1 2018-08-17      8         0     1000\n",
       "2  1000_2 2018-06-11      6         3     1000\n",
       "3  1000_3 2018-09-21      9        14     1000\n",
       "4  1000_4 2018-12-15     12         6     1000\n",
       "5  1000_5 2018-11-02     11         0     1000\n",
       "6  1000_6 2018-10-18     10         0     1000\n",
       "7  1000_7 2018-08-22      8        19     1000\n",
       "8  1000_8 2018-09-15      9        19     1000\n",
       "9  1000_9 2018-08-15      8         0     1000"
      ]
     },
     "execution_count": 14,
     "metadata": {},
     "output_type": "execute_result"
    }
   ],
   "source": [
    "calls['duration'] = calls['duration'].apply(np.ceil).astype('int')\n",
    "calls.head(10)"
   ]
  },
  {
   "cell_type": "markdown",
   "metadata": {},
   "source": [
    "Данная таблица подготовлена для расчетов."
   ]
  },
  {
   "cell_type": "markdown",
   "metadata": {},
   "source": [
    "### internet"
   ]
  },
  {
   "cell_type": "code",
   "execution_count": 15,
   "metadata": {},
   "outputs": [],
   "source": [
    "internet.drop('Unnamed: 0', axis=1, inplace=True) #удаляем лишний столбец"
   ]
  },
  {
   "cell_type": "code",
   "execution_count": 16,
   "metadata": {},
   "outputs": [
    {
     "data": {
      "text/html": [
       "<div>\n",
       "<style scoped>\n",
       "    .dataframe tbody tr th:only-of-type {\n",
       "        vertical-align: middle;\n",
       "    }\n",
       "\n",
       "    .dataframe tbody tr th {\n",
       "        vertical-align: top;\n",
       "    }\n",
       "\n",
       "    .dataframe thead th {\n",
       "        text-align: right;\n",
       "    }\n",
       "</style>\n",
       "<table border=\"1\" class=\"dataframe\">\n",
       "  <thead>\n",
       "    <tr style=\"text-align: right;\">\n",
       "      <th></th>\n",
       "      <th>id</th>\n",
       "      <th>mb_used</th>\n",
       "      <th>session_date</th>\n",
       "      <th>month</th>\n",
       "      <th>user_id</th>\n",
       "    </tr>\n",
       "  </thead>\n",
       "  <tbody>\n",
       "    <tr>\n",
       "      <th>0</th>\n",
       "      <td>1000_0</td>\n",
       "      <td>112.95</td>\n",
       "      <td>2018-11-25</td>\n",
       "      <td>11</td>\n",
       "      <td>1000</td>\n",
       "    </tr>\n",
       "    <tr>\n",
       "      <th>1</th>\n",
       "      <td>1000_1</td>\n",
       "      <td>1052.81</td>\n",
       "      <td>2018-09-07</td>\n",
       "      <td>9</td>\n",
       "      <td>1000</td>\n",
       "    </tr>\n",
       "    <tr>\n",
       "      <th>2</th>\n",
       "      <td>1000_2</td>\n",
       "      <td>1197.26</td>\n",
       "      <td>2018-06-25</td>\n",
       "      <td>6</td>\n",
       "      <td>1000</td>\n",
       "    </tr>\n",
       "    <tr>\n",
       "      <th>3</th>\n",
       "      <td>1000_3</td>\n",
       "      <td>550.27</td>\n",
       "      <td>2018-08-22</td>\n",
       "      <td>8</td>\n",
       "      <td>1000</td>\n",
       "    </tr>\n",
       "    <tr>\n",
       "      <th>4</th>\n",
       "      <td>1000_4</td>\n",
       "      <td>302.56</td>\n",
       "      <td>2018-09-24</td>\n",
       "      <td>9</td>\n",
       "      <td>1000</td>\n",
       "    </tr>\n",
       "  </tbody>\n",
       "</table>\n",
       "</div>"
      ],
      "text/plain": [
       "       id  mb_used session_date  month  user_id\n",
       "0  1000_0   112.95   2018-11-25     11     1000\n",
       "1  1000_1  1052.81   2018-09-07      9     1000\n",
       "2  1000_2  1197.26   2018-06-25      6     1000\n",
       "3  1000_3   550.27   2018-08-22      8     1000\n",
       "4  1000_4   302.56   2018-09-24      9     1000"
      ]
     },
     "metadata": {},
     "output_type": "display_data"
    }
   ],
   "source": [
    "datetime(internet, 'session_date', 3) #добавляем месяцы"
   ]
  },
  {
   "cell_type": "code",
   "execution_count": 17,
   "metadata": {},
   "outputs": [
    {
     "name": "stdout",
     "output_type": "stream",
     "text": [
      "Дубликатов строк 0\n",
      "\n",
      "count     149396\n",
      "unique    149396\n",
      "top       1000_0\n",
      "freq           1\n",
      "Name: id, dtype: object\n",
      "\n",
      "\n",
      "\n",
      "count    149396.000000\n",
      "mean        370.192426\n",
      "std         278.300951\n",
      "min           0.000000\n",
      "25%         138.187500\n",
      "50%         348.015000\n",
      "75%         559.552500\n",
      "max        1724.830000\n",
      "Name: mb_used, dtype: float64\n",
      "\n",
      "\n",
      "\n",
      "count                  149396\n",
      "unique                    365\n",
      "top       2018-12-31 00:00:00\n",
      "freq                     1057\n",
      "first     2018-01-01 00:00:00\n",
      "last      2018-12-31 00:00:00\n",
      "Name: session_date, dtype: object\n",
      "\n",
      "\n",
      "\n",
      "count    149396.000000\n",
      "mean          8.563315\n",
      "std           2.788717\n",
      "min           1.000000\n",
      "25%           7.000000\n",
      "50%           9.000000\n",
      "75%          11.000000\n",
      "max          12.000000\n",
      "Name: month, dtype: float64\n",
      "\n",
      "\n",
      "\n",
      "count    149396.000000\n",
      "mean       1252.099842\n",
      "std         144.050823\n",
      "min        1000.000000\n",
      "25%        1130.000000\n",
      "50%        1251.000000\n",
      "75%        1380.000000\n",
      "max        1499.000000\n",
      "Name: user_id, dtype: float64\n",
      "\n",
      "\n"
     ]
    },
    {
     "data": {
      "text/html": [
       "<div>\n",
       "<style scoped>\n",
       "    .dataframe tbody tr th:only-of-type {\n",
       "        vertical-align: middle;\n",
       "    }\n",
       "\n",
       "    .dataframe tbody tr th {\n",
       "        vertical-align: top;\n",
       "    }\n",
       "\n",
       "    .dataframe thead th {\n",
       "        text-align: right;\n",
       "    }\n",
       "</style>\n",
       "<table border=\"1\" class=\"dataframe\">\n",
       "  <thead>\n",
       "    <tr style=\"text-align: right;\">\n",
       "      <th></th>\n",
       "      <th>id</th>\n",
       "    </tr>\n",
       "    <tr>\n",
       "      <th>month</th>\n",
       "      <th></th>\n",
       "    </tr>\n",
       "  </thead>\n",
       "  <tbody>\n",
       "    <tr>\n",
       "      <th>1</th>\n",
       "      <td>1117</td>\n",
       "    </tr>\n",
       "    <tr>\n",
       "      <th>2</th>\n",
       "      <td>2641</td>\n",
       "    </tr>\n",
       "    <tr>\n",
       "      <th>3</th>\n",
       "      <td>4885</td>\n",
       "    </tr>\n",
       "    <tr>\n",
       "      <th>4</th>\n",
       "      <td>6511</td>\n",
       "    </tr>\n",
       "    <tr>\n",
       "      <th>5</th>\n",
       "      <td>9408</td>\n",
       "    </tr>\n",
       "    <tr>\n",
       "      <th>6</th>\n",
       "      <td>11057</td>\n",
       "    </tr>\n",
       "    <tr>\n",
       "      <th>7</th>\n",
       "      <td>13548</td>\n",
       "    </tr>\n",
       "    <tr>\n",
       "      <th>8</th>\n",
       "      <td>16092</td>\n",
       "    </tr>\n",
       "    <tr>\n",
       "      <th>9</th>\n",
       "      <td>17512</td>\n",
       "    </tr>\n",
       "    <tr>\n",
       "      <th>10</th>\n",
       "      <td>20009</td>\n",
       "    </tr>\n",
       "    <tr>\n",
       "      <th>11</th>\n",
       "      <td>21817</td>\n",
       "    </tr>\n",
       "    <tr>\n",
       "      <th>12</th>\n",
       "      <td>24799</td>\n",
       "    </tr>\n",
       "  </tbody>\n",
       "</table>\n",
       "</div>"
      ],
      "text/plain": [
       "          id\n",
       "month       \n",
       "1       1117\n",
       "2       2641\n",
       "3       4885\n",
       "4       6511\n",
       "5       9408\n",
       "6      11057\n",
       "7      13548\n",
       "8      16092\n",
       "9      17512\n",
       "10     20009\n",
       "11     21817\n",
       "12     24799"
      ]
     },
     "metadata": {},
     "output_type": "display_data"
    },
    {
     "data": {
      "text/html": [
       "<div>\n",
       "<style scoped>\n",
       "    .dataframe tbody tr th:only-of-type {\n",
       "        vertical-align: middle;\n",
       "    }\n",
       "\n",
       "    .dataframe tbody tr th {\n",
       "        vertical-align: top;\n",
       "    }\n",
       "\n",
       "    .dataframe thead th {\n",
       "        text-align: right;\n",
       "    }\n",
       "</style>\n",
       "<table border=\"1\" class=\"dataframe\">\n",
       "  <thead>\n",
       "    <tr style=\"text-align: right;\">\n",
       "      <th></th>\n",
       "      <th>id</th>\n",
       "      <th>mb_used</th>\n",
       "      <th>session_date</th>\n",
       "      <th>month</th>\n",
       "      <th>user_id</th>\n",
       "    </tr>\n",
       "  </thead>\n",
       "  <tbody>\n",
       "    <tr>\n",
       "      <th>0</th>\n",
       "      <td>1000_0</td>\n",
       "      <td>112.95</td>\n",
       "      <td>2018-11-25</td>\n",
       "      <td>11</td>\n",
       "      <td>1000</td>\n",
       "    </tr>\n",
       "    <tr>\n",
       "      <th>1</th>\n",
       "      <td>1000_1</td>\n",
       "      <td>1052.81</td>\n",
       "      <td>2018-09-07</td>\n",
       "      <td>9</td>\n",
       "      <td>1000</td>\n",
       "    </tr>\n",
       "    <tr>\n",
       "      <th>2</th>\n",
       "      <td>1000_2</td>\n",
       "      <td>1197.26</td>\n",
       "      <td>2018-06-25</td>\n",
       "      <td>6</td>\n",
       "      <td>1000</td>\n",
       "    </tr>\n",
       "    <tr>\n",
       "      <th>3</th>\n",
       "      <td>1000_3</td>\n",
       "      <td>550.27</td>\n",
       "      <td>2018-08-22</td>\n",
       "      <td>8</td>\n",
       "      <td>1000</td>\n",
       "    </tr>\n",
       "    <tr>\n",
       "      <th>4</th>\n",
       "      <td>1000_4</td>\n",
       "      <td>302.56</td>\n",
       "      <td>2018-09-24</td>\n",
       "      <td>9</td>\n",
       "      <td>1000</td>\n",
       "    </tr>\n",
       "  </tbody>\n",
       "</table>\n",
       "</div>"
      ],
      "text/plain": [
       "       id  mb_used session_date  month  user_id\n",
       "0  1000_0   112.95   2018-11-25     11     1000\n",
       "1  1000_1  1052.81   2018-09-07      9     1000\n",
       "2  1000_2  1197.26   2018-06-25      6     1000\n",
       "3  1000_3   550.27   2018-08-22      8     1000\n",
       "4  1000_4   302.56   2018-09-24      9     1000"
      ]
     },
     "metadata": {},
     "output_type": "display_data"
    }
   ],
   "source": [
    "check(internet)"
   ]
  },
  {
   "cell_type": "markdown",
   "metadata": {},
   "source": [
    "В столбце id дубликатов нет, формат session_date и user_id поменяли, добавили столбец с месяцем для будущих расчетов. Видим, что трафик по месяцам также рос по аналогии со звонками, плюс в опльзу теории новых тарифов. Теперь посмотрим на длительность интернет-сессий."
   ]
  },
  {
   "cell_type": "code",
   "execution_count": 18,
   "metadata": {},
   "outputs": [
    {
     "data": {
      "text/plain": [
       "<AxesSubplot:>"
      ]
     },
     "execution_count": 18,
     "metadata": {},
     "output_type": "execute_result"
    },
    {
     "data": {
      "image/png": "[encoded data removed]",
      "text/plain": [
       "<Figure size 1152x360 with 1 Axes>"
      ]
     },
     "metadata": {
      "needs_background": "light"
     },
     "output_type": "display_data"
    }
   ],
   "source": [
    "internet['mb_used'].hist(bins=100, figsize=(16, 5))"
   ]
  },
  {
   "cell_type": "markdown",
   "metadata": {},
   "source": [
    "Очень похоже на распределение длительности звонков, а значит и на правду. Про сессии в 0мб по условию ничего не сказано, но можно предположить, что логика примерно такая же, возможно, это какие-то неудачные попытки подключения к интренету при отсуствии сигнала. Оставляем их.  \n",
    "Для веб-трафика отдельные сессии не считаются. Вместо этого общая сумма за месяц округляется в бо́льшую сторону. Если абонент использует 1025 мегабайт в этом месяце, с него возьмут плату за 2 гигабайта. Исходя из этого условия в текущей таблице округлять трафик мы не будем, но переведем его в Гб, а при расчетах вернемся к округлению."
   ]
  },
  {
   "cell_type": "code",
   "execution_count": 19,
   "metadata": {},
   "outputs": [
    {
     "data": {
      "text/html": [
       "<div>\n",
       "<style scoped>\n",
       "    .dataframe tbody tr th:only-of-type {\n",
       "        vertical-align: middle;\n",
       "    }\n",
       "\n",
       "    .dataframe tbody tr th {\n",
       "        vertical-align: top;\n",
       "    }\n",
       "\n",
       "    .dataframe thead th {\n",
       "        text-align: right;\n",
       "    }\n",
       "</style>\n",
       "<table border=\"1\" class=\"dataframe\">\n",
       "  <thead>\n",
       "    <tr style=\"text-align: right;\">\n",
       "      <th></th>\n",
       "      <th>id</th>\n",
       "      <th>gb_used</th>\n",
       "      <th>session_date</th>\n",
       "      <th>month</th>\n",
       "      <th>user_id</th>\n",
       "    </tr>\n",
       "  </thead>\n",
       "  <tbody>\n",
       "    <tr>\n",
       "      <th>0</th>\n",
       "      <td>1000_0</td>\n",
       "      <td>0.110303</td>\n",
       "      <td>2018-11-25</td>\n",
       "      <td>11</td>\n",
       "      <td>1000</td>\n",
       "    </tr>\n",
       "    <tr>\n",
       "      <th>1</th>\n",
       "      <td>1000_1</td>\n",
       "      <td>1.028135</td>\n",
       "      <td>2018-09-07</td>\n",
       "      <td>9</td>\n",
       "      <td>1000</td>\n",
       "    </tr>\n",
       "    <tr>\n",
       "      <th>2</th>\n",
       "      <td>1000_2</td>\n",
       "      <td>1.169199</td>\n",
       "      <td>2018-06-25</td>\n",
       "      <td>6</td>\n",
       "      <td>1000</td>\n",
       "    </tr>\n",
       "    <tr>\n",
       "      <th>3</th>\n",
       "      <td>1000_3</td>\n",
       "      <td>0.537373</td>\n",
       "      <td>2018-08-22</td>\n",
       "      <td>8</td>\n",
       "      <td>1000</td>\n",
       "    </tr>\n",
       "    <tr>\n",
       "      <th>4</th>\n",
       "      <td>1000_4</td>\n",
       "      <td>0.295469</td>\n",
       "      <td>2018-09-24</td>\n",
       "      <td>9</td>\n",
       "      <td>1000</td>\n",
       "    </tr>\n",
       "  </tbody>\n",
       "</table>\n",
       "</div>"
      ],
      "text/plain": [
       "       id   gb_used session_date  month  user_id\n",
       "0  1000_0  0.110303   2018-11-25     11     1000\n",
       "1  1000_1  1.028135   2018-09-07      9     1000\n",
       "2  1000_2  1.169199   2018-06-25      6     1000\n",
       "3  1000_3  0.537373   2018-08-22      8     1000\n",
       "4  1000_4  0.295469   2018-09-24      9     1000"
      ]
     },
     "execution_count": 19,
     "metadata": {},
     "output_type": "execute_result"
    }
   ],
   "source": [
    "internet.insert(1, 'gb_used', internet['mb_used'] / 1024)   #создаем новый столбец\n",
    "internet.drop('mb_used', axis=1, inplace=True)  #дропаем старый\n",
    "internet.head()"
   ]
  },
  {
   "cell_type": "markdown",
   "metadata": {},
   "source": [
    "### messages"
   ]
  },
  {
   "cell_type": "code",
   "execution_count": 20,
   "metadata": {},
   "outputs": [
    {
     "data": {
      "text/html": [
       "<div>\n",
       "<style scoped>\n",
       "    .dataframe tbody tr th:only-of-type {\n",
       "        vertical-align: middle;\n",
       "    }\n",
       "\n",
       "    .dataframe tbody tr th {\n",
       "        vertical-align: top;\n",
       "    }\n",
       "\n",
       "    .dataframe thead th {\n",
       "        text-align: right;\n",
       "    }\n",
       "</style>\n",
       "<table border=\"1\" class=\"dataframe\">\n",
       "  <thead>\n",
       "    <tr style=\"text-align: right;\">\n",
       "      <th></th>\n",
       "      <th>id</th>\n",
       "      <th>message_date</th>\n",
       "      <th>month</th>\n",
       "      <th>user_id</th>\n",
       "    </tr>\n",
       "  </thead>\n",
       "  <tbody>\n",
       "    <tr>\n",
       "      <th>0</th>\n",
       "      <td>1000_0</td>\n",
       "      <td>2018-06-27</td>\n",
       "      <td>6</td>\n",
       "      <td>1000</td>\n",
       "    </tr>\n",
       "    <tr>\n",
       "      <th>1</th>\n",
       "      <td>1000_1</td>\n",
       "      <td>2018-10-08</td>\n",
       "      <td>10</td>\n",
       "      <td>1000</td>\n",
       "    </tr>\n",
       "    <tr>\n",
       "      <th>2</th>\n",
       "      <td>1000_2</td>\n",
       "      <td>2018-08-04</td>\n",
       "      <td>8</td>\n",
       "      <td>1000</td>\n",
       "    </tr>\n",
       "    <tr>\n",
       "      <th>3</th>\n",
       "      <td>1000_3</td>\n",
       "      <td>2018-06-16</td>\n",
       "      <td>6</td>\n",
       "      <td>1000</td>\n",
       "    </tr>\n",
       "    <tr>\n",
       "      <th>4</th>\n",
       "      <td>1000_4</td>\n",
       "      <td>2018-12-05</td>\n",
       "      <td>12</td>\n",
       "      <td>1000</td>\n",
       "    </tr>\n",
       "  </tbody>\n",
       "</table>\n",
       "</div>"
      ],
      "text/plain": [
       "       id message_date  month  user_id\n",
       "0  1000_0   2018-06-27      6     1000\n",
       "1  1000_1   2018-10-08     10     1000\n",
       "2  1000_2   2018-08-04      8     1000\n",
       "3  1000_3   2018-06-16      6     1000\n",
       "4  1000_4   2018-12-05     12     1000"
      ]
     },
     "metadata": {},
     "output_type": "display_data"
    }
   ],
   "source": [
    "datetime(messages, 'message_date', 2)"
   ]
  },
  {
   "cell_type": "code",
   "execution_count": 21,
   "metadata": {},
   "outputs": [
    {
     "name": "stdout",
     "output_type": "stream",
     "text": [
      "Дубликатов строк 0\n",
      "\n",
      "count     123036\n",
      "unique    123036\n",
      "top       1000_0\n",
      "freq           1\n",
      "Name: id, dtype: object\n",
      "\n",
      "\n",
      "\n",
      "count                  123036\n",
      "unique                    364\n",
      "top       2018-12-31 00:00:00\n",
      "freq                      859\n",
      "first     2018-01-02 00:00:00\n",
      "last      2018-12-31 00:00:00\n",
      "Name: message_date, dtype: object\n",
      "\n",
      "\n",
      "\n",
      "count    123036.000000\n",
      "mean          8.632262\n",
      "std           2.747328\n",
      "min           1.000000\n",
      "25%           7.000000\n",
      "50%           9.000000\n",
      "75%          11.000000\n",
      "max          12.000000\n",
      "Name: month, dtype: float64\n",
      "\n",
      "\n",
      "\n",
      "count    123036.000000\n",
      "mean       1256.989410\n",
      "std         143.523967\n",
      "min        1000.000000\n",
      "25%        1134.000000\n",
      "50%        1271.000000\n",
      "75%        1381.000000\n",
      "max        1499.000000\n",
      "Name: user_id, dtype: float64\n",
      "\n",
      "\n"
     ]
    },
    {
     "data": {
      "text/html": [
       "<div>\n",
       "<style scoped>\n",
       "    .dataframe tbody tr th:only-of-type {\n",
       "        vertical-align: middle;\n",
       "    }\n",
       "\n",
       "    .dataframe tbody tr th {\n",
       "        vertical-align: top;\n",
       "    }\n",
       "\n",
       "    .dataframe thead th {\n",
       "        text-align: right;\n",
       "    }\n",
       "</style>\n",
       "<table border=\"1\" class=\"dataframe\">\n",
       "  <thead>\n",
       "    <tr style=\"text-align: right;\">\n",
       "      <th></th>\n",
       "      <th>id</th>\n",
       "    </tr>\n",
       "    <tr>\n",
       "      <th>month</th>\n",
       "      <th></th>\n",
       "    </tr>\n",
       "  </thead>\n",
       "  <tbody>\n",
       "    <tr>\n",
       "      <th>1</th>\n",
       "      <td>924</td>\n",
       "    </tr>\n",
       "    <tr>\n",
       "      <th>2</th>\n",
       "      <td>1924</td>\n",
       "    </tr>\n",
       "    <tr>\n",
       "      <th>3</th>\n",
       "      <td>3648</td>\n",
       "    </tr>\n",
       "    <tr>\n",
       "      <th>4</th>\n",
       "      <td>5179</td>\n",
       "    </tr>\n",
       "    <tr>\n",
       "      <th>5</th>\n",
       "      <td>7298</td>\n",
       "    </tr>\n",
       "    <tr>\n",
       "      <th>6</th>\n",
       "      <td>8983</td>\n",
       "    </tr>\n",
       "    <tr>\n",
       "      <th>7</th>\n",
       "      <td>11320</td>\n",
       "    </tr>\n",
       "    <tr>\n",
       "      <th>8</th>\n",
       "      <td>13088</td>\n",
       "    </tr>\n",
       "    <tr>\n",
       "      <th>9</th>\n",
       "      <td>14759</td>\n",
       "    </tr>\n",
       "    <tr>\n",
       "      <th>10</th>\n",
       "      <td>17114</td>\n",
       "    </tr>\n",
       "    <tr>\n",
       "      <th>11</th>\n",
       "      <td>18244</td>\n",
       "    </tr>\n",
       "    <tr>\n",
       "      <th>12</th>\n",
       "      <td>20555</td>\n",
       "    </tr>\n",
       "  </tbody>\n",
       "</table>\n",
       "</div>"
      ],
      "text/plain": [
       "          id\n",
       "month       \n",
       "1        924\n",
       "2       1924\n",
       "3       3648\n",
       "4       5179\n",
       "5       7298\n",
       "6       8983\n",
       "7      11320\n",
       "8      13088\n",
       "9      14759\n",
       "10     17114\n",
       "11     18244\n",
       "12     20555"
      ]
     },
     "metadata": {},
     "output_type": "display_data"
    },
    {
     "data": {
      "text/html": [
       "<div>\n",
       "<style scoped>\n",
       "    .dataframe tbody tr th:only-of-type {\n",
       "        vertical-align: middle;\n",
       "    }\n",
       "\n",
       "    .dataframe tbody tr th {\n",
       "        vertical-align: top;\n",
       "    }\n",
       "\n",
       "    .dataframe thead th {\n",
       "        text-align: right;\n",
       "    }\n",
       "</style>\n",
       "<table border=\"1\" class=\"dataframe\">\n",
       "  <thead>\n",
       "    <tr style=\"text-align: right;\">\n",
       "      <th></th>\n",
       "      <th>id</th>\n",
       "      <th>message_date</th>\n",
       "      <th>month</th>\n",
       "      <th>user_id</th>\n",
       "    </tr>\n",
       "  </thead>\n",
       "  <tbody>\n",
       "    <tr>\n",
       "      <th>0</th>\n",
       "      <td>1000_0</td>\n",
       "      <td>2018-06-27</td>\n",
       "      <td>6</td>\n",
       "      <td>1000</td>\n",
       "    </tr>\n",
       "    <tr>\n",
       "      <th>1</th>\n",
       "      <td>1000_1</td>\n",
       "      <td>2018-10-08</td>\n",
       "      <td>10</td>\n",
       "      <td>1000</td>\n",
       "    </tr>\n",
       "    <tr>\n",
       "      <th>2</th>\n",
       "      <td>1000_2</td>\n",
       "      <td>2018-08-04</td>\n",
       "      <td>8</td>\n",
       "      <td>1000</td>\n",
       "    </tr>\n",
       "    <tr>\n",
       "      <th>3</th>\n",
       "      <td>1000_3</td>\n",
       "      <td>2018-06-16</td>\n",
       "      <td>6</td>\n",
       "      <td>1000</td>\n",
       "    </tr>\n",
       "    <tr>\n",
       "      <th>4</th>\n",
       "      <td>1000_4</td>\n",
       "      <td>2018-12-05</td>\n",
       "      <td>12</td>\n",
       "      <td>1000</td>\n",
       "    </tr>\n",
       "  </tbody>\n",
       "</table>\n",
       "</div>"
      ],
      "text/plain": [
       "       id message_date  month  user_id\n",
       "0  1000_0   2018-06-27      6     1000\n",
       "1  1000_1   2018-10-08     10     1000\n",
       "2  1000_2   2018-08-04      8     1000\n",
       "3  1000_3   2018-06-16      6     1000\n",
       "4  1000_4   2018-12-05     12     1000"
      ]
     },
     "metadata": {},
     "output_type": "display_data"
    }
   ],
   "source": [
    "check(messages)"
   ]
  },
  {
   "cell_type": "markdown",
   "metadata": {},
   "source": [
    "В столбце id дубликатов нет, формат message_date и user_id поменяли, добавили столбец с месяцем для будущих расчетов. Видим, что количество смс по месяцам также росло по аналогии со звонками и трафиком, плюс в пользу теории новых тарифов. Также интересный момент, что в один из дней не было отправлено ни одного смс, а точнее 1 января, тк в таблице распределения певрое значение - 02.01.2018. Либо смс действительно не отправлялись, либо данные были утеряны. В реально жизни, возможно, стоило бы проверить запрос."
   ]
  },
  {
   "cell_type": "markdown",
   "metadata": {},
   "source": [
    "### users"
   ]
  },
  {
   "cell_type": "markdown",
   "metadata": {},
   "source": [
    "Поменяем типы данных в столбце churn_date и reg_date без создания доп столбца месяц."
   ]
  },
  {
   "cell_type": "code",
   "execution_count": 22,
   "metadata": {},
   "outputs": [],
   "source": [
    "users['churn_date'] = pd.to_datetime(users['churn_date'], format='%Y-%m-%d')\n",
    "users['reg_date'] = pd.to_datetime(users['reg_date'], format='%Y-%m-%d')"
   ]
  },
  {
   "cell_type": "code",
   "execution_count": 23,
   "metadata": {},
   "outputs": [
    {
     "name": "stdout",
     "output_type": "stream",
     "text": [
      "Дубликатов строк 0\n",
      "\n",
      "count     500.000000\n",
      "mean     1249.500000\n",
      "std       144.481833\n",
      "min      1000.000000\n",
      "25%      1124.750000\n",
      "50%      1249.500000\n",
      "75%      1374.250000\n",
      "max      1499.000000\n",
      "Name: user_id, dtype: float64\n",
      "\n",
      "\n",
      "\n",
      "count    500.00000\n",
      "mean      46.58800\n",
      "std       16.66763\n",
      "min       18.00000\n",
      "25%       32.00000\n",
      "50%       46.00000\n",
      "75%       62.00000\n",
      "max       75.00000\n",
      "Name: age, dtype: float64\n",
      "\n",
      "\n",
      "\n",
      "count                      38\n",
      "unique                     33\n",
      "top       2018-12-03 00:00:00\n",
      "freq                        2\n",
      "first     2018-08-17 00:00:00\n",
      "last      2018-12-30 00:00:00\n",
      "Name: churn_date, dtype: object\n",
      "\n",
      "\n",
      "\n",
      "count        500\n",
      "unique        76\n",
      "top       Москва\n",
      "freq          99\n",
      "Name: city, dtype: object\n",
      "\n",
      "\n",
      "\n",
      "count       500\n",
      "unique      246\n",
      "top       Радим\n",
      "freq          6\n",
      "Name: first_name, dtype: object\n",
      "\n",
      "\n",
      "\n",
      "count           500\n",
      "unique          419\n",
      "top       Андреенко\n",
      "freq              5\n",
      "Name: last_name, dtype: object\n",
      "\n",
      "\n",
      "\n",
      "count                     500\n",
      "unique                    270\n",
      "top       2018-05-28 00:00:00\n",
      "freq                        8\n",
      "first     2018-01-01 00:00:00\n",
      "last      2018-12-31 00:00:00\n",
      "Name: reg_date, dtype: object\n",
      "\n",
      "\n",
      "\n",
      "count       500\n",
      "unique        2\n",
      "top       smart\n",
      "freq        351\n",
      "Name: tariff, dtype: object\n",
      "\n",
      "\n"
     ]
    },
    {
     "data": {
      "text/html": [
       "<div>\n",
       "<style scoped>\n",
       "    .dataframe tbody tr th:only-of-type {\n",
       "        vertical-align: middle;\n",
       "    }\n",
       "\n",
       "    .dataframe tbody tr th {\n",
       "        vertical-align: top;\n",
       "    }\n",
       "\n",
       "    .dataframe thead th {\n",
       "        text-align: right;\n",
       "    }\n",
       "</style>\n",
       "<table border=\"1\" class=\"dataframe\">\n",
       "  <thead>\n",
       "    <tr style=\"text-align: right;\">\n",
       "      <th></th>\n",
       "      <th>user_id</th>\n",
       "      <th>age</th>\n",
       "      <th>churn_date</th>\n",
       "      <th>city</th>\n",
       "      <th>first_name</th>\n",
       "      <th>last_name</th>\n",
       "      <th>reg_date</th>\n",
       "      <th>tariff</th>\n",
       "    </tr>\n",
       "  </thead>\n",
       "  <tbody>\n",
       "    <tr>\n",
       "      <th>0</th>\n",
       "      <td>1000</td>\n",
       "      <td>52</td>\n",
       "      <td>NaT</td>\n",
       "      <td>Краснодар</td>\n",
       "      <td>Рафаил</td>\n",
       "      <td>Верещагин</td>\n",
       "      <td>2018-05-25</td>\n",
       "      <td>ultra</td>\n",
       "    </tr>\n",
       "    <tr>\n",
       "      <th>1</th>\n",
       "      <td>1001</td>\n",
       "      <td>41</td>\n",
       "      <td>NaT</td>\n",
       "      <td>Москва</td>\n",
       "      <td>Иван</td>\n",
       "      <td>Ежов</td>\n",
       "      <td>2018-11-01</td>\n",
       "      <td>smart</td>\n",
       "    </tr>\n",
       "    <tr>\n",
       "      <th>2</th>\n",
       "      <td>1002</td>\n",
       "      <td>59</td>\n",
       "      <td>NaT</td>\n",
       "      <td>Стерлитамак</td>\n",
       "      <td>Евгений</td>\n",
       "      <td>Абрамович</td>\n",
       "      <td>2018-06-17</td>\n",
       "      <td>smart</td>\n",
       "    </tr>\n",
       "    <tr>\n",
       "      <th>3</th>\n",
       "      <td>1003</td>\n",
       "      <td>23</td>\n",
       "      <td>NaT</td>\n",
       "      <td>Москва</td>\n",
       "      <td>Белла</td>\n",
       "      <td>Белякова</td>\n",
       "      <td>2018-08-17</td>\n",
       "      <td>ultra</td>\n",
       "    </tr>\n",
       "    <tr>\n",
       "      <th>4</th>\n",
       "      <td>1004</td>\n",
       "      <td>68</td>\n",
       "      <td>NaT</td>\n",
       "      <td>Новокузнецк</td>\n",
       "      <td>Татьяна</td>\n",
       "      <td>Авдеенко</td>\n",
       "      <td>2018-05-14</td>\n",
       "      <td>ultra</td>\n",
       "    </tr>\n",
       "  </tbody>\n",
       "</table>\n",
       "</div>"
      ],
      "text/plain": [
       "   user_id  age churn_date         city first_name  last_name   reg_date  \\\n",
       "0     1000   52        NaT    Краснодар     Рафаил  Верещагин 2018-05-25   \n",
       "1     1001   41        NaT       Москва       Иван       Ежов 2018-11-01   \n",
       "2     1002   59        NaT  Стерлитамак    Евгений  Абрамович 2018-06-17   \n",
       "3     1003   23        NaT       Москва      Белла   Белякова 2018-08-17   \n",
       "4     1004   68        NaT  Новокузнецк    Татьяна   Авдеенко 2018-05-14   \n",
       "\n",
       "  tariff  \n",
       "0  ultra  \n",
       "1  smart  \n",
       "2  smart  \n",
       "3  ultra  \n",
       "4  ultra  "
      ]
     },
     "metadata": {},
     "output_type": "display_data"
    }
   ],
   "source": [
    "check(users)"
   ]
  },
  {
   "cell_type": "markdown",
   "metadata": {},
   "source": [
    "В столбце id дубликатов нет, формат churn_date, reg_date и user_id поменяли. По количеству уникальных значений в именах и фамилиях все выглядит ок, по датам тоже. Проверим на всякий случай уникальные значения по городам, нет ли там записанных с ошибками итд."
   ]
  },
  {
   "cell_type": "code",
   "execution_count": 24,
   "metadata": {},
   "outputs": [
    {
     "data": {
      "text/plain": [
       "array(['Краснодар', 'Москва', 'Стерлитамак', 'Новокузнецк',\n",
       "       'Набережные Челны', 'Ульяновск', 'Челябинск', 'Пермь', 'Тюмень',\n",
       "       'Самара', 'Санкт-Петербург', 'Иваново', 'Чебоксары', 'Омск', 'Уфа',\n",
       "       'Томск', 'Чита', 'Мурманск', 'Петрозаводск', 'Тверь',\n",
       "       'Екатеринбург', 'Махачкала', 'Вологда', 'Череповец', 'Ярославль',\n",
       "       'Сочи', 'Хабаровск', 'Ставрополь', 'Рязань', 'Улан-Удэ', 'Тула',\n",
       "       'Саратов', 'Ростов-на-Дону', 'Казань', 'Иркутск', 'Курск',\n",
       "       'Калуга', 'Якутск', 'Астрахань', 'Химки', 'Владикавказ',\n",
       "       'Волгоград', 'Саранск', 'Ижевск', 'Новосибирск', 'Брянск',\n",
       "       'Тольятти', 'Нижний Тагил', 'Орёл', 'Белгород', 'Воронеж',\n",
       "       'Волжский', 'Курган', 'Барнаул', 'Красноярск', 'Архангельск',\n",
       "       'Липецк', 'Кемерово', 'Киров', 'Сургут', 'Пенза', 'Магнитогорск',\n",
       "       'Нижний Новгород', 'Кострома', 'Владивосток', 'Тамбов', 'Балашиха',\n",
       "       'Севастополь', 'Калининград', 'Оренбург', 'Смоленск',\n",
       "       'Нижневартовск', 'Владимир', 'Новороссийск', 'Грозный', 'Подольск'],\n",
       "      dtype=object)"
      ]
     },
     "execution_count": 24,
     "metadata": {},
     "output_type": "execute_result"
    }
   ],
   "source": [
    "users['city'].unique()"
   ]
  },
  {
   "cell_type": "markdown",
   "metadata": {},
   "source": [
    "Все отлично, никаких разных словоформ или ошибок нет."
   ]
  },
  {
   "cell_type": "markdown",
   "metadata": {},
   "source": [
    "### tariffs"
   ]
  },
  {
   "cell_type": "markdown",
   "metadata": {},
   "source": [
    "Переведем только Мб в Гб и приведем к int."
   ]
  },
  {
   "cell_type": "code",
   "execution_count": 25,
   "metadata": {},
   "outputs": [
    {
     "data": {
      "text/html": [
       "<div>\n",
       "<style scoped>\n",
       "    .dataframe tbody tr th:only-of-type {\n",
       "        vertical-align: middle;\n",
       "    }\n",
       "\n",
       "    .dataframe tbody tr th {\n",
       "        vertical-align: top;\n",
       "    }\n",
       "\n",
       "    .dataframe thead th {\n",
       "        text-align: right;\n",
       "    }\n",
       "</style>\n",
       "<table border=\"1\" class=\"dataframe\">\n",
       "  <thead>\n",
       "    <tr style=\"text-align: right;\">\n",
       "      <th></th>\n",
       "      <th>messages_included</th>\n",
       "      <th>gb_per_month_included</th>\n",
       "      <th>minutes_included</th>\n",
       "      <th>rub_monthly_fee</th>\n",
       "      <th>rub_per_gb</th>\n",
       "      <th>rub_per_message</th>\n",
       "      <th>rub_per_minute</th>\n",
       "      <th>tariff_name</th>\n",
       "    </tr>\n",
       "  </thead>\n",
       "  <tbody>\n",
       "    <tr>\n",
       "      <th>0</th>\n",
       "      <td>50</td>\n",
       "      <td>15</td>\n",
       "      <td>500</td>\n",
       "      <td>550</td>\n",
       "      <td>200</td>\n",
       "      <td>3</td>\n",
       "      <td>3</td>\n",
       "      <td>smart</td>\n",
       "    </tr>\n",
       "    <tr>\n",
       "      <th>1</th>\n",
       "      <td>1000</td>\n",
       "      <td>30</td>\n",
       "      <td>3000</td>\n",
       "      <td>1950</td>\n",
       "      <td>150</td>\n",
       "      <td>1</td>\n",
       "      <td>1</td>\n",
       "      <td>ultra</td>\n",
       "    </tr>\n",
       "  </tbody>\n",
       "</table>\n",
       "</div>"
      ],
      "text/plain": [
       "   messages_included  gb_per_month_included  minutes_included  \\\n",
       "0                 50                     15               500   \n",
       "1               1000                     30              3000   \n",
       "\n",
       "   rub_monthly_fee  rub_per_gb  rub_per_message  rub_per_minute tariff_name  \n",
       "0              550         200                3               3       smart  \n",
       "1             1950         150                1               1       ultra  "
      ]
     },
     "execution_count": 25,
     "metadata": {},
     "output_type": "execute_result"
    }
   ],
   "source": [
    "tariffs['mb_per_month_included'] = tariffs['mb_per_month_included'] / 1024\n",
    "tariffs['mb_per_month_included'] = tariffs['mb_per_month_included'].astype('int')\n",
    "tariffs.rename(columns={'mb_per_month_included': 'gb_per_month_included'}, inplace=True)\n",
    "tariffs"
   ]
  },
  {
   "cell_type": "markdown",
   "metadata": {},
   "source": [
    "### Вывод"
   ]
  },
  {
   "cell_type": "markdown",
   "metadata": {},
   "source": [
    "В результате предобработки были приведены необходимые замены типов данных, параллельно добавлены столбцы со значением месяца, где необходимо. Из имеющейся статистики звонков, смс и трафика можно сделать предположение, что тарифы новые и были открыты 01.01.2018 тк наблюдался постепенный рост всех этих значений. Значимых пропусков, дубликатов или аномалий в данных не было обнаружено."
   ]
  },
  {
   "cell_type": "markdown",
   "metadata": {},
   "source": [
    "## Расчеты"
   ]
  },
  {
   "cell_type": "markdown",
   "metadata": {},
   "source": [
    "Для каждого пользователя рассчитаем:\n",
    "* количество сделанных звонков и израсходованных минут разговора по месяцам;\n",
    "* количество отправленных сообщений по месяцам;\n",
    "* объем израсходованного интернет-трафика по месяцам.  \n",
    "Для этого создадим сводные таблицы по каждому направлению:"
   ]
  },
  {
   "cell_type": "code",
   "execution_count": 26,
   "metadata": {},
   "outputs": [
    {
     "data": {
      "text/html": [
       "<div>\n",
       "<style scoped>\n",
       "    .dataframe tbody tr th:only-of-type {\n",
       "        vertical-align: middle;\n",
       "    }\n",
       "\n",
       "    .dataframe tbody tr th {\n",
       "        vertical-align: top;\n",
       "    }\n",
       "\n",
       "    .dataframe thead th {\n",
       "        text-align: right;\n",
       "    }\n",
       "</style>\n",
       "<table border=\"1\" class=\"dataframe\">\n",
       "  <thead>\n",
       "    <tr style=\"text-align: right;\">\n",
       "      <th></th>\n",
       "      <th></th>\n",
       "      <th>count_call</th>\n",
       "      <th>min</th>\n",
       "    </tr>\n",
       "    <tr>\n",
       "      <th>user_id</th>\n",
       "      <th>month</th>\n",
       "      <th></th>\n",
       "      <th></th>\n",
       "    </tr>\n",
       "  </thead>\n",
       "  <tbody>\n",
       "    <tr>\n",
       "      <th rowspan=\"5\" valign=\"top\">1000</th>\n",
       "      <th>5</th>\n",
       "      <td>22</td>\n",
       "      <td>159</td>\n",
       "    </tr>\n",
       "    <tr>\n",
       "      <th>6</th>\n",
       "      <td>43</td>\n",
       "      <td>172</td>\n",
       "    </tr>\n",
       "    <tr>\n",
       "      <th>7</th>\n",
       "      <td>47</td>\n",
       "      <td>340</td>\n",
       "    </tr>\n",
       "    <tr>\n",
       "      <th>8</th>\n",
       "      <td>52</td>\n",
       "      <td>408</td>\n",
       "    </tr>\n",
       "    <tr>\n",
       "      <th>9</th>\n",
       "      <td>58</td>\n",
       "      <td>466</td>\n",
       "    </tr>\n",
       "    <tr>\n",
       "      <th>...</th>\n",
       "      <th>...</th>\n",
       "      <td>...</td>\n",
       "      <td>...</td>\n",
       "    </tr>\n",
       "    <tr>\n",
       "      <th>1498</th>\n",
       "      <th>10</th>\n",
       "      <td>41</td>\n",
       "      <td>247</td>\n",
       "    </tr>\n",
       "    <tr>\n",
       "      <th rowspan=\"4\" valign=\"top\">1499</th>\n",
       "      <th>9</th>\n",
       "      <td>9</td>\n",
       "      <td>70</td>\n",
       "    </tr>\n",
       "    <tr>\n",
       "      <th>10</th>\n",
       "      <td>68</td>\n",
       "      <td>449</td>\n",
       "    </tr>\n",
       "    <tr>\n",
       "      <th>11</th>\n",
       "      <td>74</td>\n",
       "      <td>612</td>\n",
       "    </tr>\n",
       "    <tr>\n",
       "      <th>12</th>\n",
       "      <td>69</td>\n",
       "      <td>492</td>\n",
       "    </tr>\n",
       "  </tbody>\n",
       "</table>\n",
       "<p>3174 rows × 2 columns</p>\n",
       "</div>"
      ],
      "text/plain": [
       "               count_call  min\n",
       "user_id month                 \n",
       "1000    5              22  159\n",
       "        6              43  172\n",
       "        7              47  340\n",
       "        8              52  408\n",
       "        9              58  466\n",
       "...                   ...  ...\n",
       "1498    10             41  247\n",
       "1499    9               9   70\n",
       "        10             68  449\n",
       "        11             74  612\n",
       "        12             69  492\n",
       "\n",
       "[3174 rows x 2 columns]"
      ]
     },
     "execution_count": 26,
     "metadata": {},
     "output_type": "execute_result"
    }
   ],
   "source": [
    "calls_user = calls.pivot_table(index = ['user_id', 'month'], values = ['duration'], aggfunc = ['count','sum'])\n",
    "calls_user.columns = ['count_call', 'min']\n",
    "calls_user"
   ]
  },
  {
   "cell_type": "code",
   "execution_count": 27,
   "metadata": {},
   "outputs": [
    {
     "data": {
      "text/html": [
       "<div>\n",
       "<style scoped>\n",
       "    .dataframe tbody tr th:only-of-type {\n",
       "        vertical-align: middle;\n",
       "    }\n",
       "\n",
       "    .dataframe tbody tr th {\n",
       "        vertical-align: top;\n",
       "    }\n",
       "\n",
       "    .dataframe thead th {\n",
       "        text-align: right;\n",
       "    }\n",
       "</style>\n",
       "<table border=\"1\" class=\"dataframe\">\n",
       "  <thead>\n",
       "    <tr style=\"text-align: right;\">\n",
       "      <th></th>\n",
       "      <th></th>\n",
       "      <th>sms</th>\n",
       "    </tr>\n",
       "    <tr>\n",
       "      <th>user_id</th>\n",
       "      <th>month</th>\n",
       "      <th></th>\n",
       "    </tr>\n",
       "  </thead>\n",
       "  <tbody>\n",
       "    <tr>\n",
       "      <th rowspan=\"5\" valign=\"top\">1000</th>\n",
       "      <th>5</th>\n",
       "      <td>22</td>\n",
       "    </tr>\n",
       "    <tr>\n",
       "      <th>6</th>\n",
       "      <td>60</td>\n",
       "    </tr>\n",
       "    <tr>\n",
       "      <th>7</th>\n",
       "      <td>75</td>\n",
       "    </tr>\n",
       "    <tr>\n",
       "      <th>8</th>\n",
       "      <td>81</td>\n",
       "    </tr>\n",
       "    <tr>\n",
       "      <th>9</th>\n",
       "      <td>57</td>\n",
       "    </tr>\n",
       "    <tr>\n",
       "      <th>...</th>\n",
       "      <th>...</th>\n",
       "      <td>...</td>\n",
       "    </tr>\n",
       "    <tr>\n",
       "      <th>1498</th>\n",
       "      <th>10</th>\n",
       "      <td>42</td>\n",
       "    </tr>\n",
       "    <tr>\n",
       "      <th rowspan=\"4\" valign=\"top\">1499</th>\n",
       "      <th>9</th>\n",
       "      <td>11</td>\n",
       "    </tr>\n",
       "    <tr>\n",
       "      <th>10</th>\n",
       "      <td>48</td>\n",
       "    </tr>\n",
       "    <tr>\n",
       "      <th>11</th>\n",
       "      <td>59</td>\n",
       "    </tr>\n",
       "    <tr>\n",
       "      <th>12</th>\n",
       "      <td>66</td>\n",
       "    </tr>\n",
       "  </tbody>\n",
       "</table>\n",
       "<p>2717 rows × 1 columns</p>\n",
       "</div>"
      ],
      "text/plain": [
       "               sms\n",
       "user_id month     \n",
       "1000    5       22\n",
       "        6       60\n",
       "        7       75\n",
       "        8       81\n",
       "        9       57\n",
       "...            ...\n",
       "1498    10      42\n",
       "1499    9       11\n",
       "        10      48\n",
       "        11      59\n",
       "        12      66\n",
       "\n",
       "[2717 rows x 1 columns]"
      ]
     },
     "execution_count": 27,
     "metadata": {},
     "output_type": "execute_result"
    }
   ],
   "source": [
    "messages_user = messages.pivot_table(index = ['user_id', 'month'], values = ['id'], aggfunc = 'count')\n",
    "messages_user.columns = ['sms']\n",
    "messages_user"
   ]
  },
  {
   "cell_type": "code",
   "execution_count": 28,
   "metadata": {},
   "outputs": [
    {
     "data": {
      "text/html": [
       "<div>\n",
       "<style scoped>\n",
       "    .dataframe tbody tr th:only-of-type {\n",
       "        vertical-align: middle;\n",
       "    }\n",
       "\n",
       "    .dataframe tbody tr th {\n",
       "        vertical-align: top;\n",
       "    }\n",
       "\n",
       "    .dataframe thead th {\n",
       "        text-align: right;\n",
       "    }\n",
       "</style>\n",
       "<table border=\"1\" class=\"dataframe\">\n",
       "  <thead>\n",
       "    <tr style=\"text-align: right;\">\n",
       "      <th></th>\n",
       "      <th></th>\n",
       "      <th>gb</th>\n",
       "    </tr>\n",
       "    <tr>\n",
       "      <th>user_id</th>\n",
       "      <th>month</th>\n",
       "      <th></th>\n",
       "    </tr>\n",
       "  </thead>\n",
       "  <tbody>\n",
       "    <tr>\n",
       "      <th rowspan=\"5\" valign=\"top\">1000</th>\n",
       "      <th>5</th>\n",
       "      <td>3</td>\n",
       "    </tr>\n",
       "    <tr>\n",
       "      <th>6</th>\n",
       "      <td>23</td>\n",
       "    </tr>\n",
       "    <tr>\n",
       "      <th>7</th>\n",
       "      <td>14</td>\n",
       "    </tr>\n",
       "    <tr>\n",
       "      <th>8</th>\n",
       "      <td>14</td>\n",
       "    </tr>\n",
       "    <tr>\n",
       "      <th>9</th>\n",
       "      <td>15</td>\n",
       "    </tr>\n",
       "    <tr>\n",
       "      <th>...</th>\n",
       "      <th>...</th>\n",
       "      <td>...</td>\n",
       "    </tr>\n",
       "    <tr>\n",
       "      <th>1498</th>\n",
       "      <th>10</th>\n",
       "      <td>21</td>\n",
       "    </tr>\n",
       "    <tr>\n",
       "      <th rowspan=\"4\" valign=\"top\">1499</th>\n",
       "      <th>9</th>\n",
       "      <td>2</td>\n",
       "    </tr>\n",
       "    <tr>\n",
       "      <th>10</th>\n",
       "      <td>18</td>\n",
       "    </tr>\n",
       "    <tr>\n",
       "      <th>11</th>\n",
       "      <td>18</td>\n",
       "    </tr>\n",
       "    <tr>\n",
       "      <th>12</th>\n",
       "      <td>13</td>\n",
       "    </tr>\n",
       "  </tbody>\n",
       "</table>\n",
       "<p>3203 rows × 1 columns</p>\n",
       "</div>"
      ],
      "text/plain": [
       "               gb\n",
       "user_id month    \n",
       "1000    5       3\n",
       "        6      23\n",
       "        7      14\n",
       "        8      14\n",
       "        9      15\n",
       "...            ..\n",
       "1498    10     21\n",
       "1499    9       2\n",
       "        10     18\n",
       "        11     18\n",
       "        12     13\n",
       "\n",
       "[3203 rows x 1 columns]"
      ]
     },
     "execution_count": 28,
     "metadata": {},
     "output_type": "execute_result"
    }
   ],
   "source": [
    "internet_user = internet.pivot_table(index = ['user_id', 'month'], values = ['gb_used'], aggfunc = 'sum')\n",
    "internet_user.columns = ['gb']\n",
    "internet_user['gb'] = internet_user['gb'].apply(np.ceil).astype('int')\n",
    "internet_user"
   ]
  },
  {
   "cell_type": "markdown",
   "metadata": {},
   "source": [
    "Тк в дальнейших расчетах мы уже будем считать траты на трафик согласно тарифу, пришло время округлить в большую сторону потраченные Гб."
   ]
  },
  {
   "cell_type": "markdown",
   "metadata": {},
   "source": [
    "Далее для удобства сделаем общую таблицу и рассчитаем помесячную выручку с каждого пользователя:\n",
    "* вычтем бесплатный лимит из суммарного количества звонков, сообщений и интернет-трафика; \n",
    "* остаток умножим на значение из тарифного плана; \n",
    "* прибавим абонентскую плату, соответствующую тарифному плану."
   ]
  },
  {
   "cell_type": "code",
   "execution_count": 29,
   "metadata": {},
   "outputs": [
    {
     "data": {
      "text/html": [
       "<div>\n",
       "<style scoped>\n",
       "    .dataframe tbody tr th:only-of-type {\n",
       "        vertical-align: middle;\n",
       "    }\n",
       "\n",
       "    .dataframe tbody tr th {\n",
       "        vertical-align: top;\n",
       "    }\n",
       "\n",
       "    .dataframe thead th {\n",
       "        text-align: right;\n",
       "    }\n",
       "</style>\n",
       "<table border=\"1\" class=\"dataframe\">\n",
       "  <thead>\n",
       "    <tr style=\"text-align: right;\">\n",
       "      <th></th>\n",
       "      <th>user_id</th>\n",
       "      <th>city</th>\n",
       "      <th>tariff</th>\n",
       "    </tr>\n",
       "  </thead>\n",
       "  <tbody>\n",
       "    <tr>\n",
       "      <th>0</th>\n",
       "      <td>1000</td>\n",
       "      <td>Краснодар</td>\n",
       "      <td>ultra</td>\n",
       "    </tr>\n",
       "    <tr>\n",
       "      <th>1</th>\n",
       "      <td>1001</td>\n",
       "      <td>Москва</td>\n",
       "      <td>smart</td>\n",
       "    </tr>\n",
       "    <tr>\n",
       "      <th>2</th>\n",
       "      <td>1002</td>\n",
       "      <td>Стерлитамак</td>\n",
       "      <td>smart</td>\n",
       "    </tr>\n",
       "    <tr>\n",
       "      <th>3</th>\n",
       "      <td>1003</td>\n",
       "      <td>Москва</td>\n",
       "      <td>ultra</td>\n",
       "    </tr>\n",
       "    <tr>\n",
       "      <th>4</th>\n",
       "      <td>1004</td>\n",
       "      <td>Новокузнецк</td>\n",
       "      <td>ultra</td>\n",
       "    </tr>\n",
       "    <tr>\n",
       "      <th>...</th>\n",
       "      <td>...</td>\n",
       "      <td>...</td>\n",
       "      <td>...</td>\n",
       "    </tr>\n",
       "    <tr>\n",
       "      <th>495</th>\n",
       "      <td>1495</td>\n",
       "      <td>Иркутск</td>\n",
       "      <td>ultra</td>\n",
       "    </tr>\n",
       "    <tr>\n",
       "      <th>496</th>\n",
       "      <td>1496</td>\n",
       "      <td>Вологда</td>\n",
       "      <td>smart</td>\n",
       "    </tr>\n",
       "    <tr>\n",
       "      <th>497</th>\n",
       "      <td>1497</td>\n",
       "      <td>Челябинск</td>\n",
       "      <td>smart</td>\n",
       "    </tr>\n",
       "    <tr>\n",
       "      <th>498</th>\n",
       "      <td>1498</td>\n",
       "      <td>Владикавказ</td>\n",
       "      <td>smart</td>\n",
       "    </tr>\n",
       "    <tr>\n",
       "      <th>499</th>\n",
       "      <td>1499</td>\n",
       "      <td>Пермь</td>\n",
       "      <td>smart</td>\n",
       "    </tr>\n",
       "  </tbody>\n",
       "</table>\n",
       "<p>500 rows × 3 columns</p>\n",
       "</div>"
      ],
      "text/plain": [
       "     user_id         city tariff\n",
       "0       1000    Краснодар  ultra\n",
       "1       1001       Москва  smart\n",
       "2       1002  Стерлитамак  smart\n",
       "3       1003       Москва  ultra\n",
       "4       1004  Новокузнецк  ultra\n",
       "..       ...          ...    ...\n",
       "495     1495      Иркутск  ultra\n",
       "496     1496      Вологда  smart\n",
       "497     1497    Челябинск  smart\n",
       "498     1498  Владикавказ  smart\n",
       "499     1499        Пермь  smart\n",
       "\n",
       "[500 rows x 3 columns]"
      ]
     },
     "execution_count": 29,
     "metadata": {},
     "output_type": "execute_result"
    }
   ],
   "source": [
    "users_merge = users[['user_id','city','tariff']]\n",
    "users_merge"
   ]
  },
  {
   "cell_type": "code",
   "execution_count": 30,
   "metadata": {},
   "outputs": [
    {
     "data": {
      "text/html": [
       "<div>\n",
       "<style scoped>\n",
       "    .dataframe tbody tr th:only-of-type {\n",
       "        vertical-align: middle;\n",
       "    }\n",
       "\n",
       "    .dataframe tbody tr th {\n",
       "        vertical-align: top;\n",
       "    }\n",
       "\n",
       "    .dataframe thead th {\n",
       "        text-align: right;\n",
       "    }\n",
       "</style>\n",
       "<table border=\"1\" class=\"dataframe\">\n",
       "  <thead>\n",
       "    <tr style=\"text-align: right;\">\n",
       "      <th></th>\n",
       "      <th>user_id</th>\n",
       "      <th>month</th>\n",
       "      <th>count_call</th>\n",
       "      <th>min</th>\n",
       "      <th>sms</th>\n",
       "      <th>gb</th>\n",
       "      <th>city</th>\n",
       "      <th>tariff</th>\n",
       "    </tr>\n",
       "  </thead>\n",
       "  <tbody>\n",
       "    <tr>\n",
       "      <th>0</th>\n",
       "      <td>1000</td>\n",
       "      <td>5</td>\n",
       "      <td>22.0</td>\n",
       "      <td>159.0</td>\n",
       "      <td>22.0</td>\n",
       "      <td>3.0</td>\n",
       "      <td>Краснодар</td>\n",
       "      <td>ultra</td>\n",
       "    </tr>\n",
       "    <tr>\n",
       "      <th>1</th>\n",
       "      <td>1000</td>\n",
       "      <td>6</td>\n",
       "      <td>43.0</td>\n",
       "      <td>172.0</td>\n",
       "      <td>60.0</td>\n",
       "      <td>23.0</td>\n",
       "      <td>Краснодар</td>\n",
       "      <td>ultra</td>\n",
       "    </tr>\n",
       "    <tr>\n",
       "      <th>2</th>\n",
       "      <td>1000</td>\n",
       "      <td>7</td>\n",
       "      <td>47.0</td>\n",
       "      <td>340.0</td>\n",
       "      <td>75.0</td>\n",
       "      <td>14.0</td>\n",
       "      <td>Краснодар</td>\n",
       "      <td>ultra</td>\n",
       "    </tr>\n",
       "    <tr>\n",
       "      <th>3</th>\n",
       "      <td>1000</td>\n",
       "      <td>8</td>\n",
       "      <td>52.0</td>\n",
       "      <td>408.0</td>\n",
       "      <td>81.0</td>\n",
       "      <td>14.0</td>\n",
       "      <td>Краснодар</td>\n",
       "      <td>ultra</td>\n",
       "    </tr>\n",
       "    <tr>\n",
       "      <th>4</th>\n",
       "      <td>1000</td>\n",
       "      <td>9</td>\n",
       "      <td>58.0</td>\n",
       "      <td>466.0</td>\n",
       "      <td>57.0</td>\n",
       "      <td>15.0</td>\n",
       "      <td>Краснодар</td>\n",
       "      <td>ultra</td>\n",
       "    </tr>\n",
       "    <tr>\n",
       "      <th>...</th>\n",
       "      <td>...</td>\n",
       "      <td>...</td>\n",
       "      <td>...</td>\n",
       "      <td>...</td>\n",
       "      <td>...</td>\n",
       "      <td>...</td>\n",
       "      <td>...</td>\n",
       "      <td>...</td>\n",
       "    </tr>\n",
       "    <tr>\n",
       "      <th>3209</th>\n",
       "      <td>1489</td>\n",
       "      <td>8</td>\n",
       "      <td>NaN</td>\n",
       "      <td>NaN</td>\n",
       "      <td>17.0</td>\n",
       "      <td>11.0</td>\n",
       "      <td>Санкт-Петербург</td>\n",
       "      <td>smart</td>\n",
       "    </tr>\n",
       "    <tr>\n",
       "      <th>3210</th>\n",
       "      <td>1489</td>\n",
       "      <td>9</td>\n",
       "      <td>NaN</td>\n",
       "      <td>NaN</td>\n",
       "      <td>32.0</td>\n",
       "      <td>17.0</td>\n",
       "      <td>Санкт-Петербург</td>\n",
       "      <td>smart</td>\n",
       "    </tr>\n",
       "    <tr>\n",
       "      <th>3211</th>\n",
       "      <td>1489</td>\n",
       "      <td>10</td>\n",
       "      <td>NaN</td>\n",
       "      <td>NaN</td>\n",
       "      <td>21.0</td>\n",
       "      <td>20.0</td>\n",
       "      <td>Санкт-Петербург</td>\n",
       "      <td>smart</td>\n",
       "    </tr>\n",
       "    <tr>\n",
       "      <th>3212</th>\n",
       "      <td>1489</td>\n",
       "      <td>11</td>\n",
       "      <td>NaN</td>\n",
       "      <td>NaN</td>\n",
       "      <td>20.0</td>\n",
       "      <td>18.0</td>\n",
       "      <td>Санкт-Петербург</td>\n",
       "      <td>smart</td>\n",
       "    </tr>\n",
       "    <tr>\n",
       "      <th>3213</th>\n",
       "      <td>1489</td>\n",
       "      <td>12</td>\n",
       "      <td>NaN</td>\n",
       "      <td>NaN</td>\n",
       "      <td>35.0</td>\n",
       "      <td>17.0</td>\n",
       "      <td>Санкт-Петербург</td>\n",
       "      <td>smart</td>\n",
       "    </tr>\n",
       "  </tbody>\n",
       "</table>\n",
       "<p>3214 rows × 8 columns</p>\n",
       "</div>"
      ],
      "text/plain": [
       "      user_id  month  count_call    min   sms    gb             city tariff\n",
       "0        1000      5        22.0  159.0  22.0   3.0        Краснодар  ultra\n",
       "1        1000      6        43.0  172.0  60.0  23.0        Краснодар  ultra\n",
       "2        1000      7        47.0  340.0  75.0  14.0        Краснодар  ultra\n",
       "3        1000      8        52.0  408.0  81.0  14.0        Краснодар  ultra\n",
       "4        1000      9        58.0  466.0  57.0  15.0        Краснодар  ultra\n",
       "...       ...    ...         ...    ...   ...   ...              ...    ...\n",
       "3209     1489      8         NaN    NaN  17.0  11.0  Санкт-Петербург  smart\n",
       "3210     1489      9         NaN    NaN  32.0  17.0  Санкт-Петербург  smart\n",
       "3211     1489     10         NaN    NaN  21.0  20.0  Санкт-Петербург  smart\n",
       "3212     1489     11         NaN    NaN  20.0  18.0  Санкт-Петербург  smart\n",
       "3213     1489     12         NaN    NaN  35.0  17.0  Санкт-Петербург  smart\n",
       "\n",
       "[3214 rows x 8 columns]"
      ]
     },
     "execution_count": 30,
     "metadata": {},
     "output_type": "execute_result"
    }
   ],
   "source": [
    "expense = calls_user.join([messages_user, internet_user], how = 'outer')\n",
    "expense = expense.reset_index(level = 'month')\n",
    "expense = expense.merge(users_merge, on = ['user_id'], how = 'inner')\n",
    "expense"
   ]
  },
  {
   "cell_type": "code",
   "execution_count": 31,
   "metadata": {},
   "outputs": [
    {
     "data": {
      "text/plain": [
       "(498,)"
      ]
     },
     "execution_count": 31,
     "metadata": {},
     "output_type": "execute_result"
    }
   ],
   "source": [
    "expense.user_id.unique().shape "
   ]
  },
  {
   "cell_type": "markdown",
   "metadata": {},
   "source": [
    "После объединения таблиц у нас выпало два пользователя, скорее всего это абоненты, которые не пользовались ни одним из видов связи, проверим кто они и почему."
   ]
  },
  {
   "cell_type": "code",
   "execution_count": 32,
   "metadata": {},
   "outputs": [
    {
     "data": {
      "text/html": [
       "<div>\n",
       "<style scoped>\n",
       "    .dataframe tbody tr th:only-of-type {\n",
       "        vertical-align: middle;\n",
       "    }\n",
       "\n",
       "    .dataframe tbody tr th {\n",
       "        vertical-align: top;\n",
       "    }\n",
       "\n",
       "    .dataframe thead th {\n",
       "        text-align: right;\n",
       "    }\n",
       "</style>\n",
       "<table border=\"1\" class=\"dataframe\">\n",
       "  <thead>\n",
       "    <tr style=\"text-align: right;\">\n",
       "      <th></th>\n",
       "      <th>user_id</th>\n",
       "      <th>age</th>\n",
       "      <th>churn_date</th>\n",
       "      <th>city</th>\n",
       "      <th>first_name</th>\n",
       "      <th>last_name</th>\n",
       "      <th>reg_date</th>\n",
       "      <th>tariff</th>\n",
       "    </tr>\n",
       "  </thead>\n",
       "  <tbody>\n",
       "    <tr>\n",
       "      <th>91</th>\n",
       "      <td>1091</td>\n",
       "      <td>36</td>\n",
       "      <td>NaT</td>\n",
       "      <td>Набережные Челны</td>\n",
       "      <td>Вера</td>\n",
       "      <td>Суслова</td>\n",
       "      <td>2018-05-08</td>\n",
       "      <td>ultra</td>\n",
       "    </tr>\n",
       "    <tr>\n",
       "      <th>106</th>\n",
       "      <td>1106</td>\n",
       "      <td>67</td>\n",
       "      <td>NaT</td>\n",
       "      <td>Калуга</td>\n",
       "      <td>Исаак</td>\n",
       "      <td>Костин</td>\n",
       "      <td>2018-04-26</td>\n",
       "      <td>ultra</td>\n",
       "    </tr>\n",
       "    <tr>\n",
       "      <th>128</th>\n",
       "      <td>1128</td>\n",
       "      <td>51</td>\n",
       "      <td>2018-12-23</td>\n",
       "      <td>Волжский</td>\n",
       "      <td>Ксения</td>\n",
       "      <td>Агаева</td>\n",
       "      <td>2018-12-15</td>\n",
       "      <td>ultra</td>\n",
       "    </tr>\n",
       "    <tr>\n",
       "      <th>231</th>\n",
       "      <td>1231</td>\n",
       "      <td>63</td>\n",
       "      <td>NaT</td>\n",
       "      <td>Чебоксары</td>\n",
       "      <td>Касьян</td>\n",
       "      <td>Авдюков</td>\n",
       "      <td>2018-05-23</td>\n",
       "      <td>ultra</td>\n",
       "    </tr>\n",
       "    <tr>\n",
       "      <th>328</th>\n",
       "      <td>1328</td>\n",
       "      <td>44</td>\n",
       "      <td>NaT</td>\n",
       "      <td>Мурманск</td>\n",
       "      <td>Рауль</td>\n",
       "      <td>Аркадьев</td>\n",
       "      <td>2018-10-16</td>\n",
       "      <td>ultra</td>\n",
       "    </tr>\n",
       "    <tr>\n",
       "      <th>371</th>\n",
       "      <td>1371</td>\n",
       "      <td>50</td>\n",
       "      <td>2018-12-30</td>\n",
       "      <td>Омск</td>\n",
       "      <td>Ириней</td>\n",
       "      <td>Трофимов</td>\n",
       "      <td>2018-12-25</td>\n",
       "      <td>smart</td>\n",
       "    </tr>\n",
       "    <tr>\n",
       "      <th>473</th>\n",
       "      <td>1473</td>\n",
       "      <td>18</td>\n",
       "      <td>NaT</td>\n",
       "      <td>Красноярск</td>\n",
       "      <td>Николай</td>\n",
       "      <td>Лебедев</td>\n",
       "      <td>2018-08-05</td>\n",
       "      <td>ultra</td>\n",
       "    </tr>\n",
       "    <tr>\n",
       "      <th>489</th>\n",
       "      <td>1489</td>\n",
       "      <td>35</td>\n",
       "      <td>NaT</td>\n",
       "      <td>Санкт-Петербург</td>\n",
       "      <td>Павел</td>\n",
       "      <td>Гончаров</td>\n",
       "      <td>2018-08-15</td>\n",
       "      <td>smart</td>\n",
       "    </tr>\n",
       "  </tbody>\n",
       "</table>\n",
       "</div>"
      ],
      "text/plain": [
       "     user_id  age churn_date              city first_name last_name  \\\n",
       "91      1091   36        NaT  Набережные Челны       Вера   Суслова   \n",
       "106     1106   67        NaT            Калуга      Исаак    Костин   \n",
       "128     1128   51 2018-12-23          Волжский     Ксения    Агаева   \n",
       "231     1231   63        NaT         Чебоксары     Касьян   Авдюков   \n",
       "328     1328   44        NaT          Мурманск      Рауль  Аркадьев   \n",
       "371     1371   50 2018-12-30              Омск     Ириней  Трофимов   \n",
       "473     1473   18        NaT        Красноярск    Николай   Лебедев   \n",
       "489     1489   35        NaT   Санкт-Петербург      Павел  Гончаров   \n",
       "\n",
       "      reg_date tariff  \n",
       "91  2018-05-08  ultra  \n",
       "106 2018-04-26  ultra  \n",
       "128 2018-12-15  ultra  \n",
       "231 2018-05-23  ultra  \n",
       "328 2018-10-16  ultra  \n",
       "371 2018-12-25  smart  \n",
       "473 2018-08-05  ultra  \n",
       "489 2018-08-15  smart  "
      ]
     },
     "execution_count": 32,
     "metadata": {},
     "output_type": "execute_result"
    }
   ],
   "source": [
    "users.loc[~(users['user_id'].isin(calls['user_id']))]"
   ]
  },
  {
   "cell_type": "code",
   "execution_count": 33,
   "metadata": {},
   "outputs": [
    {
     "data": {
      "text/html": [
       "<div>\n",
       "<style scoped>\n",
       "    .dataframe tbody tr th:only-of-type {\n",
       "        vertical-align: middle;\n",
       "    }\n",
       "\n",
       "    .dataframe tbody tr th {\n",
       "        vertical-align: top;\n",
       "    }\n",
       "\n",
       "    .dataframe thead th {\n",
       "        text-align: right;\n",
       "    }\n",
       "</style>\n",
       "<table border=\"1\" class=\"dataframe\">\n",
       "  <thead>\n",
       "    <tr style=\"text-align: right;\">\n",
       "      <th></th>\n",
       "      <th>user_id</th>\n",
       "      <th>age</th>\n",
       "      <th>churn_date</th>\n",
       "      <th>city</th>\n",
       "      <th>first_name</th>\n",
       "      <th>last_name</th>\n",
       "      <th>reg_date</th>\n",
       "      <th>tariff</th>\n",
       "    </tr>\n",
       "  </thead>\n",
       "  <tbody>\n",
       "    <tr>\n",
       "      <th>128</th>\n",
       "      <td>1128</td>\n",
       "      <td>51</td>\n",
       "      <td>2018-12-23</td>\n",
       "      <td>Волжский</td>\n",
       "      <td>Ксения</td>\n",
       "      <td>Агаева</td>\n",
       "      <td>2018-12-15</td>\n",
       "      <td>ultra</td>\n",
       "    </tr>\n",
       "    <tr>\n",
       "      <th>273</th>\n",
       "      <td>1273</td>\n",
       "      <td>46</td>\n",
       "      <td>NaT</td>\n",
       "      <td>Курган</td>\n",
       "      <td>Рэм</td>\n",
       "      <td>Корнилов</td>\n",
       "      <td>2018-05-15</td>\n",
       "      <td>ultra</td>\n",
       "    </tr>\n",
       "    <tr>\n",
       "      <th>371</th>\n",
       "      <td>1371</td>\n",
       "      <td>50</td>\n",
       "      <td>2018-12-30</td>\n",
       "      <td>Омск</td>\n",
       "      <td>Ириней</td>\n",
       "      <td>Трофимов</td>\n",
       "      <td>2018-12-25</td>\n",
       "      <td>smart</td>\n",
       "    </tr>\n",
       "  </tbody>\n",
       "</table>\n",
       "</div>"
      ],
      "text/plain": [
       "     user_id  age churn_date      city first_name last_name   reg_date tariff\n",
       "128     1128   51 2018-12-23  Волжский     Ксения    Агаева 2018-12-15  ultra\n",
       "273     1273   46        NaT    Курган        Рэм  Корнилов 2018-05-15  ultra\n",
       "371     1371   50 2018-12-30      Омск     Ириней  Трофимов 2018-12-25  smart"
      ]
     },
     "execution_count": 33,
     "metadata": {},
     "output_type": "execute_result"
    }
   ],
   "source": [
    "users.loc[~(users['user_id'].isin(internet['user_id']))]"
   ]
  },
  {
   "cell_type": "code",
   "execution_count": 34,
   "metadata": {},
   "outputs": [
    {
     "data": {
      "text/html": [
       "<div>\n",
       "<style scoped>\n",
       "    .dataframe tbody tr th:only-of-type {\n",
       "        vertical-align: middle;\n",
       "    }\n",
       "\n",
       "    .dataframe tbody tr th {\n",
       "        vertical-align: top;\n",
       "    }\n",
       "\n",
       "    .dataframe thead th {\n",
       "        text-align: right;\n",
       "    }\n",
       "</style>\n",
       "<table border=\"1\" class=\"dataframe\">\n",
       "  <thead>\n",
       "    <tr style=\"text-align: right;\">\n",
       "      <th></th>\n",
       "      <th>user_id</th>\n",
       "      <th>age</th>\n",
       "      <th>churn_date</th>\n",
       "      <th>city</th>\n",
       "      <th>first_name</th>\n",
       "      <th>last_name</th>\n",
       "      <th>reg_date</th>\n",
       "      <th>tariff</th>\n",
       "    </tr>\n",
       "  </thead>\n",
       "  <tbody>\n",
       "    <tr>\n",
       "      <th>1</th>\n",
       "      <td>1001</td>\n",
       "      <td>41</td>\n",
       "      <td>NaT</td>\n",
       "      <td>Москва</td>\n",
       "      <td>Иван</td>\n",
       "      <td>Ежов</td>\n",
       "      <td>2018-11-01</td>\n",
       "      <td>smart</td>\n",
       "    </tr>\n",
       "    <tr>\n",
       "      <th>6</th>\n",
       "      <td>1006</td>\n",
       "      <td>21</td>\n",
       "      <td>NaT</td>\n",
       "      <td>Ульяновск</td>\n",
       "      <td>Леонид</td>\n",
       "      <td>Ермолаев</td>\n",
       "      <td>2018-02-26</td>\n",
       "      <td>smart</td>\n",
       "    </tr>\n",
       "    <tr>\n",
       "      <th>10</th>\n",
       "      <td>1010</td>\n",
       "      <td>26</td>\n",
       "      <td>NaT</td>\n",
       "      <td>Тюмень</td>\n",
       "      <td>Эдуард</td>\n",
       "      <td>Кононов</td>\n",
       "      <td>2018-08-05</td>\n",
       "      <td>smart</td>\n",
       "    </tr>\n",
       "    <tr>\n",
       "      <th>17</th>\n",
       "      <td>1017</td>\n",
       "      <td>73</td>\n",
       "      <td>NaT</td>\n",
       "      <td>Краснодар</td>\n",
       "      <td>Мария</td>\n",
       "      <td>Аленникова</td>\n",
       "      <td>2018-05-22</td>\n",
       "      <td>smart</td>\n",
       "    </tr>\n",
       "    <tr>\n",
       "      <th>24</th>\n",
       "      <td>1024</td>\n",
       "      <td>73</td>\n",
       "      <td>NaT</td>\n",
       "      <td>Санкт-Петербург</td>\n",
       "      <td>Иулиан</td>\n",
       "      <td>Антипов</td>\n",
       "      <td>2018-10-31</td>\n",
       "      <td>ultra</td>\n",
       "    </tr>\n",
       "    <tr>\n",
       "      <th>...</th>\n",
       "      <td>...</td>\n",
       "      <td>...</td>\n",
       "      <td>...</td>\n",
       "      <td>...</td>\n",
       "      <td>...</td>\n",
       "      <td>...</td>\n",
       "      <td>...</td>\n",
       "      <td>...</td>\n",
       "    </tr>\n",
       "    <tr>\n",
       "      <th>462</th>\n",
       "      <td>1462</td>\n",
       "      <td>72</td>\n",
       "      <td>NaT</td>\n",
       "      <td>Тольятти</td>\n",
       "      <td>Алёна</td>\n",
       "      <td>Абрамычева</td>\n",
       "      <td>2018-10-29</td>\n",
       "      <td>smart</td>\n",
       "    </tr>\n",
       "    <tr>\n",
       "      <th>466</th>\n",
       "      <td>1466</td>\n",
       "      <td>37</td>\n",
       "      <td>NaT</td>\n",
       "      <td>Новосибирск</td>\n",
       "      <td>Рубен</td>\n",
       "      <td>Шевцов</td>\n",
       "      <td>2018-02-28</td>\n",
       "      <td>ultra</td>\n",
       "    </tr>\n",
       "    <tr>\n",
       "      <th>469</th>\n",
       "      <td>1469</td>\n",
       "      <td>41</td>\n",
       "      <td>NaT</td>\n",
       "      <td>Сочи</td>\n",
       "      <td>Аксён</td>\n",
       "      <td>Абалкин</td>\n",
       "      <td>2018-07-06</td>\n",
       "      <td>ultra</td>\n",
       "    </tr>\n",
       "    <tr>\n",
       "      <th>479</th>\n",
       "      <td>1479</td>\n",
       "      <td>40</td>\n",
       "      <td>NaT</td>\n",
       "      <td>Хабаровск</td>\n",
       "      <td>Игорь</td>\n",
       "      <td>Богданов</td>\n",
       "      <td>2018-07-03</td>\n",
       "      <td>smart</td>\n",
       "    </tr>\n",
       "    <tr>\n",
       "      <th>494</th>\n",
       "      <td>1494</td>\n",
       "      <td>62</td>\n",
       "      <td>NaT</td>\n",
       "      <td>Омск</td>\n",
       "      <td>Ренат</td>\n",
       "      <td>Андропов</td>\n",
       "      <td>2018-08-17</td>\n",
       "      <td>smart</td>\n",
       "    </tr>\n",
       "  </tbody>\n",
       "</table>\n",
       "<p>74 rows × 8 columns</p>\n",
       "</div>"
      ],
      "text/plain": [
       "     user_id  age churn_date             city first_name   last_name  \\\n",
       "1       1001   41        NaT           Москва       Иван        Ежов   \n",
       "6       1006   21        NaT        Ульяновск     Леонид    Ермолаев   \n",
       "10      1010   26        NaT           Тюмень     Эдуард     Кононов   \n",
       "17      1017   73        NaT        Краснодар      Мария  Аленникова   \n",
       "24      1024   73        NaT  Санкт-Петербург     Иулиан     Антипов   \n",
       "..       ...  ...        ...              ...        ...         ...   \n",
       "462     1462   72        NaT         Тольятти      Алёна  Абрамычева   \n",
       "466     1466   37        NaT      Новосибирск      Рубен      Шевцов   \n",
       "469     1469   41        NaT             Сочи      Аксён     Абалкин   \n",
       "479     1479   40        NaT        Хабаровск      Игорь    Богданов   \n",
       "494     1494   62        NaT             Омск      Ренат    Андропов   \n",
       "\n",
       "      reg_date tariff  \n",
       "1   2018-11-01  smart  \n",
       "6   2018-02-26  smart  \n",
       "10  2018-08-05  smart  \n",
       "17  2018-05-22  smart  \n",
       "24  2018-10-31  ultra  \n",
       "..         ...    ...  \n",
       "462 2018-10-29  smart  \n",
       "466 2018-02-28  ultra  \n",
       "469 2018-07-06  ultra  \n",
       "479 2018-07-03  smart  \n",
       "494 2018-08-17  smart  \n",
       "\n",
       "[74 rows x 8 columns]"
      ]
     },
     "execution_count": 34,
     "metadata": {},
     "output_type": "execute_result"
    }
   ],
   "source": [
    "users.loc[~(users['user_id'].isin(messages['user_id']))]"
   ]
  },
  {
   "cell_type": "markdown",
   "metadata": {},
   "source": [
    "Проверяем пользователей, которые не пользовались звонками и интернетом, пользовались ли они смс - нет тк в таблице смс их тоже не было."
   ]
  },
  {
   "cell_type": "code",
   "execution_count": 35,
   "metadata": {},
   "outputs": [
    {
     "data": {
      "text/html": [
       "<div>\n",
       "<style scoped>\n",
       "    .dataframe tbody tr th:only-of-type {\n",
       "        vertical-align: middle;\n",
       "    }\n",
       "\n",
       "    .dataframe tbody tr th {\n",
       "        vertical-align: top;\n",
       "    }\n",
       "\n",
       "    .dataframe thead th {\n",
       "        text-align: right;\n",
       "    }\n",
       "</style>\n",
       "<table border=\"1\" class=\"dataframe\">\n",
       "  <thead>\n",
       "    <tr style=\"text-align: right;\">\n",
       "      <th></th>\n",
       "      <th>id</th>\n",
       "      <th>message_date</th>\n",
       "      <th>month</th>\n",
       "      <th>user_id</th>\n",
       "    </tr>\n",
       "  </thead>\n",
       "  <tbody>\n",
       "  </tbody>\n",
       "</table>\n",
       "</div>"
      ],
      "text/plain": [
       "Empty DataFrame\n",
       "Columns: [id, message_date, month, user_id]\n",
       "Index: []"
      ]
     },
     "execution_count": 35,
     "metadata": {},
     "output_type": "execute_result"
    }
   ],
   "source": [
    "messages.query('user_id==1128 or user_id==1371')"
   ]
  },
  {
   "cell_type": "markdown",
   "metadata": {},
   "source": [
    "Итак мы видим, что 2 пользователя с user_id 1128 и 1371 действительно не пользовались ни одним из видов связей. Почему? Видим, что даты их регистрации 15.12.2018 и 25.12.2018, а это значит, что они действительно могли еще не успеть воспользовтаься услугами связи. За две недели, конечно, маловероятно, но если это была вторая симка, то возможно. В дальнейших расчетах нам эти пользователи не понадобятся, поэтому оставляем как есть и не включаем их в расчеты."
   ]
  },
  {
   "cell_type": "code",
   "execution_count": 36,
   "metadata": {},
   "outputs": [
    {
     "name": "stdout",
     "output_type": "stream",
     "text": [
      "<class 'pandas.core.frame.DataFrame'>\n",
      "Int64Index: 3214 entries, 0 to 3213\n",
      "Data columns (total 8 columns):\n",
      " #   Column      Non-Null Count  Dtype  \n",
      "---  ------      --------------  -----  \n",
      " 0   user_id     3214 non-null   int64  \n",
      " 1   month       3214 non-null   int64  \n",
      " 2   count_call  3174 non-null   float64\n",
      " 3   min         3174 non-null   float64\n",
      " 4   sms         2717 non-null   float64\n",
      " 5   gb          3203 non-null   float64\n",
      " 6   city        3214 non-null   object \n",
      " 7   tariff      3214 non-null   object \n",
      "dtypes: float64(4), int64(2), object(2)\n",
      "memory usage: 226.0+ KB\n"
     ]
    },
    {
     "data": {
      "text/plain": [
       "user_id         0\n",
       "month           0\n",
       "count_call     40\n",
       "min            40\n",
       "sms           497\n",
       "gb             11\n",
       "city            0\n",
       "tariff          0\n",
       "dtype: int64"
      ]
     },
     "execution_count": 36,
     "metadata": {},
     "output_type": "execute_result"
    }
   ],
   "source": [
    "expense.info()\n",
    "expense.isna().sum()"
   ]
  },
  {
   "cell_type": "markdown",
   "metadata": {},
   "source": [
    "В процессе склейки образовались пропуски(не все пользуются всеми видами связи), заполним их нулями и приведем тип данных к int."
   ]
  },
  {
   "cell_type": "code",
   "execution_count": 37,
   "metadata": {},
   "outputs": [
    {
     "name": "stdout",
     "output_type": "stream",
     "text": [
      "<class 'pandas.core.frame.DataFrame'>\n",
      "Int64Index: 3214 entries, 0 to 3213\n",
      "Data columns (total 8 columns):\n",
      " #   Column      Non-Null Count  Dtype \n",
      "---  ------      --------------  ----- \n",
      " 0   user_id     3214 non-null   int64 \n",
      " 1   month       3214 non-null   int64 \n",
      " 2   count_call  3214 non-null   int32 \n",
      " 3   min         3214 non-null   int32 \n",
      " 4   sms         3214 non-null   int32 \n",
      " 5   gb          3214 non-null   int32 \n",
      " 6   city        3214 non-null   object\n",
      " 7   tariff      3214 non-null   object\n",
      "dtypes: int32(4), int64(2), object(2)\n",
      "memory usage: 175.8+ KB\n"
     ]
    }
   ],
   "source": [
    "columns = ['count_call', 'min', 'sms', 'gb']\n",
    "for column in columns:\n",
    "    expense[column] = expense[column].fillna(0)\n",
    "    expense[column] = expense[column].astype('int')\n",
    "expense.info()"
   ]
  },
  {
   "cell_type": "code",
   "execution_count": 38,
   "metadata": {},
   "outputs": [
    {
     "data": {
      "text/html": [
       "<div>\n",
       "<style scoped>\n",
       "    .dataframe tbody tr th:only-of-type {\n",
       "        vertical-align: middle;\n",
       "    }\n",
       "\n",
       "    .dataframe tbody tr th {\n",
       "        vertical-align: top;\n",
       "    }\n",
       "\n",
       "    .dataframe thead th {\n",
       "        text-align: right;\n",
       "    }\n",
       "</style>\n",
       "<table border=\"1\" class=\"dataframe\">\n",
       "  <thead>\n",
       "    <tr style=\"text-align: right;\">\n",
       "      <th></th>\n",
       "      <th>messages_included</th>\n",
       "      <th>gb_per_month_included</th>\n",
       "      <th>minutes_included</th>\n",
       "      <th>rub_monthly_fee</th>\n",
       "      <th>rub_per_gb</th>\n",
       "      <th>rub_per_message</th>\n",
       "      <th>rub_per_minute</th>\n",
       "      <th>tariff_name</th>\n",
       "    </tr>\n",
       "  </thead>\n",
       "  <tbody>\n",
       "    <tr>\n",
       "      <th>0</th>\n",
       "      <td>50</td>\n",
       "      <td>15</td>\n",
       "      <td>500</td>\n",
       "      <td>550</td>\n",
       "      <td>200</td>\n",
       "      <td>3</td>\n",
       "      <td>3</td>\n",
       "      <td>smart</td>\n",
       "    </tr>\n",
       "    <tr>\n",
       "      <th>1</th>\n",
       "      <td>1000</td>\n",
       "      <td>30</td>\n",
       "      <td>3000</td>\n",
       "      <td>1950</td>\n",
       "      <td>150</td>\n",
       "      <td>1</td>\n",
       "      <td>1</td>\n",
       "      <td>ultra</td>\n",
       "    </tr>\n",
       "  </tbody>\n",
       "</table>\n",
       "</div>"
      ],
      "text/plain": [
       "   messages_included  gb_per_month_included  minutes_included  \\\n",
       "0                 50                     15               500   \n",
       "1               1000                     30              3000   \n",
       "\n",
       "   rub_monthly_fee  rub_per_gb  rub_per_message  rub_per_minute tariff_name  \n",
       "0              550         200                3               3       smart  \n",
       "1             1950         150                1               1       ultra  "
      ]
     },
     "execution_count": 38,
     "metadata": {},
     "output_type": "execute_result"
    }
   ],
   "source": [
    "tariffs"
   ]
  },
  {
   "cell_type": "code",
   "execution_count": 39,
   "metadata": {},
   "outputs": [
    {
     "data": {
      "text/html": [
       "<div>\n",
       "<style scoped>\n",
       "    .dataframe tbody tr th:only-of-type {\n",
       "        vertical-align: middle;\n",
       "    }\n",
       "\n",
       "    .dataframe tbody tr th {\n",
       "        vertical-align: top;\n",
       "    }\n",
       "\n",
       "    .dataframe thead th {\n",
       "        text-align: right;\n",
       "    }\n",
       "</style>\n",
       "<table border=\"1\" class=\"dataframe\">\n",
       "  <thead>\n",
       "    <tr style=\"text-align: right;\">\n",
       "      <th></th>\n",
       "      <th>user_id</th>\n",
       "      <th>month</th>\n",
       "      <th>count_call</th>\n",
       "      <th>min</th>\n",
       "      <th>sms</th>\n",
       "      <th>gb</th>\n",
       "      <th>city</th>\n",
       "      <th>tariff</th>\n",
       "    </tr>\n",
       "  </thead>\n",
       "  <tbody>\n",
       "    <tr>\n",
       "      <th>0</th>\n",
       "      <td>1000</td>\n",
       "      <td>5</td>\n",
       "      <td>22</td>\n",
       "      <td>159</td>\n",
       "      <td>22</td>\n",
       "      <td>3</td>\n",
       "      <td>Краснодар</td>\n",
       "      <td>ultra</td>\n",
       "    </tr>\n",
       "    <tr>\n",
       "      <th>1</th>\n",
       "      <td>1000</td>\n",
       "      <td>6</td>\n",
       "      <td>43</td>\n",
       "      <td>172</td>\n",
       "      <td>60</td>\n",
       "      <td>23</td>\n",
       "      <td>Краснодар</td>\n",
       "      <td>ultra</td>\n",
       "    </tr>\n",
       "    <tr>\n",
       "      <th>2</th>\n",
       "      <td>1000</td>\n",
       "      <td>7</td>\n",
       "      <td>47</td>\n",
       "      <td>340</td>\n",
       "      <td>75</td>\n",
       "      <td>14</td>\n",
       "      <td>Краснодар</td>\n",
       "      <td>ultra</td>\n",
       "    </tr>\n",
       "    <tr>\n",
       "      <th>3</th>\n",
       "      <td>1000</td>\n",
       "      <td>8</td>\n",
       "      <td>52</td>\n",
       "      <td>408</td>\n",
       "      <td>81</td>\n",
       "      <td>14</td>\n",
       "      <td>Краснодар</td>\n",
       "      <td>ultra</td>\n",
       "    </tr>\n",
       "    <tr>\n",
       "      <th>4</th>\n",
       "      <td>1000</td>\n",
       "      <td>9</td>\n",
       "      <td>58</td>\n",
       "      <td>466</td>\n",
       "      <td>57</td>\n",
       "      <td>15</td>\n",
       "      <td>Краснодар</td>\n",
       "      <td>ultra</td>\n",
       "    </tr>\n",
       "  </tbody>\n",
       "</table>\n",
       "</div>"
      ],
      "text/plain": [
       "   user_id  month  count_call  min  sms  gb       city tariff\n",
       "0     1000      5          22  159   22   3  Краснодар  ultra\n",
       "1     1000      6          43  172   60  23  Краснодар  ultra\n",
       "2     1000      7          47  340   75  14  Краснодар  ultra\n",
       "3     1000      8          52  408   81  14  Краснодар  ultra\n",
       "4     1000      9          58  466   57  15  Краснодар  ultra"
      ]
     },
     "execution_count": 39,
     "metadata": {},
     "output_type": "execute_result"
    }
   ],
   "source": [
    "expense.head()"
   ]
  },
  {
   "cell_type": "markdown",
   "metadata": {},
   "source": [
    "Для расчета выручки с пользователя создадим функцию для строки и рассчитаем затраты:"
   ]
  },
  {
   "cell_type": "code",
   "execution_count": 40,
   "metadata": {},
   "outputs": [],
   "source": [
    "def revenue(row):\n",
    "    \n",
    "    tariff = row['tariff']\n",
    "    \n",
    "    over_min = row['min'] - tariffs.loc[tariffs['tariff_name']==tariff, 'minutes_included'].item()\n",
    "    over_sms = row['sms'] - tariffs.loc[tariffs['tariff_name']==tariff, 'messages_included'].item()\n",
    "    over_gb = row['gb'] - tariffs.loc[tariffs['tariff_name']==tariff, 'gb_per_month_included'].item()\n",
    "    \n",
    "    if over_min < 0:\n",
    "        rub_min = 0\n",
    "    else:\n",
    "        rub_min = over_min*tariffs.loc[tariffs['tariff_name']==tariff, 'rub_per_minute'].item()\n",
    "   \n",
    "    if over_sms < 0:\n",
    "        rub_sms = 0\n",
    "    else:\n",
    "        rub_sms = over_sms*tariffs.loc[tariffs['tariff_name']==tariff, 'rub_per_message'].item()\n",
    "        \n",
    "    if over_gb < 0:\n",
    "        rub_gb = 0\n",
    "    else:\n",
    "        rub_gb = over_gb*tariffs.loc[tariffs['tariff_name']==tariff, 'rub_per_gb'].item()\n",
    "    \n",
    "    revenue = rub_min+rub_sms+rub_gb+tariffs.loc[tariffs['tariff_name']==tariff, 'rub_monthly_fee'].item()\n",
    "        \n",
    "    return revenue"
   ]
  },
  {
   "cell_type": "code",
   "execution_count": 41,
   "metadata": {},
   "outputs": [
    {
     "data": {
      "text/html": [
       "<div>\n",
       "<style scoped>\n",
       "    .dataframe tbody tr th:only-of-type {\n",
       "        vertical-align: middle;\n",
       "    }\n",
       "\n",
       "    .dataframe tbody tr th {\n",
       "        vertical-align: top;\n",
       "    }\n",
       "\n",
       "    .dataframe thead th {\n",
       "        text-align: right;\n",
       "    }\n",
       "</style>\n",
       "<table border=\"1\" class=\"dataframe\">\n",
       "  <thead>\n",
       "    <tr style=\"text-align: right;\">\n",
       "      <th></th>\n",
       "      <th>user_id</th>\n",
       "      <th>month</th>\n",
       "      <th>count_call</th>\n",
       "      <th>min</th>\n",
       "      <th>sms</th>\n",
       "      <th>gb</th>\n",
       "      <th>city</th>\n",
       "      <th>tariff</th>\n",
       "      <th>expense</th>\n",
       "    </tr>\n",
       "  </thead>\n",
       "  <tbody>\n",
       "    <tr>\n",
       "      <th>0</th>\n",
       "      <td>1000</td>\n",
       "      <td>5</td>\n",
       "      <td>22</td>\n",
       "      <td>159</td>\n",
       "      <td>22</td>\n",
       "      <td>3</td>\n",
       "      <td>Краснодар</td>\n",
       "      <td>ultra</td>\n",
       "      <td>1950</td>\n",
       "    </tr>\n",
       "    <tr>\n",
       "      <th>1</th>\n",
       "      <td>1000</td>\n",
       "      <td>6</td>\n",
       "      <td>43</td>\n",
       "      <td>172</td>\n",
       "      <td>60</td>\n",
       "      <td>23</td>\n",
       "      <td>Краснодар</td>\n",
       "      <td>ultra</td>\n",
       "      <td>1950</td>\n",
       "    </tr>\n",
       "    <tr>\n",
       "      <th>2</th>\n",
       "      <td>1000</td>\n",
       "      <td>7</td>\n",
       "      <td>47</td>\n",
       "      <td>340</td>\n",
       "      <td>75</td>\n",
       "      <td>14</td>\n",
       "      <td>Краснодар</td>\n",
       "      <td>ultra</td>\n",
       "      <td>1950</td>\n",
       "    </tr>\n",
       "    <tr>\n",
       "      <th>3</th>\n",
       "      <td>1000</td>\n",
       "      <td>8</td>\n",
       "      <td>52</td>\n",
       "      <td>408</td>\n",
       "      <td>81</td>\n",
       "      <td>14</td>\n",
       "      <td>Краснодар</td>\n",
       "      <td>ultra</td>\n",
       "      <td>1950</td>\n",
       "    </tr>\n",
       "    <tr>\n",
       "      <th>4</th>\n",
       "      <td>1000</td>\n",
       "      <td>9</td>\n",
       "      <td>58</td>\n",
       "      <td>466</td>\n",
       "      <td>57</td>\n",
       "      <td>15</td>\n",
       "      <td>Краснодар</td>\n",
       "      <td>ultra</td>\n",
       "      <td>1950</td>\n",
       "    </tr>\n",
       "    <tr>\n",
       "      <th>5</th>\n",
       "      <td>1000</td>\n",
       "      <td>10</td>\n",
       "      <td>57</td>\n",
       "      <td>350</td>\n",
       "      <td>73</td>\n",
       "      <td>15</td>\n",
       "      <td>Краснодар</td>\n",
       "      <td>ultra</td>\n",
       "      <td>1950</td>\n",
       "    </tr>\n",
       "    <tr>\n",
       "      <th>6</th>\n",
       "      <td>1000</td>\n",
       "      <td>11</td>\n",
       "      <td>43</td>\n",
       "      <td>338</td>\n",
       "      <td>58</td>\n",
       "      <td>15</td>\n",
       "      <td>Краснодар</td>\n",
       "      <td>ultra</td>\n",
       "      <td>1950</td>\n",
       "    </tr>\n",
       "    <tr>\n",
       "      <th>7</th>\n",
       "      <td>1000</td>\n",
       "      <td>12</td>\n",
       "      <td>46</td>\n",
       "      <td>333</td>\n",
       "      <td>70</td>\n",
       "      <td>10</td>\n",
       "      <td>Краснодар</td>\n",
       "      <td>ultra</td>\n",
       "      <td>1950</td>\n",
       "    </tr>\n",
       "    <tr>\n",
       "      <th>8</th>\n",
       "      <td>1001</td>\n",
       "      <td>11</td>\n",
       "      <td>59</td>\n",
       "      <td>430</td>\n",
       "      <td>0</td>\n",
       "      <td>18</td>\n",
       "      <td>Москва</td>\n",
       "      <td>smart</td>\n",
       "      <td>1150</td>\n",
       "    </tr>\n",
       "    <tr>\n",
       "      <th>9</th>\n",
       "      <td>1001</td>\n",
       "      <td>12</td>\n",
       "      <td>63</td>\n",
       "      <td>414</td>\n",
       "      <td>0</td>\n",
       "      <td>14</td>\n",
       "      <td>Москва</td>\n",
       "      <td>smart</td>\n",
       "      <td>550</td>\n",
       "    </tr>\n",
       "  </tbody>\n",
       "</table>\n",
       "</div>"
      ],
      "text/plain": [
       "   user_id  month  count_call  min  sms  gb       city tariff  expense\n",
       "0     1000      5          22  159   22   3  Краснодар  ultra     1950\n",
       "1     1000      6          43  172   60  23  Краснодар  ultra     1950\n",
       "2     1000      7          47  340   75  14  Краснодар  ultra     1950\n",
       "3     1000      8          52  408   81  14  Краснодар  ultra     1950\n",
       "4     1000      9          58  466   57  15  Краснодар  ultra     1950\n",
       "5     1000     10          57  350   73  15  Краснодар  ultra     1950\n",
       "6     1000     11          43  338   58  15  Краснодар  ultra     1950\n",
       "7     1000     12          46  333   70  10  Краснодар  ultra     1950\n",
       "8     1001     11          59  430    0  18     Москва  smart     1150\n",
       "9     1001     12          63  414    0  14     Москва  smart      550"
      ]
     },
     "execution_count": 41,
     "metadata": {},
     "output_type": "execute_result"
    }
   ],
   "source": [
    "expense['expense'] = expense.apply(revenue, axis=1)\n",
    "expense.head(10)"
   ]
  },
  {
   "cell_type": "markdown",
   "metadata": {},
   "source": [
    "**Вывод**: рассчитали помесячные траты каждого пользователя по звонкам, смс и интернету, можно приступать к исследованию."
   ]
  },
  {
   "cell_type": "markdown",
   "metadata": {},
   "source": [
    "## Анализ данных"
   ]
  },
  {
   "cell_type": "markdown",
   "metadata": {},
   "source": [
    "Попробуем описать поведение клиентов оператора, исходя из выборки:\n",
    "\n",
    "* сколько минут разговора, сколько сообщений и какой объём интернет-трафика требуется пользователям каждого тарифа в месяц;\n",
    "* каково среднее, дисперсия и стандартное отклонение;\n",
    "* построим гистограммы и опишем распределения.\n"
   ]
  },
  {
   "cell_type": "code",
   "execution_count": 42,
   "metadata": {},
   "outputs": [
    {
     "data": {
      "text/html": [
       "<div>\n",
       "<style scoped>\n",
       "    .dataframe tbody tr th:only-of-type {\n",
       "        vertical-align: middle;\n",
       "    }\n",
       "\n",
       "    .dataframe tbody tr th {\n",
       "        vertical-align: top;\n",
       "    }\n",
       "\n",
       "    .dataframe thead tr th {\n",
       "        text-align: left;\n",
       "    }\n",
       "\n",
       "    .dataframe thead tr:last-of-type th {\n",
       "        text-align: right;\n",
       "    }\n",
       "</style>\n",
       "<table border=\"1\" class=\"dataframe\">\n",
       "  <thead>\n",
       "    <tr>\n",
       "      <th></th>\n",
       "      <th colspan=\"4\" halign=\"left\">median</th>\n",
       "      <th colspan=\"4\" halign=\"left\">var</th>\n",
       "      <th colspan=\"4\" halign=\"left\">std</th>\n",
       "      <th colspan=\"4\" halign=\"left\">mean</th>\n",
       "    </tr>\n",
       "    <tr>\n",
       "      <th></th>\n",
       "      <th>expense</th>\n",
       "      <th>gb</th>\n",
       "      <th>min</th>\n",
       "      <th>sms</th>\n",
       "      <th>expense</th>\n",
       "      <th>gb</th>\n",
       "      <th>min</th>\n",
       "      <th>sms</th>\n",
       "      <th>expense</th>\n",
       "      <th>gb</th>\n",
       "      <th>min</th>\n",
       "      <th>sms</th>\n",
       "      <th>expense</th>\n",
       "      <th>gb</th>\n",
       "      <th>min</th>\n",
       "      <th>sms</th>\n",
       "    </tr>\n",
       "    <tr>\n",
       "      <th>tariff</th>\n",
       "      <th></th>\n",
       "      <th></th>\n",
       "      <th></th>\n",
       "      <th></th>\n",
       "      <th></th>\n",
       "      <th></th>\n",
       "      <th></th>\n",
       "      <th></th>\n",
       "      <th></th>\n",
       "      <th></th>\n",
       "      <th></th>\n",
       "      <th></th>\n",
       "      <th></th>\n",
       "      <th></th>\n",
       "      <th></th>\n",
       "      <th></th>\n",
       "    </tr>\n",
       "  </thead>\n",
       "  <tbody>\n",
       "    <tr>\n",
       "      <th>smart</th>\n",
       "      <td>1023</td>\n",
       "      <td>17</td>\n",
       "      <td>422</td>\n",
       "      <td>28</td>\n",
       "      <td>669785.7</td>\n",
       "      <td>33.0</td>\n",
       "      <td>36219.3</td>\n",
       "      <td>796.8</td>\n",
       "      <td>818.4</td>\n",
       "      <td>5.7</td>\n",
       "      <td>190.3</td>\n",
       "      <td>28.2</td>\n",
       "      <td>1290.0</td>\n",
       "      <td>16.3</td>\n",
       "      <td>417.9</td>\n",
       "      <td>33.4</td>\n",
       "    </tr>\n",
       "    <tr>\n",
       "      <th>ultra</th>\n",
       "      <td>1950</td>\n",
       "      <td>19</td>\n",
       "      <td>518</td>\n",
       "      <td>38</td>\n",
       "      <td>141516.7</td>\n",
       "      <td>97.1</td>\n",
       "      <td>100873.6</td>\n",
       "      <td>2285.3</td>\n",
       "      <td>376.2</td>\n",
       "      <td>9.9</td>\n",
       "      <td>317.6</td>\n",
       "      <td>47.8</td>\n",
       "      <td>2070.2</td>\n",
       "      <td>19.5</td>\n",
       "      <td>526.6</td>\n",
       "      <td>49.4</td>\n",
       "    </tr>\n",
       "  </tbody>\n",
       "</table>\n",
       "</div>"
      ],
      "text/plain": [
       "        median                    var                             std       \\\n",
       "       expense  gb  min sms   expense    gb       min     sms expense   gb   \n",
       "tariff                                                                       \n",
       "smart     1023  17  422  28  669785.7  33.0   36219.3   796.8   818.4  5.7   \n",
       "ultra     1950  19  518  38  141516.7  97.1  100873.6  2285.3   376.2  9.9   \n",
       "\n",
       "                       mean                     \n",
       "          min   sms expense    gb    min   sms  \n",
       "tariff                                          \n",
       "smart   190.3  28.2  1290.0  16.3  417.9  33.4  \n",
       "ultra   317.6  47.8  2070.2  19.5  526.6  49.4  "
      ]
     },
     "execution_count": 42,
     "metadata": {},
     "output_type": "execute_result"
    }
   ],
   "source": [
    "tariff_stat = expense.pivot_table(index=['tariff'], values=['min', 'gb', 'sms','expense'], \n",
    "                                  aggfunc=[np.median, np.var, np.std, np.mean]).round(1) \n",
    "tariff_stat"
   ]
  },
  {
   "cell_type": "code",
   "execution_count": 43,
   "metadata": {},
   "outputs": [
    {
     "data": {
      "text/html": [
       "<div>\n",
       "<style scoped>\n",
       "    .dataframe tbody tr th:only-of-type {\n",
       "        vertical-align: middle;\n",
       "    }\n",
       "\n",
       "    .dataframe tbody tr th {\n",
       "        vertical-align: top;\n",
       "    }\n",
       "\n",
       "    .dataframe thead th {\n",
       "        text-align: right;\n",
       "    }\n",
       "</style>\n",
       "<table border=\"1\" class=\"dataframe\">\n",
       "  <thead>\n",
       "    <tr style=\"text-align: right;\">\n",
       "      <th></th>\n",
       "      <th>tariff_name</th>\n",
       "      <th>expense</th>\n",
       "      <th>gb</th>\n",
       "      <th>min</th>\n",
       "      <th>sms</th>\n",
       "      <th>messages_included</th>\n",
       "      <th>gb_per_month_included</th>\n",
       "      <th>minutes_included</th>\n",
       "      <th>rub_monthly_fee</th>\n",
       "      <th>rub_per_gb</th>\n",
       "      <th>rub_per_message</th>\n",
       "      <th>rub_per_minute</th>\n",
       "    </tr>\n",
       "  </thead>\n",
       "  <tbody>\n",
       "    <tr>\n",
       "      <th>0</th>\n",
       "      <td>smart</td>\n",
       "      <td>1290.0</td>\n",
       "      <td>16.3</td>\n",
       "      <td>417.9</td>\n",
       "      <td>33.4</td>\n",
       "      <td>50</td>\n",
       "      <td>15</td>\n",
       "      <td>500</td>\n",
       "      <td>550</td>\n",
       "      <td>200</td>\n",
       "      <td>3</td>\n",
       "      <td>3</td>\n",
       "    </tr>\n",
       "    <tr>\n",
       "      <th>1</th>\n",
       "      <td>ultra</td>\n",
       "      <td>2070.2</td>\n",
       "      <td>19.5</td>\n",
       "      <td>526.6</td>\n",
       "      <td>49.4</td>\n",
       "      <td>1000</td>\n",
       "      <td>30</td>\n",
       "      <td>3000</td>\n",
       "      <td>1950</td>\n",
       "      <td>150</td>\n",
       "      <td>1</td>\n",
       "      <td>1</td>\n",
       "    </tr>\n",
       "  </tbody>\n",
       "</table>\n",
       "</div>"
      ],
      "text/plain": [
       "  tariff_name  expense    gb    min   sms  messages_included  \\\n",
       "0       smart   1290.0  16.3  417.9  33.4                 50   \n",
       "1       ultra   2070.2  19.5  526.6  49.4               1000   \n",
       "\n",
       "   gb_per_month_included  minutes_included  rub_monthly_fee  rub_per_gb  \\\n",
       "0                     15               500              550         200   \n",
       "1                     30              3000             1950         150   \n",
       "\n",
       "   rub_per_message  rub_per_minute  \n",
       "0                3               3  \n",
       "1                1               1  "
      ]
     },
     "execution_count": 43,
     "metadata": {},
     "output_type": "execute_result"
    }
   ],
   "source": [
    "tariff_mean = tariff_stat['mean'].reset_index()\n",
    "tariff_mean.rename(columns={'tariff': 'tariff_name'}, inplace=True)\n",
    "tariff_mean = tariff_mean.merge(tariffs, on = ['tariff_name'])\n",
    "tariff_mean"
   ]
  },
  {
   "cell_type": "code",
   "execution_count": 44,
   "metadata": {},
   "outputs": [
    {
     "data": {
      "image/png": "[encoded data removed]",
      "text/plain": [
       "<Figure size 504x504 with 1 Axes>"
      ]
     },
     "metadata": {
      "needs_background": "light"
     },
     "output_type": "display_data"
    }
   ],
   "source": [
    "tariff_stat['median'].plot(grid=True,figsize=(7,7),kind='bar');"
   ]
  },
  {
   "cell_type": "markdown",
   "metadata": {},
   "source": [
    "Из таблицы и графиков видно, что и медианные и средние значения по всем напрваления по тарифу Ультра выше Смарта. Детализируем:"
   ]
  },
  {
   "cell_type": "markdown",
   "metadata": {},
   "source": [
    "Средние значения сообщений в месяц Ультра - 49,4/1000 Смарт - 33,4/50  \n",
    "Средние значения минут разговоров в месяц Ультра - 526,6/3000 Смарт - 417,9/500  \n",
    "Средние значения интернета в месяц Ультра - 19,5/30 Смарт - 16,3/15  \n",
    "Средние значения выручки с пользователя Ультра - 2070,2 Смарт - 1290"
   ]
  },
  {
   "cell_type": "markdown",
   "metadata": {},
   "source": [
    "Интересно также то, что относительно абонетской платы пользователи тарифа Смарт в среднем больше выходят за лимиты по тарифу, чем пользователи тарифа Ультра. Т.е., условно говоря, по тарифу Ультра пользователи чувствуют себя не ограниченными в трафиках, при этом в среднем он в таком объеме им и не нужен. В то время как пользователи тарифа Смарт в среднем выходят за лимит только по Гб, за счет чего по всей видимости и идет значительное превышение ежемесячной оплаты по тарифу. В общем, пользователи Ультры себя \"пероценивают\", а Смарта \"недооценивают\", а глобально их траты весомо отличаются только в части интернет-трафика.   \n",
    "\n",
    "С усредненной покупательской точки зрения получается, что на Смарте находиться выгодно, тк даже переплачивая за интернет, плата все равно будет ниже Ультры, а минуты и смс не расходуются на \"всю\"."
   ]
  },
  {
   "cell_type": "markdown",
   "metadata": {},
   "source": [
    "### Выручка"
   ]
  },
  {
   "cell_type": "code",
   "execution_count": 45,
   "metadata": {},
   "outputs": [
    {
     "data": {
      "text/html": [
       "<div>\n",
       "<style scoped>\n",
       "    .dataframe tbody tr th:only-of-type {\n",
       "        vertical-align: middle;\n",
       "    }\n",
       "\n",
       "    .dataframe tbody tr th {\n",
       "        vertical-align: top;\n",
       "    }\n",
       "\n",
       "    .dataframe thead th {\n",
       "        text-align: right;\n",
       "    }\n",
       "</style>\n",
       "<table border=\"1\" class=\"dataframe\">\n",
       "  <thead>\n",
       "    <tr style=\"text-align: right;\">\n",
       "      <th></th>\n",
       "      <th>expense</th>\n",
       "    </tr>\n",
       "    <tr>\n",
       "      <th>tariff</th>\n",
       "      <th></th>\n",
       "    </tr>\n",
       "  </thead>\n",
       "  <tbody>\n",
       "    <tr>\n",
       "      <th>smart</th>\n",
       "      <td>2875351</td>\n",
       "    </tr>\n",
       "    <tr>\n",
       "      <th>ultra</th>\n",
       "      <td>2039100</td>\n",
       "    </tr>\n",
       "  </tbody>\n",
       "</table>\n",
       "</div>"
      ],
      "text/plain": [
       "        expense\n",
       "tariff         \n",
       "smart   2875351\n",
       "ultra   2039100"
      ]
     },
     "execution_count": 45,
     "metadata": {},
     "output_type": "execute_result"
    }
   ],
   "source": [
    "expense.pivot_table(index='tariff', values='expense', aggfunc='sum') #суммарная выручка с каждого тарифа"
   ]
  },
  {
   "cell_type": "code",
   "execution_count": 46,
   "metadata": {},
   "outputs": [
    {
     "data": {
      "text/html": [
       "<div>\n",
       "<style scoped>\n",
       "    .dataframe tbody tr th:only-of-type {\n",
       "        vertical-align: middle;\n",
       "    }\n",
       "\n",
       "    .dataframe tbody tr th {\n",
       "        vertical-align: top;\n",
       "    }\n",
       "\n",
       "    .dataframe thead th {\n",
       "        text-align: right;\n",
       "    }\n",
       "</style>\n",
       "<table border=\"1\" class=\"dataframe\">\n",
       "  <thead>\n",
       "    <tr style=\"text-align: right;\">\n",
       "      <th></th>\n",
       "      <th>user_id</th>\n",
       "    </tr>\n",
       "    <tr>\n",
       "      <th>tariff</th>\n",
       "      <th></th>\n",
       "    </tr>\n",
       "  </thead>\n",
       "  <tbody>\n",
       "    <tr>\n",
       "      <th>smart</th>\n",
       "      <td>337</td>\n",
       "    </tr>\n",
       "    <tr>\n",
       "      <th>ultra</th>\n",
       "      <td>139</td>\n",
       "    </tr>\n",
       "  </tbody>\n",
       "</table>\n",
       "</div>"
      ],
      "text/plain": [
       "        user_id\n",
       "tariff         \n",
       "smart       337\n",
       "ultra       139"
      ]
     },
     "execution_count": 46,
     "metadata": {},
     "output_type": "execute_result"
    }
   ],
   "source": [
    "expense_user = expense.query('month==12') #количество абонентов по тарифам на декабрь 2018\n",
    "expense_user.pivot_table(index='tariff', values='user_id', aggfunc='count')"
   ]
  },
  {
   "cell_type": "code",
   "execution_count": 47,
   "metadata": {},
   "outputs": [
    {
     "data": {
      "image/png": "[encoded data removed]",
      "text/plain": [
       "<Figure size 360x360 with 1 Axes>"
      ]
     },
     "metadata": {
      "needs_background": "light"
     },
     "output_type": "display_data"
    }
   ],
   "source": [
    "expense.pivot_table(index='tariff', values='expense', aggfunc='sum').plot(grid=True, figsize=(5, 5), kind='bar');"
   ]
  },
  {
   "cell_type": "code",
   "execution_count": 48,
   "metadata": {},
   "outputs": [
    {
     "data": {
      "image/png": "[encoded data removed]",
      "text/plain": [
       "<Figure size 360x360 with 1 Axes>"
      ]
     },
     "metadata": {
      "needs_background": "light"
     },
     "output_type": "display_data"
    }
   ],
   "source": [
    "expense_user.pivot_table(index='tariff', values='user_id', aggfunc='count').plot(grid=True, figsize=(5, 5), kind='bar');"
   ]
  },
  {
   "cell_type": "markdown",
   "metadata": {},
   "source": [
    "При этом суммарный доход от тарифа Смарт выше, чем от Ультры, потому что им пользуются более, чем в два раза больше людей(по крайней мере в нашей выборке). Можно сказать, что тариф Ультра более выгодный для компании, но Смарт берет популярностью."
   ]
  },
  {
   "cell_type": "code",
   "execution_count": 49,
   "metadata": {},
   "outputs": [
    {
     "data": {
      "text/html": [
       "<div>\n",
       "<style scoped>\n",
       "    .dataframe tbody tr th:only-of-type {\n",
       "        vertical-align: middle;\n",
       "    }\n",
       "\n",
       "    .dataframe tbody tr th {\n",
       "        vertical-align: top;\n",
       "    }\n",
       "\n",
       "    .dataframe thead th {\n",
       "        text-align: right;\n",
       "    }\n",
       "</style>\n",
       "<table border=\"1\" class=\"dataframe\">\n",
       "  <thead>\n",
       "    <tr style=\"text-align: right;\">\n",
       "      <th></th>\n",
       "      <th>tariff</th>\n",
       "      <th>month</th>\n",
       "      <th>expense</th>\n",
       "    </tr>\n",
       "  </thead>\n",
       "  <tbody>\n",
       "    <tr>\n",
       "      <th>0</th>\n",
       "      <td>smart</td>\n",
       "      <td>1</td>\n",
       "      <td>24525</td>\n",
       "    </tr>\n",
       "    <tr>\n",
       "      <th>1</th>\n",
       "      <td>smart</td>\n",
       "      <td>2</td>\n",
       "      <td>48001</td>\n",
       "    </tr>\n",
       "    <tr>\n",
       "      <th>2</th>\n",
       "      <td>smart</td>\n",
       "      <td>3</td>\n",
       "      <td>89676</td>\n",
       "    </tr>\n",
       "    <tr>\n",
       "      <th>3</th>\n",
       "      <td>smart</td>\n",
       "      <td>4</td>\n",
       "      <td>107866</td>\n",
       "    </tr>\n",
       "    <tr>\n",
       "      <th>4</th>\n",
       "      <td>smart</td>\n",
       "      <td>5</td>\n",
       "      <td>168849</td>\n",
       "    </tr>\n",
       "    <tr>\n",
       "      <th>5</th>\n",
       "      <td>smart</td>\n",
       "      <td>6</td>\n",
       "      <td>197459</td>\n",
       "    </tr>\n",
       "    <tr>\n",
       "      <th>6</th>\n",
       "      <td>smart</td>\n",
       "      <td>7</td>\n",
       "      <td>246014</td>\n",
       "    </tr>\n",
       "    <tr>\n",
       "      <th>7</th>\n",
       "      <td>smart</td>\n",
       "      <td>8</td>\n",
       "      <td>310340</td>\n",
       "    </tr>\n",
       "    <tr>\n",
       "      <th>8</th>\n",
       "      <td>smart</td>\n",
       "      <td>9</td>\n",
       "      <td>324986</td>\n",
       "    </tr>\n",
       "    <tr>\n",
       "      <th>9</th>\n",
       "      <td>smart</td>\n",
       "      <td>10</td>\n",
       "      <td>401267</td>\n",
       "    </tr>\n",
       "    <tr>\n",
       "      <th>10</th>\n",
       "      <td>smart</td>\n",
       "      <td>11</td>\n",
       "      <td>424403</td>\n",
       "    </tr>\n",
       "    <tr>\n",
       "      <th>11</th>\n",
       "      <td>smart</td>\n",
       "      <td>12</td>\n",
       "      <td>531965</td>\n",
       "    </tr>\n",
       "    <tr>\n",
       "      <th>12</th>\n",
       "      <td>ultra</td>\n",
       "      <td>1</td>\n",
       "      <td>17550</td>\n",
       "    </tr>\n",
       "    <tr>\n",
       "      <th>13</th>\n",
       "      <td>ultra</td>\n",
       "      <td>2</td>\n",
       "      <td>47400</td>\n",
       "    </tr>\n",
       "    <tr>\n",
       "      <th>14</th>\n",
       "      <td>ultra</td>\n",
       "      <td>3</td>\n",
       "      <td>74550</td>\n",
       "    </tr>\n",
       "    <tr>\n",
       "      <th>15</th>\n",
       "      <td>ultra</td>\n",
       "      <td>4</td>\n",
       "      <td>110100</td>\n",
       "    </tr>\n",
       "    <tr>\n",
       "      <th>16</th>\n",
       "      <td>ultra</td>\n",
       "      <td>5</td>\n",
       "      <td>138000</td>\n",
       "    </tr>\n",
       "    <tr>\n",
       "      <th>17</th>\n",
       "      <td>ultra</td>\n",
       "      <td>6</td>\n",
       "      <td>171300</td>\n",
       "    </tr>\n",
       "    <tr>\n",
       "      <th>18</th>\n",
       "      <td>ultra</td>\n",
       "      <td>7</td>\n",
       "      <td>192750</td>\n",
       "    </tr>\n",
       "    <tr>\n",
       "      <th>19</th>\n",
       "      <td>ultra</td>\n",
       "      <td>8</td>\n",
       "      <td>222900</td>\n",
       "    </tr>\n",
       "    <tr>\n",
       "      <th>20</th>\n",
       "      <td>ultra</td>\n",
       "      <td>9</td>\n",
       "      <td>232800</td>\n",
       "    </tr>\n",
       "    <tr>\n",
       "      <th>21</th>\n",
       "      <td>ultra</td>\n",
       "      <td>10</td>\n",
       "      <td>254100</td>\n",
       "    </tr>\n",
       "    <tr>\n",
       "      <th>22</th>\n",
       "      <td>ultra</td>\n",
       "      <td>11</td>\n",
       "      <td>280350</td>\n",
       "    </tr>\n",
       "    <tr>\n",
       "      <th>23</th>\n",
       "      <td>ultra</td>\n",
       "      <td>12</td>\n",
       "      <td>297300</td>\n",
       "    </tr>\n",
       "  </tbody>\n",
       "</table>\n",
       "</div>"
      ],
      "text/plain": [
       "   tariff  month  expense\n",
       "0   smart      1    24525\n",
       "1   smart      2    48001\n",
       "2   smart      3    89676\n",
       "3   smart      4   107866\n",
       "4   smart      5   168849\n",
       "5   smart      6   197459\n",
       "6   smart      7   246014\n",
       "7   smart      8   310340\n",
       "8   smart      9   324986\n",
       "9   smart     10   401267\n",
       "10  smart     11   424403\n",
       "11  smart     12   531965\n",
       "12  ultra      1    17550\n",
       "13  ultra      2    47400\n",
       "14  ultra      3    74550\n",
       "15  ultra      4   110100\n",
       "16  ultra      5   138000\n",
       "17  ultra      6   171300\n",
       "18  ultra      7   192750\n",
       "19  ultra      8   222900\n",
       "20  ultra      9   232800\n",
       "21  ultra     10   254100\n",
       "22  ultra     11   280350\n",
       "23  ultra     12   297300"
      ]
     },
     "execution_count": 49,
     "metadata": {},
     "output_type": "execute_result"
    }
   ],
   "source": [
    "expense_month = expense.pivot_table(index=['tariff', 'month'], \n",
    "                                    values='expense', aggfunc='sum').reset_index() #выручка с каждого тарифа по месяцам\n",
    "expense_month"
   ]
  },
  {
   "cell_type": "code",
   "execution_count": 50,
   "metadata": {},
   "outputs": [
    {
     "data": {
      "image/png": "[encoded data removed]",
      "text/plain": [
       "<Figure size 1080x360 with 1 Axes>"
      ]
     },
     "metadata": {
      "needs_background": "light"
     },
     "output_type": "display_data"
    }
   ],
   "source": [
    "plt.figure(figsize=(15, 5))\n",
    "plt.bar(expense_month.query('tariff==\"smart\"')['month'], \n",
    "        expense_month.query('tariff==\"smart\"')['expense'], \n",
    "        label='smart', \n",
    "        alpha=0.7);\n",
    "plt.bar(expense_month.query('tariff==\"ultra\"')['month'], \n",
    "        expense_month.query('tariff==\"ultra\"')['expense'], \n",
    "        label='ultra',\n",
    "        alpha=0.7);\n",
    "\n",
    "plt.xlabel('month')\n",
    "plt.ylabel('expense')\n",
    "plt.grid()\n",
    "plt.legend();"
   ]
  },
  {
   "cell_type": "markdown",
   "metadata": {},
   "source": [
    "По данному графику видим, что выручка по обоим тарифам ежемесячно растет, и лишь в апреле вырчука Ультры немного обогнала Смарт. В остальные месяцы выручка по Смарту явно опережает Ультру и видно, что чем дальше, тем больше увеличивается разрыв. Т.е. можно спрогнозировать дальнейший рост клиентов и выручки на тарифе Смарт."
   ]
  },
  {
   "cell_type": "markdown",
   "metadata": {},
   "source": [
    "### Звонки"
   ]
  },
  {
   "cell_type": "markdown",
   "metadata": {},
   "source": [
    "Далее рассмотрим распределения внутри тарифов:"
   ]
  },
  {
   "cell_type": "code",
   "execution_count": 51,
   "metadata": {},
   "outputs": [],
   "source": [
    "def hist(traffic):  #функция для построения сравнения распределения параметров тарифа\n",
    "    \n",
    "    plt.figure(figsize=(10, 10))\n",
    "    plt.grid()\n",
    "    plt.hist(expense.query('tariff == \"ultra\"')[traffic], alpha=0.8, bins = 100, label='ultra');\n",
    "    plt.hist(expense.query('tariff == \"smart\"')[traffic], alpha=0.8, bins = 100, label='smart');\n",
    "    plt.legend()\n",
    "    \n",
    "    sns.catplot(x='tariff', y=traffic, kind=\"box\", data=expense, orient='v')"
   ]
  },
  {
   "cell_type": "code",
   "execution_count": 52,
   "metadata": {},
   "outputs": [
    {
     "data": {
      "image/png": "[encoded data removed]",
      "text/plain": [
       "<Figure size 720x720 with 1 Axes>"
      ]
     },
     "metadata": {
      "needs_background": "light"
     },
     "output_type": "display_data"
    },
    {
     "data": {
      "image/png": "[encoded data removed]",
      "text/plain": [
       "<Figure size 360x360 with 1 Axes>"
      ]
     },
     "metadata": {
      "needs_background": "light"
     },
     "output_type": "display_data"
    }
   ],
   "source": [
    "hist('min')"
   ]
  },
  {
   "cell_type": "code",
   "execution_count": 53,
   "metadata": {},
   "outputs": [
    {
     "data": {
      "image/png": "[encoded data removed]",
      "text/plain": [
       "<Figure size 720x720 with 1 Axes>"
      ]
     },
     "metadata": {
      "needs_background": "light"
     },
     "output_type": "display_data"
    },
    {
     "data": {
      "image/png": "[encoded data removed]",
      "text/plain": [
       "<Figure size 360x360 with 1 Axes>"
      ]
     },
     "metadata": {
      "needs_background": "light"
     },
     "output_type": "display_data"
    }
   ],
   "source": [
    "hist('expense')"
   ]
  },
  {
   "cell_type": "markdown",
   "metadata": {},
   "source": [
    "Распределение звонков по тарифу Смарт близко к нормальному, а по тарифу Ультра близко к Пуассона. При этом на тарифе Ультра больше людей, который вообще не пользуются звонками. Выбросов по тарифу Смарт больше, чем по Ультре, но и людей на нем значительно больше. Медиана звонков по Ультре находится выше Смарта и составляет 518 минут. "
   ]
  },
  {
   "cell_type": "markdown",
   "metadata": {},
   "source": [
    "### СМС"
   ]
  },
  {
   "cell_type": "code",
   "execution_count": 54,
   "metadata": {},
   "outputs": [
    {
     "data": {
      "image/png": "[encoded data removed]",
      "text/plain": [
       "<Figure size 720x720 with 1 Axes>"
      ]
     },
     "metadata": {
      "needs_background": "light"
     },
     "output_type": "display_data"
    },
    {
     "data": {
      "image/png": "[encoded data removed]",
      "text/plain": [
       "<Figure size 360x360 with 1 Axes>"
      ]
     },
     "metadata": {
      "needs_background": "light"
     },
     "output_type": "display_data"
    }
   ],
   "source": [
    "hist('sms')"
   ]
  },
  {
   "cell_type": "markdown",
   "metadata": {},
   "source": [
    "Расперделения схожи по обоим тарифам, и с распределением Пуассона. Одинаковое количество выбросов, и медианы достаточно близки, на Ультре чуть выше. Оба тарифа сближает одинаковое неиспользование смс)."
   ]
  },
  {
   "cell_type": "markdown",
   "metadata": {},
   "source": [
    "### Интернет"
   ]
  },
  {
   "cell_type": "code",
   "execution_count": 55,
   "metadata": {},
   "outputs": [
    {
     "data": {
      "image/png": "[encoded data removed]",
      "text/plain": [
       "<Figure size 720x720 with 1 Axes>"
      ]
     },
     "metadata": {
      "needs_background": "light"
     },
     "output_type": "display_data"
    },
    {
     "data": {
      "image/png": "[encoded data removed]",
      "text/plain": [
       "<Figure size 360x360 with 1 Axes>"
      ]
     },
     "metadata": {
      "needs_background": "light"
     },
     "output_type": "display_data"
    }
   ],
   "source": [
    "hist('gb')"
   ]
  },
  {
   "cell_type": "markdown",
   "metadata": {},
   "source": [
    "Расперделения схожи по обоим тарифам, и с нормальным распределением. Но по тарифу Смарт значительное количество выбросов, в то время как по тарифу Ультра их нет. В целом использование интернета идет более активно на тарифе Ультра, что вполне логично, там и лимит расходования выше, при том видно, что большинство абонентов укладывается в 30Гб лимита, в то время как на Смарте как раз таки превышают свой лимит(15Гб) в среднем."
   ]
  },
  {
   "cell_type": "markdown",
   "metadata": {},
   "source": [
    "**Вывод**: в данной выборке пользователей тарифа Смарт более, чем в два раза больше, чем Ультры. Тариф Смарт \"поскромнее\" по лимитам, но и абонетская плата значительно ниже. Пользователи обоих тарифов практически не пользуются смс и не расходуют свои лимиты. Среднее количество потраченных минут на тарифе Ультра выше, чем на Смарте, пользователи активнее звонят. По интернет-трафику в обеих группах самая напряженная ситуация с раходованием лимитов, в тарифе Смарт заметно, что бОльшая часть выручки с тарифа идет именно с доплат за дополнительный трафик, при этом пользователи Ультры не чувствуют так остро ограничения тк лимит вполне отвечает их потребностям и поэтому редко платят сверх абонетской платы.  \n",
    "При этом распределение по всем трафикам на тарифе Ультра шире, чем на Смарте, что логично, у них больше свободы и вариантов тратить свои лимиты. А так как на Смарте распределение поуже, то и выбросов больше.\n"
   ]
  },
  {
   "cell_type": "markdown",
   "metadata": {},
   "source": [
    "## Проверка гипотез"
   ]
  },
  {
   "cell_type": "markdown",
   "metadata": {},
   "source": [
    "### Средняя выручка пользователей тарифов «Ультра» и «Смарт» различаются"
   ]
  },
  {
   "cell_type": "markdown",
   "metadata": {},
   "source": [
    "Т.к. H0 всегда формулируется так, чтобы использовать знак равенства, другими словами, чтобы все данные лежали в районе изначально предполагаемого значения, в нашем случае она будет звучать так **средняя выручка генеральной совокупности пользователей тарифа Ультра равна средней выручке генеральной совокупности тарифа Смарт**.  \n",
    "Альтернативная гипотеза Н1 будет гласить, что они отличаются.  \n",
    "\n",
    "Для проверки этой и последующей гипотезы используем t-тест с параметром `equal_var = False`, почему:\n",
    "* нет оснований полагать, что генеральные совокупности зависимы друг от друга\n",
    "* благодаря ЦПТ, если размер выборки составляет хотя бы несколько десятков значений, выборочные средние, которые можно получить из одной и той же генеральной совокупности, будут распределены нормально вокруг истинного среднего этой совокупности. Наши выборки достатончо большие\n",
    "* если выборки разного размера и/или можно предположить, что дисперсии у генеральных совокупностей разные — указываем `equal_var = False`, дисперсии действиетльно разные, как мы посчитали уже выше.\n",
    "\n",
    "Для проверки гипотезы разделим датасет по тарифам:"
   ]
  },
  {
   "cell_type": "code",
   "execution_count": 56,
   "metadata": {},
   "outputs": [],
   "source": [
    "smart = expense.query('tariff==\"smart\"')\n",
    "ultra = expense.query('tariff==\"ultra\"')"
   ]
  },
  {
   "cell_type": "code",
   "execution_count": 57,
   "metadata": {},
   "outputs": [
    {
     "name": "stdout",
     "output_type": "stream",
     "text": [
      "p-значение: 4.2606313931076085e-250\n",
      "Отвергаем нулевую гипотезу\n"
     ]
    }
   ],
   "source": [
    "alpha = 0.01\n",
    "results = st.ttest_ind(smart['expense'], ultra['expense'], equal_var = False)\n",
    "print('p-значение:', results.pvalue)\n",
    "if results.pvalue < alpha:\n",
    "    print(\"Отвергаем нулевую гипотезу\")\n",
    "else:\n",
    "    print(\"Не получилось отвергнуть нулевую гипотезу\")"
   ]
  },
  {
   "cell_type": "markdown",
   "metadata": {},
   "source": [
    "Для данного теста выбрала критический уровень статистической значимости равный 0.01 как один из самых \"строгих\", чтобы показать, что даже с таким уровнем, гипотеза будет отвергнута. Полученное значение p-value говорит о том, что вероятность получить такое различие случайно значительно менее 1%, это число с 250 нулями после запятой. Это явно слишком маленькая вероятность, чтобы принять нулевую гипотезу.  Это значит, что альтернативную гипотезу о разности средних нельзя отвергнуть. При этом средние значения следующие:"
   ]
  },
  {
   "cell_type": "code",
   "execution_count": 58,
   "metadata": {},
   "outputs": [
    {
     "name": "stdout",
     "output_type": "stream",
     "text": [
      "Тариф Cмарт 1289.9735307312696\n",
      "Тариф Ультра 2070.1522842639592\n"
     ]
    }
   ],
   "source": [
    "print(f'Тариф Cмарт {smart[\"expense\"].mean()}')\n",
    "print(f'Тариф Ультра {ultra[\"expense\"].mean()}')"
   ]
  },
  {
   "cell_type": "markdown",
   "metadata": {},
   "source": [
    "### Средняя выручка пользователей из Москвы отличается от выручки пользователей из других регионов."
   ]
  },
  {
   "cell_type": "markdown",
   "metadata": {},
   "source": [
    "Т.к. H0 всегда формулируется так, чтобы использовать знак равенства, другими словами, чтобы все данные лежали в районе изначально предполагаемого значения, в нашем случае она будет звучать так **средняя выручка генеральной совокупности пользователей из Москвы равна средней выручке генеральной совокупности абонентов других регионов**.  \n",
    "Альтернативная гипотеза Н1 будет гласить, что они отличаются.  \n",
    "Для проверки гипотезы воспользуемся тем же t-тестом, чтобы узнать требуется ли выставлять параметр `equal_var = False` проверим дисперсию и количество абонентов в каждой из выборок."
   ]
  },
  {
   "cell_type": "code",
   "execution_count": 59,
   "metadata": {},
   "outputs": [],
   "source": [
    "moscow = expense.query('city==\"Москва\"')\n",
    "regions = expense.query('city!=\"Москва\"')"
   ]
  },
  {
   "cell_type": "code",
   "execution_count": 60,
   "metadata": {},
   "outputs": [
    {
     "data": {
      "text/plain": [
       "565636.4670118855"
      ]
     },
     "execution_count": 60,
     "metadata": {},
     "output_type": "execute_result"
    }
   ],
   "source": [
    "moscow['expense'].var()"
   ]
  },
  {
   "cell_type": "code",
   "execution_count": 61,
   "metadata": {},
   "outputs": [
    {
     "data": {
      "text/plain": [
       "654137.6285218048"
      ]
     },
     "execution_count": 61,
     "metadata": {},
     "output_type": "execute_result"
    }
   ],
   "source": [
    "regions['expense'].var()"
   ]
  },
  {
   "cell_type": "code",
   "execution_count": 62,
   "metadata": {},
   "outputs": [
    {
     "data": {
      "text/plain": [
       "99"
      ]
     },
     "execution_count": 62,
     "metadata": {},
     "output_type": "execute_result"
    }
   ],
   "source": [
    "moscow['user_id'].value_counts().count()"
   ]
  },
  {
   "cell_type": "code",
   "execution_count": 63,
   "metadata": {},
   "outputs": [
    {
     "data": {
      "text/plain": [
       "399"
      ]
     },
     "execution_count": 63,
     "metadata": {},
     "output_type": "execute_result"
    }
   ],
   "source": [
    "regions['user_id'].value_counts().count()"
   ]
  },
  {
   "cell_type": "markdown",
   "metadata": {},
   "source": [
    "Выборки разные по размеру, и разные по дисперсии, применяем `equal_var = False`"
   ]
  },
  {
   "cell_type": "code",
   "execution_count": 64,
   "metadata": {},
   "outputs": [
    {
     "name": "stdout",
     "output_type": "stream",
     "text": [
      "p-значение: 0.5257376663729298\n",
      "Не получилось отвергнуть нулевую гипотезу\n"
     ]
    }
   ],
   "source": [
    "alpha = 0.05\n",
    "results = st.ttest_ind(moscow['expense'], regions['expense'], equal_var = False)\n",
    "print('p-значение:', results.pvalue)\n",
    "if results.pvalue < alpha:\n",
    "    print(\"Отвергаем нулевую гипотезу\")\n",
    "else:\n",
    "    print(\"Не получилось отвергнуть нулевую гипотезу\")"
   ]
  },
  {
   "cell_type": "markdown",
   "metadata": {},
   "source": [
    "Для данного теста выбрала критический уровень статистической значимости равный 0.05, чтобы показать, что даже с таким уровнем значимости гипотезу отвергнуть не получилось. Полученное значение p-value говорит о том, что существует вероятность около 52%, что наши средние действительно не будут отличаться для Москвы и для остальных регионов.  \n",
    "При этом средние значения следующие:"
   ]
  },
  {
   "cell_type": "code",
   "execution_count": 66,
   "metadata": {},
   "outputs": [
    {
     "name": "stdout",
     "output_type": "stream",
     "text": [
      "Москва 1546.7135842880523\n",
      "Регионы 1524.9362274298885\n"
     ]
    }
   ],
   "source": [
    "print(f'Москва {moscow[\"expense\"].mean()}')\n",
    "print(f'Регионы {regions[\"expense\"].mean()}')"
   ]
  },
  {
   "cell_type": "markdown",
   "metadata": {},
   "source": [
    "К слову и среднее достаточно близкое получилось, разница всего 22 руб."
   ]
  },
  {
   "cell_type": "markdown",
   "metadata": {},
   "source": [
    "## Вывод"
   ]
  },
  {
   "cell_type": "markdown",
   "metadata": {},
   "source": [
    "В ходе проекта были проанализированы данные 500 пользователей «Мегалайна»: кто они, откуда, каким тарифом пользуются, сколько звонков и сообщений каждый отправил за 2018 год.  \n",
    "\n",
    "Была проведена предобработка данных, изменены типы данных в столбцах, где это требовалось. Имеющиеся пропуски были обусловлены особенностями столбца и не требовали заполнения. Также рассмотрены распределения значений по столбцам.\n",
    "\n",
    "Также стоит отметить, что оба тарифа скорее всего были запущены в начале года и постепенно наращивали пользвоателей и выручку.\n",
    "Два пользователя, которые подключились к тарифам в конце года и не успели воспользоваться услугами связи были исклчены из расчетов.\n",
    "\n",
    "Для целей исследования были добавлены рассчетные данные:\n",
    "\n",
    "* суммарные траты минут, сообщений и Гб интернета по месяцам по каждому пользователю;\n",
    "* суммарные траты на оплату связи каждым из абонентов.\n",
    "\n",
    "\n",
    "В ходе исследования были рассчитаны статистические показатели для каждого вида связи по каждому тарифу отдельно. А также построены графики распределения  по каждому из них в разрезе тарифов.\n",
    "\n",
    "Пользователи тарифа Смарт в среднем чаще выходят за лимиты по тарифу, чем пользователи тарифа Ультра. Наиболее значимым при этом является интернет, чаще всего пользователи доплачивают именно за дополнительные Гб. Смс используются не полностью на обоих тарифах, а многими абонентами в принципе не используются. \n",
    "\n",
    "Наибольшее количество пользователей находится на тарифе Смарт, за счет чего суммарная выручка от него выше. При этом средняя выручка на абонента выше по тарифу Ультра. Но за пределы абонентской платы пользователи Ультры практически не выходят.\n",
    "С точки зрения телеком компании выгоднее было бы максимально привлекать абонентов именно к тарифу Ультра, т.к. он прибыльнее. Но тк с точки зрения же среднего пользователя, Смарт явно выгоднее и наличие такого тарифа должно привлекать клиентов, от него не стоит октазываться, тк можно потерять львиную долю клиентов, которая суммарно дает больше Ультры.\n",
    "\n",
    "Также были проверены 2 гипотезы:  \n",
    "* Средняя выручка пользователей тарифов «Ультра» и «Смарт» различаются - с вероятностью более, чем 99%, это действительно так, причем в пользу Ультры.\n",
    "* Средняя выручка пользователей из Москвы отличается от выручки пользователей из других регионов - данная гипотеза не подвтердилась, с вероятностью более 50% они не отличаются.\n"
   ]
  }
 ],
 "metadata": {
  "ExecuteTimeLog": [
   {
    "duration": 50,
    "start_time": "2022-05-18T12:45:25.853Z"
   },
   {
    "duration": 2,
    "start_time": "2022-05-18T12:47:44.174Z"
   },
   {
    "duration": 7857,
    "start_time": "2022-05-18T13:09:33.625Z"
   },
   {
    "duration": 663,
    "start_time": "2022-05-18T13:14:04.570Z"
   },
   {
    "duration": 459,
    "start_time": "2022-05-18T13:14:09.828Z"
   },
   {
    "duration": 333,
    "start_time": "2022-05-18T13:14:13.129Z"
   },
   {
    "duration": 90,
    "start_time": "2022-05-18T13:14:15.666Z"
   },
   {
    "duration": 102,
    "start_time": "2022-05-18T13:14:17.643Z"
   },
   {
    "duration": 101,
    "start_time": "2022-05-18T13:20:12.892Z"
   },
   {
    "duration": 615,
    "start_time": "2022-05-18T13:33:58.740Z"
   },
   {
    "duration": 113,
    "start_time": "2022-05-18T13:34:48.984Z"
   },
   {
    "duration": 7,
    "start_time": "2022-05-18T13:34:58.737Z"
   },
   {
    "duration": 20,
    "start_time": "2022-05-18T13:34:59.939Z"
   },
   {
    "duration": 3,
    "start_time": "2022-05-18T13:35:44.955Z"
   },
   {
    "duration": 10,
    "start_time": "2022-05-18T13:35:45.878Z"
   },
   {
    "duration": 3,
    "start_time": "2022-05-18T13:38:29.247Z"
   },
   {
    "duration": 43,
    "start_time": "2022-05-18T13:38:29.957Z"
   },
   {
    "duration": 4,
    "start_time": "2022-05-18T13:42:48.170Z"
   },
   {
    "duration": 31,
    "start_time": "2022-05-18T13:42:49.775Z"
   },
   {
    "duration": 3,
    "start_time": "2022-05-18T13:43:04.360Z"
   },
   {
    "duration": 43,
    "start_time": "2022-05-18T13:43:05.247Z"
   },
   {
    "duration": 39,
    "start_time": "2022-05-18T13:43:24.995Z"
   },
   {
    "duration": 3,
    "start_time": "2022-05-18T13:44:55.178Z"
   },
   {
    "duration": 9,
    "start_time": "2022-05-18T13:45:03.453Z"
   },
   {
    "duration": 3,
    "start_time": "2022-05-18T13:45:05.156Z"
   },
   {
    "duration": 51,
    "start_time": "2022-05-18T13:45:06.296Z"
   },
   {
    "duration": 3,
    "start_time": "2022-05-18T13:45:33.835Z"
   },
   {
    "duration": 44,
    "start_time": "2022-05-18T13:45:35.822Z"
   },
   {
    "duration": 3,
    "start_time": "2022-05-18T13:45:45.845Z"
   },
   {
    "duration": 31,
    "start_time": "2022-05-18T13:45:46.672Z"
   },
   {
    "duration": 4,
    "start_time": "2022-05-18T13:47:56.931Z"
   },
   {
    "duration": 582,
    "start_time": "2022-05-18T13:47:57.769Z"
   },
   {
    "duration": 71,
    "start_time": "2022-05-18T13:48:01.755Z"
   },
   {
    "duration": 5,
    "start_time": "2022-05-18T13:48:30.804Z"
   },
   {
    "duration": 100,
    "start_time": "2022-05-18T13:48:31.931Z"
   },
   {
    "duration": 41,
    "start_time": "2022-05-18T13:49:27.337Z"
   },
   {
    "duration": 4,
    "start_time": "2022-05-18T13:49:44.363Z"
   },
   {
    "duration": 70,
    "start_time": "2022-05-18T13:49:45.176Z"
   },
   {
    "duration": 51,
    "start_time": "2022-05-18T13:50:46.933Z"
   },
   {
    "duration": 40,
    "start_time": "2022-05-18T13:54:43.645Z"
   },
   {
    "duration": 51,
    "start_time": "2022-05-18T13:55:36.359Z"
   },
   {
    "duration": 32,
    "start_time": "2022-05-18T13:56:08.360Z"
   },
   {
    "duration": 45,
    "start_time": "2022-05-18T14:02:58.902Z"
   },
   {
    "duration": 4,
    "start_time": "2022-05-18T14:17:36.054Z"
   },
   {
    "duration": 98,
    "start_time": "2022-05-18T14:17:37.321Z"
   },
   {
    "duration": 57,
    "start_time": "2022-05-18T14:17:40.139Z"
   },
   {
    "duration": 39,
    "start_time": "2022-05-18T14:17:42.442Z"
   },
   {
    "duration": 40,
    "start_time": "2022-05-18T14:17:44.259Z"
   },
   {
    "duration": 20,
    "start_time": "2022-05-18T14:17:49.869Z"
   },
   {
    "duration": 4,
    "start_time": "2022-05-18T14:22:04.567Z"
   },
   {
    "duration": 178,
    "start_time": "2022-05-18T14:23:35.061Z"
   },
   {
    "duration": 12,
    "start_time": "2022-05-18T14:25:51.055Z"
   },
   {
    "duration": 10,
    "start_time": "2022-05-18T14:26:08.541Z"
   },
   {
    "duration": 4,
    "start_time": "2022-05-18T14:28:52.837Z"
   },
   {
    "duration": 13,
    "start_time": "2022-05-18T14:28:53.899Z"
   },
   {
    "duration": 4,
    "start_time": "2022-05-18T14:30:20.790Z"
   },
   {
    "duration": 13,
    "start_time": "2022-05-18T14:35:20.475Z"
   },
   {
    "duration": 1823,
    "start_time": "2022-05-18T14:35:26.787Z"
   },
   {
    "duration": 1583,
    "start_time": "2022-05-18T14:35:28.616Z"
   },
   {
    "duration": 4,
    "start_time": "2022-05-18T14:35:30.201Z"
   },
   {
    "duration": 149,
    "start_time": "2022-05-18T14:35:30.206Z"
   },
   {
    "duration": 57,
    "start_time": "2022-05-18T14:35:30.358Z"
   },
   {
    "duration": 50,
    "start_time": "2022-05-18T14:35:30.424Z"
   },
   {
    "duration": 22,
    "start_time": "2022-05-18T14:35:30.476Z"
   },
   {
    "duration": 66,
    "start_time": "2022-05-18T14:35:30.499Z"
   },
   {
    "duration": 201,
    "start_time": "2022-05-18T14:35:30.567Z"
   },
   {
    "duration": 4,
    "start_time": "2022-05-18T14:35:30.770Z"
   },
   {
    "duration": 675,
    "start_time": "2022-05-18T14:35:30.776Z"
   },
   {
    "duration": 455,
    "start_time": "2022-05-18T14:36:29.504Z"
   },
   {
    "duration": 3,
    "start_time": "2022-05-18T14:36:38.199Z"
   },
   {
    "duration": 503,
    "start_time": "2022-05-18T14:36:41.047Z"
   },
   {
    "duration": 8,
    "start_time": "2022-05-18T14:38:31.947Z"
   },
   {
    "duration": 524,
    "start_time": "2022-05-18T14:38:34.209Z"
   },
   {
    "duration": 8,
    "start_time": "2022-05-18T14:38:57.811Z"
   },
   {
    "duration": 9354,
    "start_time": "2022-05-18T14:38:59.493Z"
   },
   {
    "duration": 3,
    "start_time": "2022-05-18T14:39:16.187Z"
   },
   {
    "duration": 84,
    "start_time": "2022-05-18T14:39:18.297Z"
   },
   {
    "duration": 3,
    "start_time": "2022-05-18T14:40:58.265Z"
   },
   {
    "duration": 17,
    "start_time": "2022-05-18T14:41:00.608Z"
   },
   {
    "duration": 3,
    "start_time": "2022-05-18T14:41:09.383Z"
   },
   {
    "duration": 15,
    "start_time": "2022-05-18T14:41:10.202Z"
   },
   {
    "duration": 5,
    "start_time": "2022-05-18T14:41:33.561Z"
   },
   {
    "duration": 626,
    "start_time": "2022-05-18T14:41:34.894Z"
   },
   {
    "duration": 287,
    "start_time": "2022-05-18T14:42:25.794Z"
   },
   {
    "duration": 317,
    "start_time": "2022-05-18T14:42:55.322Z"
   },
   {
    "duration": 3,
    "start_time": "2022-05-18T14:43:13.889Z"
   },
   {
    "duration": 6,
    "start_time": "2022-05-18T14:43:47.523Z"
   },
   {
    "duration": 9,
    "start_time": "2022-05-18T14:43:54.640Z"
   },
   {
    "duration": 286,
    "start_time": "2022-05-18T14:43:58.985Z"
   },
   {
    "duration": 5,
    "start_time": "2022-05-18T14:44:07.350Z"
   },
   {
    "duration": 286,
    "start_time": "2022-05-18T14:44:08.747Z"
   },
   {
    "duration": 3,
    "start_time": "2022-05-18T14:44:29.570Z"
   },
   {
    "duration": 343,
    "start_time": "2022-05-18T14:44:31.461Z"
   },
   {
    "duration": 5,
    "start_time": "2022-05-18T14:44:40.041Z"
   },
   {
    "duration": 282,
    "start_time": "2022-05-18T14:44:40.984Z"
   },
   {
    "duration": 5,
    "start_time": "2022-05-18T14:44:47.535Z"
   },
   {
    "duration": 264,
    "start_time": "2022-05-18T14:44:49.261Z"
   },
   {
    "duration": 4,
    "start_time": "2022-05-18T14:49:00.159Z"
   },
   {
    "duration": 310,
    "start_time": "2022-05-18T14:49:02.006Z"
   },
   {
    "duration": 4,
    "start_time": "2022-05-18T14:49:24.446Z"
   },
   {
    "duration": 294,
    "start_time": "2022-05-18T14:49:25.404Z"
   },
   {
    "duration": 31,
    "start_time": "2022-05-18T14:49:58.553Z"
   },
   {
    "duration": 4,
    "start_time": "2022-05-18T14:50:11.584Z"
   },
   {
    "duration": 287,
    "start_time": "2022-05-18T14:50:12.400Z"
   },
   {
    "duration": 9,
    "start_time": "2022-05-18T18:54:37.586Z"
   },
   {
    "duration": 4,
    "start_time": "2022-05-18T18:55:11.230Z"
   },
   {
    "duration": 57,
    "start_time": "2022-05-18T18:55:21.138Z"
   },
   {
    "duration": 939,
    "start_time": "2022-05-18T18:55:34.042Z"
   },
   {
    "duration": 1702,
    "start_time": "2022-05-18T18:55:34.983Z"
   },
   {
    "duration": 5,
    "start_time": "2022-05-18T18:55:36.687Z"
   },
   {
    "duration": 121,
    "start_time": "2022-05-18T18:55:36.694Z"
   },
   {
    "duration": 55,
    "start_time": "2022-05-18T18:55:36.819Z"
   },
   {
    "duration": 67,
    "start_time": "2022-05-18T18:55:36.875Z"
   },
   {
    "duration": 28,
    "start_time": "2022-05-18T18:55:36.944Z"
   },
   {
    "duration": 52,
    "start_time": "2022-05-18T18:55:36.973Z"
   },
   {
    "duration": 163,
    "start_time": "2022-05-18T18:55:37.027Z"
   },
   {
    "duration": 3,
    "start_time": "2022-05-18T18:55:37.192Z"
   },
   {
    "duration": 9,
    "start_time": "2022-05-18T18:55:37.197Z"
   },
   {
    "duration": 83,
    "start_time": "2022-05-18T18:55:37.213Z"
   },
   {
    "duration": 329,
    "start_time": "2022-05-18T18:55:37.298Z"
   },
   {
    "duration": 5,
    "start_time": "2022-05-18T18:55:37.629Z"
   },
   {
    "duration": 35,
    "start_time": "2022-05-18T19:06:42.862Z"
   },
   {
    "duration": 375,
    "start_time": "2022-05-18T19:06:51.663Z"
   },
   {
    "duration": 3,
    "start_time": "2022-05-18T19:07:10.456Z"
   },
   {
    "duration": 277,
    "start_time": "2022-05-18T19:07:12.964Z"
   },
   {
    "duration": 746,
    "start_time": "2022-05-18T19:07:41.889Z"
   },
   {
    "duration": 456,
    "start_time": "2022-05-18T19:07:42.637Z"
   },
   {
    "duration": 3,
    "start_time": "2022-05-18T19:07:43.095Z"
   },
   {
    "duration": 99,
    "start_time": "2022-05-18T19:07:43.101Z"
   },
   {
    "duration": 61,
    "start_time": "2022-05-18T19:07:43.202Z"
   },
   {
    "duration": 67,
    "start_time": "2022-05-18T19:07:43.264Z"
   },
   {
    "duration": 22,
    "start_time": "2022-05-18T19:07:43.333Z"
   },
   {
    "duration": 21,
    "start_time": "2022-05-18T19:07:43.357Z"
   },
   {
    "duration": 153,
    "start_time": "2022-05-18T19:07:43.381Z"
   },
   {
    "duration": 4,
    "start_time": "2022-05-18T19:07:43.537Z"
   },
   {
    "duration": 57,
    "start_time": "2022-05-18T19:07:43.543Z"
   },
   {
    "duration": 12,
    "start_time": "2022-05-18T19:07:43.602Z"
   },
   {
    "duration": 294,
    "start_time": "2022-05-18T19:07:43.616Z"
   },
   {
    "duration": 22,
    "start_time": "2022-05-18T19:07:43.911Z"
   },
   {
    "duration": 3,
    "start_time": "2022-05-18T19:08:20.134Z"
   },
   {
    "duration": 54,
    "start_time": "2022-05-18T19:08:21.819Z"
   },
   {
    "duration": 6,
    "start_time": "2022-05-18T19:08:31.742Z"
   },
   {
    "duration": 285,
    "start_time": "2022-05-18T19:08:33.594Z"
   },
   {
    "duration": 762,
    "start_time": "2022-05-18T19:08:51.712Z"
   },
   {
    "duration": 467,
    "start_time": "2022-05-18T19:08:52.476Z"
   },
   {
    "duration": 4,
    "start_time": "2022-05-18T19:08:52.948Z"
   },
   {
    "duration": 121,
    "start_time": "2022-05-18T19:08:52.955Z"
   },
   {
    "duration": 53,
    "start_time": "2022-05-18T19:08:53.077Z"
   },
   {
    "duration": 41,
    "start_time": "2022-05-18T19:08:53.132Z"
   },
   {
    "duration": 49,
    "start_time": "2022-05-18T19:08:53.175Z"
   },
   {
    "duration": 50,
    "start_time": "2022-05-18T19:08:53.226Z"
   },
   {
    "duration": 146,
    "start_time": "2022-05-18T19:08:53.278Z"
   },
   {
    "duration": 8,
    "start_time": "2022-05-18T19:08:53.434Z"
   },
   {
    "duration": 93,
    "start_time": "2022-05-18T19:08:53.443Z"
   },
   {
    "duration": 3,
    "start_time": "2022-05-18T19:08:53.538Z"
   },
   {
    "duration": 302,
    "start_time": "2022-05-18T19:08:53.543Z"
   },
   {
    "duration": 4,
    "start_time": "2022-05-18T19:08:53.847Z"
   },
   {
    "duration": 690,
    "start_time": "2022-05-18T19:09:24.347Z"
   },
   {
    "duration": 429,
    "start_time": "2022-05-18T19:09:25.039Z"
   },
   {
    "duration": 5,
    "start_time": "2022-05-18T19:09:25.469Z"
   },
   {
    "duration": 98,
    "start_time": "2022-05-18T19:09:25.477Z"
   },
   {
    "duration": 54,
    "start_time": "2022-05-18T19:09:25.577Z"
   },
   {
    "duration": 39,
    "start_time": "2022-05-18T19:09:25.634Z"
   },
   {
    "duration": 53,
    "start_time": "2022-05-18T19:09:25.674Z"
   },
   {
    "duration": 31,
    "start_time": "2022-05-18T19:09:25.728Z"
   },
   {
    "duration": 132,
    "start_time": "2022-05-18T19:09:25.761Z"
   },
   {
    "duration": 3,
    "start_time": "2022-05-18T19:09:25.895Z"
   },
   {
    "duration": 290,
    "start_time": "2022-05-18T19:09:25.900Z"
   },
   {
    "duration": 3,
    "start_time": "2022-05-18T19:09:26.192Z"
   },
   {
    "duration": 82,
    "start_time": "2022-05-18T19:09:26.197Z"
   },
   {
    "duration": 3,
    "start_time": "2022-05-18T19:09:26.281Z"
   },
   {
    "duration": 4,
    "start_time": "2022-05-18T19:16:55.739Z"
   },
   {
    "duration": 3,
    "start_time": "2022-05-18T19:17:08.383Z"
   },
   {
    "duration": 115,
    "start_time": "2022-05-18T19:17:14.281Z"
   },
   {
    "duration": 683,
    "start_time": "2022-05-18T19:17:37.978Z"
   },
   {
    "duration": 391,
    "start_time": "2022-05-18T19:17:38.663Z"
   },
   {
    "duration": 3,
    "start_time": "2022-05-18T19:17:39.056Z"
   },
   {
    "duration": 85,
    "start_time": "2022-05-18T19:17:39.061Z"
   },
   {
    "duration": 41,
    "start_time": "2022-05-18T19:17:39.148Z"
   },
   {
    "duration": 50,
    "start_time": "2022-05-18T19:17:39.190Z"
   },
   {
    "duration": 20,
    "start_time": "2022-05-18T19:17:39.241Z"
   },
   {
    "duration": 19,
    "start_time": "2022-05-18T19:17:39.262Z"
   },
   {
    "duration": 112,
    "start_time": "2022-05-18T19:17:39.313Z"
   },
   {
    "duration": 2,
    "start_time": "2022-05-18T19:17:39.427Z"
   },
   {
    "duration": 251,
    "start_time": "2022-05-18T19:17:39.431Z"
   },
   {
    "duration": 3,
    "start_time": "2022-05-18T19:17:39.684Z"
   },
   {
    "duration": 74,
    "start_time": "2022-05-18T19:17:39.688Z"
   },
   {
    "duration": 653,
    "start_time": "2022-05-18T19:18:36.450Z"
   },
   {
    "duration": 403,
    "start_time": "2022-05-18T19:18:37.105Z"
   },
   {
    "duration": 3,
    "start_time": "2022-05-18T19:18:37.510Z"
   },
   {
    "duration": 82,
    "start_time": "2022-05-18T19:18:37.515Z"
   },
   {
    "duration": 53,
    "start_time": "2022-05-18T19:18:37.598Z"
   },
   {
    "duration": 33,
    "start_time": "2022-05-18T19:18:37.653Z"
   },
   {
    "duration": 21,
    "start_time": "2022-05-18T19:18:37.711Z"
   },
   {
    "duration": 18,
    "start_time": "2022-05-18T19:18:37.733Z"
   },
   {
    "duration": 124,
    "start_time": "2022-05-18T19:18:37.753Z"
   },
   {
    "duration": 2,
    "start_time": "2022-05-18T19:18:37.879Z"
   },
   {
    "duration": 252,
    "start_time": "2022-05-18T19:18:37.883Z"
   },
   {
    "duration": 4,
    "start_time": "2022-05-18T19:18:38.137Z"
   },
   {
    "duration": 61,
    "start_time": "2022-05-18T19:18:38.142Z"
   },
   {
    "duration": 85,
    "start_time": "2022-05-18T19:49:14.625Z"
   },
   {
    "duration": 10,
    "start_time": "2022-05-18T19:49:20.525Z"
   },
   {
    "duration": 4,
    "start_time": "2022-05-18T19:50:15.016Z"
   },
   {
    "duration": 4,
    "start_time": "2022-05-18T19:51:09.543Z"
   },
   {
    "duration": 3,
    "start_time": "2022-05-18T19:51:10.826Z"
   },
   {
    "duration": 68,
    "start_time": "2022-05-18T19:51:11.562Z"
   },
   {
    "duration": 1061,
    "start_time": "2022-05-18T19:51:18.790Z"
   },
   {
    "duration": 502,
    "start_time": "2022-05-18T19:51:19.854Z"
   },
   {
    "duration": 4,
    "start_time": "2022-05-18T19:51:20.358Z"
   },
   {
    "duration": 127,
    "start_time": "2022-05-18T19:51:20.365Z"
   },
   {
    "duration": 57,
    "start_time": "2022-05-18T19:51:20.494Z"
   },
   {
    "duration": 69,
    "start_time": "2022-05-18T19:51:20.553Z"
   },
   {
    "duration": 23,
    "start_time": "2022-05-18T19:51:20.625Z"
   },
   {
    "duration": 19,
    "start_time": "2022-05-18T19:51:20.650Z"
   },
   {
    "duration": 125,
    "start_time": "2022-05-18T19:51:20.670Z"
   },
   {
    "duration": 2,
    "start_time": "2022-05-18T19:51:20.798Z"
   },
   {
    "duration": 268,
    "start_time": "2022-05-18T19:51:20.802Z"
   },
   {
    "duration": 4,
    "start_time": "2022-05-18T19:51:21.071Z"
   },
   {
    "duration": 17,
    "start_time": "2022-05-18T19:51:21.076Z"
   },
   {
    "duration": 89,
    "start_time": "2022-05-18T19:51:21.095Z"
   },
   {
    "duration": 143,
    "start_time": "2022-05-18T19:51:35.301Z"
   },
   {
    "duration": 114,
    "start_time": "2022-05-18T19:51:37.935Z"
   },
   {
    "duration": 1053,
    "start_time": "2022-05-18T19:51:43.913Z"
   },
   {
    "duration": 422,
    "start_time": "2022-05-18T19:51:44.968Z"
   },
   {
    "duration": 3,
    "start_time": "2022-05-18T19:51:45.392Z"
   },
   {
    "duration": 103,
    "start_time": "2022-05-18T19:51:45.397Z"
   },
   {
    "duration": 65,
    "start_time": "2022-05-18T19:51:45.501Z"
   },
   {
    "duration": 64,
    "start_time": "2022-05-18T19:51:45.567Z"
   },
   {
    "duration": 19,
    "start_time": "2022-05-18T19:51:45.632Z"
   },
   {
    "duration": 17,
    "start_time": "2022-05-18T19:51:45.652Z"
   },
   {
    "duration": 133,
    "start_time": "2022-05-18T19:51:45.671Z"
   },
   {
    "duration": 4,
    "start_time": "2022-05-18T19:51:45.828Z"
   },
   {
    "duration": 258,
    "start_time": "2022-05-18T19:51:45.837Z"
   },
   {
    "duration": 3,
    "start_time": "2022-05-18T19:51:46.097Z"
   },
   {
    "duration": 13,
    "start_time": "2022-05-18T19:51:46.101Z"
   },
   {
    "duration": 89,
    "start_time": "2022-05-18T19:51:46.117Z"
   },
   {
    "duration": 299,
    "start_time": "2022-05-18T19:53:26.185Z"
   },
   {
    "duration": 303,
    "start_time": "2022-05-18T19:53:52.980Z"
   },
   {
    "duration": 264,
    "start_time": "2022-05-18T19:54:00.535Z"
   },
   {
    "duration": 280,
    "start_time": "2022-05-18T19:59:26.906Z"
   },
   {
    "duration": 4,
    "start_time": "2022-05-18T20:06:58.289Z"
   },
   {
    "duration": 17,
    "start_time": "2022-05-18T20:07:08.532Z"
   },
   {
    "duration": 1062,
    "start_time": "2022-05-18T20:07:35.544Z"
   },
   {
    "duration": 461,
    "start_time": "2022-05-18T20:07:36.607Z"
   },
   {
    "duration": 5,
    "start_time": "2022-05-18T20:07:37.070Z"
   },
   {
    "duration": 106,
    "start_time": "2022-05-18T20:07:37.078Z"
   },
   {
    "duration": 71,
    "start_time": "2022-05-18T20:07:37.186Z"
   },
   {
    "duration": 66,
    "start_time": "2022-05-18T20:07:37.259Z"
   },
   {
    "duration": 28,
    "start_time": "2022-05-18T20:07:37.327Z"
   },
   {
    "duration": 58,
    "start_time": "2022-05-18T20:07:37.357Z"
   },
   {
    "duration": 155,
    "start_time": "2022-05-18T20:07:37.417Z"
   },
   {
    "duration": 3,
    "start_time": "2022-05-18T20:07:37.575Z"
   },
   {
    "duration": 294,
    "start_time": "2022-05-18T20:07:37.580Z"
   },
   {
    "duration": 4,
    "start_time": "2022-05-18T20:07:37.875Z"
   },
   {
    "duration": 8,
    "start_time": "2022-05-18T20:07:37.880Z"
   },
   {
    "duration": 86,
    "start_time": "2022-05-18T20:07:37.889Z"
   },
   {
    "duration": 431,
    "start_time": "2022-05-18T20:07:37.977Z"
   },
   {
    "duration": 15,
    "start_time": "2022-05-18T20:07:38.411Z"
   },
   {
    "duration": 104,
    "start_time": "2022-05-18T20:08:46.851Z"
   },
   {
    "duration": 6,
    "start_time": "2022-05-18T20:08:51.458Z"
   },
   {
    "duration": 7,
    "start_time": "2022-05-18T20:09:09.905Z"
   },
   {
    "duration": 245,
    "start_time": "2022-05-18T20:10:53.211Z"
   },
   {
    "duration": 62,
    "start_time": "2022-05-18T20:11:54.570Z"
   },
   {
    "duration": 14,
    "start_time": "2022-05-18T20:12:35.245Z"
   },
   {
    "duration": 1058,
    "start_time": "2022-05-18T20:12:40.570Z"
   },
   {
    "duration": 459,
    "start_time": "2022-05-18T20:12:41.631Z"
   },
   {
    "duration": 3,
    "start_time": "2022-05-18T20:12:42.092Z"
   },
   {
    "duration": 115,
    "start_time": "2022-05-18T20:12:42.098Z"
   },
   {
    "duration": 56,
    "start_time": "2022-05-18T20:12:42.215Z"
   },
   {
    "duration": 53,
    "start_time": "2022-05-18T20:12:42.272Z"
   },
   {
    "duration": 21,
    "start_time": "2022-05-18T20:12:42.327Z"
   },
   {
    "duration": 19,
    "start_time": "2022-05-18T20:12:42.350Z"
   },
   {
    "duration": 144,
    "start_time": "2022-05-18T20:12:42.371Z"
   },
   {
    "duration": 3,
    "start_time": "2022-05-18T20:12:42.517Z"
   },
   {
    "duration": 263,
    "start_time": "2022-05-18T20:12:42.522Z"
   },
   {
    "duration": 3,
    "start_time": "2022-05-18T20:12:42.787Z"
   },
   {
    "duration": 32,
    "start_time": "2022-05-18T20:12:42.792Z"
   },
   {
    "duration": 90,
    "start_time": "2022-05-18T20:12:42.826Z"
   },
   {
    "duration": 366,
    "start_time": "2022-05-18T20:12:42.918Z"
   },
   {
    "duration": 10,
    "start_time": "2022-05-18T20:12:43.286Z"
   },
   {
    "duration": 160,
    "start_time": "2022-05-18T20:12:43.297Z"
   },
   {
    "duration": 8,
    "start_time": "2022-05-18T20:12:43.460Z"
   },
   {
    "duration": 76,
    "start_time": "2022-05-18T20:12:43.470Z"
   },
   {
    "duration": 152,
    "start_time": "2022-05-18T20:13:41.438Z"
   },
   {
    "duration": 20,
    "start_time": "2022-05-18T20:13:50.546Z"
   },
   {
    "duration": 1087,
    "start_time": "2022-05-18T20:13:58.929Z"
   },
   {
    "duration": 462,
    "start_time": "2022-05-18T20:14:00.018Z"
   },
   {
    "duration": 4,
    "start_time": "2022-05-18T20:14:00.481Z"
   },
   {
    "duration": 126,
    "start_time": "2022-05-18T20:14:00.486Z"
   },
   {
    "duration": 53,
    "start_time": "2022-05-18T20:14:00.615Z"
   },
   {
    "duration": 66,
    "start_time": "2022-05-18T20:14:00.669Z"
   },
   {
    "duration": 23,
    "start_time": "2022-05-18T20:14:00.737Z"
   },
   {
    "duration": 60,
    "start_time": "2022-05-18T20:14:00.763Z"
   },
   {
    "duration": 160,
    "start_time": "2022-05-18T20:14:00.825Z"
   },
   {
    "duration": 3,
    "start_time": "2022-05-18T20:14:00.987Z"
   },
   {
    "duration": 328,
    "start_time": "2022-05-18T20:14:00.992Z"
   },
   {
    "duration": 4,
    "start_time": "2022-05-18T20:14:01.322Z"
   },
   {
    "duration": 77,
    "start_time": "2022-05-18T20:14:01.328Z"
   },
   {
    "duration": 153,
    "start_time": "2022-05-18T20:14:01.409Z"
   },
   {
    "duration": 499,
    "start_time": "2022-05-18T20:14:01.563Z"
   },
   {
    "duration": 12,
    "start_time": "2022-05-18T20:14:02.064Z"
   },
   {
    "duration": 223,
    "start_time": "2022-05-18T20:14:02.078Z"
   },
   {
    "duration": 23,
    "start_time": "2022-05-18T20:14:02.303Z"
   },
   {
    "duration": 110,
    "start_time": "2022-05-18T20:14:02.328Z"
   },
   {
    "duration": 298,
    "start_time": "2022-05-18T20:19:34.473Z"
   },
   {
    "duration": 4,
    "start_time": "2022-05-18T20:30:04.109Z"
   },
   {
    "duration": 15,
    "start_time": "2022-05-18T20:30:25.347Z"
   },
   {
    "duration": 151,
    "start_time": "2022-05-18T20:31:21.583Z"
   },
   {
    "duration": 1075,
    "start_time": "2022-05-18T20:31:29.722Z"
   },
   {
    "duration": 429,
    "start_time": "2022-05-18T20:31:30.799Z"
   },
   {
    "duration": 3,
    "start_time": "2022-05-18T20:31:31.230Z"
   },
   {
    "duration": 113,
    "start_time": "2022-05-18T20:31:31.235Z"
   },
   {
    "duration": 75,
    "start_time": "2022-05-18T20:31:31.351Z"
   },
   {
    "duration": 61,
    "start_time": "2022-05-18T20:31:31.428Z"
   },
   {
    "duration": 46,
    "start_time": "2022-05-18T20:31:31.491Z"
   },
   {
    "duration": 55,
    "start_time": "2022-05-18T20:31:31.540Z"
   },
   {
    "duration": 153,
    "start_time": "2022-05-18T20:31:31.600Z"
   },
   {
    "duration": 4,
    "start_time": "2022-05-18T20:31:31.755Z"
   },
   {
    "duration": 386,
    "start_time": "2022-05-18T20:31:31.761Z"
   },
   {
    "duration": 5,
    "start_time": "2022-05-18T20:31:32.149Z"
   },
   {
    "duration": 7,
    "start_time": "2022-05-18T20:31:32.156Z"
   },
   {
    "duration": 113,
    "start_time": "2022-05-18T20:31:32.166Z"
   },
   {
    "duration": 481,
    "start_time": "2022-05-18T20:31:32.281Z"
   },
   {
    "duration": 15,
    "start_time": "2022-05-18T20:31:32.764Z"
   },
   {
    "duration": 190,
    "start_time": "2022-05-18T20:31:32.780Z"
   },
   {
    "duration": 10,
    "start_time": "2022-05-18T20:31:32.972Z"
   },
   {
    "duration": 69,
    "start_time": "2022-05-18T20:31:32.985Z"
   },
   {
    "duration": 325,
    "start_time": "2022-05-18T20:31:33.056Z"
   },
   {
    "duration": 139,
    "start_time": "2022-05-18T20:31:33.383Z"
   },
   {
    "duration": 21,
    "start_time": "2022-05-18T20:31:45.290Z"
   },
   {
    "duration": 589,
    "start_time": "2022-05-18T20:32:56.099Z"
   },
   {
    "duration": 600,
    "start_time": "2022-05-18T20:33:08.316Z"
   },
   {
    "duration": 1181,
    "start_time": "2022-05-18T20:33:16.465Z"
   },
   {
    "duration": 424,
    "start_time": "2022-05-18T20:33:17.648Z"
   },
   {
    "duration": 4,
    "start_time": "2022-05-18T20:33:18.074Z"
   },
   {
    "duration": 103,
    "start_time": "2022-05-18T20:33:18.081Z"
   },
   {
    "duration": 51,
    "start_time": "2022-05-18T20:33:18.186Z"
   },
   {
    "duration": 74,
    "start_time": "2022-05-18T20:33:18.239Z"
   },
   {
    "duration": 26,
    "start_time": "2022-05-18T20:33:18.315Z"
   },
   {
    "duration": 32,
    "start_time": "2022-05-18T20:33:18.342Z"
   },
   {
    "duration": 209,
    "start_time": "2022-05-18T20:33:18.375Z"
   },
   {
    "duration": 3,
    "start_time": "2022-05-18T20:33:18.587Z"
   },
   {
    "duration": 338,
    "start_time": "2022-05-18T20:33:18.592Z"
   },
   {
    "duration": 4,
    "start_time": "2022-05-18T20:33:18.932Z"
   },
   {
    "duration": 6,
    "start_time": "2022-05-18T20:33:18.937Z"
   },
   {
    "duration": 107,
    "start_time": "2022-05-18T20:33:18.945Z"
   },
   {
    "duration": 453,
    "start_time": "2022-05-18T20:33:19.054Z"
   },
   {
    "duration": 15,
    "start_time": "2022-05-18T20:33:19.510Z"
   },
   {
    "duration": 214,
    "start_time": "2022-05-18T20:33:19.526Z"
   },
   {
    "duration": 9,
    "start_time": "2022-05-18T20:33:19.742Z"
   },
   {
    "duration": 61,
    "start_time": "2022-05-18T20:33:19.753Z"
   },
   {
    "duration": 311,
    "start_time": "2022-05-18T20:33:19.816Z"
   },
   {
    "duration": 28,
    "start_time": "2022-05-18T20:33:20.128Z"
   },
   {
    "duration": 77,
    "start_time": "2022-05-19T07:30:03.014Z"
   },
   {
    "duration": 1353,
    "start_time": "2022-05-19T07:30:17.192Z"
   },
   {
    "duration": 863,
    "start_time": "2022-05-19T07:30:18.552Z"
   },
   {
    "duration": 3,
    "start_time": "2022-05-19T07:30:19.417Z"
   },
   {
    "duration": 136,
    "start_time": "2022-05-19T07:30:19.422Z"
   },
   {
    "duration": 45,
    "start_time": "2022-05-19T07:30:19.559Z"
   },
   {
    "duration": 70,
    "start_time": "2022-05-19T07:30:19.605Z"
   },
   {
    "duration": 22,
    "start_time": "2022-05-19T07:30:19.676Z"
   },
   {
    "duration": 67,
    "start_time": "2022-05-19T07:30:19.700Z"
   },
   {
    "duration": 124,
    "start_time": "2022-05-19T07:30:19.768Z"
   },
   {
    "duration": 3,
    "start_time": "2022-05-19T07:30:19.894Z"
   },
   {
    "duration": 370,
    "start_time": "2022-05-19T07:30:19.899Z"
   },
   {
    "duration": 4,
    "start_time": "2022-05-19T07:30:20.271Z"
   },
   {
    "duration": 28,
    "start_time": "2022-05-19T07:30:20.277Z"
   },
   {
    "duration": 144,
    "start_time": "2022-05-19T07:30:20.307Z"
   },
   {
    "duration": 426,
    "start_time": "2022-05-19T07:30:20.452Z"
   },
   {
    "duration": 11,
    "start_time": "2022-05-19T07:30:20.881Z"
   },
   {
    "duration": 106,
    "start_time": "2022-05-19T07:30:20.894Z"
   },
   {
    "duration": 199,
    "start_time": "2022-05-19T07:30:21.002Z"
   },
   {
    "duration": 9,
    "start_time": "2022-05-19T07:30:21.203Z"
   },
   {
    "duration": 73,
    "start_time": "2022-05-19T07:30:21.225Z"
   },
   {
    "duration": 334,
    "start_time": "2022-05-19T07:30:21.300Z"
   },
   {
    "duration": 25,
    "start_time": "2022-05-19T07:30:21.640Z"
   },
   {
    "duration": 1182,
    "start_time": "2022-05-19T07:32:29.488Z"
   },
   {
    "duration": 447,
    "start_time": "2022-05-19T07:32:30.672Z"
   },
   {
    "duration": 4,
    "start_time": "2022-05-19T07:32:31.121Z"
   },
   {
    "duration": 139,
    "start_time": "2022-05-19T07:32:31.128Z"
   },
   {
    "duration": 70,
    "start_time": "2022-05-19T07:32:31.269Z"
   },
   {
    "duration": 45,
    "start_time": "2022-05-19T07:32:31.341Z"
   },
   {
    "duration": 55,
    "start_time": "2022-05-19T07:32:31.389Z"
   },
   {
    "duration": 24,
    "start_time": "2022-05-19T07:32:31.450Z"
   },
   {
    "duration": 3,
    "start_time": "2022-05-19T07:32:31.476Z"
   },
   {
    "duration": 891,
    "start_time": "2022-05-19T07:32:31.480Z"
   },
   {
    "duration": 4,
    "start_time": "2022-05-19T07:32:32.373Z"
   },
   {
    "duration": 9,
    "start_time": "2022-05-19T07:32:32.379Z"
   },
   {
    "duration": 81,
    "start_time": "2022-05-19T07:32:32.390Z"
   },
   {
    "duration": 505,
    "start_time": "2022-05-19T07:32:32.473Z"
   },
   {
    "duration": 15,
    "start_time": "2022-05-19T07:32:32.981Z"
   },
   {
    "duration": 123,
    "start_time": "2022-05-19T07:32:32.998Z"
   },
   {
    "duration": 629,
    "start_time": "2022-05-19T07:32:33.126Z"
   },
   {
    "duration": 13,
    "start_time": "2022-05-19T07:32:33.757Z"
   },
   {
    "duration": 69,
    "start_time": "2022-05-19T07:32:33.772Z"
   },
   {
    "duration": 340,
    "start_time": "2022-05-19T07:32:33.843Z"
   },
   {
    "duration": 24,
    "start_time": "2022-05-19T07:32:34.185Z"
   },
   {
    "duration": 60,
    "start_time": "2022-05-19T07:32:34.234Z"
   },
   {
    "duration": 1164,
    "start_time": "2022-05-19T07:32:54.318Z"
   },
   {
    "duration": 475,
    "start_time": "2022-05-19T07:32:55.484Z"
   },
   {
    "duration": 6,
    "start_time": "2022-05-19T07:32:55.962Z"
   },
   {
    "duration": 142,
    "start_time": "2022-05-19T07:32:55.971Z"
   },
   {
    "duration": 67,
    "start_time": "2022-05-19T07:32:56.115Z"
   },
   {
    "duration": 87,
    "start_time": "2022-05-19T07:32:56.185Z"
   },
   {
    "duration": 25,
    "start_time": "2022-05-19T07:32:56.274Z"
   },
   {
    "duration": 51,
    "start_time": "2022-05-19T07:32:56.301Z"
   },
   {
    "duration": 3,
    "start_time": "2022-05-19T07:32:56.357Z"
   },
   {
    "duration": 428,
    "start_time": "2022-05-19T07:32:56.363Z"
   },
   {
    "duration": 4,
    "start_time": "2022-05-19T07:32:56.793Z"
   },
   {
    "duration": 7,
    "start_time": "2022-05-19T07:32:56.799Z"
   },
   {
    "duration": 99,
    "start_time": "2022-05-19T07:32:56.807Z"
   },
   {
    "duration": 639,
    "start_time": "2022-05-19T07:32:56.907Z"
   },
   {
    "duration": 15,
    "start_time": "2022-05-19T07:32:57.547Z"
   },
   {
    "duration": 197,
    "start_time": "2022-05-19T07:32:57.565Z"
   },
   {
    "duration": 666,
    "start_time": "2022-05-19T07:32:57.763Z"
   },
   {
    "duration": 19,
    "start_time": "2022-05-19T07:32:58.432Z"
   },
   {
    "duration": 106,
    "start_time": "2022-05-19T07:32:58.462Z"
   },
   {
    "duration": 764,
    "start_time": "2022-05-19T07:32:58.570Z"
   },
   {
    "duration": 28,
    "start_time": "2022-05-19T07:32:59.343Z"
   },
   {
    "duration": 159,
    "start_time": "2022-05-19T07:32:59.373Z"
   },
   {
    "duration": 5,
    "start_time": "2022-05-19T07:33:22.338Z"
   },
   {
    "duration": 388,
    "start_time": "2022-05-19T07:33:23.412Z"
   },
   {
    "duration": 3,
    "start_time": "2022-05-19T07:33:34.077Z"
   },
   {
    "duration": 3,
    "start_time": "2022-05-19T07:33:50.488Z"
   },
   {
    "duration": 468,
    "start_time": "2022-05-19T07:33:52.571Z"
   },
   {
    "duration": 8,
    "start_time": "2022-05-19T07:34:24.552Z"
   },
   {
    "duration": 398,
    "start_time": "2022-05-19T07:34:27.270Z"
   },
   {
    "duration": 1340,
    "start_time": "2022-05-19T07:34:41.506Z"
   },
   {
    "duration": 538,
    "start_time": "2022-05-19T07:34:42.849Z"
   },
   {
    "duration": 4,
    "start_time": "2022-05-19T07:34:43.389Z"
   },
   {
    "duration": 143,
    "start_time": "2022-05-19T07:34:43.395Z"
   },
   {
    "duration": 120,
    "start_time": "2022-05-19T07:34:43.540Z"
   },
   {
    "duration": 104,
    "start_time": "2022-05-19T07:34:43.662Z"
   },
   {
    "duration": 106,
    "start_time": "2022-05-19T07:34:43.768Z"
   },
   {
    "duration": 73,
    "start_time": "2022-05-19T07:34:43.878Z"
   },
   {
    "duration": 22,
    "start_time": "2022-05-19T07:34:43.957Z"
   },
   {
    "duration": 1070,
    "start_time": "2022-05-19T07:34:43.983Z"
   },
   {
    "duration": 4,
    "start_time": "2022-05-19T07:34:45.055Z"
   },
   {
    "duration": 11,
    "start_time": "2022-05-19T07:34:45.060Z"
   },
   {
    "duration": 181,
    "start_time": "2022-05-19T07:34:45.072Z"
   },
   {
    "duration": 873,
    "start_time": "2022-05-19T07:34:45.261Z"
   },
   {
    "duration": 21,
    "start_time": "2022-05-19T07:34:46.137Z"
   },
   {
    "duration": 191,
    "start_time": "2022-05-19T07:34:46.160Z"
   },
   {
    "duration": 317,
    "start_time": "2022-05-19T07:34:46.353Z"
   },
   {
    "duration": 9,
    "start_time": "2022-05-19T07:34:46.672Z"
   },
   {
    "duration": 54,
    "start_time": "2022-05-19T07:34:46.683Z"
   },
   {
    "duration": 307,
    "start_time": "2022-05-19T07:34:46.738Z"
   },
   {
    "duration": 26,
    "start_time": "2022-05-19T07:34:47.051Z"
   },
   {
    "duration": 60,
    "start_time": "2022-05-19T07:34:47.079Z"
   },
   {
    "duration": 171,
    "start_time": "2022-05-19T07:35:46.887Z"
   },
   {
    "duration": 5,
    "start_time": "2022-05-19T07:37:55.619Z"
   },
   {
    "duration": 62,
    "start_time": "2022-05-19T07:38:25.919Z"
   },
   {
    "duration": 1186,
    "start_time": "2022-05-19T07:39:14.296Z"
   },
   {
    "duration": 121,
    "start_time": "2022-05-19T07:44:46.890Z"
   },
   {
    "duration": 342,
    "start_time": "2022-05-19T07:44:55.865Z"
   },
   {
    "duration": 644,
    "start_time": "2022-05-19T07:45:50.199Z"
   },
   {
    "duration": 35,
    "start_time": "2022-05-19T07:46:08.234Z"
   },
   {
    "duration": 34,
    "start_time": "2022-05-19T07:46:51.771Z"
   },
   {
    "duration": 744,
    "start_time": "2022-05-19T07:47:24.951Z"
   },
   {
    "duration": 41,
    "start_time": "2022-05-19T07:47:30.901Z"
   },
   {
    "duration": 1284,
    "start_time": "2022-05-19T07:56:58.392Z"
   },
   {
    "duration": 437,
    "start_time": "2022-05-19T07:56:59.678Z"
   },
   {
    "duration": 3,
    "start_time": "2022-05-19T07:57:00.117Z"
   },
   {
    "duration": 138,
    "start_time": "2022-05-19T07:57:00.122Z"
   },
   {
    "duration": 45,
    "start_time": "2022-05-19T07:57:00.262Z"
   },
   {
    "duration": 62,
    "start_time": "2022-05-19T07:57:00.309Z"
   },
   {
    "duration": 24,
    "start_time": "2022-05-19T07:57:00.373Z"
   },
   {
    "duration": 47,
    "start_time": "2022-05-19T07:57:00.398Z"
   },
   {
    "duration": 15,
    "start_time": "2022-05-19T07:57:00.449Z"
   },
   {
    "duration": 0,
    "start_time": "2022-05-19T07:57:00.466Z"
   },
   {
    "duration": 0,
    "start_time": "2022-05-19T07:57:00.468Z"
   },
   {
    "duration": 0,
    "start_time": "2022-05-19T07:57:00.469Z"
   },
   {
    "duration": 0,
    "start_time": "2022-05-19T07:57:00.470Z"
   },
   {
    "duration": 0,
    "start_time": "2022-05-19T07:57:00.471Z"
   },
   {
    "duration": 0,
    "start_time": "2022-05-19T07:57:00.472Z"
   },
   {
    "duration": 0,
    "start_time": "2022-05-19T07:57:00.473Z"
   },
   {
    "duration": 0,
    "start_time": "2022-05-19T07:57:00.476Z"
   },
   {
    "duration": 0,
    "start_time": "2022-05-19T07:57:00.477Z"
   },
   {
    "duration": 0,
    "start_time": "2022-05-19T07:57:00.478Z"
   },
   {
    "duration": 0,
    "start_time": "2022-05-19T07:57:00.479Z"
   },
   {
    "duration": 0,
    "start_time": "2022-05-19T07:57:00.480Z"
   },
   {
    "duration": 0,
    "start_time": "2022-05-19T07:57:00.481Z"
   },
   {
    "duration": 0,
    "start_time": "2022-05-19T07:57:00.482Z"
   },
   {
    "duration": 0,
    "start_time": "2022-05-19T07:57:00.483Z"
   },
   {
    "duration": 0,
    "start_time": "2022-05-19T07:57:00.484Z"
   },
   {
    "duration": 1235,
    "start_time": "2022-05-19T07:57:58.327Z"
   },
   {
    "duration": 565,
    "start_time": "2022-05-19T07:57:59.563Z"
   },
   {
    "duration": 4,
    "start_time": "2022-05-19T07:58:00.131Z"
   },
   {
    "duration": 234,
    "start_time": "2022-05-19T07:58:00.138Z"
   },
   {
    "duration": 134,
    "start_time": "2022-05-19T07:58:00.426Z"
   },
   {
    "duration": 166,
    "start_time": "2022-05-19T07:58:00.562Z"
   },
   {
    "duration": 106,
    "start_time": "2022-05-19T07:58:00.730Z"
   },
   {
    "duration": 29,
    "start_time": "2022-05-19T07:58:00.838Z"
   },
   {
    "duration": 8,
    "start_time": "2022-05-19T07:58:00.869Z"
   },
   {
    "duration": 0,
    "start_time": "2022-05-19T07:58:00.929Z"
   },
   {
    "duration": 0,
    "start_time": "2022-05-19T07:58:00.932Z"
   },
   {
    "duration": 0,
    "start_time": "2022-05-19T07:58:00.934Z"
   },
   {
    "duration": 0,
    "start_time": "2022-05-19T07:58:00.936Z"
   },
   {
    "duration": 0,
    "start_time": "2022-05-19T07:58:00.937Z"
   },
   {
    "duration": 0,
    "start_time": "2022-05-19T07:58:00.939Z"
   },
   {
    "duration": 0,
    "start_time": "2022-05-19T07:58:00.941Z"
   },
   {
    "duration": 0,
    "start_time": "2022-05-19T07:58:00.943Z"
   },
   {
    "duration": 0,
    "start_time": "2022-05-19T07:58:00.945Z"
   },
   {
    "duration": 0,
    "start_time": "2022-05-19T07:58:00.947Z"
   },
   {
    "duration": 0,
    "start_time": "2022-05-19T07:58:00.948Z"
   },
   {
    "duration": 0,
    "start_time": "2022-05-19T07:58:00.950Z"
   },
   {
    "duration": 0,
    "start_time": "2022-05-19T07:58:00.952Z"
   },
   {
    "duration": 0,
    "start_time": "2022-05-19T07:58:00.954Z"
   },
   {
    "duration": 0,
    "start_time": "2022-05-19T07:58:00.956Z"
   },
   {
    "duration": 0,
    "start_time": "2022-05-19T07:58:00.958Z"
   },
   {
    "duration": 1174,
    "start_time": "2022-05-19T07:58:12.202Z"
   },
   {
    "duration": 427,
    "start_time": "2022-05-19T07:58:13.378Z"
   },
   {
    "duration": 4,
    "start_time": "2022-05-19T07:58:13.809Z"
   },
   {
    "duration": 123,
    "start_time": "2022-05-19T07:58:13.814Z"
   },
   {
    "duration": 59,
    "start_time": "2022-05-19T07:58:13.940Z"
   },
   {
    "duration": 59,
    "start_time": "2022-05-19T07:58:14.001Z"
   },
   {
    "duration": 37,
    "start_time": "2022-05-19T07:58:14.062Z"
   },
   {
    "duration": 58,
    "start_time": "2022-05-19T07:58:14.101Z"
   },
   {
    "duration": 5,
    "start_time": "2022-05-19T07:58:14.163Z"
   },
   {
    "duration": 1169,
    "start_time": "2022-05-19T07:58:14.170Z"
   },
   {
    "duration": 0,
    "start_time": "2022-05-19T07:58:15.345Z"
   },
   {
    "duration": 0,
    "start_time": "2022-05-19T07:58:15.346Z"
   },
   {
    "duration": 0,
    "start_time": "2022-05-19T07:58:15.347Z"
   },
   {
    "duration": 0,
    "start_time": "2022-05-19T07:58:15.348Z"
   },
   {
    "duration": 0,
    "start_time": "2022-05-19T07:58:15.349Z"
   },
   {
    "duration": 0,
    "start_time": "2022-05-19T07:58:15.350Z"
   },
   {
    "duration": 0,
    "start_time": "2022-05-19T07:58:15.351Z"
   },
   {
    "duration": 0,
    "start_time": "2022-05-19T07:58:15.351Z"
   },
   {
    "duration": 0,
    "start_time": "2022-05-19T07:58:15.353Z"
   },
   {
    "duration": 1,
    "start_time": "2022-05-19T07:58:15.353Z"
   },
   {
    "duration": 0,
    "start_time": "2022-05-19T07:58:15.354Z"
   },
   {
    "duration": 0,
    "start_time": "2022-05-19T07:58:15.355Z"
   },
   {
    "duration": 0,
    "start_time": "2022-05-19T07:58:15.356Z"
   },
   {
    "duration": 0,
    "start_time": "2022-05-19T07:58:15.357Z"
   },
   {
    "duration": 0,
    "start_time": "2022-05-19T07:58:15.358Z"
   },
   {
    "duration": 1248,
    "start_time": "2022-05-19T07:58:38.714Z"
   },
   {
    "duration": 454,
    "start_time": "2022-05-19T07:58:39.964Z"
   },
   {
    "duration": 10,
    "start_time": "2022-05-19T07:58:40.420Z"
   },
   {
    "duration": 128,
    "start_time": "2022-05-19T07:58:40.434Z"
   },
   {
    "duration": 62,
    "start_time": "2022-05-19T07:58:40.563Z"
   },
   {
    "duration": 49,
    "start_time": "2022-05-19T07:58:40.629Z"
   },
   {
    "duration": 55,
    "start_time": "2022-05-19T07:58:40.680Z"
   },
   {
    "duration": 33,
    "start_time": "2022-05-19T07:58:40.740Z"
   },
   {
    "duration": 5,
    "start_time": "2022-05-19T07:58:40.775Z"
   },
   {
    "duration": 563,
    "start_time": "2022-05-19T07:58:40.784Z"
   },
   {
    "duration": 0,
    "start_time": "2022-05-19T07:58:41.350Z"
   },
   {
    "duration": 0,
    "start_time": "2022-05-19T07:58:41.355Z"
   },
   {
    "duration": 0,
    "start_time": "2022-05-19T07:58:41.356Z"
   },
   {
    "duration": 0,
    "start_time": "2022-05-19T07:58:41.357Z"
   },
   {
    "duration": 0,
    "start_time": "2022-05-19T07:58:41.358Z"
   },
   {
    "duration": 0,
    "start_time": "2022-05-19T07:58:41.359Z"
   },
   {
    "duration": 0,
    "start_time": "2022-05-19T07:58:41.361Z"
   },
   {
    "duration": 0,
    "start_time": "2022-05-19T07:58:41.362Z"
   },
   {
    "duration": 0,
    "start_time": "2022-05-19T07:58:41.363Z"
   },
   {
    "duration": 0,
    "start_time": "2022-05-19T07:58:41.364Z"
   },
   {
    "duration": 0,
    "start_time": "2022-05-19T07:58:41.365Z"
   },
   {
    "duration": 0,
    "start_time": "2022-05-19T07:58:41.367Z"
   },
   {
    "duration": 0,
    "start_time": "2022-05-19T07:58:41.368Z"
   },
   {
    "duration": 0,
    "start_time": "2022-05-19T07:58:41.370Z"
   },
   {
    "duration": 0,
    "start_time": "2022-05-19T07:58:41.371Z"
   },
   {
    "duration": 1405,
    "start_time": "2022-05-19T08:30:04.090Z"
   },
   {
    "duration": 731,
    "start_time": "2022-05-19T08:30:05.497Z"
   },
   {
    "duration": 4,
    "start_time": "2022-05-19T08:30:06.229Z"
   },
   {
    "duration": 124,
    "start_time": "2022-05-19T08:30:06.236Z"
   },
   {
    "duration": 58,
    "start_time": "2022-05-19T08:30:06.364Z"
   },
   {
    "duration": 67,
    "start_time": "2022-05-19T08:30:06.424Z"
   },
   {
    "duration": 26,
    "start_time": "2022-05-19T08:30:06.493Z"
   },
   {
    "duration": 54,
    "start_time": "2022-05-19T08:30:06.520Z"
   },
   {
    "duration": 7,
    "start_time": "2022-05-19T08:30:06.576Z"
   },
   {
    "duration": 91,
    "start_time": "2022-05-19T08:30:06.587Z"
   },
   {
    "duration": 5,
    "start_time": "2022-05-19T08:30:06.679Z"
   },
   {
    "duration": 445,
    "start_time": "2022-05-19T08:30:06.686Z"
   },
   {
    "duration": 4,
    "start_time": "2022-05-19T08:30:07.132Z"
   },
   {
    "duration": 422,
    "start_time": "2022-05-19T08:30:07.138Z"
   },
   {
    "duration": 13,
    "start_time": "2022-05-19T08:30:07.562Z"
   },
   {
    "duration": 36,
    "start_time": "2022-05-19T08:30:07.577Z"
   },
   {
    "duration": 422,
    "start_time": "2022-05-19T08:30:07.617Z"
   },
   {
    "duration": 0,
    "start_time": "2022-05-19T08:30:08.042Z"
   },
   {
    "duration": 0,
    "start_time": "2022-05-19T08:30:08.044Z"
   },
   {
    "duration": 0,
    "start_time": "2022-05-19T08:30:08.045Z"
   },
   {
    "duration": 0,
    "start_time": "2022-05-19T08:30:08.046Z"
   },
   {
    "duration": 0,
    "start_time": "2022-05-19T08:30:08.047Z"
   },
   {
    "duration": 0,
    "start_time": "2022-05-19T08:30:08.048Z"
   },
   {
    "duration": 0,
    "start_time": "2022-05-19T08:30:08.050Z"
   },
   {
    "duration": 0,
    "start_time": "2022-05-19T08:30:08.066Z"
   },
   {
    "duration": 1221,
    "start_time": "2022-05-19T08:30:46.414Z"
   },
   {
    "duration": 413,
    "start_time": "2022-05-19T08:30:47.637Z"
   },
   {
    "duration": 4,
    "start_time": "2022-05-19T08:30:48.052Z"
   },
   {
    "duration": 102,
    "start_time": "2022-05-19T08:30:48.058Z"
   },
   {
    "duration": 47,
    "start_time": "2022-05-19T08:30:48.164Z"
   },
   {
    "duration": 63,
    "start_time": "2022-05-19T08:30:48.213Z"
   },
   {
    "duration": 22,
    "start_time": "2022-05-19T08:30:48.277Z"
   },
   {
    "duration": 19,
    "start_time": "2022-05-19T08:30:48.301Z"
   },
   {
    "duration": 3,
    "start_time": "2022-05-19T08:30:48.322Z"
   },
   {
    "duration": 104,
    "start_time": "2022-05-19T08:30:48.327Z"
   },
   {
    "duration": 5,
    "start_time": "2022-05-19T08:30:48.432Z"
   },
   {
    "duration": 443,
    "start_time": "2022-05-19T08:30:48.439Z"
   },
   {
    "duration": 5,
    "start_time": "2022-05-19T08:30:48.884Z"
   },
   {
    "duration": 480,
    "start_time": "2022-05-19T08:30:48.891Z"
   },
   {
    "duration": 11,
    "start_time": "2022-05-19T08:30:49.372Z"
   },
   {
    "duration": 33,
    "start_time": "2022-05-19T08:30:49.385Z"
   },
   {
    "duration": 383,
    "start_time": "2022-05-19T08:30:49.420Z"
   },
   {
    "duration": 0,
    "start_time": "2022-05-19T08:30:49.806Z"
   },
   {
    "duration": 0,
    "start_time": "2022-05-19T08:30:49.810Z"
   },
   {
    "duration": 0,
    "start_time": "2022-05-19T08:30:49.812Z"
   },
   {
    "duration": 0,
    "start_time": "2022-05-19T08:30:49.814Z"
   },
   {
    "duration": 0,
    "start_time": "2022-05-19T08:30:49.815Z"
   },
   {
    "duration": 0,
    "start_time": "2022-05-19T08:30:49.816Z"
   },
   {
    "duration": 0,
    "start_time": "2022-05-19T08:30:49.817Z"
   },
   {
    "duration": 0,
    "start_time": "2022-05-19T08:30:49.818Z"
   },
   {
    "duration": 5,
    "start_time": "2022-05-19T08:33:46.406Z"
   },
   {
    "duration": 1104,
    "start_time": "2022-05-19T08:33:54.678Z"
   },
   {
    "duration": 406,
    "start_time": "2022-05-19T08:33:55.784Z"
   },
   {
    "duration": 3,
    "start_time": "2022-05-19T08:33:56.192Z"
   },
   {
    "duration": 106,
    "start_time": "2022-05-19T08:33:56.197Z"
   },
   {
    "duration": 72,
    "start_time": "2022-05-19T08:33:56.305Z"
   },
   {
    "duration": 37,
    "start_time": "2022-05-19T08:33:56.379Z"
   },
   {
    "duration": 22,
    "start_time": "2022-05-19T08:33:56.417Z"
   },
   {
    "duration": 45,
    "start_time": "2022-05-19T08:33:56.441Z"
   },
   {
    "duration": 3,
    "start_time": "2022-05-19T08:33:56.488Z"
   },
   {
    "duration": 90,
    "start_time": "2022-05-19T08:33:56.494Z"
   },
   {
    "duration": 5,
    "start_time": "2022-05-19T08:33:56.586Z"
   },
   {
    "duration": 401,
    "start_time": "2022-05-19T08:33:56.592Z"
   },
   {
    "duration": 3,
    "start_time": "2022-05-19T08:33:56.995Z"
   },
   {
    "duration": 415,
    "start_time": "2022-05-19T08:33:57.000Z"
   },
   {
    "duration": 12,
    "start_time": "2022-05-19T08:33:57.416Z"
   },
   {
    "duration": 56,
    "start_time": "2022-05-19T08:33:57.429Z"
   },
   {
    "duration": 347,
    "start_time": "2022-05-19T08:33:57.487Z"
   },
   {
    "duration": 0,
    "start_time": "2022-05-19T08:33:57.835Z"
   },
   {
    "duration": 0,
    "start_time": "2022-05-19T08:33:57.836Z"
   },
   {
    "duration": 0,
    "start_time": "2022-05-19T08:33:57.837Z"
   },
   {
    "duration": 0,
    "start_time": "2022-05-19T08:33:57.838Z"
   },
   {
    "duration": 0,
    "start_time": "2022-05-19T08:33:57.839Z"
   },
   {
    "duration": 0,
    "start_time": "2022-05-19T08:33:57.840Z"
   },
   {
    "duration": 0,
    "start_time": "2022-05-19T08:33:57.841Z"
   },
   {
    "duration": 0,
    "start_time": "2022-05-19T08:33:57.843Z"
   },
   {
    "duration": 1126,
    "start_time": "2022-05-19T08:39:49.056Z"
   },
   {
    "duration": 408,
    "start_time": "2022-05-19T08:39:50.184Z"
   },
   {
    "duration": 5,
    "start_time": "2022-05-19T08:39:50.594Z"
   },
   {
    "duration": 121,
    "start_time": "2022-05-19T08:39:50.602Z"
   },
   {
    "duration": 53,
    "start_time": "2022-05-19T08:39:50.724Z"
   },
   {
    "duration": 36,
    "start_time": "2022-05-19T08:39:50.779Z"
   },
   {
    "duration": 22,
    "start_time": "2022-05-19T08:39:50.816Z"
   },
   {
    "duration": 23,
    "start_time": "2022-05-19T08:39:50.865Z"
   },
   {
    "duration": 4,
    "start_time": "2022-05-19T08:39:50.889Z"
   },
   {
    "duration": 92,
    "start_time": "2022-05-19T08:39:50.896Z"
   },
   {
    "duration": 5,
    "start_time": "2022-05-19T08:39:50.989Z"
   },
   {
    "duration": 408,
    "start_time": "2022-05-19T08:39:50.996Z"
   },
   {
    "duration": 394,
    "start_time": "2022-05-19T08:39:51.406Z"
   },
   {
    "duration": 12,
    "start_time": "2022-05-19T08:39:51.803Z"
   },
   {
    "duration": 372,
    "start_time": "2022-05-19T08:39:51.817Z"
   },
   {
    "duration": 0,
    "start_time": "2022-05-19T08:39:52.191Z"
   },
   {
    "duration": 0,
    "start_time": "2022-05-19T08:39:52.193Z"
   },
   {
    "duration": 0,
    "start_time": "2022-05-19T08:39:52.195Z"
   },
   {
    "duration": 0,
    "start_time": "2022-05-19T08:39:52.197Z"
   },
   {
    "duration": 0,
    "start_time": "2022-05-19T08:39:52.198Z"
   },
   {
    "duration": 0,
    "start_time": "2022-05-19T08:39:52.200Z"
   },
   {
    "duration": 0,
    "start_time": "2022-05-19T08:39:52.201Z"
   },
   {
    "duration": 0,
    "start_time": "2022-05-19T08:39:52.203Z"
   },
   {
    "duration": 1179,
    "start_time": "2022-05-19T08:41:56.515Z"
   },
   {
    "duration": 423,
    "start_time": "2022-05-19T08:41:57.696Z"
   },
   {
    "duration": 4,
    "start_time": "2022-05-19T08:41:58.121Z"
   },
   {
    "duration": 106,
    "start_time": "2022-05-19T08:41:58.126Z"
   },
   {
    "duration": 67,
    "start_time": "2022-05-19T08:41:58.234Z"
   },
   {
    "duration": 37,
    "start_time": "2022-05-19T08:41:58.303Z"
   },
   {
    "duration": 51,
    "start_time": "2022-05-19T08:41:58.341Z"
   },
   {
    "duration": 21,
    "start_time": "2022-05-19T08:41:58.394Z"
   },
   {
    "duration": 6,
    "start_time": "2022-05-19T08:41:58.417Z"
   },
   {
    "duration": 102,
    "start_time": "2022-05-19T08:41:58.426Z"
   },
   {
    "duration": 5,
    "start_time": "2022-05-19T08:41:58.530Z"
   },
   {
    "duration": 503,
    "start_time": "2022-05-19T08:41:58.537Z"
   },
   {
    "duration": 454,
    "start_time": "2022-05-19T08:41:59.042Z"
   },
   {
    "duration": 13,
    "start_time": "2022-05-19T08:41:59.498Z"
   },
   {
    "duration": 7,
    "start_time": "2022-05-19T08:41:59.513Z"
   },
   {
    "duration": 74,
    "start_time": "2022-05-19T08:41:59.522Z"
   },
   {
    "duration": 338,
    "start_time": "2022-05-19T08:41:59.598Z"
   },
   {
    "duration": 0,
    "start_time": "2022-05-19T08:41:59.937Z"
   },
   {
    "duration": 0,
    "start_time": "2022-05-19T08:41:59.938Z"
   },
   {
    "duration": 0,
    "start_time": "2022-05-19T08:41:59.939Z"
   },
   {
    "duration": 1,
    "start_time": "2022-05-19T08:41:59.940Z"
   },
   {
    "duration": 0,
    "start_time": "2022-05-19T08:41:59.941Z"
   },
   {
    "duration": 0,
    "start_time": "2022-05-19T08:41:59.942Z"
   },
   {
    "duration": 1210,
    "start_time": "2022-05-19T08:45:00.832Z"
   },
   {
    "duration": 430,
    "start_time": "2022-05-19T08:45:02.044Z"
   },
   {
    "duration": 4,
    "start_time": "2022-05-19T08:45:02.476Z"
   },
   {
    "duration": 115,
    "start_time": "2022-05-19T08:45:02.483Z"
   },
   {
    "duration": 70,
    "start_time": "2022-05-19T08:45:02.600Z"
   },
   {
    "duration": 61,
    "start_time": "2022-05-19T08:45:02.672Z"
   },
   {
    "duration": 59,
    "start_time": "2022-05-19T08:45:02.735Z"
   },
   {
    "duration": 35,
    "start_time": "2022-05-19T08:45:02.795Z"
   },
   {
    "duration": 7,
    "start_time": "2022-05-19T08:45:02.832Z"
   },
   {
    "duration": 94,
    "start_time": "2022-05-19T08:45:02.843Z"
   },
   {
    "duration": 7,
    "start_time": "2022-05-19T08:45:02.939Z"
   },
   {
    "duration": 430,
    "start_time": "2022-05-19T08:45:02.948Z"
   },
   {
    "duration": 408,
    "start_time": "2022-05-19T08:45:03.379Z"
   },
   {
    "duration": 11,
    "start_time": "2022-05-19T08:45:03.789Z"
   },
   {
    "duration": 14,
    "start_time": "2022-05-19T08:45:03.802Z"
   },
   {
    "duration": 63,
    "start_time": "2022-05-19T08:45:03.817Z"
   },
   {
    "duration": 334,
    "start_time": "2022-05-19T08:45:03.882Z"
   },
   {
    "duration": 0,
    "start_time": "2022-05-19T08:45:04.218Z"
   },
   {
    "duration": 0,
    "start_time": "2022-05-19T08:45:04.220Z"
   },
   {
    "duration": 0,
    "start_time": "2022-05-19T08:45:04.221Z"
   },
   {
    "duration": 0,
    "start_time": "2022-05-19T08:45:04.223Z"
   },
   {
    "duration": 0,
    "start_time": "2022-05-19T08:45:04.224Z"
   },
   {
    "duration": 0,
    "start_time": "2022-05-19T08:45:04.226Z"
   },
   {
    "duration": 42,
    "start_time": "2022-05-19T08:45:15.296Z"
   },
   {
    "duration": 1208,
    "start_time": "2022-05-19T08:46:01.665Z"
   },
   {
    "duration": 407,
    "start_time": "2022-05-19T08:46:02.874Z"
   },
   {
    "duration": 4,
    "start_time": "2022-05-19T08:46:03.282Z"
   },
   {
    "duration": 100,
    "start_time": "2022-05-19T08:46:03.287Z"
   },
   {
    "duration": 79,
    "start_time": "2022-05-19T08:46:03.390Z"
   },
   {
    "duration": 47,
    "start_time": "2022-05-19T08:46:03.471Z"
   },
   {
    "duration": 46,
    "start_time": "2022-05-19T08:46:03.520Z"
   },
   {
    "duration": 22,
    "start_time": "2022-05-19T08:46:03.567Z"
   },
   {
    "duration": 3,
    "start_time": "2022-05-19T08:46:03.591Z"
   },
   {
    "duration": 100,
    "start_time": "2022-05-19T08:46:03.596Z"
   },
   {
    "duration": 6,
    "start_time": "2022-05-19T08:46:03.697Z"
   },
   {
    "duration": 403,
    "start_time": "2022-05-19T08:46:03.705Z"
   },
   {
    "duration": 407,
    "start_time": "2022-05-19T08:46:04.110Z"
   },
   {
    "duration": 10,
    "start_time": "2022-05-19T08:46:04.520Z"
   },
   {
    "duration": 8,
    "start_time": "2022-05-19T08:46:04.532Z"
   },
   {
    "duration": 72,
    "start_time": "2022-05-19T08:46:04.542Z"
   },
   {
    "duration": 323,
    "start_time": "2022-05-19T08:46:04.616Z"
   },
   {
    "duration": 0,
    "start_time": "2022-05-19T08:46:04.941Z"
   },
   {
    "duration": 0,
    "start_time": "2022-05-19T08:46:04.942Z"
   },
   {
    "duration": 0,
    "start_time": "2022-05-19T08:46:04.944Z"
   },
   {
    "duration": 0,
    "start_time": "2022-05-19T08:46:04.966Z"
   },
   {
    "duration": 0,
    "start_time": "2022-05-19T08:46:04.967Z"
   },
   {
    "duration": 0,
    "start_time": "2022-05-19T08:46:04.968Z"
   },
   {
    "duration": 37,
    "start_time": "2022-05-19T08:46:50.328Z"
   },
   {
    "duration": 1287,
    "start_time": "2022-05-19T08:47:48.626Z"
   },
   {
    "duration": 492,
    "start_time": "2022-05-19T08:47:49.915Z"
   },
   {
    "duration": 4,
    "start_time": "2022-05-19T08:47:50.410Z"
   },
   {
    "duration": 125,
    "start_time": "2022-05-19T08:47:50.417Z"
   },
   {
    "duration": 84,
    "start_time": "2022-05-19T08:47:50.544Z"
   },
   {
    "duration": 61,
    "start_time": "2022-05-19T08:47:50.630Z"
   },
   {
    "duration": 25,
    "start_time": "2022-05-19T08:47:50.694Z"
   },
   {
    "duration": 55,
    "start_time": "2022-05-19T08:47:50.720Z"
   },
   {
    "duration": 7,
    "start_time": "2022-05-19T08:47:50.777Z"
   },
   {
    "duration": 95,
    "start_time": "2022-05-19T08:47:50.787Z"
   },
   {
    "duration": 5,
    "start_time": "2022-05-19T08:47:50.884Z"
   },
   {
    "duration": 796,
    "start_time": "2022-05-19T08:47:50.891Z"
   },
   {
    "duration": 0,
    "start_time": "2022-05-19T08:47:51.690Z"
   },
   {
    "duration": 0,
    "start_time": "2022-05-19T08:47:51.691Z"
   },
   {
    "duration": 0,
    "start_time": "2022-05-19T08:47:51.693Z"
   },
   {
    "duration": 0,
    "start_time": "2022-05-19T08:47:51.695Z"
   },
   {
    "duration": 0,
    "start_time": "2022-05-19T08:47:51.696Z"
   },
   {
    "duration": 0,
    "start_time": "2022-05-19T08:47:51.698Z"
   },
   {
    "duration": 0,
    "start_time": "2022-05-19T08:47:51.699Z"
   },
   {
    "duration": 0,
    "start_time": "2022-05-19T08:47:51.701Z"
   },
   {
    "duration": 0,
    "start_time": "2022-05-19T08:47:51.703Z"
   },
   {
    "duration": 0,
    "start_time": "2022-05-19T08:47:51.704Z"
   },
   {
    "duration": 0,
    "start_time": "2022-05-19T08:47:51.705Z"
   },
   {
    "duration": 0,
    "start_time": "2022-05-19T08:47:51.707Z"
   },
   {
    "duration": 1237,
    "start_time": "2022-05-19T08:48:37.700Z"
   },
   {
    "duration": 1129,
    "start_time": "2022-05-19T08:48:38.940Z"
   },
   {
    "duration": 7,
    "start_time": "2022-05-19T08:48:40.072Z"
   },
   {
    "duration": 287,
    "start_time": "2022-05-19T08:48:40.082Z"
   },
   {
    "duration": 122,
    "start_time": "2022-05-19T08:48:40.372Z"
   },
   {
    "duration": 169,
    "start_time": "2022-05-19T08:48:40.496Z"
   },
   {
    "duration": 34,
    "start_time": "2022-05-19T08:48:40.668Z"
   },
   {
    "duration": 84,
    "start_time": "2022-05-19T08:48:40.704Z"
   },
   {
    "duration": 12,
    "start_time": "2022-05-19T08:48:40.790Z"
   },
   {
    "duration": 184,
    "start_time": "2022-05-19T08:48:40.804Z"
   },
   {
    "duration": 4,
    "start_time": "2022-05-19T08:48:40.990Z"
   },
   {
    "duration": 904,
    "start_time": "2022-05-19T08:48:40.995Z"
   },
   {
    "duration": 0,
    "start_time": "2022-05-19T08:48:41.901Z"
   },
   {
    "duration": 0,
    "start_time": "2022-05-19T08:48:41.902Z"
   },
   {
    "duration": 0,
    "start_time": "2022-05-19T08:48:41.903Z"
   },
   {
    "duration": 0,
    "start_time": "2022-05-19T08:48:41.904Z"
   },
   {
    "duration": 0,
    "start_time": "2022-05-19T08:48:41.905Z"
   },
   {
    "duration": 0,
    "start_time": "2022-05-19T08:48:41.906Z"
   },
   {
    "duration": 0,
    "start_time": "2022-05-19T08:48:41.907Z"
   },
   {
    "duration": 0,
    "start_time": "2022-05-19T08:48:41.908Z"
   },
   {
    "duration": 0,
    "start_time": "2022-05-19T08:48:41.909Z"
   },
   {
    "duration": 0,
    "start_time": "2022-05-19T08:48:41.912Z"
   },
   {
    "duration": 0,
    "start_time": "2022-05-19T08:48:41.914Z"
   },
   {
    "duration": 0,
    "start_time": "2022-05-19T08:48:41.915Z"
   },
   {
    "duration": 1190,
    "start_time": "2022-05-19T08:51:59.322Z"
   },
   {
    "duration": 455,
    "start_time": "2022-05-19T08:52:00.514Z"
   },
   {
    "duration": 7,
    "start_time": "2022-05-19T08:52:00.972Z"
   },
   {
    "duration": 144,
    "start_time": "2022-05-19T08:52:00.981Z"
   },
   {
    "duration": 67,
    "start_time": "2022-05-19T08:52:01.127Z"
   },
   {
    "duration": 40,
    "start_time": "2022-05-19T08:52:01.196Z"
   },
   {
    "duration": 61,
    "start_time": "2022-05-19T08:52:01.237Z"
   },
   {
    "duration": 27,
    "start_time": "2022-05-19T08:52:01.300Z"
   },
   {
    "duration": 4,
    "start_time": "2022-05-19T08:52:01.329Z"
   },
   {
    "duration": 110,
    "start_time": "2022-05-19T08:52:01.336Z"
   },
   {
    "duration": 37,
    "start_time": "2022-05-19T08:52:01.448Z"
   },
   {
    "duration": 0,
    "start_time": "2022-05-19T08:52:01.487Z"
   },
   {
    "duration": 0,
    "start_time": "2022-05-19T08:52:01.490Z"
   },
   {
    "duration": 0,
    "start_time": "2022-05-19T08:52:01.491Z"
   },
   {
    "duration": 0,
    "start_time": "2022-05-19T08:52:01.493Z"
   },
   {
    "duration": 0,
    "start_time": "2022-05-19T08:52:01.495Z"
   },
   {
    "duration": 0,
    "start_time": "2022-05-19T08:52:01.497Z"
   },
   {
    "duration": 0,
    "start_time": "2022-05-19T08:52:01.500Z"
   },
   {
    "duration": 0,
    "start_time": "2022-05-19T08:52:01.504Z"
   },
   {
    "duration": 0,
    "start_time": "2022-05-19T08:52:01.505Z"
   },
   {
    "duration": 0,
    "start_time": "2022-05-19T08:52:01.507Z"
   },
   {
    "duration": 0,
    "start_time": "2022-05-19T08:52:01.508Z"
   },
   {
    "duration": 0,
    "start_time": "2022-05-19T08:52:01.514Z"
   },
   {
    "duration": 0,
    "start_time": "2022-05-19T08:52:01.515Z"
   },
   {
    "duration": 1306,
    "start_time": "2022-05-19T08:52:28.125Z"
   },
   {
    "duration": 457,
    "start_time": "2022-05-19T08:52:29.434Z"
   },
   {
    "duration": 4,
    "start_time": "2022-05-19T08:52:29.892Z"
   },
   {
    "duration": 109,
    "start_time": "2022-05-19T08:52:29.897Z"
   },
   {
    "duration": 78,
    "start_time": "2022-05-19T08:52:30.010Z"
   },
   {
    "duration": 40,
    "start_time": "2022-05-19T08:52:30.090Z"
   },
   {
    "duration": 56,
    "start_time": "2022-05-19T08:52:30.132Z"
   },
   {
    "duration": 25,
    "start_time": "2022-05-19T08:52:30.189Z"
   },
   {
    "duration": 16,
    "start_time": "2022-05-19T08:52:30.216Z"
   },
   {
    "duration": 98,
    "start_time": "2022-05-19T08:52:30.234Z"
   },
   {
    "duration": 6,
    "start_time": "2022-05-19T08:52:30.335Z"
   },
   {
    "duration": 0,
    "start_time": "2022-05-19T08:52:30.344Z"
   },
   {
    "duration": 0,
    "start_time": "2022-05-19T08:52:30.345Z"
   },
   {
    "duration": 0,
    "start_time": "2022-05-19T08:52:30.346Z"
   },
   {
    "duration": 0,
    "start_time": "2022-05-19T08:52:30.371Z"
   },
   {
    "duration": 0,
    "start_time": "2022-05-19T08:52:30.373Z"
   },
   {
    "duration": 0,
    "start_time": "2022-05-19T08:52:30.374Z"
   },
   {
    "duration": 0,
    "start_time": "2022-05-19T08:52:30.375Z"
   },
   {
    "duration": 0,
    "start_time": "2022-05-19T08:52:30.376Z"
   },
   {
    "duration": 0,
    "start_time": "2022-05-19T08:52:30.377Z"
   },
   {
    "duration": 0,
    "start_time": "2022-05-19T08:52:30.378Z"
   },
   {
    "duration": 0,
    "start_time": "2022-05-19T08:52:30.381Z"
   },
   {
    "duration": 0,
    "start_time": "2022-05-19T08:52:30.382Z"
   },
   {
    "duration": 0,
    "start_time": "2022-05-19T08:52:30.383Z"
   },
   {
    "duration": 1210,
    "start_time": "2022-05-19T08:54:30.287Z"
   },
   {
    "duration": 454,
    "start_time": "2022-05-19T08:54:31.499Z"
   },
   {
    "duration": 4,
    "start_time": "2022-05-19T08:54:31.955Z"
   },
   {
    "duration": 128,
    "start_time": "2022-05-19T08:54:31.961Z"
   },
   {
    "duration": 73,
    "start_time": "2022-05-19T08:54:32.091Z"
   },
   {
    "duration": 39,
    "start_time": "2022-05-19T08:54:32.166Z"
   },
   {
    "duration": 25,
    "start_time": "2022-05-19T08:54:32.207Z"
   },
   {
    "duration": 49,
    "start_time": "2022-05-19T08:54:32.239Z"
   },
   {
    "duration": 5,
    "start_time": "2022-05-19T08:54:32.290Z"
   },
   {
    "duration": 96,
    "start_time": "2022-05-19T08:54:32.298Z"
   },
   {
    "duration": 6,
    "start_time": "2022-05-19T08:54:32.396Z"
   },
   {
    "duration": 0,
    "start_time": "2022-05-19T08:54:32.404Z"
   },
   {
    "duration": 0,
    "start_time": "2022-05-19T08:54:32.405Z"
   },
   {
    "duration": 0,
    "start_time": "2022-05-19T08:54:32.407Z"
   },
   {
    "duration": 0,
    "start_time": "2022-05-19T08:54:32.408Z"
   },
   {
    "duration": 0,
    "start_time": "2022-05-19T08:54:32.409Z"
   },
   {
    "duration": 0,
    "start_time": "2022-05-19T08:54:32.410Z"
   },
   {
    "duration": 0,
    "start_time": "2022-05-19T08:54:32.412Z"
   },
   {
    "duration": 0,
    "start_time": "2022-05-19T08:54:32.413Z"
   },
   {
    "duration": 0,
    "start_time": "2022-05-19T08:54:32.414Z"
   },
   {
    "duration": 0,
    "start_time": "2022-05-19T08:54:32.415Z"
   },
   {
    "duration": 0,
    "start_time": "2022-05-19T08:54:32.417Z"
   },
   {
    "duration": 0,
    "start_time": "2022-05-19T08:54:32.418Z"
   },
   {
    "duration": 0,
    "start_time": "2022-05-19T08:54:32.420Z"
   },
   {
    "duration": 1179,
    "start_time": "2022-05-19T08:57:55.203Z"
   },
   {
    "duration": 444,
    "start_time": "2022-05-19T08:57:56.384Z"
   },
   {
    "duration": 4,
    "start_time": "2022-05-19T08:57:56.832Z"
   },
   {
    "duration": 112,
    "start_time": "2022-05-19T08:57:56.838Z"
   },
   {
    "duration": 52,
    "start_time": "2022-05-19T08:57:56.952Z"
   },
   {
    "duration": 66,
    "start_time": "2022-05-19T08:57:57.006Z"
   },
   {
    "duration": 25,
    "start_time": "2022-05-19T08:57:57.074Z"
   },
   {
    "duration": 29,
    "start_time": "2022-05-19T08:57:57.101Z"
   },
   {
    "duration": 35,
    "start_time": "2022-05-19T08:57:57.132Z"
   },
   {
    "duration": 77,
    "start_time": "2022-05-19T08:57:57.169Z"
   },
   {
    "duration": 5,
    "start_time": "2022-05-19T08:57:57.248Z"
   },
   {
    "duration": 439,
    "start_time": "2022-05-19T08:57:57.265Z"
   },
   {
    "duration": 410,
    "start_time": "2022-05-19T08:57:57.707Z"
   },
   {
    "duration": 12,
    "start_time": "2022-05-19T08:57:58.120Z"
   },
   {
    "duration": 8,
    "start_time": "2022-05-19T08:57:58.134Z"
   },
   {
    "duration": 65,
    "start_time": "2022-05-19T08:57:58.145Z"
   },
   {
    "duration": 29,
    "start_time": "2022-05-19T08:57:58.212Z"
   },
   {
    "duration": 626,
    "start_time": "2022-05-19T08:57:58.243Z"
   },
   {
    "duration": 721,
    "start_time": "2022-05-19T08:57:58.871Z"
   },
   {
    "duration": 72,
    "start_time": "2022-05-19T08:57:59.594Z"
   },
   {
    "duration": 321,
    "start_time": "2022-05-19T08:57:59.668Z"
   },
   {
    "duration": 4,
    "start_time": "2022-05-19T08:57:59.991Z"
   },
   {
    "duration": 96,
    "start_time": "2022-05-19T08:57:59.996Z"
   },
   {
    "duration": 75,
    "start_time": "2022-05-19T08:58:00.094Z"
   },
   {
    "duration": 17,
    "start_time": "2022-05-19T09:00:41.607Z"
   },
   {
    "duration": 1077,
    "start_time": "2022-05-19T09:02:14.828Z"
   },
   {
    "duration": 422,
    "start_time": "2022-05-19T09:02:15.907Z"
   },
   {
    "duration": 4,
    "start_time": "2022-05-19T09:02:16.331Z"
   },
   {
    "duration": 104,
    "start_time": "2022-05-19T09:02:16.338Z"
   },
   {
    "duration": 64,
    "start_time": "2022-05-19T09:02:16.444Z"
   },
   {
    "duration": 39,
    "start_time": "2022-05-19T09:02:16.510Z"
   },
   {
    "duration": 41,
    "start_time": "2022-05-19T09:02:16.550Z"
   },
   {
    "duration": 28,
    "start_time": "2022-05-19T09:02:16.593Z"
   },
   {
    "duration": 3,
    "start_time": "2022-05-19T09:02:16.623Z"
   },
   {
    "duration": 106,
    "start_time": "2022-05-19T09:02:16.629Z"
   },
   {
    "duration": 5,
    "start_time": "2022-05-19T09:02:16.736Z"
   },
   {
    "duration": 444,
    "start_time": "2022-05-19T09:02:16.743Z"
   },
   {
    "duration": 419,
    "start_time": "2022-05-19T09:02:17.189Z"
   },
   {
    "duration": 11,
    "start_time": "2022-05-19T09:02:17.610Z"
   },
   {
    "duration": 8,
    "start_time": "2022-05-19T09:02:17.623Z"
   },
   {
    "duration": 68,
    "start_time": "2022-05-19T09:02:17.633Z"
   },
   {
    "duration": 243,
    "start_time": "2022-05-19T09:02:17.703Z"
   },
   {
    "duration": 333,
    "start_time": "2022-05-19T09:02:17.948Z"
   },
   {
    "duration": 18,
    "start_time": "2022-05-19T09:02:18.283Z"
   },
   {
    "duration": 38,
    "start_time": "2022-05-19T09:02:18.303Z"
   },
   {
    "duration": 207,
    "start_time": "2022-05-19T09:02:18.343Z"
   },
   {
    "duration": 612,
    "start_time": "2022-05-19T09:13:44.894Z"
   },
   {
    "duration": 318,
    "start_time": "2022-05-19T09:14:07.744Z"
   },
   {
    "duration": 316,
    "start_time": "2022-05-19T09:14:17.918Z"
   },
   {
    "duration": 6,
    "start_time": "2022-05-19T09:16:06.821Z"
   },
   {
    "duration": 434,
    "start_time": "2022-05-19T09:16:12.822Z"
   },
   {
    "duration": 14,
    "start_time": "2022-05-19T09:28:50.670Z"
   },
   {
    "duration": 39,
    "start_time": "2022-05-19T09:29:34.715Z"
   },
   {
    "duration": 1208,
    "start_time": "2022-05-19T09:39:23.682Z"
   },
   {
    "duration": 451,
    "start_time": "2022-05-19T09:39:24.894Z"
   },
   {
    "duration": 4,
    "start_time": "2022-05-19T09:39:25.347Z"
   },
   {
    "duration": 130,
    "start_time": "2022-05-19T09:39:25.352Z"
   },
   {
    "duration": 115,
    "start_time": "2022-05-19T09:39:25.486Z"
   },
   {
    "duration": 97,
    "start_time": "2022-05-19T09:39:25.603Z"
   },
   {
    "duration": 84,
    "start_time": "2022-05-19T09:39:25.702Z"
   },
   {
    "duration": 20,
    "start_time": "2022-05-19T09:39:25.788Z"
   },
   {
    "duration": 55,
    "start_time": "2022-05-19T09:39:25.810Z"
   },
   {
    "duration": 134,
    "start_time": "2022-05-19T09:39:25.868Z"
   },
   {
    "duration": 4,
    "start_time": "2022-05-19T09:39:26.004Z"
   },
   {
    "duration": 998,
    "start_time": "2022-05-19T09:39:26.010Z"
   },
   {
    "duration": 999,
    "start_time": "2022-05-19T09:39:27.010Z"
   },
   {
    "duration": 64,
    "start_time": "2022-05-19T09:39:28.012Z"
   },
   {
    "duration": 21,
    "start_time": "2022-05-19T09:39:28.078Z"
   },
   {
    "duration": 113,
    "start_time": "2022-05-19T09:39:28.102Z"
   },
   {
    "duration": 282,
    "start_time": "2022-05-19T09:39:28.217Z"
   },
   {
    "duration": 361,
    "start_time": "2022-05-19T09:39:28.501Z"
   },
   {
    "duration": 28,
    "start_time": "2022-05-19T09:39:28.864Z"
   },
   {
    "duration": 61,
    "start_time": "2022-05-19T09:39:28.894Z"
   },
   {
    "duration": 251,
    "start_time": "2022-05-19T09:39:28.957Z"
   },
   {
    "duration": 7,
    "start_time": "2022-05-19T09:39:29.210Z"
   },
   {
    "duration": 70,
    "start_time": "2022-05-19T09:39:29.219Z"
   },
   {
    "duration": 6,
    "start_time": "2022-05-19T09:44:15.348Z"
   },
   {
    "duration": 51,
    "start_time": "2022-05-19T09:45:41.982Z"
   },
   {
    "duration": 127,
    "start_time": "2022-05-19T09:48:00.440Z"
   },
   {
    "duration": 33,
    "start_time": "2022-05-19T09:48:30.709Z"
   },
   {
    "duration": 47,
    "start_time": "2022-05-19T09:48:37.567Z"
   },
   {
    "duration": 31,
    "start_time": "2022-05-19T09:48:41.861Z"
   },
   {
    "duration": 31,
    "start_time": "2022-05-19T09:48:46.366Z"
   },
   {
    "duration": 51,
    "start_time": "2022-05-19T09:49:23.473Z"
   },
   {
    "duration": 37,
    "start_time": "2022-05-19T10:04:34.748Z"
   },
   {
    "duration": 28,
    "start_time": "2022-05-19T10:04:39.195Z"
   },
   {
    "duration": 61,
    "start_time": "2022-05-19T10:04:48.028Z"
   },
   {
    "duration": 68,
    "start_time": "2022-05-19T10:04:56.374Z"
   },
   {
    "duration": 53,
    "start_time": "2022-05-19T10:06:19.907Z"
   },
   {
    "duration": 72,
    "start_time": "2022-05-19T10:06:31.297Z"
   },
   {
    "duration": 267,
    "start_time": "2022-05-19T10:08:02.851Z"
   },
   {
    "duration": 37,
    "start_time": "2022-05-19T10:08:14.914Z"
   },
   {
    "duration": 1153,
    "start_time": "2022-05-19T10:08:53.331Z"
   },
   {
    "duration": 413,
    "start_time": "2022-05-19T10:08:54.486Z"
   },
   {
    "duration": 4,
    "start_time": "2022-05-19T10:08:54.901Z"
   },
   {
    "duration": 104,
    "start_time": "2022-05-19T10:08:54.907Z"
   },
   {
    "duration": 68,
    "start_time": "2022-05-19T10:08:55.013Z"
   },
   {
    "duration": 40,
    "start_time": "2022-05-19T10:08:55.083Z"
   },
   {
    "duration": 47,
    "start_time": "2022-05-19T10:08:55.124Z"
   },
   {
    "duration": 27,
    "start_time": "2022-05-19T10:08:55.177Z"
   },
   {
    "duration": 5,
    "start_time": "2022-05-19T10:08:55.206Z"
   },
   {
    "duration": 97,
    "start_time": "2022-05-19T10:08:55.214Z"
   },
   {
    "duration": 5,
    "start_time": "2022-05-19T10:08:55.313Z"
   },
   {
    "duration": 457,
    "start_time": "2022-05-19T10:08:55.320Z"
   },
   {
    "duration": 413,
    "start_time": "2022-05-19T10:08:55.785Z"
   },
   {
    "duration": 12,
    "start_time": "2022-05-19T10:08:56.200Z"
   },
   {
    "duration": 9,
    "start_time": "2022-05-19T10:08:56.214Z"
   },
   {
    "duration": 95,
    "start_time": "2022-05-19T10:08:56.225Z"
   },
   {
    "duration": 248,
    "start_time": "2022-05-19T10:08:56.322Z"
   },
   {
    "duration": 323,
    "start_time": "2022-05-19T10:08:56.574Z"
   },
   {
    "duration": 19,
    "start_time": "2022-05-19T10:08:56.898Z"
   },
   {
    "duration": 62,
    "start_time": "2022-05-19T10:08:56.918Z"
   },
   {
    "duration": 203,
    "start_time": "2022-05-19T10:08:56.983Z"
   },
   {
    "duration": 6,
    "start_time": "2022-05-19T10:08:57.187Z"
   },
   {
    "duration": 41,
    "start_time": "2022-05-19T10:08:57.194Z"
   },
   {
    "duration": 4,
    "start_time": "2022-05-19T10:08:57.237Z"
   },
   {
    "duration": 85,
    "start_time": "2022-05-19T10:08:57.243Z"
   },
   {
    "duration": 50,
    "start_time": "2022-05-19T10:08:57.330Z"
   },
   {
    "duration": 76,
    "start_time": "2022-05-19T10:10:02.162Z"
   },
   {
    "duration": 34,
    "start_time": "2022-05-19T10:10:05.689Z"
   },
   {
    "duration": 145,
    "start_time": "2022-05-19T10:11:24.202Z"
   },
   {
    "duration": 34,
    "start_time": "2022-05-19T10:11:56.175Z"
   },
   {
    "duration": 43,
    "start_time": "2022-05-19T10:12:22.959Z"
   },
   {
    "duration": 33,
    "start_time": "2022-05-19T10:12:31.406Z"
   },
   {
    "duration": 35,
    "start_time": "2022-05-19T10:13:30.418Z"
   },
   {
    "duration": 648,
    "start_time": "2022-05-19T10:15:20.090Z"
   },
   {
    "duration": 34,
    "start_time": "2022-05-19T10:15:46.410Z"
   },
   {
    "duration": 12,
    "start_time": "2022-05-19T10:28:36.298Z"
   },
   {
    "duration": 21,
    "start_time": "2022-05-19T10:28:46.398Z"
   },
   {
    "duration": 9,
    "start_time": "2022-05-19T10:29:56.420Z"
   },
   {
    "duration": 10,
    "start_time": "2022-05-19T10:30:55.452Z"
   },
   {
    "duration": 12,
    "start_time": "2022-05-19T10:31:01.118Z"
   },
   {
    "duration": 12,
    "start_time": "2022-05-19T10:32:42.219Z"
   },
   {
    "duration": 25,
    "start_time": "2022-05-19T10:33:40.532Z"
   },
   {
    "duration": 34,
    "start_time": "2022-05-19T10:33:47.192Z"
   },
   {
    "duration": 8,
    "start_time": "2022-05-19T10:34:51.677Z"
   },
   {
    "duration": 13,
    "start_time": "2022-05-19T10:34:57.472Z"
   },
   {
    "duration": 13,
    "start_time": "2022-05-19T10:39:12.545Z"
   },
   {
    "duration": 1147,
    "start_time": "2022-05-19T10:39:27.519Z"
   },
   {
    "duration": 449,
    "start_time": "2022-05-19T10:39:28.668Z"
   },
   {
    "duration": 4,
    "start_time": "2022-05-19T10:39:29.120Z"
   },
   {
    "duration": 107,
    "start_time": "2022-05-19T10:39:29.126Z"
   },
   {
    "duration": 57,
    "start_time": "2022-05-19T10:39:29.235Z"
   },
   {
    "duration": 41,
    "start_time": "2022-05-19T10:39:29.294Z"
   },
   {
    "duration": 48,
    "start_time": "2022-05-19T10:39:29.337Z"
   },
   {
    "duration": 22,
    "start_time": "2022-05-19T10:39:29.386Z"
   },
   {
    "duration": 3,
    "start_time": "2022-05-19T10:39:29.410Z"
   },
   {
    "duration": 99,
    "start_time": "2022-05-19T10:39:29.415Z"
   },
   {
    "duration": 4,
    "start_time": "2022-05-19T10:39:29.516Z"
   },
   {
    "duration": 395,
    "start_time": "2022-05-19T10:39:29.521Z"
   },
   {
    "duration": 414,
    "start_time": "2022-05-19T10:39:29.917Z"
   },
   {
    "duration": 11,
    "start_time": "2022-05-19T10:39:30.333Z"
   },
   {
    "duration": 21,
    "start_time": "2022-05-19T10:39:30.346Z"
   },
   {
    "duration": 48,
    "start_time": "2022-05-19T10:39:30.368Z"
   },
   {
    "duration": 255,
    "start_time": "2022-05-19T10:39:30.418Z"
   },
   {
    "duration": 312,
    "start_time": "2022-05-19T10:39:30.674Z"
   },
   {
    "duration": 21,
    "start_time": "2022-05-19T10:39:30.988Z"
   },
   {
    "duration": 78,
    "start_time": "2022-05-19T10:39:31.012Z"
   },
   {
    "duration": 208,
    "start_time": "2022-05-19T10:39:31.092Z"
   },
   {
    "duration": 6,
    "start_time": "2022-05-19T10:39:31.302Z"
   },
   {
    "duration": 56,
    "start_time": "2022-05-19T10:39:31.310Z"
   },
   {
    "duration": 5,
    "start_time": "2022-05-19T10:39:31.368Z"
   },
   {
    "duration": 75,
    "start_time": "2022-05-19T10:39:31.375Z"
   },
   {
    "duration": 36,
    "start_time": "2022-05-19T10:39:31.465Z"
   },
   {
    "duration": 32,
    "start_time": "2022-05-19T10:39:31.503Z"
   },
   {
    "duration": 139,
    "start_time": "2022-05-19T10:39:31.538Z"
   },
   {
    "duration": 24,
    "start_time": "2022-05-19T10:40:01.568Z"
   },
   {
    "duration": 20,
    "start_time": "2022-05-19T10:40:23.760Z"
   },
   {
    "duration": 19,
    "start_time": "2022-05-19T10:40:48.226Z"
   },
   {
    "duration": 16,
    "start_time": "2022-05-19T10:41:28.769Z"
   },
   {
    "duration": 16,
    "start_time": "2022-05-19T10:41:44.315Z"
   },
   {
    "duration": 24,
    "start_time": "2022-05-19T10:42:57.155Z"
   },
   {
    "duration": 11,
    "start_time": "2022-05-19T10:43:27.565Z"
   },
   {
    "duration": 11,
    "start_time": "2022-05-19T10:43:49.833Z"
   },
   {
    "duration": 1075,
    "start_time": "2022-05-19T10:43:55.392Z"
   },
   {
    "duration": 413,
    "start_time": "2022-05-19T10:43:56.469Z"
   },
   {
    "duration": 5,
    "start_time": "2022-05-19T10:43:56.885Z"
   },
   {
    "duration": 103,
    "start_time": "2022-05-19T10:43:56.894Z"
   },
   {
    "duration": 87,
    "start_time": "2022-05-19T10:43:56.999Z"
   },
   {
    "duration": 48,
    "start_time": "2022-05-19T10:43:57.089Z"
   },
   {
    "duration": 52,
    "start_time": "2022-05-19T10:43:57.138Z"
   },
   {
    "duration": 21,
    "start_time": "2022-05-19T10:43:57.192Z"
   },
   {
    "duration": 4,
    "start_time": "2022-05-19T10:43:57.215Z"
   },
   {
    "duration": 102,
    "start_time": "2022-05-19T10:43:57.222Z"
   },
   {
    "duration": 6,
    "start_time": "2022-05-19T10:43:57.327Z"
   },
   {
    "duration": 439,
    "start_time": "2022-05-19T10:43:57.335Z"
   },
   {
    "duration": 412,
    "start_time": "2022-05-19T10:43:57.776Z"
   },
   {
    "duration": 16,
    "start_time": "2022-05-19T10:43:58.190Z"
   },
   {
    "duration": 10,
    "start_time": "2022-05-19T10:43:58.208Z"
   },
   {
    "duration": 84,
    "start_time": "2022-05-19T10:43:58.220Z"
   },
   {
    "duration": 221,
    "start_time": "2022-05-19T10:43:58.306Z"
   },
   {
    "duration": 323,
    "start_time": "2022-05-19T10:43:58.529Z"
   },
   {
    "duration": 29,
    "start_time": "2022-05-19T10:43:58.854Z"
   },
   {
    "duration": 51,
    "start_time": "2022-05-19T10:43:58.886Z"
   },
   {
    "duration": 266,
    "start_time": "2022-05-19T10:43:58.939Z"
   },
   {
    "duration": 6,
    "start_time": "2022-05-19T10:43:59.206Z"
   },
   {
    "duration": 35,
    "start_time": "2022-05-19T10:43:59.214Z"
   },
   {
    "duration": 17,
    "start_time": "2022-05-19T10:43:59.250Z"
   },
   {
    "duration": 91,
    "start_time": "2022-05-19T10:43:59.268Z"
   },
   {
    "duration": 34,
    "start_time": "2022-05-19T10:43:59.360Z"
   },
   {
    "duration": 30,
    "start_time": "2022-05-19T10:43:59.397Z"
   },
   {
    "duration": 136,
    "start_time": "2022-05-19T10:43:59.430Z"
   },
   {
    "duration": 0,
    "start_time": "2022-05-19T10:43:59.567Z"
   },
   {
    "duration": 15,
    "start_time": "2022-05-19T10:44:09.755Z"
   },
   {
    "duration": 13,
    "start_time": "2022-05-19T10:44:18.304Z"
   },
   {
    "duration": 13,
    "start_time": "2022-05-19T10:44:35.058Z"
   },
   {
    "duration": 37,
    "start_time": "2022-05-19T10:44:43.683Z"
   },
   {
    "duration": 12,
    "start_time": "2022-05-19T10:49:55.669Z"
   },
   {
    "duration": 13,
    "start_time": "2022-05-19T10:50:30.602Z"
   },
   {
    "duration": 29,
    "start_time": "2022-05-19T10:51:59.746Z"
   },
   {
    "duration": 15,
    "start_time": "2022-05-19T10:52:24.872Z"
   },
   {
    "duration": 38,
    "start_time": "2022-05-19T10:52:26.965Z"
   },
   {
    "duration": 44,
    "start_time": "2022-05-19T10:52:50.896Z"
   },
   {
    "duration": 43,
    "start_time": "2022-05-19T10:53:01.574Z"
   },
   {
    "duration": 11,
    "start_time": "2022-05-19T10:55:45.772Z"
   },
   {
    "duration": 13,
    "start_time": "2022-05-19T10:57:18.221Z"
   },
   {
    "duration": 11,
    "start_time": "2022-05-19T10:57:52.851Z"
   },
   {
    "duration": 13,
    "start_time": "2022-05-19T10:57:58.602Z"
   },
   {
    "duration": 10,
    "start_time": "2022-05-19T11:03:18.637Z"
   },
   {
    "duration": 14,
    "start_time": "2022-05-19T11:03:24.511Z"
   },
   {
    "duration": 10,
    "start_time": "2022-05-19T11:04:00.619Z"
   },
   {
    "duration": 22,
    "start_time": "2022-05-19T11:04:06.815Z"
   },
   {
    "duration": 10,
    "start_time": "2022-05-19T11:04:31.102Z"
   },
   {
    "duration": 10,
    "start_time": "2022-05-19T11:07:08.128Z"
   },
   {
    "duration": 11,
    "start_time": "2022-05-19T11:07:12.105Z"
   },
   {
    "duration": 15,
    "start_time": "2022-05-19T11:07:14.233Z"
   },
   {
    "duration": 10,
    "start_time": "2022-05-19T11:09:01.314Z"
   },
   {
    "duration": 15,
    "start_time": "2022-05-19T11:09:10.495Z"
   },
   {
    "duration": 14,
    "start_time": "2022-05-19T11:11:35.873Z"
   },
   {
    "duration": 6,
    "start_time": "2022-05-19T11:11:43.765Z"
   },
   {
    "duration": 13,
    "start_time": "2022-05-19T11:12:00.605Z"
   },
   {
    "duration": 20,
    "start_time": "2022-05-19T11:12:05.628Z"
   },
   {
    "duration": 14,
    "start_time": "2022-05-19T11:14:00.364Z"
   },
   {
    "duration": 17,
    "start_time": "2022-05-19T11:16:46.695Z"
   },
   {
    "duration": 35,
    "start_time": "2022-05-19T11:19:01.082Z"
   },
   {
    "duration": 40,
    "start_time": "2022-05-19T11:19:51.264Z"
   },
   {
    "duration": 33,
    "start_time": "2022-05-19T11:19:57.289Z"
   },
   {
    "duration": 17,
    "start_time": "2022-05-19T11:20:54.560Z"
   },
   {
    "duration": 23,
    "start_time": "2022-05-19T11:21:19.563Z"
   },
   {
    "duration": 15,
    "start_time": "2022-05-19T11:21:35.981Z"
   },
   {
    "duration": 28,
    "start_time": "2022-05-19T11:21:42.688Z"
   },
   {
    "duration": 37,
    "start_time": "2022-05-19T11:22:13.001Z"
   },
   {
    "duration": 32,
    "start_time": "2022-05-19T11:22:58.654Z"
   },
   {
    "duration": 129,
    "start_time": "2022-05-19T11:23:05.348Z"
   },
   {
    "duration": 41,
    "start_time": "2022-05-19T11:24:42.918Z"
   },
   {
    "duration": 6,
    "start_time": "2022-05-19T11:26:08.224Z"
   },
   {
    "duration": 41,
    "start_time": "2022-05-19T11:26:21.105Z"
   },
   {
    "duration": 49,
    "start_time": "2022-05-19T11:28:11.627Z"
   },
   {
    "duration": 18,
    "start_time": "2022-05-19T11:30:03.276Z"
   },
   {
    "duration": 34,
    "start_time": "2022-05-19T11:30:39.352Z"
   },
   {
    "duration": 33,
    "start_time": "2022-05-19T11:33:11.212Z"
   },
   {
    "duration": 28,
    "start_time": "2022-05-19T11:38:16.618Z"
   },
   {
    "duration": 1167,
    "start_time": "2022-05-19T11:38:32.419Z"
   },
   {
    "duration": 448,
    "start_time": "2022-05-19T11:38:33.589Z"
   },
   {
    "duration": 4,
    "start_time": "2022-05-19T11:38:34.039Z"
   },
   {
    "duration": 100,
    "start_time": "2022-05-19T11:38:34.045Z"
   },
   {
    "duration": 53,
    "start_time": "2022-05-19T11:38:34.147Z"
   },
   {
    "duration": 40,
    "start_time": "2022-05-19T11:38:34.202Z"
   },
   {
    "duration": 49,
    "start_time": "2022-05-19T11:38:34.243Z"
   },
   {
    "duration": 21,
    "start_time": "2022-05-19T11:38:34.294Z"
   },
   {
    "duration": 4,
    "start_time": "2022-05-19T11:38:34.317Z"
   },
   {
    "duration": 88,
    "start_time": "2022-05-19T11:38:34.364Z"
   },
   {
    "duration": 5,
    "start_time": "2022-05-19T11:38:34.454Z"
   },
   {
    "duration": 819,
    "start_time": "2022-05-19T11:38:34.461Z"
   },
   {
    "duration": 811,
    "start_time": "2022-05-19T11:38:35.281Z"
   },
   {
    "duration": 12,
    "start_time": "2022-05-19T11:38:36.094Z"
   },
   {
    "duration": 63,
    "start_time": "2022-05-19T11:38:36.108Z"
   },
   {
    "duration": 110,
    "start_time": "2022-05-19T11:38:36.173Z"
   },
   {
    "duration": 530,
    "start_time": "2022-05-19T11:38:36.284Z"
   },
   {
    "duration": 358,
    "start_time": "2022-05-19T11:38:36.815Z"
   },
   {
    "duration": 20,
    "start_time": "2022-05-19T11:38:37.175Z"
   },
   {
    "duration": 40,
    "start_time": "2022-05-19T11:38:37.197Z"
   },
   {
    "duration": 274,
    "start_time": "2022-05-19T11:38:37.239Z"
   },
   {
    "duration": 8,
    "start_time": "2022-05-19T11:38:37.515Z"
   },
   {
    "duration": 68,
    "start_time": "2022-05-19T11:38:37.525Z"
   },
   {
    "duration": 6,
    "start_time": "2022-05-19T11:38:37.595Z"
   },
   {
    "duration": 98,
    "start_time": "2022-05-19T11:38:37.603Z"
   },
   {
    "duration": 39,
    "start_time": "2022-05-19T11:38:37.703Z"
   },
   {
    "duration": 53,
    "start_time": "2022-05-19T11:38:37.744Z"
   },
   {
    "duration": 132,
    "start_time": "2022-05-19T11:38:37.800Z"
   },
   {
    "duration": 0,
    "start_time": "2022-05-19T11:38:37.934Z"
   },
   {
    "duration": 0,
    "start_time": "2022-05-19T11:38:37.935Z"
   },
   {
    "duration": 12,
    "start_time": "2022-05-19T11:41:09.252Z"
   },
   {
    "duration": 25,
    "start_time": "2022-05-19T11:41:14.652Z"
   },
   {
    "duration": 26,
    "start_time": "2022-05-19T11:42:10.612Z"
   },
   {
    "duration": 39,
    "start_time": "2022-05-19T11:42:38.274Z"
   },
   {
    "duration": 42,
    "start_time": "2022-05-19T11:42:49.958Z"
   },
   {
    "duration": 38,
    "start_time": "2022-05-19T11:43:17.311Z"
   },
   {
    "duration": 31,
    "start_time": "2022-05-19T11:45:10.708Z"
   },
   {
    "duration": 29,
    "start_time": "2022-05-19T11:45:35.487Z"
   },
   {
    "duration": 32,
    "start_time": "2022-05-19T11:45:45.774Z"
   },
   {
    "duration": 125,
    "start_time": "2022-05-19T11:48:19.696Z"
   },
   {
    "duration": 38,
    "start_time": "2022-05-19T11:48:31.838Z"
   },
   {
    "duration": 34,
    "start_time": "2022-05-19T11:48:53.015Z"
   },
   {
    "duration": 36,
    "start_time": "2022-05-19T11:50:47.166Z"
   },
   {
    "duration": 42,
    "start_time": "2022-05-19T11:50:54.065Z"
   },
   {
    "duration": 27,
    "start_time": "2022-05-19T11:52:14.966Z"
   },
   {
    "duration": 42,
    "start_time": "2022-05-19T11:52:24.799Z"
   },
   {
    "duration": 46,
    "start_time": "2022-05-19T11:52:36.863Z"
   },
   {
    "duration": 9,
    "start_time": "2022-05-19T11:53:09.040Z"
   },
   {
    "duration": 1173,
    "start_time": "2022-05-19T11:53:15.026Z"
   },
   {
    "duration": 450,
    "start_time": "2022-05-19T11:53:16.201Z"
   },
   {
    "duration": 4,
    "start_time": "2022-05-19T11:53:16.653Z"
   },
   {
    "duration": 120,
    "start_time": "2022-05-19T11:53:16.659Z"
   },
   {
    "duration": 47,
    "start_time": "2022-05-19T11:53:16.781Z"
   },
   {
    "duration": 63,
    "start_time": "2022-05-19T11:53:16.830Z"
   },
   {
    "duration": 24,
    "start_time": "2022-05-19T11:53:16.895Z"
   },
   {
    "duration": 56,
    "start_time": "2022-05-19T11:53:16.921Z"
   },
   {
    "duration": 4,
    "start_time": "2022-05-19T11:53:16.980Z"
   },
   {
    "duration": 72,
    "start_time": "2022-05-19T11:53:16.987Z"
   },
   {
    "duration": 14,
    "start_time": "2022-05-19T11:53:17.060Z"
   },
   {
    "duration": 470,
    "start_time": "2022-05-19T11:53:17.077Z"
   },
   {
    "duration": 408,
    "start_time": "2022-05-19T11:53:17.549Z"
   },
   {
    "duration": 17,
    "start_time": "2022-05-19T11:53:17.965Z"
   },
   {
    "duration": 18,
    "start_time": "2022-05-19T11:53:17.984Z"
   },
   {
    "duration": 47,
    "start_time": "2022-05-19T11:53:18.004Z"
   },
   {
    "duration": 263,
    "start_time": "2022-05-19T11:53:18.053Z"
   },
   {
    "duration": 356,
    "start_time": "2022-05-19T11:53:18.319Z"
   },
   {
    "duration": 21,
    "start_time": "2022-05-19T11:53:18.676Z"
   },
   {
    "duration": 38,
    "start_time": "2022-05-19T11:53:18.699Z"
   },
   {
    "duration": 279,
    "start_time": "2022-05-19T11:53:18.740Z"
   },
   {
    "duration": 10,
    "start_time": "2022-05-19T11:53:19.022Z"
   },
   {
    "duration": 74,
    "start_time": "2022-05-19T11:53:19.034Z"
   },
   {
    "duration": 6,
    "start_time": "2022-05-19T11:53:19.111Z"
   },
   {
    "duration": 114,
    "start_time": "2022-05-19T11:53:19.121Z"
   },
   {
    "duration": 61,
    "start_time": "2022-05-19T11:53:19.237Z"
   },
   {
    "duration": 40,
    "start_time": "2022-05-19T11:53:19.300Z"
   },
   {
    "duration": 24,
    "start_time": "2022-05-19T11:53:19.369Z"
   },
   {
    "duration": 163,
    "start_time": "2022-05-19T11:53:19.395Z"
   },
   {
    "duration": 0,
    "start_time": "2022-05-19T11:53:19.559Z"
   },
   {
    "duration": 16,
    "start_time": "2022-05-19T11:54:08.980Z"
   },
   {
    "duration": 39,
    "start_time": "2022-05-19T11:54:11.100Z"
   },
   {
    "duration": 12,
    "start_time": "2022-05-19T11:56:28.806Z"
   },
   {
    "duration": 42,
    "start_time": "2022-05-19T11:56:47.762Z"
   },
   {
    "duration": 34,
    "start_time": "2022-05-19T11:59:43.456Z"
   },
   {
    "duration": 66,
    "start_time": "2022-05-19T12:01:09.320Z"
   },
   {
    "duration": 64,
    "start_time": "2022-05-19T12:01:52.924Z"
   },
   {
    "duration": 78,
    "start_time": "2022-05-19T12:02:12.759Z"
   },
   {
    "duration": 282,
    "start_time": "2022-05-19T12:03:02.820Z"
   },
   {
    "duration": 1197,
    "start_time": "2022-05-19T12:03:16.699Z"
   },
   {
    "duration": 449,
    "start_time": "2022-05-19T12:03:17.898Z"
   },
   {
    "duration": 4,
    "start_time": "2022-05-19T12:03:18.349Z"
   },
   {
    "duration": 125,
    "start_time": "2022-05-19T12:03:18.355Z"
   },
   {
    "duration": 48,
    "start_time": "2022-05-19T12:03:18.482Z"
   },
   {
    "duration": 68,
    "start_time": "2022-05-19T12:03:18.533Z"
   },
   {
    "duration": 24,
    "start_time": "2022-05-19T12:03:18.603Z"
   },
   {
    "duration": 54,
    "start_time": "2022-05-19T12:03:18.629Z"
   },
   {
    "duration": 15,
    "start_time": "2022-05-19T12:03:18.686Z"
   },
   {
    "duration": 93,
    "start_time": "2022-05-19T12:03:18.704Z"
   },
   {
    "duration": 5,
    "start_time": "2022-05-19T12:03:18.798Z"
   },
   {
    "duration": 501,
    "start_time": "2022-05-19T12:03:18.804Z"
   },
   {
    "duration": 407,
    "start_time": "2022-05-19T12:03:19.307Z"
   },
   {
    "duration": 11,
    "start_time": "2022-05-19T12:03:19.716Z"
   },
   {
    "duration": 9,
    "start_time": "2022-05-19T12:03:19.729Z"
   },
   {
    "duration": 83,
    "start_time": "2022-05-19T12:03:19.740Z"
   },
   {
    "duration": 253,
    "start_time": "2022-05-19T12:03:19.825Z"
   },
   {
    "duration": 320,
    "start_time": "2022-05-19T12:03:20.080Z"
   },
   {
    "duration": 20,
    "start_time": "2022-05-19T12:03:20.403Z"
   },
   {
    "duration": 57,
    "start_time": "2022-05-19T12:03:20.424Z"
   },
   {
    "duration": 221,
    "start_time": "2022-05-19T12:03:20.483Z"
   },
   {
    "duration": 6,
    "start_time": "2022-05-19T12:03:20.706Z"
   },
   {
    "duration": 64,
    "start_time": "2022-05-19T12:03:20.714Z"
   },
   {
    "duration": 5,
    "start_time": "2022-05-19T12:03:20.779Z"
   },
   {
    "duration": 206,
    "start_time": "2022-05-19T12:03:20.786Z"
   },
   {
    "duration": 1,
    "start_time": "2022-05-19T12:03:20.993Z"
   },
   {
    "duration": 0,
    "start_time": "2022-05-19T12:03:20.995Z"
   },
   {
    "duration": 0,
    "start_time": "2022-05-19T12:03:20.996Z"
   },
   {
    "duration": 0,
    "start_time": "2022-05-19T12:03:20.997Z"
   },
   {
    "duration": 0,
    "start_time": "2022-05-19T12:03:20.998Z"
   },
   {
    "duration": 73,
    "start_time": "2022-05-19T12:04:37.011Z"
   },
   {
    "duration": 34,
    "start_time": "2022-05-19T12:05:46.988Z"
   },
   {
    "duration": 30,
    "start_time": "2022-05-19T12:06:27.095Z"
   },
   {
    "duration": 15,
    "start_time": "2022-05-19T12:06:30.953Z"
   },
   {
    "duration": 17,
    "start_time": "2022-05-19T12:06:38.790Z"
   },
   {
    "duration": 17,
    "start_time": "2022-05-19T12:06:48.885Z"
   },
   {
    "duration": 10,
    "start_time": "2022-05-19T12:07:24.147Z"
   },
   {
    "duration": 39,
    "start_time": "2022-05-19T12:07:40.251Z"
   },
   {
    "duration": 68,
    "start_time": "2022-05-19T12:07:48.543Z"
   },
   {
    "duration": 12,
    "start_time": "2022-05-19T12:08:52.879Z"
   },
   {
    "duration": 54,
    "start_time": "2022-05-19T12:10:32.147Z"
   },
   {
    "duration": 31,
    "start_time": "2022-05-19T12:10:47.100Z"
   },
   {
    "duration": 32,
    "start_time": "2022-05-19T12:10:56.553Z"
   },
   {
    "duration": 45,
    "start_time": "2022-05-19T12:12:08.375Z"
   },
   {
    "duration": 49,
    "start_time": "2022-05-19T12:14:01.970Z"
   },
   {
    "duration": 13,
    "start_time": "2022-05-19T12:18:28.234Z"
   },
   {
    "duration": 37,
    "start_time": "2022-05-19T12:18:39.720Z"
   },
   {
    "duration": 42,
    "start_time": "2022-05-19T12:19:01.826Z"
   },
   {
    "duration": 37,
    "start_time": "2022-05-19T12:23:02.523Z"
   },
   {
    "duration": 127,
    "start_time": "2022-05-19T12:23:11.330Z"
   },
   {
    "duration": 16,
    "start_time": "2022-05-19T12:25:15.876Z"
   },
   {
    "duration": 19,
    "start_time": "2022-05-19T12:25:44.062Z"
   },
   {
    "duration": 21,
    "start_time": "2022-05-19T12:27:41.306Z"
   },
   {
    "duration": 16,
    "start_time": "2022-05-19T12:27:47.838Z"
   },
   {
    "duration": 8,
    "start_time": "2022-05-19T12:31:43.468Z"
   },
   {
    "duration": 14,
    "start_time": "2022-05-19T12:32:02.315Z"
   },
   {
    "duration": 11,
    "start_time": "2022-05-19T12:57:17.088Z"
   },
   {
    "duration": 56,
    "start_time": "2022-05-19T12:58:36.629Z"
   },
   {
    "duration": 17,
    "start_time": "2022-05-19T13:14:51.164Z"
   },
   {
    "duration": 10,
    "start_time": "2022-05-19T13:42:32.289Z"
   },
   {
    "duration": 42,
    "start_time": "2022-05-19T13:43:18.886Z"
   },
   {
    "duration": 9,
    "start_time": "2022-05-19T13:49:52.861Z"
   },
   {
    "duration": 28,
    "start_time": "2022-05-19T13:49:57.008Z"
   },
   {
    "duration": 9,
    "start_time": "2022-05-19T13:52:06.486Z"
   },
   {
    "duration": 30,
    "start_time": "2022-05-19T13:52:08.833Z"
   },
   {
    "duration": 39,
    "start_time": "2022-05-19T13:57:36.090Z"
   },
   {
    "duration": 10,
    "start_time": "2022-05-19T13:57:53.658Z"
   },
   {
    "duration": 18,
    "start_time": "2022-05-19T13:57:55.946Z"
   },
   {
    "duration": 5,
    "start_time": "2022-05-19T13:58:27.298Z"
   },
   {
    "duration": 26,
    "start_time": "2022-05-19T13:58:29.204Z"
   },
   {
    "duration": 28,
    "start_time": "2022-05-19T13:59:16.579Z"
   },
   {
    "duration": 8,
    "start_time": "2022-05-19T14:01:08.091Z"
   },
   {
    "duration": 7,
    "start_time": "2022-05-19T14:01:53.045Z"
   },
   {
    "duration": 6,
    "start_time": "2022-05-19T14:03:24.182Z"
   },
   {
    "duration": 19,
    "start_time": "2022-05-19T14:03:26.212Z"
   },
   {
    "duration": 5,
    "start_time": "2022-05-19T14:04:21.334Z"
   },
   {
    "duration": 18,
    "start_time": "2022-05-19T14:04:23.310Z"
   },
   {
    "duration": 42,
    "start_time": "2022-05-19T14:09:44.132Z"
   },
   {
    "duration": 6,
    "start_time": "2022-05-19T14:10:04.942Z"
   },
   {
    "duration": 27,
    "start_time": "2022-05-19T14:10:07.165Z"
   },
   {
    "duration": 10,
    "start_time": "2022-05-19T14:16:38.690Z"
   },
   {
    "duration": 8,
    "start_time": "2022-05-19T14:16:45.606Z"
   },
   {
    "duration": 52,
    "start_time": "2022-05-19T14:18:52.060Z"
   },
   {
    "duration": 6,
    "start_time": "2022-05-19T14:19:03.970Z"
   },
   {
    "duration": 10,
    "start_time": "2022-05-19T14:19:09.692Z"
   },
   {
    "duration": 22,
    "start_time": "2022-05-19T14:19:40.757Z"
   },
   {
    "duration": 11,
    "start_time": "2022-05-19T14:19:56.493Z"
   },
   {
    "duration": 1159,
    "start_time": "2022-05-19T14:20:22.657Z"
   },
   {
    "duration": 408,
    "start_time": "2022-05-19T14:20:23.818Z"
   },
   {
    "duration": 3,
    "start_time": "2022-05-19T14:20:24.228Z"
   },
   {
    "duration": 102,
    "start_time": "2022-05-19T14:20:24.233Z"
   },
   {
    "duration": 65,
    "start_time": "2022-05-19T14:20:24.337Z"
   },
   {
    "duration": 38,
    "start_time": "2022-05-19T14:20:24.404Z"
   },
   {
    "duration": 47,
    "start_time": "2022-05-19T14:20:24.443Z"
   },
   {
    "duration": 22,
    "start_time": "2022-05-19T14:20:24.491Z"
   },
   {
    "duration": 4,
    "start_time": "2022-05-19T14:20:24.514Z"
   },
   {
    "duration": 93,
    "start_time": "2022-05-19T14:20:24.521Z"
   },
   {
    "duration": 4,
    "start_time": "2022-05-19T14:20:24.616Z"
   },
   {
    "duration": 403,
    "start_time": "2022-05-19T14:20:24.622Z"
   },
   {
    "duration": 413,
    "start_time": "2022-05-19T14:20:25.027Z"
   },
   {
    "duration": 11,
    "start_time": "2022-05-19T14:20:25.441Z"
   },
   {
    "duration": 25,
    "start_time": "2022-05-19T14:20:25.454Z"
   },
   {
    "duration": 53,
    "start_time": "2022-05-19T14:20:25.481Z"
   },
   {
    "duration": 254,
    "start_time": "2022-05-19T14:20:25.536Z"
   },
   {
    "duration": 320,
    "start_time": "2022-05-19T14:20:25.791Z"
   },
   {
    "duration": 18,
    "start_time": "2022-05-19T14:20:26.113Z"
   },
   {
    "duration": 60,
    "start_time": "2022-05-19T14:20:26.132Z"
   },
   {
    "duration": 203,
    "start_time": "2022-05-19T14:20:26.194Z"
   },
   {
    "duration": 5,
    "start_time": "2022-05-19T14:20:26.399Z"
   },
   {
    "duration": 61,
    "start_time": "2022-05-19T14:20:26.405Z"
   },
   {
    "duration": 6,
    "start_time": "2022-05-19T14:20:26.471Z"
   },
   {
    "duration": 14,
    "start_time": "2022-05-19T14:20:26.479Z"
   },
   {
    "duration": 89,
    "start_time": "2022-05-19T14:20:26.494Z"
   },
   {
    "duration": 43,
    "start_time": "2022-05-19T14:20:26.586Z"
   },
   {
    "duration": 50,
    "start_time": "2022-05-19T14:20:26.633Z"
   },
   {
    "duration": 13,
    "start_time": "2022-05-19T14:20:26.686Z"
   },
   {
    "duration": 42,
    "start_time": "2022-05-19T14:20:26.701Z"
   },
   {
    "duration": 37,
    "start_time": "2022-05-19T14:20:26.745Z"
   },
   {
    "duration": 16,
    "start_time": "2022-05-19T14:20:26.784Z"
   },
   {
    "duration": 8,
    "start_time": "2022-05-19T14:20:26.802Z"
   },
   {
    "duration": 6,
    "start_time": "2022-05-19T14:20:26.812Z"
   },
   {
    "duration": 13,
    "start_time": "2022-05-19T14:20:26.819Z"
   },
   {
    "duration": 35,
    "start_time": "2022-05-19T14:20:26.834Z"
   },
   {
    "duration": 131,
    "start_time": "2022-05-19T14:20:26.877Z"
   },
   {
    "duration": 1221,
    "start_time": "2022-05-19T14:21:59.031Z"
   },
   {
    "duration": 514,
    "start_time": "2022-05-19T14:22:00.255Z"
   },
   {
    "duration": 6,
    "start_time": "2022-05-19T14:22:00.772Z"
   },
   {
    "duration": 142,
    "start_time": "2022-05-19T14:22:00.780Z"
   },
   {
    "duration": 64,
    "start_time": "2022-05-19T14:22:00.924Z"
   },
   {
    "duration": 40,
    "start_time": "2022-05-19T14:22:00.991Z"
   },
   {
    "duration": 52,
    "start_time": "2022-05-19T14:22:01.032Z"
   },
   {
    "duration": 37,
    "start_time": "2022-05-19T14:22:01.086Z"
   },
   {
    "duration": 68,
    "start_time": "2022-05-19T14:22:01.125Z"
   },
   {
    "duration": 140,
    "start_time": "2022-05-19T14:22:01.195Z"
   },
   {
    "duration": 5,
    "start_time": "2022-05-19T14:22:01.336Z"
   },
   {
    "duration": 520,
    "start_time": "2022-05-19T14:22:01.343Z"
   },
   {
    "duration": 562,
    "start_time": "2022-05-19T14:22:01.874Z"
   },
   {
    "duration": 12,
    "start_time": "2022-05-19T14:22:02.440Z"
   },
   {
    "duration": 16,
    "start_time": "2022-05-19T14:22:02.455Z"
   },
   {
    "duration": 117,
    "start_time": "2022-05-19T14:22:02.474Z"
   },
   {
    "duration": 346,
    "start_time": "2022-05-19T14:22:02.593Z"
   },
   {
    "duration": 468,
    "start_time": "2022-05-19T14:22:02.941Z"
   },
   {
    "duration": 82,
    "start_time": "2022-05-19T14:22:03.411Z"
   },
   {
    "duration": 114,
    "start_time": "2022-05-19T14:22:03.496Z"
   },
   {
    "duration": 589,
    "start_time": "2022-05-19T14:22:03.612Z"
   },
   {
    "duration": 5,
    "start_time": "2022-05-19T14:22:04.203Z"
   },
   {
    "duration": 105,
    "start_time": "2022-05-19T14:22:04.210Z"
   },
   {
    "duration": 54,
    "start_time": "2022-05-19T14:22:04.317Z"
   },
   {
    "duration": 38,
    "start_time": "2022-05-19T14:22:04.373Z"
   },
   {
    "duration": 217,
    "start_time": "2022-05-19T14:22:04.413Z"
   },
   {
    "duration": 51,
    "start_time": "2022-05-19T14:22:04.664Z"
   },
   {
    "duration": 154,
    "start_time": "2022-05-19T14:22:04.719Z"
   },
   {
    "duration": 37,
    "start_time": "2022-05-19T14:22:04.876Z"
   },
   {
    "duration": 155,
    "start_time": "2022-05-19T14:22:04.915Z"
   },
   {
    "duration": 30,
    "start_time": "2022-05-19T14:22:05.072Z"
   },
   {
    "duration": 80,
    "start_time": "2022-05-19T14:22:05.104Z"
   },
   {
    "duration": 13,
    "start_time": "2022-05-19T14:22:05.187Z"
   },
   {
    "duration": 10,
    "start_time": "2022-05-19T14:22:05.202Z"
   },
   {
    "duration": 58,
    "start_time": "2022-05-19T14:22:05.214Z"
   },
   {
    "duration": 34,
    "start_time": "2022-05-19T14:22:05.274Z"
   },
   {
    "duration": 378,
    "start_time": "2022-05-19T14:22:05.310Z"
   },
   {
    "duration": 18,
    "start_time": "2022-05-19T14:23:20.764Z"
   },
   {
    "duration": 1258,
    "start_time": "2022-05-19T14:23:30.735Z"
   },
   {
    "duration": 473,
    "start_time": "2022-05-19T14:23:31.996Z"
   },
   {
    "duration": 5,
    "start_time": "2022-05-19T14:23:32.470Z"
   },
   {
    "duration": 126,
    "start_time": "2022-05-19T14:23:32.478Z"
   },
   {
    "duration": 70,
    "start_time": "2022-05-19T14:23:32.606Z"
   },
   {
    "duration": 42,
    "start_time": "2022-05-19T14:23:32.678Z"
   },
   {
    "duration": 50,
    "start_time": "2022-05-19T14:23:32.722Z"
   },
   {
    "duration": 25,
    "start_time": "2022-05-19T14:23:32.774Z"
   },
   {
    "duration": 5,
    "start_time": "2022-05-19T14:23:32.802Z"
   },
   {
    "duration": 109,
    "start_time": "2022-05-19T14:23:32.811Z"
   },
   {
    "duration": 5,
    "start_time": "2022-05-19T14:23:32.923Z"
   },
   {
    "duration": 480,
    "start_time": "2022-05-19T14:23:32.931Z"
   },
   {
    "duration": 413,
    "start_time": "2022-05-19T14:23:33.413Z"
   },
   {
    "duration": 12,
    "start_time": "2022-05-19T14:23:33.827Z"
   },
   {
    "duration": 28,
    "start_time": "2022-05-19T14:23:33.840Z"
   },
   {
    "duration": 68,
    "start_time": "2022-05-19T14:23:33.870Z"
   },
   {
    "duration": 253,
    "start_time": "2022-05-19T14:23:33.939Z"
   },
   {
    "duration": 504,
    "start_time": "2022-05-19T14:23:34.194Z"
   },
   {
    "duration": 78,
    "start_time": "2022-05-19T14:23:34.700Z"
   },
   {
    "duration": 89,
    "start_time": "2022-05-19T14:23:34.779Z"
   },
   {
    "duration": 426,
    "start_time": "2022-05-19T14:23:34.871Z"
   },
   {
    "duration": 9,
    "start_time": "2022-05-19T14:23:35.299Z"
   },
   {
    "duration": 98,
    "start_time": "2022-05-19T14:23:35.366Z"
   },
   {
    "duration": 10,
    "start_time": "2022-05-19T14:23:35.466Z"
   },
   {
    "duration": 34,
    "start_time": "2022-05-19T14:23:35.478Z"
   },
   {
    "duration": 177,
    "start_time": "2022-05-19T14:23:35.514Z"
   },
   {
    "duration": 103,
    "start_time": "2022-05-19T14:23:35.694Z"
   },
   {
    "duration": 99,
    "start_time": "2022-05-19T14:23:35.802Z"
   },
   {
    "duration": 74,
    "start_time": "2022-05-19T14:23:35.903Z"
   },
   {
    "duration": 130,
    "start_time": "2022-05-19T14:23:35.979Z"
   },
   {
    "duration": 24,
    "start_time": "2022-05-19T14:23:36.165Z"
   },
   {
    "duration": 25,
    "start_time": "2022-05-19T14:23:36.191Z"
   },
   {
    "duration": 14,
    "start_time": "2022-05-19T14:23:36.265Z"
   },
   {
    "duration": 31,
    "start_time": "2022-05-19T14:23:36.283Z"
   },
   {
    "duration": 70,
    "start_time": "2022-05-19T14:23:36.317Z"
   },
   {
    "duration": 10,
    "start_time": "2022-05-19T14:23:36.389Z"
   },
   {
    "duration": 472,
    "start_time": "2022-05-19T14:23:36.401Z"
   },
   {
    "duration": 1152,
    "start_time": "2022-05-19T14:24:22.877Z"
   },
   {
    "duration": 441,
    "start_time": "2022-05-19T14:24:24.031Z"
   },
   {
    "duration": 4,
    "start_time": "2022-05-19T14:24:24.477Z"
   },
   {
    "duration": 102,
    "start_time": "2022-05-19T14:24:24.482Z"
   },
   {
    "duration": 48,
    "start_time": "2022-05-19T14:24:24.588Z"
   },
   {
    "duration": 74,
    "start_time": "2022-05-19T14:24:24.638Z"
   },
   {
    "duration": 23,
    "start_time": "2022-05-19T14:24:24.714Z"
   },
   {
    "duration": 61,
    "start_time": "2022-05-19T14:24:24.738Z"
   },
   {
    "duration": 3,
    "start_time": "2022-05-19T14:24:24.800Z"
   },
   {
    "duration": 77,
    "start_time": "2022-05-19T14:24:24.805Z"
   },
   {
    "duration": 4,
    "start_time": "2022-05-19T14:24:24.884Z"
   },
   {
    "duration": 422,
    "start_time": "2022-05-19T14:24:24.889Z"
   },
   {
    "duration": 399,
    "start_time": "2022-05-19T14:24:25.313Z"
   },
   {
    "duration": 12,
    "start_time": "2022-05-19T14:24:25.715Z"
   },
   {
    "duration": 10,
    "start_time": "2022-05-19T14:24:25.728Z"
   },
   {
    "duration": 69,
    "start_time": "2022-05-19T14:24:25.740Z"
   },
   {
    "duration": 246,
    "start_time": "2022-05-19T14:24:25.811Z"
   },
   {
    "duration": 320,
    "start_time": "2022-05-19T14:24:26.065Z"
   },
   {
    "duration": 18,
    "start_time": "2022-05-19T14:24:26.386Z"
   },
   {
    "duration": 36,
    "start_time": "2022-05-19T14:24:26.406Z"
   },
   {
    "duration": 238,
    "start_time": "2022-05-19T14:24:26.445Z"
   },
   {
    "duration": 6,
    "start_time": "2022-05-19T14:24:26.684Z"
   },
   {
    "duration": 53,
    "start_time": "2022-05-19T14:24:26.691Z"
   },
   {
    "duration": 5,
    "start_time": "2022-05-19T14:24:26.745Z"
   },
   {
    "duration": 18,
    "start_time": "2022-05-19T14:24:26.752Z"
   },
   {
    "duration": 81,
    "start_time": "2022-05-19T14:24:26.771Z"
   },
   {
    "duration": 41,
    "start_time": "2022-05-19T14:24:26.854Z"
   },
   {
    "duration": 30,
    "start_time": "2022-05-19T14:24:26.896Z"
   },
   {
    "duration": 10,
    "start_time": "2022-05-19T14:24:26.928Z"
   },
   {
    "duration": 67,
    "start_time": "2022-05-19T14:24:26.939Z"
   },
   {
    "duration": 15,
    "start_time": "2022-05-19T14:24:27.008Z"
   },
   {
    "duration": 14,
    "start_time": "2022-05-19T14:24:27.024Z"
   },
   {
    "duration": 42,
    "start_time": "2022-05-19T14:24:27.039Z"
   },
   {
    "duration": 9,
    "start_time": "2022-05-19T14:24:27.083Z"
   },
   {
    "duration": 20,
    "start_time": "2022-05-19T14:24:27.094Z"
   },
   {
    "duration": 9,
    "start_time": "2022-05-19T14:24:27.115Z"
   },
   {
    "duration": 132,
    "start_time": "2022-05-19T14:24:27.125Z"
   },
   {
    "duration": 1256,
    "start_time": "2022-05-19T14:27:16.346Z"
   },
   {
    "duration": 444,
    "start_time": "2022-05-19T14:27:17.605Z"
   },
   {
    "duration": 5,
    "start_time": "2022-05-19T14:27:18.051Z"
   },
   {
    "duration": 128,
    "start_time": "2022-05-19T14:27:18.058Z"
   },
   {
    "duration": 49,
    "start_time": "2022-05-19T14:27:18.188Z"
   },
   {
    "duration": 67,
    "start_time": "2022-05-19T14:27:18.240Z"
   },
   {
    "duration": 34,
    "start_time": "2022-05-19T14:27:18.309Z"
   },
   {
    "duration": 37,
    "start_time": "2022-05-19T14:27:18.345Z"
   },
   {
    "duration": 21,
    "start_time": "2022-05-19T14:27:18.384Z"
   },
   {
    "duration": 79,
    "start_time": "2022-05-19T14:27:18.408Z"
   },
   {
    "duration": 6,
    "start_time": "2022-05-19T14:27:18.489Z"
   },
   {
    "duration": 447,
    "start_time": "2022-05-19T14:27:18.496Z"
   },
   {
    "duration": 485,
    "start_time": "2022-05-19T14:27:18.945Z"
   },
   {
    "duration": 11,
    "start_time": "2022-05-19T14:27:19.432Z"
   },
   {
    "duration": 26,
    "start_time": "2022-05-19T14:27:19.445Z"
   },
   {
    "duration": 63,
    "start_time": "2022-05-19T14:27:19.478Z"
   },
   {
    "duration": 256,
    "start_time": "2022-05-19T14:27:19.543Z"
   },
   {
    "duration": 325,
    "start_time": "2022-05-19T14:27:19.800Z"
   },
   {
    "duration": 20,
    "start_time": "2022-05-19T14:27:20.127Z"
   },
   {
    "duration": 71,
    "start_time": "2022-05-19T14:27:20.149Z"
   },
   {
    "duration": 219,
    "start_time": "2022-05-19T14:27:20.222Z"
   },
   {
    "duration": 6,
    "start_time": "2022-05-19T14:27:20.443Z"
   },
   {
    "duration": 38,
    "start_time": "2022-05-19T14:27:20.475Z"
   },
   {
    "duration": 5,
    "start_time": "2022-05-19T14:27:20.514Z"
   },
   {
    "duration": 24,
    "start_time": "2022-05-19T14:27:20.520Z"
   },
   {
    "duration": 112,
    "start_time": "2022-05-19T14:27:20.546Z"
   },
   {
    "duration": 44,
    "start_time": "2022-05-19T14:27:20.660Z"
   },
   {
    "duration": 46,
    "start_time": "2022-05-19T14:27:20.708Z"
   },
   {
    "duration": 30,
    "start_time": "2022-05-19T14:27:20.756Z"
   },
   {
    "duration": 43,
    "start_time": "2022-05-19T14:27:20.789Z"
   },
   {
    "duration": 14,
    "start_time": "2022-05-19T14:27:20.834Z"
   },
   {
    "duration": 55,
    "start_time": "2022-05-19T14:27:20.850Z"
   },
   {
    "duration": 22,
    "start_time": "2022-05-19T14:27:20.907Z"
   },
   {
    "duration": 15,
    "start_time": "2022-05-19T14:27:20.931Z"
   },
   {
    "duration": 46,
    "start_time": "2022-05-19T14:27:20.948Z"
   },
   {
    "duration": 14,
    "start_time": "2022-05-19T14:27:20.995Z"
   },
   {
    "duration": 0,
    "start_time": "2022-05-19T14:27:21.011Z"
   },
   {
    "duration": 6,
    "start_time": "2022-05-19T14:27:29.320Z"
   },
   {
    "duration": 149,
    "start_time": "2022-05-19T14:27:30.707Z"
   },
   {
    "duration": 5,
    "start_time": "2022-05-19T14:28:40.401Z"
   },
   {
    "duration": 19,
    "start_time": "2022-05-19T14:28:42.492Z"
   },
   {
    "duration": 6,
    "start_time": "2022-05-19T14:43:41.850Z"
   },
   {
    "duration": 20,
    "start_time": "2022-05-19T14:52:51.754Z"
   },
   {
    "duration": 21,
    "start_time": "2022-05-19T14:53:53.758Z"
   },
   {
    "duration": 1183,
    "start_time": "2022-05-19T14:54:10.719Z"
   },
   {
    "duration": 416,
    "start_time": "2022-05-19T14:54:11.904Z"
   },
   {
    "duration": 3,
    "start_time": "2022-05-19T14:54:12.322Z"
   },
   {
    "duration": 98,
    "start_time": "2022-05-19T14:54:12.327Z"
   },
   {
    "duration": 56,
    "start_time": "2022-05-19T14:54:12.427Z"
   },
   {
    "duration": 43,
    "start_time": "2022-05-19T14:54:12.485Z"
   },
   {
    "duration": 60,
    "start_time": "2022-05-19T14:54:12.530Z"
   },
   {
    "duration": 32,
    "start_time": "2022-05-19T14:54:12.592Z"
   },
   {
    "duration": 4,
    "start_time": "2022-05-19T14:54:12.625Z"
   },
   {
    "duration": 83,
    "start_time": "2022-05-19T14:54:12.664Z"
   },
   {
    "duration": 16,
    "start_time": "2022-05-19T14:54:12.749Z"
   },
   {
    "duration": 453,
    "start_time": "2022-05-19T14:54:12.767Z"
   },
   {
    "duration": 436,
    "start_time": "2022-05-19T14:54:13.222Z"
   },
   {
    "duration": 14,
    "start_time": "2022-05-19T14:54:13.660Z"
   },
   {
    "duration": 12,
    "start_time": "2022-05-19T14:54:13.675Z"
   },
   {
    "duration": 69,
    "start_time": "2022-05-19T14:54:13.690Z"
   },
   {
    "duration": 242,
    "start_time": "2022-05-19T14:54:13.765Z"
   },
   {
    "duration": 329,
    "start_time": "2022-05-19T14:54:14.009Z"
   },
   {
    "duration": 34,
    "start_time": "2022-05-19T14:54:14.340Z"
   },
   {
    "duration": 43,
    "start_time": "2022-05-19T14:54:14.376Z"
   },
   {
    "duration": 225,
    "start_time": "2022-05-19T14:54:14.420Z"
   },
   {
    "duration": 6,
    "start_time": "2022-05-19T14:54:14.647Z"
   },
   {
    "duration": 54,
    "start_time": "2022-05-19T14:54:14.655Z"
   },
   {
    "duration": 5,
    "start_time": "2022-05-19T14:54:14.711Z"
   },
   {
    "duration": 20,
    "start_time": "2022-05-19T14:54:14.718Z"
   },
   {
    "duration": 89,
    "start_time": "2022-05-19T14:54:14.739Z"
   },
   {
    "duration": 43,
    "start_time": "2022-05-19T14:54:14.830Z"
   },
   {
    "duration": 33,
    "start_time": "2022-05-19T14:54:14.877Z"
   },
   {
    "duration": 12,
    "start_time": "2022-05-19T14:54:14.911Z"
   },
   {
    "duration": 67,
    "start_time": "2022-05-19T14:54:14.924Z"
   },
   {
    "duration": 16,
    "start_time": "2022-05-19T14:54:14.994Z"
   },
   {
    "duration": 36,
    "start_time": "2022-05-19T14:54:15.012Z"
   },
   {
    "duration": 16,
    "start_time": "2022-05-19T14:54:15.050Z"
   },
   {
    "duration": 7,
    "start_time": "2022-05-19T14:54:15.068Z"
   },
   {
    "duration": 12,
    "start_time": "2022-05-19T14:54:15.077Z"
   },
   {
    "duration": 10,
    "start_time": "2022-05-19T14:54:15.091Z"
   },
   {
    "duration": 8436,
    "start_time": "2022-05-19T14:54:15.102Z"
   },
   {
    "duration": 138,
    "start_time": "2022-05-19T14:54:23.540Z"
   },
   {
    "duration": 8233,
    "start_time": "2022-05-19T14:54:49.245Z"
   },
   {
    "duration": 4,
    "start_time": "2022-05-19T14:55:56.124Z"
   },
   {
    "duration": 6536,
    "start_time": "2022-05-19T14:55:58.010Z"
   },
   {
    "duration": 4,
    "start_time": "2022-05-19T14:57:10.192Z"
   },
   {
    "duration": 5681,
    "start_time": "2022-05-19T14:57:11.481Z"
   },
   {
    "duration": 5626,
    "start_time": "2022-05-19T14:57:38.142Z"
   },
   {
    "duration": 4,
    "start_time": "2022-05-19T14:57:43.770Z"
   },
   {
    "duration": 8348,
    "start_time": "2022-05-19T14:57:45.535Z"
   },
   {
    "duration": 5,
    "start_time": "2022-05-19T14:58:50.259Z"
   },
   {
    "duration": 22,
    "start_time": "2022-05-19T14:58:51.867Z"
   },
   {
    "duration": 1182,
    "start_time": "2022-05-19T14:59:12.892Z"
   },
   {
    "duration": 424,
    "start_time": "2022-05-19T14:59:14.076Z"
   },
   {
    "duration": 3,
    "start_time": "2022-05-19T14:59:14.502Z"
   },
   {
    "duration": 123,
    "start_time": "2022-05-19T14:59:14.508Z"
   },
   {
    "duration": 50,
    "start_time": "2022-05-19T14:59:14.633Z"
   },
   {
    "duration": 43,
    "start_time": "2022-05-19T14:59:14.685Z"
   },
   {
    "duration": 48,
    "start_time": "2022-05-19T14:59:14.730Z"
   },
   {
    "duration": 39,
    "start_time": "2022-05-19T14:59:14.780Z"
   },
   {
    "duration": 5,
    "start_time": "2022-05-19T14:59:14.821Z"
   },
   {
    "duration": 79,
    "start_time": "2022-05-19T14:59:14.829Z"
   },
   {
    "duration": 6,
    "start_time": "2022-05-19T14:59:14.910Z"
   },
   {
    "duration": 453,
    "start_time": "2022-05-19T14:59:14.918Z"
   },
   {
    "duration": 404,
    "start_time": "2022-05-19T14:59:15.372Z"
   },
   {
    "duration": 11,
    "start_time": "2022-05-19T14:59:15.778Z"
   },
   {
    "duration": 8,
    "start_time": "2022-05-19T14:59:15.791Z"
   },
   {
    "duration": 65,
    "start_time": "2022-05-19T14:59:15.801Z"
   },
   {
    "duration": 243,
    "start_time": "2022-05-19T14:59:15.868Z"
   },
   {
    "duration": 304,
    "start_time": "2022-05-19T14:59:16.113Z"
   },
   {
    "duration": 18,
    "start_time": "2022-05-19T14:59:16.419Z"
   },
   {
    "duration": 56,
    "start_time": "2022-05-19T14:59:16.439Z"
   },
   {
    "duration": 218,
    "start_time": "2022-05-19T14:59:16.496Z"
   },
   {
    "duration": 6,
    "start_time": "2022-05-19T14:59:16.715Z"
   },
   {
    "duration": 55,
    "start_time": "2022-05-19T14:59:16.723Z"
   },
   {
    "duration": 6,
    "start_time": "2022-05-19T14:59:16.780Z"
   },
   {
    "duration": 16,
    "start_time": "2022-05-19T14:59:16.788Z"
   },
   {
    "duration": 89,
    "start_time": "2022-05-19T14:59:16.806Z"
   },
   {
    "duration": 35,
    "start_time": "2022-05-19T14:59:16.896Z"
   },
   {
    "duration": 52,
    "start_time": "2022-05-19T14:59:16.935Z"
   },
   {
    "duration": 12,
    "start_time": "2022-05-19T14:59:16.988Z"
   },
   {
    "duration": 69,
    "start_time": "2022-05-19T14:59:17.003Z"
   },
   {
    "duration": 16,
    "start_time": "2022-05-19T14:59:17.074Z"
   },
   {
    "duration": 19,
    "start_time": "2022-05-19T14:59:17.091Z"
   },
   {
    "duration": 10,
    "start_time": "2022-05-19T14:59:17.112Z"
   },
   {
    "duration": 8,
    "start_time": "2022-05-19T14:59:17.125Z"
   },
   {
    "duration": 43,
    "start_time": "2022-05-19T14:59:17.135Z"
   },
   {
    "duration": 5,
    "start_time": "2022-05-19T14:59:17.180Z"
   },
   {
    "duration": 141,
    "start_time": "2022-05-19T14:59:17.188Z"
   },
   {
    "duration": 0,
    "start_time": "2022-05-19T14:59:17.331Z"
   },
   {
    "duration": 4,
    "start_time": "2022-05-19T14:59:55.978Z"
   },
   {
    "duration": 8294,
    "start_time": "2022-05-19T14:59:57.811Z"
   },
   {
    "duration": 1167,
    "start_time": "2022-05-19T15:00:55.623Z"
   },
   {
    "duration": 422,
    "start_time": "2022-05-19T15:00:56.792Z"
   },
   {
    "duration": 3,
    "start_time": "2022-05-19T15:00:57.216Z"
   },
   {
    "duration": 114,
    "start_time": "2022-05-19T15:00:57.221Z"
   },
   {
    "duration": 57,
    "start_time": "2022-05-19T15:00:57.337Z"
   },
   {
    "duration": 41,
    "start_time": "2022-05-19T15:00:57.396Z"
   },
   {
    "duration": 52,
    "start_time": "2022-05-19T15:00:57.439Z"
   },
   {
    "duration": 21,
    "start_time": "2022-05-19T15:00:57.492Z"
   },
   {
    "duration": 19,
    "start_time": "2022-05-19T15:00:57.515Z"
   },
   {
    "duration": 90,
    "start_time": "2022-05-19T15:00:57.536Z"
   },
   {
    "duration": 4,
    "start_time": "2022-05-19T15:00:57.628Z"
   },
   {
    "duration": 773,
    "start_time": "2022-05-19T15:00:57.634Z"
   },
   {
    "duration": 877,
    "start_time": "2022-05-19T15:00:58.409Z"
   },
   {
    "duration": 11,
    "start_time": "2022-05-19T15:00:59.287Z"
   },
   {
    "duration": 65,
    "start_time": "2022-05-19T15:00:59.300Z"
   },
   {
    "duration": 99,
    "start_time": "2022-05-19T15:00:59.367Z"
   },
   {
    "duration": 428,
    "start_time": "2022-05-19T15:00:59.468Z"
   },
   {
    "duration": 346,
    "start_time": "2022-05-19T15:00:59.897Z"
   },
   {
    "duration": 22,
    "start_time": "2022-05-19T15:01:00.245Z"
   },
   {
    "duration": 46,
    "start_time": "2022-05-19T15:01:00.269Z"
   },
   {
    "duration": 209,
    "start_time": "2022-05-19T15:01:00.317Z"
   },
   {
    "duration": 6,
    "start_time": "2022-05-19T15:01:00.528Z"
   },
   {
    "duration": 68,
    "start_time": "2022-05-19T15:01:00.537Z"
   },
   {
    "duration": 5,
    "start_time": "2022-05-19T15:01:00.608Z"
   },
   {
    "duration": 30,
    "start_time": "2022-05-19T15:01:00.615Z"
   },
   {
    "duration": 86,
    "start_time": "2022-05-19T15:01:00.647Z"
   },
   {
    "duration": 43,
    "start_time": "2022-05-19T15:01:00.735Z"
   },
   {
    "duration": 32,
    "start_time": "2022-05-19T15:01:00.782Z"
   },
   {
    "duration": 36,
    "start_time": "2022-05-19T15:01:00.816Z"
   },
   {
    "duration": 64,
    "start_time": "2022-05-19T15:01:00.853Z"
   },
   {
    "duration": 17,
    "start_time": "2022-05-19T15:01:00.919Z"
   },
   {
    "duration": 31,
    "start_time": "2022-05-19T15:01:00.937Z"
   },
   {
    "duration": 19,
    "start_time": "2022-05-19T15:01:00.970Z"
   },
   {
    "duration": 35,
    "start_time": "2022-05-19T15:01:00.991Z"
   },
   {
    "duration": 18,
    "start_time": "2022-05-19T15:01:01.028Z"
   },
   {
    "duration": 13,
    "start_time": "2022-05-19T15:01:01.048Z"
   },
   {
    "duration": 8448,
    "start_time": "2022-05-19T15:01:01.063Z"
   },
   {
    "duration": 0,
    "start_time": "2022-05-19T15:01:09.513Z"
   },
   {
    "duration": 3,
    "start_time": "2022-05-19T15:03:25.866Z"
   },
   {
    "duration": 8364,
    "start_time": "2022-05-19T15:03:27.321Z"
   },
   {
    "duration": 39,
    "start_time": "2022-05-19T15:05:32.345Z"
   },
   {
    "duration": 5,
    "start_time": "2022-05-19T15:05:45.792Z"
   },
   {
    "duration": 8386,
    "start_time": "2022-05-19T15:05:47.990Z"
   },
   {
    "duration": 45,
    "start_time": "2022-05-19T15:08:52.336Z"
   },
   {
    "duration": 6,
    "start_time": "2022-05-19T15:09:00.695Z"
   },
   {
    "duration": 30,
    "start_time": "2022-05-19T15:09:02.543Z"
   },
   {
    "duration": 21,
    "start_time": "2022-05-19T15:13:47.751Z"
   },
   {
    "duration": 9,
    "start_time": "2022-05-19T15:15:32.608Z"
   },
   {
    "duration": 193,
    "start_time": "2022-05-19T15:15:35.044Z"
   },
   {
    "duration": 9,
    "start_time": "2022-05-19T15:15:55.482Z"
   },
   {
    "duration": 186,
    "start_time": "2022-05-19T15:15:57.052Z"
   },
   {
    "duration": 181,
    "start_time": "2022-05-19T15:16:03.838Z"
   },
   {
    "duration": 1058,
    "start_time": "2022-05-19T16:46:53.719Z"
   },
   {
    "duration": 429,
    "start_time": "2022-05-19T16:46:54.779Z"
   },
   {
    "duration": 4,
    "start_time": "2022-05-19T16:46:55.210Z"
   },
   {
    "duration": 104,
    "start_time": "2022-05-19T16:46:55.216Z"
   },
   {
    "duration": 62,
    "start_time": "2022-05-19T16:46:55.321Z"
   },
   {
    "duration": 37,
    "start_time": "2022-05-19T16:46:55.385Z"
   },
   {
    "duration": 66,
    "start_time": "2022-05-19T16:46:55.424Z"
   },
   {
    "duration": 21,
    "start_time": "2022-05-19T16:46:55.491Z"
   },
   {
    "duration": 4,
    "start_time": "2022-05-19T16:46:55.513Z"
   },
   {
    "duration": 82,
    "start_time": "2022-05-19T16:46:55.521Z"
   },
   {
    "duration": 5,
    "start_time": "2022-05-19T16:46:55.605Z"
   },
   {
    "duration": 994,
    "start_time": "2022-05-19T16:46:55.612Z"
   },
   {
    "duration": 1004,
    "start_time": "2022-05-19T16:46:56.608Z"
   },
   {
    "duration": 67,
    "start_time": "2022-05-19T16:46:57.613Z"
   },
   {
    "duration": 11,
    "start_time": "2022-05-19T16:46:57.683Z"
   },
   {
    "duration": 93,
    "start_time": "2022-05-19T16:46:57.695Z"
   },
   {
    "duration": 412,
    "start_time": "2022-05-19T16:46:57.790Z"
   },
   {
    "duration": 317,
    "start_time": "2022-05-19T16:46:58.204Z"
   },
   {
    "duration": 18,
    "start_time": "2022-05-19T16:46:58.523Z"
   },
   {
    "duration": 61,
    "start_time": "2022-05-19T16:46:58.543Z"
   },
   {
    "duration": 177,
    "start_time": "2022-05-19T16:46:58.606Z"
   },
   {
    "duration": 7,
    "start_time": "2022-05-19T16:46:58.785Z"
   },
   {
    "duration": 40,
    "start_time": "2022-05-19T16:46:58.793Z"
   },
   {
    "duration": 5,
    "start_time": "2022-05-19T16:46:58.835Z"
   },
   {
    "duration": 37,
    "start_time": "2022-05-19T16:46:58.842Z"
   },
   {
    "duration": 85,
    "start_time": "2022-05-19T16:46:58.882Z"
   },
   {
    "duration": 50,
    "start_time": "2022-05-19T16:46:58.974Z"
   },
   {
    "duration": 53,
    "start_time": "2022-05-19T16:46:59.028Z"
   },
   {
    "duration": 16,
    "start_time": "2022-05-19T16:46:59.083Z"
   },
   {
    "duration": 55,
    "start_time": "2022-05-19T16:46:59.101Z"
   },
   {
    "duration": 18,
    "start_time": "2022-05-19T16:46:59.165Z"
   },
   {
    "duration": 15,
    "start_time": "2022-05-19T16:46:59.184Z"
   },
   {
    "duration": 7,
    "start_time": "2022-05-19T16:46:59.200Z"
   },
   {
    "duration": 13,
    "start_time": "2022-05-19T16:46:59.209Z"
   },
   {
    "duration": 7,
    "start_time": "2022-05-19T16:46:59.223Z"
   },
   {
    "duration": 0,
    "start_time": "2022-05-19T16:46:59.264Z"
   },
   {
    "duration": 0,
    "start_time": "2022-05-19T16:46:59.265Z"
   },
   {
    "duration": 7,
    "start_time": "2022-05-19T16:47:13.918Z"
   },
   {
    "duration": 9,
    "start_time": "2022-05-19T16:47:36.562Z"
   },
   {
    "duration": 124,
    "start_time": "2022-05-19T16:47:38.676Z"
   },
   {
    "duration": 5,
    "start_time": "2022-05-19T16:48:13.733Z"
   },
   {
    "duration": 27,
    "start_time": "2022-05-19T16:48:16.256Z"
   },
   {
    "duration": 6,
    "start_time": "2022-05-19T18:22:50.090Z"
   },
   {
    "duration": 19,
    "start_time": "2022-05-19T18:22:51.951Z"
   },
   {
    "duration": 7,
    "start_time": "2022-05-19T18:25:50.319Z"
   },
   {
    "duration": 6,
    "start_time": "2022-05-19T18:26:03.461Z"
   },
   {
    "duration": 5,
    "start_time": "2022-05-19T18:26:14.896Z"
   },
   {
    "duration": 11,
    "start_time": "2022-05-19T18:33:15.747Z"
   },
   {
    "duration": 181,
    "start_time": "2022-05-19T18:33:17.984Z"
   },
   {
    "duration": 5,
    "start_time": "2022-05-19T18:45:05.981Z"
   },
   {
    "duration": 20,
    "start_time": "2022-05-19T18:45:07.303Z"
   },
   {
    "duration": 7,
    "start_time": "2022-05-19T18:56:13.312Z"
   },
   {
    "duration": 7,
    "start_time": "2022-05-19T18:56:36.467Z"
   },
   {
    "duration": 5,
    "start_time": "2022-05-19T18:57:09.893Z"
   },
   {
    "duration": 5,
    "start_time": "2022-05-19T18:57:23.895Z"
   },
   {
    "duration": 5,
    "start_time": "2022-05-19T19:00:06.844Z"
   },
   {
    "duration": 5,
    "start_time": "2022-05-19T19:09:09.348Z"
   },
   {
    "duration": 21,
    "start_time": "2022-05-19T19:09:12.517Z"
   },
   {
    "duration": 6,
    "start_time": "2022-05-19T19:10:08.224Z"
   },
   {
    "duration": 3371,
    "start_time": "2022-05-19T19:10:09.856Z"
   },
   {
    "duration": 17,
    "start_time": "2022-05-19T19:15:20.011Z"
   },
   {
    "duration": 18,
    "start_time": "2022-05-19T19:15:54.714Z"
   },
   {
    "duration": 35,
    "start_time": "2022-05-19T19:18:47.378Z"
   },
   {
    "duration": 37,
    "start_time": "2022-05-19T19:22:16.363Z"
   },
   {
    "duration": 38,
    "start_time": "2022-05-19T19:22:22.456Z"
   },
   {
    "duration": 34,
    "start_time": "2022-05-19T19:22:27.115Z"
   },
   {
    "duration": 18,
    "start_time": "2022-05-19T19:28:23.087Z"
   },
   {
    "duration": 45,
    "start_time": "2022-05-19T19:35:25.460Z"
   },
   {
    "duration": 72,
    "start_time": "2022-05-19T19:36:04.286Z"
   },
   {
    "duration": 44,
    "start_time": "2022-05-19T19:36:51.597Z"
   },
   {
    "duration": 67,
    "start_time": "2022-05-19T19:37:21.794Z"
   },
   {
    "duration": 84,
    "start_time": "2022-05-19T19:37:50.994Z"
   },
   {
    "duration": 80,
    "start_time": "2022-05-19T19:42:26.521Z"
   },
   {
    "duration": 53,
    "start_time": "2022-05-19T19:42:34.819Z"
   },
   {
    "duration": 1215,
    "start_time": "2022-05-19T19:42:52.082Z"
   },
   {
    "duration": 817,
    "start_time": "2022-05-19T19:42:53.300Z"
   },
   {
    "duration": 4,
    "start_time": "2022-05-19T19:42:54.118Z"
   },
   {
    "duration": 115,
    "start_time": "2022-05-19T19:42:54.123Z"
   },
   {
    "duration": 73,
    "start_time": "2022-05-19T19:42:54.242Z"
   },
   {
    "duration": 87,
    "start_time": "2022-05-19T19:42:54.317Z"
   },
   {
    "duration": 28,
    "start_time": "2022-05-19T19:42:54.406Z"
   },
   {
    "duration": 43,
    "start_time": "2022-05-19T19:42:54.436Z"
   },
   {
    "duration": 16,
    "start_time": "2022-05-19T19:42:54.480Z"
   },
   {
    "duration": 103,
    "start_time": "2022-05-19T19:42:54.498Z"
   },
   {
    "duration": 6,
    "start_time": "2022-05-19T19:42:54.604Z"
   },
   {
    "duration": 469,
    "start_time": "2022-05-19T19:42:54.612Z"
   },
   {
    "duration": 436,
    "start_time": "2022-05-19T19:42:55.083Z"
   },
   {
    "duration": 11,
    "start_time": "2022-05-19T19:42:55.523Z"
   },
   {
    "duration": 8,
    "start_time": "2022-05-19T19:42:55.536Z"
   },
   {
    "duration": 65,
    "start_time": "2022-05-19T19:42:55.564Z"
   },
   {
    "duration": 278,
    "start_time": "2022-05-19T19:42:55.630Z"
   },
   {
    "duration": 384,
    "start_time": "2022-05-19T19:42:55.910Z"
   },
   {
    "duration": 26,
    "start_time": "2022-05-19T19:42:56.296Z"
   },
   {
    "duration": 68,
    "start_time": "2022-05-19T19:42:56.325Z"
   },
   {
    "duration": 205,
    "start_time": "2022-05-19T19:42:56.397Z"
   },
   {
    "duration": 6,
    "start_time": "2022-05-19T19:42:56.604Z"
   },
   {
    "duration": 57,
    "start_time": "2022-05-19T19:42:56.612Z"
   },
   {
    "duration": 16,
    "start_time": "2022-05-19T19:42:56.670Z"
   },
   {
    "duration": 11,
    "start_time": "2022-05-19T19:42:56.688Z"
   },
   {
    "duration": 89,
    "start_time": "2022-05-19T19:42:56.702Z"
   },
   {
    "duration": 33,
    "start_time": "2022-05-19T19:42:56.793Z"
   },
   {
    "duration": 60,
    "start_time": "2022-05-19T19:42:56.828Z"
   },
   {
    "duration": 13,
    "start_time": "2022-05-19T19:42:56.891Z"
   },
   {
    "duration": 46,
    "start_time": "2022-05-19T19:42:56.906Z"
   },
   {
    "duration": 23,
    "start_time": "2022-05-19T19:42:56.967Z"
   },
   {
    "duration": 18,
    "start_time": "2022-05-19T19:42:56.991Z"
   },
   {
    "duration": 11,
    "start_time": "2022-05-19T19:42:57.012Z"
   },
   {
    "duration": 56,
    "start_time": "2022-05-19T19:42:57.026Z"
   },
   {
    "duration": 15,
    "start_time": "2022-05-19T19:42:57.083Z"
   },
   {
    "duration": 4144,
    "start_time": "2022-05-19T19:42:57.100Z"
   },
   {
    "duration": 6,
    "start_time": "2022-05-19T19:43:01.246Z"
   },
   {
    "duration": 57,
    "start_time": "2022-05-19T19:43:16.016Z"
   },
   {
    "duration": 66,
    "start_time": "2022-05-19T19:43:23.273Z"
   },
   {
    "duration": 71,
    "start_time": "2022-05-19T19:45:52.310Z"
   },
   {
    "duration": 49,
    "start_time": "2022-05-19T19:46:11.108Z"
   },
   {
    "duration": 118,
    "start_time": "2022-05-19T19:47:49.456Z"
   },
   {
    "duration": 71,
    "start_time": "2022-05-19T19:48:48.050Z"
   },
   {
    "duration": 70,
    "start_time": "2022-05-19T19:50:01.251Z"
   },
   {
    "duration": 98,
    "start_time": "2022-05-19T19:50:05.859Z"
   },
   {
    "duration": 62,
    "start_time": "2022-05-19T19:50:29.675Z"
   },
   {
    "duration": 1109,
    "start_time": "2022-05-19T19:51:10.171Z"
   },
   {
    "duration": 345,
    "start_time": "2022-05-19T19:51:17.062Z"
   },
   {
    "duration": 183,
    "start_time": "2022-05-19T19:51:33.054Z"
   },
   {
    "duration": 208,
    "start_time": "2022-05-19T19:51:50.996Z"
   },
   {
    "duration": 116,
    "start_time": "2022-05-19T19:56:23.478Z"
   },
   {
    "duration": 118,
    "start_time": "2022-05-19T19:56:36.036Z"
   },
   {
    "duration": 194,
    "start_time": "2022-05-19T19:57:32.952Z"
   },
   {
    "duration": 133,
    "start_time": "2022-05-19T19:57:45.980Z"
   },
   {
    "duration": 135,
    "start_time": "2022-05-19T19:57:50.738Z"
   },
   {
    "duration": 35,
    "start_time": "2022-05-19T19:59:41.879Z"
   },
   {
    "duration": 175,
    "start_time": "2022-05-19T19:59:49.203Z"
   },
   {
    "duration": 176,
    "start_time": "2022-05-19T20:00:06.035Z"
   },
   {
    "duration": 197,
    "start_time": "2022-05-19T20:00:15.954Z"
   },
   {
    "duration": 187,
    "start_time": "2022-05-19T20:01:10.697Z"
   },
   {
    "duration": 163,
    "start_time": "2022-05-19T20:01:25.942Z"
   },
   {
    "duration": 191,
    "start_time": "2022-05-19T20:02:18.982Z"
   },
   {
    "duration": 278,
    "start_time": "2022-05-19T20:03:12.582Z"
   },
   {
    "duration": 108,
    "start_time": "2022-05-19T20:04:43.373Z"
   },
   {
    "duration": 10,
    "start_time": "2022-05-19T20:04:48.454Z"
   },
   {
    "duration": 170,
    "start_time": "2022-05-19T20:04:58.446Z"
   },
   {
    "duration": 579,
    "start_time": "2022-05-19T20:05:14.487Z"
   },
   {
    "duration": 599,
    "start_time": "2022-05-19T20:10:07.840Z"
   },
   {
    "duration": 39,
    "start_time": "2022-05-19T20:11:11.178Z"
   },
   {
    "duration": 38,
    "start_time": "2022-05-19T20:12:13.880Z"
   },
   {
    "duration": 34,
    "start_time": "2022-05-19T20:12:34.425Z"
   },
   {
    "duration": 94,
    "start_time": "2022-05-19T20:13:12.351Z"
   },
   {
    "duration": 822,
    "start_time": "2022-05-19T20:14:08.887Z"
   },
   {
    "duration": 7,
    "start_time": "2022-05-19T20:14:19.862Z"
   },
   {
    "duration": 56,
    "start_time": "2022-05-19T20:16:12.621Z"
   },
   {
    "duration": 21,
    "start_time": "2022-05-19T20:18:06.499Z"
   },
   {
    "duration": 650,
    "start_time": "2022-05-19T20:19:01.294Z"
   },
   {
    "duration": 31,
    "start_time": "2022-05-19T20:19:09.688Z"
   },
   {
    "duration": 46,
    "start_time": "2022-05-19T20:21:38.341Z"
   },
   {
    "duration": 68,
    "start_time": "2022-05-19T20:22:37.423Z"
   },
   {
    "duration": 510,
    "start_time": "2022-05-19T20:23:25.970Z"
   },
   {
    "duration": 13,
    "start_time": "2022-05-19T20:23:45.669Z"
   },
   {
    "duration": 8,
    "start_time": "2022-05-19T20:23:49.259Z"
   },
   {
    "duration": 9,
    "start_time": "2022-05-19T20:24:15.253Z"
   },
   {
    "duration": 12,
    "start_time": "2022-05-19T20:24:42.683Z"
   },
   {
    "duration": 218,
    "start_time": "2022-05-19T20:25:10.463Z"
   },
   {
    "duration": 15,
    "start_time": "2022-05-19T20:25:46.209Z"
   },
   {
    "duration": 713,
    "start_time": "2022-05-19T20:31:12.412Z"
   },
   {
    "duration": 206,
    "start_time": "2022-05-19T20:31:20.086Z"
   },
   {
    "duration": 12,
    "start_time": "2022-05-19T20:32:22.485Z"
   },
   {
    "duration": 9,
    "start_time": "2022-05-19T20:33:11.989Z"
   },
   {
    "duration": 18,
    "start_time": "2022-05-19T20:34:49.285Z"
   },
   {
    "duration": 24,
    "start_time": "2022-05-19T20:36:18.491Z"
   },
   {
    "duration": 18,
    "start_time": "2022-05-19T20:36:32.555Z"
   },
   {
    "duration": 16,
    "start_time": "2022-05-19T20:37:03.022Z"
   },
   {
    "duration": 18,
    "start_time": "2022-05-19T20:37:30.067Z"
   },
   {
    "duration": 9,
    "start_time": "2022-05-19T20:37:54.127Z"
   },
   {
    "duration": 13,
    "start_time": "2022-05-19T20:38:01.937Z"
   },
   {
    "duration": 158,
    "start_time": "2022-05-19T20:39:14.876Z"
   },
   {
    "duration": 452,
    "start_time": "2022-05-19T20:39:55.717Z"
   },
   {
    "duration": 510,
    "start_time": "2022-05-19T20:41:13.110Z"
   },
   {
    "duration": 502,
    "start_time": "2022-05-19T20:41:27.722Z"
   },
   {
    "duration": 69,
    "start_time": "2022-05-19T20:41:36.521Z"
   },
   {
    "duration": 7,
    "start_time": "2022-05-19T20:41:40.907Z"
   },
   {
    "duration": 25,
    "start_time": "2022-05-19T20:41:58.415Z"
   },
   {
    "duration": 24,
    "start_time": "2022-05-19T20:42:11.309Z"
   },
   {
    "duration": 56,
    "start_time": "2022-05-19T20:42:15.502Z"
   },
   {
    "duration": 23,
    "start_time": "2022-05-19T20:42:16.824Z"
   },
   {
    "duration": 28,
    "start_time": "2022-05-19T20:42:32.185Z"
   },
   {
    "duration": 1224,
    "start_time": "2022-05-19T20:42:44.855Z"
   },
   {
    "duration": 449,
    "start_time": "2022-05-19T20:42:46.086Z"
   },
   {
    "duration": 4,
    "start_time": "2022-05-19T20:42:46.536Z"
   },
   {
    "duration": 107,
    "start_time": "2022-05-19T20:42:46.542Z"
   },
   {
    "duration": 68,
    "start_time": "2022-05-19T20:42:46.653Z"
   },
   {
    "duration": 77,
    "start_time": "2022-05-19T20:42:46.723Z"
   },
   {
    "duration": 25,
    "start_time": "2022-05-19T20:42:46.802Z"
   },
   {
    "duration": 54,
    "start_time": "2022-05-19T20:42:46.829Z"
   },
   {
    "duration": 3,
    "start_time": "2022-05-19T20:42:46.885Z"
   },
   {
    "duration": 91,
    "start_time": "2022-05-19T20:42:46.890Z"
   },
   {
    "duration": 4,
    "start_time": "2022-05-19T20:42:46.983Z"
   },
   {
    "duration": 479,
    "start_time": "2022-05-19T20:42:46.988Z"
   },
   {
    "duration": 427,
    "start_time": "2022-05-19T20:42:47.469Z"
   },
   {
    "duration": 11,
    "start_time": "2022-05-19T20:42:47.899Z"
   },
   {
    "duration": 8,
    "start_time": "2022-05-19T20:42:47.912Z"
   },
   {
    "duration": 71,
    "start_time": "2022-05-19T20:42:47.922Z"
   },
   {
    "duration": 252,
    "start_time": "2022-05-19T20:42:47.994Z"
   },
   {
    "duration": 351,
    "start_time": "2022-05-19T20:42:48.247Z"
   },
   {
    "duration": 22,
    "start_time": "2022-05-19T20:42:48.600Z"
   },
   {
    "duration": 76,
    "start_time": "2022-05-19T20:42:48.624Z"
   },
   {
    "duration": 223,
    "start_time": "2022-05-19T20:42:48.702Z"
   },
   {
    "duration": 8,
    "start_time": "2022-05-19T20:42:48.927Z"
   },
   {
    "duration": 70,
    "start_time": "2022-05-19T20:42:48.937Z"
   },
   {
    "duration": 6,
    "start_time": "2022-05-19T20:42:49.009Z"
   },
   {
    "duration": 21,
    "start_time": "2022-05-19T20:42:49.018Z"
   },
   {
    "duration": 100,
    "start_time": "2022-05-19T20:42:49.041Z"
   },
   {
    "duration": 59,
    "start_time": "2022-05-19T20:42:49.144Z"
   },
   {
    "duration": 61,
    "start_time": "2022-05-19T20:42:49.205Z"
   },
   {
    "duration": 17,
    "start_time": "2022-05-19T20:42:49.268Z"
   },
   {
    "duration": 41,
    "start_time": "2022-05-19T20:42:49.287Z"
   },
   {
    "duration": 37,
    "start_time": "2022-05-19T20:42:49.330Z"
   },
   {
    "duration": 18,
    "start_time": "2022-05-19T20:42:49.370Z"
   },
   {
    "duration": 10,
    "start_time": "2022-05-19T20:42:49.389Z"
   },
   {
    "duration": 9,
    "start_time": "2022-05-19T20:42:49.401Z"
   },
   {
    "duration": 6,
    "start_time": "2022-05-19T20:42:49.412Z"
   },
   {
    "duration": 3721,
    "start_time": "2022-05-19T20:42:49.420Z"
   },
   {
    "duration": 77,
    "start_time": "2022-05-19T20:42:53.143Z"
   },
   {
    "duration": 31,
    "start_time": "2022-05-19T20:42:53.222Z"
   },
   {
    "duration": 145,
    "start_time": "2022-05-19T20:42:53.266Z"
   },
   {
    "duration": 0,
    "start_time": "2022-05-19T20:42:53.413Z"
   },
   {
    "duration": 0,
    "start_time": "2022-05-19T20:42:53.414Z"
   },
   {
    "duration": 13,
    "start_time": "2022-05-19T20:43:34.200Z"
   },
   {
    "duration": 20,
    "start_time": "2022-05-19T20:44:07.322Z"
   },
   {
    "duration": 10,
    "start_time": "2022-05-19T20:44:19.055Z"
   },
   {
    "duration": 7,
    "start_time": "2022-05-19T20:44:21.054Z"
   },
   {
    "duration": 21,
    "start_time": "2022-05-19T20:44:26.669Z"
   },
   {
    "duration": 19,
    "start_time": "2022-05-19T20:44:55.695Z"
   },
   {
    "duration": 17,
    "start_time": "2022-05-19T20:45:20.414Z"
   },
   {
    "duration": 17,
    "start_time": "2022-05-19T20:45:26.195Z"
   },
   {
    "duration": 22,
    "start_time": "2022-05-19T20:45:59.553Z"
   },
   {
    "duration": 1119,
    "start_time": "2022-05-19T20:47:32.573Z"
   },
   {
    "duration": 410,
    "start_time": "2022-05-19T20:47:33.695Z"
   },
   {
    "duration": 3,
    "start_time": "2022-05-19T20:47:34.107Z"
   },
   {
    "duration": 95,
    "start_time": "2022-05-19T20:47:34.113Z"
   },
   {
    "duration": 62,
    "start_time": "2022-05-19T20:47:34.210Z"
   },
   {
    "duration": 40,
    "start_time": "2022-05-19T20:47:34.274Z"
   },
   {
    "duration": 53,
    "start_time": "2022-05-19T20:47:34.316Z"
   },
   {
    "duration": 24,
    "start_time": "2022-05-19T20:47:34.371Z"
   },
   {
    "duration": 4,
    "start_time": "2022-05-19T20:47:34.397Z"
   },
   {
    "duration": 97,
    "start_time": "2022-05-19T20:47:34.404Z"
   },
   {
    "duration": 5,
    "start_time": "2022-05-19T20:47:34.503Z"
   },
   {
    "duration": 431,
    "start_time": "2022-05-19T20:47:34.509Z"
   },
   {
    "duration": 405,
    "start_time": "2022-05-19T20:47:34.942Z"
   },
   {
    "duration": 16,
    "start_time": "2022-05-19T20:47:35.349Z"
   },
   {
    "duration": 8,
    "start_time": "2022-05-19T20:47:35.367Z"
   },
   {
    "duration": 50,
    "start_time": "2022-05-19T20:47:35.376Z"
   },
   {
    "duration": 252,
    "start_time": "2022-05-19T20:47:35.428Z"
   },
   {
    "duration": 321,
    "start_time": "2022-05-19T20:47:35.682Z"
   },
   {
    "duration": 21,
    "start_time": "2022-05-19T20:47:36.005Z"
   },
   {
    "duration": 62,
    "start_time": "2022-05-19T20:47:36.029Z"
   },
   {
    "duration": 203,
    "start_time": "2022-05-19T20:47:36.094Z"
   },
   {
    "duration": 6,
    "start_time": "2022-05-19T20:47:36.299Z"
   },
   {
    "duration": 40,
    "start_time": "2022-05-19T20:47:36.306Z"
   },
   {
    "duration": 20,
    "start_time": "2022-05-19T20:47:36.347Z"
   },
   {
    "duration": 13,
    "start_time": "2022-05-19T20:47:36.368Z"
   },
   {
    "duration": 95,
    "start_time": "2022-05-19T20:47:36.383Z"
   },
   {
    "duration": 34,
    "start_time": "2022-05-19T20:47:36.480Z"
   },
   {
    "duration": 55,
    "start_time": "2022-05-19T20:47:36.517Z"
   },
   {
    "duration": 12,
    "start_time": "2022-05-19T20:47:36.575Z"
   },
   {
    "duration": 43,
    "start_time": "2022-05-19T20:47:36.589Z"
   },
   {
    "duration": 39,
    "start_time": "2022-05-19T20:47:36.635Z"
   },
   {
    "duration": 19,
    "start_time": "2022-05-19T20:47:36.675Z"
   },
   {
    "duration": 8,
    "start_time": "2022-05-19T20:47:36.696Z"
   },
   {
    "duration": 11,
    "start_time": "2022-05-19T20:47:36.706Z"
   },
   {
    "duration": 46,
    "start_time": "2022-05-19T20:47:36.719Z"
   },
   {
    "duration": 3713,
    "start_time": "2022-05-19T20:47:36.767Z"
   },
   {
    "duration": 54,
    "start_time": "2022-05-19T20:47:40.482Z"
   },
   {
    "duration": 134,
    "start_time": "2022-05-19T20:47:40.538Z"
   },
   {
    "duration": 0,
    "start_time": "2022-05-19T20:47:40.674Z"
   },
   {
    "duration": 0,
    "start_time": "2022-05-19T20:47:40.675Z"
   },
   {
    "duration": 56,
    "start_time": "2022-05-19T20:48:37.163Z"
   },
   {
    "duration": 25,
    "start_time": "2022-05-19T20:48:45.451Z"
   },
   {
    "duration": 14,
    "start_time": "2022-05-19T20:49:07.592Z"
   },
   {
    "duration": 18,
    "start_time": "2022-05-19T20:49:36.040Z"
   },
   {
    "duration": 233,
    "start_time": "2022-05-19T20:50:28.094Z"
   },
   {
    "duration": 50,
    "start_time": "2022-05-20T06:52:38.513Z"
   },
   {
    "duration": 60,
    "start_time": "2022-05-20T07:08:17.440Z"
   },
   {
    "duration": 61,
    "start_time": "2022-05-20T07:08:27.592Z"
   },
   {
    "duration": 1482,
    "start_time": "2022-05-20T07:09:03.792Z"
   },
   {
    "duration": 1040,
    "start_time": "2022-05-20T07:09:05.277Z"
   },
   {
    "duration": 5,
    "start_time": "2022-05-20T07:09:06.319Z"
   },
   {
    "duration": 124,
    "start_time": "2022-05-20T07:09:06.325Z"
   },
   {
    "duration": 65,
    "start_time": "2022-05-20T07:09:06.451Z"
   },
   {
    "duration": 54,
    "start_time": "2022-05-20T07:09:06.517Z"
   },
   {
    "duration": 33,
    "start_time": "2022-05-20T07:09:06.573Z"
   },
   {
    "duration": 34,
    "start_time": "2022-05-20T07:09:06.607Z"
   },
   {
    "duration": 12,
    "start_time": "2022-05-20T07:09:06.665Z"
   },
   {
    "duration": 99,
    "start_time": "2022-05-20T07:09:06.686Z"
   },
   {
    "duration": 6,
    "start_time": "2022-05-20T07:09:06.795Z"
   },
   {
    "duration": 446,
    "start_time": "2022-05-20T07:09:06.802Z"
   },
   {
    "duration": 466,
    "start_time": "2022-05-20T07:09:07.250Z"
   },
   {
    "duration": 9,
    "start_time": "2022-05-20T07:09:07.720Z"
   },
   {
    "duration": 7,
    "start_time": "2022-05-20T07:09:07.731Z"
   },
   {
    "duration": 73,
    "start_time": "2022-05-20T07:09:07.740Z"
   },
   {
    "duration": 279,
    "start_time": "2022-05-20T07:09:07.815Z"
   },
   {
    "duration": 329,
    "start_time": "2022-05-20T07:09:08.096Z"
   },
   {
    "duration": 17,
    "start_time": "2022-05-20T07:09:08.427Z"
   },
   {
    "duration": 68,
    "start_time": "2022-05-20T07:09:08.446Z"
   },
   {
    "duration": 228,
    "start_time": "2022-05-20T07:09:08.516Z"
   },
   {
    "duration": 24,
    "start_time": "2022-05-20T07:09:08.746Z"
   },
   {
    "duration": 69,
    "start_time": "2022-05-20T07:09:08.772Z"
   },
   {
    "duration": 6,
    "start_time": "2022-05-20T07:09:08.843Z"
   },
   {
    "duration": 24,
    "start_time": "2022-05-20T07:09:08.851Z"
   },
   {
    "duration": 242,
    "start_time": "2022-05-20T07:09:08.876Z"
   },
   {
    "duration": 154,
    "start_time": "2022-05-20T07:09:09.121Z"
   },
   {
    "duration": 115,
    "start_time": "2022-05-20T07:09:09.276Z"
   },
   {
    "duration": 19,
    "start_time": "2022-05-20T07:09:09.393Z"
   },
   {
    "duration": 158,
    "start_time": "2022-05-20T07:09:09.414Z"
   },
   {
    "duration": 27,
    "start_time": "2022-05-20T07:09:09.577Z"
   },
   {
    "duration": 61,
    "start_time": "2022-05-20T07:09:09.606Z"
   },
   {
    "duration": 27,
    "start_time": "2022-05-20T07:09:09.669Z"
   },
   {
    "duration": 20,
    "start_time": "2022-05-20T07:09:09.698Z"
   },
   {
    "duration": 51,
    "start_time": "2022-05-20T07:09:09.720Z"
   },
   {
    "duration": 4624,
    "start_time": "2022-05-20T07:09:09.774Z"
   },
   {
    "duration": 82,
    "start_time": "2022-05-20T07:09:14.400Z"
   },
   {
    "duration": 18,
    "start_time": "2022-05-20T07:09:14.484Z"
   },
   {
    "duration": 223,
    "start_time": "2022-05-20T07:09:14.503Z"
   },
   {
    "duration": 164,
    "start_time": "2022-05-20T07:09:14.727Z"
   },
   {
    "duration": 13,
    "start_time": "2022-05-20T07:09:22.522Z"
   },
   {
    "duration": 8,
    "start_time": "2022-05-20T07:09:39.091Z"
   },
   {
    "duration": 13,
    "start_time": "2022-05-20T07:09:53.272Z"
   },
   {
    "duration": 8,
    "start_time": "2022-05-20T07:10:05.095Z"
   },
   {
    "duration": 24,
    "start_time": "2022-05-20T07:10:09.560Z"
   },
   {
    "duration": 14,
    "start_time": "2022-05-20T07:10:21.732Z"
   },
   {
    "duration": 12,
    "start_time": "2022-05-20T07:13:19.793Z"
   },
   {
    "duration": 18,
    "start_time": "2022-05-20T07:13:25.176Z"
   },
   {
    "duration": 14,
    "start_time": "2022-05-20T07:18:13.723Z"
   },
   {
    "duration": 92,
    "start_time": "2022-05-20T07:18:18.630Z"
   },
   {
    "duration": 159,
    "start_time": "2022-05-20T07:19:49.940Z"
   },
   {
    "duration": 19,
    "start_time": "2022-05-20T07:20:09.542Z"
   },
   {
    "duration": 25,
    "start_time": "2022-05-20T07:22:26.356Z"
   },
   {
    "duration": 140,
    "start_time": "2022-05-20T07:22:47.576Z"
   },
   {
    "duration": 31,
    "start_time": "2022-05-20T07:33:54.716Z"
   },
   {
    "duration": 1404,
    "start_time": "2022-05-20T07:34:14.518Z"
   },
   {
    "duration": 525,
    "start_time": "2022-05-20T07:34:15.925Z"
   },
   {
    "duration": 4,
    "start_time": "2022-05-20T07:34:16.452Z"
   },
   {
    "duration": 176,
    "start_time": "2022-05-20T07:34:16.459Z"
   },
   {
    "duration": 66,
    "start_time": "2022-05-20T07:34:16.637Z"
   },
   {
    "duration": 76,
    "start_time": "2022-05-20T07:34:16.705Z"
   },
   {
    "duration": 43,
    "start_time": "2022-05-20T07:34:16.783Z"
   },
   {
    "duration": 45,
    "start_time": "2022-05-20T07:34:16.829Z"
   },
   {
    "duration": 4,
    "start_time": "2022-05-20T07:34:16.876Z"
   },
   {
    "duration": 143,
    "start_time": "2022-05-20T07:34:16.883Z"
   },
   {
    "duration": 5,
    "start_time": "2022-05-20T07:34:17.028Z"
   },
   {
    "duration": 1061,
    "start_time": "2022-05-20T07:34:17.034Z"
   },
   {
    "duration": 1115,
    "start_time": "2022-05-20T07:34:18.098Z"
   },
   {
    "duration": 66,
    "start_time": "2022-05-20T07:34:19.216Z"
   },
   {
    "duration": 79,
    "start_time": "2022-05-20T07:34:19.284Z"
   },
   {
    "duration": 227,
    "start_time": "2022-05-20T07:34:19.366Z"
   },
   {
    "duration": 620,
    "start_time": "2022-05-20T07:34:19.596Z"
   },
   {
    "duration": 485,
    "start_time": "2022-05-20T07:34:20.218Z"
   },
   {
    "duration": 29,
    "start_time": "2022-05-20T07:34:20.709Z"
   },
   {
    "duration": 124,
    "start_time": "2022-05-20T07:34:20.743Z"
   },
   {
    "duration": 300,
    "start_time": "2022-05-20T07:34:20.872Z"
   },
   {
    "duration": 10,
    "start_time": "2022-05-20T07:34:21.193Z"
   },
   {
    "duration": 89,
    "start_time": "2022-05-20T07:34:21.206Z"
   },
   {
    "duration": 11,
    "start_time": "2022-05-20T07:34:21.299Z"
   },
   {
    "duration": 44,
    "start_time": "2022-05-20T07:34:21.312Z"
   },
   {
    "duration": 102,
    "start_time": "2022-05-20T07:34:21.359Z"
   },
   {
    "duration": 54,
    "start_time": "2022-05-20T07:34:21.463Z"
   },
   {
    "duration": 56,
    "start_time": "2022-05-20T07:34:21.522Z"
   },
   {
    "duration": 15,
    "start_time": "2022-05-20T07:34:21.588Z"
   },
   {
    "duration": 56,
    "start_time": "2022-05-20T07:34:21.605Z"
   },
   {
    "duration": 31,
    "start_time": "2022-05-20T07:34:21.670Z"
   },
   {
    "duration": 34,
    "start_time": "2022-05-20T07:34:21.703Z"
   },
   {
    "duration": 12,
    "start_time": "2022-05-20T07:34:21.739Z"
   },
   {
    "duration": 26,
    "start_time": "2022-05-20T07:34:21.754Z"
   },
   {
    "duration": 39,
    "start_time": "2022-05-20T07:34:21.782Z"
   },
   {
    "duration": 5601,
    "start_time": "2022-05-20T07:34:21.824Z"
   },
   {
    "duration": 97,
    "start_time": "2022-05-20T07:34:27.427Z"
   },
   {
    "duration": 27,
    "start_time": "2022-05-20T07:34:27.526Z"
   },
   {
    "duration": 304,
    "start_time": "2022-05-20T07:34:27.555Z"
   },
   {
    "duration": 20,
    "start_time": "2022-05-20T07:34:27.864Z"
   },
   {
    "duration": 30,
    "start_time": "2022-05-20T07:34:27.886Z"
   },
   {
    "duration": 224,
    "start_time": "2022-05-20T07:34:27.919Z"
   },
   {
    "duration": 187,
    "start_time": "2022-05-20T07:34:28.145Z"
   },
   {
    "duration": 161,
    "start_time": "2022-05-20T07:34:28.334Z"
   },
   {
    "duration": 6,
    "start_time": "2022-05-20T07:39:48.131Z"
   },
   {
    "duration": 13,
    "start_time": "2022-05-20T07:40:20.128Z"
   },
   {
    "duration": 501,
    "start_time": "2022-05-20T07:41:08.165Z"
   },
   {
    "duration": 1313,
    "start_time": "2022-05-20T07:41:17.837Z"
   },
   {
    "duration": 585,
    "start_time": "2022-05-20T07:41:19.153Z"
   },
   {
    "duration": 4,
    "start_time": "2022-05-20T07:41:19.741Z"
   },
   {
    "duration": 132,
    "start_time": "2022-05-20T07:41:19.748Z"
   },
   {
    "duration": 52,
    "start_time": "2022-05-20T07:41:19.882Z"
   },
   {
    "duration": 75,
    "start_time": "2022-05-20T07:41:19.936Z"
   },
   {
    "duration": 56,
    "start_time": "2022-05-20T07:41:20.014Z"
   },
   {
    "duration": 28,
    "start_time": "2022-05-20T07:41:20.076Z"
   },
   {
    "duration": 5,
    "start_time": "2022-05-20T07:41:20.107Z"
   },
   {
    "duration": 114,
    "start_time": "2022-05-20T07:41:20.115Z"
   },
   {
    "duration": 5,
    "start_time": "2022-05-20T07:41:20.231Z"
   },
   {
    "duration": 487,
    "start_time": "2022-05-20T07:41:20.239Z"
   },
   {
    "duration": 428,
    "start_time": "2022-05-20T07:41:20.728Z"
   },
   {
    "duration": 22,
    "start_time": "2022-05-20T07:41:21.159Z"
   },
   {
    "duration": 22,
    "start_time": "2022-05-20T07:41:21.184Z"
   },
   {
    "duration": 93,
    "start_time": "2022-05-20T07:41:21.208Z"
   },
   {
    "duration": 676,
    "start_time": "2022-05-20T07:41:21.303Z"
   },
   {
    "duration": 790,
    "start_time": "2022-05-20T07:41:21.980Z"
   },
   {
    "duration": 23,
    "start_time": "2022-05-20T07:41:22.773Z"
   },
   {
    "duration": 113,
    "start_time": "2022-05-20T07:41:22.797Z"
   },
   {
    "duration": 576,
    "start_time": "2022-05-20T07:41:22.912Z"
   },
   {
    "duration": 8,
    "start_time": "2022-05-20T07:41:23.490Z"
   },
   {
    "duration": 96,
    "start_time": "2022-05-20T07:41:23.499Z"
   },
   {
    "duration": 7,
    "start_time": "2022-05-20T07:41:23.598Z"
   },
   {
    "duration": 68,
    "start_time": "2022-05-20T07:41:23.607Z"
   },
   {
    "duration": 224,
    "start_time": "2022-05-20T07:41:23.676Z"
   },
   {
    "duration": 98,
    "start_time": "2022-05-20T07:41:23.903Z"
   },
   {
    "duration": 82,
    "start_time": "2022-05-20T07:41:24.006Z"
   },
   {
    "duration": 15,
    "start_time": "2022-05-20T07:41:24.090Z"
   },
   {
    "duration": 51,
    "start_time": "2022-05-20T07:41:24.107Z"
   },
   {
    "duration": 26,
    "start_time": "2022-05-20T07:41:24.167Z"
   },
   {
    "duration": 18,
    "start_time": "2022-05-20T07:41:24.195Z"
   },
   {
    "duration": 11,
    "start_time": "2022-05-20T07:41:24.215Z"
   },
   {
    "duration": 42,
    "start_time": "2022-05-20T07:41:24.228Z"
   },
   {
    "duration": 15,
    "start_time": "2022-05-20T07:41:24.272Z"
   },
   {
    "duration": 4552,
    "start_time": "2022-05-20T07:41:24.290Z"
   },
   {
    "duration": 91,
    "start_time": "2022-05-20T07:41:28.846Z"
   },
   {
    "duration": 55,
    "start_time": "2022-05-20T07:41:28.939Z"
   },
   {
    "duration": 297,
    "start_time": "2022-05-20T07:41:28.997Z"
   },
   {
    "duration": 21,
    "start_time": "2022-05-20T07:41:29.298Z"
   },
   {
    "duration": 23,
    "start_time": "2022-05-20T07:41:29.322Z"
   },
   {
    "duration": 221,
    "start_time": "2022-05-20T07:41:29.348Z"
   },
   {
    "duration": 208,
    "start_time": "2022-05-20T07:41:29.576Z"
   },
   {
    "duration": 406,
    "start_time": "2022-05-20T07:41:29.785Z"
   },
   {
    "duration": 138,
    "start_time": "2022-05-20T07:42:18.142Z"
   },
   {
    "duration": 324,
    "start_time": "2022-05-20T07:42:26.552Z"
   },
   {
    "duration": 16,
    "start_time": "2022-05-20T07:42:43.340Z"
   },
   {
    "duration": 14,
    "start_time": "2022-05-20T07:42:47.897Z"
   },
   {
    "duration": 247,
    "start_time": "2022-05-20T07:43:55.851Z"
   },
   {
    "duration": 14,
    "start_time": "2022-05-20T07:47:17.970Z"
   },
   {
    "duration": 331,
    "start_time": "2022-05-20T07:47:29.120Z"
   },
   {
    "duration": 130,
    "start_time": "2022-05-20T07:56:43.355Z"
   },
   {
    "duration": 10,
    "start_time": "2022-05-20T07:58:57.613Z"
   },
   {
    "duration": 13,
    "start_time": "2022-05-20T07:59:07.771Z"
   },
   {
    "duration": 239,
    "start_time": "2022-05-20T07:59:48.032Z"
   },
   {
    "duration": 231,
    "start_time": "2022-05-20T08:00:08.418Z"
   },
   {
    "duration": 278,
    "start_time": "2022-05-20T08:00:16.484Z"
   },
   {
    "duration": 278,
    "start_time": "2022-05-20T08:00:26.232Z"
   },
   {
    "duration": 353,
    "start_time": "2022-05-20T08:00:31.083Z"
   },
   {
    "duration": 226,
    "start_time": "2022-05-20T08:00:33.812Z"
   },
   {
    "duration": 232,
    "start_time": "2022-05-20T08:01:22.089Z"
   },
   {
    "duration": 293,
    "start_time": "2022-05-20T08:01:52.143Z"
   },
   {
    "duration": 293,
    "start_time": "2022-05-20T08:02:03.895Z"
   },
   {
    "duration": 357,
    "start_time": "2022-05-20T08:02:18.034Z"
   },
   {
    "duration": 280,
    "start_time": "2022-05-20T08:08:23.678Z"
   },
   {
    "duration": 514,
    "start_time": "2022-05-20T08:08:48.682Z"
   },
   {
    "duration": 4,
    "start_time": "2022-05-20T08:11:44.987Z"
   },
   {
    "duration": 4,
    "start_time": "2022-05-20T08:11:56.444Z"
   },
   {
    "duration": 7,
    "start_time": "2022-05-20T08:11:59.227Z"
   },
   {
    "duration": 418,
    "start_time": "2022-05-20T08:12:00.617Z"
   },
   {
    "duration": 4,
    "start_time": "2022-05-20T08:13:43.824Z"
   },
   {
    "duration": 618,
    "start_time": "2022-05-20T08:13:44.995Z"
   },
   {
    "duration": 5,
    "start_time": "2022-05-20T08:14:05.808Z"
   },
   {
    "duration": 649,
    "start_time": "2022-05-20T08:14:11.177Z"
   },
   {
    "duration": 4,
    "start_time": "2022-05-20T08:16:16.093Z"
   },
   {
    "duration": 234,
    "start_time": "2022-05-20T08:16:18.295Z"
   },
   {
    "duration": 5,
    "start_time": "2022-05-20T08:16:33.922Z"
   },
   {
    "duration": 903,
    "start_time": "2022-05-20T08:16:37.303Z"
   },
   {
    "duration": 5,
    "start_time": "2022-05-20T08:17:27.945Z"
   },
   {
    "duration": 743,
    "start_time": "2022-05-20T08:17:29.237Z"
   },
   {
    "duration": 4,
    "start_time": "2022-05-20T08:18:14.649Z"
   },
   {
    "duration": 678,
    "start_time": "2022-05-20T08:18:15.765Z"
   },
   {
    "duration": 6,
    "start_time": "2022-05-20T08:18:30.407Z"
   },
   {
    "duration": 789,
    "start_time": "2022-05-20T08:18:31.733Z"
   },
   {
    "duration": 786,
    "start_time": "2022-05-20T08:36:26.506Z"
   },
   {
    "duration": 7,
    "start_time": "2022-05-20T08:40:56.510Z"
   },
   {
    "duration": 746,
    "start_time": "2022-05-20T08:41:01.130Z"
   },
   {
    "duration": 8,
    "start_time": "2022-05-20T08:42:14.792Z"
   },
   {
    "duration": 901,
    "start_time": "2022-05-20T08:42:16.035Z"
   },
   {
    "duration": 740,
    "start_time": "2022-05-20T08:43:09.547Z"
   },
   {
    "duration": 1014,
    "start_time": "2022-05-20T08:47:01.463Z"
   },
   {
    "duration": 5465,
    "start_time": "2022-05-20T08:58:03.323Z"
   },
   {
    "duration": 7005,
    "start_time": "2022-05-20T08:58:24.531Z"
   },
   {
    "duration": 5538,
    "start_time": "2022-05-20T08:58:43.081Z"
   },
   {
    "duration": 5173,
    "start_time": "2022-05-20T08:59:30.633Z"
   },
   {
    "duration": 6128,
    "start_time": "2022-05-20T08:59:40.021Z"
   },
   {
    "duration": 4789,
    "start_time": "2022-05-20T09:00:07.298Z"
   },
   {
    "duration": 757,
    "start_time": "2022-05-20T09:02:52.091Z"
   },
   {
    "duration": 50,
    "start_time": "2022-05-20T09:16:58.070Z"
   },
   {
    "duration": 50,
    "start_time": "2022-05-20T09:17:02.414Z"
   },
   {
    "duration": 32,
    "start_time": "2022-05-20T09:18:29.650Z"
   },
   {
    "duration": 55,
    "start_time": "2022-05-20T09:26:49.060Z"
   },
   {
    "duration": 32,
    "start_time": "2022-05-20T09:26:55.096Z"
   },
   {
    "duration": 473,
    "start_time": "2022-05-20T09:43:27.057Z"
   },
   {
    "duration": 424,
    "start_time": "2022-05-20T09:43:48.576Z"
   },
   {
    "duration": 899,
    "start_time": "2022-05-20T09:44:30.548Z"
   },
   {
    "duration": 659,
    "start_time": "2022-05-20T09:44:46.597Z"
   },
   {
    "duration": 7,
    "start_time": "2022-05-20T09:45:24.406Z"
   },
   {
    "duration": 949,
    "start_time": "2022-05-20T09:45:25.988Z"
   },
   {
    "duration": 9,
    "start_time": "2022-05-20T09:45:36.203Z"
   },
   {
    "duration": 1115,
    "start_time": "2022-05-20T09:45:41.889Z"
   },
   {
    "duration": 1306,
    "start_time": "2022-05-20T09:45:49.414Z"
   },
   {
    "duration": 1200,
    "start_time": "2022-05-20T09:46:07.210Z"
   },
   {
    "duration": 3951,
    "start_time": "2022-05-20T10:53:20.702Z"
   },
   {
    "duration": 182,
    "start_time": "2022-05-20T10:58:45.040Z"
   },
   {
    "duration": 157,
    "start_time": "2022-05-20T10:59:39.588Z"
   },
   {
    "duration": 154,
    "start_time": "2022-05-20T11:00:21.494Z"
   },
   {
    "duration": 22,
    "start_time": "2022-05-20T11:01:05.891Z"
   },
   {
    "duration": 303,
    "start_time": "2022-05-20T11:01:48.453Z"
   },
   {
    "duration": 21,
    "start_time": "2022-05-20T11:55:33.231Z"
   },
   {
    "duration": 15,
    "start_time": "2022-05-20T11:55:38.899Z"
   },
   {
    "duration": 9,
    "start_time": "2022-05-20T11:55:56.892Z"
   },
   {
    "duration": 86,
    "start_time": "2022-05-20T11:56:43.956Z"
   },
   {
    "duration": 107,
    "start_time": "2022-05-20T11:56:55.190Z"
   },
   {
    "duration": 5,
    "start_time": "2022-05-20T11:57:56.648Z"
   },
   {
    "duration": 5,
    "start_time": "2022-05-20T11:59:59.713Z"
   },
   {
    "duration": 6,
    "start_time": "2022-05-20T12:00:03.509Z"
   },
   {
    "duration": 5,
    "start_time": "2022-05-20T12:01:49.796Z"
   },
   {
    "duration": 6,
    "start_time": "2022-05-20T12:04:35.472Z"
   },
   {
    "duration": 5,
    "start_time": "2022-05-20T12:04:39.653Z"
   },
   {
    "duration": 5,
    "start_time": "2022-05-20T12:04:44.713Z"
   },
   {
    "duration": 5,
    "start_time": "2022-05-20T12:04:48.411Z"
   },
   {
    "duration": 6,
    "start_time": "2022-05-20T12:04:52.052Z"
   },
   {
    "duration": 5,
    "start_time": "2022-05-20T12:04:56.531Z"
   },
   {
    "duration": 6,
    "start_time": "2022-05-20T12:05:10.518Z"
   },
   {
    "duration": 6,
    "start_time": "2022-05-20T12:05:13.505Z"
   },
   {
    "duration": 5,
    "start_time": "2022-05-20T12:05:21.163Z"
   },
   {
    "duration": 5,
    "start_time": "2022-05-20T12:17:43.040Z"
   },
   {
    "duration": 61,
    "start_time": "2022-05-20T12:18:45.202Z"
   },
   {
    "duration": 4,
    "start_time": "2022-05-20T12:19:18.337Z"
   },
   {
    "duration": 5,
    "start_time": "2022-05-20T12:21:50.600Z"
   },
   {
    "duration": 5,
    "start_time": "2022-05-20T12:22:01.449Z"
   },
   {
    "duration": 8,
    "start_time": "2022-05-20T14:28:46.005Z"
   },
   {
    "duration": 42,
    "start_time": "2022-05-20T14:30:09.894Z"
   },
   {
    "duration": 11,
    "start_time": "2022-05-20T14:31:17.098Z"
   },
   {
    "duration": 6,
    "start_time": "2022-05-20T14:31:27.988Z"
   },
   {
    "duration": 15,
    "start_time": "2022-05-20T14:32:14.166Z"
   },
   {
    "duration": 13,
    "start_time": "2022-05-20T14:32:51.788Z"
   },
   {
    "duration": 6,
    "start_time": "2022-05-20T14:33:04.996Z"
   },
   {
    "duration": 12,
    "start_time": "2022-05-20T14:36:48.563Z"
   },
   {
    "duration": 5,
    "start_time": "2022-05-20T14:36:55.201Z"
   },
   {
    "duration": 12,
    "start_time": "2022-05-20T14:42:52.535Z"
   },
   {
    "duration": 1355,
    "start_time": "2022-05-20T14:43:01.554Z"
   },
   {
    "duration": 879,
    "start_time": "2022-05-20T14:43:02.911Z"
   },
   {
    "duration": 4,
    "start_time": "2022-05-20T14:43:03.792Z"
   },
   {
    "duration": 124,
    "start_time": "2022-05-20T14:43:03.798Z"
   },
   {
    "duration": 61,
    "start_time": "2022-05-20T14:43:03.924Z"
   },
   {
    "duration": 43,
    "start_time": "2022-05-20T14:43:03.987Z"
   },
   {
    "duration": 57,
    "start_time": "2022-05-20T14:43:04.032Z"
   },
   {
    "duration": 22,
    "start_time": "2022-05-20T14:43:04.090Z"
   },
   {
    "duration": 5,
    "start_time": "2022-05-20T14:43:04.114Z"
   },
   {
    "duration": 109,
    "start_time": "2022-05-20T14:43:04.122Z"
   },
   {
    "duration": 5,
    "start_time": "2022-05-20T14:43:04.232Z"
   },
   {
    "duration": 507,
    "start_time": "2022-05-20T14:43:04.238Z"
   },
   {
    "duration": 447,
    "start_time": "2022-05-20T14:43:04.747Z"
   },
   {
    "duration": 12,
    "start_time": "2022-05-20T14:43:05.195Z"
   },
   {
    "duration": 10,
    "start_time": "2022-05-20T14:43:05.209Z"
   },
   {
    "duration": 69,
    "start_time": "2022-05-20T14:43:05.221Z"
   },
   {
    "duration": 265,
    "start_time": "2022-05-20T14:43:05.292Z"
   },
   {
    "duration": 350,
    "start_time": "2022-05-20T14:43:05.559Z"
   },
   {
    "duration": 20,
    "start_time": "2022-05-20T14:43:05.911Z"
   },
   {
    "duration": 61,
    "start_time": "2022-05-20T14:43:05.933Z"
   },
   {
    "duration": 232,
    "start_time": "2022-05-20T14:43:05.997Z"
   },
   {
    "duration": 6,
    "start_time": "2022-05-20T14:43:06.231Z"
   },
   {
    "duration": 54,
    "start_time": "2022-05-20T14:43:06.239Z"
   },
   {
    "duration": 5,
    "start_time": "2022-05-20T14:43:06.295Z"
   },
   {
    "duration": 15,
    "start_time": "2022-05-20T14:43:06.301Z"
   },
   {
    "duration": 105,
    "start_time": "2022-05-20T14:43:06.318Z"
   },
   {
    "duration": 44,
    "start_time": "2022-05-20T14:43:06.425Z"
   },
   {
    "duration": 41,
    "start_time": "2022-05-20T14:43:06.480Z"
   },
   {
    "duration": 12,
    "start_time": "2022-05-20T14:43:06.523Z"
   },
   {
    "duration": 74,
    "start_time": "2022-05-20T14:43:06.536Z"
   },
   {
    "duration": 18,
    "start_time": "2022-05-20T14:43:06.611Z"
   },
   {
    "duration": 36,
    "start_time": "2022-05-20T14:43:06.630Z"
   },
   {
    "duration": 15,
    "start_time": "2022-05-20T14:43:06.677Z"
   },
   {
    "duration": 10,
    "start_time": "2022-05-20T14:43:06.694Z"
   },
   {
    "duration": 11,
    "start_time": "2022-05-20T14:43:06.705Z"
   },
   {
    "duration": 4075,
    "start_time": "2022-05-20T14:43:06.718Z"
   },
   {
    "duration": 55,
    "start_time": "2022-05-20T14:43:10.795Z"
   },
   {
    "duration": 41,
    "start_time": "2022-05-20T14:43:10.852Z"
   },
   {
    "duration": 207,
    "start_time": "2022-05-20T14:43:10.896Z"
   },
   {
    "duration": 14,
    "start_time": "2022-05-20T14:43:11.105Z"
   },
   {
    "duration": 16,
    "start_time": "2022-05-20T14:43:11.121Z"
   },
   {
    "duration": 172,
    "start_time": "2022-05-20T14:43:11.139Z"
   },
   {
    "duration": 172,
    "start_time": "2022-05-20T14:43:11.313Z"
   },
   {
    "duration": 4,
    "start_time": "2022-05-20T14:43:11.491Z"
   },
   {
    "duration": 961,
    "start_time": "2022-05-20T14:43:11.496Z"
   },
   {
    "duration": 831,
    "start_time": "2022-05-20T14:43:12.464Z"
   },
   {
    "duration": 1034,
    "start_time": "2022-05-20T14:43:13.297Z"
   },
   {
    "duration": 8,
    "start_time": "2022-05-20T14:43:14.333Z"
   },
   {
    "duration": 25,
    "start_time": "2022-05-20T14:43:14.343Z"
   },
   {
    "duration": 47,
    "start_time": "2022-05-20T14:43:14.369Z"
   },
   {
    "duration": 13,
    "start_time": "2022-05-20T14:43:14.418Z"
   },
   {
    "duration": 25,
    "start_time": "2022-05-20T14:43:14.433Z"
   },
   {
    "duration": 37,
    "start_time": "2022-05-20T14:43:14.460Z"
   },
   {
    "duration": 17,
    "start_time": "2022-05-20T14:43:14.499Z"
   },
   {
    "duration": 14,
    "start_time": "2022-05-20T14:43:14.518Z"
   },
   {
    "duration": 30,
    "start_time": "2022-05-20T14:43:14.534Z"
   },
   {
    "duration": 46,
    "start_time": "2022-05-20T14:43:14.566Z"
   },
   {
    "duration": 1360,
    "start_time": "2022-05-20T18:24:36.139Z"
   },
   {
    "duration": 719,
    "start_time": "2022-05-20T18:24:37.501Z"
   },
   {
    "duration": 4,
    "start_time": "2022-05-20T18:24:38.221Z"
   },
   {
    "duration": 181,
    "start_time": "2022-05-20T18:24:38.227Z"
   },
   {
    "duration": 52,
    "start_time": "2022-05-20T18:24:38.410Z"
   },
   {
    "duration": 37,
    "start_time": "2022-05-20T18:24:38.463Z"
   },
   {
    "duration": 44,
    "start_time": "2022-05-20T18:24:38.502Z"
   },
   {
    "duration": 23,
    "start_time": "2022-05-20T18:24:38.548Z"
   },
   {
    "duration": 4,
    "start_time": "2022-05-20T18:24:38.573Z"
   },
   {
    "duration": 104,
    "start_time": "2022-05-20T18:24:38.581Z"
   },
   {
    "duration": 5,
    "start_time": "2022-05-20T18:24:38.687Z"
   },
   {
    "duration": 411,
    "start_time": "2022-05-20T18:24:38.693Z"
   },
   {
    "duration": 324,
    "start_time": "2022-05-20T18:24:39.105Z"
   },
   {
    "duration": 11,
    "start_time": "2022-05-20T18:24:39.431Z"
   },
   {
    "duration": 8,
    "start_time": "2022-05-20T18:24:39.444Z"
   },
   {
    "duration": 47,
    "start_time": "2022-05-20T18:24:39.453Z"
   },
   {
    "duration": 206,
    "start_time": "2022-05-20T18:24:39.502Z"
   },
   {
    "duration": 292,
    "start_time": "2022-05-20T18:24:39.710Z"
   },
   {
    "duration": 23,
    "start_time": "2022-05-20T18:24:40.004Z"
   },
   {
    "duration": 36,
    "start_time": "2022-05-20T18:24:40.029Z"
   },
   {
    "duration": 177,
    "start_time": "2022-05-20T18:24:40.066Z"
   },
   {
    "duration": 6,
    "start_time": "2022-05-20T18:24:40.244Z"
   },
   {
    "duration": 38,
    "start_time": "2022-05-20T18:24:40.251Z"
   },
   {
    "duration": 6,
    "start_time": "2022-05-20T18:24:40.291Z"
   },
   {
    "duration": 36,
    "start_time": "2022-05-20T18:24:40.298Z"
   },
   {
    "duration": 72,
    "start_time": "2022-05-20T18:24:40.335Z"
   },
   {
    "duration": 42,
    "start_time": "2022-05-20T18:24:40.410Z"
   },
   {
    "duration": 29,
    "start_time": "2022-05-20T18:24:40.455Z"
   },
   {
    "duration": 12,
    "start_time": "2022-05-20T18:24:40.486Z"
   },
   {
    "duration": 38,
    "start_time": "2022-05-20T18:24:40.523Z"
   },
   {
    "duration": 15,
    "start_time": "2022-05-20T18:24:40.563Z"
   },
   {
    "duration": 16,
    "start_time": "2022-05-20T18:24:40.580Z"
   },
   {
    "duration": 28,
    "start_time": "2022-05-20T18:24:40.598Z"
   },
   {
    "duration": 11,
    "start_time": "2022-05-20T18:24:40.628Z"
   },
   {
    "duration": 6,
    "start_time": "2022-05-20T18:24:40.641Z"
   },
   {
    "duration": 3285,
    "start_time": "2022-05-20T18:24:40.648Z"
   },
   {
    "duration": 51,
    "start_time": "2022-05-20T18:24:43.935Z"
   },
   {
    "duration": 16,
    "start_time": "2022-05-20T18:24:43.987Z"
   },
   {
    "duration": 184,
    "start_time": "2022-05-20T18:24:44.005Z"
   },
   {
    "duration": 13,
    "start_time": "2022-05-20T18:24:44.190Z"
   },
   {
    "duration": 26,
    "start_time": "2022-05-20T18:24:44.204Z"
   },
   {
    "duration": 127,
    "start_time": "2022-05-20T18:24:44.231Z"
   },
   {
    "duration": 220,
    "start_time": "2022-05-20T18:24:44.359Z"
   },
   {
    "duration": 4,
    "start_time": "2022-05-20T18:24:44.581Z"
   },
   {
    "duration": 787,
    "start_time": "2022-05-20T18:24:44.586Z"
   },
   {
    "duration": 768,
    "start_time": "2022-05-20T18:24:45.375Z"
   },
   {
    "duration": 885,
    "start_time": "2022-05-20T18:24:46.146Z"
   },
   {
    "duration": 7,
    "start_time": "2022-05-20T18:24:47.033Z"
   },
   {
    "duration": 6,
    "start_time": "2022-05-20T18:24:47.041Z"
   },
   {
    "duration": 7,
    "start_time": "2022-05-20T18:24:47.049Z"
   },
   {
    "duration": 9,
    "start_time": "2022-05-20T18:24:47.058Z"
   },
   {
    "duration": 7,
    "start_time": "2022-05-20T18:24:47.069Z"
   },
   {
    "duration": 11,
    "start_time": "2022-05-20T18:24:47.077Z"
   },
   {
    "duration": 9,
    "start_time": "2022-05-20T18:24:47.090Z"
   },
   {
    "duration": 24,
    "start_time": "2022-05-20T18:24:47.100Z"
   },
   {
    "duration": 5,
    "start_time": "2022-05-20T18:24:47.125Z"
   },
   {
    "duration": 6,
    "start_time": "2022-05-20T18:24:47.131Z"
   },
   {
    "duration": 76,
    "start_time": "2022-05-21T11:10:51.276Z"
   },
   {
    "duration": 1267,
    "start_time": "2022-05-21T11:11:01.396Z"
   },
   {
    "duration": 2220,
    "start_time": "2022-05-21T11:11:02.665Z"
   },
   {
    "duration": 5,
    "start_time": "2022-05-21T11:11:04.887Z"
   },
   {
    "duration": 146,
    "start_time": "2022-05-21T11:11:04.894Z"
   },
   {
    "duration": 73,
    "start_time": "2022-05-21T11:11:05.042Z"
   },
   {
    "duration": 72,
    "start_time": "2022-05-21T11:11:05.117Z"
   },
   {
    "duration": 70,
    "start_time": "2022-05-21T11:11:05.191Z"
   },
   {
    "duration": 42,
    "start_time": "2022-05-21T11:11:05.266Z"
   },
   {
    "duration": 10,
    "start_time": "2022-05-21T11:11:05.312Z"
   },
   {
    "duration": 137,
    "start_time": "2022-05-21T11:11:05.327Z"
   },
   {
    "duration": 17,
    "start_time": "2022-05-21T11:11:05.472Z"
   },
   {
    "duration": 510,
    "start_time": "2022-05-21T11:11:05.494Z"
   },
   {
    "duration": 509,
    "start_time": "2022-05-21T11:11:06.008Z"
   },
   {
    "duration": 11,
    "start_time": "2022-05-21T11:11:06.521Z"
   },
   {
    "duration": 26,
    "start_time": "2022-05-21T11:11:06.534Z"
   },
   {
    "duration": 94,
    "start_time": "2022-05-21T11:11:06.571Z"
   },
   {
    "duration": 338,
    "start_time": "2022-05-21T11:11:06.666Z"
   },
   {
    "duration": 463,
    "start_time": "2022-05-21T11:11:07.008Z"
   },
   {
    "duration": 30,
    "start_time": "2022-05-21T11:11:07.477Z"
   },
   {
    "duration": 68,
    "start_time": "2022-05-21T11:11:07.513Z"
   },
   {
    "duration": 331,
    "start_time": "2022-05-21T11:11:07.587Z"
   },
   {
    "duration": 9,
    "start_time": "2022-05-21T11:11:07.921Z"
   },
   {
    "duration": 122,
    "start_time": "2022-05-21T11:11:07.933Z"
   },
   {
    "duration": 11,
    "start_time": "2022-05-21T11:11:08.056Z"
   },
   {
    "duration": 67,
    "start_time": "2022-05-21T11:11:08.068Z"
   },
   {
    "duration": 88,
    "start_time": "2022-05-21T11:11:08.136Z"
   },
   {
    "duration": 42,
    "start_time": "2022-05-21T11:11:08.226Z"
   },
   {
    "duration": 60,
    "start_time": "2022-05-21T11:11:08.270Z"
   },
   {
    "duration": 20,
    "start_time": "2022-05-21T11:11:08.332Z"
   },
   {
    "duration": 99,
    "start_time": "2022-05-21T11:11:08.354Z"
   },
   {
    "duration": 17,
    "start_time": "2022-05-21T11:11:08.454Z"
   },
   {
    "duration": 56,
    "start_time": "2022-05-21T11:11:08.472Z"
   },
   {
    "duration": 28,
    "start_time": "2022-05-21T11:11:08.530Z"
   },
   {
    "duration": 60,
    "start_time": "2022-05-21T11:11:08.565Z"
   },
   {
    "duration": 21,
    "start_time": "2022-05-21T11:11:08.627Z"
   },
   {
    "duration": 68,
    "start_time": "2022-05-21T11:11:08.651Z"
   },
   {
    "duration": 4573,
    "start_time": "2022-05-21T11:11:08.722Z"
   },
   {
    "duration": 70,
    "start_time": "2022-05-21T11:11:13.300Z"
   },
   {
    "duration": 33,
    "start_time": "2022-05-21T11:11:13.375Z"
   },
   {
    "duration": 215,
    "start_time": "2022-05-21T11:11:13.414Z"
   },
   {
    "duration": 43,
    "start_time": "2022-05-21T11:11:13.636Z"
   },
   {
    "duration": 36,
    "start_time": "2022-05-21T11:11:13.694Z"
   },
   {
    "duration": 188,
    "start_time": "2022-05-21T11:11:13.732Z"
   },
   {
    "duration": 212,
    "start_time": "2022-05-21T11:11:13.924Z"
   },
   {
    "duration": 13,
    "start_time": "2022-05-21T11:11:14.138Z"
   },
   {
    "duration": 1200,
    "start_time": "2022-05-21T11:11:14.154Z"
   },
   {
    "duration": 1029,
    "start_time": "2022-05-21T11:11:15.357Z"
   },
   {
    "duration": 1232,
    "start_time": "2022-05-21T11:11:16.389Z"
   },
   {
    "duration": 11,
    "start_time": "2022-05-21T11:11:17.624Z"
   },
   {
    "duration": 22,
    "start_time": "2022-05-21T11:11:17.637Z"
   },
   {
    "duration": 56,
    "start_time": "2022-05-21T11:11:17.667Z"
   },
   {
    "duration": 12,
    "start_time": "2022-05-21T11:11:17.725Z"
   },
   {
    "duration": 66,
    "start_time": "2022-05-21T11:11:17.740Z"
   },
   {
    "duration": 11,
    "start_time": "2022-05-21T11:11:17.808Z"
   },
   {
    "duration": 7,
    "start_time": "2022-05-21T11:11:17.820Z"
   },
   {
    "duration": 8,
    "start_time": "2022-05-21T11:11:17.829Z"
   },
   {
    "duration": 71,
    "start_time": "2022-05-21T11:11:17.839Z"
   },
   {
    "duration": 8,
    "start_time": "2022-05-21T11:11:17.912Z"
   },
   {
    "duration": 30,
    "start_time": "2022-05-21T11:32:26.864Z"
   },
   {
    "duration": 38,
    "start_time": "2022-05-21T11:33:01.772Z"
   },
   {
    "duration": 49,
    "start_time": "2022-05-21T11:34:52.211Z"
   },
   {
    "duration": 6,
    "start_time": "2022-05-21T11:34:59.589Z"
   },
   {
    "duration": 5,
    "start_time": "2022-05-21T11:35:12.407Z"
   },
   {
    "duration": 1236,
    "start_time": "2022-05-21T11:36:00.570Z"
   },
   {
    "duration": 1317,
    "start_time": "2022-05-21T11:36:01.808Z"
   },
   {
    "duration": 3,
    "start_time": "2022-05-21T11:36:03.126Z"
   },
   {
    "duration": 81,
    "start_time": "2022-05-21T11:36:03.131Z"
   },
   {
    "duration": 49,
    "start_time": "2022-05-21T11:36:03.213Z"
   },
   {
    "duration": 31,
    "start_time": "2022-05-21T11:36:03.264Z"
   },
   {
    "duration": 20,
    "start_time": "2022-05-21T11:36:03.296Z"
   },
   {
    "duration": 47,
    "start_time": "2022-05-21T11:36:03.318Z"
   },
   {
    "duration": 3,
    "start_time": "2022-05-21T11:36:03.367Z"
   },
   {
    "duration": 57,
    "start_time": "2022-05-21T11:36:03.372Z"
   },
   {
    "duration": 3,
    "start_time": "2022-05-21T11:36:03.431Z"
   },
   {
    "duration": 325,
    "start_time": "2022-05-21T11:36:03.435Z"
   },
   {
    "duration": 315,
    "start_time": "2022-05-21T11:36:03.761Z"
   },
   {
    "duration": 9,
    "start_time": "2022-05-21T11:36:04.078Z"
   },
   {
    "duration": 8,
    "start_time": "2022-05-21T11:36:04.088Z"
   },
   {
    "duration": 40,
    "start_time": "2022-05-21T11:36:04.097Z"
   },
   {
    "duration": 185,
    "start_time": "2022-05-21T11:36:04.139Z"
   },
   {
    "duration": 259,
    "start_time": "2022-05-21T11:36:04.325Z"
   },
   {
    "duration": 15,
    "start_time": "2022-05-21T11:36:04.586Z"
   },
   {
    "duration": 42,
    "start_time": "2022-05-21T11:36:04.603Z"
   },
   {
    "duration": 150,
    "start_time": "2022-05-21T11:36:04.646Z"
   },
   {
    "duration": 5,
    "start_time": "2022-05-21T11:36:04.798Z"
   },
   {
    "duration": 56,
    "start_time": "2022-05-21T11:36:04.805Z"
   },
   {
    "duration": 5,
    "start_time": "2022-05-21T11:36:04.863Z"
   },
   {
    "duration": 18,
    "start_time": "2022-05-21T11:36:04.870Z"
   },
   {
    "duration": 87,
    "start_time": "2022-05-21T11:36:04.890Z"
   },
   {
    "duration": 30,
    "start_time": "2022-05-21T11:36:04.978Z"
   },
   {
    "duration": 26,
    "start_time": "2022-05-21T11:36:05.011Z"
   },
   {
    "duration": 30,
    "start_time": "2022-05-21T11:36:05.038Z"
   },
   {
    "duration": 68,
    "start_time": "2022-05-21T11:36:05.070Z"
   },
   {
    "duration": 4,
    "start_time": "2022-05-21T11:36:05.140Z"
   },
   {
    "duration": 69,
    "start_time": "2022-05-21T11:36:05.146Z"
   },
   {
    "duration": 36,
    "start_time": "2022-05-21T11:36:05.216Z"
   },
   {
    "duration": 25,
    "start_time": "2022-05-21T11:36:05.253Z"
   },
   {
    "duration": 33,
    "start_time": "2022-05-21T11:36:05.279Z"
   },
   {
    "duration": 28,
    "start_time": "2022-05-21T11:36:05.313Z"
   },
   {
    "duration": 33,
    "start_time": "2022-05-21T11:36:05.343Z"
   },
   {
    "duration": 2952,
    "start_time": "2022-05-21T11:36:05.378Z"
   },
   {
    "duration": 50,
    "start_time": "2022-05-21T11:36:08.331Z"
   },
   {
    "duration": 14,
    "start_time": "2022-05-21T11:36:08.383Z"
   },
   {
    "duration": 156,
    "start_time": "2022-05-21T11:36:08.398Z"
   },
   {
    "duration": 13,
    "start_time": "2022-05-21T11:36:08.555Z"
   },
   {
    "duration": 14,
    "start_time": "2022-05-21T11:36:08.569Z"
   },
   {
    "duration": 117,
    "start_time": "2022-05-21T11:36:08.584Z"
   },
   {
    "duration": 118,
    "start_time": "2022-05-21T11:36:08.703Z"
   },
   {
    "duration": 4,
    "start_time": "2022-05-21T11:36:08.822Z"
   },
   {
    "duration": 792,
    "start_time": "2022-05-21T11:36:08.827Z"
   },
   {
    "duration": 661,
    "start_time": "2022-05-21T11:36:09.621Z"
   },
   {
    "duration": 708,
    "start_time": "2022-05-21T11:36:10.284Z"
   },
   {
    "duration": 6,
    "start_time": "2022-05-21T11:36:10.993Z"
   },
   {
    "duration": 32,
    "start_time": "2022-05-21T11:36:11.001Z"
   },
   {
    "duration": 21,
    "start_time": "2022-05-21T11:36:11.035Z"
   },
   {
    "duration": 32,
    "start_time": "2022-05-21T11:36:11.057Z"
   },
   {
    "duration": 22,
    "start_time": "2022-05-21T11:36:11.090Z"
   },
   {
    "duration": 24,
    "start_time": "2022-05-21T11:36:11.113Z"
   },
   {
    "duration": 27,
    "start_time": "2022-05-21T11:36:11.138Z"
   },
   {
    "duration": 13,
    "start_time": "2022-05-21T11:36:11.166Z"
   },
   {
    "duration": 29,
    "start_time": "2022-05-21T11:36:11.181Z"
   },
   {
    "duration": 31,
    "start_time": "2022-05-21T11:36:11.211Z"
   },
   {
    "duration": 10,
    "start_time": "2022-05-21T11:36:51.255Z"
   },
   {
    "duration": 35,
    "start_time": "2022-05-21T11:44:18.264Z"
   },
   {
    "duration": 632,
    "start_time": "2022-05-21T11:44:30.072Z"
   },
   {
    "duration": 32,
    "start_time": "2022-05-21T11:44:54.846Z"
   },
   {
    "duration": 27,
    "start_time": "2022-05-21T11:45:50.604Z"
   },
   {
    "duration": 18,
    "start_time": "2022-05-21T11:45:56.368Z"
   },
   {
    "duration": 17,
    "start_time": "2022-05-21T11:46:16.806Z"
   },
   {
    "duration": 29,
    "start_time": "2022-05-21T11:46:32.822Z"
   },
   {
    "duration": 17,
    "start_time": "2022-05-21T11:46:42.864Z"
   },
   {
    "duration": 16,
    "start_time": "2022-05-21T11:46:58.260Z"
   },
   {
    "duration": 19,
    "start_time": "2022-05-21T11:58:05.458Z"
   },
   {
    "duration": 452,
    "start_time": "2022-05-21T11:58:17.324Z"
   },
   {
    "duration": 20,
    "start_time": "2022-05-21T11:59:00.277Z"
   },
   {
    "duration": 18,
    "start_time": "2022-05-21T11:59:20.761Z"
   },
   {
    "duration": 23,
    "start_time": "2022-05-21T11:59:42.970Z"
   },
   {
    "duration": 8,
    "start_time": "2022-05-21T12:01:37.107Z"
   },
   {
    "duration": 9,
    "start_time": "2022-05-21T12:06:37.478Z"
   },
   {
    "duration": 9,
    "start_time": "2022-05-21T12:08:06.096Z"
   },
   {
    "duration": 32,
    "start_time": "2022-05-21T12:10:22.485Z"
   },
   {
    "duration": 665,
    "start_time": "2022-05-21T12:12:20.087Z"
   },
   {
    "duration": 14,
    "start_time": "2022-05-21T12:20:49.684Z"
   },
   {
    "duration": 10,
    "start_time": "2022-05-21T12:21:25.877Z"
   },
   {
    "duration": 14,
    "start_time": "2022-05-21T12:21:43.033Z"
   },
   {
    "duration": 992,
    "start_time": "2022-05-21T12:27:09.119Z"
   },
   {
    "duration": 470,
    "start_time": "2022-05-21T12:27:28.614Z"
   },
   {
    "duration": 225,
    "start_time": "2022-05-21T12:28:46.104Z"
   },
   {
    "duration": 570,
    "start_time": "2022-05-21T12:31:35.811Z"
   },
   {
    "duration": 16,
    "start_time": "2022-05-21T12:32:43.412Z"
   },
   {
    "duration": 22,
    "start_time": "2022-05-21T12:32:53.881Z"
   },
   {
    "duration": 15,
    "start_time": "2022-05-21T12:33:25.891Z"
   },
   {
    "duration": 505,
    "start_time": "2022-05-21T12:33:34.876Z"
   },
   {
    "duration": 14,
    "start_time": "2022-05-21T12:33:52.382Z"
   },
   {
    "duration": 161,
    "start_time": "2022-05-21T12:33:57.468Z"
   },
   {
    "duration": 189,
    "start_time": "2022-05-21T12:35:00.825Z"
   },
   {
    "duration": 15,
    "start_time": "2022-05-21T12:35:33.511Z"
   },
   {
    "duration": 134,
    "start_time": "2022-05-21T12:35:45.078Z"
   },
   {
    "duration": 288,
    "start_time": "2022-05-21T12:35:52.595Z"
   },
   {
    "duration": 159,
    "start_time": "2022-05-21T12:35:55.997Z"
   },
   {
    "duration": 164,
    "start_time": "2022-05-21T12:36:30.038Z"
   },
   {
    "duration": 173,
    "start_time": "2022-05-21T12:36:38.242Z"
   },
   {
    "duration": 12,
    "start_time": "2022-05-21T12:38:15.827Z"
   },
   {
    "duration": 865,
    "start_time": "2022-05-21T12:38:51.773Z"
   },
   {
    "duration": 170,
    "start_time": "2022-05-21T12:39:02.900Z"
   },
   {
    "duration": 146,
    "start_time": "2022-05-21T12:39:20.793Z"
   },
   {
    "duration": 142,
    "start_time": "2022-05-21T12:39:30.125Z"
   },
   {
    "duration": 16,
    "start_time": "2022-05-21T12:42:35.308Z"
   },
   {
    "duration": 16,
    "start_time": "2022-05-21T12:43:44.001Z"
   },
   {
    "duration": 193,
    "start_time": "2022-05-21T12:43:46.365Z"
   },
   {
    "duration": 189,
    "start_time": "2022-05-21T12:44:07.012Z"
   },
   {
    "duration": 202,
    "start_time": "2022-05-21T12:46:21.181Z"
   },
   {
    "duration": 202,
    "start_time": "2022-05-21T12:49:28.233Z"
   },
   {
    "duration": 123,
    "start_time": "2022-05-21T12:49:58.991Z"
   },
   {
    "duration": 127,
    "start_time": "2022-05-21T12:50:33.225Z"
   },
   {
    "duration": 132,
    "start_time": "2022-05-21T12:50:41.845Z"
   },
   {
    "duration": 126,
    "start_time": "2022-05-21T12:50:56.943Z"
   },
   {
    "duration": 129,
    "start_time": "2022-05-21T12:51:38.385Z"
   },
   {
    "duration": 159,
    "start_time": "2022-05-21T12:51:54.444Z"
   },
   {
    "duration": 151,
    "start_time": "2022-05-21T12:52:05.897Z"
   },
   {
    "duration": 152,
    "start_time": "2022-05-21T12:52:38.224Z"
   },
   {
    "duration": 161,
    "start_time": "2022-05-21T12:53:10.316Z"
   },
   {
    "duration": 168,
    "start_time": "2022-05-21T12:53:34.618Z"
   },
   {
    "duration": 194,
    "start_time": "2022-05-21T12:53:41.509Z"
   },
   {
    "duration": 288,
    "start_time": "2022-05-21T12:53:52.129Z"
   },
   {
    "duration": 25,
    "start_time": "2022-05-21T13:03:46.288Z"
   },
   {
    "duration": 1005,
    "start_time": "2022-05-21T13:06:09.978Z"
   },
   {
    "duration": 367,
    "start_time": "2022-05-21T13:06:10.984Z"
   },
   {
    "duration": 3,
    "start_time": "2022-05-21T13:06:11.353Z"
   },
   {
    "duration": 91,
    "start_time": "2022-05-21T13:06:11.357Z"
   },
   {
    "duration": 57,
    "start_time": "2022-05-21T13:06:11.450Z"
   },
   {
    "duration": 50,
    "start_time": "2022-05-21T13:06:11.509Z"
   },
   {
    "duration": 31,
    "start_time": "2022-05-21T13:06:11.561Z"
   },
   {
    "duration": 19,
    "start_time": "2022-05-21T13:06:11.594Z"
   },
   {
    "duration": 8,
    "start_time": "2022-05-21T13:06:11.615Z"
   },
   {
    "duration": 86,
    "start_time": "2022-05-21T13:06:11.624Z"
   },
   {
    "duration": 4,
    "start_time": "2022-05-21T13:06:11.712Z"
   },
   {
    "duration": 342,
    "start_time": "2022-05-21T13:06:11.718Z"
   },
   {
    "duration": 305,
    "start_time": "2022-05-21T13:06:12.062Z"
   },
   {
    "duration": 9,
    "start_time": "2022-05-21T13:06:12.370Z"
   },
   {
    "duration": 6,
    "start_time": "2022-05-21T13:06:12.380Z"
   },
   {
    "duration": 38,
    "start_time": "2022-05-21T13:06:12.387Z"
   },
   {
    "duration": 180,
    "start_time": "2022-05-21T13:06:12.427Z"
   },
   {
    "duration": 251,
    "start_time": "2022-05-21T13:06:12.608Z"
   },
   {
    "duration": 17,
    "start_time": "2022-05-21T13:06:12.861Z"
   },
   {
    "duration": 35,
    "start_time": "2022-05-21T13:06:12.879Z"
   },
   {
    "duration": 149,
    "start_time": "2022-05-21T13:06:12.916Z"
   },
   {
    "duration": 5,
    "start_time": "2022-05-21T13:06:13.066Z"
   },
   {
    "duration": 53,
    "start_time": "2022-05-21T13:06:13.072Z"
   },
   {
    "duration": 4,
    "start_time": "2022-05-21T13:06:13.127Z"
   },
   {
    "duration": 11,
    "start_time": "2022-05-21T13:06:13.132Z"
   },
   {
    "duration": 59,
    "start_time": "2022-05-21T13:06:13.145Z"
   },
   {
    "duration": 29,
    "start_time": "2022-05-21T13:06:13.206Z"
   },
   {
    "duration": 36,
    "start_time": "2022-05-21T13:06:13.236Z"
   },
   {
    "duration": 9,
    "start_time": "2022-05-21T13:06:13.273Z"
   },
   {
    "duration": 36,
    "start_time": "2022-05-21T13:06:13.284Z"
   },
   {
    "duration": 3,
    "start_time": "2022-05-21T13:06:13.322Z"
   },
   {
    "duration": 133,
    "start_time": "2022-05-21T13:06:13.327Z"
   },
   {
    "duration": 18,
    "start_time": "2022-05-21T13:06:13.462Z"
   },
   {
    "duration": 20,
    "start_time": "2022-05-21T13:06:13.481Z"
   },
   {
    "duration": 7,
    "start_time": "2022-05-21T13:06:13.503Z"
   },
   {
    "duration": 11,
    "start_time": "2022-05-21T13:06:13.512Z"
   },
   {
    "duration": 40,
    "start_time": "2022-05-21T13:06:13.524Z"
   },
   {
    "duration": 6,
    "start_time": "2022-05-21T13:06:13.566Z"
   },
   {
    "duration": 9,
    "start_time": "2022-05-21T13:06:13.574Z"
   },
   {
    "duration": 8,
    "start_time": "2022-05-21T13:06:13.584Z"
   },
   {
    "duration": 2777,
    "start_time": "2022-05-21T13:06:13.595Z"
   },
   {
    "duration": 44,
    "start_time": "2022-05-21T13:06:16.374Z"
   },
   {
    "duration": 13,
    "start_time": "2022-05-21T13:06:16.420Z"
   },
   {
    "duration": 239,
    "start_time": "2022-05-21T13:06:16.435Z"
   },
   {
    "duration": 10,
    "start_time": "2022-05-21T13:06:16.676Z"
   },
   {
    "duration": 13,
    "start_time": "2022-05-21T13:06:16.688Z"
   },
   {
    "duration": 268,
    "start_time": "2022-05-21T13:06:16.702Z"
   },
   {
    "duration": 214,
    "start_time": "2022-05-21T13:06:16.972Z"
   },
   {
    "duration": 16,
    "start_time": "2022-05-21T13:06:17.187Z"
   },
   {
    "duration": 574,
    "start_time": "2022-05-21T13:06:17.204Z"
   },
   {
    "duration": 4,
    "start_time": "2022-05-21T13:06:17.780Z"
   },
   {
    "duration": 943,
    "start_time": "2022-05-21T13:06:17.786Z"
   },
   {
    "duration": 673,
    "start_time": "2022-05-21T13:06:18.730Z"
   },
   {
    "duration": 746,
    "start_time": "2022-05-21T13:06:19.405Z"
   },
   {
    "duration": 10,
    "start_time": "2022-05-21T13:06:20.152Z"
   },
   {
    "duration": 8,
    "start_time": "2022-05-21T13:06:20.163Z"
   },
   {
    "duration": 6,
    "start_time": "2022-05-21T13:06:20.172Z"
   },
   {
    "duration": 13,
    "start_time": "2022-05-21T13:06:20.179Z"
   },
   {
    "duration": 8,
    "start_time": "2022-05-21T13:06:20.193Z"
   },
   {
    "duration": 6,
    "start_time": "2022-05-21T13:06:20.202Z"
   },
   {
    "duration": 7,
    "start_time": "2022-05-21T13:06:20.209Z"
   },
   {
    "duration": 5,
    "start_time": "2022-05-21T13:06:20.217Z"
   },
   {
    "duration": 5,
    "start_time": "2022-05-21T13:06:20.223Z"
   },
   {
    "duration": 5,
    "start_time": "2022-05-21T13:06:20.229Z"
   },
   {
    "duration": 68,
    "start_time": "2022-05-27T18:06:49.178Z"
   },
   {
    "duration": 7,
    "start_time": "2022-05-27T18:06:51.979Z"
   },
   {
    "duration": 1431,
    "start_time": "2022-05-27T18:06:56.673Z"
   },
   {
    "duration": 1646,
    "start_time": "2022-05-27T18:06:58.106Z"
   },
   {
    "duration": 4,
    "start_time": "2022-05-27T18:06:59.754Z"
   },
   {
    "duration": 104,
    "start_time": "2022-05-27T18:06:59.760Z"
   },
   {
    "duration": 57,
    "start_time": "2022-05-27T18:06:59.866Z"
   },
   {
    "duration": 60,
    "start_time": "2022-05-27T18:06:59.925Z"
   },
   {
    "duration": 39,
    "start_time": "2022-05-27T18:06:59.987Z"
   },
   {
    "duration": 37,
    "start_time": "2022-05-27T18:07:00.028Z"
   },
   {
    "duration": 5,
    "start_time": "2022-05-27T18:07:00.067Z"
   },
   {
    "duration": 83,
    "start_time": "2022-05-27T18:07:00.074Z"
   },
   {
    "duration": 6,
    "start_time": "2022-05-27T18:07:00.158Z"
   },
   {
    "duration": 697,
    "start_time": "2022-05-27T18:07:00.166Z"
   },
   {
    "duration": 799,
    "start_time": "2022-05-27T18:07:00.864Z"
   },
   {
    "duration": 11,
    "start_time": "2022-05-27T18:07:01.665Z"
   },
   {
    "duration": 64,
    "start_time": "2022-05-27T18:07:01.678Z"
   },
   {
    "duration": 107,
    "start_time": "2022-05-27T18:07:01.748Z"
   },
   {
    "duration": 628,
    "start_time": "2022-05-27T18:07:01.860Z"
   },
   {
    "duration": 297,
    "start_time": "2022-05-27T18:07:02.489Z"
   },
   {
    "duration": 18,
    "start_time": "2022-05-27T18:07:02.787Z"
   },
   {
    "duration": 55,
    "start_time": "2022-05-27T18:07:02.807Z"
   },
   {
    "duration": 208,
    "start_time": "2022-05-27T18:07:02.864Z"
   },
   {
    "duration": 7,
    "start_time": "2022-05-27T18:07:03.074Z"
   },
   {
    "duration": 63,
    "start_time": "2022-05-27T18:07:03.083Z"
   },
   {
    "duration": 14,
    "start_time": "2022-05-27T18:07:03.153Z"
   },
   {
    "duration": 23,
    "start_time": "2022-05-27T18:07:03.171Z"
   },
   {
    "duration": 80,
    "start_time": "2022-05-27T18:07:03.196Z"
   },
   {
    "duration": 32,
    "start_time": "2022-05-27T18:07:03.278Z"
   },
   {
    "duration": 48,
    "start_time": "2022-05-27T18:07:03.314Z"
   },
   {
    "duration": 13,
    "start_time": "2022-05-27T18:07:03.364Z"
   },
   {
    "duration": 42,
    "start_time": "2022-05-27T18:07:03.379Z"
   },
   {
    "duration": 34,
    "start_time": "2022-05-27T18:07:03.422Z"
   },
   {
    "duration": 145,
    "start_time": "2022-05-27T18:07:03.458Z"
   },
   {
    "duration": 43,
    "start_time": "2022-05-27T18:07:03.605Z"
   },
   {
    "duration": 36,
    "start_time": "2022-05-27T18:07:03.651Z"
   },
   {
    "duration": 10,
    "start_time": "2022-05-27T18:07:03.689Z"
   },
   {
    "duration": 14,
    "start_time": "2022-05-27T18:07:03.701Z"
   },
   {
    "duration": 39,
    "start_time": "2022-05-27T18:07:03.717Z"
   },
   {
    "duration": 9,
    "start_time": "2022-05-27T18:07:03.760Z"
   },
   {
    "duration": 10,
    "start_time": "2022-05-27T18:07:03.770Z"
   },
   {
    "duration": 6,
    "start_time": "2022-05-27T18:07:03.781Z"
   },
   {
    "duration": 3549,
    "start_time": "2022-05-27T18:07:03.789Z"
   },
   {
    "duration": 74,
    "start_time": "2022-05-27T18:07:07.342Z"
   },
   {
    "duration": 48,
    "start_time": "2022-05-27T18:07:07.418Z"
   },
   {
    "duration": 217,
    "start_time": "2022-05-27T18:07:07.468Z"
   },
   {
    "duration": 13,
    "start_time": "2022-05-27T18:07:07.687Z"
   },
   {
    "duration": 16,
    "start_time": "2022-05-27T18:07:07.702Z"
   },
   {
    "duration": 157,
    "start_time": "2022-05-27T18:07:07.720Z"
   },
   {
    "duration": 138,
    "start_time": "2022-05-27T18:07:07.879Z"
   },
   {
    "duration": 33,
    "start_time": "2022-05-27T18:07:08.019Z"
   },
   {
    "duration": 318,
    "start_time": "2022-05-27T18:07:08.055Z"
   },
   {
    "duration": 4,
    "start_time": "2022-05-27T18:07:08.375Z"
   },
   {
    "duration": 940,
    "start_time": "2022-05-27T18:07:08.380Z"
   },
   {
    "duration": 829,
    "start_time": "2022-05-27T18:07:09.322Z"
   },
   {
    "duration": 1011,
    "start_time": "2022-05-27T18:07:10.152Z"
   },
   {
    "duration": 13,
    "start_time": "2022-05-27T18:07:11.165Z"
   },
   {
    "duration": 7,
    "start_time": "2022-05-27T18:07:11.182Z"
   },
   {
    "duration": 5,
    "start_time": "2022-05-27T18:07:11.191Z"
   },
   {
    "duration": 11,
    "start_time": "2022-05-27T18:07:11.242Z"
   },
   {
    "duration": 17,
    "start_time": "2022-05-27T18:07:11.255Z"
   },
   {
    "duration": 5,
    "start_time": "2022-05-27T18:07:11.274Z"
   },
   {
    "duration": 7,
    "start_time": "2022-05-27T18:07:11.281Z"
   },
   {
    "duration": 58,
    "start_time": "2022-05-27T18:07:11.289Z"
   },
   {
    "duration": 7,
    "start_time": "2022-05-27T18:07:11.349Z"
   },
   {
    "duration": 19,
    "start_time": "2022-05-27T18:07:11.357Z"
   },
   {
    "duration": 254,
    "start_time": "2022-05-27T18:07:16.028Z"
   },
   {
    "duration": 306,
    "start_time": "2022-05-27T18:31:32.204Z"
   },
   {
    "duration": 1696,
    "start_time": "2022-05-27T18:36:01.196Z"
   },
   {
    "duration": 1505,
    "start_time": "2022-05-27T18:36:17.870Z"
   },
   {
    "duration": 275,
    "start_time": "2022-05-27T18:36:40.214Z"
   },
   {
    "duration": 429,
    "start_time": "2022-05-27T18:36:46.894Z"
   },
   {
    "duration": 301,
    "start_time": "2022-05-27T18:40:15.678Z"
   },
   {
    "duration": 295,
    "start_time": "2022-05-27T18:40:17.567Z"
   },
   {
    "duration": 9,
    "start_time": "2022-05-28T12:08:54.658Z"
   }
  ],
  "kernelspec": {
   "display_name": "Python 3 (ipykernel)",
   "language": "python",
   "name": "python3"
  },
  "language_info": {
   "codemirror_mode": {
    "name": "ipython",
    "version": 3
   },
   "file_extension": ".py",
   "mimetype": "text/x-python",
   "name": "python",
   "nbconvert_exporter": "python",
   "pygments_lexer": "ipython3",
   "version": "3.9.12"
  },
  "toc": {
   "base_numbering": 1,
   "nav_menu": {},
   "number_sections": true,
   "sideBar": true,
   "skip_h1_title": true,
   "title_cell": "Table of Contents",
   "title_sidebar": "Contents",
   "toc_cell": false,
   "toc_position": {
    "height": "calc(100% - 180px)",
    "left": "10px",
    "top": "150px",
    "width": "243.375px"
   },
   "toc_section_display": true,
   "toc_window_display": true
  }
 },
 "nbformat": 4,
 "nbformat_minor": 2
}
