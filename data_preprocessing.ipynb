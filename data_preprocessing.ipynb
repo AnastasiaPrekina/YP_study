{
 "cells": [
  {
   "cell_type": "markdown",
   "id": "b367fbc3",
   "metadata": {},
   "source": [
    "# Исследование надежности заемщиков.\n",
    "\n",
    "**Описание проекта**\n",
    "\n",
    "Заказчик — кредитный отдел банка. Нужно разобраться, влияет ли семейное положение и количество детей клиента на факт погашения кредита в срок. \n",
    "\n",
    "Входные данные от банка — статистика о платёжеспособности клиентов.\n",
    "\n",
    "Результаты исследования будут учтены при построении модели кредитного скоринга — специальной системы, которая оценивает способность потенциального заёмщика вернуть кредит банку."
   ]
  },
  {
   "cell_type": "markdown",
   "id": "badf14a4",
   "metadata": {},
   "source": [
    "##  Обзор данных."
   ]
  },
  {
   "cell_type": "code",
   "execution_count": 1,
   "id": "c1f52f28",
   "metadata": {},
   "outputs": [
    {
     "data": {
      "text/html": [
       "<div>\n",
       "<style scoped>\n",
       "    .dataframe tbody tr th:only-of-type {\n",
       "        vertical-align: middle;\n",
       "    }\n",
       "\n",
       "    .dataframe tbody tr th {\n",
       "        vertical-align: top;\n",
       "    }\n",
       "\n",
       "    .dataframe thead th {\n",
       "        text-align: right;\n",
       "    }\n",
       "</style>\n",
       "<table border=\"1\" class=\"dataframe\">\n",
       "  <thead>\n",
       "    <tr style=\"text-align: right;\">\n",
       "      <th></th>\n",
       "      <th>children</th>\n",
       "      <th>days_employed</th>\n",
       "      <th>dob_years</th>\n",
       "      <th>education</th>\n",
       "      <th>education_id</th>\n",
       "      <th>family_status</th>\n",
       "      <th>family_status_id</th>\n",
       "      <th>gender</th>\n",
       "      <th>income_type</th>\n",
       "      <th>debt</th>\n",
       "      <th>total_income</th>\n",
       "      <th>purpose</th>\n",
       "    </tr>\n",
       "  </thead>\n",
       "  <tbody>\n",
       "    <tr>\n",
       "      <th>0</th>\n",
       "      <td>1</td>\n",
       "      <td>-8437.673028</td>\n",
       "      <td>42</td>\n",
       "      <td>высшее</td>\n",
       "      <td>0</td>\n",
       "      <td>женат / замужем</td>\n",
       "      <td>0</td>\n",
       "      <td>F</td>\n",
       "      <td>сотрудник</td>\n",
       "      <td>0</td>\n",
       "      <td>253875.639453</td>\n",
       "      <td>покупка жилья</td>\n",
       "    </tr>\n",
       "    <tr>\n",
       "      <th>1</th>\n",
       "      <td>1</td>\n",
       "      <td>-4024.803754</td>\n",
       "      <td>36</td>\n",
       "      <td>среднее</td>\n",
       "      <td>1</td>\n",
       "      <td>женат / замужем</td>\n",
       "      <td>0</td>\n",
       "      <td>F</td>\n",
       "      <td>сотрудник</td>\n",
       "      <td>0</td>\n",
       "      <td>112080.014102</td>\n",
       "      <td>приобретение автомобиля</td>\n",
       "    </tr>\n",
       "    <tr>\n",
       "      <th>2</th>\n",
       "      <td>0</td>\n",
       "      <td>-5623.422610</td>\n",
       "      <td>33</td>\n",
       "      <td>Среднее</td>\n",
       "      <td>1</td>\n",
       "      <td>женат / замужем</td>\n",
       "      <td>0</td>\n",
       "      <td>M</td>\n",
       "      <td>сотрудник</td>\n",
       "      <td>0</td>\n",
       "      <td>145885.952297</td>\n",
       "      <td>покупка жилья</td>\n",
       "    </tr>\n",
       "    <tr>\n",
       "      <th>3</th>\n",
       "      <td>3</td>\n",
       "      <td>-4124.747207</td>\n",
       "      <td>32</td>\n",
       "      <td>среднее</td>\n",
       "      <td>1</td>\n",
       "      <td>женат / замужем</td>\n",
       "      <td>0</td>\n",
       "      <td>M</td>\n",
       "      <td>сотрудник</td>\n",
       "      <td>0</td>\n",
       "      <td>267628.550329</td>\n",
       "      <td>дополнительное образование</td>\n",
       "    </tr>\n",
       "    <tr>\n",
       "      <th>4</th>\n",
       "      <td>0</td>\n",
       "      <td>340266.072047</td>\n",
       "      <td>53</td>\n",
       "      <td>среднее</td>\n",
       "      <td>1</td>\n",
       "      <td>гражданский брак</td>\n",
       "      <td>1</td>\n",
       "      <td>F</td>\n",
       "      <td>пенсионер</td>\n",
       "      <td>0</td>\n",
       "      <td>158616.077870</td>\n",
       "      <td>сыграть свадьбу</td>\n",
       "    </tr>\n",
       "    <tr>\n",
       "      <th>5</th>\n",
       "      <td>0</td>\n",
       "      <td>-926.185831</td>\n",
       "      <td>27</td>\n",
       "      <td>высшее</td>\n",
       "      <td>0</td>\n",
       "      <td>гражданский брак</td>\n",
       "      <td>1</td>\n",
       "      <td>M</td>\n",
       "      <td>компаньон</td>\n",
       "      <td>0</td>\n",
       "      <td>255763.565419</td>\n",
       "      <td>покупка жилья</td>\n",
       "    </tr>\n",
       "    <tr>\n",
       "      <th>6</th>\n",
       "      <td>0</td>\n",
       "      <td>-2879.202052</td>\n",
       "      <td>43</td>\n",
       "      <td>высшее</td>\n",
       "      <td>0</td>\n",
       "      <td>женат / замужем</td>\n",
       "      <td>0</td>\n",
       "      <td>F</td>\n",
       "      <td>компаньон</td>\n",
       "      <td>0</td>\n",
       "      <td>240525.971920</td>\n",
       "      <td>операции с жильем</td>\n",
       "    </tr>\n",
       "    <tr>\n",
       "      <th>7</th>\n",
       "      <td>0</td>\n",
       "      <td>-152.779569</td>\n",
       "      <td>50</td>\n",
       "      <td>СРЕДНЕЕ</td>\n",
       "      <td>1</td>\n",
       "      <td>женат / замужем</td>\n",
       "      <td>0</td>\n",
       "      <td>M</td>\n",
       "      <td>сотрудник</td>\n",
       "      <td>0</td>\n",
       "      <td>135823.934197</td>\n",
       "      <td>образование</td>\n",
       "    </tr>\n",
       "    <tr>\n",
       "      <th>8</th>\n",
       "      <td>2</td>\n",
       "      <td>-6929.865299</td>\n",
       "      <td>35</td>\n",
       "      <td>ВЫСШЕЕ</td>\n",
       "      <td>0</td>\n",
       "      <td>гражданский брак</td>\n",
       "      <td>1</td>\n",
       "      <td>F</td>\n",
       "      <td>сотрудник</td>\n",
       "      <td>0</td>\n",
       "      <td>95856.832424</td>\n",
       "      <td>на проведение свадьбы</td>\n",
       "    </tr>\n",
       "    <tr>\n",
       "      <th>9</th>\n",
       "      <td>0</td>\n",
       "      <td>-2188.756445</td>\n",
       "      <td>41</td>\n",
       "      <td>среднее</td>\n",
       "      <td>1</td>\n",
       "      <td>женат / замужем</td>\n",
       "      <td>0</td>\n",
       "      <td>M</td>\n",
       "      <td>сотрудник</td>\n",
       "      <td>0</td>\n",
       "      <td>144425.938277</td>\n",
       "      <td>покупка жилья для семьи</td>\n",
       "    </tr>\n",
       "  </tbody>\n",
       "</table>\n",
       "</div>"
      ],
      "text/plain": [
       "   children  days_employed  dob_years education  education_id  \\\n",
       "0         1   -8437.673028         42    высшее             0   \n",
       "1         1   -4024.803754         36   среднее             1   \n",
       "2         0   -5623.422610         33   Среднее             1   \n",
       "3         3   -4124.747207         32   среднее             1   \n",
       "4         0  340266.072047         53   среднее             1   \n",
       "5         0    -926.185831         27    высшее             0   \n",
       "6         0   -2879.202052         43    высшее             0   \n",
       "7         0    -152.779569         50   СРЕДНЕЕ             1   \n",
       "8         2   -6929.865299         35    ВЫСШЕЕ             0   \n",
       "9         0   -2188.756445         41   среднее             1   \n",
       "\n",
       "      family_status  family_status_id gender income_type  debt   total_income  \\\n",
       "0   женат / замужем                 0      F   сотрудник     0  253875.639453   \n",
       "1   женат / замужем                 0      F   сотрудник     0  112080.014102   \n",
       "2   женат / замужем                 0      M   сотрудник     0  145885.952297   \n",
       "3   женат / замужем                 0      M   сотрудник     0  267628.550329   \n",
       "4  гражданский брак                 1      F   пенсионер     0  158616.077870   \n",
       "5  гражданский брак                 1      M   компаньон     0  255763.565419   \n",
       "6   женат / замужем                 0      F   компаньон     0  240525.971920   \n",
       "7   женат / замужем                 0      M   сотрудник     0  135823.934197   \n",
       "8  гражданский брак                 1      F   сотрудник     0   95856.832424   \n",
       "9   женат / замужем                 0      M   сотрудник     0  144425.938277   \n",
       "\n",
       "                      purpose  \n",
       "0               покупка жилья  \n",
       "1     приобретение автомобиля  \n",
       "2               покупка жилья  \n",
       "3  дополнительное образование  \n",
       "4             сыграть свадьбу  \n",
       "5               покупка жилья  \n",
       "6           операции с жильем  \n",
       "7                 образование  \n",
       "8       на проведение свадьбы  \n",
       "9     покупка жилья для семьи  "
      ]
     },
     "metadata": {},
     "output_type": "display_data"
    },
    {
     "name": "stdout",
     "output_type": "stream",
     "text": [
      "<class 'pandas.core.frame.DataFrame'>\n",
      "RangeIndex: 21525 entries, 0 to 21524\n",
      "Data columns (total 12 columns):\n",
      " #   Column            Non-Null Count  Dtype  \n",
      "---  ------            --------------  -----  \n",
      " 0   children          21525 non-null  int64  \n",
      " 1   days_employed     19351 non-null  float64\n",
      " 2   dob_years         21525 non-null  int64  \n",
      " 3   education         21525 non-null  object \n",
      " 4   education_id      21525 non-null  int64  \n",
      " 5   family_status     21525 non-null  object \n",
      " 6   family_status_id  21525 non-null  int64  \n",
      " 7   gender            21525 non-null  object \n",
      " 8   income_type       21525 non-null  object \n",
      " 9   debt              21525 non-null  int64  \n",
      " 10  total_income      19351 non-null  float64\n",
      " 11  purpose           21525 non-null  object \n",
      "dtypes: float64(2), int64(5), object(5)\n",
      "memory usage: 2.0+ MB\n"
     ]
    },
    {
     "data": {
      "text/plain": [
       "Index(['children', 'days_employed', 'dob_years', 'education', 'education_id',\n",
       "       'family_status', 'family_status_id', 'gender', 'income_type', 'debt',\n",
       "       'total_income', 'purpose'],\n",
       "      dtype='object')"
      ]
     },
     "execution_count": 1,
     "metadata": {},
     "output_type": "execute_result"
    }
   ],
   "source": [
    "import pandas as pd  # импорт библиотеки pandas\n",
    "data = pd.read_csv('C:/Users/Анастасия/Documents/Jupiter_project/projects/data_preprocessing/data.csv') # чтение файла с данными и сохранение в data\n",
    "display(data.head(10)) # получение первых 10 строк таблицы data\n",
    "data.info() # получение общей информации о данных в таблице data\n",
    "data.columns # перечень названий столбцов таблицы data"
   ]
  },
  {
   "cell_type": "markdown",
   "id": "2eec9c8f",
   "metadata": {},
   "source": [
    "В таблице 11 столбцов:\n",
    "\n",
    "Согласно документации к данным:\n",
    "* `children` — количество детей в семье;\n",
    "* `days_employed` — общий трудовой стаж в днях;\n",
    "* `dob_years` — возраст клиента в годах;\n",
    "* `education` — уровень образования клиента;\n",
    "* `education_id` — идентификатор уровня образования;\n",
    "* `family_status` — семейное положение;\n",
    "* `family_status_id` — идентификатор семейного положения;\n",
    "* `gender` — пол клиента;\n",
    "* `income_type` — тип занятости;\n",
    "* `debt` — имел ли задолженность по возврату кредитов;\n",
    "* `total_income` — ежемесячный доход;\n",
    "* `purpose` — цель получения кредита.\n",
    "\n",
    "Выявленные проблемы:\n",
    "* 1. Количество значений в столбцах различается. Значит, в данных есть пропущенные значения.\n",
    "* 2. В первых же строках заметны аномальные отрицательные значения в столбце с трудовым стажем, а также аномально большое значение в строке 4.\n",
    "* 3. В столбцах `days_employed` и `total_income` тип данных для удобства и корректного отображения лучше изменить с float на int, т.к. точность до миллисекунд в трудовом стаже и до копейки в доходе вряд ли нам потребуется, а таблица станет выглядеть значительно лучше и проще для восприятия.\n",
    "* 4. В столбце с образованием заметна разная литерация в значениях, что приведет к дубликатам. Также в столбце с целью кредита видны похожие словоформы и формулирвоки, которые являются дубликатами по сути и их можно было бы привести к одному виду.\n",
    "\n",
    "Названия столбцов в приемлемом формате. Необходимо устранить выявленные проблемы, а также подробнее посмотреть на значения в таблице для устранения возможных дубликатов и аномалий."
   ]
  },
  {
   "cell_type": "markdown",
   "id": "9fe5ff9d",
   "metadata": {},
   "source": [
    "## Заполнение пропусков"
   ]
  },
  {
   "cell_type": "code",
   "execution_count": 2,
   "id": "99f59d1d",
   "metadata": {},
   "outputs": [
    {
     "data": {
      "text/plain": [
       "children               0\n",
       "days_employed       2174\n",
       "dob_years              0\n",
       "education              0\n",
       "education_id           0\n",
       "family_status          0\n",
       "family_status_id       0\n",
       "gender                 0\n",
       "income_type            0\n",
       "debt                   0\n",
       "total_income        2174\n",
       "purpose                0\n",
       "dtype: int64"
      ]
     },
     "execution_count": 2,
     "metadata": {},
     "output_type": "execute_result"
    }
   ],
   "source": [
    "data.isna().sum() # подсчёт пропусков"
   ]
  },
  {
   "cell_type": "code",
   "execution_count": 3,
   "id": "9612e4df",
   "metadata": {},
   "outputs": [
    {
     "data": {
      "text/plain": [
       "children            0.000000\n",
       "days_employed       0.100999\n",
       "dob_years           0.000000\n",
       "education           0.000000\n",
       "education_id        0.000000\n",
       "family_status       0.000000\n",
       "family_status_id    0.000000\n",
       "gender              0.000000\n",
       "income_type         0.000000\n",
       "debt                0.000000\n",
       "total_income        0.100999\n",
       "purpose             0.000000\n",
       "dtype: float64"
      ]
     },
     "execution_count": 3,
     "metadata": {},
     "output_type": "execute_result"
    }
   ],
   "source": [
    "data.isna().mean() #подсчет долей пропусков"
   ]
  },
  {
   "cell_type": "markdown",
   "id": "84e5b144",
   "metadata": {},
   "source": [
    "Пропущенные значения находятся в столбцах с общим трудовым стажем и ежемесячным доходом, они являются количественными. Данные пропуски лучшего всего заменить медианным значением тк разброс максимальных и минимальных значений в них большой. Среднее значение не будет давать достоверную информацию для исследования.\n",
    "\n",
    "К замене значений столбца `days_employed` лучше вернемся после исправления аномальных значений в нем, чтобы расчет оказался корректным. \n",
    "\n",
    "Рассмотрим столбец `total_income` и пропуски данных в нем. Пропущено 2174 значения, общее количество строк 21525, итого около 10% значений. Это достаточно большое количество данных, поэтому удалять строки с пустыми значения в этом солбце мы точно не будем. Также необходимо посмотреть какие именно это строки, тк по количеству пропусков видим подозрительное совпадение с количеством пропусков с столбце со стажем, не исключено, что это пропуски в одних и тех же строках."
   ]
  },
  {
   "cell_type": "code",
   "execution_count": 4,
   "id": "257f7fe3",
   "metadata": {},
   "outputs": [
    {
     "data": {
      "text/html": [
       "<div>\n",
       "<style scoped>\n",
       "    .dataframe tbody tr th:only-of-type {\n",
       "        vertical-align: middle;\n",
       "    }\n",
       "\n",
       "    .dataframe tbody tr th {\n",
       "        vertical-align: top;\n",
       "    }\n",
       "\n",
       "    .dataframe thead th {\n",
       "        text-align: right;\n",
       "    }\n",
       "</style>\n",
       "<table border=\"1\" class=\"dataframe\">\n",
       "  <thead>\n",
       "    <tr style=\"text-align: right;\">\n",
       "      <th></th>\n",
       "      <th>children</th>\n",
       "      <th>days_employed</th>\n",
       "      <th>dob_years</th>\n",
       "      <th>education</th>\n",
       "      <th>education_id</th>\n",
       "      <th>family_status</th>\n",
       "      <th>family_status_id</th>\n",
       "      <th>gender</th>\n",
       "      <th>income_type</th>\n",
       "      <th>debt</th>\n",
       "      <th>total_income</th>\n",
       "      <th>purpose</th>\n",
       "    </tr>\n",
       "  </thead>\n",
       "  <tbody>\n",
       "    <tr>\n",
       "      <th>12</th>\n",
       "      <td>0</td>\n",
       "      <td>NaN</td>\n",
       "      <td>65</td>\n",
       "      <td>среднее</td>\n",
       "      <td>1</td>\n",
       "      <td>гражданский брак</td>\n",
       "      <td>1</td>\n",
       "      <td>M</td>\n",
       "      <td>пенсионер</td>\n",
       "      <td>0</td>\n",
       "      <td>NaN</td>\n",
       "      <td>сыграть свадьбу</td>\n",
       "    </tr>\n",
       "    <tr>\n",
       "      <th>26</th>\n",
       "      <td>0</td>\n",
       "      <td>NaN</td>\n",
       "      <td>41</td>\n",
       "      <td>среднее</td>\n",
       "      <td>1</td>\n",
       "      <td>женат / замужем</td>\n",
       "      <td>0</td>\n",
       "      <td>M</td>\n",
       "      <td>госслужащий</td>\n",
       "      <td>0</td>\n",
       "      <td>NaN</td>\n",
       "      <td>образование</td>\n",
       "    </tr>\n",
       "    <tr>\n",
       "      <th>29</th>\n",
       "      <td>0</td>\n",
       "      <td>NaN</td>\n",
       "      <td>63</td>\n",
       "      <td>среднее</td>\n",
       "      <td>1</td>\n",
       "      <td>Не женат / не замужем</td>\n",
       "      <td>4</td>\n",
       "      <td>F</td>\n",
       "      <td>пенсионер</td>\n",
       "      <td>0</td>\n",
       "      <td>NaN</td>\n",
       "      <td>строительство жилой недвижимости</td>\n",
       "    </tr>\n",
       "    <tr>\n",
       "      <th>41</th>\n",
       "      <td>0</td>\n",
       "      <td>NaN</td>\n",
       "      <td>50</td>\n",
       "      <td>среднее</td>\n",
       "      <td>1</td>\n",
       "      <td>женат / замужем</td>\n",
       "      <td>0</td>\n",
       "      <td>F</td>\n",
       "      <td>госслужащий</td>\n",
       "      <td>0</td>\n",
       "      <td>NaN</td>\n",
       "      <td>сделка с подержанным автомобилем</td>\n",
       "    </tr>\n",
       "    <tr>\n",
       "      <th>55</th>\n",
       "      <td>0</td>\n",
       "      <td>NaN</td>\n",
       "      <td>54</td>\n",
       "      <td>среднее</td>\n",
       "      <td>1</td>\n",
       "      <td>гражданский брак</td>\n",
       "      <td>1</td>\n",
       "      <td>F</td>\n",
       "      <td>пенсионер</td>\n",
       "      <td>1</td>\n",
       "      <td>NaN</td>\n",
       "      <td>сыграть свадьбу</td>\n",
       "    </tr>\n",
       "    <tr>\n",
       "      <th>65</th>\n",
       "      <td>0</td>\n",
       "      <td>NaN</td>\n",
       "      <td>21</td>\n",
       "      <td>среднее</td>\n",
       "      <td>1</td>\n",
       "      <td>Не женат / не замужем</td>\n",
       "      <td>4</td>\n",
       "      <td>M</td>\n",
       "      <td>компаньон</td>\n",
       "      <td>0</td>\n",
       "      <td>NaN</td>\n",
       "      <td>операции с коммерческой недвижимостью</td>\n",
       "    </tr>\n",
       "    <tr>\n",
       "      <th>67</th>\n",
       "      <td>0</td>\n",
       "      <td>NaN</td>\n",
       "      <td>52</td>\n",
       "      <td>высшее</td>\n",
       "      <td>0</td>\n",
       "      <td>женат / замужем</td>\n",
       "      <td>0</td>\n",
       "      <td>F</td>\n",
       "      <td>пенсионер</td>\n",
       "      <td>0</td>\n",
       "      <td>NaN</td>\n",
       "      <td>покупка жилья для семьи</td>\n",
       "    </tr>\n",
       "    <tr>\n",
       "      <th>72</th>\n",
       "      <td>1</td>\n",
       "      <td>NaN</td>\n",
       "      <td>32</td>\n",
       "      <td>высшее</td>\n",
       "      <td>0</td>\n",
       "      <td>женат / замужем</td>\n",
       "      <td>0</td>\n",
       "      <td>M</td>\n",
       "      <td>госслужащий</td>\n",
       "      <td>0</td>\n",
       "      <td>NaN</td>\n",
       "      <td>операции с коммерческой недвижимостью</td>\n",
       "    </tr>\n",
       "    <tr>\n",
       "      <th>82</th>\n",
       "      <td>2</td>\n",
       "      <td>NaN</td>\n",
       "      <td>50</td>\n",
       "      <td>высшее</td>\n",
       "      <td>0</td>\n",
       "      <td>женат / замужем</td>\n",
       "      <td>0</td>\n",
       "      <td>F</td>\n",
       "      <td>сотрудник</td>\n",
       "      <td>0</td>\n",
       "      <td>NaN</td>\n",
       "      <td>жилье</td>\n",
       "    </tr>\n",
       "    <tr>\n",
       "      <th>83</th>\n",
       "      <td>0</td>\n",
       "      <td>NaN</td>\n",
       "      <td>52</td>\n",
       "      <td>среднее</td>\n",
       "      <td>1</td>\n",
       "      <td>женат / замужем</td>\n",
       "      <td>0</td>\n",
       "      <td>M</td>\n",
       "      <td>сотрудник</td>\n",
       "      <td>0</td>\n",
       "      <td>NaN</td>\n",
       "      <td>жилье</td>\n",
       "    </tr>\n",
       "    <tr>\n",
       "      <th>90</th>\n",
       "      <td>2</td>\n",
       "      <td>NaN</td>\n",
       "      <td>35</td>\n",
       "      <td>высшее</td>\n",
       "      <td>0</td>\n",
       "      <td>женат / замужем</td>\n",
       "      <td>0</td>\n",
       "      <td>F</td>\n",
       "      <td>сотрудник</td>\n",
       "      <td>0</td>\n",
       "      <td>NaN</td>\n",
       "      <td>операции с жильем</td>\n",
       "    </tr>\n",
       "    <tr>\n",
       "      <th>94</th>\n",
       "      <td>1</td>\n",
       "      <td>NaN</td>\n",
       "      <td>34</td>\n",
       "      <td>высшее</td>\n",
       "      <td>0</td>\n",
       "      <td>гражданский брак</td>\n",
       "      <td>1</td>\n",
       "      <td>F</td>\n",
       "      <td>компаньон</td>\n",
       "      <td>0</td>\n",
       "      <td>NaN</td>\n",
       "      <td>на проведение свадьбы</td>\n",
       "    </tr>\n",
       "    <tr>\n",
       "      <th>96</th>\n",
       "      <td>0</td>\n",
       "      <td>NaN</td>\n",
       "      <td>44</td>\n",
       "      <td>СРЕДНЕЕ</td>\n",
       "      <td>1</td>\n",
       "      <td>женат / замужем</td>\n",
       "      <td>0</td>\n",
       "      <td>F</td>\n",
       "      <td>сотрудник</td>\n",
       "      <td>0</td>\n",
       "      <td>NaN</td>\n",
       "      <td>покупка жилой недвижимости</td>\n",
       "    </tr>\n",
       "    <tr>\n",
       "      <th>97</th>\n",
       "      <td>0</td>\n",
       "      <td>NaN</td>\n",
       "      <td>47</td>\n",
       "      <td>высшее</td>\n",
       "      <td>0</td>\n",
       "      <td>женат / замужем</td>\n",
       "      <td>0</td>\n",
       "      <td>F</td>\n",
       "      <td>сотрудник</td>\n",
       "      <td>0</td>\n",
       "      <td>NaN</td>\n",
       "      <td>профильное образование</td>\n",
       "    </tr>\n",
       "    <tr>\n",
       "      <th>120</th>\n",
       "      <td>0</td>\n",
       "      <td>NaN</td>\n",
       "      <td>46</td>\n",
       "      <td>среднее</td>\n",
       "      <td>1</td>\n",
       "      <td>женат / замужем</td>\n",
       "      <td>0</td>\n",
       "      <td>F</td>\n",
       "      <td>сотрудник</td>\n",
       "      <td>0</td>\n",
       "      <td>NaN</td>\n",
       "      <td>высшее образование</td>\n",
       "    </tr>\n",
       "    <tr>\n",
       "      <th>121</th>\n",
       "      <td>0</td>\n",
       "      <td>NaN</td>\n",
       "      <td>29</td>\n",
       "      <td>высшее</td>\n",
       "      <td>0</td>\n",
       "      <td>женат / замужем</td>\n",
       "      <td>0</td>\n",
       "      <td>F</td>\n",
       "      <td>компаньон</td>\n",
       "      <td>0</td>\n",
       "      <td>NaN</td>\n",
       "      <td>автомобиль</td>\n",
       "    </tr>\n",
       "    <tr>\n",
       "      <th>135</th>\n",
       "      <td>0</td>\n",
       "      <td>NaN</td>\n",
       "      <td>27</td>\n",
       "      <td>среднее</td>\n",
       "      <td>1</td>\n",
       "      <td>женат / замужем</td>\n",
       "      <td>0</td>\n",
       "      <td>M</td>\n",
       "      <td>компаньон</td>\n",
       "      <td>0</td>\n",
       "      <td>NaN</td>\n",
       "      <td>жилье</td>\n",
       "    </tr>\n",
       "    <tr>\n",
       "      <th>141</th>\n",
       "      <td>0</td>\n",
       "      <td>NaN</td>\n",
       "      <td>39</td>\n",
       "      <td>среднее</td>\n",
       "      <td>1</td>\n",
       "      <td>гражданский брак</td>\n",
       "      <td>1</td>\n",
       "      <td>M</td>\n",
       "      <td>сотрудник</td>\n",
       "      <td>0</td>\n",
       "      <td>NaN</td>\n",
       "      <td>свадьба</td>\n",
       "    </tr>\n",
       "    <tr>\n",
       "      <th>145</th>\n",
       "      <td>0</td>\n",
       "      <td>NaN</td>\n",
       "      <td>62</td>\n",
       "      <td>среднее</td>\n",
       "      <td>1</td>\n",
       "      <td>женат / замужем</td>\n",
       "      <td>0</td>\n",
       "      <td>M</td>\n",
       "      <td>пенсионер</td>\n",
       "      <td>0</td>\n",
       "      <td>NaN</td>\n",
       "      <td>строительство недвижимости</td>\n",
       "    </tr>\n",
       "    <tr>\n",
       "      <th>174</th>\n",
       "      <td>0</td>\n",
       "      <td>NaN</td>\n",
       "      <td>55</td>\n",
       "      <td>высшее</td>\n",
       "      <td>0</td>\n",
       "      <td>вдовец / вдова</td>\n",
       "      <td>2</td>\n",
       "      <td>F</td>\n",
       "      <td>компаньон</td>\n",
       "      <td>0</td>\n",
       "      <td>NaN</td>\n",
       "      <td>свой автомобиль</td>\n",
       "    </tr>\n",
       "  </tbody>\n",
       "</table>\n",
       "</div>"
      ],
      "text/plain": [
       "     children  days_employed  dob_years education  education_id  \\\n",
       "12          0            NaN         65   среднее             1   \n",
       "26          0            NaN         41   среднее             1   \n",
       "29          0            NaN         63   среднее             1   \n",
       "41          0            NaN         50   среднее             1   \n",
       "55          0            NaN         54   среднее             1   \n",
       "65          0            NaN         21   среднее             1   \n",
       "67          0            NaN         52    высшее             0   \n",
       "72          1            NaN         32    высшее             0   \n",
       "82          2            NaN         50    высшее             0   \n",
       "83          0            NaN         52   среднее             1   \n",
       "90          2            NaN         35    высшее             0   \n",
       "94          1            NaN         34    высшее             0   \n",
       "96          0            NaN         44   СРЕДНЕЕ             1   \n",
       "97          0            NaN         47    высшее             0   \n",
       "120         0            NaN         46   среднее             1   \n",
       "121         0            NaN         29    высшее             0   \n",
       "135         0            NaN         27   среднее             1   \n",
       "141         0            NaN         39   среднее             1   \n",
       "145         0            NaN         62   среднее             1   \n",
       "174         0            NaN         55    высшее             0   \n",
       "\n",
       "             family_status  family_status_id gender  income_type  debt  \\\n",
       "12        гражданский брак                 1      M    пенсионер     0   \n",
       "26         женат / замужем                 0      M  госслужащий     0   \n",
       "29   Не женат / не замужем                 4      F    пенсионер     0   \n",
       "41         женат / замужем                 0      F  госслужащий     0   \n",
       "55        гражданский брак                 1      F    пенсионер     1   \n",
       "65   Не женат / не замужем                 4      M    компаньон     0   \n",
       "67         женат / замужем                 0      F    пенсионер     0   \n",
       "72         женат / замужем                 0      M  госслужащий     0   \n",
       "82         женат / замужем                 0      F    сотрудник     0   \n",
       "83         женат / замужем                 0      M    сотрудник     0   \n",
       "90         женат / замужем                 0      F    сотрудник     0   \n",
       "94        гражданский брак                 1      F    компаньон     0   \n",
       "96         женат / замужем                 0      F    сотрудник     0   \n",
       "97         женат / замужем                 0      F    сотрудник     0   \n",
       "120        женат / замужем                 0      F    сотрудник     0   \n",
       "121        женат / замужем                 0      F    компаньон     0   \n",
       "135        женат / замужем                 0      M    компаньон     0   \n",
       "141       гражданский брак                 1      M    сотрудник     0   \n",
       "145        женат / замужем                 0      M    пенсионер     0   \n",
       "174         вдовец / вдова                 2      F    компаньон     0   \n",
       "\n",
       "     total_income                                purpose  \n",
       "12            NaN                        сыграть свадьбу  \n",
       "26            NaN                            образование  \n",
       "29            NaN       строительство жилой недвижимости  \n",
       "41            NaN       сделка с подержанным автомобилем  \n",
       "55            NaN                        сыграть свадьбу  \n",
       "65            NaN  операции с коммерческой недвижимостью  \n",
       "67            NaN                покупка жилья для семьи  \n",
       "72            NaN  операции с коммерческой недвижимостью  \n",
       "82            NaN                                  жилье  \n",
       "83            NaN                                  жилье  \n",
       "90            NaN                      операции с жильем  \n",
       "94            NaN                  на проведение свадьбы  \n",
       "96            NaN             покупка жилой недвижимости  \n",
       "97            NaN                 профильное образование  \n",
       "120           NaN                     высшее образование  \n",
       "121           NaN                             автомобиль  \n",
       "135           NaN                                  жилье  \n",
       "141           NaN                                свадьба  \n",
       "145           NaN             строительство недвижимости  \n",
       "174           NaN                        свой автомобиль  "
      ]
     },
     "execution_count": 4,
     "metadata": {},
     "output_type": "execute_result"
    }
   ],
   "source": [
    "data[data['total_income'].isna()].head(20) #просмотр строк с пропусками значений"
   ]
  },
  {
   "cell_type": "markdown",
   "id": "d61079d3",
   "metadata": {},
   "source": [
    "При анализе данных строк, видим, что действительно, пропущенные данные одновремнно появляются в двух столбцах. При этом пропуски появляются вне зависимости от значений в других столбцах, практически во всех возможных категориях заемщиков. Либо некорректная выгрузка стала причиной, либо ошибка при заполении анкеты заемщиком, либо просто его нежелание указывать необходимую информацию о себе, возможно, без официального трудоустройства."
   ]
  },
  {
   "cell_type": "markdown",
   "id": "8378316a",
   "metadata": {},
   "source": [
    "На всякий случай сразу проверим столбец `total_income` на аномальные значения, чтобы получить адекватные медаины для его заполнения."
   ]
  },
  {
   "cell_type": "code",
   "execution_count": 5,
   "id": "8cdd246d",
   "metadata": {},
   "outputs": [
    {
     "data": {
      "text/plain": [
       "count      19351.00\n",
       "mean      167422.30\n",
       "std       102971.57\n",
       "min        20667.26\n",
       "25%       103053.15\n",
       "50%       145017.94\n",
       "75%       203435.07\n",
       "max      2265604.03\n",
       "Name: total_income, dtype: float64"
      ]
     },
     "execution_count": 5,
     "metadata": {},
     "output_type": "execute_result"
    }
   ],
   "source": [
    "round(data['total_income'].describe(), 2)\n"
   ]
  },
  {
   "cell_type": "markdown",
   "id": "5253319c",
   "metadata": {},
   "source": [
    "В целом, по данным видно, что явных аномалий нет, каких-то отрицательных, нулевых или слишком огромных значений нет, медиана \"похожа на правду\"."
   ]
  },
  {
   "cell_type": "markdown",
   "id": "7193e949",
   "metadata": {},
   "source": [
    "В реальности значение дохода было бы достаточно принципиальным показателем и количество пропусков велико, чтобы обратиться к программистам или источнику информации, чтобы уточнить недостающие данные или получить информацию о причинах ее остутствия, чтобы приянть решение о дальнейшем использовании ее в исследовании. В данной учебном проекте заполним пропуски данными медианных значенией по категориям занятости, предполагая, что внутри групп с одинаковым типом занятости будут максимально приближенные данные."
   ]
  },
  {
   "cell_type": "code",
   "execution_count": 6,
   "id": "a1aacf5b",
   "metadata": {},
   "outputs": [
    {
     "name": "stdout",
     "output_type": "stream",
     "text": [
      "сотрудник 1105\n",
      "пенсионер 413\n",
      "компаньон 508\n",
      "госслужащий 147\n",
      "предприниматель 1\n"
     ]
    }
   ],
   "source": [
    "# получим список типов занятости, в которых есть пропуски\n",
    "list_type = [] #создание списка для категорий, в которых пропущены значения\n",
    "for i in data['income_type'].unique():\n",
    "    if data[data['income_type']== i]['total_income'].isna().sum() > 0:\n",
    "        list_type.append(i)\n",
    "        print(i, data[data['income_type']== i]['total_income'].isna().sum())      "
   ]
  },
  {
   "cell_type": "markdown",
   "id": "75974371",
   "metadata": {},
   "source": [
    "Видим, что необходимо получить расчет медиан для категорий: сотрудник, пенсионер, компаньон, госслужащий, предприниматель. При этом рассмотрим наполненность этих категорий."
   ]
  },
  {
   "cell_type": "code",
   "execution_count": 7,
   "id": "ba69a70e",
   "metadata": {},
   "outputs": [
    {
     "data": {
      "text/plain": [
       "сотрудник          11119\n",
       "компаньон           5085\n",
       "пенсионер           3856\n",
       "госслужащий         1459\n",
       "безработный            2\n",
       "предприниматель        2\n",
       "студент                1\n",
       "в декрете              1\n",
       "Name: income_type, dtype: int64"
      ]
     },
     "execution_count": 7,
     "metadata": {},
     "output_type": "execute_result"
    }
   ],
   "source": [
    "data['income_type'].value_counts()"
   ]
  },
  {
   "cell_type": "markdown",
   "id": "528f1d46",
   "metadata": {},
   "source": [
    "Для всех кроме предпринимателя данных вполне достаточно для рассчета медианы. Но одного значения точно недостаточно, предприниматели могут иметь совершенно разных доход. Считаю, что данную строку просто исключить из исследования, предприниматель с неизвестным доходом будет удален для объективности."
   ]
  },
  {
   "cell_type": "code",
   "execution_count": 8,
   "id": "03d35198",
   "metadata": {},
   "outputs": [
    {
     "data": {
      "text/html": [
       "<div>\n",
       "<style scoped>\n",
       "    .dataframe tbody tr th:only-of-type {\n",
       "        vertical-align: middle;\n",
       "    }\n",
       "\n",
       "    .dataframe tbody tr th {\n",
       "        vertical-align: top;\n",
       "    }\n",
       "\n",
       "    .dataframe thead th {\n",
       "        text-align: right;\n",
       "    }\n",
       "</style>\n",
       "<table border=\"1\" class=\"dataframe\">\n",
       "  <thead>\n",
       "    <tr style=\"text-align: right;\">\n",
       "      <th></th>\n",
       "      <th>children</th>\n",
       "      <th>days_employed</th>\n",
       "      <th>dob_years</th>\n",
       "      <th>education</th>\n",
       "      <th>education_id</th>\n",
       "      <th>family_status</th>\n",
       "      <th>family_status_id</th>\n",
       "      <th>gender</th>\n",
       "      <th>income_type</th>\n",
       "      <th>debt</th>\n",
       "      <th>total_income</th>\n",
       "      <th>purpose</th>\n",
       "    </tr>\n",
       "  </thead>\n",
       "  <tbody>\n",
       "    <tr>\n",
       "      <th>5936</th>\n",
       "      <td>0</td>\n",
       "      <td>NaN</td>\n",
       "      <td>58</td>\n",
       "      <td>высшее</td>\n",
       "      <td>0</td>\n",
       "      <td>женат / замужем</td>\n",
       "      <td>0</td>\n",
       "      <td>M</td>\n",
       "      <td>предприниматель</td>\n",
       "      <td>0</td>\n",
       "      <td>NaN</td>\n",
       "      <td>покупка жилой недвижимости</td>\n",
       "    </tr>\n",
       "    <tr>\n",
       "      <th>18697</th>\n",
       "      <td>0</td>\n",
       "      <td>-520.848083</td>\n",
       "      <td>27</td>\n",
       "      <td>высшее</td>\n",
       "      <td>0</td>\n",
       "      <td>гражданский брак</td>\n",
       "      <td>1</td>\n",
       "      <td>F</td>\n",
       "      <td>предприниматель</td>\n",
       "      <td>0</td>\n",
       "      <td>499163.144947</td>\n",
       "      <td>на проведение свадьбы</td>\n",
       "    </tr>\n",
       "  </tbody>\n",
       "</table>\n",
       "</div>"
      ],
      "text/plain": [
       "       children  days_employed  dob_years education  education_id  \\\n",
       "5936          0            NaN         58    высшее             0   \n",
       "18697         0    -520.848083         27    высшее             0   \n",
       "\n",
       "          family_status  family_status_id gender      income_type  debt  \\\n",
       "5936    женат / замужем                 0      M  предприниматель     0   \n",
       "18697  гражданский брак                 1      F  предприниматель     0   \n",
       "\n",
       "        total_income                     purpose  \n",
       "5936             NaN  покупка жилой недвижимости  \n",
       "18697  499163.144947       на проведение свадьбы  "
      ]
     },
     "execution_count": 8,
     "metadata": {},
     "output_type": "execute_result"
    }
   ],
   "source": [
    "data[data['income_type']=='предприниматель'] #посмотрим на предпринимателей"
   ]
  },
  {
   "cell_type": "code",
   "execution_count": 9,
   "id": "a8a340bc",
   "metadata": {},
   "outputs": [
    {
     "data": {
      "text/html": [
       "<div>\n",
       "<style scoped>\n",
       "    .dataframe tbody tr th:only-of-type {\n",
       "        vertical-align: middle;\n",
       "    }\n",
       "\n",
       "    .dataframe tbody tr th {\n",
       "        vertical-align: top;\n",
       "    }\n",
       "\n",
       "    .dataframe thead th {\n",
       "        text-align: right;\n",
       "    }\n",
       "</style>\n",
       "<table border=\"1\" class=\"dataframe\">\n",
       "  <thead>\n",
       "    <tr style=\"text-align: right;\">\n",
       "      <th></th>\n",
       "      <th>children</th>\n",
       "      <th>days_employed</th>\n",
       "      <th>dob_years</th>\n",
       "      <th>education</th>\n",
       "      <th>education_id</th>\n",
       "      <th>family_status</th>\n",
       "      <th>family_status_id</th>\n",
       "      <th>gender</th>\n",
       "      <th>income_type</th>\n",
       "      <th>debt</th>\n",
       "      <th>total_income</th>\n",
       "      <th>purpose</th>\n",
       "    </tr>\n",
       "  </thead>\n",
       "  <tbody>\n",
       "    <tr>\n",
       "      <th>18696</th>\n",
       "      <td>0</td>\n",
       "      <td>-520.848083</td>\n",
       "      <td>27</td>\n",
       "      <td>высшее</td>\n",
       "      <td>0</td>\n",
       "      <td>гражданский брак</td>\n",
       "      <td>1</td>\n",
       "      <td>F</td>\n",
       "      <td>предприниматель</td>\n",
       "      <td>0</td>\n",
       "      <td>499163.144947</td>\n",
       "      <td>на проведение свадьбы</td>\n",
       "    </tr>\n",
       "  </tbody>\n",
       "</table>\n",
       "</div>"
      ],
      "text/plain": [
       "       children  days_employed  dob_years education  education_id  \\\n",
       "18696         0    -520.848083         27    высшее             0   \n",
       "\n",
       "          family_status  family_status_id gender      income_type  debt  \\\n",
       "18696  гражданский брак                 1      F  предприниматель     0   \n",
       "\n",
       "        total_income                purpose  \n",
       "18696  499163.144947  на проведение свадьбы  "
      ]
     },
     "execution_count": 9,
     "metadata": {},
     "output_type": "execute_result"
    }
   ],
   "source": [
    "data=data.drop(index=[5936]).reset_index(drop=True) #удалим строку по номеру и предпринимателя из списка\n",
    "list_type.remove('предприниматель')\n",
    "data[data['income_type']=='предприниматель'] #проверка"
   ]
  },
  {
   "cell_type": "markdown",
   "id": "797a4093",
   "metadata": {},
   "source": [
    "Осталось разобраться с четырьмя группами, посчитаем медианные значения в них и присвоим пропускам соотвествующие значения."
   ]
  },
  {
   "cell_type": "code",
   "execution_count": 10,
   "id": "217f50e5",
   "metadata": {},
   "outputs": [],
   "source": [
    "median_data = data.groupby('income_type')['total_income'].median() #определение медианного дохода по категориям\n",
    "for category in list_type:                                         #замена пустых ячеек медианным доходом по данной категории\n",
    "    median_income = median_data.loc[category]\n",
    "    data.loc[data['income_type']==category, 'total_income'] = \\\n",
    "    data.loc[data['income_type']==category, 'total_income'].fillna(median_income)"
   ]
  },
  {
   "cell_type": "markdown",
   "id": "1fde8bf0",
   "metadata": {},
   "source": [
    "Проверим на всякий случай первую строку с пропуском значения, в которой находился пенсионер со значением медианы. Значение совпадает."
   ]
  },
  {
   "cell_type": "code",
   "execution_count": 11,
   "id": "16549321",
   "metadata": {},
   "outputs": [
    {
     "name": "stdout",
     "output_type": "stream",
     "text": [
      "income_type\n",
      "безработный        131339.751676\n",
      "в декрете           53829.130729\n",
      "госслужащий        150447.935283\n",
      "компаньон          172357.950966\n",
      "пенсионер          118514.486412\n",
      "предприниматель    499163.144947\n",
      "сотрудник          142594.396847\n",
      "студент             98201.625314\n",
      "Name: total_income, dtype: float64\n"
     ]
    },
    {
     "data": {
      "text/plain": [
       "children                           0\n",
       "days_employed                    NaN\n",
       "dob_years                         65\n",
       "education                    среднее\n",
       "education_id                       1\n",
       "family_status       гражданский брак\n",
       "family_status_id                   1\n",
       "gender                             M\n",
       "income_type                пенсионер\n",
       "debt                               0\n",
       "total_income           118514.486412\n",
       "purpose              сыграть свадьбу\n",
       "Name: 12, dtype: object"
      ]
     },
     "execution_count": 11,
     "metadata": {},
     "output_type": "execute_result"
    }
   ],
   "source": [
    "print(median_data)\n",
    "data.loc[12]"
   ]
  },
  {
   "cell_type": "markdown",
   "id": "8d25e104",
   "metadata": {},
   "source": [
    "## Проверка данных на аномалии и исправления."
   ]
  },
  {
   "cell_type": "markdown",
   "id": "d514e030",
   "metadata": {},
   "source": [
    "Рассмотрим подробнее остальные столбцы для обнаружения аномальных значений"
   ]
  },
  {
   "cell_type": "markdown",
   "id": "922031b3",
   "metadata": {},
   "source": [
    "### children - количество детей"
   ]
  },
  {
   "cell_type": "code",
   "execution_count": 12,
   "id": "2cce7b96",
   "metadata": {},
   "outputs": [
    {
     "data": {
      "text/plain": [
       " 0     14148\n",
       " 1      4818\n",
       " 2      2055\n",
       " 3       330\n",
       " 20       76\n",
       "-1        47\n",
       " 4        41\n",
       " 5         9\n",
       "Name: children, dtype: int64"
      ]
     },
     "execution_count": 12,
     "metadata": {},
     "output_type": "execute_result"
    }
   ],
   "source": [
    "data['children'].value_counts()  #подсчет уникальных значений в столбце"
   ]
  },
  {
   "cell_type": "markdown",
   "id": "94584437",
   "metadata": {},
   "source": [
    "Видим, что в целом данные выглядят адекватно. Но есть 47 значений -1 - количество детей не могло быть отрицательным, и 76 значений 20, возможно, но маловероятно. Скорее всего -1 могло быть равно 1, а 20 это 2, но наверняка нельзя сказать. Суммарно аномальных значений менее 1%. Поэтому, думаю, что тк исследование непосрдественно затрагивает взаимосвязь с количеством детей, эти данные лучше исключить из исследования."
   ]
  },
  {
   "cell_type": "code",
   "execution_count": 13,
   "id": "32c97f0b",
   "metadata": {},
   "outputs": [
    {
     "name": "stdout",
     "output_type": "stream",
     "text": [
      "<class 'pandas.core.frame.DataFrame'>\n",
      "Int64Index: 21401 entries, 0 to 21523\n",
      "Data columns (total 12 columns):\n",
      " #   Column            Non-Null Count  Dtype  \n",
      "---  ------            --------------  -----  \n",
      " 0   children          21401 non-null  int64  \n",
      " 1   days_employed     19240 non-null  float64\n",
      " 2   dob_years         21401 non-null  int64  \n",
      " 3   education         21401 non-null  object \n",
      " 4   education_id      21401 non-null  int64  \n",
      " 5   family_status     21401 non-null  object \n",
      " 6   family_status_id  21401 non-null  int64  \n",
      " 7   gender            21401 non-null  object \n",
      " 8   income_type       21401 non-null  object \n",
      " 9   debt              21401 non-null  int64  \n",
      " 10  total_income      21401 non-null  float64\n",
      " 11  purpose           21401 non-null  object \n",
      "dtypes: float64(2), int64(5), object(5)\n",
      "memory usage: 2.1+ MB\n"
     ]
    }
   ],
   "source": [
    "data = data[(data['children']!=-1)&(data['children']!=20)] #удаляем строки со значением детей -1 и 20\n",
    "data.info() #проверка"
   ]
  },
  {
   "cell_type": "markdown",
   "id": "8d7ae57f",
   "metadata": {},
   "source": [
    "### days_employed - дни стажа"
   ]
  },
  {
   "cell_type": "code",
   "execution_count": 14,
   "id": "37c97240",
   "metadata": {},
   "outputs": [
    {
     "data": {
      "text/plain": [
       "count     19240.000000\n",
       "mean      63159.820777\n",
       "std      140928.943329\n",
       "min      -18388.949901\n",
       "25%       -2747.235601\n",
       "50%       -1203.934202\n",
       "75%        -289.740178\n",
       "max      401755.400475\n",
       "Name: days_employed, dtype: float64"
      ]
     },
     "execution_count": 14,
     "metadata": {},
     "output_type": "execute_result"
    }
   ],
   "source": [
    "data['days_employed'].describe() #рассмотрим данные по разбросу значений в столбце"
   ]
  },
  {
   "cell_type": "markdown",
   "id": "f889a1bf",
   "metadata": {},
   "source": [
    "По данной таблице видно, что значения о днях трудового стажа вряд ли можно назвать достоверными. Присутствуют отрицательные значения, причем в таком количестве, что медианное значение имеет отрицательный знак. Но и максимальное значение не похоже на правду, если перевести 401755 в года это 1100 лет. \n",
    "\n",
    "Если бы в нашем исследовании данный фактор имел значение, скорее всего требовлаось бы уточнить информацию или провести целое расследование о причинах возникновения ошибок и что именно \"пошло не так\" при записи этого столбца. Можно лишь выдвинуть гипотезы: \n",
    "\n",
    "* что \"-\" это на самом деле точно такое же значение, но с \"+\", \n",
    "* слишком большие значения переведены в часы, а не дни\n",
    "* стаж рассчитывался по формуле и при внесении данных возникла ошибка в годах, в пользу этой версии говорит то, что дата могла записываться в формате 01.01.22 и 01.01.79, при этом имелся ввиду 1979 и 2022 год, а рассчет мог быть построен на 2079 и 2022 или наоборот 1979 и 1922. \n",
    "* стаж рассчитывался по формуле и при внесении данных ошибка возникла в том, что были перепутаны ячейки с вводимой информацией, те дата начала работы и последнего места работы скажем оказались перепутаны.\n",
    "\n",
    "\n",
    "Но в действиетелньости это гадание на кофейной гуще без наличия дополнительной инфорамации и в данном проекте трудовой стаж не является необходимым показателем, поэтому данный столбец можно просто удалить из таблицы без потери чего-либо ценного."
   ]
  },
  {
   "cell_type": "code",
   "execution_count": 15,
   "id": "299660d8",
   "metadata": {},
   "outputs": [
    {
     "data": {
      "text/plain": [
       "Index(['children', 'dob_years', 'education', 'education_id', 'family_status',\n",
       "       'family_status_id', 'gender', 'income_type', 'debt', 'total_income',\n",
       "       'purpose'],\n",
       "      dtype='object')"
      ]
     },
     "execution_count": 15,
     "metadata": {},
     "output_type": "execute_result"
    }
   ],
   "source": [
    "data.pop('days_employed')  #удаление столбца и проверка\n",
    "data.columns"
   ]
  },
  {
   "cell_type": "markdown",
   "id": "4707689a",
   "metadata": {},
   "source": [
    "### dob_years - возраст"
   ]
  },
  {
   "cell_type": "code",
   "execution_count": 16,
   "id": "8c0b57ff",
   "metadata": {},
   "outputs": [
    {
     "data": {
      "text/plain": [
       "0     100\n",
       "19     14\n",
       "20     51\n",
       "21    110\n",
       "22    183\n",
       "23    252\n",
       "24    263\n",
       "25    356\n",
       "26    406\n",
       "27    490\n",
       "28    501\n",
       "29    543\n",
       "30    536\n",
       "31    556\n",
       "32    506\n",
       "33    577\n",
       "34    597\n",
       "35    614\n",
       "36    553\n",
       "37    531\n",
       "38    595\n",
       "39    572\n",
       "40    603\n",
       "41    603\n",
       "42    592\n",
       "43    510\n",
       "44    543\n",
       "45    494\n",
       "46    469\n",
       "47    480\n",
       "48    536\n",
       "49    505\n",
       "50    509\n",
       "51    446\n",
       "52    483\n",
       "53    457\n",
       "54    476\n",
       "55    441\n",
       "56    482\n",
       "57    457\n",
       "58    460\n",
       "59    441\n",
       "60    376\n",
       "61    353\n",
       "62    351\n",
       "63    268\n",
       "64    263\n",
       "65    194\n",
       "66    183\n",
       "67    167\n",
       "68     99\n",
       "69     83\n",
       "70     65\n",
       "71     58\n",
       "72     33\n",
       "73      8\n",
       "74      6\n",
       "75      1\n",
       "Name: dob_years, dtype: int64"
      ]
     },
     "execution_count": 16,
     "metadata": {},
     "output_type": "execute_result"
    }
   ],
   "source": [
    "#просмотр информации о значениях в столбце\n",
    "data['dob_years'].value_counts().sort_index()"
   ]
  },
  {
   "cell_type": "markdown",
   "id": "1ad1fcfd",
   "metadata": {},
   "source": [
    "Возраст 0 явная аномалия, в остальном отклонений от нормы не видно. Проверим строки, в которых встречается данное значение."
   ]
  },
  {
   "cell_type": "code",
   "execution_count": 17,
   "id": "54203619",
   "metadata": {},
   "outputs": [
    {
     "data": {
      "text/html": [
       "<div>\n",
       "<style scoped>\n",
       "    .dataframe tbody tr th:only-of-type {\n",
       "        vertical-align: middle;\n",
       "    }\n",
       "\n",
       "    .dataframe tbody tr th {\n",
       "        vertical-align: top;\n",
       "    }\n",
       "\n",
       "    .dataframe thead th {\n",
       "        text-align: right;\n",
       "    }\n",
       "</style>\n",
       "<table border=\"1\" class=\"dataframe\">\n",
       "  <thead>\n",
       "    <tr style=\"text-align: right;\">\n",
       "      <th></th>\n",
       "      <th>children</th>\n",
       "      <th>dob_years</th>\n",
       "      <th>education</th>\n",
       "      <th>education_id</th>\n",
       "      <th>family_status</th>\n",
       "      <th>family_status_id</th>\n",
       "      <th>gender</th>\n",
       "      <th>income_type</th>\n",
       "      <th>debt</th>\n",
       "      <th>total_income</th>\n",
       "      <th>purpose</th>\n",
       "    </tr>\n",
       "  </thead>\n",
       "  <tbody>\n",
       "    <tr>\n",
       "      <th>99</th>\n",
       "      <td>0</td>\n",
       "      <td>0</td>\n",
       "      <td>Среднее</td>\n",
       "      <td>1</td>\n",
       "      <td>женат / замужем</td>\n",
       "      <td>0</td>\n",
       "      <td>F</td>\n",
       "      <td>пенсионер</td>\n",
       "      <td>0</td>\n",
       "      <td>71291.522491</td>\n",
       "      <td>автомобиль</td>\n",
       "    </tr>\n",
       "    <tr>\n",
       "      <th>149</th>\n",
       "      <td>0</td>\n",
       "      <td>0</td>\n",
       "      <td>среднее</td>\n",
       "      <td>1</td>\n",
       "      <td>в разводе</td>\n",
       "      <td>3</td>\n",
       "      <td>F</td>\n",
       "      <td>сотрудник</td>\n",
       "      <td>0</td>\n",
       "      <td>70176.435951</td>\n",
       "      <td>операции с жильем</td>\n",
       "    </tr>\n",
       "    <tr>\n",
       "      <th>270</th>\n",
       "      <td>3</td>\n",
       "      <td>0</td>\n",
       "      <td>среднее</td>\n",
       "      <td>1</td>\n",
       "      <td>женат / замужем</td>\n",
       "      <td>0</td>\n",
       "      <td>F</td>\n",
       "      <td>сотрудник</td>\n",
       "      <td>0</td>\n",
       "      <td>102166.458894</td>\n",
       "      <td>ремонт жилью</td>\n",
       "    </tr>\n",
       "    <tr>\n",
       "      <th>578</th>\n",
       "      <td>0</td>\n",
       "      <td>0</td>\n",
       "      <td>среднее</td>\n",
       "      <td>1</td>\n",
       "      <td>женат / замужем</td>\n",
       "      <td>0</td>\n",
       "      <td>F</td>\n",
       "      <td>пенсионер</td>\n",
       "      <td>0</td>\n",
       "      <td>97620.687042</td>\n",
       "      <td>строительство собственной недвижимости</td>\n",
       "    </tr>\n",
       "    <tr>\n",
       "      <th>1040</th>\n",
       "      <td>0</td>\n",
       "      <td>0</td>\n",
       "      <td>высшее</td>\n",
       "      <td>0</td>\n",
       "      <td>в разводе</td>\n",
       "      <td>3</td>\n",
       "      <td>F</td>\n",
       "      <td>компаньон</td>\n",
       "      <td>0</td>\n",
       "      <td>303994.134987</td>\n",
       "      <td>свой автомобиль</td>\n",
       "    </tr>\n",
       "    <tr>\n",
       "      <th>1149</th>\n",
       "      <td>0</td>\n",
       "      <td>0</td>\n",
       "      <td>среднее</td>\n",
       "      <td>1</td>\n",
       "      <td>женат / замужем</td>\n",
       "      <td>0</td>\n",
       "      <td>F</td>\n",
       "      <td>компаньон</td>\n",
       "      <td>0</td>\n",
       "      <td>201852.430096</td>\n",
       "      <td>покупка недвижимости</td>\n",
       "    </tr>\n",
       "    <tr>\n",
       "      <th>1175</th>\n",
       "      <td>0</td>\n",
       "      <td>0</td>\n",
       "      <td>среднее</td>\n",
       "      <td>1</td>\n",
       "      <td>женат / замужем</td>\n",
       "      <td>0</td>\n",
       "      <td>F</td>\n",
       "      <td>пенсионер</td>\n",
       "      <td>0</td>\n",
       "      <td>313949.845188</td>\n",
       "      <td>получение дополнительного образования</td>\n",
       "    </tr>\n",
       "    <tr>\n",
       "      <th>1386</th>\n",
       "      <td>0</td>\n",
       "      <td>0</td>\n",
       "      <td>высшее</td>\n",
       "      <td>0</td>\n",
       "      <td>женат / замужем</td>\n",
       "      <td>0</td>\n",
       "      <td>M</td>\n",
       "      <td>госслужащий</td>\n",
       "      <td>0</td>\n",
       "      <td>240523.618071</td>\n",
       "      <td>сделка с автомобилем</td>\n",
       "    </tr>\n",
       "    <tr>\n",
       "      <th>1890</th>\n",
       "      <td>0</td>\n",
       "      <td>0</td>\n",
       "      <td>высшее</td>\n",
       "      <td>0</td>\n",
       "      <td>Не женат / не замужем</td>\n",
       "      <td>4</td>\n",
       "      <td>F</td>\n",
       "      <td>сотрудник</td>\n",
       "      <td>0</td>\n",
       "      <td>142594.396847</td>\n",
       "      <td>жилье</td>\n",
       "    </tr>\n",
       "    <tr>\n",
       "      <th>1898</th>\n",
       "      <td>0</td>\n",
       "      <td>0</td>\n",
       "      <td>среднее</td>\n",
       "      <td>1</td>\n",
       "      <td>вдовец / вдова</td>\n",
       "      <td>2</td>\n",
       "      <td>F</td>\n",
       "      <td>пенсионер</td>\n",
       "      <td>0</td>\n",
       "      <td>127400.268338</td>\n",
       "      <td>на покупку автомобиля</td>\n",
       "    </tr>\n",
       "    <tr>\n",
       "      <th>2082</th>\n",
       "      <td>0</td>\n",
       "      <td>0</td>\n",
       "      <td>среднее</td>\n",
       "      <td>1</td>\n",
       "      <td>женат / замужем</td>\n",
       "      <td>0</td>\n",
       "      <td>F</td>\n",
       "      <td>сотрудник</td>\n",
       "      <td>0</td>\n",
       "      <td>386373.636958</td>\n",
       "      <td>операции с недвижимостью</td>\n",
       "    </tr>\n",
       "    <tr>\n",
       "      <th>2284</th>\n",
       "      <td>0</td>\n",
       "      <td>0</td>\n",
       "      <td>среднее</td>\n",
       "      <td>1</td>\n",
       "      <td>вдовец / вдова</td>\n",
       "      <td>2</td>\n",
       "      <td>F</td>\n",
       "      <td>пенсионер</td>\n",
       "      <td>0</td>\n",
       "      <td>118514.486412</td>\n",
       "      <td>недвижимость</td>\n",
       "    </tr>\n",
       "    <tr>\n",
       "      <th>2469</th>\n",
       "      <td>0</td>\n",
       "      <td>0</td>\n",
       "      <td>среднее</td>\n",
       "      <td>1</td>\n",
       "      <td>гражданский брак</td>\n",
       "      <td>1</td>\n",
       "      <td>F</td>\n",
       "      <td>сотрудник</td>\n",
       "      <td>0</td>\n",
       "      <td>95967.700317</td>\n",
       "      <td>сыграть свадьбу</td>\n",
       "    </tr>\n",
       "    <tr>\n",
       "      <th>2487</th>\n",
       "      <td>0</td>\n",
       "      <td>0</td>\n",
       "      <td>среднее</td>\n",
       "      <td>1</td>\n",
       "      <td>женат / замужем</td>\n",
       "      <td>0</td>\n",
       "      <td>F</td>\n",
       "      <td>сотрудник</td>\n",
       "      <td>1</td>\n",
       "      <td>91367.005172</td>\n",
       "      <td>недвижимость</td>\n",
       "    </tr>\n",
       "    <tr>\n",
       "      <th>2870</th>\n",
       "      <td>0</td>\n",
       "      <td>0</td>\n",
       "      <td>среднее</td>\n",
       "      <td>1</td>\n",
       "      <td>женат / замужем</td>\n",
       "      <td>0</td>\n",
       "      <td>F</td>\n",
       "      <td>компаньон</td>\n",
       "      <td>0</td>\n",
       "      <td>167713.212064</td>\n",
       "      <td>на покупку своего автомобиля</td>\n",
       "    </tr>\n",
       "  </tbody>\n",
       "</table>\n",
       "</div>"
      ],
      "text/plain": [
       "      children  dob_years education  education_id          family_status  \\\n",
       "99           0          0   Среднее             1        женат / замужем   \n",
       "149          0          0   среднее             1              в разводе   \n",
       "270          3          0   среднее             1        женат / замужем   \n",
       "578          0          0   среднее             1        женат / замужем   \n",
       "1040         0          0    высшее             0              в разводе   \n",
       "1149         0          0   среднее             1        женат / замужем   \n",
       "1175         0          0   среднее             1        женат / замужем   \n",
       "1386         0          0    высшее             0        женат / замужем   \n",
       "1890         0          0    высшее             0  Не женат / не замужем   \n",
       "1898         0          0   среднее             1         вдовец / вдова   \n",
       "2082         0          0   среднее             1        женат / замужем   \n",
       "2284         0          0   среднее             1         вдовец / вдова   \n",
       "2469         0          0   среднее             1       гражданский брак   \n",
       "2487         0          0   среднее             1        женат / замужем   \n",
       "2870         0          0   среднее             1        женат / замужем   \n",
       "\n",
       "      family_status_id gender  income_type  debt   total_income  \\\n",
       "99                   0      F    пенсионер     0   71291.522491   \n",
       "149                  3      F    сотрудник     0   70176.435951   \n",
       "270                  0      F    сотрудник     0  102166.458894   \n",
       "578                  0      F    пенсионер     0   97620.687042   \n",
       "1040                 3      F    компаньон     0  303994.134987   \n",
       "1149                 0      F    компаньон     0  201852.430096   \n",
       "1175                 0      F    пенсионер     0  313949.845188   \n",
       "1386                 0      M  госслужащий     0  240523.618071   \n",
       "1890                 4      F    сотрудник     0  142594.396847   \n",
       "1898                 2      F    пенсионер     0  127400.268338   \n",
       "2082                 0      F    сотрудник     0  386373.636958   \n",
       "2284                 2      F    пенсионер     0  118514.486412   \n",
       "2469                 1      F    сотрудник     0   95967.700317   \n",
       "2487                 0      F    сотрудник     1   91367.005172   \n",
       "2870                 0      F    компаньон     0  167713.212064   \n",
       "\n",
       "                                     purpose  \n",
       "99                                автомобиль  \n",
       "149                        операции с жильем  \n",
       "270                             ремонт жилью  \n",
       "578   строительство собственной недвижимости  \n",
       "1040                         свой автомобиль  \n",
       "1149                    покупка недвижимости  \n",
       "1175   получение дополнительного образования  \n",
       "1386                    сделка с автомобилем  \n",
       "1890                                   жилье  \n",
       "1898                   на покупку автомобиля  \n",
       "2082                операции с недвижимостью  \n",
       "2284                            недвижимость  \n",
       "2469                         сыграть свадьбу  \n",
       "2487                            недвижимость  \n",
       "2870            на покупку своего автомобиля  "
      ]
     },
     "execution_count": 17,
     "metadata": {},
     "output_type": "execute_result"
    }
   ],
   "source": [
    "data[data['dob_years']==0].head(15)"
   ]
  },
  {
   "cell_type": "markdown",
   "id": "e4d4138f",
   "metadata": {},
   "source": [
    "Суммарно 100 аномальных значений - менее 0,5%. При этом взаимосявязи между пропусками нет, они возникли в совершенно разных категориях заемщиков. Данное исследование не затрагивает возраст заемщиков, при этом информация в других столбцах может быть полезной, поэтому данные \"0\" можно оставить на месте, на исследование они не повлияют."
   ]
  },
  {
   "cell_type": "markdown",
   "id": "4bb21384",
   "metadata": {},
   "source": [
    "### education, education_id, family_status, family_status_id"
   ]
  },
  {
   "cell_type": "code",
   "execution_count": 18,
   "id": "b0440d99",
   "metadata": {},
   "outputs": [
    {
     "data": {
      "text/plain": [
       "среднее                13667\n",
       "высшее                  4697\n",
       "СРЕДНЕЕ                  766\n",
       "Среднее                  703\n",
       "неоконченное высшее      665\n",
       "ВЫСШЕЕ                   271\n",
       "Высшее                   268\n",
       "начальное                250\n",
       "Неоконченное высшее       47\n",
       "НЕОКОНЧЕННОЕ ВЫСШЕЕ       29\n",
       "НАЧАЛЬНОЕ                 17\n",
       "Начальное                 15\n",
       "ученая степень             4\n",
       "Ученая степень             1\n",
       "УЧЕНАЯ СТЕПЕНЬ             1\n",
       "Name: education, dtype: int64"
      ]
     },
     "execution_count": 18,
     "metadata": {},
     "output_type": "execute_result"
    }
   ],
   "source": [
    "data['education'].value_counts()"
   ]
  },
  {
   "cell_type": "code",
   "execution_count": 19,
   "id": "9cbd567b",
   "metadata": {},
   "outputs": [
    {
     "data": {
      "text/plain": [
       "1    15136\n",
       "0     5236\n",
       "2      741\n",
       "3      282\n",
       "4        6\n",
       "Name: education_id, dtype: int64"
      ]
     },
     "execution_count": 19,
     "metadata": {},
     "output_type": "execute_result"
    }
   ],
   "source": [
    "data['education_id'].value_counts()"
   ]
  },
  {
   "cell_type": "markdown",
   "id": "1aaef449",
   "metadata": {},
   "source": [
    "5 типов образования соответствуют 5 id, есть дубликаты, но аномалий нет"
   ]
  },
  {
   "cell_type": "code",
   "execution_count": 20,
   "id": "773b3b08",
   "metadata": {},
   "outputs": [
    {
     "data": {
      "text/plain": [
       "женат / замужем          12301\n",
       "гражданский брак          4160\n",
       "Не женат / не замужем     2799\n",
       "в разводе                 1189\n",
       "вдовец / вдова             952\n",
       "Name: family_status, dtype: int64"
      ]
     },
     "execution_count": 20,
     "metadata": {},
     "output_type": "execute_result"
    }
   ],
   "source": [
    "data['family_status'].value_counts()"
   ]
  },
  {
   "cell_type": "code",
   "execution_count": 21,
   "id": "22f3fd6e",
   "metadata": {},
   "outputs": [
    {
     "data": {
      "text/plain": [
       "0    12301\n",
       "1     4160\n",
       "4     2799\n",
       "3     1189\n",
       "2      952\n",
       "Name: family_status_id, dtype: int64"
      ]
     },
     "execution_count": 21,
     "metadata": {},
     "output_type": "execute_result"
    }
   ],
   "source": [
    "data['family_status_id'].value_counts()"
   ]
  },
  {
   "cell_type": "markdown",
   "id": "62b79e0a",
   "metadata": {},
   "source": [
    "5 типов статусов, 5 id, аномалий нет"
   ]
  },
  {
   "cell_type": "markdown",
   "id": "d65a7549",
   "metadata": {},
   "source": [
    "### gender - пол"
   ]
  },
  {
   "cell_type": "code",
   "execution_count": 22,
   "id": "d7c4bc71",
   "metadata": {},
   "outputs": [
    {
     "data": {
      "text/plain": [
       "F      14154\n",
       "M       7246\n",
       "XNA        1\n",
       "Name: gender, dtype: int64"
      ]
     },
     "execution_count": 22,
     "metadata": {},
     "output_type": "execute_result"
    }
   ],
   "source": [
    "data['gender'].value_counts()"
   ]
  },
  {
   "cell_type": "markdown",
   "id": "4ed46eac",
   "metadata": {},
   "source": [
    "Пол со значением \"XNA\" явная аномалия, посмотрим на строку, в которой она возникла."
   ]
  },
  {
   "cell_type": "code",
   "execution_count": 23,
   "id": "67272c2d",
   "metadata": {},
   "outputs": [
    {
     "data": {
      "text/html": [
       "<div>\n",
       "<style scoped>\n",
       "    .dataframe tbody tr th:only-of-type {\n",
       "        vertical-align: middle;\n",
       "    }\n",
       "\n",
       "    .dataframe tbody tr th {\n",
       "        vertical-align: top;\n",
       "    }\n",
       "\n",
       "    .dataframe thead th {\n",
       "        text-align: right;\n",
       "    }\n",
       "</style>\n",
       "<table border=\"1\" class=\"dataframe\">\n",
       "  <thead>\n",
       "    <tr style=\"text-align: right;\">\n",
       "      <th></th>\n",
       "      <th>children</th>\n",
       "      <th>dob_years</th>\n",
       "      <th>education</th>\n",
       "      <th>education_id</th>\n",
       "      <th>family_status</th>\n",
       "      <th>family_status_id</th>\n",
       "      <th>gender</th>\n",
       "      <th>income_type</th>\n",
       "      <th>debt</th>\n",
       "      <th>total_income</th>\n",
       "      <th>purpose</th>\n",
       "    </tr>\n",
       "  </thead>\n",
       "  <tbody>\n",
       "    <tr>\n",
       "      <th>10700</th>\n",
       "      <td>0</td>\n",
       "      <td>24</td>\n",
       "      <td>неоконченное высшее</td>\n",
       "      <td>2</td>\n",
       "      <td>гражданский брак</td>\n",
       "      <td>1</td>\n",
       "      <td>XNA</td>\n",
       "      <td>компаньон</td>\n",
       "      <td>0</td>\n",
       "      <td>203905.157261</td>\n",
       "      <td>покупка недвижимости</td>\n",
       "    </tr>\n",
       "  </tbody>\n",
       "</table>\n",
       "</div>"
      ],
      "text/plain": [
       "       children  dob_years            education  education_id  \\\n",
       "10700         0         24  неоконченное высшее             2   \n",
       "\n",
       "          family_status  family_status_id gender income_type  debt  \\\n",
       "10700  гражданский брак                 1    XNA   компаньон     0   \n",
       "\n",
       "        total_income               purpose  \n",
       "10700  203905.157261  покупка недвижимости  "
      ]
     },
     "execution_count": 23,
     "metadata": {},
     "output_type": "execute_result"
    }
   ],
   "source": [
    "data[data['gender']=='XNA']"
   ]
  },
  {
   "cell_type": "markdown",
   "id": "36414b80",
   "metadata": {},
   "source": [
    "В целом, по остальным данным невозможно определить какого пола был заемщик. Для исследования данная информация не важна, и не повлияет на выводы, но, чтобы привести пол к единому виду, можем заменить значение на F."
   ]
  },
  {
   "cell_type": "code",
   "execution_count": 24,
   "id": "39e30106",
   "metadata": {},
   "outputs": [
    {
     "data": {
      "text/plain": [
       "F    14155\n",
       "M     7246\n",
       "Name: gender, dtype: int64"
      ]
     },
     "execution_count": 24,
     "metadata": {},
     "output_type": "execute_result"
    }
   ],
   "source": [
    "data.loc[data['gender']=='XNA','gender'] = 'F' #замена значения и проверка\n",
    "data['gender'].value_counts()"
   ]
  },
  {
   "cell_type": "markdown",
   "id": "e69023da",
   "metadata": {},
   "source": [
    "### income_type - тип занятости, debt - была ли задолженность"
   ]
  },
  {
   "cell_type": "code",
   "execution_count": 25,
   "id": "e3fddd26",
   "metadata": {},
   "outputs": [
    {
     "data": {
      "text/plain": [
       "сотрудник          11050\n",
       "компаньон           5054\n",
       "пенсионер           3839\n",
       "госслужащий         1453\n",
       "безработный            2\n",
       "студент                1\n",
       "предприниматель        1\n",
       "в декрете              1\n",
       "Name: income_type, dtype: int64"
      ]
     },
     "execution_count": 25,
     "metadata": {},
     "output_type": "execute_result"
    }
   ],
   "source": [
    "data['income_type'].value_counts()"
   ]
  },
  {
   "cell_type": "code",
   "execution_count": 26,
   "id": "ac20f77f",
   "metadata": {},
   "outputs": [
    {
     "data": {
      "text/plain": [
       "0    19669\n",
       "1     1732\n",
       "Name: debt, dtype: int64"
      ]
     },
     "execution_count": 26,
     "metadata": {},
     "output_type": "execute_result"
    }
   ],
   "source": [
    "data['debt'].value_counts()"
   ]
  },
  {
   "cell_type": "markdown",
   "id": "ec6751a1",
   "metadata": {},
   "source": [
    "Аномалий в столбцах нет"
   ]
  },
  {
   "cell_type": "markdown",
   "id": "1376c386",
   "metadata": {},
   "source": [
    "### purpose - цель кредита"
   ]
  },
  {
   "cell_type": "code",
   "execution_count": 27,
   "id": "874425f1",
   "metadata": {},
   "outputs": [
    {
     "data": {
      "text/plain": [
       "свадьба                                   796\n",
       "на проведение свадьбы                     772\n",
       "сыграть свадьбу                           769\n",
       "операции с недвижимостью                  673\n",
       "покупка коммерческой недвижимости         661\n",
       "покупка жилья для сдачи                   651\n",
       "операции с жильем                         648\n",
       "операции с коммерческой недвижимостью     646\n",
       "жилье                                     642\n",
       "покупка жилья                             641\n",
       "покупка жилья для семьи                   640\n",
       "недвижимость                              632\n",
       "строительство собственной недвижимости    628\n",
       "операции со своей недвижимостью           626\n",
       "строительство жилой недвижимости          622\n",
       "строительство недвижимости                620\n",
       "покупка своего жилья                      619\n",
       "покупка недвижимости                      619\n",
       "ремонт жилью                              609\n",
       "покупка жилой недвижимости                602\n",
       "на покупку своего автомобиля              504\n",
       "заняться высшим образованием              496\n",
       "автомобиль                                492\n",
       "сделка с подержанным автомобилем          484\n",
       "автомобили                                476\n",
       "свой автомобиль                           475\n",
       "на покупку подержанного автомобиля        472\n",
       "на покупку автомобиля                     470\n",
       "приобретение автомобиля                   460\n",
       "дополнительное образование                457\n",
       "сделка с автомобилем                      455\n",
       "высшее образование                        447\n",
       "получение дополнительного образования     445\n",
       "образование                               442\n",
       "получение образования                     441\n",
       "профильное образование                    432\n",
       "получение высшего образования             425\n",
       "заняться образованием                     412\n",
       "Name: purpose, dtype: int64"
      ]
     },
     "execution_count": 27,
     "metadata": {},
     "output_type": "execute_result"
    }
   ],
   "source": [
    "data['purpose'].value_counts()"
   ]
  },
  {
   "cell_type": "markdown",
   "id": "a6db6f16",
   "metadata": {},
   "source": [
    "Много разных словоформ-дубликатов, но аномалий нет. Данный столбец будем категоризировать с созданием нового для исследования."
   ]
  },
  {
   "cell_type": "markdown",
   "id": "055778d0",
   "metadata": {},
   "source": [
    "## Изменение типов данных."
   ]
  },
  {
   "cell_type": "markdown",
   "id": "85133224",
   "metadata": {},
   "source": [
    "В столбце `total_income` приведем данные к типу int для удобства."
   ]
  },
  {
   "cell_type": "code",
   "execution_count": 28,
   "id": "19ac48f3",
   "metadata": {},
   "outputs": [
    {
     "name": "stdout",
     "output_type": "stream",
     "text": [
      "<class 'pandas.core.frame.DataFrame'>\n",
      "Int64Index: 21401 entries, 0 to 21523\n",
      "Data columns (total 11 columns):\n",
      " #   Column            Non-Null Count  Dtype \n",
      "---  ------            --------------  ----- \n",
      " 0   children          21401 non-null  int64 \n",
      " 1   dob_years         21401 non-null  int64 \n",
      " 2   education         21401 non-null  object\n",
      " 3   education_id      21401 non-null  int64 \n",
      " 4   family_status     21401 non-null  object\n",
      " 5   family_status_id  21401 non-null  int64 \n",
      " 6   gender            21401 non-null  object\n",
      " 7   income_type       21401 non-null  object\n",
      " 8   debt              21401 non-null  int64 \n",
      " 9   total_income      21401 non-null  int32 \n",
      " 10  purpose           21401 non-null  object\n",
      "dtypes: int32(1), int64(5), object(5)\n",
      "memory usage: 1.9+ MB\n"
     ]
    },
    {
     "data": {
      "text/html": [
       "<div>\n",
       "<style scoped>\n",
       "    .dataframe tbody tr th:only-of-type {\n",
       "        vertical-align: middle;\n",
       "    }\n",
       "\n",
       "    .dataframe tbody tr th {\n",
       "        vertical-align: top;\n",
       "    }\n",
       "\n",
       "    .dataframe thead th {\n",
       "        text-align: right;\n",
       "    }\n",
       "</style>\n",
       "<table border=\"1\" class=\"dataframe\">\n",
       "  <thead>\n",
       "    <tr style=\"text-align: right;\">\n",
       "      <th></th>\n",
       "      <th>children</th>\n",
       "      <th>dob_years</th>\n",
       "      <th>education</th>\n",
       "      <th>education_id</th>\n",
       "      <th>family_status</th>\n",
       "      <th>family_status_id</th>\n",
       "      <th>gender</th>\n",
       "      <th>income_type</th>\n",
       "      <th>debt</th>\n",
       "      <th>total_income</th>\n",
       "      <th>purpose</th>\n",
       "    </tr>\n",
       "  </thead>\n",
       "  <tbody>\n",
       "    <tr>\n",
       "      <th>0</th>\n",
       "      <td>1</td>\n",
       "      <td>42</td>\n",
       "      <td>высшее</td>\n",
       "      <td>0</td>\n",
       "      <td>женат / замужем</td>\n",
       "      <td>0</td>\n",
       "      <td>F</td>\n",
       "      <td>сотрудник</td>\n",
       "      <td>0</td>\n",
       "      <td>253875</td>\n",
       "      <td>покупка жилья</td>\n",
       "    </tr>\n",
       "    <tr>\n",
       "      <th>1</th>\n",
       "      <td>1</td>\n",
       "      <td>36</td>\n",
       "      <td>среднее</td>\n",
       "      <td>1</td>\n",
       "      <td>женат / замужем</td>\n",
       "      <td>0</td>\n",
       "      <td>F</td>\n",
       "      <td>сотрудник</td>\n",
       "      <td>0</td>\n",
       "      <td>112080</td>\n",
       "      <td>приобретение автомобиля</td>\n",
       "    </tr>\n",
       "    <tr>\n",
       "      <th>2</th>\n",
       "      <td>0</td>\n",
       "      <td>33</td>\n",
       "      <td>Среднее</td>\n",
       "      <td>1</td>\n",
       "      <td>женат / замужем</td>\n",
       "      <td>0</td>\n",
       "      <td>M</td>\n",
       "      <td>сотрудник</td>\n",
       "      <td>0</td>\n",
       "      <td>145885</td>\n",
       "      <td>покупка жилья</td>\n",
       "    </tr>\n",
       "    <tr>\n",
       "      <th>3</th>\n",
       "      <td>3</td>\n",
       "      <td>32</td>\n",
       "      <td>среднее</td>\n",
       "      <td>1</td>\n",
       "      <td>женат / замужем</td>\n",
       "      <td>0</td>\n",
       "      <td>M</td>\n",
       "      <td>сотрудник</td>\n",
       "      <td>0</td>\n",
       "      <td>267628</td>\n",
       "      <td>дополнительное образование</td>\n",
       "    </tr>\n",
       "    <tr>\n",
       "      <th>4</th>\n",
       "      <td>0</td>\n",
       "      <td>53</td>\n",
       "      <td>среднее</td>\n",
       "      <td>1</td>\n",
       "      <td>гражданский брак</td>\n",
       "      <td>1</td>\n",
       "      <td>F</td>\n",
       "      <td>пенсионер</td>\n",
       "      <td>0</td>\n",
       "      <td>158616</td>\n",
       "      <td>сыграть свадьбу</td>\n",
       "    </tr>\n",
       "  </tbody>\n",
       "</table>\n",
       "</div>"
      ],
      "text/plain": [
       "   children  dob_years education  education_id     family_status  \\\n",
       "0         1         42    высшее             0   женат / замужем   \n",
       "1         1         36   среднее             1   женат / замужем   \n",
       "2         0         33   Среднее             1   женат / замужем   \n",
       "3         3         32   среднее             1   женат / замужем   \n",
       "4         0         53   среднее             1  гражданский брак   \n",
       "\n",
       "   family_status_id gender income_type  debt  total_income  \\\n",
       "0                 0      F   сотрудник     0        253875   \n",
       "1                 0      F   сотрудник     0        112080   \n",
       "2                 0      M   сотрудник     0        145885   \n",
       "3                 0      M   сотрудник     0        267628   \n",
       "4                 1      F   пенсионер     0        158616   \n",
       "\n",
       "                      purpose  \n",
       "0               покупка жилья  \n",
       "1     приобретение автомобиля  \n",
       "2               покупка жилья  \n",
       "3  дополнительное образование  \n",
       "4             сыграть свадьбу  "
      ]
     },
     "execution_count": 28,
     "metadata": {},
     "output_type": "execute_result"
    }
   ],
   "source": [
    "data['total_income'] = data['total_income'].astype(int)\n",
    "data.info()\n",
    "data.head(5)"
   ]
  },
  {
   "cell_type": "markdown",
   "id": "8e787982",
   "metadata": {},
   "source": [
    "## Удаление дубликатов."
   ]
  },
  {
   "cell_type": "markdown",
   "id": "90dca259",
   "metadata": {},
   "source": [
    "Просмотрим значения в столбце `education`, скорее всего при заполнении данных имел место быть просто человеческий фактор, поэтому они имеют всевозможный разный вид написания и являются неявнями дубликатами. Приведем их к единому регистру(нижнему)."
   ]
  },
  {
   "cell_type": "code",
   "execution_count": 29,
   "id": "656963dd",
   "metadata": {},
   "outputs": [
    {
     "data": {
      "text/plain": [
       "среднее                13667\n",
       "высшее                  4697\n",
       "СРЕДНЕЕ                  766\n",
       "Среднее                  703\n",
       "неоконченное высшее      665\n",
       "ВЫСШЕЕ                   271\n",
       "Высшее                   268\n",
       "начальное                250\n",
       "Неоконченное высшее       47\n",
       "НЕОКОНЧЕННОЕ ВЫСШЕЕ       29\n",
       "НАЧАЛЬНОЕ                 17\n",
       "Начальное                 15\n",
       "ученая степень             4\n",
       "Ученая степень             1\n",
       "УЧЕНАЯ СТЕПЕНЬ             1\n",
       "Name: education, dtype: int64"
      ]
     },
     "execution_count": 29,
     "metadata": {},
     "output_type": "execute_result"
    }
   ],
   "source": [
    "data['education'].value_counts()"
   ]
  },
  {
   "cell_type": "code",
   "execution_count": 30,
   "id": "3450320f",
   "metadata": {},
   "outputs": [
    {
     "data": {
      "text/plain": [
       "среднее                15136\n",
       "высшее                  5236\n",
       "неоконченное высшее      741\n",
       "начальное                282\n",
       "ученая степень             6\n",
       "Name: education, dtype: int64"
      ]
     },
     "execution_count": 30,
     "metadata": {},
     "output_type": "execute_result"
    }
   ],
   "source": [
    "data['education'] = data['education'].str.lower()\n",
    "data['education'].value_counts()"
   ]
  },
  {
   "cell_type": "markdown",
   "id": "6cc07e84",
   "metadata": {},
   "source": [
    "Остальные столбцы были просмотрены в ходе поиска аномальных значений, в них неявных дубликатов больше нет."
   ]
  },
  {
   "cell_type": "markdown",
   "id": "ffba2a65",
   "metadata": {},
   "source": [
    "Теперь проверим таблицу на наличие полных дубликатов строк и при необходимости удалим их."
   ]
  },
  {
   "cell_type": "code",
   "execution_count": 31,
   "id": "f21f8729",
   "metadata": {},
   "outputs": [
    {
     "data": {
      "text/plain": [
       "71"
      ]
     },
     "execution_count": 31,
     "metadata": {},
     "output_type": "execute_result"
    }
   ],
   "source": [
    "data.duplicated().sum()"
   ]
  },
  {
   "cell_type": "markdown",
   "id": "b034bacc",
   "metadata": {},
   "source": [
    "Был найден 71 дубликат, удаляем их и проверяем."
   ]
  },
  {
   "cell_type": "code",
   "execution_count": 32,
   "id": "7952625c",
   "metadata": {},
   "outputs": [
    {
     "data": {
      "text/plain": [
       "0"
      ]
     },
     "execution_count": 32,
     "metadata": {},
     "output_type": "execute_result"
    }
   ],
   "source": [
    "data = data.drop_duplicates().reset_index(drop=True)\n",
    "data.duplicated().sum()"
   ]
  },
  {
   "cell_type": "markdown",
   "id": "ebff3adb",
   "metadata": {},
   "source": [
    "## Формирование дополнительных датафреймов словарей, декомпозиция исходного датафрейма."
   ]
  },
  {
   "cell_type": "markdown",
   "id": "2bc0853c",
   "metadata": {},
   "source": [
    "Чтобы упростить работу с таблицей и ее визуализацию, создадим отдельные \"словари\", в которых:\n",
    "* каждому уникальному значению из `education` соответствует уникальное значение `education_id` — в первом;\n",
    "* каждому уникальному значению из `family_status` соответствует уникальное значение `family_status_id` — во втором."
   ]
  },
  {
   "cell_type": "code",
   "execution_count": 33,
   "id": "51d0bd83",
   "metadata": {},
   "outputs": [
    {
     "data": {
      "text/html": [
       "<div>\n",
       "<style scoped>\n",
       "    .dataframe tbody tr th:only-of-type {\n",
       "        vertical-align: middle;\n",
       "    }\n",
       "\n",
       "    .dataframe tbody tr th {\n",
       "        vertical-align: top;\n",
       "    }\n",
       "\n",
       "    .dataframe thead th {\n",
       "        text-align: right;\n",
       "    }\n",
       "</style>\n",
       "<table border=\"1\" class=\"dataframe\">\n",
       "  <thead>\n",
       "    <tr style=\"text-align: right;\">\n",
       "      <th></th>\n",
       "      <th>education</th>\n",
       "      <th>education_id</th>\n",
       "    </tr>\n",
       "  </thead>\n",
       "  <tbody>\n",
       "    <tr>\n",
       "      <th>0</th>\n",
       "      <td>высшее</td>\n",
       "      <td>0</td>\n",
       "    </tr>\n",
       "    <tr>\n",
       "      <th>1</th>\n",
       "      <td>среднее</td>\n",
       "      <td>1</td>\n",
       "    </tr>\n",
       "    <tr>\n",
       "      <th>2</th>\n",
       "      <td>среднее</td>\n",
       "      <td>1</td>\n",
       "    </tr>\n",
       "    <tr>\n",
       "      <th>3</th>\n",
       "      <td>среднее</td>\n",
       "      <td>1</td>\n",
       "    </tr>\n",
       "    <tr>\n",
       "      <th>4</th>\n",
       "      <td>среднее</td>\n",
       "      <td>1</td>\n",
       "    </tr>\n",
       "    <tr>\n",
       "      <th>5</th>\n",
       "      <td>высшее</td>\n",
       "      <td>0</td>\n",
       "    </tr>\n",
       "    <tr>\n",
       "      <th>6</th>\n",
       "      <td>высшее</td>\n",
       "      <td>0</td>\n",
       "    </tr>\n",
       "    <tr>\n",
       "      <th>7</th>\n",
       "      <td>среднее</td>\n",
       "      <td>1</td>\n",
       "    </tr>\n",
       "    <tr>\n",
       "      <th>8</th>\n",
       "      <td>высшее</td>\n",
       "      <td>0</td>\n",
       "    </tr>\n",
       "    <tr>\n",
       "      <th>9</th>\n",
       "      <td>среднее</td>\n",
       "      <td>1</td>\n",
       "    </tr>\n",
       "  </tbody>\n",
       "</table>\n",
       "</div>"
      ],
      "text/plain": [
       "  education  education_id\n",
       "0    высшее             0\n",
       "1   среднее             1\n",
       "2   среднее             1\n",
       "3   среднее             1\n",
       "4   среднее             1\n",
       "5    высшее             0\n",
       "6    высшее             0\n",
       "7   среднее             1\n",
       "8    высшее             0\n",
       "9   среднее             1"
      ]
     },
     "execution_count": 33,
     "metadata": {},
     "output_type": "execute_result"
    }
   ],
   "source": [
    "education_dict = data[['education', 'education_id']] #создаем \"словарь\"\n",
    "education_dict.head(10)"
   ]
  },
  {
   "cell_type": "code",
   "execution_count": 34,
   "id": "833b9164",
   "metadata": {},
   "outputs": [
    {
     "data": {
      "text/html": [
       "<div>\n",
       "<style scoped>\n",
       "    .dataframe tbody tr th:only-of-type {\n",
       "        vertical-align: middle;\n",
       "    }\n",
       "\n",
       "    .dataframe tbody tr th {\n",
       "        vertical-align: top;\n",
       "    }\n",
       "\n",
       "    .dataframe thead th {\n",
       "        text-align: right;\n",
       "    }\n",
       "</style>\n",
       "<table border=\"1\" class=\"dataframe\">\n",
       "  <thead>\n",
       "    <tr style=\"text-align: right;\">\n",
       "      <th></th>\n",
       "      <th>education</th>\n",
       "      <th>education_id</th>\n",
       "    </tr>\n",
       "  </thead>\n",
       "  <tbody>\n",
       "    <tr>\n",
       "      <th>0</th>\n",
       "      <td>высшее</td>\n",
       "      <td>0</td>\n",
       "    </tr>\n",
       "    <tr>\n",
       "      <th>1</th>\n",
       "      <td>среднее</td>\n",
       "      <td>1</td>\n",
       "    </tr>\n",
       "    <tr>\n",
       "      <th>2</th>\n",
       "      <td>неоконченное высшее</td>\n",
       "      <td>2</td>\n",
       "    </tr>\n",
       "    <tr>\n",
       "      <th>3</th>\n",
       "      <td>начальное</td>\n",
       "      <td>3</td>\n",
       "    </tr>\n",
       "    <tr>\n",
       "      <th>4</th>\n",
       "      <td>ученая степень</td>\n",
       "      <td>4</td>\n",
       "    </tr>\n",
       "  </tbody>\n",
       "</table>\n",
       "</div>"
      ],
      "text/plain": [
       "             education  education_id\n",
       "0               высшее             0\n",
       "1              среднее             1\n",
       "2  неоконченное высшее             2\n",
       "3            начальное             3\n",
       "4       ученая степень             4"
      ]
     },
     "execution_count": 34,
     "metadata": {},
     "output_type": "execute_result"
    }
   ],
   "source": [
    "education_dict = education_dict.drop_duplicates().reset_index(drop=True)  #удаляем из него дубликаты\n",
    "education_dict.head()"
   ]
  },
  {
   "cell_type": "code",
   "execution_count": 35,
   "id": "34075a43",
   "metadata": {},
   "outputs": [
    {
     "data": {
      "text/html": [
       "<div>\n",
       "<style scoped>\n",
       "    .dataframe tbody tr th:only-of-type {\n",
       "        vertical-align: middle;\n",
       "    }\n",
       "\n",
       "    .dataframe tbody tr th {\n",
       "        vertical-align: top;\n",
       "    }\n",
       "\n",
       "    .dataframe thead th {\n",
       "        text-align: right;\n",
       "    }\n",
       "</style>\n",
       "<table border=\"1\" class=\"dataframe\">\n",
       "  <thead>\n",
       "    <tr style=\"text-align: right;\">\n",
       "      <th></th>\n",
       "      <th>family_status</th>\n",
       "      <th>family_status_id</th>\n",
       "    </tr>\n",
       "  </thead>\n",
       "  <tbody>\n",
       "    <tr>\n",
       "      <th>0</th>\n",
       "      <td>женат / замужем</td>\n",
       "      <td>0</td>\n",
       "    </tr>\n",
       "    <tr>\n",
       "      <th>1</th>\n",
       "      <td>женат / замужем</td>\n",
       "      <td>0</td>\n",
       "    </tr>\n",
       "    <tr>\n",
       "      <th>2</th>\n",
       "      <td>женат / замужем</td>\n",
       "      <td>0</td>\n",
       "    </tr>\n",
       "    <tr>\n",
       "      <th>3</th>\n",
       "      <td>женат / замужем</td>\n",
       "      <td>0</td>\n",
       "    </tr>\n",
       "    <tr>\n",
       "      <th>4</th>\n",
       "      <td>гражданский брак</td>\n",
       "      <td>1</td>\n",
       "    </tr>\n",
       "    <tr>\n",
       "      <th>5</th>\n",
       "      <td>гражданский брак</td>\n",
       "      <td>1</td>\n",
       "    </tr>\n",
       "    <tr>\n",
       "      <th>6</th>\n",
       "      <td>женат / замужем</td>\n",
       "      <td>0</td>\n",
       "    </tr>\n",
       "    <tr>\n",
       "      <th>7</th>\n",
       "      <td>женат / замужем</td>\n",
       "      <td>0</td>\n",
       "    </tr>\n",
       "    <tr>\n",
       "      <th>8</th>\n",
       "      <td>гражданский брак</td>\n",
       "      <td>1</td>\n",
       "    </tr>\n",
       "    <tr>\n",
       "      <th>9</th>\n",
       "      <td>женат / замужем</td>\n",
       "      <td>0</td>\n",
       "    </tr>\n",
       "  </tbody>\n",
       "</table>\n",
       "</div>"
      ],
      "text/plain": [
       "      family_status  family_status_id\n",
       "0   женат / замужем                 0\n",
       "1   женат / замужем                 0\n",
       "2   женат / замужем                 0\n",
       "3   женат / замужем                 0\n",
       "4  гражданский брак                 1\n",
       "5  гражданский брак                 1\n",
       "6   женат / замужем                 0\n",
       "7   женат / замужем                 0\n",
       "8  гражданский брак                 1\n",
       "9   женат / замужем                 0"
      ]
     },
     "execution_count": 35,
     "metadata": {},
     "output_type": "execute_result"
    }
   ],
   "source": [
    "family_status_dict = data[['family_status', 'family_status_id']]\n",
    "family_status_dict.head(10)                          "
   ]
  },
  {
   "cell_type": "code",
   "execution_count": 36,
   "id": "088145ec",
   "metadata": {},
   "outputs": [
    {
     "data": {
      "text/html": [
       "<div>\n",
       "<style scoped>\n",
       "    .dataframe tbody tr th:only-of-type {\n",
       "        vertical-align: middle;\n",
       "    }\n",
       "\n",
       "    .dataframe tbody tr th {\n",
       "        vertical-align: top;\n",
       "    }\n",
       "\n",
       "    .dataframe thead th {\n",
       "        text-align: right;\n",
       "    }\n",
       "</style>\n",
       "<table border=\"1\" class=\"dataframe\">\n",
       "  <thead>\n",
       "    <tr style=\"text-align: right;\">\n",
       "      <th></th>\n",
       "      <th>family_status</th>\n",
       "      <th>family_status_id</th>\n",
       "    </tr>\n",
       "  </thead>\n",
       "  <tbody>\n",
       "    <tr>\n",
       "      <th>0</th>\n",
       "      <td>женат / замужем</td>\n",
       "      <td>0</td>\n",
       "    </tr>\n",
       "    <tr>\n",
       "      <th>1</th>\n",
       "      <td>гражданский брак</td>\n",
       "      <td>1</td>\n",
       "    </tr>\n",
       "    <tr>\n",
       "      <th>2</th>\n",
       "      <td>вдовец / вдова</td>\n",
       "      <td>2</td>\n",
       "    </tr>\n",
       "    <tr>\n",
       "      <th>3</th>\n",
       "      <td>в разводе</td>\n",
       "      <td>3</td>\n",
       "    </tr>\n",
       "    <tr>\n",
       "      <th>4</th>\n",
       "      <td>Не женат / не замужем</td>\n",
       "      <td>4</td>\n",
       "    </tr>\n",
       "  </tbody>\n",
       "</table>\n",
       "</div>"
      ],
      "text/plain": [
       "           family_status  family_status_id\n",
       "0        женат / замужем                 0\n",
       "1       гражданский брак                 1\n",
       "2         вдовец / вдова                 2\n",
       "3              в разводе                 3\n",
       "4  Не женат / не замужем                 4"
      ]
     },
     "execution_count": 36,
     "metadata": {},
     "output_type": "execute_result"
    }
   ],
   "source": [
    "family_status_dict = family_status_dict.drop_duplicates().reset_index(drop=True)  #удаляем из него дубликаты\n",
    "family_status_dict.head()"
   ]
  },
  {
   "cell_type": "markdown",
   "id": "be02b58e",
   "metadata": {},
   "source": [
    "Теперь удалим из исходного датафрейма столбцы `education` и `family_status`, оставив только их идентификаторы: `education_id` и `family_status_id`."
   ]
  },
  {
   "cell_type": "code",
   "execution_count": 37,
   "id": "27980269",
   "metadata": {},
   "outputs": [
    {
     "name": "stdout",
     "output_type": "stream",
     "text": [
      "<class 'pandas.core.frame.DataFrame'>\n",
      "RangeIndex: 21330 entries, 0 to 21329\n",
      "Data columns (total 9 columns):\n",
      " #   Column            Non-Null Count  Dtype \n",
      "---  ------            --------------  ----- \n",
      " 0   children          21330 non-null  int64 \n",
      " 1   dob_years         21330 non-null  int64 \n",
      " 2   education_id      21330 non-null  int64 \n",
      " 3   family_status_id  21330 non-null  int64 \n",
      " 4   gender            21330 non-null  object\n",
      " 5   income_type       21330 non-null  object\n",
      " 6   debt              21330 non-null  int64 \n",
      " 7   total_income      21330 non-null  int32 \n",
      " 8   purpose           21330 non-null  object\n",
      "dtypes: int32(1), int64(5), object(3)\n",
      "memory usage: 1.4+ MB\n"
     ]
    },
    {
     "data": {
      "text/html": [
       "<div>\n",
       "<style scoped>\n",
       "    .dataframe tbody tr th:only-of-type {\n",
       "        vertical-align: middle;\n",
       "    }\n",
       "\n",
       "    .dataframe tbody tr th {\n",
       "        vertical-align: top;\n",
       "    }\n",
       "\n",
       "    .dataframe thead th {\n",
       "        text-align: right;\n",
       "    }\n",
       "</style>\n",
       "<table border=\"1\" class=\"dataframe\">\n",
       "  <thead>\n",
       "    <tr style=\"text-align: right;\">\n",
       "      <th></th>\n",
       "      <th>children</th>\n",
       "      <th>dob_years</th>\n",
       "      <th>education_id</th>\n",
       "      <th>family_status_id</th>\n",
       "      <th>gender</th>\n",
       "      <th>income_type</th>\n",
       "      <th>debt</th>\n",
       "      <th>total_income</th>\n",
       "      <th>purpose</th>\n",
       "    </tr>\n",
       "  </thead>\n",
       "  <tbody>\n",
       "    <tr>\n",
       "      <th>0</th>\n",
       "      <td>1</td>\n",
       "      <td>42</td>\n",
       "      <td>0</td>\n",
       "      <td>0</td>\n",
       "      <td>F</td>\n",
       "      <td>сотрудник</td>\n",
       "      <td>0</td>\n",
       "      <td>253875</td>\n",
       "      <td>покупка жилья</td>\n",
       "    </tr>\n",
       "    <tr>\n",
       "      <th>1</th>\n",
       "      <td>1</td>\n",
       "      <td>36</td>\n",
       "      <td>1</td>\n",
       "      <td>0</td>\n",
       "      <td>F</td>\n",
       "      <td>сотрудник</td>\n",
       "      <td>0</td>\n",
       "      <td>112080</td>\n",
       "      <td>приобретение автомобиля</td>\n",
       "    </tr>\n",
       "    <tr>\n",
       "      <th>2</th>\n",
       "      <td>0</td>\n",
       "      <td>33</td>\n",
       "      <td>1</td>\n",
       "      <td>0</td>\n",
       "      <td>M</td>\n",
       "      <td>сотрудник</td>\n",
       "      <td>0</td>\n",
       "      <td>145885</td>\n",
       "      <td>покупка жилья</td>\n",
       "    </tr>\n",
       "    <tr>\n",
       "      <th>3</th>\n",
       "      <td>3</td>\n",
       "      <td>32</td>\n",
       "      <td>1</td>\n",
       "      <td>0</td>\n",
       "      <td>M</td>\n",
       "      <td>сотрудник</td>\n",
       "      <td>0</td>\n",
       "      <td>267628</td>\n",
       "      <td>дополнительное образование</td>\n",
       "    </tr>\n",
       "    <tr>\n",
       "      <th>4</th>\n",
       "      <td>0</td>\n",
       "      <td>53</td>\n",
       "      <td>1</td>\n",
       "      <td>1</td>\n",
       "      <td>F</td>\n",
       "      <td>пенсионер</td>\n",
       "      <td>0</td>\n",
       "      <td>158616</td>\n",
       "      <td>сыграть свадьбу</td>\n",
       "    </tr>\n",
       "  </tbody>\n",
       "</table>\n",
       "</div>"
      ],
      "text/plain": [
       "   children  dob_years  education_id  family_status_id gender income_type  \\\n",
       "0         1         42             0                 0      F   сотрудник   \n",
       "1         1         36             1                 0      F   сотрудник   \n",
       "2         0         33             1                 0      M   сотрудник   \n",
       "3         3         32             1                 0      M   сотрудник   \n",
       "4         0         53             1                 1      F   пенсионер   \n",
       "\n",
       "   debt  total_income                     purpose  \n",
       "0     0        253875               покупка жилья  \n",
       "1     0        112080     приобретение автомобиля  \n",
       "2     0        145885               покупка жилья  \n",
       "3     0        267628  дополнительное образование  \n",
       "4     0        158616             сыграть свадьбу  "
      ]
     },
     "execution_count": 37,
     "metadata": {},
     "output_type": "execute_result"
    }
   ],
   "source": [
    "data = data.drop(columns = ['education', 'family_status']) #удаление столбцов и проверка\n",
    "data.info()\n",
    "data.head()"
   ]
  },
  {
   "cell_type": "markdown",
   "id": "020b8069",
   "metadata": {},
   "source": [
    "## Категоризация дохода."
   ]
  },
  {
   "cell_type": "markdown",
   "id": "1fd67dd4",
   "metadata": {},
   "source": [
    "На основании диапазонов, указанных ниже, создадим столбец `total_income_category` с категориями:\n",
    "* 0–30000 — 'E';\n",
    "* 30001–50000 — 'D';\n",
    "* 50001–200000 — 'C';\n",
    "* 200001–1000000 — 'B';\n",
    "* 100001 и выше — 'A'."
   ]
  },
  {
   "cell_type": "code",
   "execution_count": 38,
   "id": "45e8ea11",
   "metadata": {},
   "outputs": [],
   "source": [
    "def income_category(income): #функция для определения категории дохода\n",
    "    if 0 <= income <= 30000:\n",
    "        return 'E'\n",
    "    if 30001 <= income <= 50000:\n",
    "        return 'D'\n",
    "    if 50001 <= income <= 200000:\n",
    "        return 'C'\n",
    "    if 200001 <= income <= 1000000:\n",
    "        return 'B'\n",
    "    if income >= 1000001:\n",
    "        return 'A'"
   ]
  },
  {
   "cell_type": "code",
   "execution_count": 39,
   "id": "93c53981",
   "metadata": {},
   "outputs": [
    {
     "data": {
      "text/plain": [
       "'A'"
      ]
     },
     "execution_count": 39,
     "metadata": {},
     "output_type": "execute_result"
    }
   ],
   "source": [
    "income_category(1000005) #проверка"
   ]
  },
  {
   "cell_type": "code",
   "execution_count": 40,
   "id": "95cb985d",
   "metadata": {},
   "outputs": [
    {
     "data": {
      "text/html": [
       "<div>\n",
       "<style scoped>\n",
       "    .dataframe tbody tr th:only-of-type {\n",
       "        vertical-align: middle;\n",
       "    }\n",
       "\n",
       "    .dataframe tbody tr th {\n",
       "        vertical-align: top;\n",
       "    }\n",
       "\n",
       "    .dataframe thead th {\n",
       "        text-align: right;\n",
       "    }\n",
       "</style>\n",
       "<table border=\"1\" class=\"dataframe\">\n",
       "  <thead>\n",
       "    <tr style=\"text-align: right;\">\n",
       "      <th></th>\n",
       "      <th>children</th>\n",
       "      <th>dob_years</th>\n",
       "      <th>education_id</th>\n",
       "      <th>family_status_id</th>\n",
       "      <th>gender</th>\n",
       "      <th>income_type</th>\n",
       "      <th>debt</th>\n",
       "      <th>total_income</th>\n",
       "      <th>purpose</th>\n",
       "      <th>income_category</th>\n",
       "    </tr>\n",
       "  </thead>\n",
       "  <tbody>\n",
       "    <tr>\n",
       "      <th>21320</th>\n",
       "      <td>1</td>\n",
       "      <td>28</td>\n",
       "      <td>1</td>\n",
       "      <td>0</td>\n",
       "      <td>F</td>\n",
       "      <td>сотрудник</td>\n",
       "      <td>1</td>\n",
       "      <td>109486</td>\n",
       "      <td>заняться образованием</td>\n",
       "      <td>C</td>\n",
       "    </tr>\n",
       "    <tr>\n",
       "      <th>21321</th>\n",
       "      <td>0</td>\n",
       "      <td>42</td>\n",
       "      <td>0</td>\n",
       "      <td>0</td>\n",
       "      <td>F</td>\n",
       "      <td>компаньон</td>\n",
       "      <td>0</td>\n",
       "      <td>322807</td>\n",
       "      <td>покупка своего жилья</td>\n",
       "      <td>B</td>\n",
       "    </tr>\n",
       "    <tr>\n",
       "      <th>21322</th>\n",
       "      <td>0</td>\n",
       "      <td>42</td>\n",
       "      <td>0</td>\n",
       "      <td>1</td>\n",
       "      <td>F</td>\n",
       "      <td>компаньон</td>\n",
       "      <td>0</td>\n",
       "      <td>178059</td>\n",
       "      <td>на покупку своего автомобиля</td>\n",
       "      <td>C</td>\n",
       "    </tr>\n",
       "    <tr>\n",
       "      <th>21323</th>\n",
       "      <td>0</td>\n",
       "      <td>59</td>\n",
       "      <td>1</td>\n",
       "      <td>0</td>\n",
       "      <td>F</td>\n",
       "      <td>пенсионер</td>\n",
       "      <td>0</td>\n",
       "      <td>153864</td>\n",
       "      <td>сделка с автомобилем</td>\n",
       "      <td>C</td>\n",
       "    </tr>\n",
       "    <tr>\n",
       "      <th>21324</th>\n",
       "      <td>1</td>\n",
       "      <td>37</td>\n",
       "      <td>4</td>\n",
       "      <td>3</td>\n",
       "      <td>M</td>\n",
       "      <td>сотрудник</td>\n",
       "      <td>0</td>\n",
       "      <td>115949</td>\n",
       "      <td>покупка коммерческой недвижимости</td>\n",
       "      <td>C</td>\n",
       "    </tr>\n",
       "    <tr>\n",
       "      <th>21325</th>\n",
       "      <td>1</td>\n",
       "      <td>43</td>\n",
       "      <td>1</td>\n",
       "      <td>1</td>\n",
       "      <td>F</td>\n",
       "      <td>компаньон</td>\n",
       "      <td>0</td>\n",
       "      <td>224791</td>\n",
       "      <td>операции с жильем</td>\n",
       "      <td>B</td>\n",
       "    </tr>\n",
       "    <tr>\n",
       "      <th>21326</th>\n",
       "      <td>0</td>\n",
       "      <td>67</td>\n",
       "      <td>1</td>\n",
       "      <td>0</td>\n",
       "      <td>F</td>\n",
       "      <td>пенсионер</td>\n",
       "      <td>0</td>\n",
       "      <td>155999</td>\n",
       "      <td>сделка с автомобилем</td>\n",
       "      <td>C</td>\n",
       "    </tr>\n",
       "    <tr>\n",
       "      <th>21327</th>\n",
       "      <td>1</td>\n",
       "      <td>38</td>\n",
       "      <td>1</td>\n",
       "      <td>1</td>\n",
       "      <td>M</td>\n",
       "      <td>сотрудник</td>\n",
       "      <td>1</td>\n",
       "      <td>89672</td>\n",
       "      <td>недвижимость</td>\n",
       "      <td>C</td>\n",
       "    </tr>\n",
       "    <tr>\n",
       "      <th>21328</th>\n",
       "      <td>3</td>\n",
       "      <td>38</td>\n",
       "      <td>1</td>\n",
       "      <td>0</td>\n",
       "      <td>M</td>\n",
       "      <td>сотрудник</td>\n",
       "      <td>1</td>\n",
       "      <td>244093</td>\n",
       "      <td>на покупку своего автомобиля</td>\n",
       "      <td>B</td>\n",
       "    </tr>\n",
       "    <tr>\n",
       "      <th>21329</th>\n",
       "      <td>2</td>\n",
       "      <td>40</td>\n",
       "      <td>1</td>\n",
       "      <td>0</td>\n",
       "      <td>F</td>\n",
       "      <td>сотрудник</td>\n",
       "      <td>0</td>\n",
       "      <td>82047</td>\n",
       "      <td>на покупку автомобиля</td>\n",
       "      <td>C</td>\n",
       "    </tr>\n",
       "  </tbody>\n",
       "</table>\n",
       "</div>"
      ],
      "text/plain": [
       "       children  dob_years  education_id  family_status_id gender income_type  \\\n",
       "21320         1         28             1                 0      F   сотрудник   \n",
       "21321         0         42             0                 0      F   компаньон   \n",
       "21322         0         42             0                 1      F   компаньон   \n",
       "21323         0         59             1                 0      F   пенсионер   \n",
       "21324         1         37             4                 3      M   сотрудник   \n",
       "21325         1         43             1                 1      F   компаньон   \n",
       "21326         0         67             1                 0      F   пенсионер   \n",
       "21327         1         38             1                 1      M   сотрудник   \n",
       "21328         3         38             1                 0      M   сотрудник   \n",
       "21329         2         40             1                 0      F   сотрудник   \n",
       "\n",
       "       debt  total_income                            purpose income_category  \n",
       "21320     1        109486              заняться образованием               C  \n",
       "21321     0        322807               покупка своего жилья               B  \n",
       "21322     0        178059       на покупку своего автомобиля               C  \n",
       "21323     0        153864               сделка с автомобилем               C  \n",
       "21324     0        115949  покупка коммерческой недвижимости               C  \n",
       "21325     0        224791                  операции с жильем               B  \n",
       "21326     0        155999               сделка с автомобилем               C  \n",
       "21327     1         89672                       недвижимость               C  \n",
       "21328     1        244093       на покупку своего автомобиля               B  \n",
       "21329     0         82047              на покупку автомобиля               C  "
      ]
     },
     "execution_count": 40,
     "metadata": {},
     "output_type": "execute_result"
    }
   ],
   "source": [
    "data['income_category'] = data['total_income'].apply(income_category) #применяем функцию к столбцу total_income\n",
    "data.tail(10)"
   ]
  },
  {
   "cell_type": "markdown",
   "id": "b8598058",
   "metadata": {},
   "source": [
    "## Категоризация целей кредита."
   ]
  },
  {
   "cell_type": "markdown",
   "id": "0c7b73a4",
   "metadata": {},
   "source": [
    "Создадим функцию, которая на основании данных из столбца purpose сформирует новый столбец `purpose_category`, в который войдут следующие категории:\n",
    "* 'операции с автомобилем',\n",
    "* 'операции с недвижимостью',\n",
    "* 'проведение свадьбы',\n",
    "* 'получение образования'.\n",
    "\n",
    "Для этого проведем лемматизацию."
   ]
  },
  {
   "cell_type": "code",
   "execution_count": 41,
   "id": "e64900d8",
   "metadata": {},
   "outputs": [
    {
     "data": {
      "text/plain": [
       "array(['покупка жилья', 'приобретение автомобиля',\n",
       "       'дополнительное образование', 'сыграть свадьбу',\n",
       "       'операции с жильем', 'образование', 'на проведение свадьбы',\n",
       "       'покупка жилья для семьи', 'покупка недвижимости',\n",
       "       'покупка коммерческой недвижимости', 'покупка жилой недвижимости',\n",
       "       'строительство собственной недвижимости', 'недвижимость',\n",
       "       'строительство недвижимости', 'на покупку подержанного автомобиля',\n",
       "       'на покупку своего автомобиля',\n",
       "       'операции с коммерческой недвижимостью',\n",
       "       'строительство жилой недвижимости', 'жилье',\n",
       "       'операции со своей недвижимостью', 'автомобили',\n",
       "       'заняться образованием', 'сделка с подержанным автомобилем',\n",
       "       'получение образования', 'автомобиль', 'свадьба',\n",
       "       'получение дополнительного образования', 'покупка своего жилья',\n",
       "       'операции с недвижимостью', 'получение высшего образования',\n",
       "       'свой автомобиль', 'сделка с автомобилем',\n",
       "       'профильное образование', 'высшее образование',\n",
       "       'покупка жилья для сдачи', 'на покупку автомобиля', 'ремонт жилью',\n",
       "       'заняться высшим образованием'], dtype=object)"
      ]
     },
     "execution_count": 41,
     "metadata": {},
     "output_type": "execute_result"
    }
   ],
   "source": [
    "data['purpose'].unique()"
   ]
  },
  {
   "cell_type": "code",
   "execution_count": null,
   "id": "2ae89654",
   "metadata": {},
   "outputs": [],
   "source": [
    "from pymystem3 import Mystem\n",
    "m = Mystem()\n",
    "   \n",
    "def purpose_category(purpose):   #создаем столбец с категоризированной целью кредита на основе лемм столбца purpose\n",
    "    lemmas_row = m.lemmatize(purpose)\n",
    "    for i in lemmas_row:\n",
    "        if 'авто' in i:\n",
    "            return 'операции с автомобилем'\n",
    "        if 'недвиж' in i or 'жил' in i:\n",
    "            return  'операции с недвижимостью'\n",
    "        if 'свад' in i:\n",
    "            return  'проведение свадьбы'\n",
    "        if 'образ' in i:\n",
    "            return 'получение образования'\n",
    "        \n",
    "data['purpose_category']= data['purpose'].apply(purpose_category)     #запускаем функцию для столбца puprpose   \n",
    "data.head(10)"
   ]
  },
  {
   "cell_type": "code",
   "execution_count": null,
   "id": "8006d2e6",
   "metadata": {},
   "outputs": [],
   "source": [
    "data['purpose_category'].unique()"
   ]
  },
  {
   "cell_type": "markdown",
   "id": "433292f6",
   "metadata": {},
   "source": [
    "## Ответы на вопросы."
   ]
  },
  {
   "cell_type": "markdown",
   "id": "a99ed002",
   "metadata": {},
   "source": [
    "### Вопрос 1: Есть ли зависимость между количеством детей и возвратом кредита в срок?"
   ]
  },
  {
   "cell_type": "markdown",
   "id": "1e87461d",
   "metadata": {},
   "source": [
    "Для ответа на данный вопрос предлагаю рассмотреть и сравнить процент просрочек при разных значениях количества детей. Сформируем сводную таблицу по общему количеству просроченных кредитов в зависимости от количества детей."
   ]
  },
  {
   "cell_type": "code",
   "execution_count": null,
   "id": "d3c87c84",
   "metadata": {},
   "outputs": [],
   "source": [
    "data.pivot_table(index=['gender'], columns='children', values='debt', aggfunc='sum')"
   ]
  },
  {
   "cell_type": "markdown",
   "id": "89c13246",
   "metadata": {},
   "source": [
    "Т.к. для ответа на каждый из вопросов мы будем рассматривать один и тот же показатель, но в зависимости от разных переменных, напишем сразу функцию для расчета."
   ]
  },
  {
   "cell_type": "code",
   "execution_count": null,
   "id": "dd331237",
   "metadata": {},
   "outputs": [],
   "source": [
    "def ratio_factor(factor): #где factor это столбец таблицы, взаимосявязь с которым мы хотим рассмотреть\n",
    "    table_debt = data.groupby(factor).agg({'debt': ['sum', 'count']}) #считаем количество просрочек и общее количество кредитов и группируем по фактору\n",
    "    table_debt['ratio'] = round(table_debt[('debt', 'sum')] / table_debt[('debt', 'count')]*100,2) #находим долю просроченных займов\n",
    "    display(table_debt.sort_values(by='ratio', ascending=False))    #сортируем итоговую таблицу\n",
    "    display(data[factor].value_counts(normalize=True)*100)          #доля значений в общем количестве"
   ]
  },
  {
   "cell_type": "code",
   "execution_count": null,
   "id": "529e46d8",
   "metadata": {},
   "outputs": [],
   "source": [
    "ratio_factor('children')"
   ]
  },
  {
   "cell_type": "markdown",
   "id": "97e0f6a7",
   "metadata": {},
   "source": [
    "Как видим из таблиц, количество займов, совершенных людьми с количеством детей от 3 до 5 довольно незначительное, чтобы на их основе делать какие-то выводы, посчитаем общий процент, приходящийся на все эти категории от общего числа."
   ]
  },
  {
   "cell_type": "markdown",
   "id": "f9b49426",
   "metadata": {},
   "source": [
    "Итого получаем, что на кредиты выданные многодетным семьям приходится меньше 2% от всего объема. Вполне естественно, что семей с бОльшим количеством детей в принципе меньше, возможно, они и реже обращаются за кредитами."
   ]
  },
  {
   "cell_type": "markdown",
   "id": "a32de43c",
   "metadata": {},
   "source": [
    "**Выводы:** \n",
    "* в категориях с количеством детей от 3 до 5 - не такая большая выборка, чтобы делать на их основе достоверные выводы, на них суммарно приходится меньше 2% всего объема кредитов. При более подробном исследовании, возможно, имело бы смысл выделить данных людей в одну общую категорию 3-5.\n",
    "* меньше всего просрочек у людей, у которых нет детей, при этом сама категория самая многочисленная.\n",
    "* больше всего просрочек у людей с 2 детьми, при этом \"отрыв\" от категории с 1 ребенком незначительный.\n",
    "* можно сказать, что зависимости между количеством детей и возвратом кредита в срок явной нет или данных недостаточно.\n",
    "* но она определенно есть между наличием детей и возвартом кредита в срок, отсуствие детей с бОльшей вероятностью гарантирует его."
   ]
  },
  {
   "cell_type": "markdown",
   "id": "e0eb4805",
   "metadata": {},
   "source": [
    "### Вопрос 2: Есть ли зависимость между семейным положением и возвратом кредита в срок?"
   ]
  },
  {
   "cell_type": "markdown",
   "id": "d201143c",
   "metadata": {},
   "source": [
    "Для ответа на данный вопрос предлагаю рассмотреть и сравнить процент просрочек при разных значениях семейного положения. Сформируем сводную таблицу по общему количеству просроченных кредитов в зависимости от положения."
   ]
  },
  {
   "cell_type": "code",
   "execution_count": null,
   "id": "87d9bae5",
   "metadata": {},
   "outputs": [],
   "source": [
    "display(family_status_dict)\n",
    "data.pivot_table(index=['gender'], columns='family_status_id', values='debt', aggfunc='sum')"
   ]
  },
  {
   "cell_type": "code",
   "execution_count": null,
   "id": "226aaf75",
   "metadata": {},
   "outputs": [],
   "source": [
    "ratio_factor('family_status_id')"
   ]
  },
  {
   "cell_type": "markdown",
   "id": "5f80a9f3",
   "metadata": {},
   "source": [
    "**Выводы:** \n",
    "* больше всего процент просрочек у неженатых/незамужних людей, можно было бы сказать \"одиноких\", но...\n",
    "* у вдовствующих и разведенных он как раз таки самый низкий \n",
    "* вероятно, вдовы/вдовцы и разведенные чаще все-таки более возрастные, стабильные и обязательные заемщики, а вот неженатые чаще именно молодые\n",
    "* в целом, можно усмотерть зависимость, что неженатые или живущие в гражданском браке люди менее кредитоспособны, чем остальные\n"
   ]
  },
  {
   "cell_type": "markdown",
   "id": "a5a4b093",
   "metadata": {},
   "source": [
    "### Вопрос 3:Есть ли зависимость между уровнем дохода и возвратом кредита в срок?"
   ]
  },
  {
   "cell_type": "markdown",
   "id": "599881ca",
   "metadata": {},
   "source": [
    "Для ответа на данный вопрос предлагаю рассмотреть и сравнить процент просрочек при разных значениях уровня доходов. Сформируем сводную таблицу по общему количеству просроченных кредитов в зависимости от категории дохода."
   ]
  },
  {
   "cell_type": "code",
   "execution_count": null,
   "id": "a3030737",
   "metadata": {},
   "outputs": [],
   "source": [
    "data.pivot_table(index=['gender'], columns='income_category', values='debt', aggfunc='sum')"
   ]
  },
  {
   "cell_type": "markdown",
   "id": "5f851b39",
   "metadata": {},
   "source": [
    "* 0–30000 — 'E';\n",
    "* 30001–50000 — 'D';\n",
    "* 50001–200000 — 'C';\n",
    "* 200001–1000000 — 'B';\n",
    "* 100001 и выше — 'A'."
   ]
  },
  {
   "cell_type": "code",
   "execution_count": null,
   "id": "3e777344",
   "metadata": {},
   "outputs": [],
   "source": [
    "ratio_factor('income_category')"
   ]
  },
  {
   "cell_type": "markdown",
   "id": "80c47a6d",
   "metadata": {},
   "source": [
    "**Выводы:** \n",
    "* ситуация по категориям `E, A, D` примерно как с количсетвом детей от 3-х, несравнимо маленькое количество данных по отношению к другим категориям, поэтому крайне сложно и не объективно делать выводы на их основе. Эти значения являются крайними значениями интервалов, в идеале для более полного исследования было бы необходимо изменить интервалы категорий для получения более равномерной наполненности.\n",
    "* тем не менее, самый высокий процент по просрочке среди категории `E` - c самым низким доходом, и самый низкий процент в категории `D` - c доходом 30000-50000. Из двух наиболее часто встречаемых категорий доходов `С` и `B`, люди с более высоким доходом были более надежными заемщиками.\n",
    "\n"
   ]
  },
  {
   "cell_type": "markdown",
   "id": "49856966",
   "metadata": {},
   "source": [
    "### Вопрос 4: Как разные цели кредита влияют на его возврат в срок?"
   ]
  },
  {
   "cell_type": "markdown",
   "id": "4a6f274d",
   "metadata": {},
   "source": [
    "Для ответа на данный вопрос предлагаю рассмотреть и сравнить процент просрочек при разных значениях назначения кредита. Сформируем сводную таблицу по общему количеству просроченных кредитов в зависимости от цели."
   ]
  },
  {
   "cell_type": "code",
   "execution_count": null,
   "id": "aad05efa",
   "metadata": {},
   "outputs": [],
   "source": [
    "data.pivot_table(index=['gender'], columns='purpose_category', values='debt', aggfunc='sum')"
   ]
  },
  {
   "cell_type": "code",
   "execution_count": null,
   "id": "b2639bac",
   "metadata": {},
   "outputs": [],
   "source": [
    "ratio_factor('purpose_category')"
   ]
  },
  {
   "cell_type": "markdown",
   "id": "0a5277f6",
   "metadata": {},
   "source": [
    "**Выводы:** \n",
    "* процент просрочек по кдедитам на свадьбу и недвижимость меньше, чем на автомобиль и образование и довольно значительно\n",
    "* вероятно, данные цели также можно связать и с другими \"переменными\", скажем, кредит под цель автомобиль и образование чаще берут более молодые, неженатые, менее обеспеченные люди."
   ]
  },
  {
   "cell_type": "markdown",
   "id": "7a49c876",
   "metadata": {},
   "source": [
    "## Общий вывод:"
   ]
  },
  {
   "cell_type": "markdown",
   "id": "2949bb14",
   "metadata": {},
   "source": [
    "В ходе исследования была проведена пердобработка данных, которая включала в себя:\n",
    "\n",
    "* заполенние пропусков значений, там, где это возможно\n",
    "* обработка аномалий\n",
    "* удаление явных и неявных дубликатов\n",
    "* категоризация\n",
    "* декомпозиция исходного датафрейма\n",
    "* изменение типов данных\n",
    "\n",
    "Также были рассмотрены зависимости между целеями кредита, количеством детей, уровнем дохода и семейным положением и возвратом кредита в срок.\n",
    "\n",
    "В итоге, можно составить \"идеальный\" портрет заемщика: женатый/замужняя, без детей, под недвижимость, с доходом хотя бы от 30000.\n",
    "\n",
    "Из отдельно рассмотренных факторов, которые имеют наибольшее прогностическое значение на возврат кредита являются семейное положение и цель кредита, наименьшее - уровень дохода. Для более глубоко анализа требуется рассматривать данные факторы в сочетании между собой.\n"
   ]
  }
 ],
 "metadata": {
  "ExecuteTimeLog": [
   {
    "duration": 477,
    "start_time": "2022-04-21T11:56:00.541Z"
   },
   {
    "duration": 122,
    "start_time": "2022-04-21T12:57:10.278Z"
   },
   {
    "duration": 72,
    "start_time": "2022-04-21T12:57:16.201Z"
   },
   {
    "duration": 75,
    "start_time": "2022-04-21T12:57:49.482Z"
   },
   {
    "duration": 6,
    "start_time": "2022-04-21T12:59:02.053Z"
   },
   {
    "duration": 11,
    "start_time": "2022-04-21T12:59:06.621Z"
   },
   {
    "duration": 18,
    "start_time": "2022-04-21T13:39:42.671Z"
   },
   {
    "duration": 10,
    "start_time": "2022-04-21T14:00:53.654Z"
   },
   {
    "duration": 5,
    "start_time": "2022-04-21T14:45:19.341Z"
   },
   {
    "duration": 4,
    "start_time": "2022-04-21T14:45:43.133Z"
   },
   {
    "duration": 12,
    "start_time": "2022-04-21T14:47:02.961Z"
   },
   {
    "duration": 9,
    "start_time": "2022-04-21T14:47:12.960Z"
   },
   {
    "duration": 11,
    "start_time": "2022-04-21T14:47:18.839Z"
   },
   {
    "duration": 17,
    "start_time": "2022-04-21T14:47:47.146Z"
   },
   {
    "duration": 8,
    "start_time": "2022-04-21T14:49:45.179Z"
   },
   {
    "duration": 14,
    "start_time": "2022-04-21T15:04:58.826Z"
   },
   {
    "duration": 8,
    "start_time": "2022-04-21T15:06:41.565Z"
   },
   {
    "duration": 9,
    "start_time": "2022-04-21T15:07:00.718Z"
   },
   {
    "duration": 19,
    "start_time": "2022-04-21T15:07:17.109Z"
   },
   {
    "duration": 1112,
    "start_time": "2022-04-21T15:08:58.387Z"
   },
   {
    "duration": 1235,
    "start_time": "2022-04-21T15:08:59.787Z"
   },
   {
    "duration": 1034,
    "start_time": "2022-04-21T15:09:01.171Z"
   },
   {
    "duration": 1265,
    "start_time": "2022-04-21T15:09:17.714Z"
   },
   {
    "duration": 973,
    "start_time": "2022-04-21T15:10:46.031Z"
   },
   {
    "duration": 3,
    "start_time": "2022-04-21T15:11:34.120Z"
   },
   {
    "duration": 4,
    "start_time": "2022-04-21T15:11:49.217Z"
   },
   {
    "duration": 151,
    "start_time": "2022-04-21T15:12:00.906Z"
   },
   {
    "duration": 27,
    "start_time": "2022-04-21T15:12:09.555Z"
   },
   {
    "duration": 17,
    "start_time": "2022-04-21T15:13:06.020Z"
   },
   {
    "duration": 20,
    "start_time": "2022-04-21T15:13:30.040Z"
   },
   {
    "duration": 10,
    "start_time": "2022-04-21T15:15:30.370Z"
   },
   {
    "duration": 9,
    "start_time": "2022-04-21T17:25:18.921Z"
   },
   {
    "duration": 507,
    "start_time": "2022-04-21T18:06:21.311Z"
   },
   {
    "duration": 14,
    "start_time": "2022-04-21T18:07:50.487Z"
   },
   {
    "duration": 11,
    "start_time": "2022-04-21T18:08:35.364Z"
   },
   {
    "duration": 12,
    "start_time": "2022-04-21T18:08:51.435Z"
   },
   {
    "duration": 23,
    "start_time": "2022-04-21T18:09:46.816Z"
   },
   {
    "duration": 15,
    "start_time": "2022-04-21T18:11:07.116Z"
   },
   {
    "duration": 13,
    "start_time": "2022-04-21T18:14:11.491Z"
   },
   {
    "duration": 15,
    "start_time": "2022-04-21T18:14:42.268Z"
   },
   {
    "duration": 431,
    "start_time": "2022-04-21T18:15:04.703Z"
   },
   {
    "duration": 12,
    "start_time": "2022-04-21T18:15:05.136Z"
   },
   {
    "duration": 11,
    "start_time": "2022-04-21T18:15:05.150Z"
   },
   {
    "duration": 16,
    "start_time": "2022-04-21T18:15:05.164Z"
   },
   {
    "duration": 16,
    "start_time": "2022-04-21T18:15:05.182Z"
   },
   {
    "duration": 4,
    "start_time": "2022-04-21T18:15:05.200Z"
   },
   {
    "duration": 53,
    "start_time": "2022-04-21T18:15:05.206Z"
   },
   {
    "duration": 369,
    "start_time": "2022-04-21T18:15:05.260Z"
   },
   {
    "duration": 11,
    "start_time": "2022-04-21T18:17:25.073Z"
   },
   {
    "duration": 110,
    "start_time": "2022-04-21T18:17:53.570Z"
   },
   {
    "duration": 5,
    "start_time": "2022-04-21T18:18:08.077Z"
   },
   {
    "duration": 9,
    "start_time": "2022-04-21T18:18:38.045Z"
   },
   {
    "duration": 8,
    "start_time": "2022-04-21T18:21:59.637Z"
   },
   {
    "duration": 143,
    "start_time": "2022-04-21T19:12:37.217Z"
   },
   {
    "duration": 67,
    "start_time": "2022-04-21T19:12:40.808Z"
   },
   {
    "duration": 13,
    "start_time": "2022-04-21T19:12:54.156Z"
   },
   {
    "duration": 10,
    "start_time": "2022-04-21T19:14:28.800Z"
   },
   {
    "duration": 69,
    "start_time": "2022-04-22T10:53:09.961Z"
   },
   {
    "duration": 638,
    "start_time": "2022-04-22T10:53:18.535Z"
   },
   {
    "duration": 15,
    "start_time": "2022-04-22T10:53:19.176Z"
   },
   {
    "duration": 15,
    "start_time": "2022-04-22T10:53:19.194Z"
   },
   {
    "duration": 70,
    "start_time": "2022-04-22T10:53:19.213Z"
   },
   {
    "duration": 16,
    "start_time": "2022-04-22T10:53:19.286Z"
   },
   {
    "duration": 7,
    "start_time": "2022-04-22T10:53:19.304Z"
   },
   {
    "duration": 56,
    "start_time": "2022-04-22T10:53:19.314Z"
   },
   {
    "duration": 13,
    "start_time": "2022-04-22T10:53:19.372Z"
   },
   {
    "duration": 6,
    "start_time": "2022-04-22T10:53:19.387Z"
   },
   {
    "duration": 109,
    "start_time": "2022-04-22T10:53:30.523Z"
   },
   {
    "duration": 1611,
    "start_time": "2022-04-22T10:54:41.182Z"
   },
   {
    "duration": 668,
    "start_time": "2022-04-22T10:54:57.960Z"
   },
   {
    "duration": 23,
    "start_time": "2022-04-22T10:54:58.630Z"
   },
   {
    "duration": 17,
    "start_time": "2022-04-22T10:54:58.655Z"
   },
   {
    "duration": 24,
    "start_time": "2022-04-22T10:54:58.674Z"
   },
   {
    "duration": 51,
    "start_time": "2022-04-22T10:54:58.701Z"
   },
   {
    "duration": 8,
    "start_time": "2022-04-22T10:54:58.754Z"
   },
   {
    "duration": 35,
    "start_time": "2022-04-22T10:54:58.764Z"
   },
   {
    "duration": 13,
    "start_time": "2022-04-22T10:54:58.801Z"
   },
   {
    "duration": 35,
    "start_time": "2022-04-22T10:54:58.817Z"
   },
   {
    "duration": 1630,
    "start_time": "2022-04-22T10:55:38.409Z"
   },
   {
    "duration": 647,
    "start_time": "2022-04-22T10:55:54.319Z"
   },
   {
    "duration": 13,
    "start_time": "2022-04-22T10:55:54.968Z"
   },
   {
    "duration": 18,
    "start_time": "2022-04-22T10:55:54.983Z"
   },
   {
    "duration": 50,
    "start_time": "2022-04-22T10:55:55.004Z"
   },
   {
    "duration": 16,
    "start_time": "2022-04-22T10:55:55.056Z"
   },
   {
    "duration": 7,
    "start_time": "2022-04-22T10:55:55.074Z"
   },
   {
    "duration": 28,
    "start_time": "2022-04-22T10:55:55.083Z"
   },
   {
    "duration": 48,
    "start_time": "2022-04-22T10:55:55.113Z"
   },
   {
    "duration": 108,
    "start_time": "2022-04-22T10:55:55.163Z"
   },
   {
    "duration": 1755,
    "start_time": "2022-04-22T10:56:29.082Z"
   },
   {
    "duration": 641,
    "start_time": "2022-04-22T10:56:40.341Z"
   },
   {
    "duration": 13,
    "start_time": "2022-04-22T10:56:40.985Z"
   },
   {
    "duration": 13,
    "start_time": "2022-04-22T10:56:41.004Z"
   },
   {
    "duration": 56,
    "start_time": "2022-04-22T10:56:41.019Z"
   },
   {
    "duration": 18,
    "start_time": "2022-04-22T10:56:41.077Z"
   },
   {
    "duration": 7,
    "start_time": "2022-04-22T10:56:41.097Z"
   },
   {
    "duration": 62,
    "start_time": "2022-04-22T10:56:41.106Z"
   },
   {
    "duration": 11,
    "start_time": "2022-04-22T10:56:41.171Z"
   },
   {
    "duration": 7,
    "start_time": "2022-04-22T10:56:41.185Z"
   },
   {
    "duration": 12,
    "start_time": "2022-04-22T10:58:24.897Z"
   },
   {
    "duration": 103,
    "start_time": "2022-04-22T10:59:34.823Z"
   },
   {
    "duration": 16,
    "start_time": "2022-04-22T11:00:07.154Z"
   },
   {
    "duration": 12,
    "start_time": "2022-04-22T11:00:41.686Z"
   },
   {
    "duration": 12,
    "start_time": "2022-04-22T11:02:10.480Z"
   },
   {
    "duration": 9,
    "start_time": "2022-04-22T11:02:48.806Z"
   },
   {
    "duration": 30,
    "start_time": "2022-04-22T11:04:25.604Z"
   },
   {
    "duration": 22,
    "start_time": "2022-04-22T11:05:20.795Z"
   },
   {
    "duration": 4,
    "start_time": "2022-04-22T13:11:44.346Z"
   },
   {
    "duration": 10,
    "start_time": "2022-04-22T13:14:16.580Z"
   },
   {
    "duration": 7,
    "start_time": "2022-04-22T13:16:51.373Z"
   },
   {
    "duration": 91,
    "start_time": "2022-04-22T13:18:00.568Z"
   },
   {
    "duration": 10,
    "start_time": "2022-04-22T13:18:51.509Z"
   },
   {
    "duration": 1966,
    "start_time": "2022-04-22T13:19:15.564Z"
   },
   {
    "duration": 8,
    "start_time": "2022-04-22T13:19:38.532Z"
   },
   {
    "duration": 102,
    "start_time": "2022-04-22T13:23:01.595Z"
   },
   {
    "duration": 8,
    "start_time": "2022-04-22T13:24:58.597Z"
   },
   {
    "duration": 9,
    "start_time": "2022-04-22T13:25:40.814Z"
   },
   {
    "duration": 90,
    "start_time": "2022-04-22T13:27:05.040Z"
   },
   {
    "duration": 140,
    "start_time": "2022-04-22T13:27:16.173Z"
   },
   {
    "duration": 20,
    "start_time": "2022-04-22T13:27:19.817Z"
   },
   {
    "duration": 8,
    "start_time": "2022-04-22T13:33:04.276Z"
   },
   {
    "duration": 19,
    "start_time": "2022-04-22T13:33:09.052Z"
   },
   {
    "duration": 21,
    "start_time": "2022-04-22T13:33:18.902Z"
   },
   {
    "duration": 21,
    "start_time": "2022-04-22T13:33:30.652Z"
   },
   {
    "duration": 11,
    "start_time": "2022-04-22T13:35:48.763Z"
   },
   {
    "duration": 13,
    "start_time": "2022-04-22T13:37:07.777Z"
   },
   {
    "duration": 626,
    "start_time": "2022-04-22T13:37:24.537Z"
   },
   {
    "duration": 13,
    "start_time": "2022-04-22T13:37:25.166Z"
   },
   {
    "duration": 14,
    "start_time": "2022-04-22T13:37:25.181Z"
   },
   {
    "duration": 55,
    "start_time": "2022-04-22T13:37:25.198Z"
   },
   {
    "duration": 17,
    "start_time": "2022-04-22T13:37:25.255Z"
   },
   {
    "duration": 7,
    "start_time": "2022-04-22T13:37:25.274Z"
   },
   {
    "duration": 29,
    "start_time": "2022-04-22T13:37:25.282Z"
   },
   {
    "duration": 46,
    "start_time": "2022-04-22T13:37:25.314Z"
   },
   {
    "duration": 8,
    "start_time": "2022-04-22T13:37:25.362Z"
   },
   {
    "duration": 14,
    "start_time": "2022-04-22T13:37:25.374Z"
   },
   {
    "duration": 23,
    "start_time": "2022-04-22T13:37:25.390Z"
   },
   {
    "duration": 45,
    "start_time": "2022-04-22T13:37:25.415Z"
   },
   {
    "duration": 9,
    "start_time": "2022-04-22T13:37:25.462Z"
   },
   {
    "duration": 15,
    "start_time": "2022-04-22T13:37:25.474Z"
   },
   {
    "duration": 11,
    "start_time": "2022-04-22T13:37:25.491Z"
   },
   {
    "duration": 55,
    "start_time": "2022-04-22T13:37:25.504Z"
   },
   {
    "duration": 21,
    "start_time": "2022-04-22T13:37:25.562Z"
   },
   {
    "duration": 21,
    "start_time": "2022-04-22T13:37:25.585Z"
   },
   {
    "duration": 11,
    "start_time": "2022-04-22T13:37:25.608Z"
   },
   {
    "duration": 103,
    "start_time": "2022-04-22T13:37:25.621Z"
   },
   {
    "duration": 8,
    "start_time": "2022-04-22T13:39:56.857Z"
   },
   {
    "duration": 9,
    "start_time": "2022-04-22T13:42:40.554Z"
   },
   {
    "duration": 8,
    "start_time": "2022-04-22T13:42:41.329Z"
   },
   {
    "duration": 1780,
    "start_time": "2022-04-22T13:45:31.362Z"
   },
   {
    "duration": 1603,
    "start_time": "2022-04-22T13:45:33.803Z"
   },
   {
    "duration": 12,
    "start_time": "2022-04-22T13:46:01.094Z"
   },
   {
    "duration": 11,
    "start_time": "2022-04-22T13:49:51.733Z"
   },
   {
    "duration": 604,
    "start_time": "2022-04-22T13:58:24.166Z"
   },
   {
    "duration": 13,
    "start_time": "2022-04-22T13:58:24.773Z"
   },
   {
    "duration": 13,
    "start_time": "2022-04-22T13:58:24.788Z"
   },
   {
    "duration": 56,
    "start_time": "2022-04-22T13:58:24.804Z"
   },
   {
    "duration": 16,
    "start_time": "2022-04-22T13:58:24.863Z"
   },
   {
    "duration": 8,
    "start_time": "2022-04-22T13:58:24.881Z"
   },
   {
    "duration": 29,
    "start_time": "2022-04-22T13:58:24.891Z"
   },
   {
    "duration": 14,
    "start_time": "2022-04-22T13:58:24.951Z"
   },
   {
    "duration": 7,
    "start_time": "2022-04-22T13:58:24.967Z"
   },
   {
    "duration": 10,
    "start_time": "2022-04-22T13:58:24.977Z"
   },
   {
    "duration": 64,
    "start_time": "2022-04-22T13:58:24.990Z"
   },
   {
    "duration": 12,
    "start_time": "2022-04-22T13:58:25.057Z"
   },
   {
    "duration": 11,
    "start_time": "2022-04-22T13:58:25.072Z"
   },
   {
    "duration": 12,
    "start_time": "2022-04-22T13:58:25.087Z"
   },
   {
    "duration": 9,
    "start_time": "2022-04-22T13:58:25.101Z"
   },
   {
    "duration": 41,
    "start_time": "2022-04-22T13:58:25.113Z"
   },
   {
    "duration": 18,
    "start_time": "2022-04-22T13:58:25.156Z"
   },
   {
    "duration": 12,
    "start_time": "2022-04-22T13:58:25.176Z"
   },
   {
    "duration": 9,
    "start_time": "2022-04-22T13:58:25.191Z"
   },
   {
    "duration": 8,
    "start_time": "2022-04-22T13:58:25.202Z"
   },
   {
    "duration": 11,
    "start_time": "2022-04-22T13:58:25.251Z"
   },
   {
    "duration": 84,
    "start_time": "2022-04-22T13:58:25.264Z"
   },
   {
    "duration": 13,
    "start_time": "2022-04-22T13:59:12.744Z"
   },
   {
    "duration": 13,
    "start_time": "2022-04-22T14:01:27.789Z"
   },
   {
    "duration": 552,
    "start_time": "2022-04-22T14:01:30.643Z"
   },
   {
    "duration": 203,
    "start_time": "2022-04-22T14:01:37.541Z"
   },
   {
    "duration": 210,
    "start_time": "2022-04-22T14:02:07.243Z"
   },
   {
    "duration": 114,
    "start_time": "2022-04-22T14:02:28.325Z"
   },
   {
    "duration": 17,
    "start_time": "2022-04-22T14:02:51.084Z"
   },
   {
    "duration": 17,
    "start_time": "2022-04-22T14:03:20.317Z"
   },
   {
    "duration": 15,
    "start_time": "2022-04-22T14:03:23.546Z"
   },
   {
    "duration": 198,
    "start_time": "2022-04-22T14:03:45.380Z"
   },
   {
    "duration": 198,
    "start_time": "2022-04-22T14:03:49.395Z"
   },
   {
    "duration": 12,
    "start_time": "2022-04-22T14:04:05.968Z"
   },
   {
    "duration": 3,
    "start_time": "2022-04-22T14:15:45.799Z"
   },
   {
    "duration": 10,
    "start_time": "2022-04-22T14:16:28.976Z"
   },
   {
    "duration": 133,
    "start_time": "2022-04-22T14:17:14.960Z"
   },
   {
    "duration": 16,
    "start_time": "2022-04-22T14:20:52.847Z"
   },
   {
    "duration": 6,
    "start_time": "2022-04-22T14:23:07.046Z"
   },
   {
    "duration": 5,
    "start_time": "2022-04-22T14:23:21.529Z"
   },
   {
    "duration": 40,
    "start_time": "2022-04-22T14:23:32.648Z"
   },
   {
    "duration": 5,
    "start_time": "2022-04-22T14:25:52.784Z"
   },
   {
    "duration": 5,
    "start_time": "2022-04-22T14:27:18.191Z"
   },
   {
    "duration": 5,
    "start_time": "2022-04-22T14:27:32.212Z"
   },
   {
    "duration": 10,
    "start_time": "2022-04-22T14:27:38.674Z"
   },
   {
    "duration": 12,
    "start_time": "2022-04-22T14:28:23.900Z"
   },
   {
    "duration": 85,
    "start_time": "2022-04-22T14:28:51.698Z"
   },
   {
    "duration": 570,
    "start_time": "2022-04-22T14:29:07.497Z"
   },
   {
    "duration": 12,
    "start_time": "2022-04-22T14:29:08.070Z"
   },
   {
    "duration": 13,
    "start_time": "2022-04-22T14:29:08.084Z"
   },
   {
    "duration": 53,
    "start_time": "2022-04-22T14:29:08.101Z"
   },
   {
    "duration": 12,
    "start_time": "2022-04-22T14:29:08.156Z"
   },
   {
    "duration": 41,
    "start_time": "2022-04-22T14:29:08.170Z"
   },
   {
    "duration": 124,
    "start_time": "2022-04-22T14:29:08.214Z"
   },
   {
    "duration": 0,
    "start_time": "2022-04-22T14:29:08.342Z"
   },
   {
    "duration": 0,
    "start_time": "2022-04-22T14:29:08.351Z"
   },
   {
    "duration": 0,
    "start_time": "2022-04-22T14:29:08.353Z"
   },
   {
    "duration": 0,
    "start_time": "2022-04-22T14:29:08.354Z"
   },
   {
    "duration": 0,
    "start_time": "2022-04-22T14:29:08.356Z"
   },
   {
    "duration": 0,
    "start_time": "2022-04-22T14:29:08.358Z"
   },
   {
    "duration": 0,
    "start_time": "2022-04-22T14:29:08.359Z"
   },
   {
    "duration": 0,
    "start_time": "2022-04-22T14:29:08.361Z"
   },
   {
    "duration": 0,
    "start_time": "2022-04-22T14:29:08.363Z"
   },
   {
    "duration": 0,
    "start_time": "2022-04-22T14:29:08.364Z"
   },
   {
    "duration": 0,
    "start_time": "2022-04-22T14:29:08.366Z"
   },
   {
    "duration": 0,
    "start_time": "2022-04-22T14:29:08.367Z"
   },
   {
    "duration": 0,
    "start_time": "2022-04-22T14:29:08.369Z"
   },
   {
    "duration": 0,
    "start_time": "2022-04-22T14:29:08.370Z"
   },
   {
    "duration": 0,
    "start_time": "2022-04-22T14:29:08.372Z"
   },
   {
    "duration": 0,
    "start_time": "2022-04-22T14:29:08.374Z"
   },
   {
    "duration": 0,
    "start_time": "2022-04-22T14:29:08.375Z"
   },
   {
    "duration": 41,
    "start_time": "2022-04-22T14:29:42.749Z"
   },
   {
    "duration": 10,
    "start_time": "2022-04-22T14:31:13.106Z"
   },
   {
    "duration": 32,
    "start_time": "2022-04-22T14:31:21.637Z"
   },
   {
    "duration": 36,
    "start_time": "2022-04-22T14:31:36.321Z"
   },
   {
    "duration": 10,
    "start_time": "2022-04-22T14:32:04.561Z"
   },
   {
    "duration": 10,
    "start_time": "2022-04-22T14:32:29.019Z"
   },
   {
    "duration": 8,
    "start_time": "2022-04-22T14:35:34.237Z"
   },
   {
    "duration": 34,
    "start_time": "2022-04-22T14:35:49.337Z"
   },
   {
    "duration": 93,
    "start_time": "2022-04-22T14:37:37.881Z"
   },
   {
    "duration": 10,
    "start_time": "2022-04-22T14:39:49.743Z"
   },
   {
    "duration": 14,
    "start_time": "2022-04-22T14:41:38.661Z"
   },
   {
    "duration": 11,
    "start_time": "2022-04-22T14:46:10.984Z"
   },
   {
    "duration": 13,
    "start_time": "2022-04-22T14:46:48.801Z"
   },
   {
    "duration": 11,
    "start_time": "2022-04-22T14:46:59.386Z"
   },
   {
    "duration": 12,
    "start_time": "2022-04-22T14:48:32.923Z"
   },
   {
    "duration": 681,
    "start_time": "2022-04-22T14:48:42.774Z"
   },
   {
    "duration": 13,
    "start_time": "2022-04-22T14:48:43.458Z"
   },
   {
    "duration": 17,
    "start_time": "2022-04-22T14:48:43.474Z"
   },
   {
    "duration": 25,
    "start_time": "2022-04-22T14:48:43.494Z"
   },
   {
    "duration": 12,
    "start_time": "2022-04-22T14:48:43.551Z"
   },
   {
    "duration": 35,
    "start_time": "2022-04-22T14:48:43.565Z"
   },
   {
    "duration": 10,
    "start_time": "2022-04-22T14:48:43.602Z"
   },
   {
    "duration": 54,
    "start_time": "2022-04-22T14:48:43.614Z"
   },
   {
    "duration": 113,
    "start_time": "2022-04-22T14:48:43.670Z"
   },
   {
    "duration": 0,
    "start_time": "2022-04-22T14:48:43.786Z"
   },
   {
    "duration": 0,
    "start_time": "2022-04-22T14:48:43.788Z"
   },
   {
    "duration": 0,
    "start_time": "2022-04-22T14:48:43.789Z"
   },
   {
    "duration": 0,
    "start_time": "2022-04-22T14:48:43.791Z"
   },
   {
    "duration": 0,
    "start_time": "2022-04-22T14:48:43.792Z"
   },
   {
    "duration": 0,
    "start_time": "2022-04-22T14:48:43.793Z"
   },
   {
    "duration": 0,
    "start_time": "2022-04-22T14:48:43.795Z"
   },
   {
    "duration": 0,
    "start_time": "2022-04-22T14:48:43.796Z"
   },
   {
    "duration": 0,
    "start_time": "2022-04-22T14:48:43.798Z"
   },
   {
    "duration": 0,
    "start_time": "2022-04-22T14:48:43.799Z"
   },
   {
    "duration": 0,
    "start_time": "2022-04-22T14:48:43.800Z"
   },
   {
    "duration": 0,
    "start_time": "2022-04-22T14:48:43.801Z"
   },
   {
    "duration": 0,
    "start_time": "2022-04-22T14:48:43.803Z"
   },
   {
    "duration": 0,
    "start_time": "2022-04-22T14:48:43.804Z"
   },
   {
    "duration": 0,
    "start_time": "2022-04-22T14:48:43.805Z"
   },
   {
    "duration": 0,
    "start_time": "2022-04-22T14:48:43.806Z"
   },
   {
    "duration": 0,
    "start_time": "2022-04-22T14:48:43.807Z"
   },
   {
    "duration": 20,
    "start_time": "2022-04-22T14:51:26.562Z"
   },
   {
    "duration": 12,
    "start_time": "2022-04-22T14:52:56.131Z"
   },
   {
    "duration": 24,
    "start_time": "2022-04-22T14:53:04.691Z"
   },
   {
    "duration": 24,
    "start_time": "2022-04-22T14:53:30.166Z"
   },
   {
    "duration": 24,
    "start_time": "2022-04-22T14:56:12.428Z"
   },
   {
    "duration": 9,
    "start_time": "2022-04-22T14:57:33.366Z"
   },
   {
    "duration": 10,
    "start_time": "2022-04-22T14:57:49.198Z"
   },
   {
    "duration": 92,
    "start_time": "2022-04-22T14:59:41.043Z"
   },
   {
    "duration": 100,
    "start_time": "2022-04-22T15:00:29.637Z"
   },
   {
    "duration": 95,
    "start_time": "2022-04-22T15:00:32.211Z"
   },
   {
    "duration": 149,
    "start_time": "2022-04-22T15:00:53.623Z"
   },
   {
    "duration": 10,
    "start_time": "2022-04-22T15:01:21.241Z"
   },
   {
    "duration": 19,
    "start_time": "2022-04-22T15:04:37.134Z"
   },
   {
    "duration": 47,
    "start_time": "2022-04-22T15:05:53.896Z"
   },
   {
    "duration": 627,
    "start_time": "2022-04-22T15:06:05.489Z"
   },
   {
    "duration": 14,
    "start_time": "2022-04-22T15:06:06.119Z"
   },
   {
    "duration": 50,
    "start_time": "2022-04-22T15:06:06.135Z"
   },
   {
    "duration": 33,
    "start_time": "2022-04-22T15:06:06.188Z"
   },
   {
    "duration": 13,
    "start_time": "2022-04-22T15:06:06.223Z"
   },
   {
    "duration": 64,
    "start_time": "2022-04-22T15:06:06.238Z"
   },
   {
    "duration": 9,
    "start_time": "2022-04-22T15:06:06.304Z"
   },
   {
    "duration": 47,
    "start_time": "2022-04-22T15:06:06.316Z"
   },
   {
    "duration": 45,
    "start_time": "2022-04-22T15:06:06.365Z"
   },
   {
    "duration": 106,
    "start_time": "2022-04-22T15:06:06.413Z"
   },
   {
    "duration": 0,
    "start_time": "2022-04-22T15:06:06.522Z"
   },
   {
    "duration": 0,
    "start_time": "2022-04-22T15:06:06.523Z"
   },
   {
    "duration": 0,
    "start_time": "2022-04-22T15:06:06.525Z"
   },
   {
    "duration": 0,
    "start_time": "2022-04-22T15:06:06.526Z"
   },
   {
    "duration": 0,
    "start_time": "2022-04-22T15:06:06.528Z"
   },
   {
    "duration": 0,
    "start_time": "2022-04-22T15:06:06.530Z"
   },
   {
    "duration": 0,
    "start_time": "2022-04-22T15:06:06.552Z"
   },
   {
    "duration": 1,
    "start_time": "2022-04-22T15:06:06.553Z"
   },
   {
    "duration": 0,
    "start_time": "2022-04-22T15:06:06.555Z"
   },
   {
    "duration": 0,
    "start_time": "2022-04-22T15:06:06.557Z"
   },
   {
    "duration": 0,
    "start_time": "2022-04-22T15:06:06.559Z"
   },
   {
    "duration": 0,
    "start_time": "2022-04-22T15:06:06.560Z"
   },
   {
    "duration": 0,
    "start_time": "2022-04-22T15:06:06.562Z"
   },
   {
    "duration": 0,
    "start_time": "2022-04-22T15:06:06.563Z"
   },
   {
    "duration": 0,
    "start_time": "2022-04-22T15:06:06.565Z"
   },
   {
    "duration": 0,
    "start_time": "2022-04-22T15:06:06.567Z"
   },
   {
    "duration": 0,
    "start_time": "2022-04-22T15:06:06.568Z"
   },
   {
    "duration": 0,
    "start_time": "2022-04-22T15:06:06.570Z"
   },
   {
    "duration": 8,
    "start_time": "2022-04-22T15:07:35.280Z"
   },
   {
    "duration": 43,
    "start_time": "2022-04-22T18:19:37.942Z"
   },
   {
    "duration": 505,
    "start_time": "2022-04-22T18:19:48.069Z"
   },
   {
    "duration": 10,
    "start_time": "2022-04-22T18:19:48.575Z"
   },
   {
    "duration": 19,
    "start_time": "2022-04-22T18:19:48.586Z"
   },
   {
    "duration": 19,
    "start_time": "2022-04-22T18:19:48.607Z"
   },
   {
    "duration": 8,
    "start_time": "2022-04-22T18:19:48.627Z"
   },
   {
    "duration": 30,
    "start_time": "2022-04-22T18:19:48.636Z"
   },
   {
    "duration": 6,
    "start_time": "2022-04-22T18:19:48.667Z"
   },
   {
    "duration": 42,
    "start_time": "2022-04-22T18:19:48.675Z"
   },
   {
    "duration": 17,
    "start_time": "2022-04-22T18:19:48.719Z"
   },
   {
    "duration": 14,
    "start_time": "2022-04-22T18:19:48.738Z"
   },
   {
    "duration": 15,
    "start_time": "2022-04-22T18:19:48.754Z"
   },
   {
    "duration": 5,
    "start_time": "2022-04-22T18:19:48.770Z"
   },
   {
    "duration": 44,
    "start_time": "2022-04-22T18:19:48.776Z"
   },
   {
    "duration": 7,
    "start_time": "2022-04-22T18:19:48.821Z"
   },
   {
    "duration": 5,
    "start_time": "2022-04-22T18:19:48.829Z"
   },
   {
    "duration": 6,
    "start_time": "2022-04-22T18:19:48.835Z"
   },
   {
    "duration": 12,
    "start_time": "2022-04-22T18:19:48.842Z"
   },
   {
    "duration": 8,
    "start_time": "2022-04-22T18:19:48.855Z"
   },
   {
    "duration": 37,
    "start_time": "2022-04-22T18:19:48.864Z"
   },
   {
    "duration": 13,
    "start_time": "2022-04-22T18:19:48.903Z"
   },
   {
    "duration": 7,
    "start_time": "2022-04-22T18:19:48.918Z"
   },
   {
    "duration": 7,
    "start_time": "2022-04-22T18:19:48.926Z"
   },
   {
    "duration": 12,
    "start_time": "2022-04-22T18:19:48.934Z"
   },
   {
    "duration": 9,
    "start_time": "2022-04-22T18:19:48.948Z"
   },
   {
    "duration": 6,
    "start_time": "2022-04-22T18:19:48.958Z"
   },
   {
    "duration": 6,
    "start_time": "2022-04-22T18:19:48.966Z"
   },
   {
    "duration": 45,
    "start_time": "2022-04-22T18:19:48.973Z"
   },
   {
    "duration": 201,
    "start_time": "2022-04-22T18:19:49.020Z"
   },
   {
    "duration": 66,
    "start_time": "2022-04-22T18:22:46.930Z"
   },
   {
    "duration": 14,
    "start_time": "2022-04-22T18:23:00.036Z"
   },
   {
    "duration": 12,
    "start_time": "2022-04-22T18:23:47.362Z"
   },
   {
    "duration": 16,
    "start_time": "2022-04-22T18:24:04.690Z"
   },
   {
    "duration": 25,
    "start_time": "2022-04-22T18:26:13.437Z"
   },
   {
    "duration": 23,
    "start_time": "2022-04-22T18:26:27.313Z"
   },
   {
    "duration": 16,
    "start_time": "2022-04-22T18:26:43.931Z"
   },
   {
    "duration": 12,
    "start_time": "2022-04-22T18:36:08.773Z"
   },
   {
    "duration": 30,
    "start_time": "2022-04-22T18:36:30.341Z"
   },
   {
    "duration": 461,
    "start_time": "2022-04-22T18:36:42.624Z"
   },
   {
    "duration": 9,
    "start_time": "2022-04-22T18:36:43.087Z"
   },
   {
    "duration": 24,
    "start_time": "2022-04-22T18:36:43.097Z"
   },
   {
    "duration": 14,
    "start_time": "2022-04-22T18:36:43.123Z"
   },
   {
    "duration": 7,
    "start_time": "2022-04-22T18:36:43.139Z"
   },
   {
    "duration": 33,
    "start_time": "2022-04-22T18:36:43.147Z"
   },
   {
    "duration": 6,
    "start_time": "2022-04-22T18:36:43.181Z"
   },
   {
    "duration": 12,
    "start_time": "2022-04-22T18:36:43.208Z"
   },
   {
    "duration": 17,
    "start_time": "2022-04-22T18:36:43.221Z"
   },
   {
    "duration": 3699,
    "start_time": "2022-04-22T18:36:43.241Z"
   },
   {
    "duration": 0,
    "start_time": "2022-04-22T18:36:46.942Z"
   },
   {
    "duration": 0,
    "start_time": "2022-04-22T18:36:46.943Z"
   },
   {
    "duration": 0,
    "start_time": "2022-04-22T18:36:46.944Z"
   },
   {
    "duration": 0,
    "start_time": "2022-04-22T18:36:46.945Z"
   },
   {
    "duration": 0,
    "start_time": "2022-04-22T18:36:46.947Z"
   },
   {
    "duration": 0,
    "start_time": "2022-04-22T18:36:46.948Z"
   },
   {
    "duration": 0,
    "start_time": "2022-04-22T18:36:46.949Z"
   },
   {
    "duration": 0,
    "start_time": "2022-04-22T18:36:46.950Z"
   },
   {
    "duration": 0,
    "start_time": "2022-04-22T18:36:46.951Z"
   },
   {
    "duration": 0,
    "start_time": "2022-04-22T18:36:46.952Z"
   },
   {
    "duration": 0,
    "start_time": "2022-04-22T18:36:46.953Z"
   },
   {
    "duration": 0,
    "start_time": "2022-04-22T18:36:46.954Z"
   },
   {
    "duration": 0,
    "start_time": "2022-04-22T18:36:46.954Z"
   },
   {
    "duration": 0,
    "start_time": "2022-04-22T18:36:46.956Z"
   },
   {
    "duration": 0,
    "start_time": "2022-04-22T18:36:46.957Z"
   },
   {
    "duration": 0,
    "start_time": "2022-04-22T18:36:46.958Z"
   },
   {
    "duration": 0,
    "start_time": "2022-04-22T18:36:46.959Z"
   },
   {
    "duration": 0,
    "start_time": "2022-04-22T18:36:46.960Z"
   },
   {
    "duration": 3102,
    "start_time": "2022-04-22T18:39:29.042Z"
   },
   {
    "duration": 8,
    "start_time": "2022-04-22T18:39:50.458Z"
   },
   {
    "duration": 9,
    "start_time": "2022-04-22T18:40:32.575Z"
   },
   {
    "duration": 7,
    "start_time": "2022-04-22T18:41:23.816Z"
   },
   {
    "duration": 7,
    "start_time": "2022-04-22T18:41:54.843Z"
   },
   {
    "duration": 9,
    "start_time": "2022-04-22T18:42:29.235Z"
   },
   {
    "duration": 7,
    "start_time": "2022-04-22T18:42:40.096Z"
   },
   {
    "duration": 7,
    "start_time": "2022-04-22T18:42:48.614Z"
   },
   {
    "duration": 9,
    "start_time": "2022-04-22T18:44:44.247Z"
   },
   {
    "duration": 15,
    "start_time": "2022-04-22T18:48:05.942Z"
   },
   {
    "duration": 23,
    "start_time": "2022-04-22T18:48:22.638Z"
   },
   {
    "duration": 6,
    "start_time": "2022-04-22T18:48:28.300Z"
   },
   {
    "duration": 6,
    "start_time": "2022-04-22T18:48:44.310Z"
   },
   {
    "duration": 433,
    "start_time": "2022-04-22T18:51:07.850Z"
   },
   {
    "duration": 9,
    "start_time": "2022-04-22T18:51:08.285Z"
   },
   {
    "duration": 9,
    "start_time": "2022-04-22T18:51:08.299Z"
   },
   {
    "duration": 14,
    "start_time": "2022-04-22T18:51:08.309Z"
   },
   {
    "duration": 8,
    "start_time": "2022-04-22T18:51:08.324Z"
   },
   {
    "duration": 30,
    "start_time": "2022-04-22T18:51:08.334Z"
   },
   {
    "duration": 6,
    "start_time": "2022-04-22T18:51:08.365Z"
   },
   {
    "duration": 12,
    "start_time": "2022-04-22T18:51:08.401Z"
   },
   {
    "duration": 18,
    "start_time": "2022-04-22T18:51:08.416Z"
   },
   {
    "duration": 78,
    "start_time": "2022-04-22T18:51:08.436Z"
   },
   {
    "duration": 0,
    "start_time": "2022-04-22T18:51:08.515Z"
   },
   {
    "duration": 0,
    "start_time": "2022-04-22T18:51:08.516Z"
   },
   {
    "duration": 0,
    "start_time": "2022-04-22T18:51:08.518Z"
   },
   {
    "duration": 0,
    "start_time": "2022-04-22T18:51:08.519Z"
   },
   {
    "duration": 0,
    "start_time": "2022-04-22T18:51:08.520Z"
   },
   {
    "duration": 0,
    "start_time": "2022-04-22T18:51:08.522Z"
   },
   {
    "duration": 0,
    "start_time": "2022-04-22T18:51:08.523Z"
   },
   {
    "duration": 0,
    "start_time": "2022-04-22T18:51:08.524Z"
   },
   {
    "duration": 0,
    "start_time": "2022-04-22T18:51:08.526Z"
   },
   {
    "duration": 0,
    "start_time": "2022-04-22T18:51:08.527Z"
   },
   {
    "duration": 0,
    "start_time": "2022-04-22T18:51:08.528Z"
   },
   {
    "duration": 0,
    "start_time": "2022-04-22T18:51:08.529Z"
   },
   {
    "duration": 0,
    "start_time": "2022-04-22T18:51:08.531Z"
   },
   {
    "duration": 0,
    "start_time": "2022-04-22T18:51:08.532Z"
   },
   {
    "duration": 0,
    "start_time": "2022-04-22T18:51:08.533Z"
   },
   {
    "duration": 0,
    "start_time": "2022-04-22T18:51:08.534Z"
   },
   {
    "duration": 0,
    "start_time": "2022-04-22T18:51:08.536Z"
   },
   {
    "duration": 0,
    "start_time": "2022-04-22T18:51:08.537Z"
   },
   {
    "duration": 12,
    "start_time": "2022-04-22T18:51:47.327Z"
   },
   {
    "duration": 10,
    "start_time": "2022-04-22T18:52:21.007Z"
   },
   {
    "duration": 487,
    "start_time": "2022-04-22T18:52:41.160Z"
   },
   {
    "duration": 9,
    "start_time": "2022-04-22T18:52:41.649Z"
   },
   {
    "duration": 18,
    "start_time": "2022-04-22T18:52:41.660Z"
   },
   {
    "duration": 25,
    "start_time": "2022-04-22T18:52:41.680Z"
   },
   {
    "duration": 7,
    "start_time": "2022-04-22T18:52:41.707Z"
   },
   {
    "duration": 40,
    "start_time": "2022-04-22T18:52:41.715Z"
   },
   {
    "duration": 6,
    "start_time": "2022-04-22T18:52:41.757Z"
   },
   {
    "duration": 23,
    "start_time": "2022-04-22T18:52:41.764Z"
   },
   {
    "duration": 33,
    "start_time": "2022-04-22T18:52:41.789Z"
   },
   {
    "duration": 32,
    "start_time": "2022-04-22T18:52:41.825Z"
   },
   {
    "duration": 5,
    "start_time": "2022-04-22T18:52:41.859Z"
   },
   {
    "duration": 25,
    "start_time": "2022-04-22T18:52:41.865Z"
   },
   {
    "duration": 33,
    "start_time": "2022-04-22T18:52:41.891Z"
   },
   {
    "duration": 6,
    "start_time": "2022-04-22T18:52:41.926Z"
   },
   {
    "duration": 16,
    "start_time": "2022-04-22T18:52:41.934Z"
   },
   {
    "duration": 24,
    "start_time": "2022-04-22T18:52:41.952Z"
   },
   {
    "duration": 13,
    "start_time": "2022-04-22T18:52:41.978Z"
   },
   {
    "duration": 12,
    "start_time": "2022-04-22T18:52:41.993Z"
   },
   {
    "duration": 28,
    "start_time": "2022-04-22T18:52:42.006Z"
   },
   {
    "duration": 21,
    "start_time": "2022-04-22T18:52:42.035Z"
   },
   {
    "duration": 13,
    "start_time": "2022-04-22T18:52:42.057Z"
   },
   {
    "duration": 31,
    "start_time": "2022-04-22T18:52:42.071Z"
   },
   {
    "duration": 27,
    "start_time": "2022-04-22T18:52:42.104Z"
   },
   {
    "duration": 36,
    "start_time": "2022-04-22T18:52:42.133Z"
   },
   {
    "duration": 23,
    "start_time": "2022-04-22T18:52:42.170Z"
   },
   {
    "duration": 38,
    "start_time": "2022-04-22T18:52:42.194Z"
   },
   {
    "duration": 35,
    "start_time": "2022-04-22T18:52:42.233Z"
   },
   {
    "duration": 210,
    "start_time": "2022-04-22T18:52:42.271Z"
   },
   {
    "duration": 465,
    "start_time": "2022-04-22T18:53:19.826Z"
   },
   {
    "duration": 9,
    "start_time": "2022-04-22T18:53:20.293Z"
   },
   {
    "duration": 20,
    "start_time": "2022-04-22T18:53:20.303Z"
   },
   {
    "duration": 14,
    "start_time": "2022-04-22T18:53:20.325Z"
   },
   {
    "duration": 7,
    "start_time": "2022-04-22T18:53:20.340Z"
   },
   {
    "duration": 32,
    "start_time": "2022-04-22T18:53:20.349Z"
   },
   {
    "duration": 7,
    "start_time": "2022-04-22T18:53:20.400Z"
   },
   {
    "duration": 19,
    "start_time": "2022-04-22T18:53:20.408Z"
   },
   {
    "duration": 21,
    "start_time": "2022-04-22T18:53:20.428Z"
   },
   {
    "duration": 22,
    "start_time": "2022-04-22T18:53:20.452Z"
   },
   {
    "duration": 29,
    "start_time": "2022-04-22T18:53:20.476Z"
   },
   {
    "duration": 14,
    "start_time": "2022-04-22T18:53:20.506Z"
   },
   {
    "duration": 19,
    "start_time": "2022-04-22T18:53:20.521Z"
   },
   {
    "duration": 7,
    "start_time": "2022-04-22T18:53:20.542Z"
   },
   {
    "duration": 8,
    "start_time": "2022-04-22T18:53:20.551Z"
   },
   {
    "duration": 6,
    "start_time": "2022-04-22T18:53:20.560Z"
   },
   {
    "duration": 32,
    "start_time": "2022-04-22T18:53:20.568Z"
   },
   {
    "duration": 6,
    "start_time": "2022-04-22T18:53:20.602Z"
   },
   {
    "duration": 6,
    "start_time": "2022-04-22T18:53:20.610Z"
   },
   {
    "duration": 8,
    "start_time": "2022-04-22T18:53:20.617Z"
   },
   {
    "duration": 17,
    "start_time": "2022-04-22T18:53:20.627Z"
   },
   {
    "duration": 8,
    "start_time": "2022-04-22T18:53:20.645Z"
   },
   {
    "duration": 15,
    "start_time": "2022-04-22T18:53:20.654Z"
   },
   {
    "duration": 11,
    "start_time": "2022-04-22T18:53:20.671Z"
   },
   {
    "duration": 19,
    "start_time": "2022-04-22T18:53:20.684Z"
   },
   {
    "duration": 4,
    "start_time": "2022-04-22T18:53:20.704Z"
   },
   {
    "duration": 7,
    "start_time": "2022-04-22T18:53:20.710Z"
   },
   {
    "duration": 200,
    "start_time": "2022-04-22T18:53:20.720Z"
   },
   {
    "duration": 185,
    "start_time": "2022-04-22T18:54:20.163Z"
   },
   {
    "duration": 23,
    "start_time": "2022-04-22T18:55:25.457Z"
   },
   {
    "duration": 19,
    "start_time": "2022-04-22T18:55:54.610Z"
   },
   {
    "duration": 6,
    "start_time": "2022-04-22T18:56:22.438Z"
   },
   {
    "duration": 5,
    "start_time": "2022-04-22T18:57:49.645Z"
   },
   {
    "duration": 4,
    "start_time": "2022-04-22T18:58:08.279Z"
   },
   {
    "duration": 6,
    "start_time": "2022-04-22T19:00:24.245Z"
   },
   {
    "duration": 11,
    "start_time": "2022-04-22T19:05:08.979Z"
   },
   {
    "duration": 11,
    "start_time": "2022-04-22T19:05:11.944Z"
   },
   {
    "duration": 14,
    "start_time": "2022-04-22T19:05:16.577Z"
   },
   {
    "duration": 24,
    "start_time": "2022-04-22T19:08:08.533Z"
   },
   {
    "duration": 58,
    "start_time": "2022-04-22T19:30:05.525Z"
   },
   {
    "duration": 17,
    "start_time": "2022-04-22T19:30:10.021Z"
   },
   {
    "duration": 190,
    "start_time": "2022-04-22T19:30:18.372Z"
   },
   {
    "duration": 16,
    "start_time": "2022-04-22T19:30:25.391Z"
   },
   {
    "duration": 17,
    "start_time": "2022-04-22T19:32:30.460Z"
   },
   {
    "duration": 39,
    "start_time": "2022-04-22T19:32:47.071Z"
   },
   {
    "duration": 34,
    "start_time": "2022-04-22T19:34:58.800Z"
   },
   {
    "duration": 39,
    "start_time": "2022-04-22T19:35:30.896Z"
   },
   {
    "duration": 16,
    "start_time": "2022-04-22T19:41:16.652Z"
   },
   {
    "duration": 17,
    "start_time": "2022-04-22T19:41:41.035Z"
   },
   {
    "duration": 29,
    "start_time": "2022-04-22T19:43:36.743Z"
   },
   {
    "duration": 9,
    "start_time": "2022-04-22T19:46:50.900Z"
   },
   {
    "duration": 15,
    "start_time": "2022-04-22T19:50:59.903Z"
   },
   {
    "duration": 19,
    "start_time": "2022-04-22T19:51:08.310Z"
   },
   {
    "duration": 78,
    "start_time": "2022-04-23T08:09:25.175Z"
   },
   {
    "duration": 692,
    "start_time": "2022-04-23T08:09:33.520Z"
   },
   {
    "duration": 28,
    "start_time": "2022-04-23T08:09:34.216Z"
   },
   {
    "duration": 19,
    "start_time": "2022-04-23T08:09:34.247Z"
   },
   {
    "duration": 25,
    "start_time": "2022-04-23T08:09:34.269Z"
   },
   {
    "duration": 46,
    "start_time": "2022-04-23T08:09:34.296Z"
   },
   {
    "duration": 51,
    "start_time": "2022-04-23T08:09:34.345Z"
   },
   {
    "duration": 41,
    "start_time": "2022-04-23T08:09:34.398Z"
   },
   {
    "duration": 27,
    "start_time": "2022-04-23T08:09:34.442Z"
   },
   {
    "duration": 34,
    "start_time": "2022-04-23T08:09:34.471Z"
   },
   {
    "duration": 32,
    "start_time": "2022-04-23T08:09:34.527Z"
   },
   {
    "duration": 10,
    "start_time": "2022-04-23T08:09:34.563Z"
   },
   {
    "duration": 14,
    "start_time": "2022-04-23T08:09:34.575Z"
   },
   {
    "duration": 66,
    "start_time": "2022-04-23T08:09:34.592Z"
   },
   {
    "duration": 12,
    "start_time": "2022-04-23T08:09:34.660Z"
   },
   {
    "duration": 7,
    "start_time": "2022-04-23T08:09:34.674Z"
   },
   {
    "duration": 51,
    "start_time": "2022-04-23T08:09:34.683Z"
   },
   {
    "duration": 23,
    "start_time": "2022-04-23T08:09:34.736Z"
   },
   {
    "duration": 17,
    "start_time": "2022-04-23T08:09:34.762Z"
   },
   {
    "duration": 21,
    "start_time": "2022-04-23T08:09:34.785Z"
   },
   {
    "duration": 38,
    "start_time": "2022-04-23T08:09:34.809Z"
   },
   {
    "duration": 8,
    "start_time": "2022-04-23T08:09:34.851Z"
   },
   {
    "duration": 12,
    "start_time": "2022-04-23T08:09:34.862Z"
   },
   {
    "duration": 22,
    "start_time": "2022-04-23T08:09:34.876Z"
   },
   {
    "duration": 43,
    "start_time": "2022-04-23T08:09:34.900Z"
   },
   {
    "duration": 11,
    "start_time": "2022-04-23T08:09:34.946Z"
   },
   {
    "duration": 11,
    "start_time": "2022-04-23T08:09:34.959Z"
   },
   {
    "duration": 15,
    "start_time": "2022-04-23T08:09:34.973Z"
   },
   {
    "duration": 73,
    "start_time": "2022-04-23T08:09:34.993Z"
   },
   {
    "duration": 27,
    "start_time": "2022-04-23T08:09:35.069Z"
   },
   {
    "duration": 79,
    "start_time": "2022-04-23T08:09:35.098Z"
   },
   {
    "duration": 10,
    "start_time": "2022-04-23T08:09:35.180Z"
   },
   {
    "duration": 26,
    "start_time": "2022-04-23T08:09:35.231Z"
   },
   {
    "duration": 5,
    "start_time": "2022-04-23T08:09:35.259Z"
   },
   {
    "duration": 6,
    "start_time": "2022-04-23T08:09:38.409Z"
   },
   {
    "duration": 15,
    "start_time": "2022-04-23T08:09:46.898Z"
   },
   {
    "duration": 13,
    "start_time": "2022-04-23T08:10:17.465Z"
   },
   {
    "duration": 13,
    "start_time": "2022-04-23T08:12:33.630Z"
   },
   {
    "duration": 42,
    "start_time": "2022-04-23T08:12:50.231Z"
   },
   {
    "duration": 649,
    "start_time": "2022-04-23T08:13:18.176Z"
   },
   {
    "duration": 20,
    "start_time": "2022-04-23T08:13:18.830Z"
   },
   {
    "duration": 14,
    "start_time": "2022-04-23T08:13:18.853Z"
   },
   {
    "duration": 64,
    "start_time": "2022-04-23T08:13:18.869Z"
   },
   {
    "duration": 19,
    "start_time": "2022-04-23T08:13:18.938Z"
   },
   {
    "duration": 71,
    "start_time": "2022-04-23T08:13:18.960Z"
   },
   {
    "duration": 10,
    "start_time": "2022-04-23T08:13:19.039Z"
   },
   {
    "duration": 21,
    "start_time": "2022-04-23T08:13:19.052Z"
   },
   {
    "duration": 59,
    "start_time": "2022-04-23T08:13:19.075Z"
   },
   {
    "duration": 33,
    "start_time": "2022-04-23T08:13:19.137Z"
   },
   {
    "duration": 9,
    "start_time": "2022-04-23T08:13:19.173Z"
   },
   {
    "duration": 41,
    "start_time": "2022-04-23T08:13:19.185Z"
   },
   {
    "duration": 36,
    "start_time": "2022-04-23T08:13:19.229Z"
   },
   {
    "duration": 12,
    "start_time": "2022-04-23T08:13:19.269Z"
   },
   {
    "duration": 7,
    "start_time": "2022-04-23T08:13:19.283Z"
   },
   {
    "duration": 43,
    "start_time": "2022-04-23T08:13:19.292Z"
   },
   {
    "duration": 39,
    "start_time": "2022-04-23T08:13:19.336Z"
   },
   {
    "duration": 12,
    "start_time": "2022-04-23T08:13:19.378Z"
   },
   {
    "duration": 42,
    "start_time": "2022-04-23T08:13:19.393Z"
   },
   {
    "duration": 13,
    "start_time": "2022-04-23T08:13:19.437Z"
   },
   {
    "duration": 11,
    "start_time": "2022-04-23T08:13:19.452Z"
   },
   {
    "duration": 13,
    "start_time": "2022-04-23T08:13:19.465Z"
   },
   {
    "duration": 54,
    "start_time": "2022-04-23T08:13:19.481Z"
   },
   {
    "duration": 16,
    "start_time": "2022-04-23T08:13:19.538Z"
   },
   {
    "duration": 11,
    "start_time": "2022-04-23T08:13:19.556Z"
   },
   {
    "duration": 13,
    "start_time": "2022-04-23T08:13:19.569Z"
   },
   {
    "duration": 39,
    "start_time": "2022-04-23T08:13:19.585Z"
   },
   {
    "duration": 38,
    "start_time": "2022-04-23T08:13:19.628Z"
   },
   {
    "duration": 61,
    "start_time": "2022-04-23T08:13:19.668Z"
   },
   {
    "duration": 51,
    "start_time": "2022-04-23T08:13:19.731Z"
   },
   {
    "duration": 9,
    "start_time": "2022-04-23T08:13:19.785Z"
   },
   {
    "duration": 54,
    "start_time": "2022-04-23T08:13:19.796Z"
   },
   {
    "duration": 12,
    "start_time": "2022-04-23T08:13:19.852Z"
   },
   {
    "duration": 17,
    "start_time": "2022-04-23T08:13:19.866Z"
   },
   {
    "duration": 12,
    "start_time": "2022-04-23T08:13:58.638Z"
   },
   {
    "duration": 14,
    "start_time": "2022-04-23T08:14:01.038Z"
   },
   {
    "duration": 14,
    "start_time": "2022-04-23T08:14:15.144Z"
   },
   {
    "duration": 13,
    "start_time": "2022-04-23T08:14:21.844Z"
   },
   {
    "duration": 105,
    "start_time": "2022-04-23T08:15:42.079Z"
   },
   {
    "duration": 100,
    "start_time": "2022-04-23T08:15:47.816Z"
   },
   {
    "duration": 103,
    "start_time": "2022-04-23T08:15:57.014Z"
   },
   {
    "duration": 13,
    "start_time": "2022-04-23T08:16:17.662Z"
   },
   {
    "duration": 15,
    "start_time": "2022-04-23T08:16:48.177Z"
   },
   {
    "duration": 26,
    "start_time": "2022-04-23T08:23:08.336Z"
   },
   {
    "duration": 29,
    "start_time": "2022-04-23T08:23:16.385Z"
   },
   {
    "duration": 6,
    "start_time": "2022-04-23T08:27:22.651Z"
   },
   {
    "duration": 18,
    "start_time": "2022-04-23T08:27:29.988Z"
   },
   {
    "duration": 19,
    "start_time": "2022-04-23T08:27:42.756Z"
   },
   {
    "duration": 16,
    "start_time": "2022-04-23T08:28:25.517Z"
   },
   {
    "duration": 23,
    "start_time": "2022-04-23T08:28:28.775Z"
   },
   {
    "duration": 16,
    "start_time": "2022-04-23T08:29:05.729Z"
   },
   {
    "duration": 668,
    "start_time": "2022-04-23T08:29:27.398Z"
   },
   {
    "duration": 13,
    "start_time": "2022-04-23T08:29:28.069Z"
   },
   {
    "duration": 24,
    "start_time": "2022-04-23T08:29:28.084Z"
   },
   {
    "duration": 33,
    "start_time": "2022-04-23T08:29:28.126Z"
   },
   {
    "duration": 13,
    "start_time": "2022-04-23T08:29:28.161Z"
   },
   {
    "duration": 75,
    "start_time": "2022-04-23T08:29:28.176Z"
   },
   {
    "duration": 9,
    "start_time": "2022-04-23T08:29:28.253Z"
   },
   {
    "duration": 49,
    "start_time": "2022-04-23T08:29:28.264Z"
   },
   {
    "duration": 39,
    "start_time": "2022-04-23T08:29:28.315Z"
   },
   {
    "duration": 30,
    "start_time": "2022-04-23T08:29:28.358Z"
   },
   {
    "duration": 9,
    "start_time": "2022-04-23T08:29:28.390Z"
   },
   {
    "duration": 24,
    "start_time": "2022-04-23T08:29:28.401Z"
   },
   {
    "duration": 29,
    "start_time": "2022-04-23T08:29:28.428Z"
   },
   {
    "duration": 13,
    "start_time": "2022-04-23T08:29:28.460Z"
   },
   {
    "duration": 37,
    "start_time": "2022-04-23T08:29:28.475Z"
   },
   {
    "duration": 26,
    "start_time": "2022-04-23T08:29:28.515Z"
   },
   {
    "duration": 39,
    "start_time": "2022-04-23T08:29:28.543Z"
   },
   {
    "duration": 25,
    "start_time": "2022-04-23T08:29:28.584Z"
   },
   {
    "duration": 28,
    "start_time": "2022-04-23T08:29:28.612Z"
   },
   {
    "duration": 27,
    "start_time": "2022-04-23T08:29:28.642Z"
   },
   {
    "duration": 13,
    "start_time": "2022-04-23T08:29:28.671Z"
   },
   {
    "duration": 19,
    "start_time": "2022-04-23T08:29:28.687Z"
   },
   {
    "duration": 31,
    "start_time": "2022-04-23T08:29:28.708Z"
   },
   {
    "duration": 21,
    "start_time": "2022-04-23T08:29:28.742Z"
   },
   {
    "duration": 28,
    "start_time": "2022-04-23T08:29:28.765Z"
   },
   {
    "duration": 20,
    "start_time": "2022-04-23T08:29:28.795Z"
   },
   {
    "duration": 21,
    "start_time": "2022-04-23T08:29:28.817Z"
   },
   {
    "duration": 36,
    "start_time": "2022-04-23T08:29:28.843Z"
   },
   {
    "duration": 25,
    "start_time": "2022-04-23T08:29:28.881Z"
   },
   {
    "duration": 60,
    "start_time": "2022-04-23T08:29:28.908Z"
   },
   {
    "duration": 10,
    "start_time": "2022-04-23T08:29:28.970Z"
   },
   {
    "duration": 48,
    "start_time": "2022-04-23T08:29:28.982Z"
   },
   {
    "duration": 12,
    "start_time": "2022-04-23T08:29:29.033Z"
   },
   {
    "duration": 22,
    "start_time": "2022-04-23T08:29:29.048Z"
   },
   {
    "duration": 14,
    "start_time": "2022-04-23T08:29:29.074Z"
   },
   {
    "duration": 15,
    "start_time": "2022-04-23T08:29:29.125Z"
   },
   {
    "duration": 17,
    "start_time": "2022-04-23T08:29:29.142Z"
   },
   {
    "duration": 105,
    "start_time": "2022-04-23T08:30:05.067Z"
   },
   {
    "duration": 710,
    "start_time": "2022-04-23T08:30:18.434Z"
   },
   {
    "duration": 14,
    "start_time": "2022-04-23T08:30:19.146Z"
   },
   {
    "duration": 33,
    "start_time": "2022-04-23T08:30:19.162Z"
   },
   {
    "duration": 37,
    "start_time": "2022-04-23T08:30:19.197Z"
   },
   {
    "duration": 18,
    "start_time": "2022-04-23T08:30:19.237Z"
   },
   {
    "duration": 58,
    "start_time": "2022-04-23T08:30:19.257Z"
   },
   {
    "duration": 10,
    "start_time": "2022-04-23T08:30:19.325Z"
   },
   {
    "duration": 33,
    "start_time": "2022-04-23T08:30:19.337Z"
   },
   {
    "duration": 53,
    "start_time": "2022-04-23T08:30:19.373Z"
   },
   {
    "duration": 30,
    "start_time": "2022-04-23T08:30:19.428Z"
   },
   {
    "duration": 9,
    "start_time": "2022-04-23T08:30:19.460Z"
   },
   {
    "duration": 20,
    "start_time": "2022-04-23T08:30:19.472Z"
   },
   {
    "duration": 52,
    "start_time": "2022-04-23T08:30:19.494Z"
   },
   {
    "duration": 11,
    "start_time": "2022-04-23T08:30:19.551Z"
   },
   {
    "duration": 12,
    "start_time": "2022-04-23T08:30:19.564Z"
   },
   {
    "duration": 22,
    "start_time": "2022-04-23T08:30:19.578Z"
   },
   {
    "duration": 22,
    "start_time": "2022-04-23T08:30:19.624Z"
   },
   {
    "duration": 19,
    "start_time": "2022-04-23T08:30:19.650Z"
   },
   {
    "duration": 23,
    "start_time": "2022-04-23T08:30:19.672Z"
   },
   {
    "duration": 30,
    "start_time": "2022-04-23T08:30:19.698Z"
   },
   {
    "duration": 17,
    "start_time": "2022-04-23T08:30:19.731Z"
   },
   {
    "duration": 22,
    "start_time": "2022-04-23T08:30:19.751Z"
   },
   {
    "duration": 33,
    "start_time": "2022-04-23T08:30:19.776Z"
   },
   {
    "duration": 31,
    "start_time": "2022-04-23T08:30:19.812Z"
   },
   {
    "duration": 12,
    "start_time": "2022-04-23T08:30:19.846Z"
   },
   {
    "duration": 13,
    "start_time": "2022-04-23T08:30:19.861Z"
   },
   {
    "duration": 27,
    "start_time": "2022-04-23T08:30:19.876Z"
   },
   {
    "duration": 39,
    "start_time": "2022-04-23T08:30:19.906Z"
   },
   {
    "duration": 26,
    "start_time": "2022-04-23T08:30:19.949Z"
   },
   {
    "duration": 78,
    "start_time": "2022-04-23T08:30:19.977Z"
   },
   {
    "duration": 11,
    "start_time": "2022-04-23T08:30:20.057Z"
   },
   {
    "duration": 40,
    "start_time": "2022-04-23T08:30:20.070Z"
   },
   {
    "duration": 35,
    "start_time": "2022-04-23T08:30:20.112Z"
   },
   {
    "duration": 21,
    "start_time": "2022-04-23T08:30:20.149Z"
   },
   {
    "duration": 15,
    "start_time": "2022-04-23T08:30:20.172Z"
   },
   {
    "duration": 34,
    "start_time": "2022-04-23T08:30:20.189Z"
   },
   {
    "duration": 22,
    "start_time": "2022-04-23T08:30:20.225Z"
   },
   {
    "duration": 106,
    "start_time": "2022-04-23T08:32:14.805Z"
   },
   {
    "duration": 872,
    "start_time": "2022-04-23T08:32:27.479Z"
   },
   {
    "duration": 15,
    "start_time": "2022-04-23T08:32:28.354Z"
   },
   {
    "duration": 14,
    "start_time": "2022-04-23T08:32:28.371Z"
   },
   {
    "duration": 54,
    "start_time": "2022-04-23T08:32:28.388Z"
   },
   {
    "duration": 13,
    "start_time": "2022-04-23T08:32:28.445Z"
   },
   {
    "duration": 82,
    "start_time": "2022-04-23T08:32:28.461Z"
   },
   {
    "duration": 9,
    "start_time": "2022-04-23T08:32:28.545Z"
   },
   {
    "duration": 22,
    "start_time": "2022-04-23T08:32:28.557Z"
   },
   {
    "duration": 52,
    "start_time": "2022-04-23T08:32:28.581Z"
   },
   {
    "duration": 29,
    "start_time": "2022-04-23T08:32:28.636Z"
   },
   {
    "duration": 9,
    "start_time": "2022-04-23T08:32:28.667Z"
   },
   {
    "duration": 8,
    "start_time": "2022-04-23T08:32:28.678Z"
   },
   {
    "duration": 61,
    "start_time": "2022-04-23T08:32:28.688Z"
   },
   {
    "duration": 11,
    "start_time": "2022-04-23T08:32:28.751Z"
   },
   {
    "duration": 7,
    "start_time": "2022-04-23T08:32:28.764Z"
   },
   {
    "duration": 8,
    "start_time": "2022-04-23T08:32:28.773Z"
   },
   {
    "duration": 21,
    "start_time": "2022-04-23T08:32:28.825Z"
   },
   {
    "duration": 11,
    "start_time": "2022-04-23T08:32:28.848Z"
   },
   {
    "duration": 9,
    "start_time": "2022-04-23T08:32:28.861Z"
   },
   {
    "duration": 51,
    "start_time": "2022-04-23T08:32:28.873Z"
   },
   {
    "duration": 9,
    "start_time": "2022-04-23T08:32:28.927Z"
   },
   {
    "duration": 14,
    "start_time": "2022-04-23T08:32:28.939Z"
   },
   {
    "duration": 25,
    "start_time": "2022-04-23T08:32:28.955Z"
   },
   {
    "duration": 48,
    "start_time": "2022-04-23T08:32:28.983Z"
   },
   {
    "duration": 10,
    "start_time": "2022-04-23T08:32:29.034Z"
   },
   {
    "duration": 10,
    "start_time": "2022-04-23T08:32:29.046Z"
   },
   {
    "duration": 10,
    "start_time": "2022-04-23T08:32:29.058Z"
   },
   {
    "duration": 76,
    "start_time": "2022-04-23T08:32:29.075Z"
   },
   {
    "duration": 27,
    "start_time": "2022-04-23T08:32:29.153Z"
   },
   {
    "duration": 81,
    "start_time": "2022-04-23T08:32:29.182Z"
   },
   {
    "duration": 10,
    "start_time": "2022-04-23T08:32:29.266Z"
   },
   {
    "duration": 47,
    "start_time": "2022-04-23T08:32:29.279Z"
   },
   {
    "duration": 12,
    "start_time": "2022-04-23T08:32:29.328Z"
   },
   {
    "duration": 21,
    "start_time": "2022-04-23T08:32:29.343Z"
   },
   {
    "duration": 12,
    "start_time": "2022-04-23T08:32:29.366Z"
   },
   {
    "duration": 47,
    "start_time": "2022-04-23T08:32:29.380Z"
   },
   {
    "duration": 33,
    "start_time": "2022-04-23T08:32:29.429Z"
   },
   {
    "duration": 100,
    "start_time": "2022-04-23T08:50:12.636Z"
   },
   {
    "duration": 625,
    "start_time": "2022-04-23T08:50:27.252Z"
   },
   {
    "duration": 16,
    "start_time": "2022-04-23T08:50:27.880Z"
   },
   {
    "duration": 36,
    "start_time": "2022-04-23T08:50:27.898Z"
   },
   {
    "duration": 26,
    "start_time": "2022-04-23T08:50:27.938Z"
   },
   {
    "duration": 23,
    "start_time": "2022-04-23T08:50:27.966Z"
   },
   {
    "duration": 77,
    "start_time": "2022-04-23T08:50:27.992Z"
   },
   {
    "duration": 9,
    "start_time": "2022-04-23T08:50:28.072Z"
   },
   {
    "duration": 43,
    "start_time": "2022-04-23T08:50:28.083Z"
   },
   {
    "duration": 29,
    "start_time": "2022-04-23T08:50:28.130Z"
   },
   {
    "duration": 29,
    "start_time": "2022-04-23T08:50:28.163Z"
   },
   {
    "duration": 34,
    "start_time": "2022-04-23T08:50:28.194Z"
   },
   {
    "duration": 28,
    "start_time": "2022-04-23T08:50:28.230Z"
   },
   {
    "duration": 42,
    "start_time": "2022-04-23T08:50:28.260Z"
   },
   {
    "duration": 12,
    "start_time": "2022-04-23T08:50:28.304Z"
   },
   {
    "duration": 10,
    "start_time": "2022-04-23T08:50:28.324Z"
   },
   {
    "duration": 22,
    "start_time": "2022-04-23T08:50:28.337Z"
   },
   {
    "duration": 36,
    "start_time": "2022-04-23T08:50:28.361Z"
   },
   {
    "duration": 13,
    "start_time": "2022-04-23T08:50:28.399Z"
   },
   {
    "duration": 10,
    "start_time": "2022-04-23T08:50:28.426Z"
   },
   {
    "duration": 16,
    "start_time": "2022-04-23T08:50:28.439Z"
   },
   {
    "duration": 9,
    "start_time": "2022-04-23T08:50:28.457Z"
   },
   {
    "duration": 12,
    "start_time": "2022-04-23T08:50:28.468Z"
   },
   {
    "duration": 57,
    "start_time": "2022-04-23T08:50:28.482Z"
   },
   {
    "duration": 13,
    "start_time": "2022-04-23T08:50:28.542Z"
   },
   {
    "duration": 11,
    "start_time": "2022-04-23T08:50:28.557Z"
   },
   {
    "duration": 9,
    "start_time": "2022-04-23T08:50:28.570Z"
   },
   {
    "duration": 10,
    "start_time": "2022-04-23T08:50:28.582Z"
   },
   {
    "duration": 37,
    "start_time": "2022-04-23T08:50:28.630Z"
   },
   {
    "duration": 25,
    "start_time": "2022-04-23T08:50:28.669Z"
   },
   {
    "duration": 57,
    "start_time": "2022-04-23T08:50:28.723Z"
   },
   {
    "duration": 9,
    "start_time": "2022-04-23T08:50:28.782Z"
   },
   {
    "duration": 50,
    "start_time": "2022-04-23T08:50:28.793Z"
   },
   {
    "duration": 11,
    "start_time": "2022-04-23T08:50:28.845Z"
   },
   {
    "duration": 17,
    "start_time": "2022-04-23T08:50:28.858Z"
   },
   {
    "duration": 12,
    "start_time": "2022-04-23T08:50:28.877Z"
   },
   {
    "duration": 51,
    "start_time": "2022-04-23T08:50:28.892Z"
   },
   {
    "duration": 31,
    "start_time": "2022-04-23T08:50:28.945Z"
   },
   {
    "duration": 5,
    "start_time": "2022-04-23T08:50:28.977Z"
   },
   {
    "duration": 44,
    "start_time": "2022-04-23T08:50:28.985Z"
   },
   {
    "duration": 5,
    "start_time": "2022-04-23T08:50:45.941Z"
   },
   {
    "duration": 6,
    "start_time": "2022-04-23T08:50:54.873Z"
   },
   {
    "duration": 6,
    "start_time": "2022-04-23T08:50:59.494Z"
   },
   {
    "duration": 21,
    "start_time": "2022-04-23T08:52:34.492Z"
   },
   {
    "duration": 26,
    "start_time": "2022-04-23T08:52:41.582Z"
   },
   {
    "duration": 46,
    "start_time": "2022-04-23T08:53:57.345Z"
   },
   {
    "duration": 27,
    "start_time": "2022-04-23T08:54:08.545Z"
   },
   {
    "duration": 11,
    "start_time": "2022-04-23T08:55:57.910Z"
   },
   {
    "duration": 1498,
    "start_time": "2022-04-23T09:00:06.878Z"
   },
   {
    "duration": 4,
    "start_time": "2022-04-23T09:00:46.212Z"
   },
   {
    "duration": 4,
    "start_time": "2022-04-23T09:00:59.239Z"
   },
   {
    "duration": 8,
    "start_time": "2022-04-23T09:03:18.638Z"
   },
   {
    "duration": 7,
    "start_time": "2022-04-23T09:03:38.788Z"
   },
   {
    "duration": 8,
    "start_time": "2022-04-23T09:04:30.794Z"
   },
   {
    "duration": 9,
    "start_time": "2022-04-23T09:05:03.948Z"
   },
   {
    "duration": 8,
    "start_time": "2022-04-23T09:05:23.408Z"
   },
   {
    "duration": 8,
    "start_time": "2022-04-23T09:05:47.596Z"
   },
   {
    "duration": 133,
    "start_time": "2022-04-23T09:06:08.029Z"
   },
   {
    "duration": 10,
    "start_time": "2022-04-23T09:06:13.742Z"
   },
   {
    "duration": 6,
    "start_time": "2022-04-23T09:07:08.253Z"
   },
   {
    "duration": 9,
    "start_time": "2022-04-23T09:11:52.698Z"
   },
   {
    "duration": 145,
    "start_time": "2022-04-23T09:13:19.604Z"
   },
   {
    "duration": 105,
    "start_time": "2022-04-23T09:13:32.437Z"
   },
   {
    "duration": 11,
    "start_time": "2022-04-23T09:13:54.376Z"
   },
   {
    "duration": 10,
    "start_time": "2022-04-23T09:14:02.940Z"
   },
   {
    "duration": 669,
    "start_time": "2022-04-23T09:14:09.823Z"
   },
   {
    "duration": 36,
    "start_time": "2022-04-23T09:14:10.494Z"
   },
   {
    "duration": 30,
    "start_time": "2022-04-23T09:14:10.534Z"
   },
   {
    "duration": 29,
    "start_time": "2022-04-23T09:14:10.567Z"
   },
   {
    "duration": 45,
    "start_time": "2022-04-23T09:14:10.598Z"
   },
   {
    "duration": 98,
    "start_time": "2022-04-23T09:14:10.646Z"
   },
   {
    "duration": 11,
    "start_time": "2022-04-23T09:14:10.746Z"
   },
   {
    "duration": 24,
    "start_time": "2022-04-23T09:14:10.760Z"
   },
   {
    "duration": 66,
    "start_time": "2022-04-23T09:14:10.787Z"
   },
   {
    "duration": 33,
    "start_time": "2022-04-23T09:14:10.858Z"
   },
   {
    "duration": 9,
    "start_time": "2022-04-23T09:14:10.893Z"
   },
   {
    "duration": 8,
    "start_time": "2022-04-23T09:14:10.925Z"
   },
   {
    "duration": 40,
    "start_time": "2022-04-23T09:14:10.935Z"
   },
   {
    "duration": 48,
    "start_time": "2022-04-23T09:14:10.978Z"
   },
   {
    "duration": 9,
    "start_time": "2022-04-23T09:14:11.030Z"
   },
   {
    "duration": 15,
    "start_time": "2022-04-23T09:14:11.043Z"
   },
   {
    "duration": 21,
    "start_time": "2022-04-23T09:14:11.061Z"
   },
   {
    "duration": 12,
    "start_time": "2022-04-23T09:14:11.125Z"
   },
   {
    "duration": 21,
    "start_time": "2022-04-23T09:14:11.139Z"
   },
   {
    "duration": 15,
    "start_time": "2022-04-23T09:14:11.162Z"
   },
   {
    "duration": 24,
    "start_time": "2022-04-23T09:14:11.180Z"
   },
   {
    "duration": 32,
    "start_time": "2022-04-23T09:14:11.207Z"
   },
   {
    "duration": 29,
    "start_time": "2022-04-23T09:14:11.242Z"
   },
   {
    "duration": 19,
    "start_time": "2022-04-23T09:14:11.274Z"
   },
   {
    "duration": 47,
    "start_time": "2022-04-23T09:14:11.296Z"
   },
   {
    "duration": 10,
    "start_time": "2022-04-23T09:14:11.346Z"
   },
   {
    "duration": 15,
    "start_time": "2022-04-23T09:14:11.359Z"
   },
   {
    "duration": 68,
    "start_time": "2022-04-23T09:14:11.380Z"
   },
   {
    "duration": 25,
    "start_time": "2022-04-23T09:14:11.451Z"
   },
   {
    "duration": 70,
    "start_time": "2022-04-23T09:14:11.479Z"
   },
   {
    "duration": 9,
    "start_time": "2022-04-23T09:14:11.552Z"
   },
   {
    "duration": 28,
    "start_time": "2022-04-23T09:14:11.564Z"
   },
   {
    "duration": 39,
    "start_time": "2022-04-23T09:14:11.595Z"
   },
   {
    "duration": 16,
    "start_time": "2022-04-23T09:14:11.637Z"
   },
   {
    "duration": 103,
    "start_time": "2022-04-23T09:14:11.655Z"
   },
   {
    "duration": 23,
    "start_time": "2022-04-23T09:14:11.760Z"
   },
   {
    "duration": 43,
    "start_time": "2022-04-23T09:14:11.786Z"
   },
   {
    "duration": 7,
    "start_time": "2022-04-23T09:14:11.831Z"
   },
   {
    "duration": 29,
    "start_time": "2022-04-23T09:14:11.841Z"
   },
   {
    "duration": 32,
    "start_time": "2022-04-23T09:14:11.873Z"
   },
   {
    "duration": 27,
    "start_time": "2022-04-23T09:14:11.908Z"
   },
   {
    "duration": 1861,
    "start_time": "2022-04-23T09:14:11.939Z"
   },
   {
    "duration": 24,
    "start_time": "2022-04-23T09:14:55.844Z"
   },
   {
    "duration": 116,
    "start_time": "2022-04-23T09:16:43.881Z"
   },
   {
    "duration": 10,
    "start_time": "2022-04-23T09:16:47.875Z"
   },
   {
    "duration": 11,
    "start_time": "2022-04-23T09:17:09.982Z"
   },
   {
    "duration": 11,
    "start_time": "2022-04-23T09:18:00.043Z"
   },
   {
    "duration": 21,
    "start_time": "2022-04-23T09:18:21.044Z"
   },
   {
    "duration": 25,
    "start_time": "2022-04-23T09:19:27.098Z"
   },
   {
    "duration": 11,
    "start_time": "2022-04-23T09:19:36.341Z"
   },
   {
    "duration": 273,
    "start_time": "2022-04-23T09:32:55.877Z"
   },
   {
    "duration": 622,
    "start_time": "2022-04-23T09:33:18.621Z"
   },
   {
    "duration": 13,
    "start_time": "2022-04-23T09:33:19.245Z"
   },
   {
    "duration": 15,
    "start_time": "2022-04-23T09:33:19.260Z"
   },
   {
    "duration": 49,
    "start_time": "2022-04-23T09:33:19.278Z"
   },
   {
    "duration": 12,
    "start_time": "2022-04-23T09:33:19.329Z"
   },
   {
    "duration": 49,
    "start_time": "2022-04-23T09:33:19.343Z"
   },
   {
    "duration": 35,
    "start_time": "2022-04-23T09:33:19.394Z"
   },
   {
    "duration": 24,
    "start_time": "2022-04-23T09:33:19.432Z"
   },
   {
    "duration": 28,
    "start_time": "2022-04-23T09:33:19.459Z"
   },
   {
    "duration": 31,
    "start_time": "2022-04-23T09:33:19.525Z"
   },
   {
    "duration": 10,
    "start_time": "2022-04-23T09:33:19.559Z"
   },
   {
    "duration": 10,
    "start_time": "2022-04-23T09:33:19.572Z"
   },
   {
    "duration": 62,
    "start_time": "2022-04-23T09:33:19.585Z"
   },
   {
    "duration": 14,
    "start_time": "2022-04-23T09:33:19.649Z"
   },
   {
    "duration": 8,
    "start_time": "2022-04-23T09:33:19.665Z"
   },
   {
    "duration": 52,
    "start_time": "2022-04-23T09:33:19.676Z"
   },
   {
    "duration": 22,
    "start_time": "2022-04-23T09:33:19.731Z"
   },
   {
    "duration": 11,
    "start_time": "2022-04-23T09:33:19.756Z"
   },
   {
    "duration": 15,
    "start_time": "2022-04-23T09:33:19.770Z"
   },
   {
    "duration": 42,
    "start_time": "2022-04-23T09:33:19.787Z"
   },
   {
    "duration": 9,
    "start_time": "2022-04-23T09:33:19.831Z"
   },
   {
    "duration": 12,
    "start_time": "2022-04-23T09:33:19.842Z"
   },
   {
    "duration": 20,
    "start_time": "2022-04-23T09:33:19.856Z"
   },
   {
    "duration": 13,
    "start_time": "2022-04-23T09:33:19.878Z"
   },
   {
    "duration": 10,
    "start_time": "2022-04-23T09:33:19.925Z"
   },
   {
    "duration": 9,
    "start_time": "2022-04-23T09:33:19.938Z"
   },
   {
    "duration": 10,
    "start_time": "2022-04-23T09:33:19.950Z"
   },
   {
    "duration": 70,
    "start_time": "2022-04-23T09:33:19.965Z"
   },
   {
    "duration": 24,
    "start_time": "2022-04-23T09:33:20.038Z"
   },
   {
    "duration": 67,
    "start_time": "2022-04-23T09:33:20.064Z"
   },
   {
    "duration": 10,
    "start_time": "2022-04-23T09:33:20.133Z"
   },
   {
    "duration": 32,
    "start_time": "2022-04-23T09:33:20.145Z"
   },
   {
    "duration": 11,
    "start_time": "2022-04-23T09:33:20.179Z"
   },
   {
    "duration": 40,
    "start_time": "2022-04-23T09:33:20.192Z"
   },
   {
    "duration": 11,
    "start_time": "2022-04-23T09:33:20.234Z"
   },
   {
    "duration": 18,
    "start_time": "2022-04-23T09:33:20.247Z"
   },
   {
    "duration": 59,
    "start_time": "2022-04-23T09:33:20.268Z"
   },
   {
    "duration": 5,
    "start_time": "2022-04-23T09:33:20.329Z"
   },
   {
    "duration": 14,
    "start_time": "2022-04-23T09:33:20.336Z"
   },
   {
    "duration": 28,
    "start_time": "2022-04-23T09:33:20.352Z"
   },
   {
    "duration": 12,
    "start_time": "2022-04-23T09:33:20.382Z"
   },
   {
    "duration": 108,
    "start_time": "2022-04-23T09:33:20.425Z"
   },
   {
    "duration": 991,
    "start_time": "2022-04-23T09:33:49.219Z"
   },
   {
    "duration": 5193,
    "start_time": "2022-04-23T09:35:18.157Z"
   },
   {
    "duration": 4921,
    "start_time": "2022-04-23T09:35:30.581Z"
   },
   {
    "duration": 4608,
    "start_time": "2022-04-23T09:41:24.164Z"
   },
   {
    "duration": 661,
    "start_time": "2022-04-23T09:41:48.993Z"
   },
   {
    "duration": 15,
    "start_time": "2022-04-23T09:41:49.657Z"
   },
   {
    "duration": 17,
    "start_time": "2022-04-23T09:41:49.674Z"
   },
   {
    "duration": 55,
    "start_time": "2022-04-23T09:41:49.694Z"
   },
   {
    "duration": 12,
    "start_time": "2022-04-23T09:41:49.752Z"
   },
   {
    "duration": 77,
    "start_time": "2022-04-23T09:41:49.767Z"
   },
   {
    "duration": 9,
    "start_time": "2022-04-23T09:41:49.846Z"
   },
   {
    "duration": 26,
    "start_time": "2022-04-23T09:41:49.857Z"
   },
   {
    "duration": 48,
    "start_time": "2022-04-23T09:41:49.885Z"
   },
   {
    "duration": 30,
    "start_time": "2022-04-23T09:41:49.935Z"
   },
   {
    "duration": 9,
    "start_time": "2022-04-23T09:41:49.967Z"
   },
   {
    "duration": 10,
    "start_time": "2022-04-23T09:41:49.978Z"
   },
   {
    "duration": 59,
    "start_time": "2022-04-23T09:41:49.990Z"
   },
   {
    "duration": 13,
    "start_time": "2022-04-23T09:41:50.053Z"
   },
   {
    "duration": 8,
    "start_time": "2022-04-23T09:41:50.068Z"
   },
   {
    "duration": 48,
    "start_time": "2022-04-23T09:41:50.078Z"
   },
   {
    "duration": 23,
    "start_time": "2022-04-23T09:41:50.128Z"
   },
   {
    "duration": 12,
    "start_time": "2022-04-23T09:41:50.153Z"
   },
   {
    "duration": 8,
    "start_time": "2022-04-23T09:41:50.167Z"
   },
   {
    "duration": 9,
    "start_time": "2022-04-23T09:41:50.178Z"
   },
   {
    "duration": 8,
    "start_time": "2022-04-23T09:41:50.225Z"
   },
   {
    "duration": 15,
    "start_time": "2022-04-23T09:41:50.235Z"
   },
   {
    "duration": 30,
    "start_time": "2022-04-23T09:41:50.252Z"
   },
   {
    "duration": 29,
    "start_time": "2022-04-23T09:41:50.284Z"
   },
   {
    "duration": 11,
    "start_time": "2022-04-23T09:41:50.323Z"
   },
   {
    "duration": 9,
    "start_time": "2022-04-23T09:41:50.336Z"
   },
   {
    "duration": 12,
    "start_time": "2022-04-23T09:41:50.347Z"
   },
   {
    "duration": 65,
    "start_time": "2022-04-23T09:41:50.361Z"
   },
   {
    "duration": 25,
    "start_time": "2022-04-23T09:41:50.428Z"
   },
   {
    "duration": 72,
    "start_time": "2022-04-23T09:41:50.455Z"
   },
   {
    "duration": 10,
    "start_time": "2022-04-23T09:41:50.529Z"
   },
   {
    "duration": 24,
    "start_time": "2022-04-23T09:41:50.541Z"
   },
   {
    "duration": 12,
    "start_time": "2022-04-23T09:41:50.567Z"
   },
   {
    "duration": 51,
    "start_time": "2022-04-23T09:41:50.581Z"
   },
   {
    "duration": 11,
    "start_time": "2022-04-23T09:41:50.634Z"
   },
   {
    "duration": 21,
    "start_time": "2022-04-23T09:41:50.647Z"
   },
   {
    "duration": 57,
    "start_time": "2022-04-23T09:41:50.670Z"
   },
   {
    "duration": 7,
    "start_time": "2022-04-23T09:41:50.730Z"
   },
   {
    "duration": 18,
    "start_time": "2022-04-23T09:41:50.739Z"
   },
   {
    "duration": 35,
    "start_time": "2022-04-23T09:41:50.760Z"
   },
   {
    "duration": 31,
    "start_time": "2022-04-23T09:41:50.802Z"
   },
   {
    "duration": 1052,
    "start_time": "2022-04-23T09:41:50.836Z"
   },
   {
    "duration": 968,
    "start_time": "2022-04-23T09:42:32.576Z"
   },
   {
    "duration": 4841,
    "start_time": "2022-04-23T09:42:48.446Z"
   },
   {
    "duration": 4857,
    "start_time": "2022-04-23T09:43:01.786Z"
   },
   {
    "duration": 4602,
    "start_time": "2022-04-23T09:45:10.460Z"
   },
   {
    "duration": 597,
    "start_time": "2022-04-23T09:45:34.768Z"
   },
   {
    "duration": 14,
    "start_time": "2022-04-23T09:45:35.369Z"
   },
   {
    "duration": 40,
    "start_time": "2022-04-23T09:45:35.386Z"
   },
   {
    "duration": 26,
    "start_time": "2022-04-23T09:45:35.431Z"
   },
   {
    "duration": 21,
    "start_time": "2022-04-23T09:45:35.460Z"
   },
   {
    "duration": 80,
    "start_time": "2022-04-23T09:45:35.484Z"
   },
   {
    "duration": 11,
    "start_time": "2022-04-23T09:45:35.567Z"
   },
   {
    "duration": 46,
    "start_time": "2022-04-23T09:45:35.581Z"
   },
   {
    "duration": 29,
    "start_time": "2022-04-23T09:45:35.629Z"
   },
   {
    "duration": 31,
    "start_time": "2022-04-23T09:45:35.664Z"
   },
   {
    "duration": 10,
    "start_time": "2022-04-23T09:45:35.726Z"
   },
   {
    "duration": 10,
    "start_time": "2022-04-23T09:45:35.739Z"
   },
   {
    "duration": 27,
    "start_time": "2022-04-23T09:45:35.752Z"
   },
   {
    "duration": 50,
    "start_time": "2022-04-23T09:45:35.782Z"
   },
   {
    "duration": 8,
    "start_time": "2022-04-23T09:45:35.834Z"
   },
   {
    "duration": 14,
    "start_time": "2022-04-23T09:45:35.845Z"
   },
   {
    "duration": 28,
    "start_time": "2022-04-23T09:45:35.861Z"
   },
   {
    "duration": 42,
    "start_time": "2022-04-23T09:45:35.892Z"
   },
   {
    "duration": 11,
    "start_time": "2022-04-23T09:45:35.937Z"
   },
   {
    "duration": 16,
    "start_time": "2022-04-23T09:45:35.951Z"
   },
   {
    "duration": 9,
    "start_time": "2022-04-23T09:45:35.970Z"
   },
   {
    "duration": 48,
    "start_time": "2022-04-23T09:45:35.981Z"
   },
   {
    "duration": 29,
    "start_time": "2022-04-23T09:45:36.032Z"
   },
   {
    "duration": 21,
    "start_time": "2022-04-23T09:45:36.063Z"
   },
   {
    "duration": 10,
    "start_time": "2022-04-23T09:45:36.086Z"
   },
   {
    "duration": 28,
    "start_time": "2022-04-23T09:45:36.098Z"
   },
   {
    "duration": 10,
    "start_time": "2022-04-23T09:45:36.128Z"
   },
   {
    "duration": 34,
    "start_time": "2022-04-23T09:45:36.146Z"
   },
   {
    "duration": 64,
    "start_time": "2022-04-23T09:45:36.182Z"
   },
   {
    "duration": 50,
    "start_time": "2022-04-23T09:45:36.248Z"
   },
   {
    "duration": 31,
    "start_time": "2022-04-23T09:45:36.300Z"
   },
   {
    "duration": 46,
    "start_time": "2022-04-23T09:45:36.334Z"
   },
   {
    "duration": 18,
    "start_time": "2022-04-23T09:45:36.382Z"
   },
   {
    "duration": 27,
    "start_time": "2022-04-23T09:45:36.402Z"
   },
   {
    "duration": 11,
    "start_time": "2022-04-23T09:45:36.431Z"
   },
   {
    "duration": 18,
    "start_time": "2022-04-23T09:45:36.444Z"
   },
   {
    "duration": 31,
    "start_time": "2022-04-23T09:45:36.464Z"
   },
   {
    "duration": 5,
    "start_time": "2022-04-23T09:45:36.525Z"
   },
   {
    "duration": 14,
    "start_time": "2022-04-23T09:45:36.532Z"
   },
   {
    "duration": 31,
    "start_time": "2022-04-23T09:45:36.548Z"
   },
   {
    "duration": 10,
    "start_time": "2022-04-23T09:45:36.581Z"
   },
   {
    "duration": 4757,
    "start_time": "2022-04-23T09:45:36.593Z"
   },
   {
    "duration": 14524,
    "start_time": "2022-04-23T09:50:20.106Z"
   },
   {
    "duration": 12295,
    "start_time": "2022-04-23T09:55:53.579Z"
   },
   {
    "duration": 5177,
    "start_time": "2022-04-23T09:56:16.163Z"
   },
   {
    "duration": 4840,
    "start_time": "2022-04-23T09:58:02.766Z"
   },
   {
    "duration": 4674,
    "start_time": "2022-04-23T10:00:37.499Z"
   },
   {
    "duration": 3779,
    "start_time": "2022-04-23T10:01:42.073Z"
   },
   {
    "duration": 119,
    "start_time": "2022-04-23T10:04:39.354Z"
   },
   {
    "duration": 916,
    "start_time": "2022-04-23T10:06:00.803Z"
   },
   {
    "duration": 11959,
    "start_time": "2022-04-23T10:09:32.198Z"
   },
   {
    "duration": 4646,
    "start_time": "2022-04-23T10:10:03.394Z"
   },
   {
    "duration": 12276,
    "start_time": "2022-04-23T10:10:41.179Z"
   },
   {
    "duration": 16527,
    "start_time": "2022-04-23T10:13:39.326Z"
   },
   {
    "duration": 5502,
    "start_time": "2022-04-23T10:19:13.536Z"
   },
   {
    "duration": 673,
    "start_time": "2022-04-23T10:19:36.890Z"
   },
   {
    "duration": 14,
    "start_time": "2022-04-23T10:19:37.565Z"
   },
   {
    "duration": 42,
    "start_time": "2022-04-23T10:19:37.582Z"
   },
   {
    "duration": 26,
    "start_time": "2022-04-23T10:19:37.627Z"
   },
   {
    "duration": 12,
    "start_time": "2022-04-23T10:19:37.655Z"
   },
   {
    "duration": 78,
    "start_time": "2022-04-23T10:19:37.669Z"
   },
   {
    "duration": 9,
    "start_time": "2022-04-23T10:19:37.749Z"
   },
   {
    "duration": 25,
    "start_time": "2022-04-23T10:19:37.760Z"
   },
   {
    "duration": 54,
    "start_time": "2022-04-23T10:19:37.788Z"
   },
   {
    "duration": 30,
    "start_time": "2022-04-23T10:19:37.846Z"
   },
   {
    "duration": 10,
    "start_time": "2022-04-23T10:19:37.878Z"
   },
   {
    "duration": 39,
    "start_time": "2022-04-23T10:19:37.890Z"
   },
   {
    "duration": 30,
    "start_time": "2022-04-23T10:19:37.931Z"
   },
   {
    "duration": 12,
    "start_time": "2022-04-23T10:19:37.963Z"
   },
   {
    "duration": 7,
    "start_time": "2022-04-23T10:19:37.977Z"
   },
   {
    "duration": 39,
    "start_time": "2022-04-23T10:19:37.987Z"
   },
   {
    "duration": 25,
    "start_time": "2022-04-23T10:19:38.029Z"
   },
   {
    "duration": 14,
    "start_time": "2022-04-23T10:19:38.056Z"
   },
   {
    "duration": 9,
    "start_time": "2022-04-23T10:19:38.073Z"
   },
   {
    "duration": 45,
    "start_time": "2022-04-23T10:19:38.084Z"
   },
   {
    "duration": 9,
    "start_time": "2022-04-23T10:19:38.131Z"
   },
   {
    "duration": 12,
    "start_time": "2022-04-23T10:19:38.143Z"
   },
   {
    "duration": 19,
    "start_time": "2022-04-23T10:19:38.157Z"
   },
   {
    "duration": 52,
    "start_time": "2022-04-23T10:19:38.179Z"
   },
   {
    "duration": 10,
    "start_time": "2022-04-23T10:19:38.233Z"
   },
   {
    "duration": 8,
    "start_time": "2022-04-23T10:19:38.246Z"
   },
   {
    "duration": 14,
    "start_time": "2022-04-23T10:19:38.257Z"
   },
   {
    "duration": 71,
    "start_time": "2022-04-23T10:19:38.277Z"
   },
   {
    "duration": 25,
    "start_time": "2022-04-23T10:19:38.350Z"
   },
   {
    "duration": 69,
    "start_time": "2022-04-23T10:19:38.377Z"
   },
   {
    "duration": 10,
    "start_time": "2022-04-23T10:19:38.448Z"
   },
   {
    "duration": 25,
    "start_time": "2022-04-23T10:19:38.460Z"
   },
   {
    "duration": 39,
    "start_time": "2022-04-23T10:19:38.487Z"
   },
   {
    "duration": 20,
    "start_time": "2022-04-23T10:19:38.528Z"
   },
   {
    "duration": 12,
    "start_time": "2022-04-23T10:19:38.550Z"
   },
   {
    "duration": 17,
    "start_time": "2022-04-23T10:19:38.564Z"
   },
   {
    "duration": 68,
    "start_time": "2022-04-23T10:19:38.583Z"
   },
   {
    "duration": 8,
    "start_time": "2022-04-23T10:19:38.653Z"
   },
   {
    "duration": 9,
    "start_time": "2022-04-23T10:19:38.664Z"
   },
   {
    "duration": 61,
    "start_time": "2022-04-23T10:19:38.675Z"
   },
   {
    "duration": 12,
    "start_time": "2022-04-23T10:19:38.738Z"
   },
   {
    "duration": 4541,
    "start_time": "2022-04-23T10:19:38.752Z"
   },
   {
    "duration": 12567,
    "start_time": "2022-04-23T10:20:57.508Z"
   },
   {
    "duration": 5112,
    "start_time": "2022-04-23T10:22:13.270Z"
   },
   {
    "duration": 4833,
    "start_time": "2022-04-23T10:29:12.768Z"
   },
   {
    "duration": 4970,
    "start_time": "2022-04-23T10:29:30.266Z"
   },
   {
    "duration": 180,
    "start_time": "2022-04-23T10:30:06.859Z"
   },
   {
    "duration": 12801,
    "start_time": "2022-04-23T10:30:16.656Z"
   },
   {
    "duration": 675,
    "start_time": "2022-04-23T10:31:24.742Z"
   },
   {
    "duration": 25,
    "start_time": "2022-04-23T10:31:25.420Z"
   },
   {
    "duration": 29,
    "start_time": "2022-04-23T10:31:25.448Z"
   },
   {
    "duration": 34,
    "start_time": "2022-04-23T10:31:25.480Z"
   },
   {
    "duration": 32,
    "start_time": "2022-04-23T10:31:25.526Z"
   },
   {
    "duration": 53,
    "start_time": "2022-04-23T10:31:25.561Z"
   },
   {
    "duration": 24,
    "start_time": "2022-04-23T10:31:25.617Z"
   },
   {
    "duration": 33,
    "start_time": "2022-04-23T10:31:25.643Z"
   },
   {
    "duration": 51,
    "start_time": "2022-04-23T10:31:25.679Z"
   },
   {
    "duration": 33,
    "start_time": "2022-04-23T10:31:25.733Z"
   },
   {
    "duration": 31,
    "start_time": "2022-04-23T10:31:25.768Z"
   },
   {
    "duration": 37,
    "start_time": "2022-04-23T10:31:25.801Z"
   },
   {
    "duration": 60,
    "start_time": "2022-04-23T10:31:25.841Z"
   },
   {
    "duration": 21,
    "start_time": "2022-04-23T10:31:25.906Z"
   },
   {
    "duration": 22,
    "start_time": "2022-04-23T10:31:25.930Z"
   },
   {
    "duration": 37,
    "start_time": "2022-04-23T10:31:25.954Z"
   },
   {
    "duration": 30,
    "start_time": "2022-04-23T10:31:25.993Z"
   },
   {
    "duration": 25,
    "start_time": "2022-04-23T10:31:26.026Z"
   },
   {
    "duration": 23,
    "start_time": "2022-04-23T10:31:26.055Z"
   },
   {
    "duration": 15,
    "start_time": "2022-04-23T10:31:26.081Z"
   },
   {
    "duration": 25,
    "start_time": "2022-04-23T10:31:26.099Z"
   },
   {
    "duration": 25,
    "start_time": "2022-04-23T10:31:26.130Z"
   },
   {
    "duration": 33,
    "start_time": "2022-04-23T10:31:26.157Z"
   },
   {
    "duration": 37,
    "start_time": "2022-04-23T10:31:26.193Z"
   },
   {
    "duration": 16,
    "start_time": "2022-04-23T10:31:26.234Z"
   },
   {
    "duration": 30,
    "start_time": "2022-04-23T10:31:26.253Z"
   },
   {
    "duration": 19,
    "start_time": "2022-04-23T10:31:26.286Z"
   },
   {
    "duration": 55,
    "start_time": "2022-04-23T10:31:26.308Z"
   },
   {
    "duration": 27,
    "start_time": "2022-04-23T10:31:26.366Z"
   },
   {
    "duration": 69,
    "start_time": "2022-04-23T10:31:26.395Z"
   },
   {
    "duration": 9,
    "start_time": "2022-04-23T10:31:26.467Z"
   },
   {
    "duration": 36,
    "start_time": "2022-04-23T10:31:26.479Z"
   },
   {
    "duration": 32,
    "start_time": "2022-04-23T10:31:26.524Z"
   },
   {
    "duration": 40,
    "start_time": "2022-04-23T10:31:26.558Z"
   },
   {
    "duration": 27,
    "start_time": "2022-04-23T10:31:26.601Z"
   },
   {
    "duration": 38,
    "start_time": "2022-04-23T10:31:26.632Z"
   },
   {
    "duration": 47,
    "start_time": "2022-04-23T10:31:26.673Z"
   },
   {
    "duration": 15,
    "start_time": "2022-04-23T10:31:26.722Z"
   },
   {
    "duration": 30,
    "start_time": "2022-04-23T10:31:26.739Z"
   },
   {
    "duration": 68,
    "start_time": "2022-04-23T10:31:26.771Z"
   },
   {
    "duration": 9,
    "start_time": "2022-04-23T10:31:26.845Z"
   },
   {
    "duration": 5279,
    "start_time": "2022-04-23T10:31:26.856Z"
   },
   {
    "duration": 5067,
    "start_time": "2022-04-23T10:31:49.579Z"
   },
   {
    "duration": 4891,
    "start_time": "2022-04-23T10:31:58.725Z"
   },
   {
    "duration": 5160,
    "start_time": "2022-04-23T10:36:03.913Z"
   },
   {
    "duration": 1714,
    "start_time": "2022-04-23T10:37:00.691Z"
   },
   {
    "duration": 1504,
    "start_time": "2022-04-23T10:38:15.216Z"
   },
   {
    "duration": 5297,
    "start_time": "2022-04-23T10:40:56.960Z"
   },
   {
    "duration": 13391,
    "start_time": "2022-04-23T10:41:17.706Z"
   },
   {
    "duration": 17804,
    "start_time": "2022-04-23T10:41:35.247Z"
   },
   {
    "duration": 5129,
    "start_time": "2022-04-23T10:46:45.021Z"
   },
   {
    "duration": 5190,
    "start_time": "2022-04-23T10:47:13.286Z"
   },
   {
    "duration": 5063,
    "start_time": "2022-04-23T10:47:34.907Z"
   },
   {
    "duration": 5116,
    "start_time": "2022-04-23T10:48:11.292Z"
   },
   {
    "duration": 5362,
    "start_time": "2022-04-23T10:49:22.152Z"
   },
   {
    "duration": 9,
    "start_time": "2022-04-23T10:49:37.663Z"
   },
   {
    "duration": 5,
    "start_time": "2022-04-23T10:54:15.386Z"
   },
   {
    "duration": 34,
    "start_time": "2022-04-23T10:59:36.018Z"
   },
   {
    "duration": 27,
    "start_time": "2022-04-23T10:59:45.495Z"
   },
   {
    "duration": 49,
    "start_time": "2022-04-23T11:00:11.038Z"
   },
   {
    "duration": 40,
    "start_time": "2022-04-23T11:01:10.838Z"
   },
   {
    "duration": 43,
    "start_time": "2022-04-23T11:01:22.020Z"
   },
   {
    "duration": 27,
    "start_time": "2022-04-23T11:02:01.146Z"
   },
   {
    "duration": 28,
    "start_time": "2022-04-23T11:02:18.927Z"
   },
   {
    "duration": 27,
    "start_time": "2022-04-23T11:02:26.338Z"
   },
   {
    "duration": 16,
    "start_time": "2022-04-23T11:11:06.039Z"
   },
   {
    "duration": 16,
    "start_time": "2022-04-23T11:11:53.196Z"
   },
   {
    "duration": 16,
    "start_time": "2022-04-23T11:12:09.338Z"
   },
   {
    "duration": 10,
    "start_time": "2022-04-23T11:14:49.660Z"
   },
   {
    "duration": 21,
    "start_time": "2022-04-23T11:15:03.840Z"
   },
   {
    "duration": 31,
    "start_time": "2022-04-23T11:15:14.030Z"
   },
   {
    "duration": 10,
    "start_time": "2022-04-23T11:18:42.472Z"
   },
   {
    "duration": 11,
    "start_time": "2022-04-23T11:22:20.538Z"
   },
   {
    "duration": 20,
    "start_time": "2022-04-23T11:22:28.237Z"
   },
   {
    "duration": 24,
    "start_time": "2022-04-23T11:23:05.606Z"
   },
   {
    "duration": 20,
    "start_time": "2022-04-23T11:24:15.940Z"
   },
   {
    "duration": 30,
    "start_time": "2022-04-23T11:24:22.309Z"
   },
   {
    "duration": 32,
    "start_time": "2022-04-23T11:25:41.763Z"
   },
   {
    "duration": 21,
    "start_time": "2022-04-23T11:25:45.996Z"
   },
   {
    "duration": 20,
    "start_time": "2022-04-23T11:26:37.138Z"
   },
   {
    "duration": 14,
    "start_time": "2022-04-23T11:26:46.057Z"
   },
   {
    "duration": 24,
    "start_time": "2022-04-23T11:26:55.438Z"
   },
   {
    "duration": 35,
    "start_time": "2022-04-23T11:27:04.620Z"
   },
   {
    "duration": 1102,
    "start_time": "2022-04-23T11:28:39.095Z"
   },
   {
    "duration": 2052,
    "start_time": "2022-04-23T11:29:16.526Z"
   },
   {
    "duration": 1843,
    "start_time": "2022-04-23T11:30:08.469Z"
   },
   {
    "duration": 26,
    "start_time": "2022-04-23T11:30:19.753Z"
   },
   {
    "duration": 13,
    "start_time": "2022-04-23T11:47:01.038Z"
   },
   {
    "duration": 12,
    "start_time": "2022-04-23T11:47:10.680Z"
   },
   {
    "duration": 11,
    "start_time": "2022-04-23T11:47:28.516Z"
   },
   {
    "duration": 31,
    "start_time": "2022-04-23T11:49:14.721Z"
   },
   {
    "duration": 44,
    "start_time": "2022-04-23T11:49:28.311Z"
   },
   {
    "duration": 12,
    "start_time": "2022-04-23T11:50:25.703Z"
   },
   {
    "duration": 16,
    "start_time": "2022-04-23T11:50:43.423Z"
   },
   {
    "duration": 12,
    "start_time": "2022-04-23T11:50:48.696Z"
   },
   {
    "duration": 27,
    "start_time": "2022-04-23T11:52:47.004Z"
   },
   {
    "duration": 8,
    "start_time": "2022-04-23T11:54:53.763Z"
   },
   {
    "duration": 10,
    "start_time": "2022-04-23T11:56:10.016Z"
   },
   {
    "duration": 10,
    "start_time": "2022-04-23T11:57:26.010Z"
   },
   {
    "duration": 10,
    "start_time": "2022-04-23T11:57:35.927Z"
   },
   {
    "duration": 9,
    "start_time": "2022-04-23T11:58:30.911Z"
   },
   {
    "duration": 11,
    "start_time": "2022-04-23T11:58:41.613Z"
   },
   {
    "duration": 11,
    "start_time": "2022-04-23T11:58:50.153Z"
   },
   {
    "duration": 5,
    "start_time": "2022-04-23T12:19:44.183Z"
   },
   {
    "duration": 19,
    "start_time": "2022-04-23T12:20:10.512Z"
   },
   {
    "duration": 667,
    "start_time": "2022-04-23T12:20:37.038Z"
   },
   {
    "duration": 22,
    "start_time": "2022-04-23T12:20:37.708Z"
   },
   {
    "duration": 16,
    "start_time": "2022-04-23T12:20:37.732Z"
   },
   {
    "duration": 26,
    "start_time": "2022-04-23T12:20:37.751Z"
   },
   {
    "duration": 12,
    "start_time": "2022-04-23T12:20:37.779Z"
   },
   {
    "duration": 53,
    "start_time": "2022-04-23T12:20:37.825Z"
   },
   {
    "duration": 10,
    "start_time": "2022-04-23T12:20:37.880Z"
   },
   {
    "duration": 47,
    "start_time": "2022-04-23T12:20:37.892Z"
   },
   {
    "duration": 29,
    "start_time": "2022-04-23T12:20:37.941Z"
   },
   {
    "duration": 56,
    "start_time": "2022-04-23T12:20:37.973Z"
   },
   {
    "duration": 10,
    "start_time": "2022-04-23T12:20:38.031Z"
   },
   {
    "duration": 8,
    "start_time": "2022-04-23T12:20:38.044Z"
   },
   {
    "duration": 32,
    "start_time": "2022-04-23T12:20:38.055Z"
   },
   {
    "duration": 45,
    "start_time": "2022-04-23T12:20:38.089Z"
   },
   {
    "duration": 7,
    "start_time": "2022-04-23T12:20:38.137Z"
   },
   {
    "duration": 9,
    "start_time": "2022-04-23T12:20:38.146Z"
   },
   {
    "duration": 22,
    "start_time": "2022-04-23T12:20:38.157Z"
   },
   {
    "duration": 48,
    "start_time": "2022-04-23T12:20:38.181Z"
   },
   {
    "duration": 9,
    "start_time": "2022-04-23T12:20:38.231Z"
   },
   {
    "duration": 12,
    "start_time": "2022-04-23T12:20:38.242Z"
   },
   {
    "duration": 9,
    "start_time": "2022-04-23T12:20:38.256Z"
   },
   {
    "duration": 9,
    "start_time": "2022-04-23T12:20:38.267Z"
   },
   {
    "duration": 64,
    "start_time": "2022-04-23T12:20:38.278Z"
   },
   {
    "duration": 15,
    "start_time": "2022-04-23T12:20:38.344Z"
   },
   {
    "duration": 10,
    "start_time": "2022-04-23T12:20:38.361Z"
   },
   {
    "duration": 11,
    "start_time": "2022-04-23T12:20:38.374Z"
   },
   {
    "duration": 43,
    "start_time": "2022-04-23T12:20:38.387Z"
   },
   {
    "duration": 34,
    "start_time": "2022-04-23T12:20:38.435Z"
   },
   {
    "duration": 58,
    "start_time": "2022-04-23T12:20:38.471Z"
   },
   {
    "duration": 48,
    "start_time": "2022-04-23T12:20:38.531Z"
   },
   {
    "duration": 10,
    "start_time": "2022-04-23T12:20:38.581Z"
   },
   {
    "duration": 50,
    "start_time": "2022-04-23T12:20:38.593Z"
   },
   {
    "duration": 12,
    "start_time": "2022-04-23T12:20:38.646Z"
   },
   {
    "duration": 20,
    "start_time": "2022-04-23T12:20:38.661Z"
   },
   {
    "duration": 43,
    "start_time": "2022-04-23T12:20:38.683Z"
   },
   {
    "duration": 15,
    "start_time": "2022-04-23T12:20:38.728Z"
   },
   {
    "duration": 33,
    "start_time": "2022-04-23T12:20:38.745Z"
   },
   {
    "duration": 5,
    "start_time": "2022-04-23T12:20:38.780Z"
   },
   {
    "duration": 40,
    "start_time": "2022-04-23T12:20:38.787Z"
   },
   {
    "duration": 32,
    "start_time": "2022-04-23T12:20:38.830Z"
   },
   {
    "duration": 8,
    "start_time": "2022-04-23T12:20:38.865Z"
   },
   {
    "duration": 4553,
    "start_time": "2022-04-23T12:20:38.876Z"
   },
   {
    "duration": 8,
    "start_time": "2022-04-23T12:20:43.432Z"
   },
   {
    "duration": 32,
    "start_time": "2022-04-23T12:20:43.442Z"
   },
   {
    "duration": 6,
    "start_time": "2022-04-23T12:20:43.476Z"
   },
   {
    "duration": 147,
    "start_time": "2022-04-23T12:20:43.484Z"
   },
   {
    "duration": 0,
    "start_time": "2022-04-23T12:20:43.634Z"
   },
   {
    "duration": 18,
    "start_time": "2022-04-23T12:21:21.894Z"
   },
   {
    "duration": 20,
    "start_time": "2022-04-23T12:21:29.422Z"
   },
   {
    "duration": 6,
    "start_time": "2022-04-23T12:21:39.818Z"
   },
   {
    "duration": 18,
    "start_time": "2022-04-23T12:21:42.752Z"
   },
   {
    "duration": 617,
    "start_time": "2022-04-23T12:22:11.040Z"
   },
   {
    "duration": 14,
    "start_time": "2022-04-23T12:22:11.660Z"
   },
   {
    "duration": 14,
    "start_time": "2022-04-23T12:22:11.676Z"
   },
   {
    "duration": 55,
    "start_time": "2022-04-23T12:22:11.693Z"
   },
   {
    "duration": 12,
    "start_time": "2022-04-23T12:22:11.752Z"
   },
   {
    "duration": 85,
    "start_time": "2022-04-23T12:22:11.766Z"
   },
   {
    "duration": 9,
    "start_time": "2022-04-23T12:22:11.853Z"
   },
   {
    "duration": 21,
    "start_time": "2022-04-23T12:22:11.864Z"
   },
   {
    "duration": 55,
    "start_time": "2022-04-23T12:22:11.887Z"
   },
   {
    "duration": 31,
    "start_time": "2022-04-23T12:22:11.946Z"
   },
   {
    "duration": 9,
    "start_time": "2022-04-23T12:22:11.979Z"
   },
   {
    "duration": 37,
    "start_time": "2022-04-23T12:22:11.991Z"
   },
   {
    "duration": 29,
    "start_time": "2022-04-23T12:22:12.030Z"
   },
   {
    "duration": 13,
    "start_time": "2022-04-23T12:22:12.065Z"
   },
   {
    "duration": 44,
    "start_time": "2022-04-23T12:22:12.081Z"
   },
   {
    "duration": 9,
    "start_time": "2022-04-23T12:22:12.127Z"
   },
   {
    "duration": 27,
    "start_time": "2022-04-23T12:22:12.138Z"
   },
   {
    "duration": 10,
    "start_time": "2022-04-23T12:22:12.167Z"
   },
   {
    "duration": 45,
    "start_time": "2022-04-23T12:22:12.180Z"
   },
   {
    "duration": 11,
    "start_time": "2022-04-23T12:22:12.231Z"
   },
   {
    "duration": 13,
    "start_time": "2022-04-23T12:22:12.244Z"
   },
   {
    "duration": 11,
    "start_time": "2022-04-23T12:22:12.259Z"
   },
   {
    "duration": 20,
    "start_time": "2022-04-23T12:22:12.273Z"
   },
   {
    "duration": 14,
    "start_time": "2022-04-23T12:22:12.324Z"
   },
   {
    "duration": 14,
    "start_time": "2022-04-23T12:22:12.341Z"
   },
   {
    "duration": 13,
    "start_time": "2022-04-23T12:22:12.357Z"
   },
   {
    "duration": 11,
    "start_time": "2022-04-23T12:22:12.373Z"
   },
   {
    "duration": 34,
    "start_time": "2022-04-23T12:22:12.429Z"
   },
   {
    "duration": 28,
    "start_time": "2022-04-23T12:22:12.466Z"
   },
   {
    "duration": 52,
    "start_time": "2022-04-23T12:22:12.526Z"
   },
   {
    "duration": 9,
    "start_time": "2022-04-23T12:22:12.581Z"
   },
   {
    "duration": 59,
    "start_time": "2022-04-23T12:22:12.592Z"
   },
   {
    "duration": 14,
    "start_time": "2022-04-23T12:22:12.653Z"
   },
   {
    "duration": 20,
    "start_time": "2022-04-23T12:22:12.669Z"
   },
   {
    "duration": 38,
    "start_time": "2022-04-23T12:22:12.691Z"
   },
   {
    "duration": 18,
    "start_time": "2022-04-23T12:22:12.731Z"
   },
   {
    "duration": 32,
    "start_time": "2022-04-23T12:22:12.751Z"
   },
   {
    "duration": 38,
    "start_time": "2022-04-23T12:22:12.787Z"
   },
   {
    "duration": 7,
    "start_time": "2022-04-23T12:22:12.828Z"
   },
   {
    "duration": 45,
    "start_time": "2022-04-23T12:22:12.837Z"
   },
   {
    "duration": 17,
    "start_time": "2022-04-23T12:22:12.885Z"
   },
   {
    "duration": 5183,
    "start_time": "2022-04-23T12:22:12.925Z"
   },
   {
    "duration": 22,
    "start_time": "2022-04-23T12:22:18.110Z"
   },
   {
    "duration": 37,
    "start_time": "2022-04-23T12:22:18.134Z"
   },
   {
    "duration": 5,
    "start_time": "2022-04-23T12:22:18.174Z"
   },
   {
    "duration": 129,
    "start_time": "2022-04-23T12:22:18.181Z"
   },
   {
    "duration": 0,
    "start_time": "2022-04-23T12:22:18.314Z"
   },
   {
    "duration": 6,
    "start_time": "2022-04-23T12:22:56.089Z"
   },
   {
    "duration": 6,
    "start_time": "2022-04-23T12:23:15.537Z"
   },
   {
    "duration": 6,
    "start_time": "2022-04-23T12:23:18.343Z"
   },
   {
    "duration": 26,
    "start_time": "2022-04-23T12:23:20.638Z"
   },
   {
    "duration": 28,
    "start_time": "2022-04-23T12:27:53.786Z"
   },
   {
    "duration": 34,
    "start_time": "2022-04-23T12:29:06.133Z"
   },
   {
    "duration": 34,
    "start_time": "2022-04-23T12:30:28.347Z"
   },
   {
    "duration": 28,
    "start_time": "2022-04-23T12:32:18.532Z"
   },
   {
    "duration": 19,
    "start_time": "2022-04-23T12:46:06.912Z"
   },
   {
    "duration": 601,
    "start_time": "2022-04-23T12:46:19.465Z"
   },
   {
    "duration": 15,
    "start_time": "2022-04-23T12:46:20.069Z"
   },
   {
    "duration": 40,
    "start_time": "2022-04-23T12:46:20.086Z"
   },
   {
    "duration": 26,
    "start_time": "2022-04-23T12:46:20.128Z"
   },
   {
    "duration": 18,
    "start_time": "2022-04-23T12:46:20.158Z"
   },
   {
    "duration": 76,
    "start_time": "2022-04-23T12:46:20.178Z"
   },
   {
    "duration": 9,
    "start_time": "2022-04-23T12:46:20.257Z"
   },
   {
    "duration": 21,
    "start_time": "2022-04-23T12:46:20.268Z"
   },
   {
    "duration": 52,
    "start_time": "2022-04-23T12:46:20.291Z"
   },
   {
    "duration": 29,
    "start_time": "2022-04-23T12:46:20.345Z"
   },
   {
    "duration": 9,
    "start_time": "2022-04-23T12:46:20.376Z"
   },
   {
    "duration": 39,
    "start_time": "2022-04-23T12:46:20.387Z"
   },
   {
    "duration": 28,
    "start_time": "2022-04-23T12:46:20.428Z"
   },
   {
    "duration": 12,
    "start_time": "2022-04-23T12:46:20.460Z"
   },
   {
    "duration": 9,
    "start_time": "2022-04-23T12:46:20.474Z"
   },
   {
    "duration": 46,
    "start_time": "2022-04-23T12:46:20.485Z"
   },
   {
    "duration": 24,
    "start_time": "2022-04-23T12:46:20.533Z"
   },
   {
    "duration": 13,
    "start_time": "2022-04-23T12:46:20.559Z"
   },
   {
    "duration": 8,
    "start_time": "2022-04-23T12:46:20.574Z"
   },
   {
    "duration": 44,
    "start_time": "2022-04-23T12:46:20.585Z"
   },
   {
    "duration": 10,
    "start_time": "2022-04-23T12:46:20.631Z"
   },
   {
    "duration": 12,
    "start_time": "2022-04-23T12:46:20.643Z"
   },
   {
    "duration": 22,
    "start_time": "2022-04-23T12:46:20.656Z"
   },
   {
    "duration": 48,
    "start_time": "2022-04-23T12:46:20.680Z"
   },
   {
    "duration": 10,
    "start_time": "2022-04-23T12:46:20.730Z"
   },
   {
    "duration": 11,
    "start_time": "2022-04-23T12:46:20.742Z"
   },
   {
    "duration": 12,
    "start_time": "2022-04-23T12:46:20.755Z"
   },
   {
    "duration": 64,
    "start_time": "2022-04-23T12:46:20.769Z"
   },
   {
    "duration": 25,
    "start_time": "2022-04-23T12:46:20.835Z"
   },
   {
    "duration": 73,
    "start_time": "2022-04-23T12:46:20.862Z"
   },
   {
    "duration": 10,
    "start_time": "2022-04-23T12:46:20.937Z"
   },
   {
    "duration": 26,
    "start_time": "2022-04-23T12:46:20.949Z"
   },
   {
    "duration": 13,
    "start_time": "2022-04-23T12:46:20.977Z"
   },
   {
    "duration": 17,
    "start_time": "2022-04-23T12:46:21.024Z"
   },
   {
    "duration": 13,
    "start_time": "2022-04-23T12:46:21.043Z"
   },
   {
    "duration": 23,
    "start_time": "2022-04-23T12:46:21.058Z"
   },
   {
    "duration": 61,
    "start_time": "2022-04-23T12:46:21.083Z"
   },
   {
    "duration": 5,
    "start_time": "2022-04-23T12:46:21.146Z"
   },
   {
    "duration": 19,
    "start_time": "2022-04-23T12:46:21.154Z"
   },
   {
    "duration": 50,
    "start_time": "2022-04-23T12:46:21.176Z"
   },
   {
    "duration": 8,
    "start_time": "2022-04-23T12:46:21.232Z"
   },
   {
    "duration": 4712,
    "start_time": "2022-04-23T12:46:21.242Z"
   },
   {
    "duration": 8,
    "start_time": "2022-04-23T12:46:25.957Z"
   },
   {
    "duration": 35,
    "start_time": "2022-04-23T12:46:25.967Z"
   },
   {
    "duration": 6,
    "start_time": "2022-04-23T12:46:26.025Z"
   },
   {
    "duration": 34,
    "start_time": "2022-04-23T12:46:26.033Z"
   },
   {
    "duration": 62,
    "start_time": "2022-04-23T12:46:26.069Z"
   },
   {
    "duration": 122,
    "start_time": "2022-04-23T12:46:26.134Z"
   },
   {
    "duration": 31,
    "start_time": "2022-04-23T12:46:36.986Z"
   },
   {
    "duration": 20,
    "start_time": "2022-04-23T12:47:26.863Z"
   },
   {
    "duration": 28,
    "start_time": "2022-04-23T12:48:55.519Z"
   },
   {
    "duration": 20,
    "start_time": "2022-04-23T12:53:48.021Z"
   },
   {
    "duration": 32,
    "start_time": "2022-04-23T12:53:59.853Z"
   },
   {
    "duration": 105,
    "start_time": "2022-04-23T12:57:37.246Z"
   },
   {
    "duration": 29,
    "start_time": "2022-04-23T12:57:58.272Z"
   },
   {
    "duration": 26,
    "start_time": "2022-04-23T12:58:15.868Z"
   },
   {
    "duration": 32,
    "start_time": "2022-04-23T12:58:29.562Z"
   },
   {
    "duration": 38,
    "start_time": "2022-04-23T13:18:27.223Z"
   },
   {
    "duration": 33,
    "start_time": "2022-04-23T13:18:58.142Z"
   },
   {
    "duration": 6,
    "start_time": "2022-04-23T13:20:05.280Z"
   },
   {
    "duration": 15,
    "start_time": "2022-04-23T14:22:26.442Z"
   },
   {
    "duration": 11,
    "start_time": "2022-04-23T14:22:57.003Z"
   },
   {
    "duration": 648,
    "start_time": "2022-04-23T14:58:27.344Z"
   },
   {
    "duration": 14,
    "start_time": "2022-04-23T14:58:27.995Z"
   },
   {
    "duration": 28,
    "start_time": "2022-04-23T14:58:28.024Z"
   },
   {
    "duration": 38,
    "start_time": "2022-04-23T14:58:28.055Z"
   },
   {
    "duration": 13,
    "start_time": "2022-04-23T14:58:28.095Z"
   },
   {
    "duration": 61,
    "start_time": "2022-04-23T14:58:28.111Z"
   },
   {
    "duration": 10,
    "start_time": "2022-04-23T14:58:28.174Z"
   },
   {
    "duration": 50,
    "start_time": "2022-04-23T14:58:28.186Z"
   },
   {
    "duration": 30,
    "start_time": "2022-04-23T14:58:28.238Z"
   },
   {
    "duration": 52,
    "start_time": "2022-04-23T14:58:28.272Z"
   },
   {
    "duration": 10,
    "start_time": "2022-04-23T14:58:28.327Z"
   },
   {
    "duration": 12,
    "start_time": "2022-04-23T14:58:28.339Z"
   },
   {
    "duration": 27,
    "start_time": "2022-04-23T14:58:28.354Z"
   },
   {
    "duration": 49,
    "start_time": "2022-04-23T14:58:28.384Z"
   },
   {
    "duration": 8,
    "start_time": "2022-04-23T14:58:28.435Z"
   },
   {
    "duration": 15,
    "start_time": "2022-04-23T14:58:28.445Z"
   },
   {
    "duration": 27,
    "start_time": "2022-04-23T14:58:28.462Z"
   },
   {
    "duration": 40,
    "start_time": "2022-04-23T14:58:28.491Z"
   },
   {
    "duration": 13,
    "start_time": "2022-04-23T14:58:28.533Z"
   },
   {
    "duration": 13,
    "start_time": "2022-04-23T14:58:28.549Z"
   },
   {
    "duration": 12,
    "start_time": "2022-04-23T14:58:28.565Z"
   },
   {
    "duration": 48,
    "start_time": "2022-04-23T14:58:28.580Z"
   },
   {
    "duration": 23,
    "start_time": "2022-04-23T14:58:28.630Z"
   },
   {
    "duration": 15,
    "start_time": "2022-04-23T14:58:28.656Z"
   },
   {
    "duration": 13,
    "start_time": "2022-04-23T14:58:28.673Z"
   },
   {
    "duration": 40,
    "start_time": "2022-04-23T14:58:28.688Z"
   },
   {
    "duration": 11,
    "start_time": "2022-04-23T14:58:28.731Z"
   },
   {
    "duration": 35,
    "start_time": "2022-04-23T14:58:28.747Z"
   },
   {
    "duration": 58,
    "start_time": "2022-04-23T14:58:28.784Z"
   },
   {
    "duration": 53,
    "start_time": "2022-04-23T14:58:28.844Z"
   },
   {
    "duration": 36,
    "start_time": "2022-04-23T14:58:28.900Z"
   },
   {
    "duration": 33,
    "start_time": "2022-04-23T14:58:28.939Z"
   },
   {
    "duration": 18,
    "start_time": "2022-04-23T14:58:28.974Z"
   },
   {
    "duration": 46,
    "start_time": "2022-04-23T14:58:28.994Z"
   },
   {
    "duration": 12,
    "start_time": "2022-04-23T14:58:29.043Z"
   },
   {
    "duration": 19,
    "start_time": "2022-04-23T14:58:29.057Z"
   },
   {
    "duration": 55,
    "start_time": "2022-04-23T14:58:29.079Z"
   },
   {
    "duration": 4,
    "start_time": "2022-04-23T14:58:29.137Z"
   },
   {
    "duration": 13,
    "start_time": "2022-04-23T14:58:29.144Z"
   },
   {
    "duration": 29,
    "start_time": "2022-04-23T14:58:29.159Z"
   },
   {
    "duration": 42,
    "start_time": "2022-04-23T14:58:29.190Z"
   },
   {
    "duration": 5454,
    "start_time": "2022-04-23T14:58:29.235Z"
   },
   {
    "duration": 8,
    "start_time": "2022-04-23T14:58:34.692Z"
   },
   {
    "duration": 47,
    "start_time": "2022-04-23T14:58:34.703Z"
   },
   {
    "duration": 6,
    "start_time": "2022-04-23T14:58:34.752Z"
   },
   {
    "duration": 35,
    "start_time": "2022-04-23T14:58:34.760Z"
   },
   {
    "duration": 52,
    "start_time": "2022-04-23T14:58:34.798Z"
   },
   {
    "duration": 24,
    "start_time": "2022-04-23T14:58:34.853Z"
   },
   {
    "duration": 57,
    "start_time": "2022-04-23T14:58:34.880Z"
   },
   {
    "duration": 42,
    "start_time": "2022-04-23T14:58:34.940Z"
   },
   {
    "duration": 67,
    "start_time": "2022-04-23T14:58:34.985Z"
   },
   {
    "duration": 48,
    "start_time": "2022-04-23T14:58:35.055Z"
   },
   {
    "duration": 454,
    "start_time": "2022-04-30T10:14:14.404Z"
   },
   {
    "duration": 10,
    "start_time": "2022-04-30T10:14:14.860Z"
   },
   {
    "duration": 11,
    "start_time": "2022-04-30T10:14:14.874Z"
   },
   {
    "duration": 15,
    "start_time": "2022-04-30T10:14:14.886Z"
   },
   {
    "duration": 8,
    "start_time": "2022-04-30T10:14:14.902Z"
   },
   {
    "duration": 66,
    "start_time": "2022-04-30T10:14:14.911Z"
   },
   {
    "duration": 6,
    "start_time": "2022-04-30T10:14:14.979Z"
   },
   {
    "duration": 15,
    "start_time": "2022-04-30T10:14:14.987Z"
   },
   {
    "duration": 31,
    "start_time": "2022-04-30T10:14:15.007Z"
   },
   {
    "duration": 72,
    "start_time": "2022-04-30T10:14:15.040Z"
   },
   {
    "duration": 33,
    "start_time": "2022-04-30T10:14:15.114Z"
   },
   {
    "duration": 28,
    "start_time": "2022-04-30T10:14:15.149Z"
   },
   {
    "duration": 21,
    "start_time": "2022-04-30T10:14:15.178Z"
   },
   {
    "duration": 9,
    "start_time": "2022-04-30T10:14:15.200Z"
   },
   {
    "duration": 7,
    "start_time": "2022-04-30T10:14:15.211Z"
   },
   {
    "duration": 6,
    "start_time": "2022-04-30T10:14:15.220Z"
   },
   {
    "duration": 15,
    "start_time": "2022-04-30T10:14:15.228Z"
   },
   {
    "duration": 12,
    "start_time": "2022-04-30T10:14:15.245Z"
   },
   {
    "duration": 15,
    "start_time": "2022-04-30T10:14:15.259Z"
   },
   {
    "duration": 18,
    "start_time": "2022-04-30T10:14:15.276Z"
   },
   {
    "duration": 7,
    "start_time": "2022-04-30T10:14:15.296Z"
   },
   {
    "duration": 8,
    "start_time": "2022-04-30T10:14:15.305Z"
   },
   {
    "duration": 35,
    "start_time": "2022-04-30T10:14:15.314Z"
   },
   {
    "duration": 20,
    "start_time": "2022-04-30T10:14:15.351Z"
   },
   {
    "duration": 15,
    "start_time": "2022-04-30T10:14:15.373Z"
   },
   {
    "duration": 9,
    "start_time": "2022-04-30T10:14:15.391Z"
   },
   {
    "duration": 8,
    "start_time": "2022-04-30T10:14:15.403Z"
   },
   {
    "duration": 48,
    "start_time": "2022-04-30T10:14:15.412Z"
   },
   {
    "duration": 23,
    "start_time": "2022-04-30T10:14:15.462Z"
   },
   {
    "duration": 44,
    "start_time": "2022-04-30T10:14:15.487Z"
   },
   {
    "duration": 22,
    "start_time": "2022-04-30T10:14:15.533Z"
   },
   {
    "duration": 26,
    "start_time": "2022-04-30T10:14:15.557Z"
   },
   {
    "duration": 45,
    "start_time": "2022-04-30T10:14:15.585Z"
   },
   {
    "duration": 23,
    "start_time": "2022-04-30T10:14:15.632Z"
   },
   {
    "duration": 10,
    "start_time": "2022-04-30T10:14:15.656Z"
   },
   {
    "duration": 13,
    "start_time": "2022-04-30T10:14:15.668Z"
   },
   {
    "duration": 20,
    "start_time": "2022-04-30T10:14:15.683Z"
   },
   {
    "duration": 4,
    "start_time": "2022-04-30T10:14:15.704Z"
   },
   {
    "duration": 8,
    "start_time": "2022-04-30T10:14:15.710Z"
   },
   {
    "duration": 48,
    "start_time": "2022-04-30T10:14:15.720Z"
   },
   {
    "duration": 15,
    "start_time": "2022-04-30T10:14:15.770Z"
   },
   {
    "duration": 4004,
    "start_time": "2022-04-30T10:14:15.787Z"
   },
   {
    "duration": 7,
    "start_time": "2022-04-30T10:14:19.794Z"
   },
   {
    "duration": 28,
    "start_time": "2022-04-30T10:14:19.803Z"
   },
   {
    "duration": 21,
    "start_time": "2022-04-30T10:14:19.834Z"
   },
   {
    "duration": 20,
    "start_time": "2022-04-30T10:14:19.857Z"
   },
   {
    "duration": 19,
    "start_time": "2022-04-30T10:14:19.879Z"
   },
   {
    "duration": 14,
    "start_time": "2022-04-30T10:14:19.900Z"
   },
   {
    "duration": 45,
    "start_time": "2022-04-30T10:14:19.916Z"
   },
   {
    "duration": 17,
    "start_time": "2022-04-30T10:14:19.963Z"
   },
   {
    "duration": 18,
    "start_time": "2022-04-30T10:14:19.982Z"
   },
   {
    "duration": 20,
    "start_time": "2022-04-30T10:14:20.001Z"
   },
   {
    "duration": 521,
    "start_time": "2022-04-30T10:22:26.127Z"
   },
   {
    "duration": 12,
    "start_time": "2022-04-30T10:22:26.650Z"
   },
   {
    "duration": 10,
    "start_time": "2022-04-30T10:22:26.664Z"
   },
   {
    "duration": 15,
    "start_time": "2022-04-30T10:22:26.676Z"
   },
   {
    "duration": 11,
    "start_time": "2022-04-30T10:22:26.692Z"
   },
   {
    "duration": 63,
    "start_time": "2022-04-30T10:22:26.704Z"
   },
   {
    "duration": 8,
    "start_time": "2022-04-30T10:22:26.769Z"
   },
   {
    "duration": 15,
    "start_time": "2022-04-30T10:22:26.778Z"
   },
   {
    "duration": 20,
    "start_time": "2022-04-30T10:22:26.794Z"
   },
   {
    "duration": 39,
    "start_time": "2022-04-30T10:22:26.816Z"
   },
   {
    "duration": 5,
    "start_time": "2022-04-30T10:22:26.857Z"
   },
   {
    "duration": 6,
    "start_time": "2022-04-30T10:22:26.864Z"
   },
   {
    "duration": 19,
    "start_time": "2022-04-30T10:22:26.871Z"
   },
   {
    "duration": 8,
    "start_time": "2022-04-30T10:22:26.892Z"
   },
   {
    "duration": 5,
    "start_time": "2022-04-30T10:22:26.901Z"
   },
   {
    "duration": 6,
    "start_time": "2022-04-30T10:22:26.908Z"
   },
   {
    "duration": 47,
    "start_time": "2022-04-30T10:22:26.916Z"
   },
   {
    "duration": 8,
    "start_time": "2022-04-30T10:22:26.965Z"
   },
   {
    "duration": 17,
    "start_time": "2022-04-30T10:22:26.975Z"
   },
   {
    "duration": 10,
    "start_time": "2022-04-30T10:22:26.993Z"
   },
   {
    "duration": 7,
    "start_time": "2022-04-30T10:22:27.004Z"
   },
   {
    "duration": 6,
    "start_time": "2022-04-30T10:22:27.013Z"
   },
   {
    "duration": 12,
    "start_time": "2022-04-30T10:22:27.021Z"
   },
   {
    "duration": 23,
    "start_time": "2022-04-30T10:22:27.035Z"
   },
   {
    "duration": 9,
    "start_time": "2022-04-30T10:22:27.059Z"
   },
   {
    "duration": 9,
    "start_time": "2022-04-30T10:22:27.070Z"
   },
   {
    "duration": 8,
    "start_time": "2022-04-30T10:22:27.080Z"
   },
   {
    "duration": 21,
    "start_time": "2022-04-30T10:22:27.092Z"
   },
   {
    "duration": 15,
    "start_time": "2022-04-30T10:22:27.114Z"
   },
   {
    "duration": 28,
    "start_time": "2022-04-30T10:22:27.155Z"
   },
   {
    "duration": 6,
    "start_time": "2022-04-30T10:22:27.184Z"
   },
   {
    "duration": 17,
    "start_time": "2022-04-30T10:22:27.192Z"
   },
   {
    "duration": 7,
    "start_time": "2022-04-30T10:22:27.210Z"
   },
   {
    "duration": 14,
    "start_time": "2022-04-30T10:22:27.218Z"
   },
   {
    "duration": 7,
    "start_time": "2022-04-30T10:22:27.255Z"
   },
   {
    "duration": 11,
    "start_time": "2022-04-30T10:22:27.263Z"
   },
   {
    "duration": 18,
    "start_time": "2022-04-30T10:22:27.275Z"
   },
   {
    "duration": 2,
    "start_time": "2022-04-30T10:22:27.295Z"
   },
   {
    "duration": 5,
    "start_time": "2022-04-30T10:22:27.299Z"
   },
   {
    "duration": 17,
    "start_time": "2022-04-30T10:22:27.305Z"
   },
   {
    "duration": 31,
    "start_time": "2022-04-30T10:22:27.324Z"
   },
   {
    "duration": 3342,
    "start_time": "2022-04-30T10:22:27.357Z"
   },
   {
    "duration": 6,
    "start_time": "2022-04-30T10:22:30.701Z"
   },
   {
    "duration": 44,
    "start_time": "2022-04-30T10:22:30.708Z"
   },
   {
    "duration": 4,
    "start_time": "2022-04-30T10:22:30.753Z"
   },
   {
    "duration": 22,
    "start_time": "2022-04-30T10:22:30.759Z"
   },
   {
    "duration": 19,
    "start_time": "2022-04-30T10:22:30.783Z"
   },
   {
    "duration": 15,
    "start_time": "2022-04-30T10:22:30.803Z"
   },
   {
    "duration": 46,
    "start_time": "2022-04-30T10:22:30.819Z"
   },
   {
    "duration": 17,
    "start_time": "2022-04-30T10:22:30.866Z"
   },
   {
    "duration": 17,
    "start_time": "2022-04-30T10:22:30.884Z"
   },
   {
    "duration": 18,
    "start_time": "2022-04-30T10:22:30.902Z"
   },
   {
    "duration": 149,
    "start_time": "2022-04-30T10:25:45.223Z"
   },
   {
    "duration": 154,
    "start_time": "2022-04-30T10:28:34.171Z"
   },
   {
    "duration": 516,
    "start_time": "2022-04-30T10:36:54.616Z"
   },
   {
    "duration": 10,
    "start_time": "2022-04-30T10:36:55.134Z"
   },
   {
    "duration": 66,
    "start_time": "2022-04-30T10:36:55.145Z"
   },
   {
    "duration": 22,
    "start_time": "2022-04-30T10:36:55.213Z"
   },
   {
    "duration": 10,
    "start_time": "2022-04-30T10:36:55.236Z"
   },
   {
    "duration": 43,
    "start_time": "2022-04-30T10:36:55.247Z"
   },
   {
    "duration": 7,
    "start_time": "2022-04-30T10:36:55.292Z"
   },
   {
    "duration": 24,
    "start_time": "2022-04-30T10:36:55.301Z"
   },
   {
    "duration": 38,
    "start_time": "2022-04-30T10:36:55.327Z"
   },
   {
    "duration": 31,
    "start_time": "2022-04-30T10:36:55.369Z"
   },
   {
    "duration": 62,
    "start_time": "2022-04-30T10:36:55.402Z"
   },
   {
    "duration": 49,
    "start_time": "2022-04-30T10:36:55.470Z"
   },
   {
    "duration": 59,
    "start_time": "2022-04-30T10:36:55.521Z"
   },
   {
    "duration": 20,
    "start_time": "2022-04-30T10:36:55.581Z"
   },
   {
    "duration": 17,
    "start_time": "2022-04-30T10:36:55.602Z"
   },
   {
    "duration": 12,
    "start_time": "2022-04-30T10:36:55.621Z"
   },
   {
    "duration": 17,
    "start_time": "2022-04-30T10:36:55.635Z"
   },
   {
    "duration": 24,
    "start_time": "2022-04-30T10:36:55.653Z"
   },
   {
    "duration": 29,
    "start_time": "2022-04-30T10:36:55.678Z"
   },
   {
    "duration": 41,
    "start_time": "2022-04-30T10:36:55.708Z"
   },
   {
    "duration": 31,
    "start_time": "2022-04-30T10:36:55.750Z"
   },
   {
    "duration": 31,
    "start_time": "2022-04-30T10:36:55.783Z"
   },
   {
    "duration": 27,
    "start_time": "2022-04-30T10:36:55.815Z"
   },
   {
    "duration": 36,
    "start_time": "2022-04-30T10:36:55.844Z"
   },
   {
    "duration": 13,
    "start_time": "2022-04-30T10:36:55.881Z"
   },
   {
    "duration": 9,
    "start_time": "2022-04-30T10:36:55.896Z"
   },
   {
    "duration": 11,
    "start_time": "2022-04-30T10:36:55.906Z"
   },
   {
    "duration": 31,
    "start_time": "2022-04-30T10:36:55.920Z"
   },
   {
    "duration": 8,
    "start_time": "2022-04-30T10:36:55.953Z"
   },
   {
    "duration": 30,
    "start_time": "2022-04-30T10:36:55.963Z"
   },
   {
    "duration": 25,
    "start_time": "2022-04-30T10:36:55.995Z"
   },
   {
    "duration": 56,
    "start_time": "2022-04-30T10:36:56.021Z"
   },
   {
    "duration": 8,
    "start_time": "2022-04-30T10:36:56.079Z"
   },
   {
    "duration": 24,
    "start_time": "2022-04-30T10:36:56.088Z"
   },
   {
    "duration": 22,
    "start_time": "2022-04-30T10:36:56.114Z"
   },
   {
    "duration": 62,
    "start_time": "2022-04-30T10:36:56.138Z"
   },
   {
    "duration": 36,
    "start_time": "2022-04-30T10:36:56.202Z"
   },
   {
    "duration": 3,
    "start_time": "2022-04-30T10:36:56.240Z"
   },
   {
    "duration": 16,
    "start_time": "2022-04-30T10:36:56.245Z"
   },
   {
    "duration": 32,
    "start_time": "2022-04-30T10:36:56.263Z"
   },
   {
    "duration": 10,
    "start_time": "2022-04-30T10:36:56.297Z"
   },
   {
    "duration": 3926,
    "start_time": "2022-04-30T10:36:56.309Z"
   },
   {
    "duration": 20,
    "start_time": "2022-04-30T10:37:00.238Z"
   },
   {
    "duration": 33,
    "start_time": "2022-04-30T10:37:00.261Z"
   },
   {
    "duration": 6,
    "start_time": "2022-04-30T10:37:00.296Z"
   },
   {
    "duration": 41,
    "start_time": "2022-04-30T10:37:00.304Z"
   },
   {
    "duration": 29,
    "start_time": "2022-04-30T10:37:00.346Z"
   },
   {
    "duration": 63,
    "start_time": "2022-04-30T10:37:00.377Z"
   },
   {
    "duration": 91,
    "start_time": "2022-04-30T10:37:00.442Z"
   },
   {
    "duration": 62,
    "start_time": "2022-04-30T10:37:00.534Z"
   },
   {
    "duration": 35,
    "start_time": "2022-04-30T10:37:00.598Z"
   },
   {
    "duration": 57,
    "start_time": "2022-04-30T10:37:00.636Z"
   },
   {
    "duration": 39,
    "start_time": "2022-04-30T10:37:29.352Z"
   },
   {
    "duration": 205,
    "start_time": "2022-04-30T10:43:32.635Z"
   },
   {
    "duration": 575,
    "start_time": "2022-05-01T09:00:40.875Z"
   },
   {
    "duration": 14,
    "start_time": "2022-05-01T09:00:41.459Z"
   },
   {
    "duration": 24,
    "start_time": "2022-05-01T09:00:41.478Z"
   },
   {
    "duration": 24,
    "start_time": "2022-05-01T09:00:41.504Z"
   },
   {
    "duration": 32,
    "start_time": "2022-05-01T09:00:41.530Z"
   },
   {
    "duration": 38,
    "start_time": "2022-05-01T09:00:41.565Z"
   },
   {
    "duration": 7,
    "start_time": "2022-05-01T09:00:41.605Z"
   },
   {
    "duration": 49,
    "start_time": "2022-05-01T09:00:41.614Z"
   },
   {
    "duration": 30,
    "start_time": "2022-05-01T09:00:41.668Z"
   },
   {
    "duration": 32,
    "start_time": "2022-05-01T09:00:41.700Z"
   },
   {
    "duration": 8,
    "start_time": "2022-05-01T09:00:41.735Z"
   },
   {
    "duration": 21,
    "start_time": "2022-05-01T09:00:41.753Z"
   },
   {
    "duration": 25,
    "start_time": "2022-05-01T09:00:41.777Z"
   },
   {
    "duration": 8,
    "start_time": "2022-05-01T09:00:41.804Z"
   },
   {
    "duration": 5,
    "start_time": "2022-05-01T09:00:41.813Z"
   },
   {
    "duration": 7,
    "start_time": "2022-05-01T09:00:41.820Z"
   },
   {
    "duration": 37,
    "start_time": "2022-05-01T09:00:41.829Z"
   },
   {
    "duration": 16,
    "start_time": "2022-05-01T09:00:41.868Z"
   },
   {
    "duration": 9,
    "start_time": "2022-05-01T09:00:41.886Z"
   },
   {
    "duration": 14,
    "start_time": "2022-05-01T09:00:41.897Z"
   },
   {
    "duration": 14,
    "start_time": "2022-05-01T09:00:41.912Z"
   },
   {
    "duration": 9,
    "start_time": "2022-05-01T09:00:41.929Z"
   },
   {
    "duration": 17,
    "start_time": "2022-05-01T09:00:41.959Z"
   },
   {
    "duration": 9,
    "start_time": "2022-05-01T09:00:41.978Z"
   },
   {
    "duration": 11,
    "start_time": "2022-05-01T09:00:41.989Z"
   },
   {
    "duration": 10,
    "start_time": "2022-05-01T09:00:42.002Z"
   },
   {
    "duration": 10,
    "start_time": "2022-05-01T09:00:42.017Z"
   },
   {
    "duration": 42,
    "start_time": "2022-05-01T09:00:42.054Z"
   },
   {
    "duration": 9,
    "start_time": "2022-05-01T09:00:42.098Z"
   },
   {
    "duration": 25,
    "start_time": "2022-05-01T09:00:42.109Z"
   },
   {
    "duration": 39,
    "start_time": "2022-05-01T09:00:42.136Z"
   },
   {
    "duration": 31,
    "start_time": "2022-05-01T09:00:42.177Z"
   },
   {
    "duration": 8,
    "start_time": "2022-05-01T09:00:42.210Z"
   },
   {
    "duration": 10,
    "start_time": "2022-05-01T09:00:42.220Z"
   },
   {
    "duration": 30,
    "start_time": "2022-05-01T09:00:42.232Z"
   },
   {
    "duration": 22,
    "start_time": "2022-05-01T09:00:42.264Z"
   },
   {
    "duration": 20,
    "start_time": "2022-05-01T09:00:42.288Z"
   },
   {
    "duration": 3,
    "start_time": "2022-05-01T09:00:42.309Z"
   },
   {
    "duration": 6,
    "start_time": "2022-05-01T09:00:42.314Z"
   },
   {
    "duration": 44,
    "start_time": "2022-05-01T09:00:42.321Z"
   },
   {
    "duration": 6,
    "start_time": "2022-05-01T09:00:42.367Z"
   },
   {
    "duration": 3812,
    "start_time": "2022-05-01T09:00:42.374Z"
   },
   {
    "duration": 6,
    "start_time": "2022-05-01T09:00:46.188Z"
   },
   {
    "duration": 30,
    "start_time": "2022-05-01T09:00:46.196Z"
   },
   {
    "duration": 10,
    "start_time": "2022-05-01T09:00:46.228Z"
   },
   {
    "duration": 45,
    "start_time": "2022-05-01T09:00:46.240Z"
   },
   {
    "duration": 23,
    "start_time": "2022-05-01T09:00:46.287Z"
   },
   {
    "duration": 23,
    "start_time": "2022-05-01T09:00:46.312Z"
   },
   {
    "duration": 38,
    "start_time": "2022-05-01T09:00:46.337Z"
   },
   {
    "duration": 28,
    "start_time": "2022-05-01T09:00:46.377Z"
   },
   {
    "duration": 49,
    "start_time": "2022-05-01T09:00:46.407Z"
   },
   {
    "duration": 22,
    "start_time": "2022-05-01T09:00:46.462Z"
   },
   {
    "duration": 525,
    "start_time": "2022-05-01T09:01:30.820Z"
   },
   {
    "duration": 13,
    "start_time": "2022-05-01T09:01:31.347Z"
   },
   {
    "duration": 32,
    "start_time": "2022-05-01T09:01:31.364Z"
   },
   {
    "duration": 21,
    "start_time": "2022-05-01T09:01:31.398Z"
   },
   {
    "duration": 9,
    "start_time": "2022-05-01T09:01:31.420Z"
   },
   {
    "duration": 50,
    "start_time": "2022-05-01T09:01:31.431Z"
   },
   {
    "duration": 7,
    "start_time": "2022-05-01T09:01:31.483Z"
   },
   {
    "duration": 20,
    "start_time": "2022-05-01T09:01:31.492Z"
   },
   {
    "duration": 30,
    "start_time": "2022-05-01T09:01:31.514Z"
   },
   {
    "duration": 35,
    "start_time": "2022-05-01T09:01:31.554Z"
   },
   {
    "duration": 89,
    "start_time": "2022-05-01T09:01:31.591Z"
   },
   {
    "duration": 292,
    "start_time": "2022-05-01T09:01:31.681Z"
   },
   {
    "duration": 76,
    "start_time": "2022-05-01T09:01:31.977Z"
   },
   {
    "duration": 13,
    "start_time": "2022-05-01T09:01:32.055Z"
   },
   {
    "duration": 32,
    "start_time": "2022-05-01T09:01:32.070Z"
   },
   {
    "duration": 27,
    "start_time": "2022-05-01T09:01:32.104Z"
   },
   {
    "duration": 37,
    "start_time": "2022-05-01T09:01:32.133Z"
   },
   {
    "duration": 33,
    "start_time": "2022-05-01T09:01:32.172Z"
   },
   {
    "duration": 11,
    "start_time": "2022-05-01T09:01:32.206Z"
   },
   {
    "duration": 34,
    "start_time": "2022-05-01T09:01:32.218Z"
   },
   {
    "duration": 35,
    "start_time": "2022-05-01T09:01:32.254Z"
   },
   {
    "duration": 55,
    "start_time": "2022-05-01T09:01:32.290Z"
   },
   {
    "duration": 57,
    "start_time": "2022-05-01T09:01:32.346Z"
   },
   {
    "duration": 35,
    "start_time": "2022-05-01T09:01:32.404Z"
   },
   {
    "duration": 30,
    "start_time": "2022-05-01T09:01:32.441Z"
   },
   {
    "duration": 21,
    "start_time": "2022-05-01T09:01:32.473Z"
   },
   {
    "duration": 61,
    "start_time": "2022-05-01T09:01:32.495Z"
   },
   {
    "duration": 35,
    "start_time": "2022-05-01T09:01:32.561Z"
   },
   {
    "duration": 6,
    "start_time": "2022-05-01T09:01:32.598Z"
   },
   {
    "duration": 38,
    "start_time": "2022-05-01T09:01:32.606Z"
   },
   {
    "duration": 46,
    "start_time": "2022-05-01T09:01:32.646Z"
   },
   {
    "duration": 32,
    "start_time": "2022-05-01T09:01:32.694Z"
   },
   {
    "duration": 50,
    "start_time": "2022-05-01T09:01:32.728Z"
   },
   {
    "duration": 141,
    "start_time": "2022-05-01T09:01:32.780Z"
   },
   {
    "duration": 22,
    "start_time": "2022-05-01T09:01:32.923Z"
   },
   {
    "duration": 38,
    "start_time": "2022-05-01T09:01:32.947Z"
   },
   {
    "duration": 20,
    "start_time": "2022-05-01T09:01:32.987Z"
   },
   {
    "duration": 4,
    "start_time": "2022-05-01T09:01:33.009Z"
   },
   {
    "duration": 30,
    "start_time": "2022-05-01T09:01:33.014Z"
   },
   {
    "duration": 33,
    "start_time": "2022-05-01T09:01:33.045Z"
   },
   {
    "duration": 15,
    "start_time": "2022-05-01T09:01:33.080Z"
   },
   {
    "duration": 3610,
    "start_time": "2022-05-01T09:01:33.097Z"
   },
   {
    "duration": 6,
    "start_time": "2022-05-01T09:01:36.709Z"
   },
   {
    "duration": 36,
    "start_time": "2022-05-01T09:01:36.716Z"
   },
   {
    "duration": 24,
    "start_time": "2022-05-01T09:01:36.760Z"
   },
   {
    "duration": 173,
    "start_time": "2022-05-01T09:01:36.786Z"
   },
   {
    "duration": 78,
    "start_time": "2022-05-01T09:01:36.961Z"
   },
   {
    "duration": 69,
    "start_time": "2022-05-01T09:01:37.041Z"
   },
   {
    "duration": 41,
    "start_time": "2022-05-01T09:01:37.112Z"
   },
   {
    "duration": 34,
    "start_time": "2022-05-01T09:01:37.155Z"
   },
   {
    "duration": 39,
    "start_time": "2022-05-01T09:01:37.191Z"
   },
   {
    "duration": 45,
    "start_time": "2022-05-01T09:01:37.232Z"
   }
  ],
  "kernelspec": {
   "display_name": "Python 3 (ipykernel)",
   "language": "python",
   "name": "python3"
  },
  "language_info": {
   "codemirror_mode": {
    "name": "ipython",
    "version": 3
   },
   "file_extension": ".py",
   "mimetype": "text/x-python",
   "name": "python",
   "nbconvert_exporter": "python",
   "pygments_lexer": "ipython3",
   "version": "3.9.12"
  },
  "toc": {
   "base_numbering": 1,
   "nav_menu": {},
   "number_sections": true,
   "sideBar": true,
   "skip_h1_title": true,
   "title_cell": "Table of Contents",
   "title_sidebar": "Contents",
   "toc_cell": false,
   "toc_position": {
    "height": "calc(100% - 180px)",
    "left": "10px",
    "top": "150px",
    "width": "366.391px"
   },
   "toc_section_display": true,
   "toc_window_display": false
  }
 },
 "nbformat": 4,
 "nbformat_minor": 5
}
